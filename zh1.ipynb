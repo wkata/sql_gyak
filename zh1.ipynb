{
    "metadata": {
        "kernelspec": {
            "name": "SQL",
            "display_name": "SQL",
            "language": "sql"
        },
        "language_info": {
            "name": "sql",
            "version": ""
        }
    },
    "nbformat_minor": 2,
    "nbformat": 4,
    "cells": [
        {
            "cell_type": "code",
            "source": [
                "SELECT ROGZITETTE,\r\n",
                "       SZALLAS_NEV,\r\n",
                "       CIM\r\n",
                "FROM szallashely\r\n",
                "Where month(rogz_ido)='03' AND hely LIKE '%Balaton%'\r\n",
                "ORDER BY CSILLAGOK_SZAMA DESC"
            ],
            "metadata": {
                "azdata_cell_guid": "0f12c2dc-5c34-48ac-ab55-01158324837e",
                "language": "sql"
            },
            "outputs": [
                {
                    "output_type": "display_data",
                    "data": {
                        "text/html": "(7 rows affected)"
                    },
                    "metadata": {}
                },
                {
                    "output_type": "display_data",
                    "data": {
                        "text/html": "Total execution time: 00:00:00.002"
                    },
                    "metadata": {}
                },
                {
                    "output_type": "execute_result",
                    "execution_count": 1,
                    "data": {
                        "application/vnd.dataresource+json": {
                            "schema": {
                                "fields": [
                                    {
                                        "name": "ROGZITETTE"
                                    },
                                    {
                                        "name": "SZALLAS_NEV"
                                    },
                                    {
                                        "name": "CIM"
                                    }
                                ]
                            },
                            "data": [
                                {
                                    "ROGZITETTE": "Béla",
                                    "SZALLAS_NEV": "Hotel Három Hattyú",
                                    "CIM": "8623 Balatonföldvár, Rákóczi Ferenc út 45."
                                },
                                {
                                    "ROGZITETTE": "Mari",
                                    "SZALLAS_NEV": "Jáde panzió",
                                    "CIM": "8624 Balatonföldvár, Kiss u.2."
                                },
                                {
                                    "ROGZITETTE": "Béla",
                                    "SZALLAS_NEV": "Kentaur Hotel",
                                    "CIM": "8600 Siófok (Széplak), Akácfa utca 1"
                                },
                                {
                                    "ROGZITETTE": "Béla",
                                    "SZALLAS_NEV": "Tímárház Panzió",
                                    "CIM": "8600 Siófok, Virág utca 1"
                                },
                                {
                                    "ROGZITETTE": "Béla",
                                    "SZALLAS_NEV": "Családi Ház",
                                    "CIM": "8630 Balatonboglár, József Attila utca 25"
                                },
                                {
                                    "ROGZITETTE": "Mari",
                                    "SZALLAS_NEV": "Szieszta Apartmanház",
                                    "CIM": "8630 Balatonboglár, Dózsa György utca 108"
                                },
                                {
                                    "ROGZITETTE": "Béla",
                                    "SZALLAS_NEV": "Partiszél Vendégház",
                                    "CIM": "8220 Balatonalmádi Neptun u. 23."
                                }
                            ]
                        },
                        "text/html": "<table><tr><th>ROGZITETTE</th><th>SZALLAS_NEV</th><th>CIM</th></tr><tr><td>Béla</td><td>Hotel Három Hattyú</td><td>8623 Balatonföldvár, Rákóczi Ferenc út 45.</td></tr><tr><td>Mari</td><td>Jáde panzió</td><td>8624 Balatonföldvár, Kiss u.2.</td></tr><tr><td>Béla</td><td>Kentaur Hotel</td><td>8600 Siófok (Széplak), Akácfa utca 1</td></tr><tr><td>Béla</td><td>Tímárház Panzió</td><td>8600 Siófok, Virág utca 1</td></tr><tr><td>Béla</td><td>Családi Ház</td><td>8630 Balatonboglár, József Attila utca 25</td></tr><tr><td>Mari</td><td>Szieszta Apartmanház</td><td>8630 Balatonboglár, Dózsa György utca 108</td></tr><tr><td>Béla</td><td>Partiszél Vendégház</td><td>8220 Balatonalmádi Neptun u. 23.</td></tr></table>"
                    },
                    "metadata": {}
                }
            ],
            "execution_count": 1
        },
        {
            "cell_type": "code",
            "source": [
                "\r\n",
                ""
            ],
            "metadata": {
                "azdata_cell_guid": "633e2f34-7684-4ab5-afc7-04825b56d4bd",
                "language": "sql"
            },
            "outputs": [
                {
                    "output_type": "display_data",
                    "data": {
                        "text/html": "(3 rows affected)"
                    },
                    "metadata": {}
                },
                {
                    "output_type": "display_data",
                    "data": {
                        "text/html": "Total execution time: 00:00:00.007"
                    },
                    "metadata": {}
                },
                {
                    "output_type": "execute_result",
                    "execution_count": 8,
                    "data": {
                        "application/vnd.dataresource+json": {
                            "schema": {
                                "fields": [
                                    {
                                        "name": "TIPUS"
                                    },
                                    {
                                        "name": "(No column name)"
                                    }
                                ]
                            },
                            "data": [
                                {
                                    "TIPUS": "Apartman",
                                    "(No column name)": "100"
                                },
                                {
                                    "TIPUS": "vendégház",
                                    "(No column name)": "100"
                                },
                                {
                                    "TIPUS": "panzió",
                                    "(No column name)": "200"
                                }
                            ]
                        },
                        "text/html": "<table><tr><th>TIPUS</th><th>(No column name)</th></tr><tr><td>Apartman</td><td>100</td></tr><tr><td>vendégház</td><td>100</td></tr><tr><td>panzió</td><td>200</td></tr></table>"
                    },
                    "metadata": {}
                }
            ],
            "execution_count": 8
        },
        {
            "cell_type": "code",
            "source": [
                ""
            ],
            "metadata": {
                "azdata_cell_guid": "ac5ffdcf-a406-4f56-89ee-ae17f0d155c0",
                "language": "sql"
            },
            "outputs": [],
            "execution_count": null
        }
    ]
}