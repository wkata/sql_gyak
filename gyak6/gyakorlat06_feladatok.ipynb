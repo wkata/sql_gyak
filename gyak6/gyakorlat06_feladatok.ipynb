{
    "metadata": {
        "kernelspec": {
            "name": "SQL",
            "display_name": "SQL",
            "language": "sql"
        },
        "language_info": {
            "name": "sql",
            "version": ""
        }
    },
    "nbformat_minor": 2,
    "nbformat": 4,
    "cells": [
        {
            "cell_type": "markdown",
            "source": [
                "1. <span style=\"background-color: rgb(255, 255, 255); color: rgb(0, 0, 0); font-family: &quot;Open Sans&quot;, sans-serif; font-size: 14.44px;\">Készítsünk sorszámozott listát a szálláshelyek adatairól!&nbsp;</span> \n",
                "\n",
                "a. A lista legyen a szálláshely típusa szerint, azon belül hely szerint, majd a neve szerint növekvően rendezve! \n",
                "\n",
                "b. A számozás típusonként kezdődjön újra!"
            ],
            "metadata": {
                "azdata_cell_guid": "363cd270-6577-449b-9c89-d4b7c7972d52"
            },
            "attachments": {}
        },
        {
            "cell_type": "code",
            "source": [
                "SELECT ROW_NUMBER() OVER (partition by tipus ORDER BY tipus, hely, szallas_nev) As 'sorszam',\r\n",
                "*\r\n",
                "FROM szallashely"
            ],
            "metadata": {
                "azdata_cell_guid": "6ab9f633-a3b5-48c9-a1dc-4fb8235ae85b",
                "language": "sql"
            },
            "outputs": [
                {
                    "output_type": "display_data",
                    "data": {
                        "text/html": "(22 rows affected)"
                    },
                    "metadata": {}
                },
                {
                    "output_type": "display_data",
                    "data": {
                        "text/html": "Total execution time: 00:00:00.033"
                    },
                    "metadata": {}
                },
                {
                    "output_type": "execute_result",
                    "execution_count": 4,
                    "data": {
                        "application/vnd.dataresource+json": {
                            "schema": {
                                "fields": [
                                    {
                                        "name": "sorszam"
                                    },
                                    {
                                        "name": "SZALLAS_ID"
                                    },
                                    {
                                        "name": "SZALLAS_NEV"
                                    },
                                    {
                                        "name": "HELY"
                                    },
                                    {
                                        "name": "CSILLAGOK_SZAMA"
                                    },
                                    {
                                        "name": "TIPUS"
                                    },
                                    {
                                        "name": "ROGZITETTE"
                                    },
                                    {
                                        "name": "ROGZ_IDO"
                                    },
                                    {
                                        "name": "CIM"
                                    }
                                ]
                            },
                            "data": [
                                {
                                    "sorszam": "1",
                                    "SZALLAS_ID": "7",
                                    "SZALLAS_NEV": "Szieszta Apartmanház",
                                    "HELY": "Balaton-dél",
                                    "CSILLAGOK_SZAMA": "0",
                                    "TIPUS": "Apartman",
                                    "ROGZITETTE": "Mari",
                                    "ROGZ_IDO": "2016-03-11",
                                    "CIM": "8630 Balatonboglár, Dózsa György utca 108"
                                },
                                {
                                    "sorszam": "2",
                                    "SZALLAS_ID": "18",
                                    "SZALLAS_NEV": "Fortuna Apartman",
                                    "HELY": "Dél-Somogy",
                                    "CSILLAGOK_SZAMA": "0",
                                    "TIPUS": "Apartman",
                                    "ROGZITETTE": "Béla",
                                    "ROGZ_IDO": "2016-04-07",
                                    "CIM": "7570 Barcs, Kossuth u. 13."
                                },
                                {
                                    "sorszam": "3",
                                    "SZALLAS_ID": "3",
                                    "SZALLAS_NEV": "Fortuna Apartman",
                                    "HELY": "Hajdúbihar megye",
                                    "CSILLAGOK_SZAMA": "0",
                                    "TIPUS": "Apartman",
                                    "ROGZITETTE": "Sára",
                                    "ROGZ_IDO": "2016-03-06",
                                    "CIM": "4200 Hajdúszoboszló, Wesselényi utca 56."
                                },
                                {
                                    "sorszam": "1",
                                    "SZALLAS_ID": "20",
                                    "SZALLAS_NEV": "Kollégium",
                                    "HELY": "Budapest",
                                    "CSILLAGOK_SZAMA": "0",
                                    "TIPUS": "Diákszálló",
                                    "ROGZITETTE": "Sára",
                                    "ROGZ_IDO": "2016-04-07",
                                    "CIM": "1146 Budapest, Ajtósi Dürer sor 23."
                                },
                                {
                                    "sorszam": "1",
                                    "SZALLAS_ID": "0",
                                    "SZALLAS_NEV": "Fortuna Apartman",
                                    "HELY": "ee",
                                    "CSILLAGOK_SZAMA": "2",
                                    "TIPUS": "ee",
                                    "ROGZITETTE": "Sára",
                                    "ROGZ_IDO": "2016-03-06",
                                    "CIM": "ee"
                                },
                                {
                                    "sorszam": "1",
                                    "SZALLAS_ID": "8",
                                    "SZALLAS_NEV": "Hotel Három Hattyú",
                                    "HELY": "Balaton-dél",
                                    "CSILLAGOK_SZAMA": "4",
                                    "TIPUS": "Hotel",
                                    "ROGZITETTE": "Béla",
                                    "ROGZ_IDO": "2016-03-13",
                                    "CIM": "8623 Balatonföldvár, Rákóczi Ferenc út 45."
                                },
                                {
                                    "sorszam": "2",
                                    "SZALLAS_ID": "6",
                                    "SZALLAS_NEV": "Kentaur Hotel",
                                    "HELY": "Balaton-dél",
                                    "CSILLAGOK_SZAMA": "3",
                                    "TIPUS": "Hotel",
                                    "ROGZITETTE": "Béla",
                                    "ROGZ_IDO": "2016-03-08",
                                    "CIM": "8600 Siófok (Széplak), Akácfa utca 1"
                                },
                                {
                                    "sorszam": "3",
                                    "SZALLAS_ID": "12",
                                    "SZALLAS_NEV": "Gold Hotel",
                                    "HELY": "Budapest",
                                    "CSILLAGOK_SZAMA": "3",
                                    "TIPUS": "Hotel",
                                    "ROGZITETTE": "Béla",
                                    "ROGZ_IDO": "2016-03-24",
                                    "CIM": "1016 Budapest, Hegyalja út 12"
                                },
                                {
                                    "sorszam": "4",
                                    "SZALLAS_ID": "10",
                                    "SZALLAS_NEV": "Lagúna Hotel",
                                    "HELY": "Budapest",
                                    "CSILLAGOK_SZAMA": "4",
                                    "TIPUS": "Hotel",
                                    "ROGZITETTE": "Sára",
                                    "ROGZ_IDO": "2016-03-20",
                                    "CIM": "1097 Budapest, Albert Flórián út 3"
                                },
                                {
                                    "sorszam": "5",
                                    "SZALLAS_ID": "16",
                                    "SZALLAS_NEV": "Bagoly Hotel",
                                    "HELY": "Pest megye",
                                    "CSILLAGOK_SZAMA": "3",
                                    "TIPUS": "Hotel",
                                    "ROGZITETTE": "Mari",
                                    "ROGZ_IDO": "2016-04-01",
                                    "CIM": "2230 Gyömrő, Bergszász u. 5."
                                },
                                {
                                    "sorszam": "6",
                                    "SZALLAS_ID": "17",
                                    "SZALLAS_NEV": "Szarvas Hotel",
                                    "HELY": "Tolna megye",
                                    "CSILLAGOK_SZAMA": "4",
                                    "TIPUS": "Hotel",
                                    "ROGZITETTE": "Béla",
                                    "ROGZ_IDO": "2016-04-04",
                                    "CIM": "7121 Szálka, Petőfi Sándor u."
                                },
                                {
                                    "sorszam": "1",
                                    "SZALLAS_ID": "9",
                                    "SZALLAS_NEV": "Jáde panzió",
                                    "HELY": "Balaton-dél",
                                    "CSILLAGOK_SZAMA": "3",
                                    "TIPUS": "panzió",
                                    "ROGZITETTE": "Mari",
                                    "ROGZ_IDO": "2016-03-16",
                                    "CIM": "8624 Balatonföldvár, Kiss u.2."
                                },
                                {
                                    "sorszam": "2",
                                    "SZALLAS_ID": "15",
                                    "SZALLAS_NEV": "Tímárház Panzió",
                                    "HELY": "Balaton-dél",
                                    "CSILLAGOK_SZAMA": "3",
                                    "TIPUS": "panzió",
                                    "ROGZITETTE": "Béla",
                                    "ROGZ_IDO": "2016-03-29",
                                    "CIM": "8600 Siófok, Virág utca 1"
                                },
                                {
                                    "sorszam": "3",
                                    "SZALLAS_ID": "5",
                                    "SZALLAS_NEV": "Fortuna Panzió",
                                    "HELY": "Békés megye",
                                    "CSILLAGOK_SZAMA": "3",
                                    "TIPUS": "panzió",
                                    "ROGZITETTE": "Sára",
                                    "ROGZ_IDO": "2016-03-08",
                                    "CIM": "5900 Orosháza, Gyopárosfürdő Tópart utca 3."
                                },
                                {
                                    "sorszam": "4",
                                    "SZALLAS_ID": "4",
                                    "SZALLAS_NEV": "Fortuna panzió",
                                    "HELY": "Budapest",
                                    "CSILLAGOK_SZAMA": "3",
                                    "TIPUS": "panzió",
                                    "ROGZITETTE": "Béla",
                                    "ROGZ_IDO": "2016-03-07",
                                    "CIM": "1019 Budapest XIV. Cinkotai út 86."
                                },
                                {
                                    "sorszam": "5",
                                    "SZALLAS_ID": "13",
                                    "SZALLAS_NEV": "Riviéra Panzió",
                                    "HELY": "Csongrád megye",
                                    "CSILLAGOK_SZAMA": "3",
                                    "TIPUS": "panzió",
                                    "ROGZITETTE": "Sára",
                                    "ROGZ_IDO": "2016-03-27",
                                    "CIM": "6722 Szeged, Petőfi Sándor út 3."
                                },
                                {
                                    "sorszam": "1",
                                    "SZALLAS_ID": "2",
                                    "SZALLAS_NEV": "Családi Ház",
                                    "HELY": "Balaton-dél",
                                    "CSILLAGOK_SZAMA": "0",
                                    "TIPUS": "vendégház",
                                    "ROGZITETTE": "Béla",
                                    "ROGZ_IDO": "2016-03-02",
                                    "CIM": "8630 Balatonboglár, József Attila utca 25"
                                },
                                {
                                    "sorszam": "2",
                                    "SZALLAS_ID": "1",
                                    "SZALLAS_NEV": "Sába-Ház",
                                    "HELY": "Balaton-dél",
                                    "CSILLAGOK_SZAMA": "0",
                                    "TIPUS": "vendégház",
                                    "ROGZITETTE": "Béla",
                                    "ROGZ_IDO": "2016-02-28",
                                    "CIM": "8630 Balatonboglár, Radnóti Miklós utca 8"
                                },
                                {
                                    "sorszam": "3",
                                    "SZALLAS_ID": "11",
                                    "SZALLAS_NEV": "Partiszél Vendégház",
                                    "HELY": "Balaton-észak",
                                    "CSILLAGOK_SZAMA": "0",
                                    "TIPUS": "vendégház",
                                    "ROGZITETTE": "Béla",
                                    "ROGZ_IDO": "2016-03-22",
                                    "CIM": "8220 Balatonalmádi Neptun u. 23."
                                },
                                {
                                    "sorszam": "4",
                                    "SZALLAS_ID": "14",
                                    "SZALLAS_NEV": "Nyárfás Vendégház",
                                    "HELY": "Csongrád megye",
                                    "CSILLAGOK_SZAMA": "0",
                                    "TIPUS": "vendégház",
                                    "ROGZITETTE": "Béla",
                                    "ROGZ_IDO": "2016-03-27",
                                    "CIM": "6723 Szeged, Nagy u. 12."
                                },
                                {
                                    "sorszam": "5",
                                    "SZALLAS_ID": "21",
                                    "SZALLAS_NEV": "Müller Vendégház",
                                    "HELY": "Dél-Somogy",
                                    "CSILLAGOK_SZAMA": "0",
                                    "TIPUS": "vendégház",
                                    "ROGZITETTE": "Béla",
                                    "ROGZ_IDO": "2016-04-07",
                                    "CIM": "7570 Barcs, Magyar u. 10."
                                },
                                {
                                    "sorszam": "6",
                                    "SZALLAS_ID": "19",
                                    "SZALLAS_NEV": "Nyárfás Vendégház",
                                    "HELY": "Dél-Somogy",
                                    "CSILLAGOK_SZAMA": "0",
                                    "TIPUS": "vendégház",
                                    "ROGZITETTE": "Sára",
                                    "ROGZ_IDO": "2016-04-07",
                                    "CIM": "7570 Barcs, Bajcsy-Zs. u. 53"
                                }
                            ]
                        },
                        "text/html": "<table><tr><th>sorszam</th><th>SZALLAS_ID</th><th>SZALLAS_NEV</th><th>HELY</th><th>CSILLAGOK_SZAMA</th><th>TIPUS</th><th>ROGZITETTE</th><th>ROGZ_IDO</th><th>CIM</th></tr><tr><td>1</td><td>7</td><td>Szieszta Apartmanház</td><td>Balaton-dél</td><td>0</td><td>Apartman</td><td>Mari</td><td>2016-03-11</td><td>8630 Balatonboglár, Dózsa György utca 108</td></tr><tr><td>2</td><td>18</td><td>Fortuna Apartman</td><td>Dél-Somogy</td><td>0</td><td>Apartman</td><td>Béla</td><td>2016-04-07</td><td>7570 Barcs, Kossuth u. 13.</td></tr><tr><td>3</td><td>3</td><td>Fortuna Apartman</td><td>Hajdúbihar megye</td><td>0</td><td>Apartman</td><td>Sára</td><td>2016-03-06</td><td>4200 Hajdúszoboszló, Wesselényi utca 56.</td></tr><tr><td>1</td><td>20</td><td>Kollégium</td><td>Budapest</td><td>0</td><td>Diákszálló</td><td>Sára</td><td>2016-04-07</td><td>1146 Budapest, Ajtósi Dürer sor 23.</td></tr><tr><td>1</td><td>0</td><td>Fortuna Apartman</td><td>ee</td><td>2</td><td>ee</td><td>Sára</td><td>2016-03-06</td><td>ee</td></tr><tr><td>1</td><td>8</td><td>Hotel Három Hattyú</td><td>Balaton-dél</td><td>4</td><td>Hotel</td><td>Béla</td><td>2016-03-13</td><td>8623 Balatonföldvár, Rákóczi Ferenc út 45.</td></tr><tr><td>2</td><td>6</td><td>Kentaur Hotel</td><td>Balaton-dél</td><td>3</td><td>Hotel</td><td>Béla</td><td>2016-03-08</td><td>8600 Siófok (Széplak), Akácfa utca 1</td></tr><tr><td>3</td><td>12</td><td>Gold Hotel</td><td>Budapest</td><td>3</td><td>Hotel</td><td>Béla</td><td>2016-03-24</td><td>1016 Budapest, Hegyalja út 12</td></tr><tr><td>4</td><td>10</td><td>Lagúna Hotel</td><td>Budapest</td><td>4</td><td>Hotel</td><td>Sára</td><td>2016-03-20</td><td>1097 Budapest, Albert Flórián út 3</td></tr><tr><td>5</td><td>16</td><td>Bagoly Hotel</td><td>Pest megye</td><td>3</td><td>Hotel</td><td>Mari</td><td>2016-04-01</td><td>2230 Gyömrő, Bergszász u. 5.</td></tr><tr><td>6</td><td>17</td><td>Szarvas Hotel</td><td>Tolna megye</td><td>4</td><td>Hotel</td><td>Béla</td><td>2016-04-04</td><td>7121 Szálka, Petőfi Sándor u.</td></tr><tr><td>1</td><td>9</td><td>Jáde panzió</td><td>Balaton-dél</td><td>3</td><td>panzió</td><td>Mari</td><td>2016-03-16</td><td>8624 Balatonföldvár, Kiss u.2.</td></tr><tr><td>2</td><td>15</td><td>Tímárház Panzió</td><td>Balaton-dél</td><td>3</td><td>panzió</td><td>Béla</td><td>2016-03-29</td><td>8600 Siófok, Virág utca 1</td></tr><tr><td>3</td><td>5</td><td>Fortuna Panzió</td><td>Békés megye</td><td>3</td><td>panzió</td><td>Sára</td><td>2016-03-08</td><td>5900 Orosháza, Gyopárosfürdő Tópart utca 3.</td></tr><tr><td>4</td><td>4</td><td>Fortuna panzió</td><td>Budapest</td><td>3</td><td>panzió</td><td>Béla</td><td>2016-03-07</td><td>1019 Budapest XIV. Cinkotai út 86.</td></tr><tr><td>5</td><td>13</td><td>Riviéra Panzió</td><td>Csongrád megye</td><td>3</td><td>panzió</td><td>Sára</td><td>2016-03-27</td><td>6722 Szeged, Petőfi Sándor út 3.</td></tr><tr><td>1</td><td>2</td><td>Családi Ház</td><td>Balaton-dél</td><td>0</td><td>vendégház</td><td>Béla</td><td>2016-03-02</td><td>8630 Balatonboglár, József Attila utca 25</td></tr><tr><td>2</td><td>1</td><td>Sába-Ház</td><td>Balaton-dél</td><td>0</td><td>vendégház</td><td>Béla</td><td>2016-02-28</td><td>8630 Balatonboglár, Radnóti Miklós utca 8</td></tr><tr><td>3</td><td>11</td><td>Partiszél Vendégház</td><td>Balaton-észak</td><td>0</td><td>vendégház</td><td>Béla</td><td>2016-03-22</td><td>8220 Balatonalmádi Neptun u. 23.</td></tr><tr><td>4</td><td>14</td><td>Nyárfás Vendégház</td><td>Csongrád megye</td><td>0</td><td>vendégház</td><td>Béla</td><td>2016-03-27</td><td>6723 Szeged, Nagy u. 12.</td></tr><tr><td>5</td><td>21</td><td>Müller Vendégház</td><td>Dél-Somogy</td><td>0</td><td>vendégház</td><td>Béla</td><td>2016-04-07</td><td>7570 Barcs, Magyar u. 10.</td></tr><tr><td>6</td><td>19</td><td>Nyárfás Vendégház</td><td>Dél-Somogy</td><td>0</td><td>vendégház</td><td>Sára</td><td>2016-04-07</td><td>7570 Barcs, Bajcsy-Zs. u. 53</td></tr></table>"
                    },
                    "metadata": {}
                }
            ],
            "execution_count": 4
        },
        {
            "cell_type": "markdown",
            "source": [
                "2. <span style=\"background-color: rgb(255, 255, 255); color: rgb(0, 0, 0); font-family: &quot;Open Sans&quot;, sans-serif; font-size: 14.44px;\">Készítsünk lekérdezést, amely a foglalások adatait jeleníti meg!&nbsp;</span> \n",
                "\n",
                "a. A lista tartalmazzon két új oszlopot, amelyek az adott ügyfél legrövidebb, illetve leghosszabb foglalásának hosszát (a foglalt napok számát) mutatják meg! \n",
                "\n",
                "b. Az oszlopokat nevezzük el értelemszerűen!"
            ],
            "metadata": {
                "azdata_cell_guid": "ea75c103-911f-41a3-a32c-3d40fb3e4e4a"
            },
            "attachments": {}
        },
        {
            "cell_type": "code",
            "source": [
                ""
            ],
            "metadata": {
                "azdata_cell_guid": "222b9618-a8e8-42b4-a8e8-d002257122b7",
                "language": "sql"
            },
            "outputs": [],
            "execution_count": null
        },
        {
            "cell_type": "markdown",
            "source": [
                "```\n",
                "3. Készítsük listát, amely megjeleníti az ügyfelek azonosítóját, nevét és a foglalásainak kezdő- és befejező dátumát, valamint azt, hogy a foglalás összesen hány főre történt! \n",
                "```\n",
                "\n",
                "a. Egy új oszlopban jelenítsük meg azt is, hogy az ügyfél előző három foglalása összesen hány főre történt!\n",
                "\n",
                "![](https://moodle.uni-corvinus.hu/theme/image.php/adaptable/atto_h5p/1709548862/icon)"
            ],
            "metadata": {
                "azdata_cell_guid": "d7876bb9-76d0-4d07-baed-3cb17b2f96c3"
            },
            "attachments": {}
        },
        {
            "cell_type": "code",
            "source": [
                "SELECT v.usernev,\r\n",
                "      v.nev,\r\n",
                "      f.mettol,\r\n",
                "      f.meddig,\r\n",
                "      f.FELNOTT_SZAM + f.GYERMEK_SZAM,\r\n",
                "      SUM(f.FELNOTT_SZAM+f.GYERMEK_SZAM) OVER(partition by f.ugyfel_fk order by f.mettol rows BETWEEN 3 preceding  and 1 preceding  ) As 'előző 3 összesen'\r\n",
                "FROM Foglalas f JOin Vendeg v  ON f.ugyfel_fk=v.usernev"
            ],
            "metadata": {
                "azdata_cell_guid": "56ec19ce-e249-4551-b2a8-f17569765acc",
                "language": "sql",
                "tags": []
            },
            "outputs": [
                {
                    "output_type": "display_data",
                    "data": {
                        "text/html": "(1045 rows affected)"
                    },
                    "metadata": {}
                },
                {
                    "output_type": "display_data",
                    "data": {
                        "text/html": "Total execution time: 00:00:00.066"
                    },
                    "metadata": {}
                },
                {
                    "output_type": "execute_result",
                    "metadata": {},
                    "execution_count": 1,
                    "data": {
                        "application/vnd.dataresource+json": {
                            "schema": {
                                "fields": [
                                    {
                                        "name": "usernev"
                                    },
                                    {
                                        "name": "nev"
                                    },
                                    {
                                        "name": "mettol"
                                    },
                                    {
                                        "name": "meddig"
                                    },
                                    {
                                        "name": "(No column name)"
                                    },
                                    {
                                        "name": "előző 3 összesen"
                                    }
                                ]
                            },
                            "data": [
                                {
                                    "usernev": "adam1",
                                    "nev": "Kiss Ádám",
                                    "mettol": "0001-01-01",
                                    "meddig": "0001-01-01",
                                    "(No column name)": "3",
                                    "előző 3 összesen": "NULL"
                                },
                                {
                                    "usernev": "adam1",
                                    "nev": "Kiss Ádám",
                                    "mettol": "2000-11-01",
                                    "meddig": "2000-11-05",
                                    "(No column name)": "1",
                                    "előző 3 összesen": "3"
                                },
                                {
                                    "usernev": "adam1",
                                    "nev": "Kiss Ádám",
                                    "mettol": "2016-05-28",
                                    "meddig": "2016-06-03",
                                    "(No column name)": "3",
                                    "előző 3 összesen": "4"
                                },
                                {
                                    "usernev": "adam1",
                                    "nev": "Kiss Ádám",
                                    "mettol": "2016-08-20",
                                    "meddig": "2016-08-24",
                                    "(No column name)": "1",
                                    "előző 3 összesen": "7"
                                },
                                {
                                    "usernev": "adam1",
                                    "nev": "Kiss Ádám",
                                    "mettol": "2016-10-19",
                                    "meddig": "2016-10-24",
                                    "(No column name)": "2",
                                    "előző 3 összesen": "5"
                                },
                                {
                                    "usernev": "adam1",
                                    "nev": "Kiss Ádám",
                                    "mettol": "2022-05-09",
                                    "meddig": "2022-11-10",
                                    "(No column name)": "2",
                                    "előző 3 összesen": "6"
                                },
                                {
                                    "usernev": "adam1",
                                    "nev": "Kiss Ádám",
                                    "mettol": "2022-11-05",
                                    "meddig": "2022-11-12",
                                    "(No column name)": "0",
                                    "előző 3 összesen": "5"
                                },
                                {
                                    "usernev": "adam1",
                                    "nev": "Kiss Ádám",
                                    "mettol": "2022-11-09",
                                    "meddig": "2022-11-09",
                                    "(No column name)": "2",
                                    "előző 3 összesen": "4"
                                },
                                {
                                    "usernev": "adam3",
                                    "nev": "Barkóci Ádám",
                                    "mettol": "2016-09-12",
                                    "meddig": "2016-09-16",
                                    "(No column name)": "2",
                                    "előző 3 összesen": "NULL"
                                },
                                {
                                    "usernev": "adam3",
                                    "nev": "Barkóci Ádám",
                                    "mettol": "2017-02-06",
                                    "meddig": "2017-02-10",
                                    "(No column name)": "1",
                                    "előző 3 összesen": "2"
                                },
                                {
                                    "usernev": "adam4",
                                    "nev": "Bieniek Ádám",
                                    "mettol": "2016-08-28",
                                    "meddig": "2016-08-30",
                                    "(No column name)": "3",
                                    "előző 3 összesen": "NULL"
                                },
                                {
                                    "usernev": "adam4",
                                    "nev": "Bieniek Ádám",
                                    "mettol": "2016-10-27",
                                    "meddig": "2016-11-02",
                                    "(No column name)": "3",
                                    "előző 3 összesen": "3"
                                },
                                {
                                    "usernev": "adam4",
                                    "nev": "Bieniek Ádám",
                                    "mettol": "2016-11-15",
                                    "meddig": "2016-11-18",
                                    "(No column name)": "2",
                                    "előző 3 összesen": "6"
                                },
                                {
                                    "usernev": "adam4",
                                    "nev": "Bieniek Ádám",
                                    "mettol": "2016-12-06",
                                    "meddig": "2016-12-09",
                                    "(No column name)": "3",
                                    "előző 3 összesen": "8"
                                },
                                {
                                    "usernev": "adam4",
                                    "nev": "Bieniek Ádám",
                                    "mettol": "2017-01-12",
                                    "meddig": "2017-01-19",
                                    "(No column name)": "2",
                                    "előző 3 összesen": "8"
                                },
                                {
                                    "usernev": "adam4",
                                    "nev": "Bieniek Ádám",
                                    "mettol": "2017-02-23",
                                    "meddig": "2017-02-27",
                                    "(No column name)": "3",
                                    "előző 3 összesen": "7"
                                },
                                {
                                    "usernev": "agnes",
                                    "nev": "Lengyel Ágnes",
                                    "mettol": "2016-05-09",
                                    "meddig": "2016-05-11",
                                    "(No column name)": "3",
                                    "előző 3 összesen": "NULL"
                                },
                                {
                                    "usernev": "agnes",
                                    "nev": "Lengyel Ágnes",
                                    "mettol": "2016-05-25",
                                    "meddig": "2016-05-30",
                                    "(No column name)": "1",
                                    "előző 3 összesen": "3"
                                },
                                {
                                    "usernev": "agnes",
                                    "nev": "Lengyel Ágnes",
                                    "mettol": "2016-07-13",
                                    "meddig": "2016-07-19",
                                    "(No column name)": "3",
                                    "előző 3 összesen": "4"
                                },
                                {
                                    "usernev": "agnes",
                                    "nev": "Lengyel Ágnes",
                                    "mettol": "2016-07-30",
                                    "meddig": "2016-08-06",
                                    "(No column name)": "3",
                                    "előző 3 összesen": "7"
                                },
                                {
                                    "usernev": "agnes",
                                    "nev": "Lengyel Ágnes",
                                    "mettol": "2016-11-07",
                                    "meddig": "2016-11-13",
                                    "(No column name)": "2",
                                    "előző 3 összesen": "7"
                                },
                                {
                                    "usernev": "agnes3",
                                    "nev": "Hartyánszky Ágnes",
                                    "mettol": "2016-08-04",
                                    "meddig": "2016-08-10",
                                    "(No column name)": "1",
                                    "előző 3 összesen": "NULL"
                                },
                                {
                                    "usernev": "agnes3",
                                    "nev": "Hartyánszky Ágnes",
                                    "mettol": "2016-10-22",
                                    "meddig": "2016-10-23",
                                    "(No column name)": "3",
                                    "előző 3 összesen": "1"
                                },
                                {
                                    "usernev": "agnes3",
                                    "nev": "Hartyánszky Ágnes",
                                    "mettol": "2017-02-16",
                                    "meddig": "2017-02-21",
                                    "(No column name)": "3",
                                    "előző 3 összesen": "4"
                                },
                                {
                                    "usernev": "AGNESH",
                                    "nev": "Horváth Ágnes",
                                    "mettol": "2016-04-10",
                                    "meddig": "2016-04-12",
                                    "(No column name)": "2",
                                    "előző 3 összesen": "NULL"
                                },
                                {
                                    "usernev": "AGNESH",
                                    "nev": "Horváth Ágnes",
                                    "mettol": "2016-04-27",
                                    "meddig": "2016-04-28",
                                    "(No column name)": "4",
                                    "előző 3 összesen": "2"
                                },
                                {
                                    "usernev": "AGNESH",
                                    "nev": "Horváth Ágnes",
                                    "mettol": "2016-06-23",
                                    "meddig": "2016-06-26",
                                    "(No column name)": "1",
                                    "előző 3 összesen": "6"
                                },
                                {
                                    "usernev": "AGNESH",
                                    "nev": "Horváth Ágnes",
                                    "mettol": "2016-10-30",
                                    "meddig": "2016-11-04",
                                    "(No column name)": "1",
                                    "előző 3 összesen": "7"
                                },
                                {
                                    "usernev": "AGNESH",
                                    "nev": "Horváth Ágnes",
                                    "mettol": "2017-01-03",
                                    "meddig": "2017-01-10",
                                    "(No column name)": "2",
                                    "előző 3 összesen": "6"
                                },
                                {
                                    "usernev": "AGNESH",
                                    "nev": "Horváth Ágnes",
                                    "mettol": "2017-01-16",
                                    "meddig": "2017-01-23",
                                    "(No column name)": "3",
                                    "előző 3 összesen": "4"
                                },
                                {
                                    "usernev": "AGNESK",
                                    "nev": "Kovács Ágnes",
                                    "mettol": "2016-07-29",
                                    "meddig": "2016-08-01",
                                    "(No column name)": "3",
                                    "előző 3 összesen": "NULL"
                                },
                                {
                                    "usernev": "AGNESK",
                                    "nev": "Kovács Ágnes",
                                    "mettol": "2016-10-17",
                                    "meddig": "2016-10-19",
                                    "(No column name)": "2",
                                    "előző 3 összesen": "3"
                                },
                                {
                                    "usernev": "AGNESK",
                                    "nev": "Kovács Ágnes",
                                    "mettol": "2016-12-17",
                                    "meddig": "2016-12-18",
                                    "(No column name)": "2",
                                    "előző 3 összesen": "5"
                                },
                                {
                                    "usernev": "akos",
                                    "nev": "Bíró Ákos",
                                    "mettol": "0001-01-01",
                                    "meddig": "0001-01-01",
                                    "(No column name)": "1",
                                    "előző 3 összesen": "NULL"
                                },
                                {
                                    "usernev": "akos",
                                    "nev": "Bíró Ákos",
                                    "mettol": "0001-01-01",
                                    "meddig": "0001-01-01",
                                    "(No column name)": "2",
                                    "előző 3 összesen": "1"
                                },
                                {
                                    "usernev": "akos",
                                    "nev": "Bíró Ákos",
                                    "mettol": "0001-01-01",
                                    "meddig": "0001-01-01",
                                    "(No column name)": "2",
                                    "előző 3 összesen": "3"
                                },
                                {
                                    "usernev": "akos",
                                    "nev": "Bíró Ákos",
                                    "mettol": "2016-05-18",
                                    "meddig": "2016-05-19",
                                    "(No column name)": "2",
                                    "előző 3 összesen": "5"
                                },
                                {
                                    "usernev": "akos",
                                    "nev": "Bíró Ákos",
                                    "mettol": "2016-07-14",
                                    "meddig": "2016-07-19",
                                    "(No column name)": "2",
                                    "előző 3 összesen": "6"
                                },
                                {
                                    "usernev": "akos",
                                    "nev": "Bíró Ákos",
                                    "mettol": "2016-07-16",
                                    "meddig": "2016-07-18",
                                    "(No column name)": "2",
                                    "előző 3 összesen": "6"
                                },
                                {
                                    "usernev": "akos",
                                    "nev": "Bíró Ákos",
                                    "mettol": "2016-07-22",
                                    "meddig": "2016-07-26",
                                    "(No column name)": "1",
                                    "előző 3 összesen": "6"
                                },
                                {
                                    "usernev": "akos",
                                    "nev": "Bíró Ákos",
                                    "mettol": "2016-09-06",
                                    "meddig": "2016-09-12",
                                    "(No column name)": "1",
                                    "előző 3 összesen": "5"
                                },
                                {
                                    "usernev": "akos",
                                    "nev": "Bíró Ákos",
                                    "mettol": "2016-10-05",
                                    "meddig": "2016-10-09",
                                    "(No column name)": "2",
                                    "előző 3 összesen": "4"
                                },
                                {
                                    "usernev": "akos",
                                    "nev": "Bíró Ákos",
                                    "mettol": "2016-10-18",
                                    "meddig": "2016-10-23",
                                    "(No column name)": "2",
                                    "előző 3 összesen": "4"
                                },
                                {
                                    "usernev": "akos",
                                    "nev": "Bíró Ákos",
                                    "mettol": "2016-11-21",
                                    "meddig": "2016-11-27",
                                    "(No column name)": "2",
                                    "előző 3 összesen": "5"
                                },
                                {
                                    "usernev": "akos",
                                    "nev": "Bíró Ákos",
                                    "mettol": "2016-12-15",
                                    "meddig": "2016-12-21",
                                    "(No column name)": "2",
                                    "előző 3 összesen": "6"
                                },
                                {
                                    "usernev": "akos",
                                    "nev": "Bíró Ákos",
                                    "mettol": "2016-12-29",
                                    "meddig": "2016-12-30",
                                    "(No column name)": "3",
                                    "előző 3 összesen": "6"
                                },
                                {
                                    "usernev": "aladar",
                                    "nev": "Dunai Aladár",
                                    "mettol": "0001-01-01",
                                    "meddig": "0001-01-01",
                                    "(No column name)": "1",
                                    "előző 3 összesen": "NULL"
                                },
                                {
                                    "usernev": "aladar",
                                    "nev": "Dunai Aladár",
                                    "mettol": "2016-05-17",
                                    "meddig": "2016-05-24",
                                    "(No column name)": "1",
                                    "előző 3 összesen": "1"
                                },
                                {
                                    "usernev": "aladar",
                                    "nev": "Dunai Aladár",
                                    "mettol": "2016-09-24",
                                    "meddig": "2016-09-28",
                                    "(No column name)": "1",
                                    "előző 3 összesen": "2"
                                },
                                {
                                    "usernev": "aladar",
                                    "nev": "Dunai Aladár",
                                    "mettol": "2016-11-22",
                                    "meddig": "2016-11-23",
                                    "(No column name)": "2",
                                    "előző 3 összesen": "3"
                                },
                                {
                                    "usernev": "alexandra",
                                    "nev": "Bagóczki Alexandra",
                                    "mettol": "0001-01-01",
                                    "meddig": "0001-01-01",
                                    "(No column name)": "2",
                                    "előző 3 összesen": "NULL"
                                },
                                {
                                    "usernev": "alexandra",
                                    "nev": "Bagóczki Alexandra",
                                    "mettol": "2016-05-21",
                                    "meddig": "2016-05-27",
                                    "(No column name)": "3",
                                    "előző 3 összesen": "2"
                                },
                                {
                                    "usernev": "alexandra",
                                    "nev": "Bagóczki Alexandra",
                                    "mettol": "2016-06-08",
                                    "meddig": "2016-06-11",
                                    "(No column name)": "3",
                                    "előző 3 összesen": "5"
                                },
                                {
                                    "usernev": "alexandra",
                                    "nev": "Bagóczki Alexandra",
                                    "mettol": "2016-07-27",
                                    "meddig": "2016-07-30",
                                    "(No column name)": "2",
                                    "előző 3 összesen": "8"
                                },
                                {
                                    "usernev": "alexandra",
                                    "nev": "Bagóczki Alexandra",
                                    "mettol": "2016-10-21",
                                    "meddig": "2016-10-25",
                                    "(No column name)": "2",
                                    "előző 3 összesen": "8"
                                },
                                {
                                    "usernev": "alexandra",
                                    "nev": "Bagóczki Alexandra",
                                    "mettol": "2016-11-29",
                                    "meddig": "2016-12-05",
                                    "(No column name)": "2",
                                    "előző 3 összesen": "7"
                                },
                                {
                                    "usernev": "alexandra",
                                    "nev": "Bagóczki Alexandra",
                                    "mettol": "2017-01-13",
                                    "meddig": "2017-01-14",
                                    "(No column name)": "1",
                                    "előző 3 összesen": "6"
                                },
                                {
                                    "usernev": "alexandra",
                                    "nev": "Bagóczki Alexandra",
                                    "mettol": "2017-01-19",
                                    "meddig": "2017-01-26",
                                    "(No column name)": "2",
                                    "előző 3 összesen": "5"
                                },
                                {
                                    "usernev": "andi",
                                    "nev": "Maródi Andrea",
                                    "mettol": "2016-05-08",
                                    "meddig": "2016-05-14",
                                    "(No column name)": "4",
                                    "előző 3 összesen": "NULL"
                                },
                                {
                                    "usernev": "andi",
                                    "nev": "Maródi Andrea",
                                    "mettol": "2016-06-13",
                                    "meddig": "2016-06-14",
                                    "(No column name)": "1",
                                    "előző 3 összesen": "4"
                                },
                                {
                                    "usernev": "andi",
                                    "nev": "Maródi Andrea",
                                    "mettol": "2016-09-13",
                                    "meddig": "2016-09-16",
                                    "(No column name)": "2",
                                    "előző 3 összesen": "5"
                                },
                                {
                                    "usernev": "andi",
                                    "nev": "Maródi Andrea",
                                    "mettol": "2016-11-16",
                                    "meddig": "2016-11-17",
                                    "(No column name)": "3",
                                    "előző 3 összesen": "7"
                                },
                                {
                                    "usernev": "andi",
                                    "nev": "Maródi Andrea",
                                    "mettol": "2017-01-13",
                                    "meddig": "2017-01-17",
                                    "(No column name)": "3",
                                    "előző 3 összesen": "6"
                                },
                                {
                                    "usernev": "andras2",
                                    "nev": "Tóth András",
                                    "mettol": "0001-01-01",
                                    "meddig": "0001-01-01",
                                    "(No column name)": "1",
                                    "előző 3 összesen": "NULL"
                                },
                                {
                                    "usernev": "andras2",
                                    "nev": "Tóth András",
                                    "mettol": "0001-01-01",
                                    "meddig": "0001-01-01",
                                    "(No column name)": "2",
                                    "előző 3 összesen": "1"
                                },
                                {
                                    "usernev": "andras2",
                                    "nev": "Tóth András",
                                    "mettol": "0001-01-01",
                                    "meddig": "0001-01-01",
                                    "(No column name)": "2",
                                    "előző 3 összesen": "3"
                                },
                                {
                                    "usernev": "andras2",
                                    "nev": "Tóth András",
                                    "mettol": "0001-01-01",
                                    "meddig": "0001-01-01",
                                    "(No column name)": "2",
                                    "előző 3 összesen": "5"
                                },
                                {
                                    "usernev": "andras2",
                                    "nev": "Tóth András",
                                    "mettol": "2016-05-30",
                                    "meddig": "2016-06-04",
                                    "(No column name)": "1",
                                    "előző 3 összesen": "6"
                                },
                                {
                                    "usernev": "andras2",
                                    "nev": "Tóth András",
                                    "mettol": "2016-07-20",
                                    "meddig": "2016-07-22",
                                    "(No column name)": "2",
                                    "előző 3 összesen": "5"
                                },
                                {
                                    "usernev": "andras2",
                                    "nev": "Tóth András",
                                    "mettol": "2016-09-30",
                                    "meddig": "2016-10-03",
                                    "(No column name)": "2",
                                    "előző 3 összesen": "5"
                                },
                                {
                                    "usernev": "andras2",
                                    "nev": "Tóth András",
                                    "mettol": "2016-10-07",
                                    "meddig": "2016-10-10",
                                    "(No column name)": "3",
                                    "előző 3 összesen": "5"
                                },
                                {
                                    "usernev": "andras2",
                                    "nev": "Tóth András",
                                    "mettol": "2017-02-08",
                                    "meddig": "2017-02-10",
                                    "(No column name)": "4",
                                    "előző 3 összesen": "7"
                                },
                                {
                                    "usernev": "andras21",
                                    "nev": "Molnár András",
                                    "mettol": "0001-01-01",
                                    "meddig": "0001-01-01",
                                    "(No column name)": "2",
                                    "előző 3 összesen": "NULL"
                                },
                                {
                                    "usernev": "andras21",
                                    "nev": "Molnár András",
                                    "mettol": "0001-01-01",
                                    "meddig": "0001-01-01",
                                    "(No column name)": "2",
                                    "előző 3 összesen": "2"
                                },
                                {
                                    "usernev": "andras21",
                                    "nev": "Molnár András",
                                    "mettol": "2016-06-21",
                                    "meddig": "2016-06-26",
                                    "(No column name)": "2",
                                    "előző 3 összesen": "4"
                                },
                                {
                                    "usernev": "andras21",
                                    "nev": "Molnár András",
                                    "mettol": "2016-07-04",
                                    "meddig": "2016-07-05",
                                    "(No column name)": "3",
                                    "előző 3 összesen": "6"
                                },
                                {
                                    "usernev": "andras21",
                                    "nev": "Molnár András",
                                    "mettol": "2016-07-20",
                                    "meddig": "2016-07-22",
                                    "(No column name)": "1",
                                    "előző 3 összesen": "7"
                                },
                                {
                                    "usernev": "andras21",
                                    "nev": "Molnár András",
                                    "mettol": "2016-10-01",
                                    "meddig": "2016-10-06",
                                    "(No column name)": "3",
                                    "előző 3 összesen": "6"
                                },
                                {
                                    "usernev": "andras21",
                                    "nev": "Molnár András",
                                    "mettol": "2016-10-04",
                                    "meddig": "2016-10-11",
                                    "(No column name)": "3",
                                    "előző 3 összesen": "7"
                                },
                                {
                                    "usernev": "andras21",
                                    "nev": "Molnár András",
                                    "mettol": "2016-11-23",
                                    "meddig": "2016-11-24",
                                    "(No column name)": "4",
                                    "előző 3 összesen": "7"
                                },
                                {
                                    "usernev": "andras21",
                                    "nev": "Molnár András",
                                    "mettol": "2017-01-28",
                                    "meddig": "2017-02-01",
                                    "(No column name)": "2",
                                    "előző 3 összesen": "10"
                                },
                                {
                                    "usernev": "andras3",
                                    "nev": "Vígh András",
                                    "mettol": "2016-05-01",
                                    "meddig": "2016-05-06",
                                    "(No column name)": "2",
                                    "előző 3 összesen": "NULL"
                                },
                                {
                                    "usernev": "andras3",
                                    "nev": "Vígh András",
                                    "mettol": "2016-05-30",
                                    "meddig": "2016-06-03",
                                    "(No column name)": "1",
                                    "előző 3 összesen": "2"
                                },
                                {
                                    "usernev": "andras3",
                                    "nev": "Vígh András",
                                    "mettol": "2016-06-10",
                                    "meddig": "2016-06-11",
                                    "(No column name)": "1",
                                    "előző 3 összesen": "3"
                                },
                                {
                                    "usernev": "andras3",
                                    "nev": "Vígh András",
                                    "mettol": "2016-07-15",
                                    "meddig": "2016-07-19",
                                    "(No column name)": "3",
                                    "előző 3 összesen": "4"
                                },
                                {
                                    "usernev": "andras3",
                                    "nev": "Vígh András",
                                    "mettol": "2016-07-21",
                                    "meddig": "2016-07-23",
                                    "(No column name)": "2",
                                    "előző 3 összesen": "5"
                                },
                                {
                                    "usernev": "andras3",
                                    "nev": "Vígh András",
                                    "mettol": "2016-08-29",
                                    "meddig": "2016-09-02",
                                    "(No column name)": "3",
                                    "előző 3 összesen": "6"
                                },
                                {
                                    "usernev": "andras3",
                                    "nev": "Vígh András",
                                    "mettol": "2016-11-28",
                                    "meddig": "2016-12-02",
                                    "(No column name)": "2",
                                    "előző 3 összesen": "8"
                                },
                                {
                                    "usernev": "andras3",
                                    "nev": "Vígh András",
                                    "mettol": "2017-02-02",
                                    "meddig": "2017-02-08",
                                    "(No column name)": "2",
                                    "előző 3 összesen": "7"
                                },
                                {
                                    "usernev": "andras4",
                                    "nev": "Back András",
                                    "mettol": "2016-09-17",
                                    "meddig": "2016-09-20",
                                    "(No column name)": "2",
                                    "előző 3 összesen": "NULL"
                                },
                                {
                                    "usernev": "andras4",
                                    "nev": "Back András",
                                    "mettol": "2016-11-25",
                                    "meddig": "2016-11-28",
                                    "(No column name)": "2",
                                    "előző 3 összesen": "2"
                                },
                                {
                                    "usernev": "andras4",
                                    "nev": "Back András",
                                    "mettol": "2017-01-09",
                                    "meddig": "2017-01-10",
                                    "(No column name)": "2",
                                    "előző 3 összesen": "4"
                                },
                                {
                                    "usernev": "andras41",
                                    "nev": "Komjáti András",
                                    "mettol": "0001-01-01",
                                    "meddig": "0001-01-01",
                                    "(No column name)": "2",
                                    "előző 3 összesen": "NULL"
                                },
                                {
                                    "usernev": "andras41",
                                    "nev": "Komjáti András",
                                    "mettol": "0001-01-01",
                                    "meddig": "0001-01-01",
                                    "(No column name)": "2",
                                    "előző 3 összesen": "2"
                                },
                                {
                                    "usernev": "andras41",
                                    "nev": "Komjáti András",
                                    "mettol": "0001-01-01",
                                    "meddig": "0001-01-01",
                                    "(No column name)": "2",
                                    "előző 3 összesen": "4"
                                },
                                {
                                    "usernev": "andras41",
                                    "nev": "Komjáti András",
                                    "mettol": "2016-05-14",
                                    "meddig": "2016-05-16",
                                    "(No column name)": "2",
                                    "előző 3 összesen": "6"
                                },
                                {
                                    "usernev": "andras41",
                                    "nev": "Komjáti András",
                                    "mettol": "2016-05-21",
                                    "meddig": "2016-05-23",
                                    "(No column name)": "4",
                                    "előző 3 összesen": "6"
                                },
                                {
                                    "usernev": "andras41",
                                    "nev": "Komjáti András",
                                    "mettol": "2016-06-07",
                                    "meddig": "2016-06-11",
                                    "(No column name)": "3",
                                    "előző 3 összesen": "8"
                                },
                                {
                                    "usernev": "andras41",
                                    "nev": "Komjáti András",
                                    "mettol": "2016-06-23",
                                    "meddig": "2016-06-29",
                                    "(No column name)": "2",
                                    "előző 3 összesen": "9"
                                },
                                {
                                    "usernev": "andras41",
                                    "nev": "Komjáti András",
                                    "mettol": "2016-07-28",
                                    "meddig": "2016-08-03",
                                    "(No column name)": "3",
                                    "előző 3 összesen": "9"
                                },
                                {
                                    "usernev": "andras41",
                                    "nev": "Komjáti András",
                                    "mettol": "2016-08-17",
                                    "meddig": "2016-08-21",
                                    "(No column name)": "3",
                                    "előző 3 összesen": "8"
                                },
                                {
                                    "usernev": "andras41",
                                    "nev": "Komjáti András",
                                    "mettol": "2016-08-19",
                                    "meddig": "2016-08-23",
                                    "(No column name)": "1",
                                    "előző 3 összesen": "8"
                                },
                                {
                                    "usernev": "andras41",
                                    "nev": "Komjáti András",
                                    "mettol": "2016-09-22",
                                    "meddig": "2016-09-29",
                                    "(No column name)": "1",
                                    "előző 3 összesen": "7"
                                },
                                {
                                    "usernev": "andras41",
                                    "nev": "Komjáti András",
                                    "mettol": "2016-09-30",
                                    "meddig": "2016-10-05",
                                    "(No column name)": "2",
                                    "előző 3 összesen": "5"
                                },
                                {
                                    "usernev": "andras41",
                                    "nev": "Komjáti András",
                                    "mettol": "2016-10-09",
                                    "meddig": "2016-10-13",
                                    "(No column name)": "2",
                                    "előző 3 összesen": "4"
                                },
                                {
                                    "usernev": "andras41",
                                    "nev": "Komjáti András",
                                    "mettol": "2016-10-15",
                                    "meddig": "2016-10-18",
                                    "(No column name)": "3",
                                    "előző 3 összesen": "5"
                                },
                                {
                                    "usernev": "andras41",
                                    "nev": "Komjáti András",
                                    "mettol": "2016-11-20",
                                    "meddig": "2016-11-24",
                                    "(No column name)": "3",
                                    "előző 3 összesen": "7"
                                },
                                {
                                    "usernev": "andras41",
                                    "nev": "Komjáti András",
                                    "mettol": "2016-11-23",
                                    "meddig": "2016-11-24",
                                    "(No column name)": "1",
                                    "előző 3 összesen": "8"
                                },
                                {
                                    "usernev": "ANDRASE",
                                    "nev": "Erdei András",
                                    "mettol": "2016-04-24",
                                    "meddig": "2016-05-01",
                                    "(No column name)": "1",
                                    "előző 3 összesen": "NULL"
                                },
                                {
                                    "usernev": "ANDRASE",
                                    "nev": "Erdei András",
                                    "mettol": "2016-07-06",
                                    "meddig": "2016-07-07",
                                    "(No column name)": "2",
                                    "előző 3 összesen": "1"
                                },
                                {
                                    "usernev": "ANDRASE",
                                    "nev": "Erdei András",
                                    "mettol": "2016-08-16",
                                    "meddig": "2016-08-20",
                                    "(No column name)": "2",
                                    "előző 3 összesen": "3"
                                },
                                {
                                    "usernev": "ANDRASE",
                                    "nev": "Erdei András",
                                    "mettol": "2016-11-19",
                                    "meddig": "2016-11-20",
                                    "(No column name)": "4",
                                    "előző 3 összesen": "5"
                                },
                                {
                                    "usernev": "ANDRASE",
                                    "nev": "Erdei András",
                                    "mettol": "2016-11-29",
                                    "meddig": "2016-12-06",
                                    "(No column name)": "3",
                                    "előző 3 összesen": "8"
                                },
                                {
                                    "usernev": "ANDRASN",
                                    "nev": "Nagy András",
                                    "mettol": "0001-01-01",
                                    "meddig": "0001-01-01",
                                    "(No column name)": "2",
                                    "előző 3 összesen": "NULL"
                                },
                                {
                                    "usernev": "ANDRASN",
                                    "nev": "Nagy András",
                                    "mettol": "2016-11-25",
                                    "meddig": "2016-12-01",
                                    "(No column name)": "2",
                                    "előző 3 összesen": "2"
                                },
                                {
                                    "usernev": "andrea",
                                    "nev": "Kiss Andrea",
                                    "mettol": "2016-07-27",
                                    "meddig": "2016-07-28",
                                    "(No column name)": "2",
                                    "előző 3 összesen": "NULL"
                                },
                                {
                                    "usernev": "andrea",
                                    "nev": "Kiss Andrea",
                                    "mettol": "2016-08-01",
                                    "meddig": "2016-08-02",
                                    "(No column name)": "2",
                                    "előző 3 összesen": "2"
                                },
                                {
                                    "usernev": "andrea",
                                    "nev": "Kiss Andrea",
                                    "mettol": "2016-08-23",
                                    "meddig": "2016-08-26",
                                    "(No column name)": "3",
                                    "előző 3 összesen": "4"
                                },
                                {
                                    "usernev": "andrea",
                                    "nev": "Kiss Andrea",
                                    "mettol": "2016-08-26",
                                    "meddig": "2016-08-30",
                                    "(No column name)": "2",
                                    "előző 3 összesen": "7"
                                },
                                {
                                    "usernev": "andrea",
                                    "nev": "Kiss Andrea",
                                    "mettol": "2016-10-21",
                                    "meddig": "2016-10-27",
                                    "(No column name)": "4",
                                    "előző 3 összesen": "7"
                                },
                                {
                                    "usernev": "andrea",
                                    "nev": "Kiss Andrea",
                                    "mettol": "2017-02-09",
                                    "meddig": "2017-02-14",
                                    "(No column name)": "2",
                                    "előző 3 összesen": "9"
                                },
                                {
                                    "usernev": "andrea",
                                    "nev": "Kiss Andrea",
                                    "mettol": "2022-11-05",
                                    "meddig": "2022-11-12",
                                    "(No column name)": "4",
                                    "előző 3 összesen": "8"
                                },
                                {
                                    "usernev": "andrea3",
                                    "nev": "Szomor Andrea",
                                    "mettol": "0001-01-01",
                                    "meddig": "0001-01-01",
                                    "(No column name)": "2",
                                    "előző 3 összesen": "NULL"
                                },
                                {
                                    "usernev": "andrea3",
                                    "nev": "Szomor Andrea",
                                    "mettol": "2016-11-19",
                                    "meddig": "2016-11-21",
                                    "(No column name)": "3",
                                    "előző 3 összesen": "2"
                                },
                                {
                                    "usernev": "andrea4",
                                    "nev": "Neizer Andrea",
                                    "mettol": "2016-05-27",
                                    "meddig": "2016-05-29",
                                    "(No column name)": "1",
                                    "előző 3 összesen": "NULL"
                                },
                                {
                                    "usernev": "andrea4",
                                    "nev": "Neizer Andrea",
                                    "mettol": "2016-09-13",
                                    "meddig": "2016-09-17",
                                    "(No column name)": "2",
                                    "előző 3 összesen": "1"
                                },
                                {
                                    "usernev": "andrea4",
                                    "nev": "Neizer Andrea",
                                    "mettol": "2016-10-30",
                                    "meddig": "2016-11-06",
                                    "(No column name)": "3",
                                    "előző 3 összesen": "3"
                                },
                                {
                                    "usernev": "andrea4",
                                    "nev": "Neizer Andrea",
                                    "mettol": "2017-01-22",
                                    "meddig": "2017-01-29",
                                    "(No column name)": "2",
                                    "előző 3 összesen": "6"
                                },
                                {
                                    "usernev": "ANDREAT",
                                    "nev": "Tornyos Andrea",
                                    "mettol": "2016-07-27",
                                    "meddig": "2016-08-01",
                                    "(No column name)": "2",
                                    "előző 3 összesen": "NULL"
                                },
                                {
                                    "usernev": "ANDREAT",
                                    "nev": "Tornyos Andrea",
                                    "mettol": "2016-09-15",
                                    "meddig": "2016-09-16",
                                    "(No column name)": "2",
                                    "előző 3 összesen": "2"
                                },
                                {
                                    "usernev": "ANDREAT",
                                    "nev": "Tornyos Andrea",
                                    "mettol": "2016-10-08",
                                    "meddig": "2016-10-12",
                                    "(No column name)": "3",
                                    "előző 3 összesen": "4"
                                },
                                {
                                    "usernev": "anett3",
                                    "nev": "Pivarcsi Anett",
                                    "mettol": "2016-04-10",
                                    "meddig": "2016-04-17",
                                    "(No column name)": "1",
                                    "előző 3 összesen": "NULL"
                                },
                                {
                                    "usernev": "anett3",
                                    "nev": "Pivarcsi Anett",
                                    "mettol": "2016-04-13",
                                    "meddig": "2016-04-19",
                                    "(No column name)": "3",
                                    "előző 3 összesen": "1"
                                },
                                {
                                    "usernev": "anett3",
                                    "nev": "Pivarcsi Anett",
                                    "mettol": "2016-04-15",
                                    "meddig": "2016-04-19",
                                    "(No column name)": "3",
                                    "előző 3 összesen": "4"
                                },
                                {
                                    "usernev": "anett3",
                                    "nev": "Pivarcsi Anett",
                                    "mettol": "2016-04-28",
                                    "meddig": "2016-05-02",
                                    "(No column name)": "3",
                                    "előző 3 összesen": "7"
                                },
                                {
                                    "usernev": "anett3",
                                    "nev": "Pivarcsi Anett",
                                    "mettol": "2016-08-15",
                                    "meddig": "2016-08-16",
                                    "(No column name)": "2",
                                    "előző 3 összesen": "9"
                                },
                                {
                                    "usernev": "anett3",
                                    "nev": "Pivarcsi Anett",
                                    "mettol": "2016-08-17",
                                    "meddig": "2016-08-23",
                                    "(No column name)": "3",
                                    "előző 3 összesen": "8"
                                },
                                {
                                    "usernev": "anett3",
                                    "nev": "Pivarcsi Anett",
                                    "mettol": "2016-10-12",
                                    "meddig": "2016-10-19",
                                    "(No column name)": "3",
                                    "előző 3 összesen": "8"
                                },
                                {
                                    "usernev": "anett3",
                                    "nev": "Pivarcsi Anett",
                                    "mettol": "2016-10-16",
                                    "meddig": "2016-10-21",
                                    "(No column name)": "1",
                                    "előző 3 összesen": "8"
                                },
                                {
                                    "usernev": "aniko",
                                    "nev": "Tóth Anikó",
                                    "mettol": "2016-06-25",
                                    "meddig": "2016-06-30",
                                    "(No column name)": "3",
                                    "előző 3 összesen": "NULL"
                                },
                                {
                                    "usernev": "aniko",
                                    "nev": "Tóth Anikó",
                                    "mettol": "2017-02-12",
                                    "meddig": "2017-02-14",
                                    "(No column name)": "3",
                                    "előző 3 összesen": "3"
                                },
                                {
                                    "usernev": "aniko",
                                    "nev": "Tóth Anikó",
                                    "mettol": "2017-02-23",
                                    "meddig": "2017-02-24",
                                    "(No column name)": "2",
                                    "előző 3 összesen": "6"
                                },
                                {
                                    "usernev": "aniko4",
                                    "nev": "Böröcz Anikó",
                                    "mettol": "2016-07-02",
                                    "meddig": "2016-07-09",
                                    "(No column name)": "1",
                                    "előző 3 összesen": "NULL"
                                },
                                {
                                    "usernev": "aniko4",
                                    "nev": "Böröcz Anikó",
                                    "mettol": "2016-07-22",
                                    "meddig": "2016-07-25",
                                    "(No column name)": "3",
                                    "előző 3 összesen": "1"
                                },
                                {
                                    "usernev": "aniko4",
                                    "nev": "Böröcz Anikó",
                                    "mettol": "2016-09-05",
                                    "meddig": "2016-09-07",
                                    "(No column name)": "4",
                                    "előző 3 összesen": "4"
                                },
                                {
                                    "usernev": "aniko4",
                                    "nev": "Böröcz Anikó",
                                    "mettol": "2016-10-16",
                                    "meddig": "2016-10-18",
                                    "(No column name)": "3",
                                    "előző 3 összesen": "8"
                                },
                                {
                                    "usernev": "ANIKOS",
                                    "nev": "Simon Anikó",
                                    "mettol": "2016-04-19",
                                    "meddig": "2016-04-24",
                                    "(No column name)": "2",
                                    "előző 3 összesen": "NULL"
                                },
                                {
                                    "usernev": "ANIKOS",
                                    "nev": "Simon Anikó",
                                    "mettol": "2016-05-24",
                                    "meddig": "2016-05-25",
                                    "(No column name)": "3",
                                    "előző 3 összesen": "2"
                                },
                                {
                                    "usernev": "ANIKOS",
                                    "nev": "Simon Anikó",
                                    "mettol": "2016-06-16",
                                    "meddig": "2016-06-23",
                                    "(No column name)": "1",
                                    "előző 3 összesen": "5"
                                },
                                {
                                    "usernev": "ANIKOS",
                                    "nev": "Simon Anikó",
                                    "mettol": "2016-06-27",
                                    "meddig": "2016-06-30",
                                    "(No column name)": "2",
                                    "előző 3 összesen": "6"
                                },
                                {
                                    "usernev": "ANIKOS",
                                    "nev": "Simon Anikó",
                                    "mettol": "2016-07-17",
                                    "meddig": "2016-07-22",
                                    "(No column name)": "3",
                                    "előző 3 összesen": "6"
                                },
                                {
                                    "usernev": "ANIKOS",
                                    "nev": "Simon Anikó",
                                    "mettol": "2016-08-26",
                                    "meddig": "2016-09-02",
                                    "(No column name)": "2",
                                    "előző 3 összesen": "6"
                                },
                                {
                                    "usernev": "ANIKOS",
                                    "nev": "Simon Anikó",
                                    "mettol": "2016-10-08",
                                    "meddig": "2016-10-14",
                                    "(No column name)": "2",
                                    "előző 3 összesen": "7"
                                },
                                {
                                    "usernev": "ANIKOS",
                                    "nev": "Simon Anikó",
                                    "mettol": "2016-10-29",
                                    "meddig": "2016-11-05",
                                    "(No column name)": "3",
                                    "előző 3 összesen": "7"
                                },
                                {
                                    "usernev": "ANIKOS",
                                    "nev": "Simon Anikó",
                                    "mettol": "2016-11-10",
                                    "meddig": "2016-11-15",
                                    "(No column name)": "2",
                                    "előző 3 összesen": "7"
                                },
                                {
                                    "usernev": "anita",
                                    "nev": "Hamvay-Kovács Anita",
                                    "mettol": "2016-09-28",
                                    "meddig": "2016-10-02",
                                    "(No column name)": "4",
                                    "előző 3 összesen": "NULL"
                                },
                                {
                                    "usernev": "anita",
                                    "nev": "Hamvay-Kovács Anita",
                                    "mettol": "2016-10-01",
                                    "meddig": "2016-10-04",
                                    "(No column name)": "2",
                                    "előző 3 összesen": "4"
                                },
                                {
                                    "usernev": "anita",
                                    "nev": "Hamvay-Kovács Anita",
                                    "mettol": "2017-02-19",
                                    "meddig": "2017-02-22",
                                    "(No column name)": "2",
                                    "előző 3 összesen": "6"
                                },
                                {
                                    "usernev": "anita",
                                    "nev": "Hamvay-Kovács Anita",
                                    "mettol": "2017-02-20",
                                    "meddig": "2017-02-25",
                                    "(No column name)": "2",
                                    "előző 3 összesen": "8"
                                },
                                {
                                    "usernev": "annamaria1",
                                    "nev": "Szűcs Annamária",
                                    "mettol": "2016-06-06",
                                    "meddig": "2016-06-07",
                                    "(No column name)": "3",
                                    "előző 3 összesen": "NULL"
                                },
                                {
                                    "usernev": "annamaria1",
                                    "nev": "Szűcs Annamária",
                                    "mettol": "2017-01-30",
                                    "meddig": "2017-01-31",
                                    "(No column name)": "4",
                                    "előző 3 összesen": "3"
                                },
                                {
                                    "usernev": "ANNAMARIAR",
                                    "nev": "Regős Annamária",
                                    "mettol": "2016-06-08",
                                    "meddig": "2016-06-11",
                                    "(No column name)": "2",
                                    "előző 3 összesen": "NULL"
                                },
                                {
                                    "usernev": "ANNAMARIAR",
                                    "nev": "Regős Annamária",
                                    "mettol": "2016-07-18",
                                    "meddig": "2016-07-21",
                                    "(No column name)": "1",
                                    "előző 3 összesen": "2"
                                },
                                {
                                    "usernev": "ANNAMARIAR",
                                    "nev": "Regős Annamária",
                                    "mettol": "2016-09-23",
                                    "meddig": "2016-09-27",
                                    "(No column name)": "2",
                                    "előző 3 összesen": "3"
                                },
                                {
                                    "usernev": "ANNAMARIAR",
                                    "nev": "Regős Annamária",
                                    "mettol": "2016-11-11",
                                    "meddig": "2016-11-12",
                                    "(No column name)": "3",
                                    "előző 3 összesen": "5"
                                },
                                {
                                    "usernev": "ANNAMARIAR",
                                    "nev": "Regős Annamária",
                                    "mettol": "2017-01-10",
                                    "meddig": "2017-01-13",
                                    "(No column name)": "2",
                                    "előző 3 összesen": "6"
                                },
                                {
                                    "usernev": "ANNAMARIAR",
                                    "nev": "Regős Annamária",
                                    "mettol": "2017-02-16",
                                    "meddig": "2017-02-18",
                                    "(No column name)": "2",
                                    "előző 3 összesen": "7"
                                },
                                {
                                    "usernev": "aron2",
                                    "nev": "Jakab Áron",
                                    "mettol": "2016-04-11",
                                    "meddig": "2016-04-12",
                                    "(No column name)": "3",
                                    "előző 3 összesen": "NULL"
                                },
                                {
                                    "usernev": "aron2",
                                    "nev": "Jakab Áron",
                                    "mettol": "2016-07-04",
                                    "meddig": "2016-07-06",
                                    "(No column name)": "3",
                                    "előző 3 összesen": "3"
                                },
                                {
                                    "usernev": "aron2",
                                    "nev": "Jakab Áron",
                                    "mettol": "2016-10-23",
                                    "meddig": "2016-10-27",
                                    "(No column name)": "2",
                                    "előző 3 összesen": "6"
                                },
                                {
                                    "usernev": "aron2",
                                    "nev": "Jakab Áron",
                                    "mettol": "2016-11-05",
                                    "meddig": "2016-11-09",
                                    "(No column name)": "2",
                                    "előző 3 összesen": "8"
                                },
                                {
                                    "usernev": "aron2",
                                    "nev": "Jakab Áron",
                                    "mettol": "2017-01-17",
                                    "meddig": "2017-01-18",
                                    "(No column name)": "3",
                                    "előző 3 összesen": "7"
                                },
                                {
                                    "usernev": "aron2",
                                    "nev": "Jakab Áron",
                                    "mettol": "2017-02-26",
                                    "meddig": "2017-02-27",
                                    "(No column name)": "3",
                                    "előző 3 összesen": "7"
                                },
                                {
                                    "usernev": "ARONK",
                                    "nev": "Kelemen Áron",
                                    "mettol": "2016-04-06",
                                    "meddig": "2016-04-08",
                                    "(No column name)": "2",
                                    "előző 3 összesen": "NULL"
                                },
                                {
                                    "usernev": "ARONK",
                                    "nev": "Kelemen Áron",
                                    "mettol": "2016-05-14",
                                    "meddig": "2016-05-20",
                                    "(No column name)": "4",
                                    "előző 3 összesen": "2"
                                },
                                {
                                    "usernev": "ARONK",
                                    "nev": "Kelemen Áron",
                                    "mettol": "2016-06-04",
                                    "meddig": "2016-06-09",
                                    "(No column name)": "2",
                                    "előző 3 összesen": "6"
                                },
                                {
                                    "usernev": "ARONK",
                                    "nev": "Kelemen Áron",
                                    "mettol": "2016-06-07",
                                    "meddig": "2016-06-13",
                                    "(No column name)": "3",
                                    "előző 3 összesen": "8"
                                },
                                {
                                    "usernev": "ARONK",
                                    "nev": "Kelemen Áron",
                                    "mettol": "2016-07-03",
                                    "meddig": "2016-07-07",
                                    "(No column name)": "2",
                                    "előző 3 összesen": "9"
                                },
                                {
                                    "usernev": "ARONK",
                                    "nev": "Kelemen Áron",
                                    "mettol": "2016-08-05",
                                    "meddig": "2016-08-08",
                                    "(No column name)": "4",
                                    "előző 3 összesen": "7"
                                },
                                {
                                    "usernev": "ARONK",
                                    "nev": "Kelemen Áron",
                                    "mettol": "2016-09-08",
                                    "meddig": "2016-09-15",
                                    "(No column name)": "2",
                                    "előző 3 összesen": "9"
                                },
                                {
                                    "usernev": "ARONK",
                                    "nev": "Kelemen Áron",
                                    "mettol": "2016-11-03",
                                    "meddig": "2016-11-10",
                                    "(No column name)": "2",
                                    "előző 3 összesen": "8"
                                },
                                {
                                    "usernev": "ARONK",
                                    "nev": "Kelemen Áron",
                                    "mettol": "2016-11-05",
                                    "meddig": "2016-11-07",
                                    "(No column name)": "2",
                                    "előző 3 összesen": "8"
                                },
                                {
                                    "usernev": "ARONK",
                                    "nev": "Kelemen Áron",
                                    "mettol": "2016-12-07",
                                    "meddig": "2016-12-12",
                                    "(No column name)": "3",
                                    "előző 3 összesen": "6"
                                },
                                {
                                    "usernev": "ARONK",
                                    "nev": "Kelemen Áron",
                                    "mettol": "2017-01-01",
                                    "meddig": "2017-01-03",
                                    "(No column name)": "2",
                                    "előző 3 összesen": "7"
                                },
                                {
                                    "usernev": "ARONK",
                                    "nev": "Kelemen Áron",
                                    "mettol": "2017-01-30",
                                    "meddig": "2017-02-03",
                                    "(No column name)": "2",
                                    "előző 3 összesen": "7"
                                },
                                {
                                    "usernev": "ARONK",
                                    "nev": "Kelemen Áron",
                                    "mettol": "2017-02-21",
                                    "meddig": "2017-02-23",
                                    "(No column name)": "2",
                                    "előző 3 összesen": "7"
                                },
                                {
                                    "usernev": "arpad2",
                                    "nev": "Ötvös Árpád",
                                    "mettol": "2016-06-05",
                                    "meddig": "2016-06-07",
                                    "(No column name)": "2",
                                    "előző 3 összesen": "NULL"
                                },
                                {
                                    "usernev": "arpad2",
                                    "nev": "Ötvös Árpád",
                                    "mettol": "2016-08-23",
                                    "meddig": "2016-08-25",
                                    "(No column name)": "2",
                                    "előző 3 összesen": "2"
                                },
                                {
                                    "usernev": "arpad2",
                                    "nev": "Ötvös Árpád",
                                    "mettol": "2016-09-28",
                                    "meddig": "2016-09-30",
                                    "(No column name)": "2",
                                    "előző 3 összesen": "4"
                                },
                                {
                                    "usernev": "arpad2",
                                    "nev": "Ötvös Árpád",
                                    "mettol": "2016-10-13",
                                    "meddig": "2016-10-19",
                                    "(No column name)": "3",
                                    "előző 3 összesen": "6"
                                },
                                {
                                    "usernev": "arpad2",
                                    "nev": "Ötvös Árpád",
                                    "mettol": "2016-11-06",
                                    "meddig": "2016-11-10",
                                    "(No column name)": "2",
                                    "előző 3 összesen": "7"
                                },
                                {
                                    "usernev": "arpad2",
                                    "nev": "Ötvös Árpád",
                                    "mettol": "2016-12-24",
                                    "meddig": "2016-12-27",
                                    "(No column name)": "3",
                                    "előző 3 összesen": "7"
                                },
                                {
                                    "usernev": "arpad2",
                                    "nev": "Ötvös Árpád",
                                    "mettol": "2017-02-18",
                                    "meddig": "2017-02-19",
                                    "(No column name)": "4",
                                    "előző 3 összesen": "8"
                                },
                                {
                                    "usernev": "ARPADH",
                                    "nev": "Horváth Árpád",
                                    "mettol": "2016-06-06",
                                    "meddig": "2016-06-07",
                                    "(No column name)": "3",
                                    "előző 3 összesen": "NULL"
                                },
                                {
                                    "usernev": "ARPADH",
                                    "nev": "Horváth Árpád",
                                    "mettol": "2016-07-14",
                                    "meddig": "2016-07-18",
                                    "(No column name)": "2",
                                    "előző 3 összesen": "3"
                                },
                                {
                                    "usernev": "ARPADH",
                                    "nev": "Horváth Árpád",
                                    "mettol": "2016-09-16",
                                    "meddig": "2016-09-23",
                                    "(No column name)": "1",
                                    "előző 3 összesen": "5"
                                },
                                {
                                    "usernev": "ARPADH",
                                    "nev": "Horváth Árpád",
                                    "mettol": "2016-09-18",
                                    "meddig": "2016-09-25",
                                    "(No column name)": "1",
                                    "előző 3 összesen": "6"
                                },
                                {
                                    "usernev": "ARPADH",
                                    "nev": "Horváth Árpád",
                                    "mettol": "2016-12-04",
                                    "meddig": "2016-12-10",
                                    "(No column name)": "1",
                                    "előző 3 összesen": "4"
                                },
                                {
                                    "usernev": "ARPADH",
                                    "nev": "Horváth Árpád",
                                    "mettol": "2016-12-18",
                                    "meddig": "2016-12-19",
                                    "(No column name)": "3",
                                    "előző 3 összesen": "3"
                                },
                                {
                                    "usernev": "ARPADH",
                                    "nev": "Horváth Árpád",
                                    "mettol": "2017-02-16",
                                    "meddig": "2017-02-18",
                                    "(No column name)": "2",
                                    "előző 3 összesen": "5"
                                },
                                {
                                    "usernev": "ARPADM",
                                    "nev": "Móricz Árpád",
                                    "mettol": "2016-05-29",
                                    "meddig": "2016-06-01",
                                    "(No column name)": "2",
                                    "előző 3 összesen": "NULL"
                                },
                                {
                                    "usernev": "ARPADM",
                                    "nev": "Móricz Árpád",
                                    "mettol": "2016-08-12",
                                    "meddig": "2016-08-16",
                                    "(No column name)": "2",
                                    "előző 3 összesen": "2"
                                },
                                {
                                    "usernev": "ARPADM",
                                    "nev": "Móricz Árpád",
                                    "mettol": "2016-11-09",
                                    "meddig": "2016-11-11",
                                    "(No column name)": "2",
                                    "előző 3 összesen": "4"
                                },
                                {
                                    "usernev": "ARPADM",
                                    "nev": "Móricz Árpád",
                                    "mettol": "2016-12-14",
                                    "meddig": "2016-12-17",
                                    "(No column name)": "3",
                                    "előző 3 összesen": "6"
                                },
                                {
                                    "usernev": "ARPADM",
                                    "nev": "Móricz Árpád",
                                    "mettol": "2017-01-05",
                                    "meddig": "2017-01-10",
                                    "(No column name)": "1",
                                    "előző 3 összesen": "7"
                                },
                                {
                                    "usernev": "ARPADM",
                                    "nev": "Móricz Árpád",
                                    "mettol": "2017-02-12",
                                    "meddig": "2017-02-14",
                                    "(No column name)": "3",
                                    "előző 3 összesen": "6"
                                },
                                {
                                    "usernev": "attila",
                                    "nev": "Csóti Attila",
                                    "mettol": "2016-09-30",
                                    "meddig": "2016-10-07",
                                    "(No column name)": "3",
                                    "előző 3 összesen": "NULL"
                                },
                                {
                                    "usernev": "attila",
                                    "nev": "Csóti Attila",
                                    "mettol": "2016-10-15",
                                    "meddig": "2016-10-19",
                                    "(No column name)": "1",
                                    "előző 3 összesen": "3"
                                },
                                {
                                    "usernev": "attila",
                                    "nev": "Csóti Attila",
                                    "mettol": "2016-12-22",
                                    "meddig": "2016-12-26",
                                    "(No column name)": "2",
                                    "előző 3 összesen": "4"
                                },
                                {
                                    "usernev": "attila1",
                                    "nev": "Gulyás Attila",
                                    "mettol": "2016-05-20",
                                    "meddig": "2016-05-26",
                                    "(No column name)": "1",
                                    "előző 3 összesen": "NULL"
                                },
                                {
                                    "usernev": "attila1",
                                    "nev": "Gulyás Attila",
                                    "mettol": "2016-10-09",
                                    "meddig": "2016-10-12",
                                    "(No column name)": "2",
                                    "előző 3 összesen": "1"
                                },
                                {
                                    "usernev": "attila1",
                                    "nev": "Gulyás Attila",
                                    "mettol": "2016-10-15",
                                    "meddig": "2016-10-16",
                                    "(No column name)": "3",
                                    "előző 3 összesen": "3"
                                },
                                {
                                    "usernev": "attila1",
                                    "nev": "Gulyás Attila",
                                    "mettol": "2016-10-30",
                                    "meddig": "2016-11-05",
                                    "(No column name)": "2",
                                    "előző 3 összesen": "6"
                                },
                                {
                                    "usernev": "attila1",
                                    "nev": "Gulyás Attila",
                                    "mettol": "2016-11-10",
                                    "meddig": "2016-11-14",
                                    "(No column name)": "2",
                                    "előző 3 összesen": "7"
                                },
                                {
                                    "usernev": "attila1",
                                    "nev": "Gulyás Attila",
                                    "mettol": "2017-01-23",
                                    "meddig": "2017-01-30",
                                    "(No column name)": "4",
                                    "előző 3 összesen": "7"
                                },
                                {
                                    "usernev": "attila4",
                                    "nev": "Baróti Attila",
                                    "mettol": "2016-08-18",
                                    "meddig": "2016-08-23",
                                    "(No column name)": "4",
                                    "előző 3 összesen": "NULL"
                                },
                                {
                                    "usernev": "attila4",
                                    "nev": "Baróti Attila",
                                    "mettol": "2016-12-31",
                                    "meddig": "2017-01-01",
                                    "(No column name)": "2",
                                    "előző 3 összesen": "4"
                                },
                                {
                                    "usernev": "attila4",
                                    "nev": "Baróti Attila",
                                    "mettol": "2017-02-15",
                                    "meddig": "2017-02-22",
                                    "(No column name)": "2",
                                    "előző 3 összesen": "6"
                                },
                                {
                                    "usernev": "ATTILAO",
                                    "nev": "Opra Attila",
                                    "mettol": "2016-05-21",
                                    "meddig": "2016-05-26",
                                    "(No column name)": "3",
                                    "előző 3 összesen": "NULL"
                                },
                                {
                                    "usernev": "ATTILAO",
                                    "nev": "Opra Attila",
                                    "mettol": "2016-06-04",
                                    "meddig": "2016-06-11",
                                    "(No column name)": "3",
                                    "előző 3 összesen": "3"
                                },
                                {
                                    "usernev": "ATTILAO",
                                    "nev": "Opra Attila",
                                    "mettol": "2016-10-30",
                                    "meddig": "2016-11-03",
                                    "(No column name)": "2",
                                    "előző 3 összesen": "6"
                                },
                                {
                                    "usernev": "ATTILAO",
                                    "nev": "Opra Attila",
                                    "mettol": "2017-02-22",
                                    "meddig": "2017-02-25",
                                    "(No column name)": "3",
                                    "előző 3 összesen": "8"
                                },
                                {
                                    "usernev": "balazs1",
                                    "nev": "Bozsik Balázs",
                                    "mettol": "2016-05-07",
                                    "meddig": "2016-05-14",
                                    "(No column name)": "2",
                                    "előző 3 összesen": "NULL"
                                },
                                {
                                    "usernev": "balazs1",
                                    "nev": "Bozsik Balázs",
                                    "mettol": "2016-07-22",
                                    "meddig": "2016-07-26",
                                    "(No column name)": "4",
                                    "előző 3 összesen": "2"
                                },
                                {
                                    "usernev": "balazs1",
                                    "nev": "Bozsik Balázs",
                                    "mettol": "2016-12-26",
                                    "meddig": "2016-12-28",
                                    "(No column name)": "3",
                                    "előző 3 összesen": "6"
                                },
                                {
                                    "usernev": "balazs1",
                                    "nev": "Bozsik Balázs",
                                    "mettol": "2017-01-01",
                                    "meddig": "2017-01-05",
                                    "(No column name)": "2",
                                    "előző 3 összesen": "9"
                                },
                                {
                                    "usernev": "balazs1",
                                    "nev": "Bozsik Balázs",
                                    "mettol": "2017-02-10",
                                    "meddig": "2017-02-14",
                                    "(No column name)": "3",
                                    "előző 3 összesen": "9"
                                },
                                {
                                    "usernev": "balazs1",
                                    "nev": "Bozsik Balázs",
                                    "mettol": "2017-02-12",
                                    "meddig": "2017-02-14",
                                    "(No column name)": "2",
                                    "előző 3 összesen": "8"
                                },
                                {
                                    "usernev": "balazs2",
                                    "nev": "Szűcs Balázs",
                                    "mettol": "2016-04-16",
                                    "meddig": "2016-04-19",
                                    "(No column name)": "2",
                                    "előző 3 összesen": "NULL"
                                },
                                {
                                    "usernev": "balazs2",
                                    "nev": "Szűcs Balázs",
                                    "mettol": "2016-05-22",
                                    "meddig": "2016-05-29",
                                    "(No column name)": "3",
                                    "előző 3 összesen": "2"
                                },
                                {
                                    "usernev": "balazs2",
                                    "nev": "Szűcs Balázs",
                                    "mettol": "2016-05-28",
                                    "meddig": "2016-06-01",
                                    "(No column name)": "3",
                                    "előző 3 összesen": "5"
                                },
                                {
                                    "usernev": "balazs2",
                                    "nev": "Szűcs Balázs",
                                    "mettol": "2016-07-08",
                                    "meddig": "2016-07-12",
                                    "(No column name)": "3",
                                    "előző 3 összesen": "8"
                                },
                                {
                                    "usernev": "balazs2",
                                    "nev": "Szűcs Balázs",
                                    "mettol": "2016-07-10",
                                    "meddig": "2016-07-17",
                                    "(No column name)": "3",
                                    "előző 3 összesen": "9"
                                },
                                {
                                    "usernev": "balazs2",
                                    "nev": "Szűcs Balázs",
                                    "mettol": "2016-07-20",
                                    "meddig": "2016-07-25",
                                    "(No column name)": "2",
                                    "előző 3 összesen": "9"
                                },
                                {
                                    "usernev": "balazs2",
                                    "nev": "Szűcs Balázs",
                                    "mettol": "2016-08-21",
                                    "meddig": "2016-08-22",
                                    "(No column name)": "3",
                                    "előző 3 összesen": "8"
                                },
                                {
                                    "usernev": "balazs2",
                                    "nev": "Szűcs Balázs",
                                    "mettol": "2016-09-12",
                                    "meddig": "2016-09-14",
                                    "(No column name)": "3",
                                    "előző 3 összesen": "8"
                                },
                                {
                                    "usernev": "balazs2",
                                    "nev": "Szűcs Balázs",
                                    "mettol": "2016-11-03",
                                    "meddig": "2016-11-05",
                                    "(No column name)": "3",
                                    "előző 3 összesen": "8"
                                },
                                {
                                    "usernev": "balazs2",
                                    "nev": "Szűcs Balázs",
                                    "mettol": "2017-02-27",
                                    "meddig": "2017-03-06",
                                    "(No column name)": "1",
                                    "előző 3 összesen": "9"
                                },
                                {
                                    "usernev": "balazs3",
                                    "nev": "Bakódy Balázs",
                                    "mettol": "0001-01-01",
                                    "meddig": "0001-01-01",
                                    "(No column name)": "2",
                                    "előző 3 összesen": "NULL"
                                },
                                {
                                    "usernev": "balazs3",
                                    "nev": "Bakódy Balázs",
                                    "mettol": "2016-07-17",
                                    "meddig": "2016-07-21",
                                    "(No column name)": "2",
                                    "előző 3 összesen": "2"
                                },
                                {
                                    "usernev": "balazs3",
                                    "nev": "Bakódy Balázs",
                                    "mettol": "2016-07-27",
                                    "meddig": "2016-07-31",
                                    "(No column name)": "4",
                                    "előző 3 összesen": "4"
                                },
                                {
                                    "usernev": "balazs3",
                                    "nev": "Bakódy Balázs",
                                    "mettol": "2016-08-24",
                                    "meddig": "2016-08-28",
                                    "(No column name)": "3",
                                    "előző 3 összesen": "8"
                                },
                                {
                                    "usernev": "balazs3",
                                    "nev": "Bakódy Balázs",
                                    "mettol": "2016-09-15",
                                    "meddig": "2016-09-16",
                                    "(No column name)": "3",
                                    "előző 3 összesen": "9"
                                },
                                {
                                    "usernev": "balazs3",
                                    "nev": "Bakódy Balázs",
                                    "mettol": "2016-12-05",
                                    "meddig": "2016-12-11",
                                    "(No column name)": "3",
                                    "előző 3 összesen": "10"
                                },
                                {
                                    "usernev": "balazs3",
                                    "nev": "Bakódy Balázs",
                                    "mettol": "2017-01-20",
                                    "meddig": "2017-01-22",
                                    "(No column name)": "2",
                                    "előző 3 összesen": "9"
                                },
                                {
                                    "usernev": "balint",
                                    "nev": "Horváth Bálint",
                                    "mettol": "2016-04-22",
                                    "meddig": "2016-04-29",
                                    "(No column name)": "2",
                                    "előző 3 összesen": "NULL"
                                },
                                {
                                    "usernev": "balint",
                                    "nev": "Horváth Bálint",
                                    "mettol": "2016-10-09",
                                    "meddig": "2016-10-11",
                                    "(No column name)": "2",
                                    "előző 3 összesen": "2"
                                },
                                {
                                    "usernev": "balint",
                                    "nev": "Horváth Bálint",
                                    "mettol": "2016-11-24",
                                    "meddig": "2016-11-29",
                                    "(No column name)": "3",
                                    "előző 3 összesen": "4"
                                },
                                {
                                    "usernev": "balint1",
                                    "nev": "Molnár Bálint",
                                    "mettol": "2016-06-07",
                                    "meddig": "2016-06-11",
                                    "(No column name)": "3",
                                    "előző 3 összesen": "NULL"
                                },
                                {
                                    "usernev": "balint1",
                                    "nev": "Molnár Bálint",
                                    "mettol": "2016-06-07",
                                    "meddig": "2016-06-12",
                                    "(No column name)": "3",
                                    "előző 3 összesen": "3"
                                },
                                {
                                    "usernev": "balint1",
                                    "nev": "Molnár Bálint",
                                    "mettol": "2016-06-10",
                                    "meddig": "2016-06-12",
                                    "(No column name)": "1",
                                    "előző 3 összesen": "6"
                                },
                                {
                                    "usernev": "balint1",
                                    "nev": "Molnár Bálint",
                                    "mettol": "2016-07-26",
                                    "meddig": "2016-07-28",
                                    "(No column name)": "2",
                                    "előző 3 összesen": "7"
                                },
                                {
                                    "usernev": "balint1",
                                    "nev": "Molnár Bálint",
                                    "mettol": "2016-08-03",
                                    "meddig": "2016-08-08",
                                    "(No column name)": "2",
                                    "előző 3 összesen": "6"
                                },
                                {
                                    "usernev": "balint1",
                                    "nev": "Molnár Bálint",
                                    "mettol": "2016-09-16",
                                    "meddig": "2016-09-21",
                                    "(No column name)": "1",
                                    "előző 3 összesen": "5"
                                },
                                {
                                    "usernev": "balint1",
                                    "nev": "Molnár Bálint",
                                    "mettol": "2016-11-07",
                                    "meddig": "2016-11-10",
                                    "(No column name)": "2",
                                    "előző 3 összesen": "5"
                                },
                                {
                                    "usernev": "balint1",
                                    "nev": "Molnár Bálint",
                                    "mettol": "2016-12-17",
                                    "meddig": "2016-12-22",
                                    "(No column name)": "3",
                                    "előző 3 összesen": "5"
                                },
                                {
                                    "usernev": "balint1",
                                    "nev": "Molnár Bálint",
                                    "mettol": "2016-12-29",
                                    "meddig": "2016-12-31",
                                    "(No column name)": "3",
                                    "előző 3 összesen": "6"
                                },
                                {
                                    "usernev": "balint1",
                                    "nev": "Molnár Bálint",
                                    "mettol": "2017-01-03",
                                    "meddig": "2017-01-08",
                                    "(No column name)": "2",
                                    "előző 3 összesen": "8"
                                },
                                {
                                    "usernev": "balint2",
                                    "nev": "Vukasinovity Bálint",
                                    "mettol": "2016-07-21",
                                    "meddig": "2016-07-26",
                                    "(No column name)": "1",
                                    "előző 3 összesen": "NULL"
                                },
                                {
                                    "usernev": "balint2",
                                    "nev": "Vukasinovity Bálint",
                                    "mettol": "2016-12-04",
                                    "meddig": "2016-12-06",
                                    "(No column name)": "3",
                                    "előző 3 összesen": "1"
                                },
                                {
                                    "usernev": "balu",
                                    "nev": "Endresz Bálint",
                                    "mettol": "2016-08-06",
                                    "meddig": "2016-08-10",
                                    "(No column name)": "2",
                                    "előző 3 összesen": "NULL"
                                },
                                {
                                    "usernev": "balu",
                                    "nev": "Endresz Bálint",
                                    "mettol": "2016-12-22",
                                    "meddig": "2016-12-23",
                                    "(No column name)": "2",
                                    "előző 3 összesen": "2"
                                },
                                {
                                    "usernev": "beata4",
                                    "nev": "Bagi Beáta",
                                    "mettol": "2016-04-20",
                                    "meddig": "2016-04-21",
                                    "(No column name)": "2",
                                    "előző 3 összesen": "NULL"
                                },
                                {
                                    "usernev": "beata4",
                                    "nev": "Bagi Beáta",
                                    "mettol": "2016-06-03",
                                    "meddig": "2016-06-04",
                                    "(No column name)": "2",
                                    "előző 3 összesen": "2"
                                },
                                {
                                    "usernev": "beata4",
                                    "nev": "Bagi Beáta",
                                    "mettol": "2016-07-03",
                                    "meddig": "2016-07-06",
                                    "(No column name)": "1",
                                    "előző 3 összesen": "4"
                                },
                                {
                                    "usernev": "beata4",
                                    "nev": "Bagi Beáta",
                                    "mettol": "2016-08-25",
                                    "meddig": "2016-08-27",
                                    "(No column name)": "3",
                                    "előző 3 összesen": "5"
                                },
                                {
                                    "usernev": "beata4",
                                    "nev": "Bagi Beáta",
                                    "mettol": "2016-10-01",
                                    "meddig": "2016-10-05",
                                    "(No column name)": "1",
                                    "előző 3 összesen": "6"
                                },
                                {
                                    "usernev": "beata4",
                                    "nev": "Bagi Beáta",
                                    "mettol": "2016-10-03",
                                    "meddig": "2016-10-06",
                                    "(No column name)": "3",
                                    "előző 3 összesen": "5"
                                },
                                {
                                    "usernev": "BEATRIXK",
                                    "nev": "Kerényi Beatrix",
                                    "mettol": "2016-06-10",
                                    "meddig": "2016-06-11",
                                    "(No column name)": "2",
                                    "előző 3 összesen": "NULL"
                                },
                                {
                                    "usernev": "BEATRIXK",
                                    "nev": "Kerényi Beatrix",
                                    "mettol": "2016-06-10",
                                    "meddig": "2016-06-14",
                                    "(No column name)": "2",
                                    "előző 3 összesen": "2"
                                },
                                {
                                    "usernev": "BEATRIXK",
                                    "nev": "Kerényi Beatrix",
                                    "mettol": "2016-06-19",
                                    "meddig": "2016-06-21",
                                    "(No column name)": "3",
                                    "előző 3 összesen": "4"
                                },
                                {
                                    "usernev": "BEATRIXK",
                                    "nev": "Kerényi Beatrix",
                                    "mettol": "2016-08-12",
                                    "meddig": "2016-08-18",
                                    "(No column name)": "4",
                                    "előző 3 összesen": "7"
                                },
                                {
                                    "usernev": "BEATRIXK",
                                    "nev": "Kerényi Beatrix",
                                    "mettol": "2016-10-23",
                                    "meddig": "2016-10-28",
                                    "(No column name)": "2",
                                    "előző 3 összesen": "9"
                                },
                                {
                                    "usernev": "BEATRIXK",
                                    "nev": "Kerényi Beatrix",
                                    "mettol": "2016-11-14",
                                    "meddig": "2016-11-19",
                                    "(No column name)": "2",
                                    "előző 3 összesen": "9"
                                },
                                {
                                    "usernev": "BEATRIXK",
                                    "nev": "Kerényi Beatrix",
                                    "mettol": "2016-12-12",
                                    "meddig": "2016-12-14",
                                    "(No column name)": "3",
                                    "előző 3 összesen": "8"
                                },
                                {
                                    "usernev": "BEATRIXK",
                                    "nev": "Kerényi Beatrix",
                                    "mettol": "2016-12-17",
                                    "meddig": "2016-12-22",
                                    "(No column name)": "4",
                                    "előző 3 összesen": "7"
                                },
                                {
                                    "usernev": "BEATRIXK",
                                    "nev": "Kerényi Beatrix",
                                    "mettol": "2017-02-08",
                                    "meddig": "2017-02-09",
                                    "(No column name)": "3",
                                    "előző 3 összesen": "9"
                                },
                                {
                                    "usernev": "BEATRIXS",
                                    "nev": "Szekendi Beatrix",
                                    "mettol": "2016-04-18",
                                    "meddig": "2016-04-24",
                                    "(No column name)": "1",
                                    "előző 3 összesen": "NULL"
                                },
                                {
                                    "usernev": "BEATRIXS",
                                    "nev": "Szekendi Beatrix",
                                    "mettol": "2016-06-11",
                                    "meddig": "2016-06-14",
                                    "(No column name)": "3",
                                    "előző 3 összesen": "1"
                                },
                                {
                                    "usernev": "BEATRIXS",
                                    "nev": "Szekendi Beatrix",
                                    "mettol": "2016-10-01",
                                    "meddig": "2016-10-03",
                                    "(No column name)": "3",
                                    "előző 3 összesen": "4"
                                },
                                {
                                    "usernev": "BEATRIXS",
                                    "nev": "Szekendi Beatrix",
                                    "mettol": "2016-10-01",
                                    "meddig": "2016-10-05",
                                    "(No column name)": "3",
                                    "előző 3 összesen": "7"
                                },
                                {
                                    "usernev": "BEATRIXS",
                                    "nev": "Szekendi Beatrix",
                                    "mettol": "2016-12-21",
                                    "meddig": "2016-12-27",
                                    "(No column name)": "2",
                                    "előző 3 összesen": "9"
                                },
                                {
                                    "usernev": "BEATRIXS",
                                    "nev": "Szekendi Beatrix",
                                    "mettol": "2017-02-03",
                                    "meddig": "2017-02-04",
                                    "(No column name)": "2",
                                    "előző 3 összesen": "8"
                                },
                                {
                                    "usernev": "BELAF",
                                    "nev": "Farkas Béla",
                                    "mettol": "2016-07-27",
                                    "meddig": "2016-07-30",
                                    "(No column name)": "3",
                                    "előző 3 összesen": "NULL"
                                },
                                {
                                    "usernev": "BELAF",
                                    "nev": "Farkas Béla",
                                    "mettol": "2016-07-29",
                                    "meddig": "2016-07-31",
                                    "(No column name)": "2",
                                    "előző 3 összesen": "3"
                                },
                                {
                                    "usernev": "BELAF",
                                    "nev": "Farkas Béla",
                                    "mettol": "2016-08-29",
                                    "meddig": "2016-08-31",
                                    "(No column name)": "2",
                                    "előző 3 összesen": "5"
                                },
                                {
                                    "usernev": "BELAF",
                                    "nev": "Farkas Béla",
                                    "mettol": "2016-11-03",
                                    "meddig": "2016-11-09",
                                    "(No column name)": "4",
                                    "előző 3 összesen": "7"
                                },
                                {
                                    "usernev": "BELAF",
                                    "nev": "Farkas Béla",
                                    "mettol": "2016-12-02",
                                    "meddig": "2016-12-04",
                                    "(No column name)": "3",
                                    "előző 3 összesen": "8"
                                },
                                {
                                    "usernev": "BELAF",
                                    "nev": "Farkas Béla",
                                    "mettol": "2016-12-06",
                                    "meddig": "2016-12-09",
                                    "(No column name)": "1",
                                    "előző 3 összesen": "9"
                                },
                                {
                                    "usernev": "bence",
                                    "nev": "Győrffy Bence",
                                    "mettol": "2016-05-08",
                                    "meddig": "2016-05-11",
                                    "(No column name)": "2",
                                    "előző 3 összesen": "NULL"
                                },
                                {
                                    "usernev": "bence",
                                    "nev": "Győrffy Bence",
                                    "mettol": "2016-05-29",
                                    "meddig": "2016-06-03",
                                    "(No column name)": "1",
                                    "előző 3 összesen": "2"
                                },
                                {
                                    "usernev": "bence",
                                    "nev": "Győrffy Bence",
                                    "mettol": "2016-07-24",
                                    "meddig": "2016-07-30",
                                    "(No column name)": "2",
                                    "előző 3 összesen": "3"
                                },
                                {
                                    "usernev": "bence",
                                    "nev": "Győrffy Bence",
                                    "mettol": "2016-07-25",
                                    "meddig": "2016-08-01",
                                    "(No column name)": "3",
                                    "előző 3 összesen": "5"
                                },
                                {
                                    "usernev": "bence",
                                    "nev": "Győrffy Bence",
                                    "mettol": "2016-09-03",
                                    "meddig": "2016-09-06",
                                    "(No column name)": "3",
                                    "előző 3 összesen": "6"
                                },
                                {
                                    "usernev": "bence",
                                    "nev": "Győrffy Bence",
                                    "mettol": "2016-10-30",
                                    "meddig": "2016-11-02",
                                    "(No column name)": "4",
                                    "előző 3 összesen": "8"
                                },
                                {
                                    "usernev": "bence",
                                    "nev": "Győrffy Bence",
                                    "mettol": "2016-12-17",
                                    "meddig": "2016-12-18",
                                    "(No column name)": "2",
                                    "előző 3 összesen": "10"
                                },
                                {
                                    "usernev": "bence",
                                    "nev": "Győrffy Bence",
                                    "mettol": "2016-12-26",
                                    "meddig": "2016-12-27",
                                    "(No column name)": "2",
                                    "előző 3 összesen": "9"
                                },
                                {
                                    "usernev": "bence",
                                    "nev": "Győrffy Bence",
                                    "mettol": "2017-02-05",
                                    "meddig": "2017-02-09",
                                    "(No column name)": "3",
                                    "előző 3 összesen": "8"
                                },
                                {
                                    "usernev": "BENCEB",
                                    "nev": "Bajusz Bence",
                                    "mettol": "2016-05-14",
                                    "meddig": "2016-05-17",
                                    "(No column name)": "3",
                                    "előző 3 összesen": "NULL"
                                },
                                {
                                    "usernev": "BENCEB",
                                    "nev": "Bajusz Bence",
                                    "mettol": "2016-06-03",
                                    "meddig": "2016-06-09",
                                    "(No column name)": "2",
                                    "előző 3 összesen": "3"
                                },
                                {
                                    "usernev": "BENCEB",
                                    "nev": "Bajusz Bence",
                                    "mettol": "2016-08-01",
                                    "meddig": "2016-08-02",
                                    "(No column name)": "2",
                                    "előző 3 összesen": "5"
                                },
                                {
                                    "usernev": "BENCEB",
                                    "nev": "Bajusz Bence",
                                    "mettol": "2016-10-22",
                                    "meddig": "2016-10-29",
                                    "(No column name)": "3",
                                    "előző 3 összesen": "7"
                                },
                                {
                                    "usernev": "BENCEB",
                                    "nev": "Bajusz Bence",
                                    "mettol": "2016-11-28",
                                    "meddig": "2016-12-02",
                                    "(No column name)": "2",
                                    "előző 3 összesen": "7"
                                },
                                {
                                    "usernev": "BENCEB",
                                    "nev": "Bajusz Bence",
                                    "mettol": "2017-02-12",
                                    "meddig": "2017-02-19",
                                    "(No column name)": "3",
                                    "előző 3 összesen": "7"
                                },
                                {
                                    "usernev": "bernadett1",
                                    "nev": "Simon Bernadett",
                                    "mettol": "2016-06-12",
                                    "meddig": "2016-06-17",
                                    "(No column name)": "3",
                                    "előző 3 összesen": "NULL"
                                },
                                {
                                    "usernev": "bernadett1",
                                    "nev": "Simon Bernadett",
                                    "mettol": "2016-10-08",
                                    "meddig": "2016-10-09",
                                    "(No column name)": "4",
                                    "előző 3 összesen": "3"
                                },
                                {
                                    "usernev": "bernadett1",
                                    "nev": "Simon Bernadett",
                                    "mettol": "2016-10-15",
                                    "meddig": "2016-10-22",
                                    "(No column name)": "3",
                                    "előző 3 összesen": "7"
                                },
                                {
                                    "usernev": "bernadett1",
                                    "nev": "Simon Bernadett",
                                    "mettol": "2016-10-26",
                                    "meddig": "2016-11-02",
                                    "(No column name)": "3",
                                    "előző 3 összesen": "10"
                                },
                                {
                                    "usernev": "bernadett1",
                                    "nev": "Simon Bernadett",
                                    "mettol": "2016-10-28",
                                    "meddig": "2016-11-01",
                                    "(No column name)": "3",
                                    "előző 3 összesen": "10"
                                },
                                {
                                    "usernev": "bernadett1",
                                    "nev": "Simon Bernadett",
                                    "mettol": "2017-02-14",
                                    "meddig": "2017-02-15",
                                    "(No column name)": "3",
                                    "előző 3 összesen": "9"
                                },
                                {
                                    "usernev": "bernadett1",
                                    "nev": "Simon Bernadett",
                                    "mettol": "2017-02-24",
                                    "meddig": "2017-03-03",
                                    "(No column name)": "1",
                                    "előző 3 összesen": "9"
                                },
                                {
                                    "usernev": "bernadett2",
                                    "nev": "Kovács Bernadett",
                                    "mettol": "2016-05-01",
                                    "meddig": "2016-05-03",
                                    "(No column name)": "2",
                                    "előző 3 összesen": "NULL"
                                },
                                {
                                    "usernev": "bernadett2",
                                    "nev": "Kovács Bernadett",
                                    "mettol": "2016-06-17",
                                    "meddig": "2016-06-23",
                                    "(No column name)": "3",
                                    "előző 3 összesen": "2"
                                },
                                {
                                    "usernev": "bernadett2",
                                    "nev": "Kovács Bernadett",
                                    "mettol": "2016-08-23",
                                    "meddig": "2016-08-29",
                                    "(No column name)": "2",
                                    "előző 3 összesen": "5"
                                },
                                {
                                    "usernev": "bernadett2",
                                    "nev": "Kovács Bernadett",
                                    "mettol": "2016-08-25",
                                    "meddig": "2016-08-27",
                                    "(No column name)": "3",
                                    "előző 3 összesen": "7"
                                },
                                {
                                    "usernev": "bernadett2",
                                    "nev": "Kovács Bernadett",
                                    "mettol": "2016-09-07",
                                    "meddig": "2016-09-13",
                                    "(No column name)": "3",
                                    "előző 3 összesen": "8"
                                },
                                {
                                    "usernev": "bernadett2",
                                    "nev": "Kovács Bernadett",
                                    "mettol": "2016-10-30",
                                    "meddig": "2016-11-06",
                                    "(No column name)": "3",
                                    "előző 3 összesen": "8"
                                },
                                {
                                    "usernev": "bernadett2",
                                    "nev": "Kovács Bernadett",
                                    "mettol": "2016-12-17",
                                    "meddig": "2016-12-20",
                                    "(No column name)": "1",
                                    "előző 3 összesen": "9"
                                },
                                {
                                    "usernev": "bernadett2",
                                    "nev": "Kovács Bernadett",
                                    "mettol": "2017-01-24",
                                    "meddig": "2017-01-30",
                                    "(No column name)": "3",
                                    "előző 3 összesen": "7"
                                },
                                {
                                    "usernev": "BERNADETTO",
                                    "nev": "Orbán Bernadett",
                                    "mettol": "2016-04-10",
                                    "meddig": "2016-04-17",
                                    "(No column name)": "2",
                                    "előző 3 összesen": "NULL"
                                },
                                {
                                    "usernev": "BERNADETTO",
                                    "nev": "Orbán Bernadett",
                                    "mettol": "2016-04-17",
                                    "meddig": "2016-04-19",
                                    "(No column name)": "2",
                                    "előző 3 összesen": "2"
                                },
                                {
                                    "usernev": "BERNADETTO",
                                    "nev": "Orbán Bernadett",
                                    "mettol": "2016-06-07",
                                    "meddig": "2016-06-13",
                                    "(No column name)": "3",
                                    "előző 3 összesen": "4"
                                },
                                {
                                    "usernev": "BERNADETTO",
                                    "nev": "Orbán Bernadett",
                                    "mettol": "2016-06-10",
                                    "meddig": "2016-06-16",
                                    "(No column name)": "4",
                                    "előző 3 összesen": "7"
                                },
                                {
                                    "usernev": "BERNADETTO",
                                    "nev": "Orbán Bernadett",
                                    "mettol": "2016-10-04",
                                    "meddig": "2016-10-05",
                                    "(No column name)": "2",
                                    "előző 3 összesen": "9"
                                },
                                {
                                    "usernev": "BERNADETTO",
                                    "nev": "Orbán Bernadett",
                                    "mettol": "2017-01-01",
                                    "meddig": "2017-01-02",
                                    "(No column name)": "3",
                                    "előző 3 összesen": "9"
                                },
                                {
                                    "usernev": "BERNADETTO",
                                    "nev": "Orbán Bernadett",
                                    "mettol": "2017-01-28",
                                    "meddig": "2017-02-03",
                                    "(No column name)": "2",
                                    "előző 3 összesen": "9"
                                },
                                {
                                    "usernev": "bertalan",
                                    "nev": "Csiger Bertalan",
                                    "mettol": "2016-05-18",
                                    "meddig": "2016-05-23",
                                    "(No column name)": "2",
                                    "előző 3 összesen": "NULL"
                                },
                                {
                                    "usernev": "bertalan",
                                    "nev": "Csiger Bertalan",
                                    "mettol": "2016-06-20",
                                    "meddig": "2016-06-21",
                                    "(No column name)": "1",
                                    "előző 3 összesen": "2"
                                },
                                {
                                    "usernev": "bertalan",
                                    "nev": "Csiger Bertalan",
                                    "mettol": "2016-11-03",
                                    "meddig": "2016-11-10",
                                    "(No column name)": "2",
                                    "előző 3 összesen": "3"
                                },
                                {
                                    "usernev": "bertalan",
                                    "nev": "Csiger Bertalan",
                                    "mettol": "2016-11-26",
                                    "meddig": "2016-11-29",
                                    "(No column name)": "3",
                                    "előző 3 összesen": "5"
                                },
                                {
                                    "usernev": "bertalan",
                                    "nev": "Csiger Bertalan",
                                    "mettol": "2017-02-16",
                                    "meddig": "2017-02-22",
                                    "(No column name)": "2",
                                    "előző 3 összesen": "6"
                                },
                                {
                                    "usernev": "bertalan",
                                    "nev": "Csiger Bertalan",
                                    "mettol": "2017-02-20",
                                    "meddig": "2017-02-24",
                                    "(No column name)": "4",
                                    "előző 3 összesen": "7"
                                },
                                {
                                    "usernev": "brigitta",
                                    "nev": "Székely Brigitta",
                                    "mettol": "2016-05-30",
                                    "meddig": "2016-06-06",
                                    "(No column name)": "3",
                                    "előző 3 összesen": "NULL"
                                },
                                {
                                    "usernev": "brigitta",
                                    "nev": "Székely Brigitta",
                                    "mettol": "2016-08-28",
                                    "meddig": "2016-09-01",
                                    "(No column name)": "3",
                                    "előző 3 összesen": "3"
                                },
                                {
                                    "usernev": "brigitta",
                                    "nev": "Székely Brigitta",
                                    "mettol": "2016-10-21",
                                    "meddig": "2016-10-28",
                                    "(No column name)": "3",
                                    "előző 3 összesen": "6"
                                },
                                {
                                    "usernev": "brigitta",
                                    "nev": "Székely Brigitta",
                                    "mettol": "2016-12-17",
                                    "meddig": "2016-12-22",
                                    "(No column name)": "2",
                                    "előző 3 összesen": "9"
                                },
                                {
                                    "usernev": "brigitta",
                                    "nev": "Székely Brigitta",
                                    "mettol": "2017-01-23",
                                    "meddig": "2017-01-25",
                                    "(No column name)": "1",
                                    "előző 3 összesen": "8"
                                },
                                {
                                    "usernev": "brigitta3",
                                    "nev": "Pataki Brigitta",
                                    "mettol": "2016-06-01",
                                    "meddig": "2016-06-05",
                                    "(No column name)": "2",
                                    "előző 3 összesen": "NULL"
                                },
                                {
                                    "usernev": "brigitta3",
                                    "nev": "Pataki Brigitta",
                                    "mettol": "2016-06-13",
                                    "meddig": "2016-06-17",
                                    "(No column name)": "3",
                                    "előző 3 összesen": "2"
                                },
                                {
                                    "usernev": "brigitta3",
                                    "nev": "Pataki Brigitta",
                                    "mettol": "2016-10-10",
                                    "meddig": "2016-10-14",
                                    "(No column name)": "2",
                                    "előző 3 összesen": "5"
                                },
                                {
                                    "usernev": "brigitta3",
                                    "nev": "Pataki Brigitta",
                                    "mettol": "2016-11-03",
                                    "meddig": "2016-11-09",
                                    "(No column name)": "3",
                                    "előző 3 összesen": "7"
                                },
                                {
                                    "usernev": "brigitta3",
                                    "nev": "Pataki Brigitta",
                                    "mettol": "2017-02-09",
                                    "meddig": "2017-02-16",
                                    "(No column name)": "2",
                                    "előző 3 összesen": "8"
                                },
                                {
                                    "usernev": "csongor3",
                                    "nev": "Nagymihály Csongor",
                                    "mettol": "2016-05-01",
                                    "meddig": "2016-05-04",
                                    "(No column name)": "2",
                                    "előző 3 összesen": "NULL"
                                },
                                {
                                    "usernev": "csongor3",
                                    "nev": "Nagymihály Csongor",
                                    "mettol": "2016-05-08",
                                    "meddig": "2016-05-15",
                                    "(No column name)": "3",
                                    "előző 3 összesen": "2"
                                },
                                {
                                    "usernev": "csongor3",
                                    "nev": "Nagymihály Csongor",
                                    "mettol": "2016-06-04",
                                    "meddig": "2016-06-05",
                                    "(No column name)": "2",
                                    "előző 3 összesen": "5"
                                },
                                {
                                    "usernev": "csongor3",
                                    "nev": "Nagymihály Csongor",
                                    "mettol": "2016-06-10",
                                    "meddig": "2016-06-17",
                                    "(No column name)": "3",
                                    "előző 3 összesen": "7"
                                },
                                {
                                    "usernev": "csongor3",
                                    "nev": "Nagymihály Csongor",
                                    "mettol": "2016-06-11",
                                    "meddig": "2016-06-14",
                                    "(No column name)": "2",
                                    "előző 3 összesen": "8"
                                },
                                {
                                    "usernev": "csongor3",
                                    "nev": "Nagymihály Csongor",
                                    "mettol": "2016-07-09",
                                    "meddig": "2016-07-10",
                                    "(No column name)": "4",
                                    "előző 3 összesen": "7"
                                },
                                {
                                    "usernev": "csongor3",
                                    "nev": "Nagymihály Csongor",
                                    "mettol": "2016-11-12",
                                    "meddig": "2016-11-17",
                                    "(No column name)": "3",
                                    "előző 3 összesen": "9"
                                },
                                {
                                    "usernev": "csongor3",
                                    "nev": "Nagymihály Csongor",
                                    "mettol": "2017-02-13",
                                    "meddig": "2017-02-19",
                                    "(No column name)": "3",
                                    "előző 3 összesen": "9"
                                },
                                {
                                    "usernev": "dani",
                                    "nev": "Vörös Dániel",
                                    "mettol": "2016-06-06",
                                    "meddig": "2016-06-10",
                                    "(No column name)": "3",
                                    "előző 3 összesen": "NULL"
                                },
                                {
                                    "usernev": "dani",
                                    "nev": "Vörös Dániel",
                                    "mettol": "2016-07-11",
                                    "meddig": "2016-07-12",
                                    "(No column name)": "3",
                                    "előző 3 összesen": "3"
                                },
                                {
                                    "usernev": "dani",
                                    "nev": "Vörös Dániel",
                                    "mettol": "2016-08-06",
                                    "meddig": "2016-08-09",
                                    "(No column name)": "2",
                                    "előző 3 összesen": "6"
                                },
                                {
                                    "usernev": "dani",
                                    "nev": "Vörös Dániel",
                                    "mettol": "2016-09-19",
                                    "meddig": "2016-09-25",
                                    "(No column name)": "4",
                                    "előző 3 összesen": "8"
                                },
                                {
                                    "usernev": "dani",
                                    "nev": "Vörös Dániel",
                                    "mettol": "2016-10-01",
                                    "meddig": "2016-10-02",
                                    "(No column name)": "1",
                                    "előző 3 összesen": "9"
                                },
                                {
                                    "usernev": "dani",
                                    "nev": "Vörös Dániel",
                                    "mettol": "2016-11-22",
                                    "meddig": "2016-11-24",
                                    "(No column name)": "2",
                                    "előző 3 összesen": "7"
                                },
                                {
                                    "usernev": "dani",
                                    "nev": "Vörös Dániel",
                                    "mettol": "2017-01-17",
                                    "meddig": "2017-01-23",
                                    "(No column name)": "2",
                                    "előző 3 összesen": "7"
                                },
                                {
                                    "usernev": "dani",
                                    "nev": "Vörös Dániel",
                                    "mettol": "2017-01-22",
                                    "meddig": "2017-01-29",
                                    "(No column name)": "1",
                                    "előző 3 összesen": "5"
                                },
                                {
                                    "usernev": "dani",
                                    "nev": "Vörös Dániel",
                                    "mettol": "2017-02-25",
                                    "meddig": "2017-03-01",
                                    "(No column name)": "3",
                                    "előző 3 összesen": "5"
                                },
                                {
                                    "usernev": "daniel",
                                    "nev": "Rácz Dániel",
                                    "mettol": "2016-04-10",
                                    "meddig": "2016-04-11",
                                    "(No column name)": "4",
                                    "előző 3 összesen": "NULL"
                                },
                                {
                                    "usernev": "daniel",
                                    "nev": "Rácz Dániel",
                                    "mettol": "2016-04-22",
                                    "meddig": "2016-04-25",
                                    "(No column name)": "2",
                                    "előző 3 összesen": "4"
                                },
                                {
                                    "usernev": "daniel",
                                    "nev": "Rácz Dániel",
                                    "mettol": "2016-05-09",
                                    "meddig": "2016-05-13",
                                    "(No column name)": "3",
                                    "előző 3 összesen": "6"
                                },
                                {
                                    "usernev": "daniel",
                                    "nev": "Rácz Dániel",
                                    "mettol": "2016-09-08",
                                    "meddig": "2016-09-10",
                                    "(No column name)": "4",
                                    "előző 3 összesen": "9"
                                },
                                {
                                    "usernev": "daniel",
                                    "nev": "Rácz Dániel",
                                    "mettol": "2016-11-13",
                                    "meddig": "2016-11-19",
                                    "(No column name)": "3",
                                    "előző 3 összesen": "9"
                                },
                                {
                                    "usernev": "daniel",
                                    "nev": "Rácz Dániel",
                                    "mettol": "2016-12-25",
                                    "meddig": "2016-12-26",
                                    "(No column name)": "3",
                                    "előző 3 összesen": "10"
                                },
                                {
                                    "usernev": "daniel",
                                    "nev": "Rácz Dániel",
                                    "mettol": "2017-01-09",
                                    "meddig": "2017-01-11",
                                    "(No column name)": "1",
                                    "előző 3 összesen": "10"
                                },
                                {
                                    "usernev": "daniel",
                                    "nev": "Rácz Dániel",
                                    "mettol": "2017-02-12",
                                    "meddig": "2017-02-13",
                                    "(No column name)": "3",
                                    "előző 3 összesen": "7"
                                },
                                {
                                    "usernev": "daniel",
                                    "nev": "Rácz Dániel",
                                    "mettol": "2017-02-20",
                                    "meddig": "2017-02-23",
                                    "(No column name)": "3",
                                    "előző 3 összesen": "7"
                                },
                                {
                                    "usernev": "daniel1",
                                    "nev": "Keszler Dániel",
                                    "mettol": "2016-04-10",
                                    "meddig": "2016-04-15",
                                    "(No column name)": "2",
                                    "előző 3 összesen": "NULL"
                                },
                                {
                                    "usernev": "daniel1",
                                    "nev": "Keszler Dániel",
                                    "mettol": "2016-05-10",
                                    "meddig": "2016-05-13",
                                    "(No column name)": "4",
                                    "előző 3 összesen": "2"
                                },
                                {
                                    "usernev": "daniel1",
                                    "nev": "Keszler Dániel",
                                    "mettol": "2016-05-26",
                                    "meddig": "2016-05-27",
                                    "(No column name)": "3",
                                    "előző 3 összesen": "6"
                                },
                                {
                                    "usernev": "daniel1",
                                    "nev": "Keszler Dániel",
                                    "mettol": "2016-11-09",
                                    "meddig": "2016-11-11",
                                    "(No column name)": "2",
                                    "előző 3 összesen": "9"
                                },
                                {
                                    "usernev": "daniel1",
                                    "nev": "Keszler Dániel",
                                    "mettol": "2016-11-23",
                                    "meddig": "2016-11-25",
                                    "(No column name)": "2",
                                    "előző 3 összesen": "9"
                                },
                                {
                                    "usernev": "daniel1",
                                    "nev": "Keszler Dániel",
                                    "mettol": "2017-01-05",
                                    "meddig": "2017-01-08",
                                    "(No column name)": "3",
                                    "előző 3 összesen": "7"
                                },
                                {
                                    "usernev": "daniel1",
                                    "nev": "Keszler Dániel",
                                    "mettol": "2017-03-01",
                                    "meddig": "2017-03-06",
                                    "(No column name)": "4",
                                    "előző 3 összesen": "7"
                                },
                                {
                                    "usernev": "david",
                                    "nev": "Ambrus Dávid",
                                    "mettol": "2016-05-18",
                                    "meddig": "2016-05-25",
                                    "(No column name)": "2",
                                    "előző 3 összesen": "NULL"
                                },
                                {
                                    "usernev": "david",
                                    "nev": "Ambrus Dávid",
                                    "mettol": "2016-06-09",
                                    "meddig": "2016-06-10",
                                    "(No column name)": "2",
                                    "előző 3 összesen": "2"
                                },
                                {
                                    "usernev": "david",
                                    "nev": "Ambrus Dávid",
                                    "mettol": "2016-06-30",
                                    "meddig": "2016-07-07",
                                    "(No column name)": "2",
                                    "előző 3 összesen": "4"
                                },
                                {
                                    "usernev": "david",
                                    "nev": "Ambrus Dávid",
                                    "mettol": "2016-07-18",
                                    "meddig": "2016-07-21",
                                    "(No column name)": "2",
                                    "előző 3 összesen": "6"
                                },
                                {
                                    "usernev": "david",
                                    "nev": "Ambrus Dávid",
                                    "mettol": "2016-08-05",
                                    "meddig": "2016-08-12",
                                    "(No column name)": "1",
                                    "előző 3 összesen": "6"
                                },
                                {
                                    "usernev": "david",
                                    "nev": "Ambrus Dávid",
                                    "mettol": "2016-08-20",
                                    "meddig": "2016-08-25",
                                    "(No column name)": "3",
                                    "előző 3 összesen": "5"
                                },
                                {
                                    "usernev": "david",
                                    "nev": "Ambrus Dávid",
                                    "mettol": "2016-08-22",
                                    "meddig": "2016-08-24",
                                    "(No column name)": "3",
                                    "előző 3 összesen": "6"
                                },
                                {
                                    "usernev": "david",
                                    "nev": "Ambrus Dávid",
                                    "mettol": "2016-10-30",
                                    "meddig": "2016-11-04",
                                    "(No column name)": "2",
                                    "előző 3 összesen": "7"
                                },
                                {
                                    "usernev": "david",
                                    "nev": "Ambrus Dávid",
                                    "mettol": "2017-01-18",
                                    "meddig": "2017-01-19",
                                    "(No column name)": "2",
                                    "előző 3 összesen": "8"
                                },
                                {
                                    "usernev": "david1",
                                    "nev": "Sobják Dávid",
                                    "mettol": "2016-09-20",
                                    "meddig": "2016-09-21",
                                    "(No column name)": "2",
                                    "előző 3 összesen": "NULL"
                                },
                                {
                                    "usernev": "david1",
                                    "nev": "Sobják Dávid",
                                    "mettol": "2016-10-01",
                                    "meddig": "2016-10-02",
                                    "(No column name)": "2",
                                    "előző 3 összesen": "2"
                                },
                                {
                                    "usernev": "david1",
                                    "nev": "Sobják Dávid",
                                    "mettol": "2016-11-19",
                                    "meddig": "2016-11-22",
                                    "(No column name)": "2",
                                    "előző 3 összesen": "4"
                                },
                                {
                                    "usernev": "david1",
                                    "nev": "Sobják Dávid",
                                    "mettol": "2016-12-30",
                                    "meddig": "2017-01-06",
                                    "(No column name)": "2",
                                    "előző 3 összesen": "6"
                                },
                                {
                                    "usernev": "david1",
                                    "nev": "Sobják Dávid",
                                    "mettol": "2017-02-17",
                                    "meddig": "2017-02-20",
                                    "(No column name)": "3",
                                    "előző 3 összesen": "6"
                                },
                                {
                                    "usernev": "david1",
                                    "nev": "Sobják Dávid",
                                    "mettol": "2017-02-25",
                                    "meddig": "2017-02-27",
                                    "(No column name)": "4",
                                    "előző 3 összesen": "7"
                                },
                                {
                                    "usernev": "david4",
                                    "nev": "Berta Dávid",
                                    "mettol": "2017-02-16",
                                    "meddig": "2017-02-19",
                                    "(No column name)": "3",
                                    "előző 3 összesen": "NULL"
                                },
                                {
                                    "usernev": "debora",
                                    "nev": "Barna Debóra",
                                    "mettol": "2016-06-22",
                                    "meddig": "2016-06-24",
                                    "(No column name)": "5",
                                    "előző 3 összesen": "NULL"
                                },
                                {
                                    "usernev": "debora",
                                    "nev": "Barna Debóra",
                                    "mettol": "2016-10-29",
                                    "meddig": "2016-11-03",
                                    "(No column name)": "2",
                                    "előző 3 összesen": "5"
                                },
                                {
                                    "usernev": "debora",
                                    "nev": "Barna Debóra",
                                    "mettol": "2017-01-23",
                                    "meddig": "2017-01-28",
                                    "(No column name)": "3",
                                    "előző 3 összesen": "7"
                                },
                                {
                                    "usernev": "debora",
                                    "nev": "Barna Debóra",
                                    "mettol": "2017-02-04",
                                    "meddig": "2017-02-06",
                                    "(No column name)": "3",
                                    "előző 3 összesen": "10"
                                },
                                {
                                    "usernev": "denes",
                                    "nev": "Tömböly Dénes",
                                    "mettol": "2016-05-27",
                                    "meddig": "2016-05-31",
                                    "(No column name)": "3",
                                    "előző 3 összesen": "NULL"
                                },
                                {
                                    "usernev": "denes",
                                    "nev": "Tömböly Dénes",
                                    "mettol": "2016-07-19",
                                    "meddig": "2016-07-23",
                                    "(No column name)": "2",
                                    "előző 3 összesen": "3"
                                },
                                {
                                    "usernev": "denes",
                                    "nev": "Tömböly Dénes",
                                    "mettol": "2016-08-01",
                                    "meddig": "2016-08-08",
                                    "(No column name)": "3",
                                    "előző 3 összesen": "5"
                                },
                                {
                                    "usernev": "denes",
                                    "nev": "Tömböly Dénes",
                                    "mettol": "2016-08-16",
                                    "meddig": "2016-08-23",
                                    "(No column name)": "2",
                                    "előző 3 összesen": "8"
                                },
                                {
                                    "usernev": "denes",
                                    "nev": "Tömböly Dénes",
                                    "mettol": "2016-08-20",
                                    "meddig": "2016-08-27",
                                    "(No column name)": "3",
                                    "előző 3 összesen": "7"
                                },
                                {
                                    "usernev": "denes",
                                    "nev": "Tömböly Dénes",
                                    "mettol": "2016-11-06",
                                    "meddig": "2016-11-10",
                                    "(No column name)": "2",
                                    "előző 3 összesen": "8"
                                },
                                {
                                    "usernev": "dora3",
                                    "nev": "Sarodi Dóra",
                                    "mettol": "2016-08-16",
                                    "meddig": "2016-08-19",
                                    "(No column name)": "4",
                                    "előző 3 összesen": "NULL"
                                },
                                {
                                    "usernev": "dora3",
                                    "nev": "Sarodi Dóra",
                                    "mettol": "2016-08-25",
                                    "meddig": "2016-08-29",
                                    "(No column name)": "3",
                                    "előző 3 összesen": "4"
                                },
                                {
                                    "usernev": "dora3",
                                    "nev": "Sarodi Dóra",
                                    "mettol": "2016-10-09",
                                    "meddig": "2016-10-12",
                                    "(No column name)": "3",
                                    "előző 3 összesen": "7"
                                },
                                {
                                    "usernev": "dora3",
                                    "nev": "Sarodi Dóra",
                                    "mettol": "2016-10-29",
                                    "meddig": "2016-11-02",
                                    "(No column name)": "3",
                                    "előző 3 összesen": "10"
                                },
                                {
                                    "usernev": "dora3",
                                    "nev": "Sarodi Dóra",
                                    "mettol": "2016-11-22",
                                    "meddig": "2016-11-29",
                                    "(No column name)": "3",
                                    "előző 3 összesen": "9"
                                },
                                {
                                    "usernev": "edit",
                                    "nev": "Bittmann Edit",
                                    "mettol": "2016-07-14",
                                    "meddig": "2016-07-17",
                                    "(No column name)": "3",
                                    "előző 3 összesen": "NULL"
                                },
                                {
                                    "usernev": "edit",
                                    "nev": "Bittmann Edit",
                                    "mettol": "2016-08-03",
                                    "meddig": "2016-08-09",
                                    "(No column name)": "4",
                                    "előző 3 összesen": "3"
                                },
                                {
                                    "usernev": "edit",
                                    "nev": "Bittmann Edit",
                                    "mettol": "2016-08-12",
                                    "meddig": "2016-08-14",
                                    "(No column name)": "2",
                                    "előző 3 összesen": "7"
                                },
                                {
                                    "usernev": "edit",
                                    "nev": "Bittmann Edit",
                                    "mettol": "2016-09-17",
                                    "meddig": "2016-09-24",
                                    "(No column name)": "2",
                                    "előző 3 összesen": "9"
                                },
                                {
                                    "usernev": "edit",
                                    "nev": "Bittmann Edit",
                                    "mettol": "2016-09-18",
                                    "meddig": "2016-09-21",
                                    "(No column name)": "3",
                                    "előző 3 összesen": "8"
                                },
                                {
                                    "usernev": "edit",
                                    "nev": "Bittmann Edit",
                                    "mettol": "2017-01-15",
                                    "meddig": "2017-01-18",
                                    "(No column name)": "4",
                                    "előző 3 összesen": "7"
                                },
                                {
                                    "usernev": "edit",
                                    "nev": "Bittmann Edit",
                                    "mettol": "2017-02-08",
                                    "meddig": "2017-02-14",
                                    "(No column name)": "3",
                                    "előző 3 összesen": "9"
                                },
                                {
                                    "usernev": "emese",
                                    "nev": "Kuruc Emese",
                                    "mettol": "2016-07-22",
                                    "meddig": "2016-07-24",
                                    "(No column name)": "2",
                                    "előző 3 összesen": "NULL"
                                },
                                {
                                    "usernev": "emese",
                                    "nev": "Kuruc Emese",
                                    "mettol": "2016-08-09",
                                    "meddig": "2016-08-12",
                                    "(No column name)": "2",
                                    "előző 3 összesen": "2"
                                },
                                {
                                    "usernev": "emese",
                                    "nev": "Kuruc Emese",
                                    "mettol": "2016-09-27",
                                    "meddig": "2016-09-28",
                                    "(No column name)": "3",
                                    "előző 3 összesen": "4"
                                },
                                {
                                    "usernev": "emese",
                                    "nev": "Kuruc Emese",
                                    "mettol": "2016-11-05",
                                    "meddig": "2016-11-09",
                                    "(No column name)": "1",
                                    "előző 3 összesen": "7"
                                },
                                {
                                    "usernev": "emese",
                                    "nev": "Kuruc Emese",
                                    "mettol": "2016-11-23",
                                    "meddig": "2016-11-27",
                                    "(No column name)": "4",
                                    "előző 3 összesen": "6"
                                },
                                {
                                    "usernev": "emese",
                                    "nev": "Kuruc Emese",
                                    "mettol": "2016-12-07",
                                    "meddig": "2016-12-08",
                                    "(No column name)": "3",
                                    "előző 3 összesen": "8"
                                },
                                {
                                    "usernev": "emese",
                                    "nev": "Kuruc Emese",
                                    "mettol": "2017-01-30",
                                    "meddig": "2017-01-31",
                                    "(No column name)": "2",
                                    "előző 3 összesen": "8"
                                },
                                {
                                    "usernev": "eszter",
                                    "nev": "Molnár Eszter",
                                    "mettol": "2016-08-12",
                                    "meddig": "2016-08-18",
                                    "(No column name)": "3",
                                    "előző 3 összesen": "NULL"
                                },
                                {
                                    "usernev": "eszter",
                                    "nev": "Molnár Eszter",
                                    "mettol": "2016-10-04",
                                    "meddig": "2016-10-10",
                                    "(No column name)": "3",
                                    "előző 3 összesen": "3"
                                },
                                {
                                    "usernev": "eszter",
                                    "nev": "Molnár Eszter",
                                    "mettol": "2016-10-26",
                                    "meddig": "2016-11-01",
                                    "(No column name)": "3",
                                    "előző 3 összesen": "6"
                                },
                                {
                                    "usernev": "eszter",
                                    "nev": "Molnár Eszter",
                                    "mettol": "2016-12-23",
                                    "meddig": "2016-12-28",
                                    "(No column name)": "2",
                                    "előző 3 összesen": "9"
                                },
                                {
                                    "usernev": "eszter2",
                                    "nev": "Balogh Eszter",
                                    "mettol": "2016-06-30",
                                    "meddig": "2016-07-07",
                                    "(No column name)": "3",
                                    "előző 3 összesen": "NULL"
                                },
                                {
                                    "usernev": "eszter2",
                                    "nev": "Balogh Eszter",
                                    "mettol": "2016-07-08",
                                    "meddig": "2016-07-09",
                                    "(No column name)": "1",
                                    "előző 3 összesen": "3"
                                },
                                {
                                    "usernev": "eszter2",
                                    "nev": "Balogh Eszter",
                                    "mettol": "2016-10-01",
                                    "meddig": "2016-10-05",
                                    "(No column name)": "3",
                                    "előző 3 összesen": "4"
                                },
                                {
                                    "usernev": "eszter2",
                                    "nev": "Balogh Eszter",
                                    "mettol": "2016-10-01",
                                    "meddig": "2016-10-06",
                                    "(No column name)": "1",
                                    "előző 3 összesen": "7"
                                },
                                {
                                    "usernev": "eszter2",
                                    "nev": "Balogh Eszter",
                                    "mettol": "2016-10-20",
                                    "meddig": "2016-10-25",
                                    "(No column name)": "1",
                                    "előző 3 összesen": "5"
                                },
                                {
                                    "usernev": "eszter2",
                                    "nev": "Balogh Eszter",
                                    "mettol": "2016-10-23",
                                    "meddig": "2016-10-30",
                                    "(No column name)": "1",
                                    "előző 3 összesen": "5"
                                },
                                {
                                    "usernev": "eszter2",
                                    "nev": "Balogh Eszter",
                                    "mettol": "2016-11-05",
                                    "meddig": "2016-11-12",
                                    "(No column name)": "4",
                                    "előző 3 összesen": "3"
                                },
                                {
                                    "usernev": "eszter2",
                                    "nev": "Balogh Eszter",
                                    "mettol": "2016-12-02",
                                    "meddig": "2016-12-07",
                                    "(No column name)": "1",
                                    "előző 3 összesen": "6"
                                },
                                {
                                    "usernev": "eszter2",
                                    "nev": "Balogh Eszter",
                                    "mettol": "2016-12-05",
                                    "meddig": "2016-12-08",
                                    "(No column name)": "2",
                                    "előző 3 összesen": "6"
                                },
                                {
                                    "usernev": "eszter2",
                                    "nev": "Balogh Eszter",
                                    "mettol": "2016-12-29",
                                    "meddig": "2017-02-04",
                                    "(No column name)": "1",
                                    "előző 3 összesen": "7"
                                },
                                {
                                    "usernev": "eszter4",
                                    "nev": "Fülöp Eszter",
                                    "mettol": "2017-01-05",
                                    "meddig": "2017-01-10",
                                    "(No column name)": "2",
                                    "előző 3 összesen": "NULL"
                                },
                                {
                                    "usernev": "eszter4",
                                    "nev": "Fülöp Eszter",
                                    "mettol": "2017-01-26",
                                    "meddig": "2017-02-02",
                                    "(No column name)": "2",
                                    "előző 3 összesen": "2"
                                },
                                {
                                    "usernev": "eszter4",
                                    "nev": "Fülöp Eszter",
                                    "mettol": "2017-02-26",
                                    "meddig": "2017-02-27",
                                    "(No column name)": "3",
                                    "előző 3 összesen": "4"
                                },
                                {
                                    "usernev": "ESZTERE",
                                    "nev": "Érsek Eszter",
                                    "mettol": "2016-05-30",
                                    "meddig": "2016-06-05",
                                    "(No column name)": "2",
                                    "előző 3 összesen": "NULL"
                                },
                                {
                                    "usernev": "ESZTERE",
                                    "nev": "Érsek Eszter",
                                    "mettol": "2016-07-19",
                                    "meddig": "2016-07-21",
                                    "(No column name)": "2",
                                    "előző 3 összesen": "2"
                                },
                                {
                                    "usernev": "ESZTERE",
                                    "nev": "Érsek Eszter",
                                    "mettol": "2016-11-01",
                                    "meddig": "2016-11-08",
                                    "(No column name)": "2",
                                    "előző 3 összesen": "4"
                                },
                                {
                                    "usernev": "ESZTERE",
                                    "nev": "Érsek Eszter",
                                    "mettol": "2017-02-10",
                                    "meddig": "2017-02-14",
                                    "(No column name)": "2",
                                    "előző 3 összesen": "6"
                                },
                                {
                                    "usernev": "eva",
                                    "nev": "Enyedi Éva",
                                    "mettol": "2016-10-06",
                                    "meddig": "2016-10-09",
                                    "(No column name)": "3",
                                    "előző 3 összesen": "NULL"
                                },
                                {
                                    "usernev": "eva",
                                    "nev": "Enyedi Éva",
                                    "mettol": "2017-01-14",
                                    "meddig": "2017-01-16",
                                    "(No column name)": "2",
                                    "előző 3 összesen": "3"
                                },
                                {
                                    "usernev": "eva2",
                                    "nev": "Perlinger Éva",
                                    "mettol": "2016-09-02",
                                    "meddig": "2016-09-03",
                                    "(No column name)": "1",
                                    "előző 3 összesen": "NULL"
                                },
                                {
                                    "usernev": "eva2",
                                    "nev": "Perlinger Éva",
                                    "mettol": "2016-11-06",
                                    "meddig": "2016-11-13",
                                    "(No column name)": "2",
                                    "előző 3 összesen": "1"
                                },
                                {
                                    "usernev": "eva2",
                                    "nev": "Perlinger Éva",
                                    "mettol": "2016-12-06",
                                    "meddig": "2016-12-11",
                                    "(No column name)": "2",
                                    "előző 3 összesen": "3"
                                },
                                {
                                    "usernev": "eva2",
                                    "nev": "Perlinger Éva",
                                    "mettol": "2017-01-06",
                                    "meddig": "2017-01-09",
                                    "(No column name)": "4",
                                    "előző 3 összesen": "5"
                                },
                                {
                                    "usernev": "EVAV",
                                    "nev": "Viktor Éva",
                                    "mettol": "2016-05-01",
                                    "meddig": "2016-05-05",
                                    "(No column name)": "3",
                                    "előző 3 összesen": "NULL"
                                },
                                {
                                    "usernev": "EVAV",
                                    "nev": "Viktor Éva",
                                    "mettol": "2016-08-31",
                                    "meddig": "2016-09-04",
                                    "(No column name)": "2",
                                    "előző 3 összesen": "3"
                                },
                                {
                                    "usernev": "EVAV",
                                    "nev": "Viktor Éva",
                                    "mettol": "2016-10-15",
                                    "meddig": "2016-10-21",
                                    "(No column name)": "3",
                                    "előző 3 összesen": "5"
                                },
                                {
                                    "usernev": "EVAV",
                                    "nev": "Viktor Éva",
                                    "mettol": "2016-10-16",
                                    "meddig": "2016-10-23",
                                    "(No column name)": "2",
                                    "előző 3 összesen": "8"
                                },
                                {
                                    "usernev": "EVAV",
                                    "nev": "Viktor Éva",
                                    "mettol": "2017-02-04",
                                    "meddig": "2017-02-11",
                                    "(No column name)": "5",
                                    "előző 3 összesen": "7"
                                },
                                {
                                    "usernev": "ferenc1",
                                    "nev": "Orosz Ferenc",
                                    "mettol": "2016-05-08",
                                    "meddig": "2016-05-11",
                                    "(No column name)": "2",
                                    "előző 3 összesen": "NULL"
                                },
                                {
                                    "usernev": "ferenc1",
                                    "nev": "Orosz Ferenc",
                                    "mettol": "2016-06-16",
                                    "meddig": "2016-06-22",
                                    "(No column name)": "2",
                                    "előző 3 összesen": "2"
                                },
                                {
                                    "usernev": "ferenc1",
                                    "nev": "Orosz Ferenc",
                                    "mettol": "2016-10-08",
                                    "meddig": "2016-10-09",
                                    "(No column name)": "2",
                                    "előző 3 összesen": "4"
                                },
                                {
                                    "usernev": "ferenc1",
                                    "nev": "Orosz Ferenc",
                                    "mettol": "2016-11-07",
                                    "meddig": "2016-11-08",
                                    "(No column name)": "3",
                                    "előző 3 összesen": "6"
                                },
                                {
                                    "usernev": "fruzsina4",
                                    "nev": "Frank Fruzsina",
                                    "mettol": "2016-06-02",
                                    "meddig": "2016-06-04",
                                    "(No column name)": "2",
                                    "előző 3 összesen": "NULL"
                                },
                                {
                                    "usernev": "fruzsina4",
                                    "nev": "Frank Fruzsina",
                                    "mettol": "2016-07-01",
                                    "meddig": "2016-07-04",
                                    "(No column name)": "3",
                                    "előző 3 összesen": "2"
                                },
                                {
                                    "usernev": "fruzsina4",
                                    "nev": "Frank Fruzsina",
                                    "mettol": "2016-07-13",
                                    "meddig": "2016-07-19",
                                    "(No column name)": "3",
                                    "előző 3 összesen": "5"
                                },
                                {
                                    "usernev": "fruzsina4",
                                    "nev": "Frank Fruzsina",
                                    "mettol": "2016-08-27",
                                    "meddig": "2016-08-30",
                                    "(No column name)": "4",
                                    "előző 3 összesen": "8"
                                },
                                {
                                    "usernev": "fruzsina4",
                                    "nev": "Frank Fruzsina",
                                    "mettol": "2016-09-29",
                                    "meddig": "2016-10-01",
                                    "(No column name)": "3",
                                    "előző 3 összesen": "10"
                                },
                                {
                                    "usernev": "fruzsina4",
                                    "nev": "Frank Fruzsina",
                                    "mettol": "2016-11-22",
                                    "meddig": "2016-11-24",
                                    "(No column name)": "2",
                                    "előző 3 összesen": "10"
                                },
                                {
                                    "usernev": "fruzsina4",
                                    "nev": "Frank Fruzsina",
                                    "mettol": "2016-12-16",
                                    "meddig": "2016-12-21",
                                    "(No column name)": "1",
                                    "előző 3 összesen": "9"
                                },
                                {
                                    "usernev": "fruzsina4",
                                    "nev": "Frank Fruzsina",
                                    "mettol": "2017-01-22",
                                    "meddig": "2017-01-25",
                                    "(No column name)": "4",
                                    "előző 3 összesen": "6"
                                },
                                {
                                    "usernev": "gabor1",
                                    "nev": "Köves Gábor",
                                    "mettol": "2016-06-20",
                                    "meddig": "2016-06-21",
                                    "(No column name)": "4",
                                    "előző 3 összesen": "NULL"
                                },
                                {
                                    "usernev": "gabor1",
                                    "nev": "Köves Gábor",
                                    "mettol": "2016-07-12",
                                    "meddig": "2016-07-15",
                                    "(No column name)": "1",
                                    "előző 3 összesen": "4"
                                },
                                {
                                    "usernev": "gabor1",
                                    "nev": "Köves Gábor",
                                    "mettol": "2016-07-28",
                                    "meddig": "2016-07-30",
                                    "(No column name)": "2",
                                    "előző 3 összesen": "5"
                                },
                                {
                                    "usernev": "gabor1",
                                    "nev": "Köves Gábor",
                                    "mettol": "2016-09-02",
                                    "meddig": "2016-09-03",
                                    "(No column name)": "3",
                                    "előző 3 összesen": "7"
                                },
                                {
                                    "usernev": "gabor1",
                                    "nev": "Köves Gábor",
                                    "mettol": "2016-10-20",
                                    "meddig": "2016-10-24",
                                    "(No column name)": "1",
                                    "előző 3 összesen": "6"
                                },
                                {
                                    "usernev": "gabor1",
                                    "nev": "Köves Gábor",
                                    "mettol": "2016-11-19",
                                    "meddig": "2016-11-22",
                                    "(No column name)": "2",
                                    "előző 3 összesen": "6"
                                },
                                {
                                    "usernev": "gabor4",
                                    "nev": "Telek Gábor",
                                    "mettol": "2016-04-26",
                                    "meddig": "2016-04-29",
                                    "(No column name)": "3",
                                    "előző 3 összesen": "NULL"
                                },
                                {
                                    "usernev": "gabor4",
                                    "nev": "Telek Gábor",
                                    "mettol": "2016-05-30",
                                    "meddig": "2016-06-05",
                                    "(No column name)": "1",
                                    "előző 3 összesen": "3"
                                },
                                {
                                    "usernev": "gabor4",
                                    "nev": "Telek Gábor",
                                    "mettol": "2016-08-31",
                                    "meddig": "2016-09-06",
                                    "(No column name)": "4",
                                    "előző 3 összesen": "4"
                                },
                                {
                                    "usernev": "gabor4",
                                    "nev": "Telek Gábor",
                                    "mettol": "2016-11-07",
                                    "meddig": "2016-11-13",
                                    "(No column name)": "4",
                                    "előző 3 összesen": "8"
                                },
                                {
                                    "usernev": "gabriella1",
                                    "nev": "Nagy Gabriella",
                                    "mettol": "2016-04-21",
                                    "meddig": "2016-04-24",
                                    "(No column name)": "3",
                                    "előző 3 összesen": "NULL"
                                },
                                {
                                    "usernev": "gabriella1",
                                    "nev": "Nagy Gabriella",
                                    "mettol": "2016-07-10",
                                    "meddig": "2016-07-11",
                                    "(No column name)": "3",
                                    "előző 3 összesen": "3"
                                },
                                {
                                    "usernev": "gabriella1",
                                    "nev": "Nagy Gabriella",
                                    "mettol": "2016-07-24",
                                    "meddig": "2016-07-31",
                                    "(No column name)": "2",
                                    "előző 3 összesen": "6"
                                },
                                {
                                    "usernev": "gabriella1",
                                    "nev": "Nagy Gabriella",
                                    "mettol": "2017-02-04",
                                    "meddig": "2017-02-11",
                                    "(No column name)": "3",
                                    "előző 3 összesen": "8"
                                },
                                {
                                    "usernev": "gabriella1",
                                    "nev": "Nagy Gabriella",
                                    "mettol": "2017-02-12",
                                    "meddig": "2017-02-13",
                                    "(No column name)": "2",
                                    "előző 3 összesen": "8"
                                },
                                {
                                    "usernev": "gabriella1",
                                    "nev": "Nagy Gabriella",
                                    "mettol": "2017-02-21",
                                    "meddig": "2017-02-27",
                                    "(No column name)": "3",
                                    "előző 3 összesen": "7"
                                },
                                {
                                    "usernev": "gabriella10",
                                    "nev": "Vida Gabriella",
                                    "mettol": "2016-10-01",
                                    "meddig": "2016-10-06",
                                    "(No column name)": "3",
                                    "előző 3 összesen": "NULL"
                                },
                                {
                                    "usernev": "georgij",
                                    "nev": "Nyíri Georgij",
                                    "mettol": "2016-06-16",
                                    "meddig": "2016-06-20",
                                    "(No column name)": "3",
                                    "előző 3 összesen": "NULL"
                                },
                                {
                                    "usernev": "georgij",
                                    "nev": "Nyíri Georgij",
                                    "mettol": "2016-08-16",
                                    "meddig": "2016-08-22",
                                    "(No column name)": "4",
                                    "előző 3 összesen": "3"
                                },
                                {
                                    "usernev": "georgij",
                                    "nev": "Nyíri Georgij",
                                    "mettol": "2016-08-28",
                                    "meddig": "2016-09-04",
                                    "(No column name)": "2",
                                    "előző 3 összesen": "7"
                                },
                                {
                                    "usernev": "georgij",
                                    "nev": "Nyíri Georgij",
                                    "mettol": "2016-09-18",
                                    "meddig": "2016-09-24",
                                    "(No column name)": "3",
                                    "előző 3 összesen": "9"
                                },
                                {
                                    "usernev": "gusztav",
                                    "nev": "Bárci Gusztáv",
                                    "mettol": "2016-05-06",
                                    "meddig": "2016-05-13",
                                    "(No column name)": "2",
                                    "előző 3 összesen": "NULL"
                                },
                                {
                                    "usernev": "gusztav",
                                    "nev": "Bárci Gusztáv",
                                    "mettol": "2016-08-05",
                                    "meddig": "2016-08-11",
                                    "(No column name)": "3",
                                    "előző 3 összesen": "2"
                                },
                                {
                                    "usernev": "gusztav",
                                    "nev": "Bárci Gusztáv",
                                    "mettol": "2016-10-01",
                                    "meddig": "2016-10-03",
                                    "(No column name)": "3",
                                    "előző 3 összesen": "5"
                                },
                                {
                                    "usernev": "gusztav",
                                    "nev": "Bárci Gusztáv",
                                    "mettol": "2017-02-03",
                                    "meddig": "2017-02-09",
                                    "(No column name)": "2",
                                    "előző 3 összesen": "8"
                                },
                                {
                                    "usernev": "gusztav",
                                    "nev": "Bárci Gusztáv",
                                    "mettol": "2017-02-23",
                                    "meddig": "2017-03-01",
                                    "(No column name)": "4",
                                    "előző 3 összesen": "8"
                                },
                                {
                                    "usernev": "GYONGYIK",
                                    "nev": "Kornseé Gyöngyi",
                                    "mettol": "2016-06-02",
                                    "meddig": "2016-06-05",
                                    "(No column name)": "3",
                                    "előző 3 összesen": "NULL"
                                },
                                {
                                    "usernev": "GYONGYIK",
                                    "nev": "Kornseé Gyöngyi",
                                    "mettol": "2016-06-10",
                                    "meddig": "2016-06-17",
                                    "(No column name)": "1",
                                    "előző 3 összesen": "3"
                                },
                                {
                                    "usernev": "GYONGYIK",
                                    "nev": "Kornseé Gyöngyi",
                                    "mettol": "2016-07-01",
                                    "meddig": "2016-07-05",
                                    "(No column name)": "2",
                                    "előző 3 összesen": "4"
                                },
                                {
                                    "usernev": "GYONGYIK",
                                    "nev": "Kornseé Gyöngyi",
                                    "mettol": "2016-08-17",
                                    "meddig": "2016-08-21",
                                    "(No column name)": "3",
                                    "előző 3 összesen": "6"
                                },
                                {
                                    "usernev": "GYONGYIK",
                                    "nev": "Kornseé Gyöngyi",
                                    "mettol": "2016-11-08",
                                    "meddig": "2016-11-13",
                                    "(No column name)": "2",
                                    "előző 3 összesen": "6"
                                },
                                {
                                    "usernev": "GYONGYIK",
                                    "nev": "Kornseé Gyöngyi",
                                    "mettol": "2016-12-01",
                                    "meddig": "2016-12-08",
                                    "(No column name)": "2",
                                    "előző 3 összesen": "7"
                                },
                                {
                                    "usernev": "GYONGYIK",
                                    "nev": "Kornseé Gyöngyi",
                                    "mettol": "2017-01-22",
                                    "meddig": "2017-01-29",
                                    "(No column name)": "3",
                                    "előző 3 összesen": "7"
                                },
                                {
                                    "usernev": "GYORGYO",
                                    "nev": "Oroszi György",
                                    "mettol": "2016-05-27",
                                    "meddig": "2016-05-28",
                                    "(No column name)": "3",
                                    "előző 3 összesen": "NULL"
                                },
                                {
                                    "usernev": "GYORGYO",
                                    "nev": "Oroszi György",
                                    "mettol": "2016-06-01",
                                    "meddig": "2016-06-07",
                                    "(No column name)": "2",
                                    "előző 3 összesen": "3"
                                },
                                {
                                    "usernev": "GYORGYO",
                                    "nev": "Oroszi György",
                                    "mettol": "2016-06-10",
                                    "meddig": "2016-06-15",
                                    "(No column name)": "2",
                                    "előző 3 összesen": "5"
                                },
                                {
                                    "usernev": "GYORGYO",
                                    "nev": "Oroszi György",
                                    "mettol": "2016-07-18",
                                    "meddig": "2016-07-25",
                                    "(No column name)": "2",
                                    "előző 3 összesen": "7"
                                },
                                {
                                    "usernev": "GYORGYO",
                                    "nev": "Oroszi György",
                                    "mettol": "2016-07-28",
                                    "meddig": "2016-08-03",
                                    "(No column name)": "3",
                                    "előző 3 összesen": "6"
                                },
                                {
                                    "usernev": "GYORGYO",
                                    "nev": "Oroszi György",
                                    "mettol": "2016-10-28",
                                    "meddig": "2016-10-31",
                                    "(No column name)": "1",
                                    "előző 3 összesen": "7"
                                },
                                {
                                    "usernev": "GYORGYO",
                                    "nev": "Oroszi György",
                                    "mettol": "2017-02-13",
                                    "meddig": "2017-02-15",
                                    "(No column name)": "2",
                                    "előző 3 összesen": "6"
                                },
                                {
                                    "usernev": "GYORGYO",
                                    "nev": "Oroszi György",
                                    "mettol": "2017-02-24",
                                    "meddig": "2017-02-25",
                                    "(No column name)": "3",
                                    "előző 3 összesen": "6"
                                },
                                {
                                    "usernev": "henrik3",
                                    "nev": "Nádudvari Henrik",
                                    "mettol": "2016-08-24",
                                    "meddig": "2016-08-28",
                                    "(No column name)": "1",
                                    "előző 3 összesen": "NULL"
                                },
                                {
                                    "usernev": "henrik3",
                                    "nev": "Nádudvari Henrik",
                                    "mettol": "2016-12-29",
                                    "meddig": "2017-01-03",
                                    "(No column name)": "3",
                                    "előző 3 összesen": "1"
                                },
                                {
                                    "usernev": "henrik3",
                                    "nev": "Nádudvari Henrik",
                                    "mettol": "2017-01-27",
                                    "meddig": "2017-01-28",
                                    "(No column name)": "3",
                                    "előző 3 összesen": "4"
                                },
                                {
                                    "usernev": "IBOLYAA",
                                    "nev": "Andor Ibolya",
                                    "mettol": "2016-08-29",
                                    "meddig": "2016-08-31",
                                    "(No column name)": "5",
                                    "előző 3 összesen": "NULL"
                                },
                                {
                                    "usernev": "IBOLYAA",
                                    "nev": "Andor Ibolya",
                                    "mettol": "2016-10-23",
                                    "meddig": "2016-10-28",
                                    "(No column name)": "2",
                                    "előző 3 összesen": "5"
                                },
                                {
                                    "usernev": "IBOLYAA",
                                    "nev": "Andor Ibolya",
                                    "mettol": "2017-01-17",
                                    "meddig": "2017-01-23",
                                    "(No column name)": "3",
                                    "előző 3 összesen": "7"
                                },
                                {
                                    "usernev": "ilona3",
                                    "nev": "Bosnyák Ilona",
                                    "mettol": "2016-07-31",
                                    "meddig": "2016-08-06",
                                    "(No column name)": "2",
                                    "előző 3 összesen": "NULL"
                                },
                                {
                                    "usernev": "ilona3",
                                    "nev": "Bosnyák Ilona",
                                    "mettol": "2016-08-04",
                                    "meddig": "2016-08-08",
                                    "(No column name)": "3",
                                    "előző 3 összesen": "2"
                                },
                                {
                                    "usernev": "ilona3",
                                    "nev": "Bosnyák Ilona",
                                    "mettol": "2016-11-04",
                                    "meddig": "2016-11-06",
                                    "(No column name)": "4",
                                    "előző 3 összesen": "5"
                                },
                                {
                                    "usernev": "ilona3",
                                    "nev": "Bosnyák Ilona",
                                    "mettol": "2016-12-25",
                                    "meddig": "2016-12-31",
                                    "(No column name)": "3",
                                    "előző 3 összesen": "9"
                                },
                                {
                                    "usernev": "imre",
                                    "nev": "Búza Imre",
                                    "mettol": "2016-09-17",
                                    "meddig": "2016-09-19",
                                    "(No column name)": "3",
                                    "előző 3 összesen": "NULL"
                                },
                                {
                                    "usernev": "imre",
                                    "nev": "Búza Imre",
                                    "mettol": "2016-10-28",
                                    "meddig": "2016-10-29",
                                    "(No column name)": "4",
                                    "előző 3 összesen": "3"
                                },
                                {
                                    "usernev": "imre1",
                                    "nev": "Papp Imre",
                                    "mettol": "2016-06-23",
                                    "meddig": "2016-06-26",
                                    "(No column name)": "4",
                                    "előző 3 összesen": "NULL"
                                },
                                {
                                    "usernev": "imre1",
                                    "nev": "Papp Imre",
                                    "mettol": "2016-06-27",
                                    "meddig": "2016-06-28",
                                    "(No column name)": "2",
                                    "előző 3 összesen": "4"
                                },
                                {
                                    "usernev": "imre1",
                                    "nev": "Papp Imre",
                                    "mettol": "2016-08-21",
                                    "meddig": "2016-08-27",
                                    "(No column name)": "2",
                                    "előző 3 összesen": "6"
                                },
                                {
                                    "usernev": "imre1",
                                    "nev": "Papp Imre",
                                    "mettol": "2016-08-23",
                                    "meddig": "2016-08-25",
                                    "(No column name)": "3",
                                    "előző 3 összesen": "8"
                                },
                                {
                                    "usernev": "imre1",
                                    "nev": "Papp Imre",
                                    "mettol": "2016-08-29",
                                    "meddig": "2016-08-31",
                                    "(No column name)": "2",
                                    "előző 3 összesen": "7"
                                },
                                {
                                    "usernev": "imre1",
                                    "nev": "Papp Imre",
                                    "mettol": "2017-02-01",
                                    "meddig": "2017-02-04",
                                    "(No column name)": "2",
                                    "előző 3 összesen": "7"
                                },
                                {
                                    "usernev": "imre1",
                                    "nev": "Papp Imre",
                                    "mettol": "2017-02-05",
                                    "meddig": "2017-02-07",
                                    "(No column name)": "4",
                                    "előző 3 összesen": "7"
                                },
                                {
                                    "usernev": "istvan",
                                    "nev": "Soós István",
                                    "mettol": "2016-10-07",
                                    "meddig": "2016-10-10",
                                    "(No column name)": "2",
                                    "előző 3 összesen": "NULL"
                                },
                                {
                                    "usernev": "istvan",
                                    "nev": "Soós István",
                                    "mettol": "2016-11-22",
                                    "meddig": "2016-11-24",
                                    "(No column name)": "3",
                                    "előző 3 összesen": "2"
                                },
                                {
                                    "usernev": "istvan",
                                    "nev": "Soós István",
                                    "mettol": "2017-01-02",
                                    "meddig": "2017-01-05",
                                    "(No column name)": "2",
                                    "előző 3 összesen": "5"
                                },
                                {
                                    "usernev": "istvan1",
                                    "nev": "Vizi István",
                                    "mettol": "2016-04-16",
                                    "meddig": "2016-04-22",
                                    "(No column name)": "3",
                                    "előző 3 összesen": "NULL"
                                },
                                {
                                    "usernev": "istvan1",
                                    "nev": "Vizi István",
                                    "mettol": "2016-04-24",
                                    "meddig": "2016-04-28",
                                    "(No column name)": "3",
                                    "előző 3 összesen": "3"
                                },
                                {
                                    "usernev": "istvan1",
                                    "nev": "Vizi István",
                                    "mettol": "2016-07-19",
                                    "meddig": "2016-07-24",
                                    "(No column name)": "1",
                                    "előző 3 összesen": "6"
                                },
                                {
                                    "usernev": "istvan1",
                                    "nev": "Vizi István",
                                    "mettol": "2017-02-07",
                                    "meddig": "2017-02-10",
                                    "(No column name)": "3",
                                    "előző 3 összesen": "7"
                                },
                                {
                                    "usernev": "ISTVANV",
                                    "nev": "Varga István",
                                    "mettol": "2016-07-01",
                                    "meddig": "2016-07-04",
                                    "(No column name)": "4",
                                    "előző 3 összesen": "NULL"
                                },
                                {
                                    "usernev": "ISTVANV",
                                    "nev": "Varga István",
                                    "mettol": "2016-09-29",
                                    "meddig": "2016-10-01",
                                    "(No column name)": "3",
                                    "előző 3 összesen": "4"
                                },
                                {
                                    "usernev": "janos3",
                                    "nev": "Harangozó János",
                                    "mettol": "2016-06-04",
                                    "meddig": "2016-06-06",
                                    "(No column name)": "1",
                                    "előző 3 összesen": "NULL"
                                },
                                {
                                    "usernev": "janos3",
                                    "nev": "Harangozó János",
                                    "mettol": "2016-08-24",
                                    "meddig": "2016-08-25",
                                    "(No column name)": "3",
                                    "előző 3 összesen": "1"
                                },
                                {
                                    "usernev": "janos3",
                                    "nev": "Harangozó János",
                                    "mettol": "2016-10-03",
                                    "meddig": "2016-10-08",
                                    "(No column name)": "3",
                                    "előző 3 összesen": "4"
                                },
                                {
                                    "usernev": "janos3",
                                    "nev": "Harangozó János",
                                    "mettol": "2016-10-22",
                                    "meddig": "2016-10-23",
                                    "(No column name)": "1",
                                    "előző 3 összesen": "7"
                                },
                                {
                                    "usernev": "janos3",
                                    "nev": "Harangozó János",
                                    "mettol": "2017-02-12",
                                    "meddig": "2017-02-14",
                                    "(No column name)": "3",
                                    "előző 3 összesen": "7"
                                },
                                {
                                    "usernev": "JANOSG",
                                    "nev": "Giliga János",
                                    "mettol": "2016-05-09",
                                    "meddig": "2016-05-15",
                                    "(No column name)": "1",
                                    "előző 3 összesen": "NULL"
                                },
                                {
                                    "usernev": "JANOSG",
                                    "nev": "Giliga János",
                                    "mettol": "2016-08-16",
                                    "meddig": "2016-08-23",
                                    "(No column name)": "3",
                                    "előző 3 összesen": "1"
                                },
                                {
                                    "usernev": "JANOSG",
                                    "nev": "Giliga János",
                                    "mettol": "2016-08-30",
                                    "meddig": "2016-09-03",
                                    "(No column name)": "3",
                                    "előző 3 összesen": "4"
                                },
                                {
                                    "usernev": "JANOSG",
                                    "nev": "Giliga János",
                                    "mettol": "2016-11-07",
                                    "meddig": "2016-11-14",
                                    "(No column name)": "3",
                                    "előző 3 összesen": "7"
                                },
                                {
                                    "usernev": "JANOSG",
                                    "nev": "Giliga János",
                                    "mettol": "2016-12-28",
                                    "meddig": "2016-12-30",
                                    "(No column name)": "2",
                                    "előző 3 összesen": "9"
                                },
                                {
                                    "usernev": "JANOSG",
                                    "nev": "Giliga János",
                                    "mettol": "2017-01-10",
                                    "meddig": "2017-01-15",
                                    "(No column name)": "2",
                                    "előző 3 összesen": "8"
                                },
                                {
                                    "usernev": "JANOSG",
                                    "nev": "Giliga János",
                                    "mettol": "2017-01-31",
                                    "meddig": "2017-02-05",
                                    "(No column name)": "2",
                                    "előző 3 összesen": "7"
                                },
                                {
                                    "usernev": "JANOSP",
                                    "nev": "Pálinkás János",
                                    "mettol": "2016-07-04",
                                    "meddig": "2016-07-11",
                                    "(No column name)": "3",
                                    "előző 3 összesen": "NULL"
                                },
                                {
                                    "usernev": "JANOSP",
                                    "nev": "Pálinkás János",
                                    "mettol": "2016-11-23",
                                    "meddig": "2016-11-28",
                                    "(No column name)": "2",
                                    "előző 3 összesen": "3"
                                },
                                {
                                    "usernev": "JANOSP",
                                    "nev": "Pálinkás János",
                                    "mettol": "2016-11-25",
                                    "meddig": "2016-11-27",
                                    "(No column name)": "2",
                                    "előző 3 összesen": "5"
                                },
                                {
                                    "usernev": "JANOSP",
                                    "nev": "Pálinkás János",
                                    "mettol": "2016-12-18",
                                    "meddig": "2016-12-21",
                                    "(No column name)": "2",
                                    "előző 3 összesen": "7"
                                },
                                {
                                    "usernev": "jozsef",
                                    "nev": "Gergely József",
                                    "mettol": "2016-09-13",
                                    "meddig": "2016-09-19",
                                    "(No column name)": "2",
                                    "előző 3 összesen": "NULL"
                                },
                                {
                                    "usernev": "jozsef",
                                    "nev": "Gergely József",
                                    "mettol": "2016-10-08",
                                    "meddig": "2016-10-10",
                                    "(No column name)": "2",
                                    "előző 3 összesen": "2"
                                },
                                {
                                    "usernev": "jozsef",
                                    "nev": "Gergely József",
                                    "mettol": "2016-12-06",
                                    "meddig": "2016-12-07",
                                    "(No column name)": "2",
                                    "előző 3 összesen": "4"
                                },
                                {
                                    "usernev": "jozsef2",
                                    "nev": "Vajda József",
                                    "mettol": "2016-07-06",
                                    "meddig": "2016-07-11",
                                    "(No column name)": "2",
                                    "előző 3 összesen": "NULL"
                                },
                                {
                                    "usernev": "jozsef2",
                                    "nev": "Vajda József",
                                    "mettol": "2016-07-16",
                                    "meddig": "2016-07-20",
                                    "(No column name)": "3",
                                    "előző 3 összesen": "2"
                                },
                                {
                                    "usernev": "jozsef2",
                                    "nev": "Vajda József",
                                    "mettol": "2016-09-09",
                                    "meddig": "2016-09-15",
                                    "(No column name)": "2",
                                    "előző 3 összesen": "5"
                                },
                                {
                                    "usernev": "jozsef2",
                                    "nev": "Vajda József",
                                    "mettol": "2016-11-23",
                                    "meddig": "2016-11-29",
                                    "(No column name)": "3",
                                    "előző 3 összesen": "7"
                                },
                                {
                                    "usernev": "jozsef2",
                                    "nev": "Vajda József",
                                    "mettol": "2016-11-25",
                                    "meddig": "2016-11-29",
                                    "(No column name)": "3",
                                    "előző 3 összesen": "8"
                                },
                                {
                                    "usernev": "JOZSEFG",
                                    "nev": "Gyuris József",
                                    "mettol": "2016-05-02",
                                    "meddig": "2016-05-06",
                                    "(No column name)": "2",
                                    "előző 3 összesen": "NULL"
                                },
                                {
                                    "usernev": "JOZSEFG",
                                    "nev": "Gyuris József",
                                    "mettol": "2016-05-23",
                                    "meddig": "2016-05-25",
                                    "(No column name)": "1",
                                    "előző 3 összesen": "2"
                                },
                                {
                                    "usernev": "JOZSEFG",
                                    "nev": "Gyuris József",
                                    "mettol": "2016-06-04",
                                    "meddig": "2016-06-09",
                                    "(No column name)": "4",
                                    "előző 3 összesen": "3"
                                },
                                {
                                    "usernev": "JOZSEFG",
                                    "nev": "Gyuris József",
                                    "mettol": "2016-08-24",
                                    "meddig": "2016-08-27",
                                    "(No column name)": "3",
                                    "előző 3 összesen": "7"
                                },
                                {
                                    "usernev": "JOZSEFG",
                                    "nev": "Gyuris József",
                                    "mettol": "2017-01-09",
                                    "meddig": "2017-01-13",
                                    "(No column name)": "2",
                                    "előző 3 összesen": "8"
                                },
                                {
                                    "usernev": "JOZSEFG",
                                    "nev": "Gyuris József",
                                    "mettol": "2017-01-22",
                                    "meddig": "2017-01-26",
                                    "(No column name)": "1",
                                    "előző 3 összesen": "9"
                                },
                                {
                                    "usernev": "JOZSEFG",
                                    "nev": "Gyuris József",
                                    "mettol": "2017-02-24",
                                    "meddig": "2017-03-03",
                                    "(No column name)": "3",
                                    "előző 3 összesen": "6"
                                },
                                {
                                    "usernev": "JUDITH",
                                    "nev": "Hídasi Judit",
                                    "mettol": "2016-06-06",
                                    "meddig": "2016-06-10",
                                    "(No column name)": "2",
                                    "előző 3 összesen": "NULL"
                                },
                                {
                                    "usernev": "JUDITH",
                                    "nev": "Hídasi Judit",
                                    "mettol": "2016-07-28",
                                    "meddig": "2016-07-30",
                                    "(No column name)": "2",
                                    "előző 3 összesen": "2"
                                },
                                {
                                    "usernev": "JUDITH",
                                    "nev": "Hídasi Judit",
                                    "mettol": "2016-12-19",
                                    "meddig": "2016-12-26",
                                    "(No column name)": "1",
                                    "előző 3 összesen": "4"
                                },
                                {
                                    "usernev": "julia",
                                    "nev": "Tóth Júlia",
                                    "mettol": "2016-04-21",
                                    "meddig": "2016-04-26",
                                    "(No column name)": "2",
                                    "előző 3 összesen": "NULL"
                                },
                                {
                                    "usernev": "julia",
                                    "nev": "Tóth Júlia",
                                    "mettol": "2016-05-12",
                                    "meddig": "2016-05-17",
                                    "(No column name)": "1",
                                    "előző 3 összesen": "2"
                                },
                                {
                                    "usernev": "julia",
                                    "nev": "Tóth Júlia",
                                    "mettol": "2016-06-07",
                                    "meddig": "2016-06-08",
                                    "(No column name)": "5",
                                    "előző 3 összesen": "3"
                                },
                                {
                                    "usernev": "julia",
                                    "nev": "Tóth Júlia",
                                    "mettol": "2016-07-20",
                                    "meddig": "2016-07-22",
                                    "(No column name)": "2",
                                    "előző 3 összesen": "8"
                                },
                                {
                                    "usernev": "julia",
                                    "nev": "Tóth Júlia",
                                    "mettol": "2017-02-27",
                                    "meddig": "2017-03-06",
                                    "(No column name)": "3",
                                    "előző 3 összesen": "8"
                                },
                                {
                                    "usernev": "julia4",
                                    "nev": "Nagy Júlia",
                                    "mettol": "2016-11-07",
                                    "meddig": "2016-11-12",
                                    "(No column name)": "1",
                                    "előző 3 összesen": "NULL"
                                },
                                {
                                    "usernev": "julia4",
                                    "nev": "Nagy Júlia",
                                    "mettol": "2017-02-04",
                                    "meddig": "2017-02-11",
                                    "(No column name)": "4",
                                    "előző 3 összesen": "1"
                                },
                                {
                                    "usernev": "julianna4",
                                    "nev": "Szabó Julianna",
                                    "mettol": "2016-07-20",
                                    "meddig": "2016-07-26",
                                    "(No column name)": "2",
                                    "előző 3 összesen": "NULL"
                                },
                                {
                                    "usernev": "julianna4",
                                    "nev": "Szabó Julianna",
                                    "mettol": "2016-10-29",
                                    "meddig": "2016-10-31",
                                    "(No column name)": "3",
                                    "előző 3 összesen": "2"
                                },
                                {
                                    "usernev": "julianna4",
                                    "nev": "Szabó Julianna",
                                    "mettol": "2016-11-03",
                                    "meddig": "2016-11-04",
                                    "(No column name)": "2",
                                    "előző 3 összesen": "5"
                                },
                                {
                                    "usernev": "julianna4",
                                    "nev": "Szabó Julianna",
                                    "mettol": "2016-11-27",
                                    "meddig": "2016-12-04",
                                    "(No column name)": "3",
                                    "előző 3 összesen": "7"
                                },
                                {
                                    "usernev": "kata",
                                    "nev": "Gondos Katalin",
                                    "mettol": "2016-04-10",
                                    "meddig": "2016-04-11",
                                    "(No column name)": "2",
                                    "előző 3 összesen": "NULL"
                                },
                                {
                                    "usernev": "kata",
                                    "nev": "Gondos Katalin",
                                    "mettol": "2016-04-25",
                                    "meddig": "2016-05-01",
                                    "(No column name)": "1",
                                    "előző 3 összesen": "2"
                                },
                                {
                                    "usernev": "kata",
                                    "nev": "Gondos Katalin",
                                    "mettol": "2016-05-31",
                                    "meddig": "2016-06-01",
                                    "(No column name)": "3",
                                    "előző 3 összesen": "3"
                                },
                                {
                                    "usernev": "kata",
                                    "nev": "Gondos Katalin",
                                    "mettol": "2016-06-07",
                                    "meddig": "2016-06-12",
                                    "(No column name)": "2",
                                    "előző 3 összesen": "6"
                                },
                                {
                                    "usernev": "kata",
                                    "nev": "Gondos Katalin",
                                    "mettol": "2016-07-01",
                                    "meddig": "2016-07-07",
                                    "(No column name)": "2",
                                    "előző 3 összesen": "6"
                                },
                                {
                                    "usernev": "kata",
                                    "nev": "Gondos Katalin",
                                    "mettol": "2016-07-03",
                                    "meddig": "2016-07-06",
                                    "(No column name)": "1",
                                    "előző 3 összesen": "7"
                                },
                                {
                                    "usernev": "kata",
                                    "nev": "Gondos Katalin",
                                    "mettol": "2016-07-07",
                                    "meddig": "2016-07-09",
                                    "(No column name)": "3",
                                    "előző 3 összesen": "5"
                                },
                                {
                                    "usernev": "kata",
                                    "nev": "Gondos Katalin",
                                    "mettol": "2016-08-24",
                                    "meddig": "2016-08-27",
                                    "(No column name)": "3",
                                    "előző 3 összesen": "6"
                                },
                                {
                                    "usernev": "kata",
                                    "nev": "Gondos Katalin",
                                    "mettol": "2016-09-19",
                                    "meddig": "2016-09-20",
                                    "(No column name)": "3",
                                    "előző 3 összesen": "7"
                                },
                                {
                                    "usernev": "kata",
                                    "nev": "Gondos Katalin",
                                    "mettol": "2017-01-15",
                                    "meddig": "2017-01-21",
                                    "(No column name)": "3",
                                    "előző 3 összesen": "9"
                                },
                                {
                                    "usernev": "katalin",
                                    "nev": "Horváth Katalin",
                                    "mettol": "2016-04-10",
                                    "meddig": "2016-04-17",
                                    "(No column name)": "2",
                                    "előző 3 összesen": "NULL"
                                },
                                {
                                    "usernev": "katalin",
                                    "nev": "Horváth Katalin",
                                    "mettol": "2016-05-21",
                                    "meddig": "2016-05-26",
                                    "(No column name)": "1",
                                    "előző 3 összesen": "2"
                                },
                                {
                                    "usernev": "katalin",
                                    "nev": "Horváth Katalin",
                                    "mettol": "2016-07-06",
                                    "meddig": "2016-07-11",
                                    "(No column name)": "1",
                                    "előző 3 összesen": "3"
                                },
                                {
                                    "usernev": "katalin",
                                    "nev": "Horváth Katalin",
                                    "mettol": "2016-07-28",
                                    "meddig": "2016-07-29",
                                    "(No column name)": "1",
                                    "előző 3 összesen": "4"
                                },
                                {
                                    "usernev": "katalin",
                                    "nev": "Horváth Katalin",
                                    "mettol": "2016-10-26",
                                    "meddig": "2016-10-30",
                                    "(No column name)": "2",
                                    "előző 3 összesen": "3"
                                },
                                {
                                    "usernev": "katalin",
                                    "nev": "Horváth Katalin",
                                    "mettol": "2016-12-13",
                                    "meddig": "2016-12-19",
                                    "(No column name)": "2",
                                    "előző 3 összesen": "4"
                                },
                                {
                                    "usernev": "katalin",
                                    "nev": "Horváth Katalin",
                                    "mettol": "2016-12-17",
                                    "meddig": "2016-12-24",
                                    "(No column name)": "1",
                                    "előző 3 összesen": "5"
                                },
                                {
                                    "usernev": "katalin",
                                    "nev": "Horváth Katalin",
                                    "mettol": "2016-12-24",
                                    "meddig": "2016-12-27",
                                    "(No column name)": "2",
                                    "előző 3 összesen": "5"
                                },
                                {
                                    "usernev": "katalin",
                                    "nev": "Horváth Katalin",
                                    "mettol": "2017-02-24",
                                    "meddig": "2017-02-27",
                                    "(No column name)": "3",
                                    "előző 3 összesen": "5"
                                },
                                {
                                    "usernev": "katalin4",
                                    "nev": "Kertész Katalin",
                                    "mettol": "2016-07-01",
                                    "meddig": "2016-07-07",
                                    "(No column name)": "1",
                                    "előző 3 összesen": "NULL"
                                },
                                {
                                    "usernev": "katalin4",
                                    "nev": "Kertész Katalin",
                                    "mettol": "2016-07-03",
                                    "meddig": "2016-07-04",
                                    "(No column name)": "4",
                                    "előző 3 összesen": "1"
                                },
                                {
                                    "usernev": "katalin4",
                                    "nev": "Kertész Katalin",
                                    "mettol": "2016-11-27",
                                    "meddig": "2016-12-04",
                                    "(No column name)": "3",
                                    "előző 3 összesen": "5"
                                },
                                {
                                    "usernev": "katalin4",
                                    "nev": "Kertész Katalin",
                                    "mettol": "2016-12-04",
                                    "meddig": "2016-12-09",
                                    "(No column name)": "3",
                                    "előző 3 összesen": "8"
                                },
                                {
                                    "usernev": "katalin4",
                                    "nev": "Kertész Katalin",
                                    "mettol": "2017-01-18",
                                    "meddig": "2017-01-20",
                                    "(No column name)": "2",
                                    "előző 3 összesen": "10"
                                },
                                {
                                    "usernev": "katalin4",
                                    "nev": "Kertész Katalin",
                                    "mettol": "2017-01-24",
                                    "meddig": "2017-01-31",
                                    "(No column name)": "2",
                                    "előző 3 összesen": "8"
                                },
                                {
                                    "usernev": "kati",
                                    "nev": "Zatykó Katalin",
                                    "mettol": "2016-06-06",
                                    "meddig": "2016-06-10",
                                    "(No column name)": "2",
                                    "előző 3 összesen": "NULL"
                                },
                                {
                                    "usernev": "kati",
                                    "nev": "Zatykó Katalin",
                                    "mettol": "2016-06-06",
                                    "meddig": "2016-06-11",
                                    "(No column name)": "3",
                                    "előző 3 összesen": "2"
                                },
                                {
                                    "usernev": "kati",
                                    "nev": "Zatykó Katalin",
                                    "mettol": "2016-07-13",
                                    "meddig": "2016-07-20",
                                    "(No column name)": "2",
                                    "előző 3 összesen": "5"
                                },
                                {
                                    "usernev": "kati",
                                    "nev": "Zatykó Katalin",
                                    "mettol": "2016-07-27",
                                    "meddig": "2016-08-03",
                                    "(No column name)": "2",
                                    "előző 3 összesen": "7"
                                },
                                {
                                    "usernev": "kati",
                                    "nev": "Zatykó Katalin",
                                    "mettol": "2016-08-03",
                                    "meddig": "2016-08-07",
                                    "(No column name)": "2",
                                    "előző 3 összesen": "7"
                                },
                                {
                                    "usernev": "kati",
                                    "nev": "Zatykó Katalin",
                                    "mettol": "2016-10-26",
                                    "meddig": "2016-10-28",
                                    "(No column name)": "2",
                                    "előző 3 összesen": "6"
                                },
                                {
                                    "usernev": "kati",
                                    "nev": "Zatykó Katalin",
                                    "mettol": "2016-10-30",
                                    "meddig": "2016-11-01",
                                    "(No column name)": "3",
                                    "előző 3 összesen": "6"
                                },
                                {
                                    "usernev": "katka",
                                    "nev": "Kovács Katalin",
                                    "mettol": "2016-04-10",
                                    "meddig": "2016-04-12",
                                    "(No column name)": "2",
                                    "előző 3 összesen": "NULL"
                                },
                                {
                                    "usernev": "katka",
                                    "nev": "Kovács Katalin",
                                    "mettol": "2016-05-09",
                                    "meddig": "2016-05-15",
                                    "(No column name)": "3",
                                    "előző 3 összesen": "2"
                                },
                                {
                                    "usernev": "katka",
                                    "nev": "Kovács Katalin",
                                    "mettol": "2016-06-13",
                                    "meddig": "2016-06-18",
                                    "(No column name)": "1",
                                    "előző 3 összesen": "5"
                                },
                                {
                                    "usernev": "katka",
                                    "nev": "Kovács Katalin",
                                    "mettol": "2016-06-13",
                                    "meddig": "2016-06-19",
                                    "(No column name)": "4",
                                    "előző 3 összesen": "6"
                                },
                                {
                                    "usernev": "katka",
                                    "nev": "Kovács Katalin",
                                    "mettol": "2016-08-24",
                                    "meddig": "2016-08-26",
                                    "(No column name)": "2",
                                    "előző 3 összesen": "8"
                                },
                                {
                                    "usernev": "katka",
                                    "nev": "Kovács Katalin",
                                    "mettol": "2016-09-05",
                                    "meddig": "2016-09-10",
                                    "(No column name)": "4",
                                    "előző 3 összesen": "7"
                                },
                                {
                                    "usernev": "katka",
                                    "nev": "Kovács Katalin",
                                    "mettol": "2016-11-05",
                                    "meddig": "2016-11-08",
                                    "(No column name)": "3",
                                    "előző 3 összesen": "10"
                                },
                                {
                                    "usernev": "katka",
                                    "nev": "Kovács Katalin",
                                    "mettol": "2017-01-02",
                                    "meddig": "2017-01-05",
                                    "(No column name)": "3",
                                    "előző 3 összesen": "9"
                                },
                                {
                                    "usernev": "katka",
                                    "nev": "Kovács Katalin",
                                    "mettol": "2017-01-19",
                                    "meddig": "2017-01-20",
                                    "(No column name)": "3",
                                    "előző 3 összesen": "10"
                                },
                                {
                                    "usernev": "klaudia2",
                                    "nev": "Bakó Klaudia",
                                    "mettol": "2016-06-06",
                                    "meddig": "2016-06-08",
                                    "(No column name)": "4",
                                    "előző 3 összesen": "NULL"
                                },
                                {
                                    "usernev": "klaudia2",
                                    "nev": "Bakó Klaudia",
                                    "mettol": "2016-10-01",
                                    "meddig": "2016-10-02",
                                    "(No column name)": "2",
                                    "előző 3 összesen": "4"
                                },
                                {
                                    "usernev": "klaudia2",
                                    "nev": "Bakó Klaudia",
                                    "mettol": "2016-10-02",
                                    "meddig": "2016-10-05",
                                    "(No column name)": "2",
                                    "előző 3 összesen": "6"
                                },
                                {
                                    "usernev": "kornel4",
                                    "nev": "Lukács Kornél",
                                    "mettol": "2016-05-08",
                                    "meddig": "2016-05-14",
                                    "(No column name)": "3",
                                    "előző 3 összesen": "NULL"
                                },
                                {
                                    "usernev": "kornel4",
                                    "nev": "Lukács Kornél",
                                    "mettol": "2016-06-02",
                                    "meddig": "2016-06-09",
                                    "(No column name)": "3",
                                    "előző 3 összesen": "3"
                                },
                                {
                                    "usernev": "kornel4",
                                    "nev": "Lukács Kornél",
                                    "mettol": "2016-09-23",
                                    "meddig": "2016-09-24",
                                    "(No column name)": "3",
                                    "előző 3 összesen": "6"
                                },
                                {
                                    "usernev": "kristof4",
                                    "nev": "Poprádi Kristóf",
                                    "mettol": "2016-04-08",
                                    "meddig": "2016-04-14",
                                    "(No column name)": "2",
                                    "előző 3 összesen": "NULL"
                                },
                                {
                                    "usernev": "kristof4",
                                    "nev": "Poprádi Kristóf",
                                    "mettol": "2016-09-30",
                                    "meddig": "2016-10-04",
                                    "(No column name)": "2",
                                    "előző 3 összesen": "2"
                                },
                                {
                                    "usernev": "kriszti",
                                    "nev": "Horváth Krisztina",
                                    "mettol": "2016-05-19",
                                    "meddig": "2016-05-26",
                                    "(No column name)": "2",
                                    "előző 3 összesen": "NULL"
                                },
                                {
                                    "usernev": "kriszti",
                                    "nev": "Horváth Krisztina",
                                    "mettol": "2016-08-24",
                                    "meddig": "2016-08-25",
                                    "(No column name)": "3",
                                    "előző 3 összesen": "2"
                                },
                                {
                                    "usernev": "kriszti",
                                    "nev": "Horváth Krisztina",
                                    "mettol": "2016-09-30",
                                    "meddig": "2016-10-05",
                                    "(No column name)": "3",
                                    "előző 3 összesen": "5"
                                },
                                {
                                    "usernev": "kriszti",
                                    "nev": "Horváth Krisztina",
                                    "mettol": "2016-10-01",
                                    "meddig": "2016-10-02",
                                    "(No column name)": "3",
                                    "előző 3 összesen": "8"
                                },
                                {
                                    "usernev": "kriszti",
                                    "nev": "Horváth Krisztina",
                                    "mettol": "2017-02-04",
                                    "meddig": "2017-02-11",
                                    "(No column name)": "3",
                                    "előző 3 összesen": "9"
                                },
                                {
                                    "usernev": "kriszti",
                                    "nev": "Horváth Krisztina",
                                    "mettol": "2017-03-03",
                                    "meddig": "2017-03-04",
                                    "(No column name)": "3",
                                    "előző 3 összesen": "9"
                                },
                                {
                                    "usernev": "krisztian4",
                                    "nev": "Czérna Krisztián",
                                    "mettol": "2016-06-03",
                                    "meddig": "2016-06-04",
                                    "(No column name)": "2",
                                    "előző 3 összesen": "NULL"
                                },
                                {
                                    "usernev": "krisztian4",
                                    "nev": "Czérna Krisztián",
                                    "mettol": "2016-06-07",
                                    "meddig": "2016-06-09",
                                    "(No column name)": "2",
                                    "előző 3 összesen": "2"
                                },
                                {
                                    "usernev": "krisztian4",
                                    "nev": "Czérna Krisztián",
                                    "mettol": "2016-07-28",
                                    "meddig": "2016-08-01",
                                    "(No column name)": "2",
                                    "előző 3 összesen": "4"
                                },
                                {
                                    "usernev": "krisztian4",
                                    "nev": "Czérna Krisztián",
                                    "mettol": "2016-08-01",
                                    "meddig": "2016-08-04",
                                    "(No column name)": "3",
                                    "előző 3 összesen": "6"
                                },
                                {
                                    "usernev": "krisztian4",
                                    "nev": "Czérna Krisztián",
                                    "mettol": "2016-08-16",
                                    "meddig": "2016-08-19",
                                    "(No column name)": "1",
                                    "előző 3 összesen": "7"
                                },
                                {
                                    "usernev": "krisztian4",
                                    "nev": "Czérna Krisztián",
                                    "mettol": "2016-08-29",
                                    "meddig": "2016-09-03",
                                    "(No column name)": "1",
                                    "előző 3 összesen": "6"
                                },
                                {
                                    "usernev": "krisztian4",
                                    "nev": "Czérna Krisztián",
                                    "mettol": "2016-10-17",
                                    "meddig": "2016-10-22",
                                    "(No column name)": "3",
                                    "előző 3 összesen": "5"
                                },
                                {
                                    "usernev": "krisztian4",
                                    "nev": "Czérna Krisztián",
                                    "mettol": "2016-11-02",
                                    "meddig": "2016-11-03",
                                    "(No column name)": "2",
                                    "előző 3 összesen": "5"
                                },
                                {
                                    "usernev": "krisztian4",
                                    "nev": "Czérna Krisztián",
                                    "mettol": "2016-12-11",
                                    "meddig": "2016-12-18",
                                    "(No column name)": "2",
                                    "előző 3 összesen": "6"
                                },
                                {
                                    "usernev": "krisztian4",
                                    "nev": "Czérna Krisztián",
                                    "mettol": "2017-01-06",
                                    "meddig": "2017-01-09",
                                    "(No column name)": "1",
                                    "előző 3 összesen": "7"
                                },
                                {
                                    "usernev": "krisztian4",
                                    "nev": "Czérna Krisztián",
                                    "mettol": "2017-01-16",
                                    "meddig": "2017-01-23",
                                    "(No column name)": "3",
                                    "előző 3 összesen": "5"
                                },
                                {
                                    "usernev": "krisztian4",
                                    "nev": "Czérna Krisztián",
                                    "mettol": "2017-02-23",
                                    "meddig": "2017-03-02",
                                    "(No column name)": "2",
                                    "előző 3 összesen": "6"
                                },
                                {
                                    "usernev": "KRISZTIANM",
                                    "nev": "Mogyródi Krisztián",
                                    "mettol": "2016-04-09",
                                    "meddig": "2016-04-15",
                                    "(No column name)": "2",
                                    "előző 3 összesen": "NULL"
                                },
                                {
                                    "usernev": "KRISZTIANM",
                                    "nev": "Mogyródi Krisztián",
                                    "mettol": "2016-06-04",
                                    "meddig": "2016-06-08",
                                    "(No column name)": "2",
                                    "előző 3 összesen": "2"
                                },
                                {
                                    "usernev": "KRISZTIANM",
                                    "nev": "Mogyródi Krisztián",
                                    "mettol": "2016-07-09",
                                    "meddig": "2016-07-14",
                                    "(No column name)": "3",
                                    "előző 3 összesen": "4"
                                },
                                {
                                    "usernev": "KRISZTIANM",
                                    "nev": "Mogyródi Krisztián",
                                    "mettol": "2016-08-02",
                                    "meddig": "2016-08-08",
                                    "(No column name)": "4",
                                    "előző 3 összesen": "7"
                                },
                                {
                                    "usernev": "KRISZTIANM",
                                    "nev": "Mogyródi Krisztián",
                                    "mettol": "2016-12-25",
                                    "meddig": "2016-12-31",
                                    "(No column name)": "2",
                                    "előző 3 összesen": "9"
                                },
                                {
                                    "usernev": "KRISZTIANM",
                                    "nev": "Mogyródi Krisztián",
                                    "mettol": "2017-01-16",
                                    "meddig": "2017-01-23",
                                    "(No column name)": "1",
                                    "előző 3 összesen": "9"
                                },
                                {
                                    "usernev": "krisztina",
                                    "nev": "Szedlár Krisztina",
                                    "mettol": "2016-05-21",
                                    "meddig": "2016-05-27",
                                    "(No column name)": "2",
                                    "előző 3 összesen": "NULL"
                                },
                                {
                                    "usernev": "krisztina",
                                    "nev": "Szedlár Krisztina",
                                    "mettol": "2016-07-05",
                                    "meddig": "2016-07-12",
                                    "(No column name)": "3",
                                    "előző 3 összesen": "2"
                                },
                                {
                                    "usernev": "krisztina",
                                    "nev": "Szedlár Krisztina",
                                    "mettol": "2016-09-13",
                                    "meddig": "2016-09-16",
                                    "(No column name)": "1",
                                    "előző 3 összesen": "5"
                                },
                                {
                                    "usernev": "krisztina",
                                    "nev": "Szedlár Krisztina",
                                    "mettol": "2016-09-19",
                                    "meddig": "2016-09-26",
                                    "(No column name)": "2",
                                    "előző 3 összesen": "6"
                                },
                                {
                                    "usernev": "krisztina",
                                    "nev": "Szedlár Krisztina",
                                    "mettol": "2016-11-08",
                                    "meddig": "2016-11-12",
                                    "(No column name)": "2",
                                    "előző 3 összesen": "6"
                                },
                                {
                                    "usernev": "krisztina",
                                    "nev": "Szedlár Krisztina",
                                    "mettol": "2016-11-22",
                                    "meddig": "2016-11-25",
                                    "(No column name)": "1",
                                    "előző 3 összesen": "5"
                                },
                                {
                                    "usernev": "krisztina",
                                    "nev": "Szedlár Krisztina",
                                    "mettol": "2017-02-05",
                                    "meddig": "2017-02-07",
                                    "(No column name)": "2",
                                    "előző 3 összesen": "5"
                                },
                                {
                                    "usernev": "krisztina",
                                    "nev": "Szedlár Krisztina",
                                    "mettol": "2017-02-16",
                                    "meddig": "2017-02-20",
                                    "(No column name)": "4",
                                    "előző 3 összesen": "5"
                                },
                                {
                                    "usernev": "krisztina1",
                                    "nev": "Bori Krisztina",
                                    "mettol": "2016-04-28",
                                    "meddig": "2016-04-30",
                                    "(No column name)": "2",
                                    "előző 3 összesen": "NULL"
                                },
                                {
                                    "usernev": "krisztina1",
                                    "nev": "Bori Krisztina",
                                    "mettol": "2016-05-16",
                                    "meddig": "2016-05-20",
                                    "(No column name)": "1",
                                    "előző 3 összesen": "2"
                                },
                                {
                                    "usernev": "krisztina1",
                                    "nev": "Bori Krisztina",
                                    "mettol": "2016-06-16",
                                    "meddig": "2016-06-22",
                                    "(No column name)": "2",
                                    "előző 3 összesen": "3"
                                },
                                {
                                    "usernev": "krisztina1",
                                    "nev": "Bori Krisztina",
                                    "mettol": "2016-09-15",
                                    "meddig": "2016-09-20",
                                    "(No column name)": "3",
                                    "előző 3 összesen": "5"
                                },
                                {
                                    "usernev": "krisztina1",
                                    "nev": "Bori Krisztina",
                                    "mettol": "2016-10-29",
                                    "meddig": "2016-10-30",
                                    "(No column name)": "4",
                                    "előző 3 összesen": "6"
                                },
                                {
                                    "usernev": "krisztina1",
                                    "nev": "Bori Krisztina",
                                    "mettol": "2017-01-21",
                                    "meddig": "2017-01-24",
                                    "(No column name)": "2",
                                    "előző 3 összesen": "9"
                                },
                                {
                                    "usernev": "KRISZTINAG",
                                    "nev": "Gyárfás Krisztina",
                                    "mettol": "2016-04-23",
                                    "meddig": "2016-04-24",
                                    "(No column name)": "2",
                                    "előző 3 összesen": "NULL"
                                },
                                {
                                    "usernev": "KRISZTINAG",
                                    "nev": "Gyárfás Krisztina",
                                    "mettol": "2016-05-24",
                                    "meddig": "2016-05-31",
                                    "(No column name)": "1",
                                    "előző 3 összesen": "2"
                                },
                                {
                                    "usernev": "KRISZTINAG",
                                    "nev": "Gyárfás Krisztina",
                                    "mettol": "2016-06-08",
                                    "meddig": "2016-06-12",
                                    "(No column name)": "1",
                                    "előző 3 összesen": "3"
                                },
                                {
                                    "usernev": "KRISZTINAG",
                                    "nev": "Gyárfás Krisztina",
                                    "mettol": "2016-08-08",
                                    "meddig": "2016-08-12",
                                    "(No column name)": "3",
                                    "előző 3 összesen": "4"
                                },
                                {
                                    "usernev": "KRISZTINAG",
                                    "nev": "Gyárfás Krisztina",
                                    "mettol": "2017-01-25",
                                    "meddig": "2017-01-30",
                                    "(No column name)": "2",
                                    "előző 3 összesen": "5"
                                },
                                {
                                    "usernev": "lajos",
                                    "nev": "Kiss Lajos",
                                    "mettol": "2016-07-18",
                                    "meddig": "2016-07-21",
                                    "(No column name)": "2",
                                    "előző 3 összesen": "NULL"
                                },
                                {
                                    "usernev": "lajos",
                                    "nev": "Kiss Lajos",
                                    "mettol": "2016-12-25",
                                    "meddig": "2016-12-28",
                                    "(No column name)": "4",
                                    "előző 3 összesen": "2"
                                },
                                {
                                    "usernev": "lajos",
                                    "nev": "Kiss Lajos",
                                    "mettol": "2017-02-12",
                                    "meddig": "2017-02-13",
                                    "(No column name)": "1",
                                    "előző 3 összesen": "6"
                                },
                                {
                                    "usernev": "lala",
                                    "nev": "Nagymihály Lajos",
                                    "mettol": "2016-06-16",
                                    "meddig": "2016-06-22",
                                    "(No column name)": "2",
                                    "előző 3 összesen": "NULL"
                                },
                                {
                                    "usernev": "lala",
                                    "nev": "Nagymihály Lajos",
                                    "mettol": "2016-07-20",
                                    "meddig": "2016-07-21",
                                    "(No column name)": "3",
                                    "előző 3 összesen": "2"
                                },
                                {
                                    "usernev": "lala",
                                    "nev": "Nagymihály Lajos",
                                    "mettol": "2016-07-26",
                                    "meddig": "2016-07-27",
                                    "(No column name)": "3",
                                    "előző 3 összesen": "5"
                                },
                                {
                                    "usernev": "lala",
                                    "nev": "Nagymihály Lajos",
                                    "mettol": "2016-10-30",
                                    "meddig": "2016-10-31",
                                    "(No column name)": "3",
                                    "előző 3 összesen": "8"
                                },
                                {
                                    "usernev": "lala",
                                    "nev": "Nagymihály Lajos",
                                    "mettol": "2017-01-08",
                                    "meddig": "2017-01-10",
                                    "(No column name)": "3",
                                    "előző 3 összesen": "9"
                                },
                                {
                                    "usernev": "lala",
                                    "nev": "Nagymihály Lajos",
                                    "mettol": "2017-01-17",
                                    "meddig": "2017-01-19",
                                    "(No column name)": "2",
                                    "előző 3 összesen": "9"
                                },
                                {
                                    "usernev": "laszlo1",
                                    "nev": "Farkas László",
                                    "mettol": "2016-09-23",
                                    "meddig": "2016-09-30",
                                    "(No column name)": "3",
                                    "előző 3 összesen": "NULL"
                                },
                                {
                                    "usernev": "laszlo2",
                                    "nev": "Móra László",
                                    "mettol": "2016-04-06",
                                    "meddig": "2016-04-10",
                                    "(No column name)": "2",
                                    "előző 3 összesen": "NULL"
                                },
                                {
                                    "usernev": "laszlo2",
                                    "nev": "Móra László",
                                    "mettol": "2016-04-27",
                                    "meddig": "2016-04-29",
                                    "(No column name)": "2",
                                    "előző 3 összesen": "2"
                                },
                                {
                                    "usernev": "laszlo2",
                                    "nev": "Móra László",
                                    "mettol": "2016-08-14",
                                    "meddig": "2016-08-15",
                                    "(No column name)": "3",
                                    "előző 3 összesen": "4"
                                },
                                {
                                    "usernev": "laszlo2",
                                    "nev": "Móra László",
                                    "mettol": "2016-09-05",
                                    "meddig": "2016-09-10",
                                    "(No column name)": "3",
                                    "előző 3 összesen": "7"
                                },
                                {
                                    "usernev": "laszlo2",
                                    "nev": "Móra László",
                                    "mettol": "2016-11-25",
                                    "meddig": "2016-11-26",
                                    "(No column name)": "3",
                                    "előző 3 összesen": "8"
                                },
                                {
                                    "usernev": "LASZLOA",
                                    "nev": "Antal László",
                                    "mettol": "2016-06-03",
                                    "meddig": "2016-06-09",
                                    "(No column name)": "2",
                                    "előző 3 összesen": "NULL"
                                },
                                {
                                    "usernev": "LASZLOA",
                                    "nev": "Antal László",
                                    "mettol": "2016-06-07",
                                    "meddig": "2016-06-11",
                                    "(No column name)": "1",
                                    "előző 3 összesen": "2"
                                },
                                {
                                    "usernev": "LASZLOA",
                                    "nev": "Antal László",
                                    "mettol": "2016-06-10",
                                    "meddig": "2016-06-13",
                                    "(No column name)": "3",
                                    "előző 3 összesen": "3"
                                },
                                {
                                    "usernev": "LASZLOA",
                                    "nev": "Antal László",
                                    "mettol": "2017-02-08",
                                    "meddig": "2017-02-14",
                                    "(No column name)": "2",
                                    "előző 3 összesen": "6"
                                },
                                {
                                    "usernev": "LASZLON",
                                    "nev": "Nagy László",
                                    "mettol": "2016-06-03",
                                    "meddig": "2016-06-06",
                                    "(No column name)": "1",
                                    "előző 3 összesen": "NULL"
                                },
                                {
                                    "usernev": "LASZLON",
                                    "nev": "Nagy László",
                                    "mettol": "2016-06-08",
                                    "meddig": "2016-06-09",
                                    "(No column name)": "2",
                                    "előző 3 összesen": "1"
                                },
                                {
                                    "usernev": "LASZLON",
                                    "nev": "Nagy László",
                                    "mettol": "2016-10-01",
                                    "meddig": "2016-10-04",
                                    "(No column name)": "3",
                                    "előző 3 összesen": "3"
                                },
                                {
                                    "usernev": "LASZLON",
                                    "nev": "Nagy László",
                                    "mettol": "2016-10-09",
                                    "meddig": "2016-10-14",
                                    "(No column name)": "1",
                                    "előző 3 összesen": "6"
                                },
                                {
                                    "usernev": "LASZLON",
                                    "nev": "Nagy László",
                                    "mettol": "2016-11-29",
                                    "meddig": "2016-12-04",
                                    "(No column name)": "1",
                                    "előző 3 összesen": "6"
                                },
                                {
                                    "usernev": "LASZLON",
                                    "nev": "Nagy László",
                                    "mettol": "2017-02-18",
                                    "meddig": "2017-02-25",
                                    "(No column name)": "3",
                                    "előző 3 összesen": "5"
                                },
                                {
                                    "usernev": "maria1",
                                    "nev": "Baráth Mária",
                                    "mettol": "2016-05-13",
                                    "meddig": "2016-05-18",
                                    "(No column name)": "2",
                                    "előző 3 összesen": "NULL"
                                },
                                {
                                    "usernev": "maria1",
                                    "nev": "Baráth Mária",
                                    "mettol": "2016-05-18",
                                    "meddig": "2016-05-19",
                                    "(No column name)": "1",
                                    "előző 3 összesen": "2"
                                },
                                {
                                    "usernev": "maria1",
                                    "nev": "Baráth Mária",
                                    "mettol": "2016-05-28",
                                    "meddig": "2016-06-03",
                                    "(No column name)": "2",
                                    "előző 3 összesen": "3"
                                },
                                {
                                    "usernev": "maria1",
                                    "nev": "Baráth Mária",
                                    "mettol": "2016-06-23",
                                    "meddig": "2016-06-27",
                                    "(No column name)": "1",
                                    "előző 3 összesen": "5"
                                },
                                {
                                    "usernev": "maria1",
                                    "nev": "Baráth Mária",
                                    "mettol": "2016-08-11",
                                    "meddig": "2016-08-14",
                                    "(No column name)": "3",
                                    "előző 3 összesen": "4"
                                },
                                {
                                    "usernev": "maria1",
                                    "nev": "Baráth Mária",
                                    "mettol": "2016-09-02",
                                    "meddig": "2016-09-05",
                                    "(No column name)": "1",
                                    "előző 3 összesen": "6"
                                },
                                {
                                    "usernev": "maria1",
                                    "nev": "Baráth Mária",
                                    "mettol": "2016-11-08",
                                    "meddig": "2016-11-12",
                                    "(No column name)": "3",
                                    "előző 3 összesen": "5"
                                },
                                {
                                    "usernev": "maria1",
                                    "nev": "Baráth Mária",
                                    "mettol": "2017-02-24",
                                    "meddig": "2017-03-02",
                                    "(No column name)": "2",
                                    "előző 3 összesen": "7"
                                },
                                {
                                    "usernev": "mark",
                                    "nev": "Kispál Márk",
                                    "mettol": "2016-04-19",
                                    "meddig": "2016-04-26",
                                    "(No column name)": "4",
                                    "előző 3 összesen": "NULL"
                                },
                                {
                                    "usernev": "mark",
                                    "nev": "Kispál Márk",
                                    "mettol": "2016-06-13",
                                    "meddig": "2016-06-18",
                                    "(No column name)": "3",
                                    "előző 3 összesen": "4"
                                },
                                {
                                    "usernev": "mark",
                                    "nev": "Kispál Márk",
                                    "mettol": "2016-08-09",
                                    "meddig": "2016-08-16",
                                    "(No column name)": "3",
                                    "előző 3 összesen": "7"
                                },
                                {
                                    "usernev": "mark",
                                    "nev": "Kispál Márk",
                                    "mettol": "2016-10-20",
                                    "meddig": "2016-10-27",
                                    "(No column name)": "1",
                                    "előző 3 összesen": "10"
                                },
                                {
                                    "usernev": "mark",
                                    "nev": "Kispál Márk",
                                    "mettol": "2016-11-19",
                                    "meddig": "2016-11-22",
                                    "(No column name)": "2",
                                    "előző 3 összesen": "7"
                                },
                                {
                                    "usernev": "MARKH",
                                    "nev": "Horváth Márk",
                                    "mettol": "2016-09-14",
                                    "meddig": "2016-09-17",
                                    "(No column name)": "3",
                                    "előző 3 összesen": "NULL"
                                },
                                {
                                    "usernev": "MARKH",
                                    "nev": "Horváth Márk",
                                    "mettol": "2016-09-23",
                                    "meddig": "2016-09-30",
                                    "(No column name)": "2",
                                    "előző 3 összesen": "3"
                                },
                                {
                                    "usernev": "MARKH",
                                    "nev": "Horváth Márk",
                                    "mettol": "2016-09-26",
                                    "meddig": "2016-10-01",
                                    "(No column name)": "4",
                                    "előző 3 összesen": "5"
                                },
                                {
                                    "usernev": "MARKH",
                                    "nev": "Horváth Márk",
                                    "mettol": "2017-01-22",
                                    "meddig": "2017-01-29",
                                    "(No column name)": "4",
                                    "előző 3 összesen": "9"
                                },
                                {
                                    "usernev": "marton",
                                    "nev": "Kalacsi Márton",
                                    "mettol": "2016-04-27",
                                    "meddig": "2016-05-04",
                                    "(No column name)": "3",
                                    "előző 3 összesen": "NULL"
                                },
                                {
                                    "usernev": "marton",
                                    "nev": "Kalacsi Márton",
                                    "mettol": "2016-05-05",
                                    "meddig": "2016-05-10",
                                    "(No column name)": "4",
                                    "előző 3 összesen": "3"
                                },
                                {
                                    "usernev": "marton",
                                    "nev": "Kalacsi Márton",
                                    "mettol": "2016-06-06",
                                    "meddig": "2016-06-08",
                                    "(No column name)": "3",
                                    "előző 3 összesen": "7"
                                },
                                {
                                    "usernev": "marton",
                                    "nev": "Kalacsi Márton",
                                    "mettol": "2016-06-22",
                                    "meddig": "2016-06-29",
                                    "(No column name)": "2",
                                    "előző 3 összesen": "10"
                                },
                                {
                                    "usernev": "marton",
                                    "nev": "Kalacsi Márton",
                                    "mettol": "2016-08-12",
                                    "meddig": "2016-08-17",
                                    "(No column name)": "2",
                                    "előző 3 összesen": "9"
                                },
                                {
                                    "usernev": "marton",
                                    "nev": "Kalacsi Márton",
                                    "mettol": "2016-09-10",
                                    "meddig": "2016-09-12",
                                    "(No column name)": "2",
                                    "előző 3 összesen": "7"
                                },
                                {
                                    "usernev": "marton",
                                    "nev": "Kalacsi Márton",
                                    "mettol": "2017-03-02",
                                    "meddig": "2017-03-03",
                                    "(No column name)": "2",
                                    "előző 3 összesen": "6"
                                },
                                {
                                    "usernev": "MATEK",
                                    "nev": "Koza Máté",
                                    "mettol": "2016-08-17",
                                    "meddig": "2016-08-21",
                                    "(No column name)": "4",
                                    "előző 3 összesen": "NULL"
                                },
                                {
                                    "usernev": "MATEK",
                                    "nev": "Koza Máté",
                                    "mettol": "2016-10-01",
                                    "meddig": "2016-10-04",
                                    "(No column name)": "2",
                                    "előző 3 összesen": "4"
                                },
                                {
                                    "usernev": "MATEK",
                                    "nev": "Koza Máté",
                                    "mettol": "2017-01-16",
                                    "meddig": "2017-01-22",
                                    "(No column name)": "2",
                                    "előző 3 összesen": "6"
                                },
                                {
                                    "usernev": "matyas2",
                                    "nev": "Botka Mátyás",
                                    "mettol": "2016-07-13",
                                    "meddig": "2016-07-16",
                                    "(No column name)": "2",
                                    "előző 3 összesen": "NULL"
                                },
                                {
                                    "usernev": "matyas2",
                                    "nev": "Botka Mátyás",
                                    "mettol": "2016-12-09",
                                    "meddig": "2016-12-13",
                                    "(No column name)": "3",
                                    "előző 3 összesen": "2"
                                },
                                {
                                    "usernev": "MATYASS",
                                    "nev": "Szilágyi Mátyás",
                                    "mettol": "2016-05-10",
                                    "meddig": "2016-05-16",
                                    "(No column name)": "2",
                                    "előző 3 összesen": "NULL"
                                },
                                {
                                    "usernev": "MATYASS",
                                    "nev": "Szilágyi Mátyás",
                                    "mettol": "2016-06-02",
                                    "meddig": "2016-06-08",
                                    "(No column name)": "1",
                                    "előző 3 összesen": "2"
                                },
                                {
                                    "usernev": "MATYASS",
                                    "nev": "Szilágyi Mátyás",
                                    "mettol": "2016-07-23",
                                    "meddig": "2016-07-25",
                                    "(No column name)": "3",
                                    "előző 3 összesen": "3"
                                },
                                {
                                    "usernev": "MATYASS",
                                    "nev": "Szilágyi Mátyás",
                                    "mettol": "2016-10-09",
                                    "meddig": "2016-10-15",
                                    "(No column name)": "3",
                                    "előző 3 összesen": "6"
                                },
                                {
                                    "usernev": "MATYASS",
                                    "nev": "Szilágyi Mátyás",
                                    "mettol": "2016-10-24",
                                    "meddig": "2016-10-31",
                                    "(No column name)": "1",
                                    "előző 3 összesen": "7"
                                },
                                {
                                    "usernev": "MATYASS",
                                    "nev": "Szilágyi Mátyás",
                                    "mettol": "2016-10-30",
                                    "meddig": "2016-11-04",
                                    "(No column name)": "3",
                                    "előző 3 összesen": "7"
                                },
                                {
                                    "usernev": "MATYASS",
                                    "nev": "Szilágyi Mátyás",
                                    "mettol": "2016-12-20",
                                    "meddig": "2016-12-25",
                                    "(No column name)": "2",
                                    "előző 3 összesen": "7"
                                },
                                {
                                    "usernev": "MATYASS",
                                    "nev": "Szilágyi Mátyás",
                                    "mettol": "2017-01-09",
                                    "meddig": "2017-01-13",
                                    "(No column name)": "2",
                                    "előző 3 összesen": "6"
                                },
                                {
                                    "usernev": "MIHALYJ",
                                    "nev": "Juhász Mihály",
                                    "mettol": "2016-05-30",
                                    "meddig": "2016-06-01",
                                    "(No column name)": "2",
                                    "előző 3 összesen": "NULL"
                                },
                                {
                                    "usernev": "MIHALYJ",
                                    "nev": "Juhász Mihály",
                                    "mettol": "2016-06-27",
                                    "meddig": "2016-07-01",
                                    "(No column name)": "1",
                                    "előző 3 összesen": "2"
                                },
                                {
                                    "usernev": "MIHALYJ",
                                    "nev": "Juhász Mihály",
                                    "mettol": "2016-08-29",
                                    "meddig": "2016-09-03",
                                    "(No column name)": "1",
                                    "előző 3 összesen": "3"
                                },
                                {
                                    "usernev": "MIHALYJ",
                                    "nev": "Juhász Mihály",
                                    "mettol": "2016-11-01",
                                    "meddig": "2016-11-04",
                                    "(No column name)": "3",
                                    "előző 3 összesen": "4"
                                },
                                {
                                    "usernev": "MIHALYJ",
                                    "nev": "Juhász Mihály",
                                    "mettol": "2017-02-06",
                                    "meddig": "2017-02-12",
                                    "(No column name)": "4",
                                    "előző 3 összesen": "5"
                                },
                                {
                                    "usernev": "miklos2",
                                    "nev": "Gondos Miklós",
                                    "mettol": "2016-04-19",
                                    "meddig": "2016-04-21",
                                    "(No column name)": "3",
                                    "előző 3 összesen": "NULL"
                                },
                                {
                                    "usernev": "miklos2",
                                    "nev": "Gondos Miklós",
                                    "mettol": "2016-10-08",
                                    "meddig": "2016-10-09",
                                    "(No column name)": "1",
                                    "előző 3 összesen": "3"
                                },
                                {
                                    "usernev": "miklos2",
                                    "nev": "Gondos Miklós",
                                    "mettol": "2016-11-16",
                                    "meddig": "2016-11-18",
                                    "(No column name)": "3",
                                    "előző 3 összesen": "4"
                                },
                                {
                                    "usernev": "MIKLOSB",
                                    "nev": "Balla Miklós",
                                    "mettol": "2016-06-26",
                                    "meddig": "2016-06-30",
                                    "(No column name)": "2",
                                    "előző 3 összesen": "NULL"
                                },
                                {
                                    "usernev": "MIKLOSB",
                                    "nev": "Balla Miklós",
                                    "mettol": "2016-07-18",
                                    "meddig": "2016-07-21",
                                    "(No column name)": "2",
                                    "előző 3 összesen": "2"
                                },
                                {
                                    "usernev": "MIKLOSB",
                                    "nev": "Balla Miklós",
                                    "mettol": "2016-12-05",
                                    "meddig": "2016-12-10",
                                    "(No column name)": "2",
                                    "előző 3 összesen": "4"
                                },
                                {
                                    "usernev": "MONIKAM",
                                    "nev": "Mohos Mónika",
                                    "mettol": "2016-04-29",
                                    "meddig": "2016-05-01",
                                    "(No column name)": "2",
                                    "előző 3 összesen": "NULL"
                                },
                                {
                                    "usernev": "MONIKAM",
                                    "nev": "Mohos Mónika",
                                    "mettol": "2016-07-23",
                                    "meddig": "2016-07-30",
                                    "(No column name)": "1",
                                    "előző 3 összesen": "2"
                                },
                                {
                                    "usernev": "MONIKAM",
                                    "nev": "Mohos Mónika",
                                    "mettol": "2016-11-09",
                                    "meddig": "2016-11-16",
                                    "(No column name)": "2",
                                    "előző 3 összesen": "3"
                                },
                                {
                                    "usernev": "MONIKAM",
                                    "nev": "Mohos Mónika",
                                    "mettol": "2017-01-17",
                                    "meddig": "2017-01-24",
                                    "(No column name)": "1",
                                    "előző 3 összesen": "5"
                                },
                                {
                                    "usernev": "MONIKAM",
                                    "nev": "Mohos Mónika",
                                    "mettol": "2017-02-06",
                                    "meddig": "2017-02-09",
                                    "(No column name)": "2",
                                    "előző 3 összesen": "4"
                                },
                                {
                                    "usernev": "MONIKAM",
                                    "nev": "Mohos Mónika",
                                    "mettol": "2017-02-23",
                                    "meddig": "2017-02-26",
                                    "(No column name)": "2",
                                    "előző 3 összesen": "5"
                                },
                                {
                                    "usernev": "NANDORF",
                                    "nev": "Fő Nándor",
                                    "mettol": "2016-04-06",
                                    "meddig": "2016-04-10",
                                    "(No column name)": "3",
                                    "előző 3 összesen": "NULL"
                                },
                                {
                                    "usernev": "NANDORF",
                                    "nev": "Fő Nándor",
                                    "mettol": "2016-11-03",
                                    "meddig": "2016-11-04",
                                    "(No column name)": "3",
                                    "előző 3 összesen": "3"
                                },
                                {
                                    "usernev": "NANDORF",
                                    "nev": "Fő Nándor",
                                    "mettol": "2017-02-05",
                                    "meddig": "2017-02-08",
                                    "(No column name)": "3",
                                    "előző 3 összesen": "6"
                                },
                                {
                                    "usernev": "nikolett3",
                                    "nev": "Horváth Nikolett",
                                    "mettol": "2016-05-24",
                                    "meddig": "2016-05-29",
                                    "(No column name)": "2",
                                    "előző 3 összesen": "NULL"
                                },
                                {
                                    "usernev": "nikolett3",
                                    "nev": "Horváth Nikolett",
                                    "mettol": "2016-06-03",
                                    "meddig": "2016-06-09",
                                    "(No column name)": "1",
                                    "előző 3 összesen": "2"
                                },
                                {
                                    "usernev": "nikolett3",
                                    "nev": "Horváth Nikolett",
                                    "mettol": "2016-06-22",
                                    "meddig": "2016-06-24",
                                    "(No column name)": "1",
                                    "előző 3 összesen": "3"
                                },
                                {
                                    "usernev": "nikolett3",
                                    "nev": "Horváth Nikolett",
                                    "mettol": "2016-10-22",
                                    "meddig": "2016-10-29",
                                    "(No column name)": "3",
                                    "előző 3 összesen": "4"
                                },
                                {
                                    "usernev": "nikoletta4",
                                    "nev": "Kő Nikoletta",
                                    "mettol": "2016-04-08",
                                    "meddig": "2016-04-10",
                                    "(No column name)": "2",
                                    "előző 3 összesen": "NULL"
                                },
                                {
                                    "usernev": "nikoletta4",
                                    "nev": "Kő Nikoletta",
                                    "mettol": "2016-05-09",
                                    "meddig": "2016-05-15",
                                    "(No column name)": "2",
                                    "előző 3 összesen": "2"
                                },
                                {
                                    "usernev": "nikoletta4",
                                    "nev": "Kő Nikoletta",
                                    "mettol": "2016-05-30",
                                    "meddig": "2016-06-03",
                                    "(No column name)": "3",
                                    "előző 3 összesen": "4"
                                },
                                {
                                    "usernev": "nikoletta4",
                                    "nev": "Kő Nikoletta",
                                    "mettol": "2016-06-29",
                                    "meddig": "2016-07-06",
                                    "(No column name)": "2",
                                    "előző 3 összesen": "7"
                                },
                                {
                                    "usernev": "nikoletta4",
                                    "nev": "Kő Nikoletta",
                                    "mettol": "2016-08-13",
                                    "meddig": "2016-08-17",
                                    "(No column name)": "3",
                                    "előző 3 összesen": "7"
                                },
                                {
                                    "usernev": "nikoletta4",
                                    "nev": "Kő Nikoletta",
                                    "mettol": "2016-12-08",
                                    "meddig": "2016-12-10",
                                    "(No column name)": "5",
                                    "előző 3 összesen": "8"
                                },
                                {
                                    "usernev": "nikoletta4",
                                    "nev": "Kő Nikoletta",
                                    "mettol": "2017-02-01",
                                    "meddig": "2017-02-04",
                                    "(No column name)": "2",
                                    "előző 3 összesen": "10"
                                },
                                {
                                    "usernev": "NIKOLETTAT",
                                    "nev": "Tatár Nikoletta",
                                    "mettol": "2016-06-07",
                                    "meddig": "2016-06-09",
                                    "(No column name)": "2",
                                    "előző 3 összesen": "NULL"
                                },
                                {
                                    "usernev": "NIKOLETTAT",
                                    "nev": "Tatár Nikoletta",
                                    "mettol": "2016-07-27",
                                    "meddig": "2016-07-29",
                                    "(No column name)": "4",
                                    "előző 3 összesen": "2"
                                },
                                {
                                    "usernev": "NIKOLETTAT",
                                    "nev": "Tatár Nikoletta",
                                    "mettol": "2016-09-21",
                                    "meddig": "2016-09-26",
                                    "(No column name)": "2",
                                    "előző 3 összesen": "6"
                                },
                                {
                                    "usernev": "norbert",
                                    "nev": "Szűcs Norbert",
                                    "mettol": "2016-07-08",
                                    "meddig": "2016-07-13",
                                    "(No column name)": "1",
                                    "előző 3 összesen": "NULL"
                                },
                                {
                                    "usernev": "norbert",
                                    "nev": "Szűcs Norbert",
                                    "mettol": "2016-11-16",
                                    "meddig": "2016-11-23",
                                    "(No column name)": "3",
                                    "előző 3 összesen": "1"
                                },
                                {
                                    "usernev": "norbert",
                                    "nev": "Szűcs Norbert",
                                    "mettol": "2016-12-15",
                                    "meddig": "2016-12-18",
                                    "(No column name)": "2",
                                    "előző 3 összesen": "4"
                                },
                                {
                                    "usernev": "norbert",
                                    "nev": "Szűcs Norbert",
                                    "mettol": "2017-02-13",
                                    "meddig": "2017-02-15",
                                    "(No column name)": "3",
                                    "előző 3 összesen": "6"
                                },
                                {
                                    "usernev": "norbert",
                                    "nev": "Szűcs Norbert",
                                    "mettol": "2017-02-26",
                                    "meddig": "2017-03-01",
                                    "(No column name)": "1",
                                    "előző 3 összesen": "8"
                                },
                                {
                                    "usernev": "norbert2",
                                    "nev": "Hegedűs Norbert",
                                    "mettol": "2016-04-19",
                                    "meddig": "2016-04-26",
                                    "(No column name)": "1",
                                    "előző 3 összesen": "NULL"
                                },
                                {
                                    "usernev": "norbert2",
                                    "nev": "Hegedűs Norbert",
                                    "mettol": "2016-05-09",
                                    "meddig": "2016-05-10",
                                    "(No column name)": "2",
                                    "előző 3 összesen": "1"
                                },
                                {
                                    "usernev": "norbert2",
                                    "nev": "Hegedűs Norbert",
                                    "mettol": "2016-07-13",
                                    "meddig": "2016-07-15",
                                    "(No column name)": "3",
                                    "előző 3 összesen": "3"
                                },
                                {
                                    "usernev": "norbert2",
                                    "nev": "Hegedűs Norbert",
                                    "mettol": "2016-07-27",
                                    "meddig": "2016-08-02",
                                    "(No column name)": "2",
                                    "előző 3 összesen": "6"
                                },
                                {
                                    "usernev": "norbert2",
                                    "nev": "Hegedűs Norbert",
                                    "mettol": "2016-08-16",
                                    "meddig": "2016-08-19",
                                    "(No column name)": "1",
                                    "előző 3 összesen": "7"
                                },
                                {
                                    "usernev": "norbert2",
                                    "nev": "Hegedűs Norbert",
                                    "mettol": "2016-10-31",
                                    "meddig": "2016-11-07",
                                    "(No column name)": "2",
                                    "előző 3 összesen": "6"
                                },
                                {
                                    "usernev": "norbert2",
                                    "nev": "Hegedűs Norbert",
                                    "mettol": "2017-01-29",
                                    "meddig": "2017-02-05",
                                    "(No column name)": "3",
                                    "előző 3 összesen": "5"
                                },
                                {
                                    "usernev": "norbert4",
                                    "nev": "Mile Norbert",
                                    "mettol": "2016-04-10",
                                    "meddig": "2016-04-13",
                                    "(No column name)": "2",
                                    "előző 3 összesen": "NULL"
                                },
                                {
                                    "usernev": "norbert4",
                                    "nev": "Mile Norbert",
                                    "mettol": "2016-05-29",
                                    "meddig": "2016-06-03",
                                    "(No column name)": "3",
                                    "előző 3 összesen": "2"
                                },
                                {
                                    "usernev": "norbert4",
                                    "nev": "Mile Norbert",
                                    "mettol": "2016-06-16",
                                    "meddig": "2016-06-17",
                                    "(No column name)": "4",
                                    "előző 3 összesen": "5"
                                },
                                {
                                    "usernev": "norbert4",
                                    "nev": "Mile Norbert",
                                    "mettol": "2016-06-16",
                                    "meddig": "2016-06-21",
                                    "(No column name)": "3",
                                    "előző 3 összesen": "9"
                                },
                                {
                                    "usernev": "norbert4",
                                    "nev": "Mile Norbert",
                                    "mettol": "2016-10-05",
                                    "meddig": "2016-10-10",
                                    "(No column name)": "3",
                                    "előző 3 összesen": "10"
                                },
                                {
                                    "usernev": "norbert4",
                                    "nev": "Mile Norbert",
                                    "mettol": "2016-10-28",
                                    "meddig": "2016-10-31",
                                    "(No column name)": "3",
                                    "előző 3 összesen": "10"
                                },
                                {
                                    "usernev": "norbert4",
                                    "nev": "Mile Norbert",
                                    "mettol": "2016-11-30",
                                    "meddig": "2016-12-06",
                                    "(No column name)": "3",
                                    "előző 3 összesen": "9"
                                },
                                {
                                    "usernev": "norbert4",
                                    "nev": "Mile Norbert",
                                    "mettol": "2017-02-16",
                                    "meddig": "2017-02-17",
                                    "(No column name)": "1",
                                    "előző 3 összesen": "9"
                                },
                                {
                                    "usernev": "norbert4",
                                    "nev": "Mile Norbert",
                                    "mettol": "2017-03-03",
                                    "meddig": "2017-03-07",
                                    "(No column name)": "2",
                                    "előző 3 összesen": "7"
                                },
                                {
                                    "usernev": "norbert5",
                                    "nev": "Béres Norbert",
                                    "mettol": "2016-06-24",
                                    "meddig": "2016-06-28",
                                    "(No column name)": "2",
                                    "előző 3 összesen": "NULL"
                                },
                                {
                                    "usernev": "norbert5",
                                    "nev": "Béres Norbert",
                                    "mettol": "2016-08-10",
                                    "meddig": "2016-08-11",
                                    "(No column name)": "2",
                                    "előző 3 összesen": "2"
                                },
                                {
                                    "usernev": "norbert5",
                                    "nev": "Béres Norbert",
                                    "mettol": "2016-11-05",
                                    "meddig": "2016-11-07",
                                    "(No column name)": "1",
                                    "előző 3 összesen": "4"
                                },
                                {
                                    "usernev": "pal",
                                    "nev": "Barabás Pál",
                                    "mettol": "2016-08-14",
                                    "meddig": "2016-08-18",
                                    "(No column name)": "3",
                                    "előző 3 összesen": "NULL"
                                },
                                {
                                    "usernev": "pal",
                                    "nev": "Barabás Pál",
                                    "mettol": "2016-09-16",
                                    "meddig": "2016-09-19",
                                    "(No column name)": "2",
                                    "előző 3 összesen": "3"
                                },
                                {
                                    "usernev": "pal",
                                    "nev": "Barabás Pál",
                                    "mettol": "2016-12-17",
                                    "meddig": "2016-12-23",
                                    "(No column name)": "3",
                                    "előző 3 összesen": "5"
                                },
                                {
                                    "usernev": "pal",
                                    "nev": "Barabás Pál",
                                    "mettol": "2017-02-13",
                                    "meddig": "2017-02-19",
                                    "(No column name)": "3",
                                    "előző 3 összesen": "8"
                                },
                                {
                                    "usernev": "pal",
                                    "nev": "Barabás Pál",
                                    "mettol": "2017-02-20",
                                    "meddig": "2017-02-22",
                                    "(No column name)": "3",
                                    "előző 3 összesen": "8"
                                },
                                {
                                    "usernev": "peter1",
                                    "nev": "Kozma Péter",
                                    "mettol": "2016-07-14",
                                    "meddig": "2016-07-18",
                                    "(No column name)": "3",
                                    "előző 3 összesen": "NULL"
                                },
                                {
                                    "usernev": "peter1",
                                    "nev": "Kozma Péter",
                                    "mettol": "2016-10-26",
                                    "meddig": "2016-11-01",
                                    "(No column name)": "3",
                                    "előző 3 összesen": "3"
                                },
                                {
                                    "usernev": "peter1",
                                    "nev": "Kozma Péter",
                                    "mettol": "2017-02-23",
                                    "meddig": "2017-02-26",
                                    "(No column name)": "3",
                                    "előző 3 összesen": "6"
                                },
                                {
                                    "usernev": "peter1",
                                    "nev": "Kozma Péter",
                                    "mettol": "2017-02-28",
                                    "meddig": "2017-03-05",
                                    "(No column name)": "3",
                                    "előző 3 összesen": "9"
                                },
                                {
                                    "usernev": "peter2",
                                    "nev": "Bozsó Péter",
                                    "mettol": "2016-07-03",
                                    "meddig": "2016-07-08",
                                    "(No column name)": "2",
                                    "előző 3 összesen": "NULL"
                                },
                                {
                                    "usernev": "peter2",
                                    "nev": "Bozsó Péter",
                                    "mettol": "2016-10-10",
                                    "meddig": "2016-10-16",
                                    "(No column name)": "2",
                                    "előző 3 összesen": "2"
                                },
                                {
                                    "usernev": "peter2",
                                    "nev": "Bozsó Péter",
                                    "mettol": "2016-11-01",
                                    "meddig": "2016-11-02",
                                    "(No column name)": "2",
                                    "előző 3 összesen": "4"
                                },
                                {
                                    "usernev": "peter2",
                                    "nev": "Bozsó Péter",
                                    "mettol": "2016-11-15",
                                    "meddig": "2016-11-21",
                                    "(No column name)": "3",
                                    "előző 3 összesen": "6"
                                },
                                {
                                    "usernev": "peter3",
                                    "nev": "Szalai Péter",
                                    "mettol": "2016-06-30",
                                    "meddig": "2016-07-05",
                                    "(No column name)": "3",
                                    "előző 3 összesen": "NULL"
                                },
                                {
                                    "usernev": "peter3",
                                    "nev": "Szalai Péter",
                                    "mettol": "2016-07-27",
                                    "meddig": "2016-07-31",
                                    "(No column name)": "4",
                                    "előző 3 összesen": "3"
                                },
                                {
                                    "usernev": "peter3",
                                    "nev": "Szalai Péter",
                                    "mettol": "2016-10-30",
                                    "meddig": "2016-11-06",
                                    "(No column name)": "2",
                                    "előző 3 összesen": "7"
                                },
                                {
                                    "usernev": "peter3",
                                    "nev": "Szalai Péter",
                                    "mettol": "2016-12-25",
                                    "meddig": "2016-12-28",
                                    "(No column name)": "1",
                                    "előző 3 összesen": "9"
                                },
                                {
                                    "usernev": "peter3",
                                    "nev": "Szalai Péter",
                                    "mettol": "2017-01-12",
                                    "meddig": "2017-01-17",
                                    "(No column name)": "1",
                                    "előző 3 összesen": "7"
                                },
                                {
                                    "usernev": "peter3",
                                    "nev": "Szalai Péter",
                                    "mettol": "2017-02-21",
                                    "meddig": "2017-02-24",
                                    "(No column name)": "2",
                                    "előző 3 összesen": "4"
                                },
                                {
                                    "usernev": "peter4",
                                    "nev": "Bíró Péter",
                                    "mettol": "2016-04-12",
                                    "meddig": "2016-04-15",
                                    "(No column name)": "3",
                                    "előző 3 összesen": "NULL"
                                },
                                {
                                    "usernev": "peter4",
                                    "nev": "Bíró Péter",
                                    "mettol": "2016-08-06",
                                    "meddig": "2016-08-13",
                                    "(No column name)": "2",
                                    "előző 3 összesen": "3"
                                },
                                {
                                    "usernev": "peter4",
                                    "nev": "Bíró Péter",
                                    "mettol": "2016-08-24",
                                    "meddig": "2016-08-25",
                                    "(No column name)": "3",
                                    "előző 3 összesen": "5"
                                },
                                {
                                    "usernev": "peter4",
                                    "nev": "Bíró Péter",
                                    "mettol": "2016-09-11",
                                    "meddig": "2016-09-17",
                                    "(No column name)": "4",
                                    "előző 3 összesen": "8"
                                },
                                {
                                    "usernev": "peter4",
                                    "nev": "Bíró Péter",
                                    "mettol": "2016-09-25",
                                    "meddig": "2016-09-26",
                                    "(No column name)": "3",
                                    "előző 3 összesen": "9"
                                },
                                {
                                    "usernev": "peter4",
                                    "nev": "Bíró Péter",
                                    "mettol": "2016-09-30",
                                    "meddig": "2016-10-06",
                                    "(No column name)": "3",
                                    "előző 3 összesen": "10"
                                },
                                {
                                    "usernev": "peter4",
                                    "nev": "Bíró Péter",
                                    "mettol": "2016-10-09",
                                    "meddig": "2016-10-16",
                                    "(No column name)": "3",
                                    "előző 3 összesen": "10"
                                },
                                {
                                    "usernev": "peter4",
                                    "nev": "Bíró Péter",
                                    "mettol": "2016-10-24",
                                    "meddig": "2016-10-25",
                                    "(No column name)": "2",
                                    "előző 3 összesen": "9"
                                },
                                {
                                    "usernev": "peter4",
                                    "nev": "Bíró Péter",
                                    "mettol": "2016-10-30",
                                    "meddig": "2016-11-01",
                                    "(No column name)": "3",
                                    "előző 3 összesen": "8"
                                },
                                {
                                    "usernev": "peter4",
                                    "nev": "Bíró Péter",
                                    "mettol": "2016-11-10",
                                    "meddig": "2016-11-17",
                                    "(No column name)": "3",
                                    "előző 3 összesen": "8"
                                },
                                {
                                    "usernev": "peter4",
                                    "nev": "Bíró Péter",
                                    "mettol": "2016-11-25",
                                    "meddig": "2016-11-30",
                                    "(No column name)": "3",
                                    "előző 3 összesen": "8"
                                },
                                {
                                    "usernev": "peter4",
                                    "nev": "Bíró Péter",
                                    "mettol": "2017-02-05",
                                    "meddig": "2017-02-09",
                                    "(No column name)": "3",
                                    "előző 3 összesen": "9"
                                },
                                {
                                    "usernev": "PETERB",
                                    "nev": "Berendi Péter",
                                    "mettol": "2016-04-06",
                                    "meddig": "2016-04-10",
                                    "(No column name)": "1",
                                    "előző 3 összesen": "NULL"
                                },
                                {
                                    "usernev": "PETERB",
                                    "nev": "Berendi Péter",
                                    "mettol": "2016-07-20",
                                    "meddig": "2016-07-24",
                                    "(No column name)": "2",
                                    "előző 3 összesen": "1"
                                },
                                {
                                    "usernev": "PETERB",
                                    "nev": "Berendi Péter",
                                    "mettol": "2016-08-16",
                                    "meddig": "2016-08-23",
                                    "(No column name)": "1",
                                    "előző 3 összesen": "3"
                                },
                                {
                                    "usernev": "PETERB",
                                    "nev": "Berendi Péter",
                                    "mettol": "2016-10-19",
                                    "meddig": "2016-10-20",
                                    "(No column name)": "4",
                                    "előző 3 összesen": "4"
                                },
                                {
                                    "usernev": "PETERB",
                                    "nev": "Berendi Péter",
                                    "mettol": "2016-11-17",
                                    "meddig": "2016-11-20",
                                    "(No column name)": "2",
                                    "előző 3 összesen": "7"
                                },
                                {
                                    "usernev": "polla",
                                    "nev": "Palágyi Polla",
                                    "mettol": "2016-04-17",
                                    "meddig": "2016-04-22",
                                    "(No column name)": "3",
                                    "előző 3 összesen": "NULL"
                                },
                                {
                                    "usernev": "polla",
                                    "nev": "Palágyi Polla",
                                    "mettol": "2016-05-28",
                                    "meddig": "2016-06-04",
                                    "(No column name)": "2",
                                    "előző 3 összesen": "3"
                                },
                                {
                                    "usernev": "polla",
                                    "nev": "Palágyi Polla",
                                    "mettol": "2016-08-14",
                                    "meddig": "2016-08-17",
                                    "(No column name)": "2",
                                    "előző 3 összesen": "5"
                                },
                                {
                                    "usernev": "polla",
                                    "nev": "Palágyi Polla",
                                    "mettol": "2016-08-16",
                                    "meddig": "2016-08-19",
                                    "(No column name)": "4",
                                    "előző 3 összesen": "7"
                                },
                                {
                                    "usernev": "polla",
                                    "nev": "Palágyi Polla",
                                    "mettol": "2017-01-29",
                                    "meddig": "2017-02-01",
                                    "(No column name)": "2",
                                    "előző 3 összesen": "8"
                                },
                                {
                                    "usernev": "polla",
                                    "nev": "Palágyi Polla",
                                    "mettol": "2017-02-11",
                                    "meddig": "2017-02-16",
                                    "(No column name)": "2",
                                    "előző 3 összesen": "8"
                                },
                                {
                                    "usernev": "rajmond4",
                                    "nev": "Rácz Rajmond",
                                    "mettol": "2016-09-05",
                                    "meddig": "2016-09-07",
                                    "(No column name)": "3",
                                    "előző 3 összesen": "NULL"
                                },
                                {
                                    "usernev": "rajmond4",
                                    "nev": "Rácz Rajmond",
                                    "mettol": "2016-10-03",
                                    "meddig": "2016-10-04",
                                    "(No column name)": "3",
                                    "előző 3 összesen": "3"
                                },
                                {
                                    "usernev": "rajmond4",
                                    "nev": "Rácz Rajmond",
                                    "mettol": "2016-11-08",
                                    "meddig": "2016-11-09",
                                    "(No column name)": "4",
                                    "előző 3 összesen": "6"
                                },
                                {
                                    "usernev": "rajmond4",
                                    "nev": "Rácz Rajmond",
                                    "mettol": "2016-11-16",
                                    "meddig": "2016-11-20",
                                    "(No column name)": "2",
                                    "előző 3 összesen": "10"
                                },
                                {
                                    "usernev": "reka4",
                                    "nev": "Szikszai Réka",
                                    "mettol": "2016-07-27",
                                    "meddig": "2016-07-31",
                                    "(No column name)": "2",
                                    "előző 3 összesen": "NULL"
                                },
                                {
                                    "usernev": "reka4",
                                    "nev": "Szikszai Réka",
                                    "mettol": "2016-08-02",
                                    "meddig": "2016-08-04",
                                    "(No column name)": "4",
                                    "előző 3 összesen": "2"
                                },
                                {
                                    "usernev": "reka4",
                                    "nev": "Szikszai Réka",
                                    "mettol": "2016-09-05",
                                    "meddig": "2016-09-07",
                                    "(No column name)": "3",
                                    "előző 3 összesen": "6"
                                },
                                {
                                    "usernev": "reka4",
                                    "nev": "Szikszai Réka",
                                    "mettol": "2016-09-30",
                                    "meddig": "2016-10-06",
                                    "(No column name)": "2",
                                    "előző 3 összesen": "9"
                                },
                                {
                                    "usernev": "reka4",
                                    "nev": "Szikszai Réka",
                                    "mettol": "2017-02-26",
                                    "meddig": "2017-03-04",
                                    "(No column name)": "2",
                                    "előző 3 összesen": "9"
                                },
                                {
                                    "usernev": "RENATAK",
                                    "nev": "Kardos Renáta",
                                    "mettol": "2016-10-27",
                                    "meddig": "2016-10-29",
                                    "(No column name)": "4",
                                    "előző 3 összesen": "NULL"
                                },
                                {
                                    "usernev": "RENATAK",
                                    "nev": "Kardos Renáta",
                                    "mettol": "2016-10-30",
                                    "meddig": "2016-10-31",
                                    "(No column name)": "1",
                                    "előző 3 összesen": "4"
                                },
                                {
                                    "usernev": "RENATAK",
                                    "nev": "Kardos Renáta",
                                    "mettol": "2016-11-23",
                                    "meddig": "2016-11-26",
                                    "(No column name)": "1",
                                    "előző 3 összesen": "5"
                                },
                                {
                                    "usernev": "RENATAK",
                                    "nev": "Kardos Renáta",
                                    "mettol": "2017-02-16",
                                    "meddig": "2017-02-23",
                                    "(No column name)": "1",
                                    "előző 3 összesen": "6"
                                },
                                {
                                    "usernev": "RENATAK",
                                    "nev": "Kardos Renáta",
                                    "mettol": "2017-03-01",
                                    "meddig": "2017-03-06",
                                    "(No column name)": "1",
                                    "előző 3 összesen": "3"
                                },
                                {
                                    "usernev": "RENATAS",
                                    "nev": "Szirmai Renáta",
                                    "mettol": "2016-05-04",
                                    "meddig": "2016-05-11",
                                    "(No column name)": "2",
                                    "előző 3 összesen": "NULL"
                                },
                                {
                                    "usernev": "RENATAS",
                                    "nev": "Szirmai Renáta",
                                    "mettol": "2016-05-11",
                                    "meddig": "2016-05-16",
                                    "(No column name)": "2",
                                    "előző 3 összesen": "2"
                                },
                                {
                                    "usernev": "RENATAS",
                                    "nev": "Szirmai Renáta",
                                    "mettol": "2016-06-24",
                                    "meddig": "2016-06-30",
                                    "(No column name)": "5",
                                    "előző 3 összesen": "4"
                                },
                                {
                                    "usernev": "RENATAS",
                                    "nev": "Szirmai Renáta",
                                    "mettol": "2017-02-13",
                                    "meddig": "2017-02-17",
                                    "(No column name)": "1",
                                    "előző 3 összesen": "9"
                                },
                                {
                                    "usernev": "RENATAS",
                                    "nev": "Szirmai Renáta",
                                    "mettol": "2017-02-14",
                                    "meddig": "2017-02-17",
                                    "(No column name)": "2",
                                    "előző 3 összesen": "8"
                                },
                                {
                                    "usernev": "robert2",
                                    "nev": "Patay Róbert",
                                    "mettol": "2016-05-15",
                                    "meddig": "2016-05-18",
                                    "(No column name)": "2",
                                    "előző 3 összesen": "NULL"
                                },
                                {
                                    "usernev": "robert2",
                                    "nev": "Patay Róbert",
                                    "mettol": "2016-08-20",
                                    "meddig": "2016-08-27",
                                    "(No column name)": "2",
                                    "előző 3 összesen": "2"
                                },
                                {
                                    "usernev": "robert2",
                                    "nev": "Patay Róbert",
                                    "mettol": "2016-10-23",
                                    "meddig": "2016-10-28",
                                    "(No column name)": "3",
                                    "előző 3 összesen": "4"
                                },
                                {
                                    "usernev": "robert2",
                                    "nev": "Patay Róbert",
                                    "mettol": "2016-12-17",
                                    "meddig": "2016-12-22",
                                    "(No column name)": "1",
                                    "előző 3 összesen": "7"
                                },
                                {
                                    "usernev": "ROBERTI",
                                    "nev": "Iván Róbert",
                                    "mettol": "2016-07-12",
                                    "meddig": "2016-07-19",
                                    "(No column name)": "4",
                                    "előző 3 összesen": "NULL"
                                },
                                {
                                    "usernev": "ROBERTI",
                                    "nev": "Iván Róbert",
                                    "mettol": "2016-08-16",
                                    "meddig": "2016-08-21",
                                    "(No column name)": "2",
                                    "előző 3 összesen": "4"
                                },
                                {
                                    "usernev": "ROBERTI",
                                    "nev": "Iván Róbert",
                                    "mettol": "2016-08-23",
                                    "meddig": "2016-08-25",
                                    "(No column name)": "2",
                                    "előző 3 összesen": "6"
                                },
                                {
                                    "usernev": "ROBERTI",
                                    "nev": "Iván Róbert",
                                    "mettol": "2016-10-08",
                                    "meddig": "2016-10-12",
                                    "(No column name)": "3",
                                    "előző 3 összesen": "8"
                                },
                                {
                                    "usernev": "ROBERTI",
                                    "nev": "Iván Róbert",
                                    "mettol": "2016-10-09",
                                    "meddig": "2016-10-10",
                                    "(No column name)": "2",
                                    "előző 3 összesen": "7"
                                },
                                {
                                    "usernev": "ROBERTI",
                                    "nev": "Iván Róbert",
                                    "mettol": "2016-10-23",
                                    "meddig": "2016-10-29",
                                    "(No column name)": "1",
                                    "előző 3 összesen": "7"
                                },
                                {
                                    "usernev": "ROBERTI",
                                    "nev": "Iván Róbert",
                                    "mettol": "2016-10-26",
                                    "meddig": "2016-11-01",
                                    "(No column name)": "2",
                                    "előző 3 összesen": "6"
                                },
                                {
                                    "usernev": "ROBERTI",
                                    "nev": "Iván Róbert",
                                    "mettol": "2017-02-17",
                                    "meddig": "2017-02-20",
                                    "(No column name)": "2",
                                    "előző 3 összesen": "5"
                                },
                                {
                                    "usernev": "ROBERTP",
                                    "nev": "Pásztor Róbert",
                                    "mettol": "2016-07-30",
                                    "meddig": "2016-08-05",
                                    "(No column name)": "2",
                                    "előző 3 összesen": "NULL"
                                },
                                {
                                    "usernev": "ROBERTP",
                                    "nev": "Pásztor Róbert",
                                    "mettol": "2016-09-08",
                                    "meddig": "2016-09-11",
                                    "(No column name)": "4",
                                    "előző 3 összesen": "2"
                                },
                                {
                                    "usernev": "roland",
                                    "nev": "Tóth Roland",
                                    "mettol": "2016-06-09",
                                    "meddig": "2016-06-13",
                                    "(No column name)": "3",
                                    "előző 3 összesen": "NULL"
                                },
                                {
                                    "usernev": "roland",
                                    "nev": "Tóth Roland",
                                    "mettol": "2016-06-22",
                                    "meddig": "2016-06-23",
                                    "(No column name)": "3",
                                    "előző 3 összesen": "3"
                                },
                                {
                                    "usernev": "roland",
                                    "nev": "Tóth Roland",
                                    "mettol": "2016-09-04",
                                    "meddig": "2016-09-05",
                                    "(No column name)": "2",
                                    "előző 3 összesen": "6"
                                },
                                {
                                    "usernev": "roland",
                                    "nev": "Tóth Roland",
                                    "mettol": "2016-11-19",
                                    "meddig": "2016-11-24",
                                    "(No column name)": "2",
                                    "előző 3 összesen": "8"
                                },
                                {
                                    "usernev": "roland1",
                                    "nev": "Ferencz Roland",
                                    "mettol": "2016-11-05",
                                    "meddig": "2016-11-07",
                                    "(No column name)": "3",
                                    "előző 3 összesen": "NULL"
                                },
                                {
                                    "usernev": "roland1",
                                    "nev": "Ferencz Roland",
                                    "mettol": "2016-12-22",
                                    "meddig": "2016-12-29",
                                    "(No column name)": "1",
                                    "előző 3 összesen": "3"
                                },
                                {
                                    "usernev": "roland1",
                                    "nev": "Ferencz Roland",
                                    "mettol": "2017-01-04",
                                    "meddig": "2017-01-08",
                                    "(No column name)": "3",
                                    "előző 3 összesen": "4"
                                },
                                {
                                    "usernev": "roland1",
                                    "nev": "Ferencz Roland",
                                    "mettol": "2017-01-16",
                                    "meddig": "2017-01-22",
                                    "(No column name)": "2",
                                    "előző 3 összesen": "7"
                                },
                                {
                                    "usernev": "roza2",
                                    "nev": "Bucskó Róza",
                                    "mettol": "2016-09-10",
                                    "meddig": "2016-09-13",
                                    "(No column name)": "2",
                                    "előző 3 összesen": "NULL"
                                },
                                {
                                    "usernev": "roza2",
                                    "nev": "Bucskó Róza",
                                    "mettol": "2017-01-11",
                                    "meddig": "2017-01-17",
                                    "(No column name)": "3",
                                    "előző 3 összesen": "2"
                                },
                                {
                                    "usernev": "roza2",
                                    "nev": "Bucskó Róza",
                                    "mettol": "2017-02-18",
                                    "meddig": "2017-02-21",
                                    "(No column name)": "3",
                                    "előző 3 összesen": "5"
                                },
                                {
                                    "usernev": "sandor",
                                    "nev": "Karasz Sándor",
                                    "mettol": "2016-07-04",
                                    "meddig": "2016-07-06",
                                    "(No column name)": "2",
                                    "előző 3 összesen": "NULL"
                                },
                                {
                                    "usernev": "sandor",
                                    "nev": "Karasz Sándor",
                                    "mettol": "2016-07-18",
                                    "meddig": "2016-07-24",
                                    "(No column name)": "2",
                                    "előző 3 összesen": "2"
                                },
                                {
                                    "usernev": "sandor",
                                    "nev": "Karasz Sándor",
                                    "mettol": "2016-08-20",
                                    "meddig": "2016-08-25",
                                    "(No column name)": "2",
                                    "előző 3 összesen": "4"
                                },
                                {
                                    "usernev": "sandor3",
                                    "nev": "Farkas Sándor",
                                    "mettol": "2016-05-12",
                                    "meddig": "2016-05-15",
                                    "(No column name)": "2",
                                    "előző 3 összesen": "NULL"
                                },
                                {
                                    "usernev": "sandor3",
                                    "nev": "Farkas Sándor",
                                    "mettol": "2016-05-25",
                                    "meddig": "2016-05-30",
                                    "(No column name)": "1",
                                    "előző 3 összesen": "2"
                                },
                                {
                                    "usernev": "sandor3",
                                    "nev": "Farkas Sándor",
                                    "mettol": "2016-10-09",
                                    "meddig": "2016-10-14",
                                    "(No column name)": "2",
                                    "előző 3 összesen": "3"
                                },
                                {
                                    "usernev": "sandor3",
                                    "nev": "Farkas Sándor",
                                    "mettol": "2016-10-23",
                                    "meddig": "2016-10-29",
                                    "(No column name)": "3",
                                    "előző 3 összesen": "5"
                                },
                                {
                                    "usernev": "sandor3",
                                    "nev": "Farkas Sándor",
                                    "mettol": "2016-11-10",
                                    "meddig": "2016-11-11",
                                    "(No column name)": "2",
                                    "előző 3 összesen": "6"
                                },
                                {
                                    "usernev": "sandor4",
                                    "nev": "Nagy Sándor",
                                    "mettol": "2016-10-15",
                                    "meddig": "2016-10-18",
                                    "(No column name)": "1",
                                    "előző 3 összesen": "NULL"
                                },
                                {
                                    "usernev": "sandor4",
                                    "nev": "Nagy Sándor",
                                    "mettol": "2016-11-29",
                                    "meddig": "2016-12-03",
                                    "(No column name)": "2",
                                    "előző 3 összesen": "1"
                                },
                                {
                                    "usernev": "sandor4",
                                    "nev": "Nagy Sándor",
                                    "mettol": "2016-12-03",
                                    "meddig": "2016-12-09",
                                    "(No column name)": "1",
                                    "előző 3 összesen": "3"
                                },
                                {
                                    "usernev": "sandor4",
                                    "nev": "Nagy Sándor",
                                    "mettol": "2017-01-22",
                                    "meddig": "2017-01-26",
                                    "(No column name)": "2",
                                    "előző 3 összesen": "4"
                                },
                                {
                                    "usernev": "sara",
                                    "nev": "Farkas Sára",
                                    "mettol": "2016-05-28",
                                    "meddig": "2016-05-30",
                                    "(No column name)": "2",
                                    "előző 3 összesen": "NULL"
                                },
                                {
                                    "usernev": "sara",
                                    "nev": "Farkas Sára",
                                    "mettol": "2016-05-30",
                                    "meddig": "2016-05-31",
                                    "(No column name)": "2",
                                    "előző 3 összesen": "2"
                                },
                                {
                                    "usernev": "sara",
                                    "nev": "Farkas Sára",
                                    "mettol": "2016-06-06",
                                    "meddig": "2016-06-08",
                                    "(No column name)": "2",
                                    "előző 3 összesen": "4"
                                },
                                {
                                    "usernev": "sara",
                                    "nev": "Farkas Sára",
                                    "mettol": "2016-07-15",
                                    "meddig": "2016-07-17",
                                    "(No column name)": "3",
                                    "előző 3 összesen": "6"
                                },
                                {
                                    "usernev": "sara",
                                    "nev": "Farkas Sára",
                                    "mettol": "2016-07-24",
                                    "meddig": "2016-07-27",
                                    "(No column name)": "3",
                                    "előző 3 összesen": "7"
                                },
                                {
                                    "usernev": "sara",
                                    "nev": "Farkas Sára",
                                    "mettol": "2016-10-06",
                                    "meddig": "2016-10-12",
                                    "(No column name)": "3",
                                    "előző 3 összesen": "8"
                                },
                                {
                                    "usernev": "sara",
                                    "nev": "Farkas Sára",
                                    "mettol": "2016-10-11",
                                    "meddig": "2016-10-14",
                                    "(No column name)": "3",
                                    "előző 3 összesen": "9"
                                },
                                {
                                    "usernev": "sara",
                                    "nev": "Farkas Sára",
                                    "mettol": "2016-10-28",
                                    "meddig": "2016-11-03",
                                    "(No column name)": "2",
                                    "előző 3 összesen": "9"
                                },
                                {
                                    "usernev": "sara",
                                    "nev": "Farkas Sára",
                                    "mettol": "2016-11-18",
                                    "meddig": "2016-11-21",
                                    "(No column name)": "3",
                                    "előző 3 összesen": "8"
                                },
                                {
                                    "usernev": "sara",
                                    "nev": "Farkas Sára",
                                    "mettol": "2016-12-06",
                                    "meddig": "2016-12-10",
                                    "(No column name)": "1",
                                    "előző 3 összesen": "8"
                                },
                                {
                                    "usernev": "sara",
                                    "nev": "Farkas Sára",
                                    "mettol": "2016-12-25",
                                    "meddig": "2016-12-30",
                                    "(No column name)": "2",
                                    "előző 3 összesen": "6"
                                },
                                {
                                    "usernev": "SEBASTIANF",
                                    "nev": "Foltényi Sebastián",
                                    "mettol": "2016-04-06",
                                    "meddig": "2016-04-12",
                                    "(No column name)": "2",
                                    "előző 3 összesen": "NULL"
                                },
                                {
                                    "usernev": "SEBASTIANF",
                                    "nev": "Foltényi Sebastián",
                                    "mettol": "2016-07-17",
                                    "meddig": "2016-07-21",
                                    "(No column name)": "2",
                                    "előző 3 összesen": "2"
                                },
                                {
                                    "usernev": "SEBASTIANF",
                                    "nev": "Foltényi Sebastián",
                                    "mettol": "2016-07-30",
                                    "meddig": "2016-08-06",
                                    "(No column name)": "4",
                                    "előző 3 összesen": "4"
                                },
                                {
                                    "usernev": "SEBASTIANF",
                                    "nev": "Foltényi Sebastián",
                                    "mettol": "2016-09-14",
                                    "meddig": "2016-09-15",
                                    "(No column name)": "3",
                                    "előző 3 összesen": "8"
                                },
                                {
                                    "usernev": "SEBASTIANF",
                                    "nev": "Foltényi Sebastián",
                                    "mettol": "2016-09-17",
                                    "meddig": "2016-09-20",
                                    "(No column name)": "3",
                                    "előző 3 összesen": "9"
                                },
                                {
                                    "usernev": "sebestyen",
                                    "nev": "Rab Sebestyén",
                                    "mettol": "2016-04-07",
                                    "meddig": "2016-04-12",
                                    "(No column name)": "4",
                                    "előző 3 összesen": "NULL"
                                },
                                {
                                    "usernev": "sebestyen",
                                    "nev": "Rab Sebestyén",
                                    "mettol": "2016-04-26",
                                    "meddig": "2016-05-02",
                                    "(No column name)": "4",
                                    "előző 3 összesen": "4"
                                },
                                {
                                    "usernev": "sebestyen",
                                    "nev": "Rab Sebestyén",
                                    "mettol": "2016-06-09",
                                    "meddig": "2016-06-14",
                                    "(No column name)": "4",
                                    "előző 3 összesen": "8"
                                },
                                {
                                    "usernev": "sebestyen",
                                    "nev": "Rab Sebestyén",
                                    "mettol": "2016-10-26",
                                    "meddig": "2016-11-01",
                                    "(No column name)": "5",
                                    "előző 3 összesen": "12"
                                },
                                {
                                    "usernev": "szabolcs",
                                    "nev": "Bodor Szabolcs",
                                    "mettol": "2016-12-05",
                                    "meddig": "2016-12-07",
                                    "(No column name)": "2",
                                    "előző 3 összesen": "NULL"
                                },
                                {
                                    "usernev": "SZABOLCSM",
                                    "nev": "Miklós Szabolcs",
                                    "mettol": "2016-06-18",
                                    "meddig": "2016-06-21",
                                    "(No column name)": "3",
                                    "előző 3 összesen": "NULL"
                                },
                                {
                                    "usernev": "SZABOLCSM",
                                    "nev": "Miklós Szabolcs",
                                    "mettol": "2016-07-28",
                                    "meddig": "2016-08-03",
                                    "(No column name)": "2",
                                    "előző 3 összesen": "3"
                                },
                                {
                                    "usernev": "SZABOLCSM",
                                    "nev": "Miklós Szabolcs",
                                    "mettol": "2016-10-17",
                                    "meddig": "2016-10-19",
                                    "(No column name)": "2",
                                    "előző 3 összesen": "5"
                                },
                                {
                                    "usernev": "SZABOLCSM",
                                    "nev": "Miklós Szabolcs",
                                    "mettol": "2016-10-28",
                                    "meddig": "2016-11-03",
                                    "(No column name)": "3",
                                    "előző 3 összesen": "7"
                                },
                                {
                                    "usernev": "SZABOLCSM",
                                    "nev": "Miklós Szabolcs",
                                    "mettol": "2016-11-12",
                                    "meddig": "2016-11-13",
                                    "(No column name)": "2",
                                    "előző 3 összesen": "7"
                                },
                                {
                                    "usernev": "SZABOLCSM",
                                    "nev": "Miklós Szabolcs",
                                    "mettol": "2017-01-07",
                                    "meddig": "2017-01-08",
                                    "(No column name)": "2",
                                    "előző 3 összesen": "7"
                                },
                                {
                                    "usernev": "SZABOLCSM",
                                    "nev": "Miklós Szabolcs",
                                    "mettol": "2017-02-04",
                                    "meddig": "2017-02-05",
                                    "(No column name)": "3",
                                    "előző 3 összesen": "7"
                                },
                                {
                                    "usernev": "SZILARDS",
                                    "nev": "Szalai Szilárd",
                                    "mettol": "2016-04-23",
                                    "meddig": "2016-04-30",
                                    "(No column name)": "3",
                                    "előző 3 összesen": "NULL"
                                },
                                {
                                    "usernev": "SZILARDS",
                                    "nev": "Szalai Szilárd",
                                    "mettol": "2016-07-27",
                                    "meddig": "2016-08-03",
                                    "(No column name)": "5",
                                    "előző 3 összesen": "3"
                                },
                                {
                                    "usernev": "SZILARDS",
                                    "nev": "Szalai Szilárd",
                                    "mettol": "2016-08-28",
                                    "meddig": "2016-08-29",
                                    "(No column name)": "4",
                                    "előző 3 összesen": "8"
                                },
                                {
                                    "usernev": "SZILARDS",
                                    "nev": "Szalai Szilárd",
                                    "mettol": "2016-09-20",
                                    "meddig": "2016-09-24",
                                    "(No column name)": "3",
                                    "előző 3 összesen": "12"
                                },
                                {
                                    "usernev": "SZILARDS",
                                    "nev": "Szalai Szilárd",
                                    "mettol": "2016-10-01",
                                    "meddig": "2016-10-08",
                                    "(No column name)": "3",
                                    "előző 3 összesen": "12"
                                },
                                {
                                    "usernev": "SZILARDS",
                                    "nev": "Szalai Szilárd",
                                    "mettol": "2017-01-16",
                                    "meddig": "2017-01-19",
                                    "(No column name)": "3",
                                    "előző 3 összesen": "10"
                                },
                                {
                                    "usernev": "SZILARDS",
                                    "nev": "Szalai Szilárd",
                                    "mettol": "2017-02-08",
                                    "meddig": "2017-02-15",
                                    "(No column name)": "1",
                                    "előző 3 összesen": "9"
                                },
                                {
                                    "usernev": "szilvia1",
                                    "nev": "Tari Szilvia",
                                    "mettol": "2016-05-14",
                                    "meddig": "2016-05-21",
                                    "(No column name)": "2",
                                    "előző 3 összesen": "NULL"
                                },
                                {
                                    "usernev": "szilvia1",
                                    "nev": "Tari Szilvia",
                                    "mettol": "2016-05-28",
                                    "meddig": "2016-06-03",
                                    "(No column name)": "2",
                                    "előző 3 összesen": "2"
                                },
                                {
                                    "usernev": "szilvia1",
                                    "nev": "Tari Szilvia",
                                    "mettol": "2016-07-25",
                                    "meddig": "2016-07-28",
                                    "(No column name)": "2",
                                    "előző 3 összesen": "4"
                                },
                                {
                                    "usernev": "szilvia1",
                                    "nev": "Tari Szilvia",
                                    "mettol": "2016-10-09",
                                    "meddig": "2016-10-10",
                                    "(No column name)": "3",
                                    "előző 3 összesen": "6"
                                },
                                {
                                    "usernev": "szilvia1",
                                    "nev": "Tari Szilvia",
                                    "mettol": "2016-10-25",
                                    "meddig": "2016-10-31",
                                    "(No column name)": "3",
                                    "előző 3 összesen": "7"
                                },
                                {
                                    "usernev": "szilvia1",
                                    "nev": "Tari Szilvia",
                                    "mettol": "2016-10-27",
                                    "meddig": "2016-10-28",
                                    "(No column name)": "2",
                                    "előző 3 összesen": "8"
                                },
                                {
                                    "usernev": "szilvia1",
                                    "nev": "Tari Szilvia",
                                    "mettol": "2016-12-25",
                                    "meddig": "2016-12-29",
                                    "(No column name)": "5",
                                    "előző 3 összesen": "8"
                                },
                                {
                                    "usernev": "szilvia1",
                                    "nev": "Tari Szilvia",
                                    "mettol": "2016-12-27",
                                    "meddig": "2017-01-02",
                                    "(No column name)": "2",
                                    "előző 3 összesen": "10"
                                },
                                {
                                    "usernev": "szilvia1",
                                    "nev": "Tari Szilvia",
                                    "mettol": "2017-01-28",
                                    "meddig": "2017-02-03",
                                    "(No column name)": "2",
                                    "előző 3 összesen": "9"
                                },
                                {
                                    "usernev": "tamara2",
                                    "nev": "Miklós Tamara",
                                    "mettol": "2016-08-12",
                                    "meddig": "2016-08-15",
                                    "(No column name)": "3",
                                    "előző 3 összesen": "NULL"
                                },
                                {
                                    "usernev": "tamara2",
                                    "nev": "Miklós Tamara",
                                    "mettol": "2016-11-15",
                                    "meddig": "2016-11-18",
                                    "(No column name)": "2",
                                    "előző 3 összesen": "3"
                                },
                                {
                                    "usernev": "tamas",
                                    "nev": "Antal Tamás",
                                    "mettol": "2016-05-17",
                                    "meddig": "2016-05-22",
                                    "(No column name)": "2",
                                    "előző 3 összesen": "NULL"
                                },
                                {
                                    "usernev": "tamas",
                                    "nev": "Antal Tamás",
                                    "mettol": "2016-06-14",
                                    "meddig": "2016-06-21",
                                    "(No column name)": "2",
                                    "előző 3 összesen": "2"
                                },
                                {
                                    "usernev": "tamas",
                                    "nev": "Antal Tamás",
                                    "mettol": "2016-08-24",
                                    "meddig": "2016-08-27",
                                    "(No column name)": "3",
                                    "előző 3 összesen": "4"
                                },
                                {
                                    "usernev": "tamas",
                                    "nev": "Antal Tamás",
                                    "mettol": "2017-02-14",
                                    "meddig": "2017-02-19",
                                    "(No column name)": "3",
                                    "előző 3 összesen": "7"
                                },
                                {
                                    "usernev": "TAMASF",
                                    "nev": "Fényes Tamás",
                                    "mettol": "2016-05-03",
                                    "meddig": "2016-05-04",
                                    "(No column name)": "2",
                                    "előző 3 összesen": "NULL"
                                },
                                {
                                    "usernev": "TAMASF",
                                    "nev": "Fényes Tamás",
                                    "mettol": "2016-06-10",
                                    "meddig": "2016-06-13",
                                    "(No column name)": "3",
                                    "előző 3 összesen": "2"
                                },
                                {
                                    "usernev": "TAMASF",
                                    "nev": "Fényes Tamás",
                                    "mettol": "2016-06-28",
                                    "meddig": "2016-07-05",
                                    "(No column name)": "3",
                                    "előző 3 összesen": "5"
                                },
                                {
                                    "usernev": "TAMASF",
                                    "nev": "Fényes Tamás",
                                    "mettol": "2016-07-04",
                                    "meddig": "2016-07-10",
                                    "(No column name)": "2",
                                    "előző 3 összesen": "8"
                                },
                                {
                                    "usernev": "TAMASF",
                                    "nev": "Fényes Tamás",
                                    "mettol": "2016-09-12",
                                    "meddig": "2016-09-18",
                                    "(No column name)": "3",
                                    "előző 3 összesen": "8"
                                },
                                {
                                    "usernev": "TAMASF",
                                    "nev": "Fényes Tamás",
                                    "mettol": "2016-12-02",
                                    "meddig": "2016-12-04",
                                    "(No column name)": "1",
                                    "előző 3 összesen": "8"
                                },
                                {
                                    "usernev": "TAMASF",
                                    "nev": "Fényes Tamás",
                                    "mettol": "2016-12-10",
                                    "meddig": "2016-12-14",
                                    "(No column name)": "3",
                                    "előző 3 összesen": "6"
                                },
                                {
                                    "usernev": "TAMASF",
                                    "nev": "Fényes Tamás",
                                    "mettol": "2017-02-12",
                                    "meddig": "2017-02-17",
                                    "(No column name)": "2",
                                    "előző 3 összesen": "7"
                                },
                                {
                                    "usernev": "TAMASF",
                                    "nev": "Fényes Tamás",
                                    "mettol": "2017-02-16",
                                    "meddig": "2017-02-19",
                                    "(No column name)": "4",
                                    "előző 3 összesen": "6"
                                },
                                {
                                    "usernev": "tibor",
                                    "nev": "Gombos Tibor",
                                    "mettol": "2016-10-09",
                                    "meddig": "2016-10-13",
                                    "(No column name)": "2",
                                    "előző 3 összesen": "NULL"
                                },
                                {
                                    "usernev": "tibor",
                                    "nev": "Gombos Tibor",
                                    "mettol": "2016-11-05",
                                    "meddig": "2016-11-09",
                                    "(No column name)": "1",
                                    "előző 3 összesen": "2"
                                },
                                {
                                    "usernev": "tibor2",
                                    "nev": "Dániel Tibor",
                                    "mettol": "2016-10-20",
                                    "meddig": "2016-10-25",
                                    "(No column name)": "2",
                                    "előző 3 összesen": "NULL"
                                },
                                {
                                    "usernev": "tihamer",
                                    "nev": "Kazy Tihamér",
                                    "mettol": "2016-05-30",
                                    "meddig": "2016-06-05",
                                    "(No column name)": "1",
                                    "előző 3 összesen": "NULL"
                                },
                                {
                                    "usernev": "tihamer",
                                    "nev": "Kazy Tihamér",
                                    "mettol": "2016-06-03",
                                    "meddig": "2016-06-08",
                                    "(No column name)": "5",
                                    "előző 3 összesen": "1"
                                },
                                {
                                    "usernev": "tihamer",
                                    "nev": "Kazy Tihamér",
                                    "mettol": "2016-07-20",
                                    "meddig": "2016-07-24",
                                    "(No column name)": "3",
                                    "előző 3 összesen": "6"
                                },
                                {
                                    "usernev": "tihamer",
                                    "nev": "Kazy Tihamér",
                                    "mettol": "2016-08-18",
                                    "meddig": "2016-08-22",
                                    "(No column name)": "3",
                                    "előző 3 összesen": "9"
                                },
                                {
                                    "usernev": "tihamer",
                                    "nev": "Kazy Tihamér",
                                    "mettol": "2016-10-19",
                                    "meddig": "2016-10-23",
                                    "(No column name)": "2",
                                    "előző 3 összesen": "11"
                                },
                                {
                                    "usernev": "tihamer",
                                    "nev": "Kazy Tihamér",
                                    "mettol": "2016-12-25",
                                    "meddig": "2016-12-26",
                                    "(No column name)": "2",
                                    "előző 3 összesen": "8"
                                },
                                {
                                    "usernev": "timea",
                                    "nev": "Papós Tímea",
                                    "mettol": "2016-12-26",
                                    "meddig": "2016-12-27",
                                    "(No column name)": "2",
                                    "előző 3 összesen": "NULL"
                                },
                                {
                                    "usernev": "timea2",
                                    "nev": "Dusha Tímea",
                                    "mettol": "2016-06-06",
                                    "meddig": "2016-06-07",
                                    "(No column name)": "2",
                                    "előző 3 összesen": "NULL"
                                },
                                {
                                    "usernev": "timea2",
                                    "nev": "Dusha Tímea",
                                    "mettol": "2016-08-07",
                                    "meddig": "2016-08-10",
                                    "(No column name)": "3",
                                    "előző 3 összesen": "2"
                                },
                                {
                                    "usernev": "timea2",
                                    "nev": "Dusha Tímea",
                                    "mettol": "2016-10-26",
                                    "meddig": "2016-10-29",
                                    "(No column name)": "3",
                                    "előző 3 összesen": "5"
                                },
                                {
                                    "usernev": "timea2",
                                    "nev": "Dusha Tímea",
                                    "mettol": "2016-11-27",
                                    "meddig": "2016-12-01",
                                    "(No column name)": "4",
                                    "előző 3 összesen": "8"
                                },
                                {
                                    "usernev": "timea2",
                                    "nev": "Dusha Tímea",
                                    "mettol": "2016-12-14",
                                    "meddig": "2016-12-16",
                                    "(No column name)": "4",
                                    "előző 3 összesen": "10"
                                },
                                {
                                    "usernev": "tunde",
                                    "nev": "Turcsik Tünde",
                                    "mettol": "2016-06-03",
                                    "meddig": "2016-06-07",
                                    "(No column name)": "3",
                                    "előző 3 összesen": "NULL"
                                },
                                {
                                    "usernev": "tunde",
                                    "nev": "Turcsik Tünde",
                                    "mettol": "2016-06-06",
                                    "meddig": "2016-06-12",
                                    "(No column name)": "3",
                                    "előző 3 összesen": "3"
                                },
                                {
                                    "usernev": "tunde",
                                    "nev": "Turcsik Tünde",
                                    "mettol": "2016-07-14",
                                    "meddig": "2016-07-21",
                                    "(No column name)": "1",
                                    "előző 3 összesen": "6"
                                },
                                {
                                    "usernev": "tunde",
                                    "nev": "Turcsik Tünde",
                                    "mettol": "2016-09-05",
                                    "meddig": "2016-09-12",
                                    "(No column name)": "2",
                                    "előző 3 összesen": "7"
                                },
                                {
                                    "usernev": "tunde",
                                    "nev": "Turcsik Tünde",
                                    "mettol": "2016-10-24",
                                    "meddig": "2016-10-30",
                                    "(No column name)": "3",
                                    "előző 3 összesen": "6"
                                },
                                {
                                    "usernev": "tunde",
                                    "nev": "Turcsik Tünde",
                                    "mettol": "2016-11-19",
                                    "meddig": "2016-11-20",
                                    "(No column name)": "3",
                                    "előző 3 összesen": "6"
                                },
                                {
                                    "usernev": "tunde",
                                    "nev": "Turcsik Tünde",
                                    "mettol": "2016-12-15",
                                    "meddig": "2016-12-20",
                                    "(No column name)": "3",
                                    "előző 3 összesen": "8"
                                },
                                {
                                    "usernev": "tunde",
                                    "nev": "Turcsik Tünde",
                                    "mettol": "2017-01-03",
                                    "meddig": "2017-01-06",
                                    "(No column name)": "5",
                                    "előző 3 összesen": "9"
                                },
                                {
                                    "usernev": "valentin",
                                    "nev": "Feró Valentin",
                                    "mettol": "2016-05-24",
                                    "meddig": "2016-05-30",
                                    "(No column name)": "4",
                                    "előző 3 összesen": "NULL"
                                },
                                {
                                    "usernev": "valentin",
                                    "nev": "Feró Valentin",
                                    "mettol": "2016-07-24",
                                    "meddig": "2016-07-29",
                                    "(No column name)": "1",
                                    "előző 3 összesen": "4"
                                },
                                {
                                    "usernev": "valentin",
                                    "nev": "Feró Valentin",
                                    "mettol": "2016-10-26",
                                    "meddig": "2016-10-30",
                                    "(No column name)": "3",
                                    "előző 3 összesen": "5"
                                },
                                {
                                    "usernev": "valentin",
                                    "nev": "Feró Valentin",
                                    "mettol": "2016-11-11",
                                    "meddig": "2016-11-17",
                                    "(No column name)": "3",
                                    "előző 3 összesen": "8"
                                },
                                {
                                    "usernev": "valentin",
                                    "nev": "Feró Valentin",
                                    "mettol": "2016-12-01",
                                    "meddig": "2016-12-05",
                                    "(No column name)": "3",
                                    "előző 3 összesen": "7"
                                },
                                {
                                    "usernev": "veronika4",
                                    "nev": "Tankó Veronika",
                                    "mettol": "2016-05-30",
                                    "meddig": "2016-06-04",
                                    "(No column name)": "2",
                                    "előző 3 összesen": "NULL"
                                },
                                {
                                    "usernev": "veronika4",
                                    "nev": "Tankó Veronika",
                                    "mettol": "2016-07-20",
                                    "meddig": "2016-07-26",
                                    "(No column name)": "3",
                                    "előző 3 összesen": "2"
                                },
                                {
                                    "usernev": "veronika4",
                                    "nev": "Tankó Veronika",
                                    "mettol": "2016-08-16",
                                    "meddig": "2016-08-21",
                                    "(No column name)": "1",
                                    "előző 3 összesen": "5"
                                },
                                {
                                    "usernev": "veronika4",
                                    "nev": "Tankó Veronika",
                                    "mettol": "2016-09-26",
                                    "meddig": "2016-10-03",
                                    "(No column name)": "2",
                                    "előző 3 összesen": "6"
                                },
                                {
                                    "usernev": "veronika4",
                                    "nev": "Tankó Veronika",
                                    "mettol": "2017-01-19",
                                    "meddig": "2017-01-24",
                                    "(No column name)": "3",
                                    "előző 3 összesen": "6"
                                },
                                {
                                    "usernev": "veronika4",
                                    "nev": "Tankó Veronika",
                                    "mettol": "2017-02-03",
                                    "meddig": "2017-02-05",
                                    "(No column name)": "2",
                                    "előző 3 összesen": "6"
                                },
                                {
                                    "usernev": "VIKTORIAU",
                                    "nev": "Urbán Viktoria",
                                    "mettol": "2016-04-30",
                                    "meddig": "2016-05-03",
                                    "(No column name)": "1",
                                    "előző 3 összesen": "NULL"
                                },
                                {
                                    "usernev": "VIKTORIAU",
                                    "nev": "Urbán Viktoria",
                                    "mettol": "2016-08-03",
                                    "meddig": "2016-08-04",
                                    "(No column name)": "2",
                                    "előző 3 összesen": "1"
                                },
                                {
                                    "usernev": "VIKTORIAU",
                                    "nev": "Urbán Viktoria",
                                    "mettol": "2016-10-14",
                                    "meddig": "2016-10-15",
                                    "(No column name)": "3",
                                    "előző 3 összesen": "3"
                                },
                                {
                                    "usernev": "VIKTORIAU",
                                    "nev": "Urbán Viktoria",
                                    "mettol": "2016-10-26",
                                    "meddig": "2016-11-02",
                                    "(No column name)": "4",
                                    "előző 3 összesen": "6"
                                },
                                {
                                    "usernev": "VIKTORK",
                                    "nev": "Keresztúri Viktor",
                                    "mettol": "2016-05-30",
                                    "meddig": "2016-06-01",
                                    "(No column name)": "2",
                                    "előző 3 összesen": "NULL"
                                },
                                {
                                    "usernev": "VIKTORK",
                                    "nev": "Keresztúri Viktor",
                                    "mettol": "2016-06-06",
                                    "meddig": "2016-06-07",
                                    "(No column name)": "4",
                                    "előző 3 összesen": "2"
                                },
                                {
                                    "usernev": "vivien3",
                                    "nev": "Boros Vivien",
                                    "mettol": "2016-05-02",
                                    "meddig": "2016-05-05",
                                    "(No column name)": "3",
                                    "előző 3 összesen": "NULL"
                                },
                                {
                                    "usernev": "vivien3",
                                    "nev": "Boros Vivien",
                                    "mettol": "2016-08-13",
                                    "meddig": "2016-08-18",
                                    "(No column name)": "2",
                                    "előző 3 összesen": "3"
                                },
                                {
                                    "usernev": "vivien3",
                                    "nev": "Boros Vivien",
                                    "mettol": "2016-09-01",
                                    "meddig": "2016-09-05",
                                    "(No column name)": "2",
                                    "előző 3 összesen": "5"
                                },
                                {
                                    "usernev": "vivien3",
                                    "nev": "Boros Vivien",
                                    "mettol": "2016-10-01",
                                    "meddig": "2016-10-04",
                                    "(No column name)": "1",
                                    "előző 3 összesen": "7"
                                },
                                {
                                    "usernev": "vivien3",
                                    "nev": "Boros Vivien",
                                    "mettol": "2016-11-17",
                                    "meddig": "2016-11-20",
                                    "(No column name)": "2",
                                    "előző 3 összesen": "5"
                                },
                                {
                                    "usernev": "vivien3",
                                    "nev": "Boros Vivien",
                                    "mettol": "2016-12-17",
                                    "meddig": "2016-12-21",
                                    "(No column name)": "2",
                                    "előző 3 összesen": "5"
                                },
                                {
                                    "usernev": "vivien3",
                                    "nev": "Boros Vivien",
                                    "mettol": "2016-12-24",
                                    "meddig": "2016-12-26",
                                    "(No column name)": "3",
                                    "előző 3 összesen": "5"
                                },
                                {
                                    "usernev": "zoltan",
                                    "nev": "Fodor Zoltán",
                                    "mettol": "2016-08-24",
                                    "meddig": "2016-08-31",
                                    "(No column name)": "2",
                                    "előző 3 összesen": "NULL"
                                },
                                {
                                    "usernev": "zoltan",
                                    "nev": "Fodor Zoltán",
                                    "mettol": "2016-09-05",
                                    "meddig": "2016-09-09",
                                    "(No column name)": "3",
                                    "előző 3 összesen": "2"
                                },
                                {
                                    "usernev": "zoltan4",
                                    "nev": "Barna Zoltán",
                                    "mettol": "2016-05-12",
                                    "meddig": "2016-05-16",
                                    "(No column name)": "3",
                                    "előző 3 összesen": "NULL"
                                },
                                {
                                    "usernev": "zoltan4",
                                    "nev": "Barna Zoltán",
                                    "mettol": "2016-05-13",
                                    "meddig": "2016-05-16",
                                    "(No column name)": "3",
                                    "előző 3 összesen": "3"
                                },
                                {
                                    "usernev": "zoltan4",
                                    "nev": "Barna Zoltán",
                                    "mettol": "2016-06-03",
                                    "meddig": "2016-06-06",
                                    "(No column name)": "1",
                                    "előző 3 összesen": "6"
                                },
                                {
                                    "usernev": "zoltan4",
                                    "nev": "Barna Zoltán",
                                    "mettol": "2016-08-15",
                                    "meddig": "2016-08-21",
                                    "(No column name)": "1",
                                    "előző 3 összesen": "7"
                                },
                                {
                                    "usernev": "zoltan4",
                                    "nev": "Barna Zoltán",
                                    "mettol": "2016-08-16",
                                    "meddig": "2016-08-23",
                                    "(No column name)": "2",
                                    "előző 3 összesen": "5"
                                },
                                {
                                    "usernev": "zoltan4",
                                    "nev": "Barna Zoltán",
                                    "mettol": "2016-09-30",
                                    "meddig": "2016-10-07",
                                    "(No column name)": "3",
                                    "előző 3 összesen": "4"
                                },
                                {
                                    "usernev": "zoltan4",
                                    "nev": "Barna Zoltán",
                                    "mettol": "2016-10-21",
                                    "meddig": "2016-10-24",
                                    "(No column name)": "5",
                                    "előző 3 összesen": "6"
                                },
                                {
                                    "usernev": "zoltan4",
                                    "nev": "Barna Zoltán",
                                    "mettol": "2016-10-26",
                                    "meddig": "2016-10-30",
                                    "(No column name)": "2",
                                    "előző 3 összesen": "10"
                                },
                                {
                                    "usernev": "zoltan4",
                                    "nev": "Barna Zoltán",
                                    "mettol": "2016-10-30",
                                    "meddig": "2016-11-06",
                                    "(No column name)": "1",
                                    "előző 3 összesen": "10"
                                },
                                {
                                    "usernev": "zoltan4",
                                    "nev": "Barna Zoltán",
                                    "mettol": "2016-11-19",
                                    "meddig": "2016-11-21",
                                    "(No column name)": "2",
                                    "előző 3 összesen": "8"
                                },
                                {
                                    "usernev": "zoltan4",
                                    "nev": "Barna Zoltán",
                                    "mettol": "2016-12-29",
                                    "meddig": "2017-01-04",
                                    "(No column name)": "1",
                                    "előző 3 összesen": "5"
                                },
                                {
                                    "usernev": "zoltan4",
                                    "nev": "Barna Zoltán",
                                    "mettol": "2017-01-01",
                                    "meddig": "2017-01-02",
                                    "(No column name)": "3",
                                    "előző 3 összesen": "4"
                                },
                                {
                                    "usernev": "ZOLTANP",
                                    "nev": "Pintér Zoltán",
                                    "mettol": "2016-06-05",
                                    "meddig": "2016-06-08",
                                    "(No column name)": "2",
                                    "előző 3 összesen": "NULL"
                                },
                                {
                                    "usernev": "ZOLTANP",
                                    "nev": "Pintér Zoltán",
                                    "mettol": "2016-06-06",
                                    "meddig": "2016-06-08",
                                    "(No column name)": "2",
                                    "előző 3 összesen": "2"
                                },
                                {
                                    "usernev": "ZOLTANP",
                                    "nev": "Pintér Zoltán",
                                    "mettol": "2016-07-20",
                                    "meddig": "2016-07-25",
                                    "(No column name)": "3",
                                    "előző 3 összesen": "4"
                                },
                                {
                                    "usernev": "ZOLTANP",
                                    "nev": "Pintér Zoltán",
                                    "mettol": "2016-10-19",
                                    "meddig": "2016-10-25",
                                    "(No column name)": "2",
                                    "előző 3 összesen": "7"
                                },
                                {
                                    "usernev": "ZOLTANP",
                                    "nev": "Pintér Zoltán",
                                    "mettol": "2016-12-07",
                                    "meddig": "2016-12-10",
                                    "(No column name)": "3",
                                    "előző 3 összesen": "7"
                                },
                                {
                                    "usernev": "ZOLTANT",
                                    "nev": "Tóth Zoltán",
                                    "mettol": "2016-05-01",
                                    "meddig": "2016-05-04",
                                    "(No column name)": "3",
                                    "előző 3 összesen": "NULL"
                                },
                                {
                                    "usernev": "ZOLTANT",
                                    "nev": "Tóth Zoltán",
                                    "mettol": "2016-07-14",
                                    "meddig": "2016-07-15",
                                    "(No column name)": "3",
                                    "előző 3 összesen": "3"
                                },
                                {
                                    "usernev": "ZOLTANT",
                                    "nev": "Tóth Zoltán",
                                    "mettol": "2017-01-16",
                                    "meddig": "2017-01-20",
                                    "(No column name)": "2",
                                    "előző 3 összesen": "6"
                                },
                                {
                                    "usernev": "zsofi1",
                                    "nev": "Molnár Zsófi",
                                    "mettol": "2016-06-16",
                                    "meddig": "2016-06-17",
                                    "(No column name)": "2",
                                    "előző 3 összesen": "NULL"
                                },
                                {
                                    "usernev": "zsofi1",
                                    "nev": "Molnár Zsófi",
                                    "mettol": "2017-02-18",
                                    "meddig": "2017-02-19",
                                    "(No column name)": "3",
                                    "előző 3 összesen": "2"
                                },
                                {
                                    "usernev": "zsolt1",
                                    "nev": "Pulai Zsolt",
                                    "mettol": "2016-04-14",
                                    "meddig": "2016-04-17",
                                    "(No column name)": "2",
                                    "előző 3 összesen": "NULL"
                                },
                                {
                                    "usernev": "zsolt1",
                                    "nev": "Pulai Zsolt",
                                    "mettol": "2016-06-06",
                                    "meddig": "2016-06-08",
                                    "(No column name)": "2",
                                    "előző 3 összesen": "2"
                                },
                                {
                                    "usernev": "zsolt1",
                                    "nev": "Pulai Zsolt",
                                    "mettol": "2016-06-07",
                                    "meddig": "2016-06-10",
                                    "(No column name)": "4",
                                    "előző 3 összesen": "4"
                                },
                                {
                                    "usernev": "zsolt1",
                                    "nev": "Pulai Zsolt",
                                    "mettol": "2016-07-31",
                                    "meddig": "2016-08-02",
                                    "(No column name)": "2",
                                    "előző 3 összesen": "8"
                                },
                                {
                                    "usernev": "ZSOLTJ",
                                    "nev": "Józsa Zsolt",
                                    "mettol": "2016-04-24",
                                    "meddig": "2016-04-26",
                                    "(No column name)": "4",
                                    "előző 3 összesen": "NULL"
                                },
                                {
                                    "usernev": "ZSOLTJ",
                                    "nev": "Józsa Zsolt",
                                    "mettol": "2016-05-09",
                                    "meddig": "2016-05-11",
                                    "(No column name)": "2",
                                    "előző 3 összesen": "4"
                                },
                                {
                                    "usernev": "ZSOLTJ",
                                    "nev": "Józsa Zsolt",
                                    "mettol": "2016-05-28",
                                    "meddig": "2016-06-03",
                                    "(No column name)": "1",
                                    "előző 3 összesen": "6"
                                },
                                {
                                    "usernev": "ZSOLTJ",
                                    "nev": "Józsa Zsolt",
                                    "mettol": "2016-06-17",
                                    "meddig": "2016-06-19",
                                    "(No column name)": "2",
                                    "előző 3 összesen": "7"
                                },
                                {
                                    "usernev": "ZSOLTJ",
                                    "nev": "Józsa Zsolt",
                                    "mettol": "2016-07-18",
                                    "meddig": "2016-07-19",
                                    "(No column name)": "2",
                                    "előző 3 összesen": "5"
                                },
                                {
                                    "usernev": "ZSOLTJ",
                                    "nev": "Józsa Zsolt",
                                    "mettol": "2016-10-01",
                                    "meddig": "2016-10-06",
                                    "(No column name)": "2",
                                    "előző 3 összesen": "5"
                                },
                                {
                                    "usernev": "zsuzsa",
                                    "nev": "Pusztai Zsuzsanna",
                                    "mettol": "2016-07-24",
                                    "meddig": "2016-07-25",
                                    "(No column name)": "3",
                                    "előző 3 összesen": "NULL"
                                },
                                {
                                    "usernev": "zsuzsa",
                                    "nev": "Pusztai Zsuzsanna",
                                    "mettol": "2016-08-28",
                                    "meddig": "2016-08-30",
                                    "(No column name)": "2",
                                    "előző 3 összesen": "3"
                                },
                                {
                                    "usernev": "zsuzsa",
                                    "nev": "Pusztai Zsuzsanna",
                                    "mettol": "2016-11-28",
                                    "meddig": "2016-12-04",
                                    "(No column name)": "3",
                                    "előző 3 összesen": "5"
                                },
                                {
                                    "usernev": "zsuzsa3",
                                    "nev": "Varsányi Zsuzsa",
                                    "mettol": "2016-07-30",
                                    "meddig": "2016-08-02",
                                    "(No column name)": "2",
                                    "előző 3 összesen": "NULL"
                                },
                                {
                                    "usernev": "zsuzsa3",
                                    "nev": "Varsányi Zsuzsa",
                                    "mettol": "2016-09-09",
                                    "meddig": "2016-09-10",
                                    "(No column name)": "2",
                                    "előző 3 összesen": "2"
                                },
                                {
                                    "usernev": "zsuzsa3",
                                    "nev": "Varsányi Zsuzsa",
                                    "mettol": "2016-09-28",
                                    "meddig": "2016-10-03",
                                    "(No column name)": "2",
                                    "előző 3 összesen": "4"
                                },
                                {
                                    "usernev": "zsuzsa3",
                                    "nev": "Varsányi Zsuzsa",
                                    "mettol": "2016-10-27",
                                    "meddig": "2016-11-03",
                                    "(No column name)": "4",
                                    "előző 3 összesen": "6"
                                },
                                {
                                    "usernev": "zsuzsanna",
                                    "nev": "Barta Zsuzsanna",
                                    "mettol": "2016-05-17",
                                    "meddig": "2016-05-23",
                                    "(No column name)": "2",
                                    "előző 3 összesen": "NULL"
                                },
                                {
                                    "usernev": "zsuzsanna",
                                    "nev": "Barta Zsuzsanna",
                                    "mettol": "2016-07-12",
                                    "meddig": "2016-07-15",
                                    "(No column name)": "2",
                                    "előző 3 összesen": "2"
                                },
                                {
                                    "usernev": "zsuzsanna",
                                    "nev": "Barta Zsuzsanna",
                                    "mettol": "2017-01-09",
                                    "meddig": "2017-01-16",
                                    "(No column name)": "1",
                                    "előző 3 összesen": "4"
                                },
                                {
                                    "usernev": "zsuzsanna",
                                    "nev": "Barta Zsuzsanna",
                                    "mettol": "2017-01-16",
                                    "meddig": "2017-01-22",
                                    "(No column name)": "2",
                                    "előző 3 összesen": "5"
                                },
                                {
                                    "usernev": "ZSUZSAV",
                                    "nev": "Vajda Zsuzsa",
                                    "mettol": "2016-04-14",
                                    "meddig": "2016-04-16",
                                    "(No column name)": "2",
                                    "előző 3 összesen": "NULL"
                                },
                                {
                                    "usernev": "ZSUZSAV",
                                    "nev": "Vajda Zsuzsa",
                                    "mettol": "2016-05-28",
                                    "meddig": "2016-06-01",
                                    "(No column name)": "4",
                                    "előző 3 összesen": "2"
                                },
                                {
                                    "usernev": "ZSUZSAV",
                                    "nev": "Vajda Zsuzsa",
                                    "mettol": "2016-06-15",
                                    "meddig": "2016-06-21",
                                    "(No column name)": "3",
                                    "előző 3 összesen": "6"
                                },
                                {
                                    "usernev": "ZSUZSAV",
                                    "nev": "Vajda Zsuzsa",
                                    "mettol": "2016-09-18",
                                    "meddig": "2016-09-20",
                                    "(No column name)": "2",
                                    "előző 3 összesen": "9"
                                },
                                {
                                    "usernev": "ZSUZSAV",
                                    "nev": "Vajda Zsuzsa",
                                    "mettol": "2016-10-26",
                                    "meddig": "2016-10-28",
                                    "(No column name)": "1",
                                    "előző 3 összesen": "9"
                                },
                                {
                                    "usernev": "ZSUZSAV",
                                    "nev": "Vajda Zsuzsa",
                                    "mettol": "2016-11-21",
                                    "meddig": "2016-11-24",
                                    "(No column name)": "3",
                                    "előző 3 összesen": "6"
                                }
                            ]
                        },
                        "text/html": [
                            "<table>",
                            "<tr><th>usernev</th><th>nev</th><th>mettol</th><th>meddig</th><th>(No column name)</th><th>előző 3 összesen</th></tr>",
                            "<tr><td>adam1</td><td>Kiss Ádám</td><td>0001-01-01</td><td>0001-01-01</td><td>3</td><td>NULL</td></tr>",
                            "<tr><td>adam1</td><td>Kiss Ádám</td><td>2000-11-01</td><td>2000-11-05</td><td>1</td><td>3</td></tr>",
                            "<tr><td>adam1</td><td>Kiss Ádám</td><td>2016-05-28</td><td>2016-06-03</td><td>3</td><td>4</td></tr>",
                            "<tr><td>adam1</td><td>Kiss Ádám</td><td>2016-08-20</td><td>2016-08-24</td><td>1</td><td>7</td></tr>",
                            "<tr><td>adam1</td><td>Kiss Ádám</td><td>2016-10-19</td><td>2016-10-24</td><td>2</td><td>5</td></tr>",
                            "<tr><td>adam1</td><td>Kiss Ádám</td><td>2022-05-09</td><td>2022-11-10</td><td>2</td><td>6</td></tr>",
                            "<tr><td>adam1</td><td>Kiss Ádám</td><td>2022-11-05</td><td>2022-11-12</td><td>0</td><td>5</td></tr>",
                            "<tr><td>adam1</td><td>Kiss Ádám</td><td>2022-11-09</td><td>2022-11-09</td><td>2</td><td>4</td></tr>",
                            "<tr><td>adam3</td><td>Barkóci Ádám</td><td>2016-09-12</td><td>2016-09-16</td><td>2</td><td>NULL</td></tr>",
                            "<tr><td>adam3</td><td>Barkóci Ádám</td><td>2017-02-06</td><td>2017-02-10</td><td>1</td><td>2</td></tr>",
                            "<tr><td>adam4</td><td>Bieniek Ádám</td><td>2016-08-28</td><td>2016-08-30</td><td>3</td><td>NULL</td></tr>",
                            "<tr><td>adam4</td><td>Bieniek Ádám</td><td>2016-10-27</td><td>2016-11-02</td><td>3</td><td>3</td></tr>",
                            "<tr><td>adam4</td><td>Bieniek Ádám</td><td>2016-11-15</td><td>2016-11-18</td><td>2</td><td>6</td></tr>",
                            "<tr><td>adam4</td><td>Bieniek Ádám</td><td>2016-12-06</td><td>2016-12-09</td><td>3</td><td>8</td></tr>",
                            "<tr><td>adam4</td><td>Bieniek Ádám</td><td>2017-01-12</td><td>2017-01-19</td><td>2</td><td>8</td></tr>",
                            "<tr><td>adam4</td><td>Bieniek Ádám</td><td>2017-02-23</td><td>2017-02-27</td><td>3</td><td>7</td></tr>",
                            "<tr><td>agnes</td><td>Lengyel Ágnes</td><td>2016-05-09</td><td>2016-05-11</td><td>3</td><td>NULL</td></tr>",
                            "<tr><td>agnes</td><td>Lengyel Ágnes</td><td>2016-05-25</td><td>2016-05-30</td><td>1</td><td>3</td></tr>",
                            "<tr><td>agnes</td><td>Lengyel Ágnes</td><td>2016-07-13</td><td>2016-07-19</td><td>3</td><td>4</td></tr>",
                            "<tr><td>agnes</td><td>Lengyel Ágnes</td><td>2016-07-30</td><td>2016-08-06</td><td>3</td><td>7</td></tr>",
                            "<tr><td>agnes</td><td>Lengyel Ágnes</td><td>2016-11-07</td><td>2016-11-13</td><td>2</td><td>7</td></tr>",
                            "<tr><td>agnes3</td><td>Hartyánszky Ágnes</td><td>2016-08-04</td><td>2016-08-10</td><td>1</td><td>NULL</td></tr>",
                            "<tr><td>agnes3</td><td>Hartyánszky Ágnes</td><td>2016-10-22</td><td>2016-10-23</td><td>3</td><td>1</td></tr>",
                            "<tr><td>agnes3</td><td>Hartyánszky Ágnes</td><td>2017-02-16</td><td>2017-02-21</td><td>3</td><td>4</td></tr>",
                            "<tr><td>AGNESH</td><td>Horváth Ágnes</td><td>2016-04-10</td><td>2016-04-12</td><td>2</td><td>NULL</td></tr>",
                            "<tr><td>AGNESH</td><td>Horváth Ágnes</td><td>2016-04-27</td><td>2016-04-28</td><td>4</td><td>2</td></tr>",
                            "<tr><td>AGNESH</td><td>Horváth Ágnes</td><td>2016-06-23</td><td>2016-06-26</td><td>1</td><td>6</td></tr>",
                            "<tr><td>AGNESH</td><td>Horváth Ágnes</td><td>2016-10-30</td><td>2016-11-04</td><td>1</td><td>7</td></tr>",
                            "<tr><td>AGNESH</td><td>Horváth Ágnes</td><td>2017-01-03</td><td>2017-01-10</td><td>2</td><td>6</td></tr>",
                            "<tr><td>AGNESH</td><td>Horváth Ágnes</td><td>2017-01-16</td><td>2017-01-23</td><td>3</td><td>4</td></tr>",
                            "<tr><td>AGNESK</td><td>Kovács Ágnes</td><td>2016-07-29</td><td>2016-08-01</td><td>3</td><td>NULL</td></tr>",
                            "<tr><td>AGNESK</td><td>Kovács Ágnes</td><td>2016-10-17</td><td>2016-10-19</td><td>2</td><td>3</td></tr>",
                            "<tr><td>AGNESK</td><td>Kovács Ágnes</td><td>2016-12-17</td><td>2016-12-18</td><td>2</td><td>5</td></tr>",
                            "<tr><td>akos</td><td>Bíró Ákos</td><td>0001-01-01</td><td>0001-01-01</td><td>1</td><td>NULL</td></tr>",
                            "<tr><td>akos</td><td>Bíró Ákos</td><td>0001-01-01</td><td>0001-01-01</td><td>2</td><td>1</td></tr>",
                            "<tr><td>akos</td><td>Bíró Ákos</td><td>0001-01-01</td><td>0001-01-01</td><td>2</td><td>3</td></tr>",
                            "<tr><td>akos</td><td>Bíró Ákos</td><td>2016-05-18</td><td>2016-05-19</td><td>2</td><td>5</td></tr>",
                            "<tr><td>akos</td><td>Bíró Ákos</td><td>2016-07-14</td><td>2016-07-19</td><td>2</td><td>6</td></tr>",
                            "<tr><td>akos</td><td>Bíró Ákos</td><td>2016-07-16</td><td>2016-07-18</td><td>2</td><td>6</td></tr>",
                            "<tr><td>akos</td><td>Bíró Ákos</td><td>2016-07-22</td><td>2016-07-26</td><td>1</td><td>6</td></tr>",
                            "<tr><td>akos</td><td>Bíró Ákos</td><td>2016-09-06</td><td>2016-09-12</td><td>1</td><td>5</td></tr>",
                            "<tr><td>akos</td><td>Bíró Ákos</td><td>2016-10-05</td><td>2016-10-09</td><td>2</td><td>4</td></tr>",
                            "<tr><td>akos</td><td>Bíró Ákos</td><td>2016-10-18</td><td>2016-10-23</td><td>2</td><td>4</td></tr>",
                            "<tr><td>akos</td><td>Bíró Ákos</td><td>2016-11-21</td><td>2016-11-27</td><td>2</td><td>5</td></tr>",
                            "<tr><td>akos</td><td>Bíró Ákos</td><td>2016-12-15</td><td>2016-12-21</td><td>2</td><td>6</td></tr>",
                            "<tr><td>akos</td><td>Bíró Ákos</td><td>2016-12-29</td><td>2016-12-30</td><td>3</td><td>6</td></tr>",
                            "<tr><td>aladar</td><td>Dunai Aladár</td><td>0001-01-01</td><td>0001-01-01</td><td>1</td><td>NULL</td></tr>",
                            "<tr><td>aladar</td><td>Dunai Aladár</td><td>2016-05-17</td><td>2016-05-24</td><td>1</td><td>1</td></tr>",
                            "<tr><td>aladar</td><td>Dunai Aladár</td><td>2016-09-24</td><td>2016-09-28</td><td>1</td><td>2</td></tr>",
                            "<tr><td>aladar</td><td>Dunai Aladár</td><td>2016-11-22</td><td>2016-11-23</td><td>2</td><td>3</td></tr>",
                            "<tr><td>alexandra</td><td>Bagóczki Alexandra</td><td>0001-01-01</td><td>0001-01-01</td><td>2</td><td>NULL</td></tr>",
                            "<tr><td>alexandra</td><td>Bagóczki Alexandra</td><td>2016-05-21</td><td>2016-05-27</td><td>3</td><td>2</td></tr>",
                            "<tr><td>alexandra</td><td>Bagóczki Alexandra</td><td>2016-06-08</td><td>2016-06-11</td><td>3</td><td>5</td></tr>",
                            "<tr><td>alexandra</td><td>Bagóczki Alexandra</td><td>2016-07-27</td><td>2016-07-30</td><td>2</td><td>8</td></tr>",
                            "<tr><td>alexandra</td><td>Bagóczki Alexandra</td><td>2016-10-21</td><td>2016-10-25</td><td>2</td><td>8</td></tr>",
                            "<tr><td>alexandra</td><td>Bagóczki Alexandra</td><td>2016-11-29</td><td>2016-12-05</td><td>2</td><td>7</td></tr>",
                            "<tr><td>alexandra</td><td>Bagóczki Alexandra</td><td>2017-01-13</td><td>2017-01-14</td><td>1</td><td>6</td></tr>",
                            "<tr><td>alexandra</td><td>Bagóczki Alexandra</td><td>2017-01-19</td><td>2017-01-26</td><td>2</td><td>5</td></tr>",
                            "<tr><td>andi</td><td>Maródi Andrea</td><td>2016-05-08</td><td>2016-05-14</td><td>4</td><td>NULL</td></tr>",
                            "<tr><td>andi</td><td>Maródi Andrea</td><td>2016-06-13</td><td>2016-06-14</td><td>1</td><td>4</td></tr>",
                            "<tr><td>andi</td><td>Maródi Andrea</td><td>2016-09-13</td><td>2016-09-16</td><td>2</td><td>5</td></tr>",
                            "<tr><td>andi</td><td>Maródi Andrea</td><td>2016-11-16</td><td>2016-11-17</td><td>3</td><td>7</td></tr>",
                            "<tr><td>andi</td><td>Maródi Andrea</td><td>2017-01-13</td><td>2017-01-17</td><td>3</td><td>6</td></tr>",
                            "<tr><td>andras2</td><td>Tóth András</td><td>0001-01-01</td><td>0001-01-01</td><td>1</td><td>NULL</td></tr>",
                            "<tr><td>andras2</td><td>Tóth András</td><td>0001-01-01</td><td>0001-01-01</td><td>2</td><td>1</td></tr>",
                            "<tr><td>andras2</td><td>Tóth András</td><td>0001-01-01</td><td>0001-01-01</td><td>2</td><td>3</td></tr>",
                            "<tr><td>andras2</td><td>Tóth András</td><td>0001-01-01</td><td>0001-01-01</td><td>2</td><td>5</td></tr>",
                            "<tr><td>andras2</td><td>Tóth András</td><td>2016-05-30</td><td>2016-06-04</td><td>1</td><td>6</td></tr>",
                            "<tr><td>andras2</td><td>Tóth András</td><td>2016-07-20</td><td>2016-07-22</td><td>2</td><td>5</td></tr>",
                            "<tr><td>andras2</td><td>Tóth András</td><td>2016-09-30</td><td>2016-10-03</td><td>2</td><td>5</td></tr>",
                            "<tr><td>andras2</td><td>Tóth András</td><td>2016-10-07</td><td>2016-10-10</td><td>3</td><td>5</td></tr>",
                            "<tr><td>andras2</td><td>Tóth András</td><td>2017-02-08</td><td>2017-02-10</td><td>4</td><td>7</td></tr>",
                            "<tr><td>andras21</td><td>Molnár András</td><td>0001-01-01</td><td>0001-01-01</td><td>2</td><td>NULL</td></tr>",
                            "<tr><td>andras21</td><td>Molnár András</td><td>0001-01-01</td><td>0001-01-01</td><td>2</td><td>2</td></tr>",
                            "<tr><td>andras21</td><td>Molnár András</td><td>2016-06-21</td><td>2016-06-26</td><td>2</td><td>4</td></tr>",
                            "<tr><td>andras21</td><td>Molnár András</td><td>2016-07-04</td><td>2016-07-05</td><td>3</td><td>6</td></tr>",
                            "<tr><td>andras21</td><td>Molnár András</td><td>2016-07-20</td><td>2016-07-22</td><td>1</td><td>7</td></tr>",
                            "<tr><td>andras21</td><td>Molnár András</td><td>2016-10-01</td><td>2016-10-06</td><td>3</td><td>6</td></tr>",
                            "<tr><td>andras21</td><td>Molnár András</td><td>2016-10-04</td><td>2016-10-11</td><td>3</td><td>7</td></tr>",
                            "<tr><td>andras21</td><td>Molnár András</td><td>2016-11-23</td><td>2016-11-24</td><td>4</td><td>7</td></tr>",
                            "<tr><td>andras21</td><td>Molnár András</td><td>2017-01-28</td><td>2017-02-01</td><td>2</td><td>10</td></tr>",
                            "<tr><td>andras3</td><td>Vígh András</td><td>2016-05-01</td><td>2016-05-06</td><td>2</td><td>NULL</td></tr>",
                            "<tr><td>andras3</td><td>Vígh András</td><td>2016-05-30</td><td>2016-06-03</td><td>1</td><td>2</td></tr>",
                            "<tr><td>andras3</td><td>Vígh András</td><td>2016-06-10</td><td>2016-06-11</td><td>1</td><td>3</td></tr>",
                            "<tr><td>andras3</td><td>Vígh András</td><td>2016-07-15</td><td>2016-07-19</td><td>3</td><td>4</td></tr>",
                            "<tr><td>andras3</td><td>Vígh András</td><td>2016-07-21</td><td>2016-07-23</td><td>2</td><td>5</td></tr>",
                            "<tr><td>andras3</td><td>Vígh András</td><td>2016-08-29</td><td>2016-09-02</td><td>3</td><td>6</td></tr>",
                            "<tr><td>andras3</td><td>Vígh András</td><td>2016-11-28</td><td>2016-12-02</td><td>2</td><td>8</td></tr>",
                            "<tr><td>andras3</td><td>Vígh András</td><td>2017-02-02</td><td>2017-02-08</td><td>2</td><td>7</td></tr>",
                            "<tr><td>andras4</td><td>Back András</td><td>2016-09-17</td><td>2016-09-20</td><td>2</td><td>NULL</td></tr>",
                            "<tr><td>andras4</td><td>Back András</td><td>2016-11-25</td><td>2016-11-28</td><td>2</td><td>2</td></tr>",
                            "<tr><td>andras4</td><td>Back András</td><td>2017-01-09</td><td>2017-01-10</td><td>2</td><td>4</td></tr>",
                            "<tr><td>andras41</td><td>Komjáti András</td><td>0001-01-01</td><td>0001-01-01</td><td>2</td><td>NULL</td></tr>",
                            "<tr><td>andras41</td><td>Komjáti András</td><td>0001-01-01</td><td>0001-01-01</td><td>2</td><td>2</td></tr>",
                            "<tr><td>andras41</td><td>Komjáti András</td><td>0001-01-01</td><td>0001-01-01</td><td>2</td><td>4</td></tr>",
                            "<tr><td>andras41</td><td>Komjáti András</td><td>2016-05-14</td><td>2016-05-16</td><td>2</td><td>6</td></tr>",
                            "<tr><td>andras41</td><td>Komjáti András</td><td>2016-05-21</td><td>2016-05-23</td><td>4</td><td>6</td></tr>",
                            "<tr><td>andras41</td><td>Komjáti András</td><td>2016-06-07</td><td>2016-06-11</td><td>3</td><td>8</td></tr>",
                            "<tr><td>andras41</td><td>Komjáti András</td><td>2016-06-23</td><td>2016-06-29</td><td>2</td><td>9</td></tr>",
                            "<tr><td>andras41</td><td>Komjáti András</td><td>2016-07-28</td><td>2016-08-03</td><td>3</td><td>9</td></tr>",
                            "<tr><td>andras41</td><td>Komjáti András</td><td>2016-08-17</td><td>2016-08-21</td><td>3</td><td>8</td></tr>",
                            "<tr><td>andras41</td><td>Komjáti András</td><td>2016-08-19</td><td>2016-08-23</td><td>1</td><td>8</td></tr>",
                            "<tr><td>andras41</td><td>Komjáti András</td><td>2016-09-22</td><td>2016-09-29</td><td>1</td><td>7</td></tr>",
                            "<tr><td>andras41</td><td>Komjáti András</td><td>2016-09-30</td><td>2016-10-05</td><td>2</td><td>5</td></tr>",
                            "<tr><td>andras41</td><td>Komjáti András</td><td>2016-10-09</td><td>2016-10-13</td><td>2</td><td>4</td></tr>",
                            "<tr><td>andras41</td><td>Komjáti András</td><td>2016-10-15</td><td>2016-10-18</td><td>3</td><td>5</td></tr>",
                            "<tr><td>andras41</td><td>Komjáti András</td><td>2016-11-20</td><td>2016-11-24</td><td>3</td><td>7</td></tr>",
                            "<tr><td>andras41</td><td>Komjáti András</td><td>2016-11-23</td><td>2016-11-24</td><td>1</td><td>8</td></tr>",
                            "<tr><td>ANDRASE</td><td>Erdei András</td><td>2016-04-24</td><td>2016-05-01</td><td>1</td><td>NULL</td></tr>",
                            "<tr><td>ANDRASE</td><td>Erdei András</td><td>2016-07-06</td><td>2016-07-07</td><td>2</td><td>1</td></tr>",
                            "<tr><td>ANDRASE</td><td>Erdei András</td><td>2016-08-16</td><td>2016-08-20</td><td>2</td><td>3</td></tr>",
                            "<tr><td>ANDRASE</td><td>Erdei András</td><td>2016-11-19</td><td>2016-11-20</td><td>4</td><td>5</td></tr>",
                            "<tr><td>ANDRASE</td><td>Erdei András</td><td>2016-11-29</td><td>2016-12-06</td><td>3</td><td>8</td></tr>",
                            "<tr><td>ANDRASN</td><td>Nagy András</td><td>0001-01-01</td><td>0001-01-01</td><td>2</td><td>NULL</td></tr>",
                            "<tr><td>ANDRASN</td><td>Nagy András</td><td>2016-11-25</td><td>2016-12-01</td><td>2</td><td>2</td></tr>",
                            "<tr><td>andrea</td><td>Kiss Andrea</td><td>2016-07-27</td><td>2016-07-28</td><td>2</td><td>NULL</td></tr>",
                            "<tr><td>andrea</td><td>Kiss Andrea</td><td>2016-08-01</td><td>2016-08-02</td><td>2</td><td>2</td></tr>",
                            "<tr><td>andrea</td><td>Kiss Andrea</td><td>2016-08-23</td><td>2016-08-26</td><td>3</td><td>4</td></tr>",
                            "<tr><td>andrea</td><td>Kiss Andrea</td><td>2016-08-26</td><td>2016-08-30</td><td>2</td><td>7</td></tr>",
                            "<tr><td>andrea</td><td>Kiss Andrea</td><td>2016-10-21</td><td>2016-10-27</td><td>4</td><td>7</td></tr>",
                            "<tr><td>andrea</td><td>Kiss Andrea</td><td>2017-02-09</td><td>2017-02-14</td><td>2</td><td>9</td></tr>",
                            "<tr><td>andrea</td><td>Kiss Andrea</td><td>2022-11-05</td><td>2022-11-12</td><td>4</td><td>8</td></tr>",
                            "<tr><td>andrea3</td><td>Szomor Andrea</td><td>0001-01-01</td><td>0001-01-01</td><td>2</td><td>NULL</td></tr>",
                            "<tr><td>andrea3</td><td>Szomor Andrea</td><td>2016-11-19</td><td>2016-11-21</td><td>3</td><td>2</td></tr>",
                            "<tr><td>andrea4</td><td>Neizer Andrea</td><td>2016-05-27</td><td>2016-05-29</td><td>1</td><td>NULL</td></tr>",
                            "<tr><td>andrea4</td><td>Neizer Andrea</td><td>2016-09-13</td><td>2016-09-17</td><td>2</td><td>1</td></tr>",
                            "<tr><td>andrea4</td><td>Neizer Andrea</td><td>2016-10-30</td><td>2016-11-06</td><td>3</td><td>3</td></tr>",
                            "<tr><td>andrea4</td><td>Neizer Andrea</td><td>2017-01-22</td><td>2017-01-29</td><td>2</td><td>6</td></tr>",
                            "<tr><td>ANDREAT</td><td>Tornyos Andrea</td><td>2016-07-27</td><td>2016-08-01</td><td>2</td><td>NULL</td></tr>",
                            "<tr><td>ANDREAT</td><td>Tornyos Andrea</td><td>2016-09-15</td><td>2016-09-16</td><td>2</td><td>2</td></tr>",
                            "<tr><td>ANDREAT</td><td>Tornyos Andrea</td><td>2016-10-08</td><td>2016-10-12</td><td>3</td><td>4</td></tr>",
                            "<tr><td>anett3</td><td>Pivarcsi Anett</td><td>2016-04-10</td><td>2016-04-17</td><td>1</td><td>NULL</td></tr>",
                            "<tr><td>anett3</td><td>Pivarcsi Anett</td><td>2016-04-13</td><td>2016-04-19</td><td>3</td><td>1</td></tr>",
                            "<tr><td>anett3</td><td>Pivarcsi Anett</td><td>2016-04-15</td><td>2016-04-19</td><td>3</td><td>4</td></tr>",
                            "<tr><td>anett3</td><td>Pivarcsi Anett</td><td>2016-04-28</td><td>2016-05-02</td><td>3</td><td>7</td></tr>",
                            "<tr><td>anett3</td><td>Pivarcsi Anett</td><td>2016-08-15</td><td>2016-08-16</td><td>2</td><td>9</td></tr>",
                            "<tr><td>anett3</td><td>Pivarcsi Anett</td><td>2016-08-17</td><td>2016-08-23</td><td>3</td><td>8</td></tr>",
                            "<tr><td>anett3</td><td>Pivarcsi Anett</td><td>2016-10-12</td><td>2016-10-19</td><td>3</td><td>8</td></tr>",
                            "<tr><td>anett3</td><td>Pivarcsi Anett</td><td>2016-10-16</td><td>2016-10-21</td><td>1</td><td>8</td></tr>",
                            "<tr><td>aniko</td><td>Tóth Anikó</td><td>2016-06-25</td><td>2016-06-30</td><td>3</td><td>NULL</td></tr>",
                            "<tr><td>aniko</td><td>Tóth Anikó</td><td>2017-02-12</td><td>2017-02-14</td><td>3</td><td>3</td></tr>",
                            "<tr><td>aniko</td><td>Tóth Anikó</td><td>2017-02-23</td><td>2017-02-24</td><td>2</td><td>6</td></tr>",
                            "<tr><td>aniko4</td><td>Böröcz Anikó</td><td>2016-07-02</td><td>2016-07-09</td><td>1</td><td>NULL</td></tr>",
                            "<tr><td>aniko4</td><td>Böröcz Anikó</td><td>2016-07-22</td><td>2016-07-25</td><td>3</td><td>1</td></tr>",
                            "<tr><td>aniko4</td><td>Böröcz Anikó</td><td>2016-09-05</td><td>2016-09-07</td><td>4</td><td>4</td></tr>",
                            "<tr><td>aniko4</td><td>Böröcz Anikó</td><td>2016-10-16</td><td>2016-10-18</td><td>3</td><td>8</td></tr>",
                            "<tr><td>ANIKOS</td><td>Simon Anikó</td><td>2016-04-19</td><td>2016-04-24</td><td>2</td><td>NULL</td></tr>",
                            "<tr><td>ANIKOS</td><td>Simon Anikó</td><td>2016-05-24</td><td>2016-05-25</td><td>3</td><td>2</td></tr>",
                            "<tr><td>ANIKOS</td><td>Simon Anikó</td><td>2016-06-16</td><td>2016-06-23</td><td>1</td><td>5</td></tr>",
                            "<tr><td>ANIKOS</td><td>Simon Anikó</td><td>2016-06-27</td><td>2016-06-30</td><td>2</td><td>6</td></tr>",
                            "<tr><td>ANIKOS</td><td>Simon Anikó</td><td>2016-07-17</td><td>2016-07-22</td><td>3</td><td>6</td></tr>",
                            "<tr><td>ANIKOS</td><td>Simon Anikó</td><td>2016-08-26</td><td>2016-09-02</td><td>2</td><td>6</td></tr>",
                            "<tr><td>ANIKOS</td><td>Simon Anikó</td><td>2016-10-08</td><td>2016-10-14</td><td>2</td><td>7</td></tr>",
                            "<tr><td>ANIKOS</td><td>Simon Anikó</td><td>2016-10-29</td><td>2016-11-05</td><td>3</td><td>7</td></tr>",
                            "<tr><td>ANIKOS</td><td>Simon Anikó</td><td>2016-11-10</td><td>2016-11-15</td><td>2</td><td>7</td></tr>",
                            "<tr><td>anita</td><td>Hamvay-Kovács Anita</td><td>2016-09-28</td><td>2016-10-02</td><td>4</td><td>NULL</td></tr>",
                            "<tr><td>anita</td><td>Hamvay-Kovács Anita</td><td>2016-10-01</td><td>2016-10-04</td><td>2</td><td>4</td></tr>",
                            "<tr><td>anita</td><td>Hamvay-Kovács Anita</td><td>2017-02-19</td><td>2017-02-22</td><td>2</td><td>6</td></tr>",
                            "<tr><td>anita</td><td>Hamvay-Kovács Anita</td><td>2017-02-20</td><td>2017-02-25</td><td>2</td><td>8</td></tr>",
                            "<tr><td>annamaria1</td><td>Szűcs Annamária</td><td>2016-06-06</td><td>2016-06-07</td><td>3</td><td>NULL</td></tr>",
                            "<tr><td>annamaria1</td><td>Szűcs Annamária</td><td>2017-01-30</td><td>2017-01-31</td><td>4</td><td>3</td></tr>",
                            "<tr><td>ANNAMARIAR</td><td>Regős Annamária</td><td>2016-06-08</td><td>2016-06-11</td><td>2</td><td>NULL</td></tr>",
                            "<tr><td>ANNAMARIAR</td><td>Regős Annamária</td><td>2016-07-18</td><td>2016-07-21</td><td>1</td><td>2</td></tr>",
                            "<tr><td>ANNAMARIAR</td><td>Regős Annamária</td><td>2016-09-23</td><td>2016-09-27</td><td>2</td><td>3</td></tr>",
                            "<tr><td>ANNAMARIAR</td><td>Regős Annamária</td><td>2016-11-11</td><td>2016-11-12</td><td>3</td><td>5</td></tr>",
                            "<tr><td>ANNAMARIAR</td><td>Regős Annamária</td><td>2017-01-10</td><td>2017-01-13</td><td>2</td><td>6</td></tr>",
                            "<tr><td>ANNAMARIAR</td><td>Regős Annamária</td><td>2017-02-16</td><td>2017-02-18</td><td>2</td><td>7</td></tr>",
                            "<tr><td>aron2</td><td>Jakab Áron</td><td>2016-04-11</td><td>2016-04-12</td><td>3</td><td>NULL</td></tr>",
                            "<tr><td>aron2</td><td>Jakab Áron</td><td>2016-07-04</td><td>2016-07-06</td><td>3</td><td>3</td></tr>",
                            "<tr><td>aron2</td><td>Jakab Áron</td><td>2016-10-23</td><td>2016-10-27</td><td>2</td><td>6</td></tr>",
                            "<tr><td>aron2</td><td>Jakab Áron</td><td>2016-11-05</td><td>2016-11-09</td><td>2</td><td>8</td></tr>",
                            "<tr><td>aron2</td><td>Jakab Áron</td><td>2017-01-17</td><td>2017-01-18</td><td>3</td><td>7</td></tr>",
                            "<tr><td>aron2</td><td>Jakab Áron</td><td>2017-02-26</td><td>2017-02-27</td><td>3</td><td>7</td></tr>",
                            "<tr><td>ARONK</td><td>Kelemen Áron</td><td>2016-04-06</td><td>2016-04-08</td><td>2</td><td>NULL</td></tr>",
                            "<tr><td>ARONK</td><td>Kelemen Áron</td><td>2016-05-14</td><td>2016-05-20</td><td>4</td><td>2</td></tr>",
                            "<tr><td>ARONK</td><td>Kelemen Áron</td><td>2016-06-04</td><td>2016-06-09</td><td>2</td><td>6</td></tr>",
                            "<tr><td>ARONK</td><td>Kelemen Áron</td><td>2016-06-07</td><td>2016-06-13</td><td>3</td><td>8</td></tr>",
                            "<tr><td>ARONK</td><td>Kelemen Áron</td><td>2016-07-03</td><td>2016-07-07</td><td>2</td><td>9</td></tr>",
                            "<tr><td>ARONK</td><td>Kelemen Áron</td><td>2016-08-05</td><td>2016-08-08</td><td>4</td><td>7</td></tr>",
                            "<tr><td>ARONK</td><td>Kelemen Áron</td><td>2016-09-08</td><td>2016-09-15</td><td>2</td><td>9</td></tr>",
                            "<tr><td>ARONK</td><td>Kelemen Áron</td><td>2016-11-03</td><td>2016-11-10</td><td>2</td><td>8</td></tr>",
                            "<tr><td>ARONK</td><td>Kelemen Áron</td><td>2016-11-05</td><td>2016-11-07</td><td>2</td><td>8</td></tr>",
                            "<tr><td>ARONK</td><td>Kelemen Áron</td><td>2016-12-07</td><td>2016-12-12</td><td>3</td><td>6</td></tr>",
                            "<tr><td>ARONK</td><td>Kelemen Áron</td><td>2017-01-01</td><td>2017-01-03</td><td>2</td><td>7</td></tr>",
                            "<tr><td>ARONK</td><td>Kelemen Áron</td><td>2017-01-30</td><td>2017-02-03</td><td>2</td><td>7</td></tr>",
                            "<tr><td>ARONK</td><td>Kelemen Áron</td><td>2017-02-21</td><td>2017-02-23</td><td>2</td><td>7</td></tr>",
                            "<tr><td>arpad2</td><td>Ötvös Árpád</td><td>2016-06-05</td><td>2016-06-07</td><td>2</td><td>NULL</td></tr>",
                            "<tr><td>arpad2</td><td>Ötvös Árpád</td><td>2016-08-23</td><td>2016-08-25</td><td>2</td><td>2</td></tr>",
                            "<tr><td>arpad2</td><td>Ötvös Árpád</td><td>2016-09-28</td><td>2016-09-30</td><td>2</td><td>4</td></tr>",
                            "<tr><td>arpad2</td><td>Ötvös Árpád</td><td>2016-10-13</td><td>2016-10-19</td><td>3</td><td>6</td></tr>",
                            "<tr><td>arpad2</td><td>Ötvös Árpád</td><td>2016-11-06</td><td>2016-11-10</td><td>2</td><td>7</td></tr>",
                            "<tr><td>arpad2</td><td>Ötvös Árpád</td><td>2016-12-24</td><td>2016-12-27</td><td>3</td><td>7</td></tr>",
                            "<tr><td>arpad2</td><td>Ötvös Árpád</td><td>2017-02-18</td><td>2017-02-19</td><td>4</td><td>8</td></tr>",
                            "<tr><td>ARPADH</td><td>Horváth Árpád</td><td>2016-06-06</td><td>2016-06-07</td><td>3</td><td>NULL</td></tr>",
                            "<tr><td>ARPADH</td><td>Horváth Árpád</td><td>2016-07-14</td><td>2016-07-18</td><td>2</td><td>3</td></tr>",
                            "<tr><td>ARPADH</td><td>Horváth Árpád</td><td>2016-09-16</td><td>2016-09-23</td><td>1</td><td>5</td></tr>",
                            "<tr><td>ARPADH</td><td>Horváth Árpád</td><td>2016-09-18</td><td>2016-09-25</td><td>1</td><td>6</td></tr>",
                            "<tr><td>ARPADH</td><td>Horváth Árpád</td><td>2016-12-04</td><td>2016-12-10</td><td>1</td><td>4</td></tr>",
                            "<tr><td>ARPADH</td><td>Horváth Árpád</td><td>2016-12-18</td><td>2016-12-19</td><td>3</td><td>3</td></tr>",
                            "<tr><td>ARPADH</td><td>Horváth Árpád</td><td>2017-02-16</td><td>2017-02-18</td><td>2</td><td>5</td></tr>",
                            "<tr><td>ARPADM</td><td>Móricz Árpád</td><td>2016-05-29</td><td>2016-06-01</td><td>2</td><td>NULL</td></tr>",
                            "<tr><td>ARPADM</td><td>Móricz Árpád</td><td>2016-08-12</td><td>2016-08-16</td><td>2</td><td>2</td></tr>",
                            "<tr><td>ARPADM</td><td>Móricz Árpád</td><td>2016-11-09</td><td>2016-11-11</td><td>2</td><td>4</td></tr>",
                            "<tr><td>ARPADM</td><td>Móricz Árpád</td><td>2016-12-14</td><td>2016-12-17</td><td>3</td><td>6</td></tr>",
                            "<tr><td>ARPADM</td><td>Móricz Árpád</td><td>2017-01-05</td><td>2017-01-10</td><td>1</td><td>7</td></tr>",
                            "<tr><td>ARPADM</td><td>Móricz Árpád</td><td>2017-02-12</td><td>2017-02-14</td><td>3</td><td>6</td></tr>",
                            "<tr><td>attila</td><td>Csóti Attila</td><td>2016-09-30</td><td>2016-10-07</td><td>3</td><td>NULL</td></tr>",
                            "<tr><td>attila</td><td>Csóti Attila</td><td>2016-10-15</td><td>2016-10-19</td><td>1</td><td>3</td></tr>",
                            "<tr><td>attila</td><td>Csóti Attila</td><td>2016-12-22</td><td>2016-12-26</td><td>2</td><td>4</td></tr>",
                            "<tr><td>attila1</td><td>Gulyás Attila</td><td>2016-05-20</td><td>2016-05-26</td><td>1</td><td>NULL</td></tr>",
                            "<tr><td>attila1</td><td>Gulyás Attila</td><td>2016-10-09</td><td>2016-10-12</td><td>2</td><td>1</td></tr>",
                            "<tr><td>attila1</td><td>Gulyás Attila</td><td>2016-10-15</td><td>2016-10-16</td><td>3</td><td>3</td></tr>",
                            "<tr><td>attila1</td><td>Gulyás Attila</td><td>2016-10-30</td><td>2016-11-05</td><td>2</td><td>6</td></tr>",
                            "<tr><td>attila1</td><td>Gulyás Attila</td><td>2016-11-10</td><td>2016-11-14</td><td>2</td><td>7</td></tr>",
                            "<tr><td>attila1</td><td>Gulyás Attila</td><td>2017-01-23</td><td>2017-01-30</td><td>4</td><td>7</td></tr>",
                            "<tr><td>attila4</td><td>Baróti Attila</td><td>2016-08-18</td><td>2016-08-23</td><td>4</td><td>NULL</td></tr>",
                            "<tr><td>attila4</td><td>Baróti Attila</td><td>2016-12-31</td><td>2017-01-01</td><td>2</td><td>4</td></tr>",
                            "<tr><td>attila4</td><td>Baróti Attila</td><td>2017-02-15</td><td>2017-02-22</td><td>2</td><td>6</td></tr>",
                            "<tr><td>ATTILAO</td><td>Opra Attila</td><td>2016-05-21</td><td>2016-05-26</td><td>3</td><td>NULL</td></tr>",
                            "<tr><td>ATTILAO</td><td>Opra Attila</td><td>2016-06-04</td><td>2016-06-11</td><td>3</td><td>3</td></tr>",
                            "<tr><td>ATTILAO</td><td>Opra Attila</td><td>2016-10-30</td><td>2016-11-03</td><td>2</td><td>6</td></tr>",
                            "<tr><td>ATTILAO</td><td>Opra Attila</td><td>2017-02-22</td><td>2017-02-25</td><td>3</td><td>8</td></tr>",
                            "<tr><td>balazs1</td><td>Bozsik Balázs</td><td>2016-05-07</td><td>2016-05-14</td><td>2</td><td>NULL</td></tr>",
                            "<tr><td>balazs1</td><td>Bozsik Balázs</td><td>2016-07-22</td><td>2016-07-26</td><td>4</td><td>2</td></tr>",
                            "<tr><td>balazs1</td><td>Bozsik Balázs</td><td>2016-12-26</td><td>2016-12-28</td><td>3</td><td>6</td></tr>",
                            "<tr><td>balazs1</td><td>Bozsik Balázs</td><td>2017-01-01</td><td>2017-01-05</td><td>2</td><td>9</td></tr>",
                            "<tr><td>balazs1</td><td>Bozsik Balázs</td><td>2017-02-10</td><td>2017-02-14</td><td>3</td><td>9</td></tr>",
                            "<tr><td>balazs1</td><td>Bozsik Balázs</td><td>2017-02-12</td><td>2017-02-14</td><td>2</td><td>8</td></tr>",
                            "<tr><td>balazs2</td><td>Szűcs Balázs</td><td>2016-04-16</td><td>2016-04-19</td><td>2</td><td>NULL</td></tr>",
                            "<tr><td>balazs2</td><td>Szűcs Balázs</td><td>2016-05-22</td><td>2016-05-29</td><td>3</td><td>2</td></tr>",
                            "<tr><td>balazs2</td><td>Szűcs Balázs</td><td>2016-05-28</td><td>2016-06-01</td><td>3</td><td>5</td></tr>",
                            "<tr><td>balazs2</td><td>Szűcs Balázs</td><td>2016-07-08</td><td>2016-07-12</td><td>3</td><td>8</td></tr>",
                            "<tr><td>balazs2</td><td>Szűcs Balázs</td><td>2016-07-10</td><td>2016-07-17</td><td>3</td><td>9</td></tr>",
                            "<tr><td>balazs2</td><td>Szűcs Balázs</td><td>2016-07-20</td><td>2016-07-25</td><td>2</td><td>9</td></tr>",
                            "<tr><td>balazs2</td><td>Szűcs Balázs</td><td>2016-08-21</td><td>2016-08-22</td><td>3</td><td>8</td></tr>",
                            "<tr><td>balazs2</td><td>Szűcs Balázs</td><td>2016-09-12</td><td>2016-09-14</td><td>3</td><td>8</td></tr>",
                            "<tr><td>balazs2</td><td>Szűcs Balázs</td><td>2016-11-03</td><td>2016-11-05</td><td>3</td><td>8</td></tr>",
                            "<tr><td>balazs2</td><td>Szűcs Balázs</td><td>2017-02-27</td><td>2017-03-06</td><td>1</td><td>9</td></tr>",
                            "<tr><td>balazs3</td><td>Bakódy Balázs</td><td>0001-01-01</td><td>0001-01-01</td><td>2</td><td>NULL</td></tr>",
                            "<tr><td>balazs3</td><td>Bakódy Balázs</td><td>2016-07-17</td><td>2016-07-21</td><td>2</td><td>2</td></tr>",
                            "<tr><td>balazs3</td><td>Bakódy Balázs</td><td>2016-07-27</td><td>2016-07-31</td><td>4</td><td>4</td></tr>",
                            "<tr><td>balazs3</td><td>Bakódy Balázs</td><td>2016-08-24</td><td>2016-08-28</td><td>3</td><td>8</td></tr>",
                            "<tr><td>balazs3</td><td>Bakódy Balázs</td><td>2016-09-15</td><td>2016-09-16</td><td>3</td><td>9</td></tr>",
                            "<tr><td>balazs3</td><td>Bakódy Balázs</td><td>2016-12-05</td><td>2016-12-11</td><td>3</td><td>10</td></tr>",
                            "<tr><td>balazs3</td><td>Bakódy Balázs</td><td>2017-01-20</td><td>2017-01-22</td><td>2</td><td>9</td></tr>",
                            "<tr><td>balint</td><td>Horváth Bálint</td><td>2016-04-22</td><td>2016-04-29</td><td>2</td><td>NULL</td></tr>",
                            "<tr><td>balint</td><td>Horváth Bálint</td><td>2016-10-09</td><td>2016-10-11</td><td>2</td><td>2</td></tr>",
                            "<tr><td>balint</td><td>Horváth Bálint</td><td>2016-11-24</td><td>2016-11-29</td><td>3</td><td>4</td></tr>",
                            "<tr><td>balint1</td><td>Molnár Bálint</td><td>2016-06-07</td><td>2016-06-11</td><td>3</td><td>NULL</td></tr>",
                            "<tr><td>balint1</td><td>Molnár Bálint</td><td>2016-06-07</td><td>2016-06-12</td><td>3</td><td>3</td></tr>",
                            "<tr><td>balint1</td><td>Molnár Bálint</td><td>2016-06-10</td><td>2016-06-12</td><td>1</td><td>6</td></tr>",
                            "<tr><td>balint1</td><td>Molnár Bálint</td><td>2016-07-26</td><td>2016-07-28</td><td>2</td><td>7</td></tr>",
                            "<tr><td>balint1</td><td>Molnár Bálint</td><td>2016-08-03</td><td>2016-08-08</td><td>2</td><td>6</td></tr>",
                            "<tr><td>balint1</td><td>Molnár Bálint</td><td>2016-09-16</td><td>2016-09-21</td><td>1</td><td>5</td></tr>",
                            "<tr><td>balint1</td><td>Molnár Bálint</td><td>2016-11-07</td><td>2016-11-10</td><td>2</td><td>5</td></tr>",
                            "<tr><td>balint1</td><td>Molnár Bálint</td><td>2016-12-17</td><td>2016-12-22</td><td>3</td><td>5</td></tr>",
                            "<tr><td>balint1</td><td>Molnár Bálint</td><td>2016-12-29</td><td>2016-12-31</td><td>3</td><td>6</td></tr>",
                            "<tr><td>balint1</td><td>Molnár Bálint</td><td>2017-01-03</td><td>2017-01-08</td><td>2</td><td>8</td></tr>",
                            "<tr><td>balint2</td><td>Vukasinovity Bálint</td><td>2016-07-21</td><td>2016-07-26</td><td>1</td><td>NULL</td></tr>",
                            "<tr><td>balint2</td><td>Vukasinovity Bálint</td><td>2016-12-04</td><td>2016-12-06</td><td>3</td><td>1</td></tr>",
                            "<tr><td>balu</td><td>Endresz Bálint</td><td>2016-08-06</td><td>2016-08-10</td><td>2</td><td>NULL</td></tr>",
                            "<tr><td>balu</td><td>Endresz Bálint</td><td>2016-12-22</td><td>2016-12-23</td><td>2</td><td>2</td></tr>",
                            "<tr><td>beata4</td><td>Bagi Beáta</td><td>2016-04-20</td><td>2016-04-21</td><td>2</td><td>NULL</td></tr>",
                            "<tr><td>beata4</td><td>Bagi Beáta</td><td>2016-06-03</td><td>2016-06-04</td><td>2</td><td>2</td></tr>",
                            "<tr><td>beata4</td><td>Bagi Beáta</td><td>2016-07-03</td><td>2016-07-06</td><td>1</td><td>4</td></tr>",
                            "<tr><td>beata4</td><td>Bagi Beáta</td><td>2016-08-25</td><td>2016-08-27</td><td>3</td><td>5</td></tr>",
                            "<tr><td>beata4</td><td>Bagi Beáta</td><td>2016-10-01</td><td>2016-10-05</td><td>1</td><td>6</td></tr>",
                            "<tr><td>beata4</td><td>Bagi Beáta</td><td>2016-10-03</td><td>2016-10-06</td><td>3</td><td>5</td></tr>",
                            "<tr><td>BEATRIXK</td><td>Kerényi Beatrix</td><td>2016-06-10</td><td>2016-06-11</td><td>2</td><td>NULL</td></tr>",
                            "<tr><td>BEATRIXK</td><td>Kerényi Beatrix</td><td>2016-06-10</td><td>2016-06-14</td><td>2</td><td>2</td></tr>",
                            "<tr><td>BEATRIXK</td><td>Kerényi Beatrix</td><td>2016-06-19</td><td>2016-06-21</td><td>3</td><td>4</td></tr>",
                            "<tr><td>BEATRIXK</td><td>Kerényi Beatrix</td><td>2016-08-12</td><td>2016-08-18</td><td>4</td><td>7</td></tr>",
                            "<tr><td>BEATRIXK</td><td>Kerényi Beatrix</td><td>2016-10-23</td><td>2016-10-28</td><td>2</td><td>9</td></tr>",
                            "<tr><td>BEATRIXK</td><td>Kerényi Beatrix</td><td>2016-11-14</td><td>2016-11-19</td><td>2</td><td>9</td></tr>",
                            "<tr><td>BEATRIXK</td><td>Kerényi Beatrix</td><td>2016-12-12</td><td>2016-12-14</td><td>3</td><td>8</td></tr>",
                            "<tr><td>BEATRIXK</td><td>Kerényi Beatrix</td><td>2016-12-17</td><td>2016-12-22</td><td>4</td><td>7</td></tr>",
                            "<tr><td>BEATRIXK</td><td>Kerényi Beatrix</td><td>2017-02-08</td><td>2017-02-09</td><td>3</td><td>9</td></tr>",
                            "<tr><td>BEATRIXS</td><td>Szekendi Beatrix</td><td>2016-04-18</td><td>2016-04-24</td><td>1</td><td>NULL</td></tr>",
                            "<tr><td>BEATRIXS</td><td>Szekendi Beatrix</td><td>2016-06-11</td><td>2016-06-14</td><td>3</td><td>1</td></tr>",
                            "<tr><td>BEATRIXS</td><td>Szekendi Beatrix</td><td>2016-10-01</td><td>2016-10-03</td><td>3</td><td>4</td></tr>",
                            "<tr><td>BEATRIXS</td><td>Szekendi Beatrix</td><td>2016-10-01</td><td>2016-10-05</td><td>3</td><td>7</td></tr>",
                            "<tr><td>BEATRIXS</td><td>Szekendi Beatrix</td><td>2016-12-21</td><td>2016-12-27</td><td>2</td><td>9</td></tr>",
                            "<tr><td>BEATRIXS</td><td>Szekendi Beatrix</td><td>2017-02-03</td><td>2017-02-04</td><td>2</td><td>8</td></tr>",
                            "<tr><td>BELAF</td><td>Farkas Béla</td><td>2016-07-27</td><td>2016-07-30</td><td>3</td><td>NULL</td></tr>",
                            "<tr><td>BELAF</td><td>Farkas Béla</td><td>2016-07-29</td><td>2016-07-31</td><td>2</td><td>3</td></tr>",
                            "<tr><td>BELAF</td><td>Farkas Béla</td><td>2016-08-29</td><td>2016-08-31</td><td>2</td><td>5</td></tr>",
                            "<tr><td>BELAF</td><td>Farkas Béla</td><td>2016-11-03</td><td>2016-11-09</td><td>4</td><td>7</td></tr>",
                            "<tr><td>BELAF</td><td>Farkas Béla</td><td>2016-12-02</td><td>2016-12-04</td><td>3</td><td>8</td></tr>",
                            "<tr><td>BELAF</td><td>Farkas Béla</td><td>2016-12-06</td><td>2016-12-09</td><td>1</td><td>9</td></tr>",
                            "<tr><td>bence</td><td>Győrffy Bence</td><td>2016-05-08</td><td>2016-05-11</td><td>2</td><td>NULL</td></tr>",
                            "<tr><td>bence</td><td>Győrffy Bence</td><td>2016-05-29</td><td>2016-06-03</td><td>1</td><td>2</td></tr>",
                            "<tr><td>bence</td><td>Győrffy Bence</td><td>2016-07-24</td><td>2016-07-30</td><td>2</td><td>3</td></tr>",
                            "<tr><td>bence</td><td>Győrffy Bence</td><td>2016-07-25</td><td>2016-08-01</td><td>3</td><td>5</td></tr>",
                            "<tr><td>bence</td><td>Győrffy Bence</td><td>2016-09-03</td><td>2016-09-06</td><td>3</td><td>6</td></tr>",
                            "<tr><td>bence</td><td>Győrffy Bence</td><td>2016-10-30</td><td>2016-11-02</td><td>4</td><td>8</td></tr>",
                            "<tr><td>bence</td><td>Győrffy Bence</td><td>2016-12-17</td><td>2016-12-18</td><td>2</td><td>10</td></tr>",
                            "<tr><td>bence</td><td>Győrffy Bence</td><td>2016-12-26</td><td>2016-12-27</td><td>2</td><td>9</td></tr>",
                            "<tr><td>bence</td><td>Győrffy Bence</td><td>2017-02-05</td><td>2017-02-09</td><td>3</td><td>8</td></tr>",
                            "<tr><td>BENCEB</td><td>Bajusz Bence</td><td>2016-05-14</td><td>2016-05-17</td><td>3</td><td>NULL</td></tr>",
                            "<tr><td>BENCEB</td><td>Bajusz Bence</td><td>2016-06-03</td><td>2016-06-09</td><td>2</td><td>3</td></tr>",
                            "<tr><td>BENCEB</td><td>Bajusz Bence</td><td>2016-08-01</td><td>2016-08-02</td><td>2</td><td>5</td></tr>",
                            "<tr><td>BENCEB</td><td>Bajusz Bence</td><td>2016-10-22</td><td>2016-10-29</td><td>3</td><td>7</td></tr>",
                            "<tr><td>BENCEB</td><td>Bajusz Bence</td><td>2016-11-28</td><td>2016-12-02</td><td>2</td><td>7</td></tr>",
                            "<tr><td>BENCEB</td><td>Bajusz Bence</td><td>2017-02-12</td><td>2017-02-19</td><td>3</td><td>7</td></tr>",
                            "<tr><td>bernadett1</td><td>Simon Bernadett</td><td>2016-06-12</td><td>2016-06-17</td><td>3</td><td>NULL</td></tr>",
                            "<tr><td>bernadett1</td><td>Simon Bernadett</td><td>2016-10-08</td><td>2016-10-09</td><td>4</td><td>3</td></tr>",
                            "<tr><td>bernadett1</td><td>Simon Bernadett</td><td>2016-10-15</td><td>2016-10-22</td><td>3</td><td>7</td></tr>",
                            "<tr><td>bernadett1</td><td>Simon Bernadett</td><td>2016-10-26</td><td>2016-11-02</td><td>3</td><td>10</td></tr>",
                            "<tr><td>bernadett1</td><td>Simon Bernadett</td><td>2016-10-28</td><td>2016-11-01</td><td>3</td><td>10</td></tr>",
                            "<tr><td>bernadett1</td><td>Simon Bernadett</td><td>2017-02-14</td><td>2017-02-15</td><td>3</td><td>9</td></tr>",
                            "<tr><td>bernadett1</td><td>Simon Bernadett</td><td>2017-02-24</td><td>2017-03-03</td><td>1</td><td>9</td></tr>",
                            "<tr><td>bernadett2</td><td>Kovács Bernadett</td><td>2016-05-01</td><td>2016-05-03</td><td>2</td><td>NULL</td></tr>",
                            "<tr><td>bernadett2</td><td>Kovács Bernadett</td><td>2016-06-17</td><td>2016-06-23</td><td>3</td><td>2</td></tr>",
                            "<tr><td>bernadett2</td><td>Kovács Bernadett</td><td>2016-08-23</td><td>2016-08-29</td><td>2</td><td>5</td></tr>",
                            "<tr><td>bernadett2</td><td>Kovács Bernadett</td><td>2016-08-25</td><td>2016-08-27</td><td>3</td><td>7</td></tr>",
                            "<tr><td>bernadett2</td><td>Kovács Bernadett</td><td>2016-09-07</td><td>2016-09-13</td><td>3</td><td>8</td></tr>",
                            "<tr><td>bernadett2</td><td>Kovács Bernadett</td><td>2016-10-30</td><td>2016-11-06</td><td>3</td><td>8</td></tr>",
                            "<tr><td>bernadett2</td><td>Kovács Bernadett</td><td>2016-12-17</td><td>2016-12-20</td><td>1</td><td>9</td></tr>",
                            "<tr><td>bernadett2</td><td>Kovács Bernadett</td><td>2017-01-24</td><td>2017-01-30</td><td>3</td><td>7</td></tr>",
                            "<tr><td>BERNADETTO</td><td>Orbán Bernadett</td><td>2016-04-10</td><td>2016-04-17</td><td>2</td><td>NULL</td></tr>",
                            "<tr><td>BERNADETTO</td><td>Orbán Bernadett</td><td>2016-04-17</td><td>2016-04-19</td><td>2</td><td>2</td></tr>",
                            "<tr><td>BERNADETTO</td><td>Orbán Bernadett</td><td>2016-06-07</td><td>2016-06-13</td><td>3</td><td>4</td></tr>",
                            "<tr><td>BERNADETTO</td><td>Orbán Bernadett</td><td>2016-06-10</td><td>2016-06-16</td><td>4</td><td>7</td></tr>",
                            "<tr><td>BERNADETTO</td><td>Orbán Bernadett</td><td>2016-10-04</td><td>2016-10-05</td><td>2</td><td>9</td></tr>",
                            "<tr><td>BERNADETTO</td><td>Orbán Bernadett</td><td>2017-01-01</td><td>2017-01-02</td><td>3</td><td>9</td></tr>",
                            "<tr><td>BERNADETTO</td><td>Orbán Bernadett</td><td>2017-01-28</td><td>2017-02-03</td><td>2</td><td>9</td></tr>",
                            "<tr><td>bertalan</td><td>Csiger Bertalan</td><td>2016-05-18</td><td>2016-05-23</td><td>2</td><td>NULL</td></tr>",
                            "<tr><td>bertalan</td><td>Csiger Bertalan</td><td>2016-06-20</td><td>2016-06-21</td><td>1</td><td>2</td></tr>",
                            "<tr><td>bertalan</td><td>Csiger Bertalan</td><td>2016-11-03</td><td>2016-11-10</td><td>2</td><td>3</td></tr>",
                            "<tr><td>bertalan</td><td>Csiger Bertalan</td><td>2016-11-26</td><td>2016-11-29</td><td>3</td><td>5</td></tr>",
                            "<tr><td>bertalan</td><td>Csiger Bertalan</td><td>2017-02-16</td><td>2017-02-22</td><td>2</td><td>6</td></tr>",
                            "<tr><td>bertalan</td><td>Csiger Bertalan</td><td>2017-02-20</td><td>2017-02-24</td><td>4</td><td>7</td></tr>",
                            "<tr><td>brigitta</td><td>Székely Brigitta</td><td>2016-05-30</td><td>2016-06-06</td><td>3</td><td>NULL</td></tr>",
                            "<tr><td>brigitta</td><td>Székely Brigitta</td><td>2016-08-28</td><td>2016-09-01</td><td>3</td><td>3</td></tr>",
                            "<tr><td>brigitta</td><td>Székely Brigitta</td><td>2016-10-21</td><td>2016-10-28</td><td>3</td><td>6</td></tr>",
                            "<tr><td>brigitta</td><td>Székely Brigitta</td><td>2016-12-17</td><td>2016-12-22</td><td>2</td><td>9</td></tr>",
                            "<tr><td>brigitta</td><td>Székely Brigitta</td><td>2017-01-23</td><td>2017-01-25</td><td>1</td><td>8</td></tr>",
                            "<tr><td>brigitta3</td><td>Pataki Brigitta</td><td>2016-06-01</td><td>2016-06-05</td><td>2</td><td>NULL</td></tr>",
                            "<tr><td>brigitta3</td><td>Pataki Brigitta</td><td>2016-06-13</td><td>2016-06-17</td><td>3</td><td>2</td></tr>",
                            "<tr><td>brigitta3</td><td>Pataki Brigitta</td><td>2016-10-10</td><td>2016-10-14</td><td>2</td><td>5</td></tr>",
                            "<tr><td>brigitta3</td><td>Pataki Brigitta</td><td>2016-11-03</td><td>2016-11-09</td><td>3</td><td>7</td></tr>",
                            "<tr><td>brigitta3</td><td>Pataki Brigitta</td><td>2017-02-09</td><td>2017-02-16</td><td>2</td><td>8</td></tr>",
                            "<tr><td>csongor3</td><td>Nagymihály Csongor</td><td>2016-05-01</td><td>2016-05-04</td><td>2</td><td>NULL</td></tr>",
                            "<tr><td>csongor3</td><td>Nagymihály Csongor</td><td>2016-05-08</td><td>2016-05-15</td><td>3</td><td>2</td></tr>",
                            "<tr><td>csongor3</td><td>Nagymihály Csongor</td><td>2016-06-04</td><td>2016-06-05</td><td>2</td><td>5</td></tr>",
                            "<tr><td>csongor3</td><td>Nagymihály Csongor</td><td>2016-06-10</td><td>2016-06-17</td><td>3</td><td>7</td></tr>",
                            "<tr><td>csongor3</td><td>Nagymihály Csongor</td><td>2016-06-11</td><td>2016-06-14</td><td>2</td><td>8</td></tr>",
                            "<tr><td>csongor3</td><td>Nagymihály Csongor</td><td>2016-07-09</td><td>2016-07-10</td><td>4</td><td>7</td></tr>",
                            "<tr><td>csongor3</td><td>Nagymihály Csongor</td><td>2016-11-12</td><td>2016-11-17</td><td>3</td><td>9</td></tr>",
                            "<tr><td>csongor3</td><td>Nagymihály Csongor</td><td>2017-02-13</td><td>2017-02-19</td><td>3</td><td>9</td></tr>",
                            "<tr><td>dani</td><td>Vörös Dániel</td><td>2016-06-06</td><td>2016-06-10</td><td>3</td><td>NULL</td></tr>",
                            "<tr><td>dani</td><td>Vörös Dániel</td><td>2016-07-11</td><td>2016-07-12</td><td>3</td><td>3</td></tr>",
                            "<tr><td>dani</td><td>Vörös Dániel</td><td>2016-08-06</td><td>2016-08-09</td><td>2</td><td>6</td></tr>",
                            "<tr><td>dani</td><td>Vörös Dániel</td><td>2016-09-19</td><td>2016-09-25</td><td>4</td><td>8</td></tr>",
                            "<tr><td>dani</td><td>Vörös Dániel</td><td>2016-10-01</td><td>2016-10-02</td><td>1</td><td>9</td></tr>",
                            "<tr><td>dani</td><td>Vörös Dániel</td><td>2016-11-22</td><td>2016-11-24</td><td>2</td><td>7</td></tr>",
                            "<tr><td>dani</td><td>Vörös Dániel</td><td>2017-01-17</td><td>2017-01-23</td><td>2</td><td>7</td></tr>",
                            "<tr><td>dani</td><td>Vörös Dániel</td><td>2017-01-22</td><td>2017-01-29</td><td>1</td><td>5</td></tr>",
                            "<tr><td>dani</td><td>Vörös Dániel</td><td>2017-02-25</td><td>2017-03-01</td><td>3</td><td>5</td></tr>",
                            "<tr><td>daniel</td><td>Rácz Dániel</td><td>2016-04-10</td><td>2016-04-11</td><td>4</td><td>NULL</td></tr>",
                            "<tr><td>daniel</td><td>Rácz Dániel</td><td>2016-04-22</td><td>2016-04-25</td><td>2</td><td>4</td></tr>",
                            "<tr><td>daniel</td><td>Rácz Dániel</td><td>2016-05-09</td><td>2016-05-13</td><td>3</td><td>6</td></tr>",
                            "<tr><td>daniel</td><td>Rácz Dániel</td><td>2016-09-08</td><td>2016-09-10</td><td>4</td><td>9</td></tr>",
                            "<tr><td>daniel</td><td>Rácz Dániel</td><td>2016-11-13</td><td>2016-11-19</td><td>3</td><td>9</td></tr>",
                            "<tr><td>daniel</td><td>Rácz Dániel</td><td>2016-12-25</td><td>2016-12-26</td><td>3</td><td>10</td></tr>",
                            "<tr><td>daniel</td><td>Rácz Dániel</td><td>2017-01-09</td><td>2017-01-11</td><td>1</td><td>10</td></tr>",
                            "<tr><td>daniel</td><td>Rácz Dániel</td><td>2017-02-12</td><td>2017-02-13</td><td>3</td><td>7</td></tr>",
                            "<tr><td>daniel</td><td>Rácz Dániel</td><td>2017-02-20</td><td>2017-02-23</td><td>3</td><td>7</td></tr>",
                            "<tr><td>daniel1</td><td>Keszler Dániel</td><td>2016-04-10</td><td>2016-04-15</td><td>2</td><td>NULL</td></tr>",
                            "<tr><td>daniel1</td><td>Keszler Dániel</td><td>2016-05-10</td><td>2016-05-13</td><td>4</td><td>2</td></tr>",
                            "<tr><td>daniel1</td><td>Keszler Dániel</td><td>2016-05-26</td><td>2016-05-27</td><td>3</td><td>6</td></tr>",
                            "<tr><td>daniel1</td><td>Keszler Dániel</td><td>2016-11-09</td><td>2016-11-11</td><td>2</td><td>9</td></tr>",
                            "<tr><td>daniel1</td><td>Keszler Dániel</td><td>2016-11-23</td><td>2016-11-25</td><td>2</td><td>9</td></tr>",
                            "<tr><td>daniel1</td><td>Keszler Dániel</td><td>2017-01-05</td><td>2017-01-08</td><td>3</td><td>7</td></tr>",
                            "<tr><td>daniel1</td><td>Keszler Dániel</td><td>2017-03-01</td><td>2017-03-06</td><td>4</td><td>7</td></tr>",
                            "<tr><td>david</td><td>Ambrus Dávid</td><td>2016-05-18</td><td>2016-05-25</td><td>2</td><td>NULL</td></tr>",
                            "<tr><td>david</td><td>Ambrus Dávid</td><td>2016-06-09</td><td>2016-06-10</td><td>2</td><td>2</td></tr>",
                            "<tr><td>david</td><td>Ambrus Dávid</td><td>2016-06-30</td><td>2016-07-07</td><td>2</td><td>4</td></tr>",
                            "<tr><td>david</td><td>Ambrus Dávid</td><td>2016-07-18</td><td>2016-07-21</td><td>2</td><td>6</td></tr>",
                            "<tr><td>david</td><td>Ambrus Dávid</td><td>2016-08-05</td><td>2016-08-12</td><td>1</td><td>6</td></tr>",
                            "<tr><td>david</td><td>Ambrus Dávid</td><td>2016-08-20</td><td>2016-08-25</td><td>3</td><td>5</td></tr>",
                            "<tr><td>david</td><td>Ambrus Dávid</td><td>2016-08-22</td><td>2016-08-24</td><td>3</td><td>6</td></tr>",
                            "<tr><td>david</td><td>Ambrus Dávid</td><td>2016-10-30</td><td>2016-11-04</td><td>2</td><td>7</td></tr>",
                            "<tr><td>david</td><td>Ambrus Dávid</td><td>2017-01-18</td><td>2017-01-19</td><td>2</td><td>8</td></tr>",
                            "<tr><td>david1</td><td>Sobják Dávid</td><td>2016-09-20</td><td>2016-09-21</td><td>2</td><td>NULL</td></tr>",
                            "<tr><td>david1</td><td>Sobják Dávid</td><td>2016-10-01</td><td>2016-10-02</td><td>2</td><td>2</td></tr>",
                            "<tr><td>david1</td><td>Sobják Dávid</td><td>2016-11-19</td><td>2016-11-22</td><td>2</td><td>4</td></tr>",
                            "<tr><td>david1</td><td>Sobják Dávid</td><td>2016-12-30</td><td>2017-01-06</td><td>2</td><td>6</td></tr>",
                            "<tr><td>david1</td><td>Sobják Dávid</td><td>2017-02-17</td><td>2017-02-20</td><td>3</td><td>6</td></tr>",
                            "<tr><td>david1</td><td>Sobják Dávid</td><td>2017-02-25</td><td>2017-02-27</td><td>4</td><td>7</td></tr>",
                            "<tr><td>david4</td><td>Berta Dávid</td><td>2017-02-16</td><td>2017-02-19</td><td>3</td><td>NULL</td></tr>",
                            "<tr><td>debora</td><td>Barna Debóra</td><td>2016-06-22</td><td>2016-06-24</td><td>5</td><td>NULL</td></tr>",
                            "<tr><td>debora</td><td>Barna Debóra</td><td>2016-10-29</td><td>2016-11-03</td><td>2</td><td>5</td></tr>",
                            "<tr><td>debora</td><td>Barna Debóra</td><td>2017-01-23</td><td>2017-01-28</td><td>3</td><td>7</td></tr>",
                            "<tr><td>debora</td><td>Barna Debóra</td><td>2017-02-04</td><td>2017-02-06</td><td>3</td><td>10</td></tr>",
                            "<tr><td>denes</td><td>Tömböly Dénes</td><td>2016-05-27</td><td>2016-05-31</td><td>3</td><td>NULL</td></tr>",
                            "<tr><td>denes</td><td>Tömböly Dénes</td><td>2016-07-19</td><td>2016-07-23</td><td>2</td><td>3</td></tr>",
                            "<tr><td>denes</td><td>Tömböly Dénes</td><td>2016-08-01</td><td>2016-08-08</td><td>3</td><td>5</td></tr>",
                            "<tr><td>denes</td><td>Tömböly Dénes</td><td>2016-08-16</td><td>2016-08-23</td><td>2</td><td>8</td></tr>",
                            "<tr><td>denes</td><td>Tömböly Dénes</td><td>2016-08-20</td><td>2016-08-27</td><td>3</td><td>7</td></tr>",
                            "<tr><td>denes</td><td>Tömböly Dénes</td><td>2016-11-06</td><td>2016-11-10</td><td>2</td><td>8</td></tr>",
                            "<tr><td>dora3</td><td>Sarodi Dóra</td><td>2016-08-16</td><td>2016-08-19</td><td>4</td><td>NULL</td></tr>",
                            "<tr><td>dora3</td><td>Sarodi Dóra</td><td>2016-08-25</td><td>2016-08-29</td><td>3</td><td>4</td></tr>",
                            "<tr><td>dora3</td><td>Sarodi Dóra</td><td>2016-10-09</td><td>2016-10-12</td><td>3</td><td>7</td></tr>",
                            "<tr><td>dora3</td><td>Sarodi Dóra</td><td>2016-10-29</td><td>2016-11-02</td><td>3</td><td>10</td></tr>",
                            "<tr><td>dora3</td><td>Sarodi Dóra</td><td>2016-11-22</td><td>2016-11-29</td><td>3</td><td>9</td></tr>",
                            "<tr><td>edit</td><td>Bittmann Edit</td><td>2016-07-14</td><td>2016-07-17</td><td>3</td><td>NULL</td></tr>",
                            "<tr><td>edit</td><td>Bittmann Edit</td><td>2016-08-03</td><td>2016-08-09</td><td>4</td><td>3</td></tr>",
                            "<tr><td>edit</td><td>Bittmann Edit</td><td>2016-08-12</td><td>2016-08-14</td><td>2</td><td>7</td></tr>",
                            "<tr><td>edit</td><td>Bittmann Edit</td><td>2016-09-17</td><td>2016-09-24</td><td>2</td><td>9</td></tr>",
                            "<tr><td>edit</td><td>Bittmann Edit</td><td>2016-09-18</td><td>2016-09-21</td><td>3</td><td>8</td></tr>",
                            "<tr><td>edit</td><td>Bittmann Edit</td><td>2017-01-15</td><td>2017-01-18</td><td>4</td><td>7</td></tr>",
                            "<tr><td>edit</td><td>Bittmann Edit</td><td>2017-02-08</td><td>2017-02-14</td><td>3</td><td>9</td></tr>",
                            "<tr><td>emese</td><td>Kuruc Emese</td><td>2016-07-22</td><td>2016-07-24</td><td>2</td><td>NULL</td></tr>",
                            "<tr><td>emese</td><td>Kuruc Emese</td><td>2016-08-09</td><td>2016-08-12</td><td>2</td><td>2</td></tr>",
                            "<tr><td>emese</td><td>Kuruc Emese</td><td>2016-09-27</td><td>2016-09-28</td><td>3</td><td>4</td></tr>",
                            "<tr><td>emese</td><td>Kuruc Emese</td><td>2016-11-05</td><td>2016-11-09</td><td>1</td><td>7</td></tr>",
                            "<tr><td>emese</td><td>Kuruc Emese</td><td>2016-11-23</td><td>2016-11-27</td><td>4</td><td>6</td></tr>",
                            "<tr><td>emese</td><td>Kuruc Emese</td><td>2016-12-07</td><td>2016-12-08</td><td>3</td><td>8</td></tr>",
                            "<tr><td>emese</td><td>Kuruc Emese</td><td>2017-01-30</td><td>2017-01-31</td><td>2</td><td>8</td></tr>",
                            "<tr><td>eszter</td><td>Molnár Eszter</td><td>2016-08-12</td><td>2016-08-18</td><td>3</td><td>NULL</td></tr>",
                            "<tr><td>eszter</td><td>Molnár Eszter</td><td>2016-10-04</td><td>2016-10-10</td><td>3</td><td>3</td></tr>",
                            "<tr><td>eszter</td><td>Molnár Eszter</td><td>2016-10-26</td><td>2016-11-01</td><td>3</td><td>6</td></tr>",
                            "<tr><td>eszter</td><td>Molnár Eszter</td><td>2016-12-23</td><td>2016-12-28</td><td>2</td><td>9</td></tr>",
                            "<tr><td>eszter2</td><td>Balogh Eszter</td><td>2016-06-30</td><td>2016-07-07</td><td>3</td><td>NULL</td></tr>",
                            "<tr><td>eszter2</td><td>Balogh Eszter</td><td>2016-07-08</td><td>2016-07-09</td><td>1</td><td>3</td></tr>",
                            "<tr><td>eszter2</td><td>Balogh Eszter</td><td>2016-10-01</td><td>2016-10-05</td><td>3</td><td>4</td></tr>",
                            "<tr><td>eszter2</td><td>Balogh Eszter</td><td>2016-10-01</td><td>2016-10-06</td><td>1</td><td>7</td></tr>",
                            "<tr><td>eszter2</td><td>Balogh Eszter</td><td>2016-10-20</td><td>2016-10-25</td><td>1</td><td>5</td></tr>",
                            "<tr><td>eszter2</td><td>Balogh Eszter</td><td>2016-10-23</td><td>2016-10-30</td><td>1</td><td>5</td></tr>",
                            "<tr><td>eszter2</td><td>Balogh Eszter</td><td>2016-11-05</td><td>2016-11-12</td><td>4</td><td>3</td></tr>",
                            "<tr><td>eszter2</td><td>Balogh Eszter</td><td>2016-12-02</td><td>2016-12-07</td><td>1</td><td>6</td></tr>",
                            "<tr><td>eszter2</td><td>Balogh Eszter</td><td>2016-12-05</td><td>2016-12-08</td><td>2</td><td>6</td></tr>",
                            "<tr><td>eszter2</td><td>Balogh Eszter</td><td>2016-12-29</td><td>2017-02-04</td><td>1</td><td>7</td></tr>",
                            "<tr><td>eszter4</td><td>Fülöp Eszter</td><td>2017-01-05</td><td>2017-01-10</td><td>2</td><td>NULL</td></tr>",
                            "<tr><td>eszter4</td><td>Fülöp Eszter</td><td>2017-01-26</td><td>2017-02-02</td><td>2</td><td>2</td></tr>",
                            "<tr><td>eszter4</td><td>Fülöp Eszter</td><td>2017-02-26</td><td>2017-02-27</td><td>3</td><td>4</td></tr>",
                            "<tr><td>ESZTERE</td><td>Érsek Eszter</td><td>2016-05-30</td><td>2016-06-05</td><td>2</td><td>NULL</td></tr>",
                            "<tr><td>ESZTERE</td><td>Érsek Eszter</td><td>2016-07-19</td><td>2016-07-21</td><td>2</td><td>2</td></tr>",
                            "<tr><td>ESZTERE</td><td>Érsek Eszter</td><td>2016-11-01</td><td>2016-11-08</td><td>2</td><td>4</td></tr>",
                            "<tr><td>ESZTERE</td><td>Érsek Eszter</td><td>2017-02-10</td><td>2017-02-14</td><td>2</td><td>6</td></tr>",
                            "<tr><td>eva</td><td>Enyedi Éva</td><td>2016-10-06</td><td>2016-10-09</td><td>3</td><td>NULL</td></tr>",
                            "<tr><td>eva</td><td>Enyedi Éva</td><td>2017-01-14</td><td>2017-01-16</td><td>2</td><td>3</td></tr>",
                            "<tr><td>eva2</td><td>Perlinger Éva</td><td>2016-09-02</td><td>2016-09-03</td><td>1</td><td>NULL</td></tr>",
                            "<tr><td>eva2</td><td>Perlinger Éva</td><td>2016-11-06</td><td>2016-11-13</td><td>2</td><td>1</td></tr>",
                            "<tr><td>eva2</td><td>Perlinger Éva</td><td>2016-12-06</td><td>2016-12-11</td><td>2</td><td>3</td></tr>",
                            "<tr><td>eva2</td><td>Perlinger Éva</td><td>2017-01-06</td><td>2017-01-09</td><td>4</td><td>5</td></tr>",
                            "<tr><td>EVAV</td><td>Viktor Éva</td><td>2016-05-01</td><td>2016-05-05</td><td>3</td><td>NULL</td></tr>",
                            "<tr><td>EVAV</td><td>Viktor Éva</td><td>2016-08-31</td><td>2016-09-04</td><td>2</td><td>3</td></tr>",
                            "<tr><td>EVAV</td><td>Viktor Éva</td><td>2016-10-15</td><td>2016-10-21</td><td>3</td><td>5</td></tr>",
                            "<tr><td>EVAV</td><td>Viktor Éva</td><td>2016-10-16</td><td>2016-10-23</td><td>2</td><td>8</td></tr>",
                            "<tr><td>EVAV</td><td>Viktor Éva</td><td>2017-02-04</td><td>2017-02-11</td><td>5</td><td>7</td></tr>",
                            "<tr><td>ferenc1</td><td>Orosz Ferenc</td><td>2016-05-08</td><td>2016-05-11</td><td>2</td><td>NULL</td></tr>",
                            "<tr><td>ferenc1</td><td>Orosz Ferenc</td><td>2016-06-16</td><td>2016-06-22</td><td>2</td><td>2</td></tr>",
                            "<tr><td>ferenc1</td><td>Orosz Ferenc</td><td>2016-10-08</td><td>2016-10-09</td><td>2</td><td>4</td></tr>",
                            "<tr><td>ferenc1</td><td>Orosz Ferenc</td><td>2016-11-07</td><td>2016-11-08</td><td>3</td><td>6</td></tr>",
                            "<tr><td>fruzsina4</td><td>Frank Fruzsina</td><td>2016-06-02</td><td>2016-06-04</td><td>2</td><td>NULL</td></tr>",
                            "<tr><td>fruzsina4</td><td>Frank Fruzsina</td><td>2016-07-01</td><td>2016-07-04</td><td>3</td><td>2</td></tr>",
                            "<tr><td>fruzsina4</td><td>Frank Fruzsina</td><td>2016-07-13</td><td>2016-07-19</td><td>3</td><td>5</td></tr>",
                            "<tr><td>fruzsina4</td><td>Frank Fruzsina</td><td>2016-08-27</td><td>2016-08-30</td><td>4</td><td>8</td></tr>",
                            "<tr><td>fruzsina4</td><td>Frank Fruzsina</td><td>2016-09-29</td><td>2016-10-01</td><td>3</td><td>10</td></tr>",
                            "<tr><td>fruzsina4</td><td>Frank Fruzsina</td><td>2016-11-22</td><td>2016-11-24</td><td>2</td><td>10</td></tr>",
                            "<tr><td>fruzsina4</td><td>Frank Fruzsina</td><td>2016-12-16</td><td>2016-12-21</td><td>1</td><td>9</td></tr>",
                            "<tr><td>fruzsina4</td><td>Frank Fruzsina</td><td>2017-01-22</td><td>2017-01-25</td><td>4</td><td>6</td></tr>",
                            "<tr><td>gabor1</td><td>Köves Gábor</td><td>2016-06-20</td><td>2016-06-21</td><td>4</td><td>NULL</td></tr>",
                            "<tr><td>gabor1</td><td>Köves Gábor</td><td>2016-07-12</td><td>2016-07-15</td><td>1</td><td>4</td></tr>",
                            "<tr><td>gabor1</td><td>Köves Gábor</td><td>2016-07-28</td><td>2016-07-30</td><td>2</td><td>5</td></tr>",
                            "<tr><td>gabor1</td><td>Köves Gábor</td><td>2016-09-02</td><td>2016-09-03</td><td>3</td><td>7</td></tr>",
                            "<tr><td>gabor1</td><td>Köves Gábor</td><td>2016-10-20</td><td>2016-10-24</td><td>1</td><td>6</td></tr>",
                            "<tr><td>gabor1</td><td>Köves Gábor</td><td>2016-11-19</td><td>2016-11-22</td><td>2</td><td>6</td></tr>",
                            "<tr><td>gabor4</td><td>Telek Gábor</td><td>2016-04-26</td><td>2016-04-29</td><td>3</td><td>NULL</td></tr>",
                            "<tr><td>gabor4</td><td>Telek Gábor</td><td>2016-05-30</td><td>2016-06-05</td><td>1</td><td>3</td></tr>",
                            "<tr><td>gabor4</td><td>Telek Gábor</td><td>2016-08-31</td><td>2016-09-06</td><td>4</td><td>4</td></tr>",
                            "<tr><td>gabor4</td><td>Telek Gábor</td><td>2016-11-07</td><td>2016-11-13</td><td>4</td><td>8</td></tr>",
                            "<tr><td>gabriella1</td><td>Nagy Gabriella</td><td>2016-04-21</td><td>2016-04-24</td><td>3</td><td>NULL</td></tr>",
                            "<tr><td>gabriella1</td><td>Nagy Gabriella</td><td>2016-07-10</td><td>2016-07-11</td><td>3</td><td>3</td></tr>",
                            "<tr><td>gabriella1</td><td>Nagy Gabriella</td><td>2016-07-24</td><td>2016-07-31</td><td>2</td><td>6</td></tr>",
                            "<tr><td>gabriella1</td><td>Nagy Gabriella</td><td>2017-02-04</td><td>2017-02-11</td><td>3</td><td>8</td></tr>",
                            "<tr><td>gabriella1</td><td>Nagy Gabriella</td><td>2017-02-12</td><td>2017-02-13</td><td>2</td><td>8</td></tr>",
                            "<tr><td>gabriella1</td><td>Nagy Gabriella</td><td>2017-02-21</td><td>2017-02-27</td><td>3</td><td>7</td></tr>",
                            "<tr><td>gabriella10</td><td>Vida Gabriella</td><td>2016-10-01</td><td>2016-10-06</td><td>3</td><td>NULL</td></tr>",
                            "<tr><td>georgij</td><td>Nyíri Georgij</td><td>2016-06-16</td><td>2016-06-20</td><td>3</td><td>NULL</td></tr>",
                            "<tr><td>georgij</td><td>Nyíri Georgij</td><td>2016-08-16</td><td>2016-08-22</td><td>4</td><td>3</td></tr>",
                            "<tr><td>georgij</td><td>Nyíri Georgij</td><td>2016-08-28</td><td>2016-09-04</td><td>2</td><td>7</td></tr>",
                            "<tr><td>georgij</td><td>Nyíri Georgij</td><td>2016-09-18</td><td>2016-09-24</td><td>3</td><td>9</td></tr>",
                            "<tr><td>gusztav</td><td>Bárci Gusztáv</td><td>2016-05-06</td><td>2016-05-13</td><td>2</td><td>NULL</td></tr>",
                            "<tr><td>gusztav</td><td>Bárci Gusztáv</td><td>2016-08-05</td><td>2016-08-11</td><td>3</td><td>2</td></tr>",
                            "<tr><td>gusztav</td><td>Bárci Gusztáv</td><td>2016-10-01</td><td>2016-10-03</td><td>3</td><td>5</td></tr>",
                            "<tr><td>gusztav</td><td>Bárci Gusztáv</td><td>2017-02-03</td><td>2017-02-09</td><td>2</td><td>8</td></tr>",
                            "<tr><td>gusztav</td><td>Bárci Gusztáv</td><td>2017-02-23</td><td>2017-03-01</td><td>4</td><td>8</td></tr>",
                            "<tr><td>GYONGYIK</td><td>Kornseé Gyöngyi</td><td>2016-06-02</td><td>2016-06-05</td><td>3</td><td>NULL</td></tr>",
                            "<tr><td>GYONGYIK</td><td>Kornseé Gyöngyi</td><td>2016-06-10</td><td>2016-06-17</td><td>1</td><td>3</td></tr>",
                            "<tr><td>GYONGYIK</td><td>Kornseé Gyöngyi</td><td>2016-07-01</td><td>2016-07-05</td><td>2</td><td>4</td></tr>",
                            "<tr><td>GYONGYIK</td><td>Kornseé Gyöngyi</td><td>2016-08-17</td><td>2016-08-21</td><td>3</td><td>6</td></tr>",
                            "<tr><td>GYONGYIK</td><td>Kornseé Gyöngyi</td><td>2016-11-08</td><td>2016-11-13</td><td>2</td><td>6</td></tr>",
                            "<tr><td>GYONGYIK</td><td>Kornseé Gyöngyi</td><td>2016-12-01</td><td>2016-12-08</td><td>2</td><td>7</td></tr>",
                            "<tr><td>GYONGYIK</td><td>Kornseé Gyöngyi</td><td>2017-01-22</td><td>2017-01-29</td><td>3</td><td>7</td></tr>",
                            "<tr><td>GYORGYO</td><td>Oroszi György</td><td>2016-05-27</td><td>2016-05-28</td><td>3</td><td>NULL</td></tr>",
                            "<tr><td>GYORGYO</td><td>Oroszi György</td><td>2016-06-01</td><td>2016-06-07</td><td>2</td><td>3</td></tr>",
                            "<tr><td>GYORGYO</td><td>Oroszi György</td><td>2016-06-10</td><td>2016-06-15</td><td>2</td><td>5</td></tr>",
                            "<tr><td>GYORGYO</td><td>Oroszi György</td><td>2016-07-18</td><td>2016-07-25</td><td>2</td><td>7</td></tr>",
                            "<tr><td>GYORGYO</td><td>Oroszi György</td><td>2016-07-28</td><td>2016-08-03</td><td>3</td><td>6</td></tr>",
                            "<tr><td>GYORGYO</td><td>Oroszi György</td><td>2016-10-28</td><td>2016-10-31</td><td>1</td><td>7</td></tr>",
                            "<tr><td>GYORGYO</td><td>Oroszi György</td><td>2017-02-13</td><td>2017-02-15</td><td>2</td><td>6</td></tr>",
                            "<tr><td>GYORGYO</td><td>Oroszi György</td><td>2017-02-24</td><td>2017-02-25</td><td>3</td><td>6</td></tr>",
                            "<tr><td>henrik3</td><td>Nádudvari Henrik</td><td>2016-08-24</td><td>2016-08-28</td><td>1</td><td>NULL</td></tr>",
                            "<tr><td>henrik3</td><td>Nádudvari Henrik</td><td>2016-12-29</td><td>2017-01-03</td><td>3</td><td>1</td></tr>",
                            "<tr><td>henrik3</td><td>Nádudvari Henrik</td><td>2017-01-27</td><td>2017-01-28</td><td>3</td><td>4</td></tr>",
                            "<tr><td>IBOLYAA</td><td>Andor Ibolya</td><td>2016-08-29</td><td>2016-08-31</td><td>5</td><td>NULL</td></tr>",
                            "<tr><td>IBOLYAA</td><td>Andor Ibolya</td><td>2016-10-23</td><td>2016-10-28</td><td>2</td><td>5</td></tr>",
                            "<tr><td>IBOLYAA</td><td>Andor Ibolya</td><td>2017-01-17</td><td>2017-01-23</td><td>3</td><td>7</td></tr>",
                            "<tr><td>ilona3</td><td>Bosnyák Ilona</td><td>2016-07-31</td><td>2016-08-06</td><td>2</td><td>NULL</td></tr>",
                            "<tr><td>ilona3</td><td>Bosnyák Ilona</td><td>2016-08-04</td><td>2016-08-08</td><td>3</td><td>2</td></tr>",
                            "<tr><td>ilona3</td><td>Bosnyák Ilona</td><td>2016-11-04</td><td>2016-11-06</td><td>4</td><td>5</td></tr>",
                            "<tr><td>ilona3</td><td>Bosnyák Ilona</td><td>2016-12-25</td><td>2016-12-31</td><td>3</td><td>9</td></tr>",
                            "<tr><td>imre</td><td>Búza Imre</td><td>2016-09-17</td><td>2016-09-19</td><td>3</td><td>NULL</td></tr>",
                            "<tr><td>imre</td><td>Búza Imre</td><td>2016-10-28</td><td>2016-10-29</td><td>4</td><td>3</td></tr>",
                            "<tr><td>imre1</td><td>Papp Imre</td><td>2016-06-23</td><td>2016-06-26</td><td>4</td><td>NULL</td></tr>",
                            "<tr><td>imre1</td><td>Papp Imre</td><td>2016-06-27</td><td>2016-06-28</td><td>2</td><td>4</td></tr>",
                            "<tr><td>imre1</td><td>Papp Imre</td><td>2016-08-21</td><td>2016-08-27</td><td>2</td><td>6</td></tr>",
                            "<tr><td>imre1</td><td>Papp Imre</td><td>2016-08-23</td><td>2016-08-25</td><td>3</td><td>8</td></tr>",
                            "<tr><td>imre1</td><td>Papp Imre</td><td>2016-08-29</td><td>2016-08-31</td><td>2</td><td>7</td></tr>",
                            "<tr><td>imre1</td><td>Papp Imre</td><td>2017-02-01</td><td>2017-02-04</td><td>2</td><td>7</td></tr>",
                            "<tr><td>imre1</td><td>Papp Imre</td><td>2017-02-05</td><td>2017-02-07</td><td>4</td><td>7</td></tr>",
                            "<tr><td>istvan</td><td>Soós István</td><td>2016-10-07</td><td>2016-10-10</td><td>2</td><td>NULL</td></tr>",
                            "<tr><td>istvan</td><td>Soós István</td><td>2016-11-22</td><td>2016-11-24</td><td>3</td><td>2</td></tr>",
                            "<tr><td>istvan</td><td>Soós István</td><td>2017-01-02</td><td>2017-01-05</td><td>2</td><td>5</td></tr>",
                            "<tr><td>istvan1</td><td>Vizi István</td><td>2016-04-16</td><td>2016-04-22</td><td>3</td><td>NULL</td></tr>",
                            "<tr><td>istvan1</td><td>Vizi István</td><td>2016-04-24</td><td>2016-04-28</td><td>3</td><td>3</td></tr>",
                            "<tr><td>istvan1</td><td>Vizi István</td><td>2016-07-19</td><td>2016-07-24</td><td>1</td><td>6</td></tr>",
                            "<tr><td>istvan1</td><td>Vizi István</td><td>2017-02-07</td><td>2017-02-10</td><td>3</td><td>7</td></tr>",
                            "<tr><td>ISTVANV</td><td>Varga István</td><td>2016-07-01</td><td>2016-07-04</td><td>4</td><td>NULL</td></tr>",
                            "<tr><td>ISTVANV</td><td>Varga István</td><td>2016-09-29</td><td>2016-10-01</td><td>3</td><td>4</td></tr>",
                            "<tr><td>janos3</td><td>Harangozó János</td><td>2016-06-04</td><td>2016-06-06</td><td>1</td><td>NULL</td></tr>",
                            "<tr><td>janos3</td><td>Harangozó János</td><td>2016-08-24</td><td>2016-08-25</td><td>3</td><td>1</td></tr>",
                            "<tr><td>janos3</td><td>Harangozó János</td><td>2016-10-03</td><td>2016-10-08</td><td>3</td><td>4</td></tr>",
                            "<tr><td>janos3</td><td>Harangozó János</td><td>2016-10-22</td><td>2016-10-23</td><td>1</td><td>7</td></tr>",
                            "<tr><td>janos3</td><td>Harangozó János</td><td>2017-02-12</td><td>2017-02-14</td><td>3</td><td>7</td></tr>",
                            "<tr><td>JANOSG</td><td>Giliga János</td><td>2016-05-09</td><td>2016-05-15</td><td>1</td><td>NULL</td></tr>",
                            "<tr><td>JANOSG</td><td>Giliga János</td><td>2016-08-16</td><td>2016-08-23</td><td>3</td><td>1</td></tr>",
                            "<tr><td>JANOSG</td><td>Giliga János</td><td>2016-08-30</td><td>2016-09-03</td><td>3</td><td>4</td></tr>",
                            "<tr><td>JANOSG</td><td>Giliga János</td><td>2016-11-07</td><td>2016-11-14</td><td>3</td><td>7</td></tr>",
                            "<tr><td>JANOSG</td><td>Giliga János</td><td>2016-12-28</td><td>2016-12-30</td><td>2</td><td>9</td></tr>",
                            "<tr><td>JANOSG</td><td>Giliga János</td><td>2017-01-10</td><td>2017-01-15</td><td>2</td><td>8</td></tr>",
                            "<tr><td>JANOSG</td><td>Giliga János</td><td>2017-01-31</td><td>2017-02-05</td><td>2</td><td>7</td></tr>",
                            "<tr><td>JANOSP</td><td>Pálinkás János</td><td>2016-07-04</td><td>2016-07-11</td><td>3</td><td>NULL</td></tr>",
                            "<tr><td>JANOSP</td><td>Pálinkás János</td><td>2016-11-23</td><td>2016-11-28</td><td>2</td><td>3</td></tr>",
                            "<tr><td>JANOSP</td><td>Pálinkás János</td><td>2016-11-25</td><td>2016-11-27</td><td>2</td><td>5</td></tr>",
                            "<tr><td>JANOSP</td><td>Pálinkás János</td><td>2016-12-18</td><td>2016-12-21</td><td>2</td><td>7</td></tr>",
                            "<tr><td>jozsef</td><td>Gergely József</td><td>2016-09-13</td><td>2016-09-19</td><td>2</td><td>NULL</td></tr>",
                            "<tr><td>jozsef</td><td>Gergely József</td><td>2016-10-08</td><td>2016-10-10</td><td>2</td><td>2</td></tr>",
                            "<tr><td>jozsef</td><td>Gergely József</td><td>2016-12-06</td><td>2016-12-07</td><td>2</td><td>4</td></tr>",
                            "<tr><td>jozsef2</td><td>Vajda József</td><td>2016-07-06</td><td>2016-07-11</td><td>2</td><td>NULL</td></tr>",
                            "<tr><td>jozsef2</td><td>Vajda József</td><td>2016-07-16</td><td>2016-07-20</td><td>3</td><td>2</td></tr>",
                            "<tr><td>jozsef2</td><td>Vajda József</td><td>2016-09-09</td><td>2016-09-15</td><td>2</td><td>5</td></tr>",
                            "<tr><td>jozsef2</td><td>Vajda József</td><td>2016-11-23</td><td>2016-11-29</td><td>3</td><td>7</td></tr>",
                            "<tr><td>jozsef2</td><td>Vajda József</td><td>2016-11-25</td><td>2016-11-29</td><td>3</td><td>8</td></tr>",
                            "<tr><td>JOZSEFG</td><td>Gyuris József</td><td>2016-05-02</td><td>2016-05-06</td><td>2</td><td>NULL</td></tr>",
                            "<tr><td>JOZSEFG</td><td>Gyuris József</td><td>2016-05-23</td><td>2016-05-25</td><td>1</td><td>2</td></tr>",
                            "<tr><td>JOZSEFG</td><td>Gyuris József</td><td>2016-06-04</td><td>2016-06-09</td><td>4</td><td>3</td></tr>",
                            "<tr><td>JOZSEFG</td><td>Gyuris József</td><td>2016-08-24</td><td>2016-08-27</td><td>3</td><td>7</td></tr>",
                            "<tr><td>JOZSEFG</td><td>Gyuris József</td><td>2017-01-09</td><td>2017-01-13</td><td>2</td><td>8</td></tr>",
                            "<tr><td>JOZSEFG</td><td>Gyuris József</td><td>2017-01-22</td><td>2017-01-26</td><td>1</td><td>9</td></tr>",
                            "<tr><td>JOZSEFG</td><td>Gyuris József</td><td>2017-02-24</td><td>2017-03-03</td><td>3</td><td>6</td></tr>",
                            "<tr><td>JUDITH</td><td>Hídasi Judit</td><td>2016-06-06</td><td>2016-06-10</td><td>2</td><td>NULL</td></tr>",
                            "<tr><td>JUDITH</td><td>Hídasi Judit</td><td>2016-07-28</td><td>2016-07-30</td><td>2</td><td>2</td></tr>",
                            "<tr><td>JUDITH</td><td>Hídasi Judit</td><td>2016-12-19</td><td>2016-12-26</td><td>1</td><td>4</td></tr>",
                            "<tr><td>julia</td><td>Tóth Júlia</td><td>2016-04-21</td><td>2016-04-26</td><td>2</td><td>NULL</td></tr>",
                            "<tr><td>julia</td><td>Tóth Júlia</td><td>2016-05-12</td><td>2016-05-17</td><td>1</td><td>2</td></tr>",
                            "<tr><td>julia</td><td>Tóth Júlia</td><td>2016-06-07</td><td>2016-06-08</td><td>5</td><td>3</td></tr>",
                            "<tr><td>julia</td><td>Tóth Júlia</td><td>2016-07-20</td><td>2016-07-22</td><td>2</td><td>8</td></tr>",
                            "<tr><td>julia</td><td>Tóth Júlia</td><td>2017-02-27</td><td>2017-03-06</td><td>3</td><td>8</td></tr>",
                            "<tr><td>julia4</td><td>Nagy Júlia</td><td>2016-11-07</td><td>2016-11-12</td><td>1</td><td>NULL</td></tr>",
                            "<tr><td>julia4</td><td>Nagy Júlia</td><td>2017-02-04</td><td>2017-02-11</td><td>4</td><td>1</td></tr>",
                            "<tr><td>julianna4</td><td>Szabó Julianna</td><td>2016-07-20</td><td>2016-07-26</td><td>2</td><td>NULL</td></tr>",
                            "<tr><td>julianna4</td><td>Szabó Julianna</td><td>2016-10-29</td><td>2016-10-31</td><td>3</td><td>2</td></tr>",
                            "<tr><td>julianna4</td><td>Szabó Julianna</td><td>2016-11-03</td><td>2016-11-04</td><td>2</td><td>5</td></tr>",
                            "<tr><td>julianna4</td><td>Szabó Julianna</td><td>2016-11-27</td><td>2016-12-04</td><td>3</td><td>7</td></tr>",
                            "<tr><td>kata</td><td>Gondos Katalin</td><td>2016-04-10</td><td>2016-04-11</td><td>2</td><td>NULL</td></tr>",
                            "<tr><td>kata</td><td>Gondos Katalin</td><td>2016-04-25</td><td>2016-05-01</td><td>1</td><td>2</td></tr>",
                            "<tr><td>kata</td><td>Gondos Katalin</td><td>2016-05-31</td><td>2016-06-01</td><td>3</td><td>3</td></tr>",
                            "<tr><td>kata</td><td>Gondos Katalin</td><td>2016-06-07</td><td>2016-06-12</td><td>2</td><td>6</td></tr>",
                            "<tr><td>kata</td><td>Gondos Katalin</td><td>2016-07-01</td><td>2016-07-07</td><td>2</td><td>6</td></tr>",
                            "<tr><td>kata</td><td>Gondos Katalin</td><td>2016-07-03</td><td>2016-07-06</td><td>1</td><td>7</td></tr>",
                            "<tr><td>kata</td><td>Gondos Katalin</td><td>2016-07-07</td><td>2016-07-09</td><td>3</td><td>5</td></tr>",
                            "<tr><td>kata</td><td>Gondos Katalin</td><td>2016-08-24</td><td>2016-08-27</td><td>3</td><td>6</td></tr>",
                            "<tr><td>kata</td><td>Gondos Katalin</td><td>2016-09-19</td><td>2016-09-20</td><td>3</td><td>7</td></tr>",
                            "<tr><td>kata</td><td>Gondos Katalin</td><td>2017-01-15</td><td>2017-01-21</td><td>3</td><td>9</td></tr>",
                            "<tr><td>katalin</td><td>Horváth Katalin</td><td>2016-04-10</td><td>2016-04-17</td><td>2</td><td>NULL</td></tr>",
                            "<tr><td>katalin</td><td>Horváth Katalin</td><td>2016-05-21</td><td>2016-05-26</td><td>1</td><td>2</td></tr>",
                            "<tr><td>katalin</td><td>Horváth Katalin</td><td>2016-07-06</td><td>2016-07-11</td><td>1</td><td>3</td></tr>",
                            "<tr><td>katalin</td><td>Horváth Katalin</td><td>2016-07-28</td><td>2016-07-29</td><td>1</td><td>4</td></tr>",
                            "<tr><td>katalin</td><td>Horváth Katalin</td><td>2016-10-26</td><td>2016-10-30</td><td>2</td><td>3</td></tr>",
                            "<tr><td>katalin</td><td>Horváth Katalin</td><td>2016-12-13</td><td>2016-12-19</td><td>2</td><td>4</td></tr>",
                            "<tr><td>katalin</td><td>Horváth Katalin</td><td>2016-12-17</td><td>2016-12-24</td><td>1</td><td>5</td></tr>",
                            "<tr><td>katalin</td><td>Horváth Katalin</td><td>2016-12-24</td><td>2016-12-27</td><td>2</td><td>5</td></tr>",
                            "<tr><td>katalin</td><td>Horváth Katalin</td><td>2017-02-24</td><td>2017-02-27</td><td>3</td><td>5</td></tr>",
                            "<tr><td>katalin4</td><td>Kertész Katalin</td><td>2016-07-01</td><td>2016-07-07</td><td>1</td><td>NULL</td></tr>",
                            "<tr><td>katalin4</td><td>Kertész Katalin</td><td>2016-07-03</td><td>2016-07-04</td><td>4</td><td>1</td></tr>",
                            "<tr><td>katalin4</td><td>Kertész Katalin</td><td>2016-11-27</td><td>2016-12-04</td><td>3</td><td>5</td></tr>",
                            "<tr><td>katalin4</td><td>Kertész Katalin</td><td>2016-12-04</td><td>2016-12-09</td><td>3</td><td>8</td></tr>",
                            "<tr><td>katalin4</td><td>Kertész Katalin</td><td>2017-01-18</td><td>2017-01-20</td><td>2</td><td>10</td></tr>",
                            "<tr><td>katalin4</td><td>Kertész Katalin</td><td>2017-01-24</td><td>2017-01-31</td><td>2</td><td>8</td></tr>",
                            "<tr><td>kati</td><td>Zatykó Katalin</td><td>2016-06-06</td><td>2016-06-10</td><td>2</td><td>NULL</td></tr>",
                            "<tr><td>kati</td><td>Zatykó Katalin</td><td>2016-06-06</td><td>2016-06-11</td><td>3</td><td>2</td></tr>",
                            "<tr><td>kati</td><td>Zatykó Katalin</td><td>2016-07-13</td><td>2016-07-20</td><td>2</td><td>5</td></tr>",
                            "<tr><td>kati</td><td>Zatykó Katalin</td><td>2016-07-27</td><td>2016-08-03</td><td>2</td><td>7</td></tr>",
                            "<tr><td>kati</td><td>Zatykó Katalin</td><td>2016-08-03</td><td>2016-08-07</td><td>2</td><td>7</td></tr>",
                            "<tr><td>kati</td><td>Zatykó Katalin</td><td>2016-10-26</td><td>2016-10-28</td><td>2</td><td>6</td></tr>",
                            "<tr><td>kati</td><td>Zatykó Katalin</td><td>2016-10-30</td><td>2016-11-01</td><td>3</td><td>6</td></tr>",
                            "<tr><td>katka</td><td>Kovács Katalin</td><td>2016-04-10</td><td>2016-04-12</td><td>2</td><td>NULL</td></tr>",
                            "<tr><td>katka</td><td>Kovács Katalin</td><td>2016-05-09</td><td>2016-05-15</td><td>3</td><td>2</td></tr>",
                            "<tr><td>katka</td><td>Kovács Katalin</td><td>2016-06-13</td><td>2016-06-18</td><td>1</td><td>5</td></tr>",
                            "<tr><td>katka</td><td>Kovács Katalin</td><td>2016-06-13</td><td>2016-06-19</td><td>4</td><td>6</td></tr>",
                            "<tr><td>katka</td><td>Kovács Katalin</td><td>2016-08-24</td><td>2016-08-26</td><td>2</td><td>8</td></tr>",
                            "<tr><td>katka</td><td>Kovács Katalin</td><td>2016-09-05</td><td>2016-09-10</td><td>4</td><td>7</td></tr>",
                            "<tr><td>katka</td><td>Kovács Katalin</td><td>2016-11-05</td><td>2016-11-08</td><td>3</td><td>10</td></tr>",
                            "<tr><td>katka</td><td>Kovács Katalin</td><td>2017-01-02</td><td>2017-01-05</td><td>3</td><td>9</td></tr>",
                            "<tr><td>katka</td><td>Kovács Katalin</td><td>2017-01-19</td><td>2017-01-20</td><td>3</td><td>10</td></tr>",
                            "<tr><td>klaudia2</td><td>Bakó Klaudia</td><td>2016-06-06</td><td>2016-06-08</td><td>4</td><td>NULL</td></tr>",
                            "<tr><td>klaudia2</td><td>Bakó Klaudia</td><td>2016-10-01</td><td>2016-10-02</td><td>2</td><td>4</td></tr>",
                            "<tr><td>klaudia2</td><td>Bakó Klaudia</td><td>2016-10-02</td><td>2016-10-05</td><td>2</td><td>6</td></tr>",
                            "<tr><td>kornel4</td><td>Lukács Kornél</td><td>2016-05-08</td><td>2016-05-14</td><td>3</td><td>NULL</td></tr>",
                            "<tr><td>kornel4</td><td>Lukács Kornél</td><td>2016-06-02</td><td>2016-06-09</td><td>3</td><td>3</td></tr>",
                            "<tr><td>kornel4</td><td>Lukács Kornél</td><td>2016-09-23</td><td>2016-09-24</td><td>3</td><td>6</td></tr>",
                            "<tr><td>kristof4</td><td>Poprádi Kristóf</td><td>2016-04-08</td><td>2016-04-14</td><td>2</td><td>NULL</td></tr>",
                            "<tr><td>kristof4</td><td>Poprádi Kristóf</td><td>2016-09-30</td><td>2016-10-04</td><td>2</td><td>2</td></tr>",
                            "<tr><td>kriszti</td><td>Horváth Krisztina</td><td>2016-05-19</td><td>2016-05-26</td><td>2</td><td>NULL</td></tr>",
                            "<tr><td>kriszti</td><td>Horváth Krisztina</td><td>2016-08-24</td><td>2016-08-25</td><td>3</td><td>2</td></tr>",
                            "<tr><td>kriszti</td><td>Horváth Krisztina</td><td>2016-09-30</td><td>2016-10-05</td><td>3</td><td>5</td></tr>",
                            "<tr><td>kriszti</td><td>Horváth Krisztina</td><td>2016-10-01</td><td>2016-10-02</td><td>3</td><td>8</td></tr>",
                            "<tr><td>kriszti</td><td>Horváth Krisztina</td><td>2017-02-04</td><td>2017-02-11</td><td>3</td><td>9</td></tr>",
                            "<tr><td>kriszti</td><td>Horváth Krisztina</td><td>2017-03-03</td><td>2017-03-04</td><td>3</td><td>9</td></tr>",
                            "<tr><td>krisztian4</td><td>Czérna Krisztián</td><td>2016-06-03</td><td>2016-06-04</td><td>2</td><td>NULL</td></tr>",
                            "<tr><td>krisztian4</td><td>Czérna Krisztián</td><td>2016-06-07</td><td>2016-06-09</td><td>2</td><td>2</td></tr>",
                            "<tr><td>krisztian4</td><td>Czérna Krisztián</td><td>2016-07-28</td><td>2016-08-01</td><td>2</td><td>4</td></tr>",
                            "<tr><td>krisztian4</td><td>Czérna Krisztián</td><td>2016-08-01</td><td>2016-08-04</td><td>3</td><td>6</td></tr>",
                            "<tr><td>krisztian4</td><td>Czérna Krisztián</td><td>2016-08-16</td><td>2016-08-19</td><td>1</td><td>7</td></tr>",
                            "<tr><td>krisztian4</td><td>Czérna Krisztián</td><td>2016-08-29</td><td>2016-09-03</td><td>1</td><td>6</td></tr>",
                            "<tr><td>krisztian4</td><td>Czérna Krisztián</td><td>2016-10-17</td><td>2016-10-22</td><td>3</td><td>5</td></tr>",
                            "<tr><td>krisztian4</td><td>Czérna Krisztián</td><td>2016-11-02</td><td>2016-11-03</td><td>2</td><td>5</td></tr>",
                            "<tr><td>krisztian4</td><td>Czérna Krisztián</td><td>2016-12-11</td><td>2016-12-18</td><td>2</td><td>6</td></tr>",
                            "<tr><td>krisztian4</td><td>Czérna Krisztián</td><td>2017-01-06</td><td>2017-01-09</td><td>1</td><td>7</td></tr>",
                            "<tr><td>krisztian4</td><td>Czérna Krisztián</td><td>2017-01-16</td><td>2017-01-23</td><td>3</td><td>5</td></tr>",
                            "<tr><td>krisztian4</td><td>Czérna Krisztián</td><td>2017-02-23</td><td>2017-03-02</td><td>2</td><td>6</td></tr>",
                            "<tr><td>KRISZTIANM</td><td>Mogyródi Krisztián</td><td>2016-04-09</td><td>2016-04-15</td><td>2</td><td>NULL</td></tr>",
                            "<tr><td>KRISZTIANM</td><td>Mogyródi Krisztián</td><td>2016-06-04</td><td>2016-06-08</td><td>2</td><td>2</td></tr>",
                            "<tr><td>KRISZTIANM</td><td>Mogyródi Krisztián</td><td>2016-07-09</td><td>2016-07-14</td><td>3</td><td>4</td></tr>",
                            "<tr><td>KRISZTIANM</td><td>Mogyródi Krisztián</td><td>2016-08-02</td><td>2016-08-08</td><td>4</td><td>7</td></tr>",
                            "<tr><td>KRISZTIANM</td><td>Mogyródi Krisztián</td><td>2016-12-25</td><td>2016-12-31</td><td>2</td><td>9</td></tr>",
                            "<tr><td>KRISZTIANM</td><td>Mogyródi Krisztián</td><td>2017-01-16</td><td>2017-01-23</td><td>1</td><td>9</td></tr>",
                            "<tr><td>krisztina</td><td>Szedlár Krisztina</td><td>2016-05-21</td><td>2016-05-27</td><td>2</td><td>NULL</td></tr>",
                            "<tr><td>krisztina</td><td>Szedlár Krisztina</td><td>2016-07-05</td><td>2016-07-12</td><td>3</td><td>2</td></tr>",
                            "<tr><td>krisztina</td><td>Szedlár Krisztina</td><td>2016-09-13</td><td>2016-09-16</td><td>1</td><td>5</td></tr>",
                            "<tr><td>krisztina</td><td>Szedlár Krisztina</td><td>2016-09-19</td><td>2016-09-26</td><td>2</td><td>6</td></tr>",
                            "<tr><td>krisztina</td><td>Szedlár Krisztina</td><td>2016-11-08</td><td>2016-11-12</td><td>2</td><td>6</td></tr>",
                            "<tr><td>krisztina</td><td>Szedlár Krisztina</td><td>2016-11-22</td><td>2016-11-25</td><td>1</td><td>5</td></tr>",
                            "<tr><td>krisztina</td><td>Szedlár Krisztina</td><td>2017-02-05</td><td>2017-02-07</td><td>2</td><td>5</td></tr>",
                            "<tr><td>krisztina</td><td>Szedlár Krisztina</td><td>2017-02-16</td><td>2017-02-20</td><td>4</td><td>5</td></tr>",
                            "<tr><td>krisztina1</td><td>Bori Krisztina</td><td>2016-04-28</td><td>2016-04-30</td><td>2</td><td>NULL</td></tr>",
                            "<tr><td>krisztina1</td><td>Bori Krisztina</td><td>2016-05-16</td><td>2016-05-20</td><td>1</td><td>2</td></tr>",
                            "<tr><td>krisztina1</td><td>Bori Krisztina</td><td>2016-06-16</td><td>2016-06-22</td><td>2</td><td>3</td></tr>",
                            "<tr><td>krisztina1</td><td>Bori Krisztina</td><td>2016-09-15</td><td>2016-09-20</td><td>3</td><td>5</td></tr>",
                            "<tr><td>krisztina1</td><td>Bori Krisztina</td><td>2016-10-29</td><td>2016-10-30</td><td>4</td><td>6</td></tr>",
                            "<tr><td>krisztina1</td><td>Bori Krisztina</td><td>2017-01-21</td><td>2017-01-24</td><td>2</td><td>9</td></tr>",
                            "<tr><td>KRISZTINAG</td><td>Gyárfás Krisztina</td><td>2016-04-23</td><td>2016-04-24</td><td>2</td><td>NULL</td></tr>",
                            "<tr><td>KRISZTINAG</td><td>Gyárfás Krisztina</td><td>2016-05-24</td><td>2016-05-31</td><td>1</td><td>2</td></tr>",
                            "<tr><td>KRISZTINAG</td><td>Gyárfás Krisztina</td><td>2016-06-08</td><td>2016-06-12</td><td>1</td><td>3</td></tr>",
                            "<tr><td>KRISZTINAG</td><td>Gyárfás Krisztina</td><td>2016-08-08</td><td>2016-08-12</td><td>3</td><td>4</td></tr>",
                            "<tr><td>KRISZTINAG</td><td>Gyárfás Krisztina</td><td>2017-01-25</td><td>2017-01-30</td><td>2</td><td>5</td></tr>",
                            "<tr><td>lajos</td><td>Kiss Lajos</td><td>2016-07-18</td><td>2016-07-21</td><td>2</td><td>NULL</td></tr>",
                            "<tr><td>lajos</td><td>Kiss Lajos</td><td>2016-12-25</td><td>2016-12-28</td><td>4</td><td>2</td></tr>",
                            "<tr><td>lajos</td><td>Kiss Lajos</td><td>2017-02-12</td><td>2017-02-13</td><td>1</td><td>6</td></tr>",
                            "<tr><td>lala</td><td>Nagymihály Lajos</td><td>2016-06-16</td><td>2016-06-22</td><td>2</td><td>NULL</td></tr>",
                            "<tr><td>lala</td><td>Nagymihály Lajos</td><td>2016-07-20</td><td>2016-07-21</td><td>3</td><td>2</td></tr>",
                            "<tr><td>lala</td><td>Nagymihály Lajos</td><td>2016-07-26</td><td>2016-07-27</td><td>3</td><td>5</td></tr>",
                            "<tr><td>lala</td><td>Nagymihály Lajos</td><td>2016-10-30</td><td>2016-10-31</td><td>3</td><td>8</td></tr>",
                            "<tr><td>lala</td><td>Nagymihály Lajos</td><td>2017-01-08</td><td>2017-01-10</td><td>3</td><td>9</td></tr>",
                            "<tr><td>lala</td><td>Nagymihály Lajos</td><td>2017-01-17</td><td>2017-01-19</td><td>2</td><td>9</td></tr>",
                            "<tr><td>laszlo1</td><td>Farkas László</td><td>2016-09-23</td><td>2016-09-30</td><td>3</td><td>NULL</td></tr>",
                            "<tr><td>laszlo2</td><td>Móra László</td><td>2016-04-06</td><td>2016-04-10</td><td>2</td><td>NULL</td></tr>",
                            "<tr><td>laszlo2</td><td>Móra László</td><td>2016-04-27</td><td>2016-04-29</td><td>2</td><td>2</td></tr>",
                            "<tr><td>laszlo2</td><td>Móra László</td><td>2016-08-14</td><td>2016-08-15</td><td>3</td><td>4</td></tr>",
                            "<tr><td>laszlo2</td><td>Móra László</td><td>2016-09-05</td><td>2016-09-10</td><td>3</td><td>7</td></tr>",
                            "<tr><td>laszlo2</td><td>Móra László</td><td>2016-11-25</td><td>2016-11-26</td><td>3</td><td>8</td></tr>",
                            "<tr><td>LASZLOA</td><td>Antal László</td><td>2016-06-03</td><td>2016-06-09</td><td>2</td><td>NULL</td></tr>",
                            "<tr><td>LASZLOA</td><td>Antal László</td><td>2016-06-07</td><td>2016-06-11</td><td>1</td><td>2</td></tr>",
                            "<tr><td>LASZLOA</td><td>Antal László</td><td>2016-06-10</td><td>2016-06-13</td><td>3</td><td>3</td></tr>",
                            "<tr><td>LASZLOA</td><td>Antal László</td><td>2017-02-08</td><td>2017-02-14</td><td>2</td><td>6</td></tr>",
                            "<tr><td>LASZLON</td><td>Nagy László</td><td>2016-06-03</td><td>2016-06-06</td><td>1</td><td>NULL</td></tr>",
                            "<tr><td>LASZLON</td><td>Nagy László</td><td>2016-06-08</td><td>2016-06-09</td><td>2</td><td>1</td></tr>",
                            "<tr><td>LASZLON</td><td>Nagy László</td><td>2016-10-01</td><td>2016-10-04</td><td>3</td><td>3</td></tr>",
                            "<tr><td>LASZLON</td><td>Nagy László</td><td>2016-10-09</td><td>2016-10-14</td><td>1</td><td>6</td></tr>",
                            "<tr><td>LASZLON</td><td>Nagy László</td><td>2016-11-29</td><td>2016-12-04</td><td>1</td><td>6</td></tr>",
                            "<tr><td>LASZLON</td><td>Nagy László</td><td>2017-02-18</td><td>2017-02-25</td><td>3</td><td>5</td></tr>",
                            "<tr><td>maria1</td><td>Baráth Mária</td><td>2016-05-13</td><td>2016-05-18</td><td>2</td><td>NULL</td></tr>",
                            "<tr><td>maria1</td><td>Baráth Mária</td><td>2016-05-18</td><td>2016-05-19</td><td>1</td><td>2</td></tr>",
                            "<tr><td>maria1</td><td>Baráth Mária</td><td>2016-05-28</td><td>2016-06-03</td><td>2</td><td>3</td></tr>",
                            "<tr><td>maria1</td><td>Baráth Mária</td><td>2016-06-23</td><td>2016-06-27</td><td>1</td><td>5</td></tr>",
                            "<tr><td>maria1</td><td>Baráth Mária</td><td>2016-08-11</td><td>2016-08-14</td><td>3</td><td>4</td></tr>",
                            "<tr><td>maria1</td><td>Baráth Mária</td><td>2016-09-02</td><td>2016-09-05</td><td>1</td><td>6</td></tr>",
                            "<tr><td>maria1</td><td>Baráth Mária</td><td>2016-11-08</td><td>2016-11-12</td><td>3</td><td>5</td></tr>",
                            "<tr><td>maria1</td><td>Baráth Mária</td><td>2017-02-24</td><td>2017-03-02</td><td>2</td><td>7</td></tr>",
                            "<tr><td>mark</td><td>Kispál Márk</td><td>2016-04-19</td><td>2016-04-26</td><td>4</td><td>NULL</td></tr>",
                            "<tr><td>mark</td><td>Kispál Márk</td><td>2016-06-13</td><td>2016-06-18</td><td>3</td><td>4</td></tr>",
                            "<tr><td>mark</td><td>Kispál Márk</td><td>2016-08-09</td><td>2016-08-16</td><td>3</td><td>7</td></tr>",
                            "<tr><td>mark</td><td>Kispál Márk</td><td>2016-10-20</td><td>2016-10-27</td><td>1</td><td>10</td></tr>",
                            "<tr><td>mark</td><td>Kispál Márk</td><td>2016-11-19</td><td>2016-11-22</td><td>2</td><td>7</td></tr>",
                            "<tr><td>MARKH</td><td>Horváth Márk</td><td>2016-09-14</td><td>2016-09-17</td><td>3</td><td>NULL</td></tr>",
                            "<tr><td>MARKH</td><td>Horváth Márk</td><td>2016-09-23</td><td>2016-09-30</td><td>2</td><td>3</td></tr>",
                            "<tr><td>MARKH</td><td>Horváth Márk</td><td>2016-09-26</td><td>2016-10-01</td><td>4</td><td>5</td></tr>",
                            "<tr><td>MARKH</td><td>Horváth Márk</td><td>2017-01-22</td><td>2017-01-29</td><td>4</td><td>9</td></tr>",
                            "<tr><td>marton</td><td>Kalacsi Márton</td><td>2016-04-27</td><td>2016-05-04</td><td>3</td><td>NULL</td></tr>",
                            "<tr><td>marton</td><td>Kalacsi Márton</td><td>2016-05-05</td><td>2016-05-10</td><td>4</td><td>3</td></tr>",
                            "<tr><td>marton</td><td>Kalacsi Márton</td><td>2016-06-06</td><td>2016-06-08</td><td>3</td><td>7</td></tr>",
                            "<tr><td>marton</td><td>Kalacsi Márton</td><td>2016-06-22</td><td>2016-06-29</td><td>2</td><td>10</td></tr>",
                            "<tr><td>marton</td><td>Kalacsi Márton</td><td>2016-08-12</td><td>2016-08-17</td><td>2</td><td>9</td></tr>",
                            "<tr><td>marton</td><td>Kalacsi Márton</td><td>2016-09-10</td><td>2016-09-12</td><td>2</td><td>7</td></tr>",
                            "<tr><td>marton</td><td>Kalacsi Márton</td><td>2017-03-02</td><td>2017-03-03</td><td>2</td><td>6</td></tr>",
                            "<tr><td>MATEK</td><td>Koza Máté</td><td>2016-08-17</td><td>2016-08-21</td><td>4</td><td>NULL</td></tr>",
                            "<tr><td>MATEK</td><td>Koza Máté</td><td>2016-10-01</td><td>2016-10-04</td><td>2</td><td>4</td></tr>",
                            "<tr><td>MATEK</td><td>Koza Máté</td><td>2017-01-16</td><td>2017-01-22</td><td>2</td><td>6</td></tr>",
                            "<tr><td>matyas2</td><td>Botka Mátyás</td><td>2016-07-13</td><td>2016-07-16</td><td>2</td><td>NULL</td></tr>",
                            "<tr><td>matyas2</td><td>Botka Mátyás</td><td>2016-12-09</td><td>2016-12-13</td><td>3</td><td>2</td></tr>",
                            "<tr><td>MATYASS</td><td>Szilágyi Mátyás</td><td>2016-05-10</td><td>2016-05-16</td><td>2</td><td>NULL</td></tr>",
                            "<tr><td>MATYASS</td><td>Szilágyi Mátyás</td><td>2016-06-02</td><td>2016-06-08</td><td>1</td><td>2</td></tr>",
                            "<tr><td>MATYASS</td><td>Szilágyi Mátyás</td><td>2016-07-23</td><td>2016-07-25</td><td>3</td><td>3</td></tr>",
                            "<tr><td>MATYASS</td><td>Szilágyi Mátyás</td><td>2016-10-09</td><td>2016-10-15</td><td>3</td><td>6</td></tr>",
                            "<tr><td>MATYASS</td><td>Szilágyi Mátyás</td><td>2016-10-24</td><td>2016-10-31</td><td>1</td><td>7</td></tr>",
                            "<tr><td>MATYASS</td><td>Szilágyi Mátyás</td><td>2016-10-30</td><td>2016-11-04</td><td>3</td><td>7</td></tr>",
                            "<tr><td>MATYASS</td><td>Szilágyi Mátyás</td><td>2016-12-20</td><td>2016-12-25</td><td>2</td><td>7</td></tr>",
                            "<tr><td>MATYASS</td><td>Szilágyi Mátyás</td><td>2017-01-09</td><td>2017-01-13</td><td>2</td><td>6</td></tr>",
                            "<tr><td>MIHALYJ</td><td>Juhász Mihály</td><td>2016-05-30</td><td>2016-06-01</td><td>2</td><td>NULL</td></tr>",
                            "<tr><td>MIHALYJ</td><td>Juhász Mihály</td><td>2016-06-27</td><td>2016-07-01</td><td>1</td><td>2</td></tr>",
                            "<tr><td>MIHALYJ</td><td>Juhász Mihály</td><td>2016-08-29</td><td>2016-09-03</td><td>1</td><td>3</td></tr>",
                            "<tr><td>MIHALYJ</td><td>Juhász Mihály</td><td>2016-11-01</td><td>2016-11-04</td><td>3</td><td>4</td></tr>",
                            "<tr><td>MIHALYJ</td><td>Juhász Mihály</td><td>2017-02-06</td><td>2017-02-12</td><td>4</td><td>5</td></tr>",
                            "<tr><td>miklos2</td><td>Gondos Miklós</td><td>2016-04-19</td><td>2016-04-21</td><td>3</td><td>NULL</td></tr>",
                            "<tr><td>miklos2</td><td>Gondos Miklós</td><td>2016-10-08</td><td>2016-10-09</td><td>1</td><td>3</td></tr>",
                            "<tr><td>miklos2</td><td>Gondos Miklós</td><td>2016-11-16</td><td>2016-11-18</td><td>3</td><td>4</td></tr>",
                            "<tr><td>MIKLOSB</td><td>Balla Miklós</td><td>2016-06-26</td><td>2016-06-30</td><td>2</td><td>NULL</td></tr>",
                            "<tr><td>MIKLOSB</td><td>Balla Miklós</td><td>2016-07-18</td><td>2016-07-21</td><td>2</td><td>2</td></tr>",
                            "<tr><td>MIKLOSB</td><td>Balla Miklós</td><td>2016-12-05</td><td>2016-12-10</td><td>2</td><td>4</td></tr>",
                            "<tr><td>MONIKAM</td><td>Mohos Mónika</td><td>2016-04-29</td><td>2016-05-01</td><td>2</td><td>NULL</td></tr>",
                            "<tr><td>MONIKAM</td><td>Mohos Mónika</td><td>2016-07-23</td><td>2016-07-30</td><td>1</td><td>2</td></tr>",
                            "<tr><td>MONIKAM</td><td>Mohos Mónika</td><td>2016-11-09</td><td>2016-11-16</td><td>2</td><td>3</td></tr>",
                            "<tr><td>MONIKAM</td><td>Mohos Mónika</td><td>2017-01-17</td><td>2017-01-24</td><td>1</td><td>5</td></tr>",
                            "<tr><td>MONIKAM</td><td>Mohos Mónika</td><td>2017-02-06</td><td>2017-02-09</td><td>2</td><td>4</td></tr>",
                            "<tr><td>MONIKAM</td><td>Mohos Mónika</td><td>2017-02-23</td><td>2017-02-26</td><td>2</td><td>5</td></tr>",
                            "<tr><td>NANDORF</td><td>Fő Nándor</td><td>2016-04-06</td><td>2016-04-10</td><td>3</td><td>NULL</td></tr>",
                            "<tr><td>NANDORF</td><td>Fő Nándor</td><td>2016-11-03</td><td>2016-11-04</td><td>3</td><td>3</td></tr>",
                            "<tr><td>NANDORF</td><td>Fő Nándor</td><td>2017-02-05</td><td>2017-02-08</td><td>3</td><td>6</td></tr>",
                            "<tr><td>nikolett3</td><td>Horváth Nikolett</td><td>2016-05-24</td><td>2016-05-29</td><td>2</td><td>NULL</td></tr>",
                            "<tr><td>nikolett3</td><td>Horváth Nikolett</td><td>2016-06-03</td><td>2016-06-09</td><td>1</td><td>2</td></tr>",
                            "<tr><td>nikolett3</td><td>Horváth Nikolett</td><td>2016-06-22</td><td>2016-06-24</td><td>1</td><td>3</td></tr>",
                            "<tr><td>nikolett3</td><td>Horváth Nikolett</td><td>2016-10-22</td><td>2016-10-29</td><td>3</td><td>4</td></tr>",
                            "<tr><td>nikoletta4</td><td>Kő Nikoletta</td><td>2016-04-08</td><td>2016-04-10</td><td>2</td><td>NULL</td></tr>",
                            "<tr><td>nikoletta4</td><td>Kő Nikoletta</td><td>2016-05-09</td><td>2016-05-15</td><td>2</td><td>2</td></tr>",
                            "<tr><td>nikoletta4</td><td>Kő Nikoletta</td><td>2016-05-30</td><td>2016-06-03</td><td>3</td><td>4</td></tr>",
                            "<tr><td>nikoletta4</td><td>Kő Nikoletta</td><td>2016-06-29</td><td>2016-07-06</td><td>2</td><td>7</td></tr>",
                            "<tr><td>nikoletta4</td><td>Kő Nikoletta</td><td>2016-08-13</td><td>2016-08-17</td><td>3</td><td>7</td></tr>",
                            "<tr><td>nikoletta4</td><td>Kő Nikoletta</td><td>2016-12-08</td><td>2016-12-10</td><td>5</td><td>8</td></tr>",
                            "<tr><td>nikoletta4</td><td>Kő Nikoletta</td><td>2017-02-01</td><td>2017-02-04</td><td>2</td><td>10</td></tr>",
                            "<tr><td>NIKOLETTAT</td><td>Tatár Nikoletta</td><td>2016-06-07</td><td>2016-06-09</td><td>2</td><td>NULL</td></tr>",
                            "<tr><td>NIKOLETTAT</td><td>Tatár Nikoletta</td><td>2016-07-27</td><td>2016-07-29</td><td>4</td><td>2</td></tr>",
                            "<tr><td>NIKOLETTAT</td><td>Tatár Nikoletta</td><td>2016-09-21</td><td>2016-09-26</td><td>2</td><td>6</td></tr>",
                            "<tr><td>norbert</td><td>Szűcs Norbert</td><td>2016-07-08</td><td>2016-07-13</td><td>1</td><td>NULL</td></tr>",
                            "<tr><td>norbert</td><td>Szűcs Norbert</td><td>2016-11-16</td><td>2016-11-23</td><td>3</td><td>1</td></tr>",
                            "<tr><td>norbert</td><td>Szűcs Norbert</td><td>2016-12-15</td><td>2016-12-18</td><td>2</td><td>4</td></tr>",
                            "<tr><td>norbert</td><td>Szűcs Norbert</td><td>2017-02-13</td><td>2017-02-15</td><td>3</td><td>6</td></tr>",
                            "<tr><td>norbert</td><td>Szűcs Norbert</td><td>2017-02-26</td><td>2017-03-01</td><td>1</td><td>8</td></tr>",
                            "<tr><td>norbert2</td><td>Hegedűs Norbert</td><td>2016-04-19</td><td>2016-04-26</td><td>1</td><td>NULL</td></tr>",
                            "<tr><td>norbert2</td><td>Hegedűs Norbert</td><td>2016-05-09</td><td>2016-05-10</td><td>2</td><td>1</td></tr>",
                            "<tr><td>norbert2</td><td>Hegedűs Norbert</td><td>2016-07-13</td><td>2016-07-15</td><td>3</td><td>3</td></tr>",
                            "<tr><td>norbert2</td><td>Hegedűs Norbert</td><td>2016-07-27</td><td>2016-08-02</td><td>2</td><td>6</td></tr>",
                            "<tr><td>norbert2</td><td>Hegedűs Norbert</td><td>2016-08-16</td><td>2016-08-19</td><td>1</td><td>7</td></tr>",
                            "<tr><td>norbert2</td><td>Hegedűs Norbert</td><td>2016-10-31</td><td>2016-11-07</td><td>2</td><td>6</td></tr>",
                            "<tr><td>norbert2</td><td>Hegedűs Norbert</td><td>2017-01-29</td><td>2017-02-05</td><td>3</td><td>5</td></tr>",
                            "<tr><td>norbert4</td><td>Mile Norbert</td><td>2016-04-10</td><td>2016-04-13</td><td>2</td><td>NULL</td></tr>",
                            "<tr><td>norbert4</td><td>Mile Norbert</td><td>2016-05-29</td><td>2016-06-03</td><td>3</td><td>2</td></tr>",
                            "<tr><td>norbert4</td><td>Mile Norbert</td><td>2016-06-16</td><td>2016-06-17</td><td>4</td><td>5</td></tr>",
                            "<tr><td>norbert4</td><td>Mile Norbert</td><td>2016-06-16</td><td>2016-06-21</td><td>3</td><td>9</td></tr>",
                            "<tr><td>norbert4</td><td>Mile Norbert</td><td>2016-10-05</td><td>2016-10-10</td><td>3</td><td>10</td></tr>",
                            "<tr><td>norbert4</td><td>Mile Norbert</td><td>2016-10-28</td><td>2016-10-31</td><td>3</td><td>10</td></tr>",
                            "<tr><td>norbert4</td><td>Mile Norbert</td><td>2016-11-30</td><td>2016-12-06</td><td>3</td><td>9</td></tr>",
                            "<tr><td>norbert4</td><td>Mile Norbert</td><td>2017-02-16</td><td>2017-02-17</td><td>1</td><td>9</td></tr>",
                            "<tr><td>norbert4</td><td>Mile Norbert</td><td>2017-03-03</td><td>2017-03-07</td><td>2</td><td>7</td></tr>",
                            "<tr><td>norbert5</td><td>Béres Norbert</td><td>2016-06-24</td><td>2016-06-28</td><td>2</td><td>NULL</td></tr>",
                            "<tr><td>norbert5</td><td>Béres Norbert</td><td>2016-08-10</td><td>2016-08-11</td><td>2</td><td>2</td></tr>",
                            "<tr><td>norbert5</td><td>Béres Norbert</td><td>2016-11-05</td><td>2016-11-07</td><td>1</td><td>4</td></tr>",
                            "<tr><td>pal</td><td>Barabás Pál</td><td>2016-08-14</td><td>2016-08-18</td><td>3</td><td>NULL</td></tr>",
                            "<tr><td>pal</td><td>Barabás Pál</td><td>2016-09-16</td><td>2016-09-19</td><td>2</td><td>3</td></tr>",
                            "<tr><td>pal</td><td>Barabás Pál</td><td>2016-12-17</td><td>2016-12-23</td><td>3</td><td>5</td></tr>",
                            "<tr><td>pal</td><td>Barabás Pál</td><td>2017-02-13</td><td>2017-02-19</td><td>3</td><td>8</td></tr>",
                            "<tr><td>pal</td><td>Barabás Pál</td><td>2017-02-20</td><td>2017-02-22</td><td>3</td><td>8</td></tr>",
                            "<tr><td>peter1</td><td>Kozma Péter</td><td>2016-07-14</td><td>2016-07-18</td><td>3</td><td>NULL</td></tr>",
                            "<tr><td>peter1</td><td>Kozma Péter</td><td>2016-10-26</td><td>2016-11-01</td><td>3</td><td>3</td></tr>",
                            "<tr><td>peter1</td><td>Kozma Péter</td><td>2017-02-23</td><td>2017-02-26</td><td>3</td><td>6</td></tr>",
                            "<tr><td>peter1</td><td>Kozma Péter</td><td>2017-02-28</td><td>2017-03-05</td><td>3</td><td>9</td></tr>",
                            "<tr><td>peter2</td><td>Bozsó Péter</td><td>2016-07-03</td><td>2016-07-08</td><td>2</td><td>NULL</td></tr>",
                            "<tr><td>peter2</td><td>Bozsó Péter</td><td>2016-10-10</td><td>2016-10-16</td><td>2</td><td>2</td></tr>",
                            "<tr><td>peter2</td><td>Bozsó Péter</td><td>2016-11-01</td><td>2016-11-02</td><td>2</td><td>4</td></tr>",
                            "<tr><td>peter2</td><td>Bozsó Péter</td><td>2016-11-15</td><td>2016-11-21</td><td>3</td><td>6</td></tr>",
                            "<tr><td>peter3</td><td>Szalai Péter</td><td>2016-06-30</td><td>2016-07-05</td><td>3</td><td>NULL</td></tr>",
                            "<tr><td>peter3</td><td>Szalai Péter</td><td>2016-07-27</td><td>2016-07-31</td><td>4</td><td>3</td></tr>",
                            "<tr><td>peter3</td><td>Szalai Péter</td><td>2016-10-30</td><td>2016-11-06</td><td>2</td><td>7</td></tr>",
                            "<tr><td>peter3</td><td>Szalai Péter</td><td>2016-12-25</td><td>2016-12-28</td><td>1</td><td>9</td></tr>",
                            "<tr><td>peter3</td><td>Szalai Péter</td><td>2017-01-12</td><td>2017-01-17</td><td>1</td><td>7</td></tr>",
                            "<tr><td>peter3</td><td>Szalai Péter</td><td>2017-02-21</td><td>2017-02-24</td><td>2</td><td>4</td></tr>",
                            "<tr><td>peter4</td><td>Bíró Péter</td><td>2016-04-12</td><td>2016-04-15</td><td>3</td><td>NULL</td></tr>",
                            "<tr><td>peter4</td><td>Bíró Péter</td><td>2016-08-06</td><td>2016-08-13</td><td>2</td><td>3</td></tr>",
                            "<tr><td>peter4</td><td>Bíró Péter</td><td>2016-08-24</td><td>2016-08-25</td><td>3</td><td>5</td></tr>",
                            "<tr><td>peter4</td><td>Bíró Péter</td><td>2016-09-11</td><td>2016-09-17</td><td>4</td><td>8</td></tr>",
                            "<tr><td>peter4</td><td>Bíró Péter</td><td>2016-09-25</td><td>2016-09-26</td><td>3</td><td>9</td></tr>",
                            "<tr><td>peter4</td><td>Bíró Péter</td><td>2016-09-30</td><td>2016-10-06</td><td>3</td><td>10</td></tr>",
                            "<tr><td>peter4</td><td>Bíró Péter</td><td>2016-10-09</td><td>2016-10-16</td><td>3</td><td>10</td></tr>",
                            "<tr><td>peter4</td><td>Bíró Péter</td><td>2016-10-24</td><td>2016-10-25</td><td>2</td><td>9</td></tr>",
                            "<tr><td>peter4</td><td>Bíró Péter</td><td>2016-10-30</td><td>2016-11-01</td><td>3</td><td>8</td></tr>",
                            "<tr><td>peter4</td><td>Bíró Péter</td><td>2016-11-10</td><td>2016-11-17</td><td>3</td><td>8</td></tr>",
                            "<tr><td>peter4</td><td>Bíró Péter</td><td>2016-11-25</td><td>2016-11-30</td><td>3</td><td>8</td></tr>",
                            "<tr><td>peter4</td><td>Bíró Péter</td><td>2017-02-05</td><td>2017-02-09</td><td>3</td><td>9</td></tr>",
                            "<tr><td>PETERB</td><td>Berendi Péter</td><td>2016-04-06</td><td>2016-04-10</td><td>1</td><td>NULL</td></tr>",
                            "<tr><td>PETERB</td><td>Berendi Péter</td><td>2016-07-20</td><td>2016-07-24</td><td>2</td><td>1</td></tr>",
                            "<tr><td>PETERB</td><td>Berendi Péter</td><td>2016-08-16</td><td>2016-08-23</td><td>1</td><td>3</td></tr>",
                            "<tr><td>PETERB</td><td>Berendi Péter</td><td>2016-10-19</td><td>2016-10-20</td><td>4</td><td>4</td></tr>",
                            "<tr><td>PETERB</td><td>Berendi Péter</td><td>2016-11-17</td><td>2016-11-20</td><td>2</td><td>7</td></tr>",
                            "<tr><td>polla</td><td>Palágyi Polla</td><td>2016-04-17</td><td>2016-04-22</td><td>3</td><td>NULL</td></tr>",
                            "<tr><td>polla</td><td>Palágyi Polla</td><td>2016-05-28</td><td>2016-06-04</td><td>2</td><td>3</td></tr>",
                            "<tr><td>polla</td><td>Palágyi Polla</td><td>2016-08-14</td><td>2016-08-17</td><td>2</td><td>5</td></tr>",
                            "<tr><td>polla</td><td>Palágyi Polla</td><td>2016-08-16</td><td>2016-08-19</td><td>4</td><td>7</td></tr>",
                            "<tr><td>polla</td><td>Palágyi Polla</td><td>2017-01-29</td><td>2017-02-01</td><td>2</td><td>8</td></tr>",
                            "<tr><td>polla</td><td>Palágyi Polla</td><td>2017-02-11</td><td>2017-02-16</td><td>2</td><td>8</td></tr>",
                            "<tr><td>rajmond4</td><td>Rácz Rajmond</td><td>2016-09-05</td><td>2016-09-07</td><td>3</td><td>NULL</td></tr>",
                            "<tr><td>rajmond4</td><td>Rácz Rajmond</td><td>2016-10-03</td><td>2016-10-04</td><td>3</td><td>3</td></tr>",
                            "<tr><td>rajmond4</td><td>Rácz Rajmond</td><td>2016-11-08</td><td>2016-11-09</td><td>4</td><td>6</td></tr>",
                            "<tr><td>rajmond4</td><td>Rácz Rajmond</td><td>2016-11-16</td><td>2016-11-20</td><td>2</td><td>10</td></tr>",
                            "<tr><td>reka4</td><td>Szikszai Réka</td><td>2016-07-27</td><td>2016-07-31</td><td>2</td><td>NULL</td></tr>",
                            "<tr><td>reka4</td><td>Szikszai Réka</td><td>2016-08-02</td><td>2016-08-04</td><td>4</td><td>2</td></tr>",
                            "<tr><td>reka4</td><td>Szikszai Réka</td><td>2016-09-05</td><td>2016-09-07</td><td>3</td><td>6</td></tr>",
                            "<tr><td>reka4</td><td>Szikszai Réka</td><td>2016-09-30</td><td>2016-10-06</td><td>2</td><td>9</td></tr>",
                            "<tr><td>reka4</td><td>Szikszai Réka</td><td>2017-02-26</td><td>2017-03-04</td><td>2</td><td>9</td></tr>",
                            "<tr><td>RENATAK</td><td>Kardos Renáta</td><td>2016-10-27</td><td>2016-10-29</td><td>4</td><td>NULL</td></tr>",
                            "<tr><td>RENATAK</td><td>Kardos Renáta</td><td>2016-10-30</td><td>2016-10-31</td><td>1</td><td>4</td></tr>",
                            "<tr><td>RENATAK</td><td>Kardos Renáta</td><td>2016-11-23</td><td>2016-11-26</td><td>1</td><td>5</td></tr>",
                            "<tr><td>RENATAK</td><td>Kardos Renáta</td><td>2017-02-16</td><td>2017-02-23</td><td>1</td><td>6</td></tr>",
                            "<tr><td>RENATAK</td><td>Kardos Renáta</td><td>2017-03-01</td><td>2017-03-06</td><td>1</td><td>3</td></tr>",
                            "<tr><td>RENATAS</td><td>Szirmai Renáta</td><td>2016-05-04</td><td>2016-05-11</td><td>2</td><td>NULL</td></tr>",
                            "<tr><td>RENATAS</td><td>Szirmai Renáta</td><td>2016-05-11</td><td>2016-05-16</td><td>2</td><td>2</td></tr>",
                            "<tr><td>RENATAS</td><td>Szirmai Renáta</td><td>2016-06-24</td><td>2016-06-30</td><td>5</td><td>4</td></tr>",
                            "<tr><td>RENATAS</td><td>Szirmai Renáta</td><td>2017-02-13</td><td>2017-02-17</td><td>1</td><td>9</td></tr>",
                            "<tr><td>RENATAS</td><td>Szirmai Renáta</td><td>2017-02-14</td><td>2017-02-17</td><td>2</td><td>8</td></tr>",
                            "<tr><td>robert2</td><td>Patay Róbert</td><td>2016-05-15</td><td>2016-05-18</td><td>2</td><td>NULL</td></tr>",
                            "<tr><td>robert2</td><td>Patay Róbert</td><td>2016-08-20</td><td>2016-08-27</td><td>2</td><td>2</td></tr>",
                            "<tr><td>robert2</td><td>Patay Róbert</td><td>2016-10-23</td><td>2016-10-28</td><td>3</td><td>4</td></tr>",
                            "<tr><td>robert2</td><td>Patay Róbert</td><td>2016-12-17</td><td>2016-12-22</td><td>1</td><td>7</td></tr>",
                            "<tr><td>ROBERTI</td><td>Iván Róbert</td><td>2016-07-12</td><td>2016-07-19</td><td>4</td><td>NULL</td></tr>",
                            "<tr><td>ROBERTI</td><td>Iván Róbert</td><td>2016-08-16</td><td>2016-08-21</td><td>2</td><td>4</td></tr>",
                            "<tr><td>ROBERTI</td><td>Iván Róbert</td><td>2016-08-23</td><td>2016-08-25</td><td>2</td><td>6</td></tr>",
                            "<tr><td>ROBERTI</td><td>Iván Róbert</td><td>2016-10-08</td><td>2016-10-12</td><td>3</td><td>8</td></tr>",
                            "<tr><td>ROBERTI</td><td>Iván Róbert</td><td>2016-10-09</td><td>2016-10-10</td><td>2</td><td>7</td></tr>",
                            "<tr><td>ROBERTI</td><td>Iván Róbert</td><td>2016-10-23</td><td>2016-10-29</td><td>1</td><td>7</td></tr>",
                            "<tr><td>ROBERTI</td><td>Iván Róbert</td><td>2016-10-26</td><td>2016-11-01</td><td>2</td><td>6</td></tr>",
                            "<tr><td>ROBERTI</td><td>Iván Róbert</td><td>2017-02-17</td><td>2017-02-20</td><td>2</td><td>5</td></tr>",
                            "<tr><td>ROBERTP</td><td>Pásztor Róbert</td><td>2016-07-30</td><td>2016-08-05</td><td>2</td><td>NULL</td></tr>",
                            "<tr><td>ROBERTP</td><td>Pásztor Róbert</td><td>2016-09-08</td><td>2016-09-11</td><td>4</td><td>2</td></tr>",
                            "<tr><td>roland</td><td>Tóth Roland</td><td>2016-06-09</td><td>2016-06-13</td><td>3</td><td>NULL</td></tr>",
                            "<tr><td>roland</td><td>Tóth Roland</td><td>2016-06-22</td><td>2016-06-23</td><td>3</td><td>3</td></tr>",
                            "<tr><td>roland</td><td>Tóth Roland</td><td>2016-09-04</td><td>2016-09-05</td><td>2</td><td>6</td></tr>",
                            "<tr><td>roland</td><td>Tóth Roland</td><td>2016-11-19</td><td>2016-11-24</td><td>2</td><td>8</td></tr>",
                            "<tr><td>roland1</td><td>Ferencz Roland</td><td>2016-11-05</td><td>2016-11-07</td><td>3</td><td>NULL</td></tr>",
                            "<tr><td>roland1</td><td>Ferencz Roland</td><td>2016-12-22</td><td>2016-12-29</td><td>1</td><td>3</td></tr>",
                            "<tr><td>roland1</td><td>Ferencz Roland</td><td>2017-01-04</td><td>2017-01-08</td><td>3</td><td>4</td></tr>",
                            "<tr><td>roland1</td><td>Ferencz Roland</td><td>2017-01-16</td><td>2017-01-22</td><td>2</td><td>7</td></tr>",
                            "<tr><td>roza2</td><td>Bucskó Róza</td><td>2016-09-10</td><td>2016-09-13</td><td>2</td><td>NULL</td></tr>",
                            "<tr><td>roza2</td><td>Bucskó Róza</td><td>2017-01-11</td><td>2017-01-17</td><td>3</td><td>2</td></tr>",
                            "<tr><td>roza2</td><td>Bucskó Róza</td><td>2017-02-18</td><td>2017-02-21</td><td>3</td><td>5</td></tr>",
                            "<tr><td>sandor</td><td>Karasz Sándor</td><td>2016-07-04</td><td>2016-07-06</td><td>2</td><td>NULL</td></tr>",
                            "<tr><td>sandor</td><td>Karasz Sándor</td><td>2016-07-18</td><td>2016-07-24</td><td>2</td><td>2</td></tr>",
                            "<tr><td>sandor</td><td>Karasz Sándor</td><td>2016-08-20</td><td>2016-08-25</td><td>2</td><td>4</td></tr>",
                            "<tr><td>sandor3</td><td>Farkas Sándor</td><td>2016-05-12</td><td>2016-05-15</td><td>2</td><td>NULL</td></tr>",
                            "<tr><td>sandor3</td><td>Farkas Sándor</td><td>2016-05-25</td><td>2016-05-30</td><td>1</td><td>2</td></tr>",
                            "<tr><td>sandor3</td><td>Farkas Sándor</td><td>2016-10-09</td><td>2016-10-14</td><td>2</td><td>3</td></tr>",
                            "<tr><td>sandor3</td><td>Farkas Sándor</td><td>2016-10-23</td><td>2016-10-29</td><td>3</td><td>5</td></tr>",
                            "<tr><td>sandor3</td><td>Farkas Sándor</td><td>2016-11-10</td><td>2016-11-11</td><td>2</td><td>6</td></tr>",
                            "<tr><td>sandor4</td><td>Nagy Sándor</td><td>2016-10-15</td><td>2016-10-18</td><td>1</td><td>NULL</td></tr>",
                            "<tr><td>sandor4</td><td>Nagy Sándor</td><td>2016-11-29</td><td>2016-12-03</td><td>2</td><td>1</td></tr>",
                            "<tr><td>sandor4</td><td>Nagy Sándor</td><td>2016-12-03</td><td>2016-12-09</td><td>1</td><td>3</td></tr>",
                            "<tr><td>sandor4</td><td>Nagy Sándor</td><td>2017-01-22</td><td>2017-01-26</td><td>2</td><td>4</td></tr>",
                            "<tr><td>sara</td><td>Farkas Sára</td><td>2016-05-28</td><td>2016-05-30</td><td>2</td><td>NULL</td></tr>",
                            "<tr><td>sara</td><td>Farkas Sára</td><td>2016-05-30</td><td>2016-05-31</td><td>2</td><td>2</td></tr>",
                            "<tr><td>sara</td><td>Farkas Sára</td><td>2016-06-06</td><td>2016-06-08</td><td>2</td><td>4</td></tr>",
                            "<tr><td>sara</td><td>Farkas Sára</td><td>2016-07-15</td><td>2016-07-17</td><td>3</td><td>6</td></tr>",
                            "<tr><td>sara</td><td>Farkas Sára</td><td>2016-07-24</td><td>2016-07-27</td><td>3</td><td>7</td></tr>",
                            "<tr><td>sara</td><td>Farkas Sára</td><td>2016-10-06</td><td>2016-10-12</td><td>3</td><td>8</td></tr>",
                            "<tr><td>sara</td><td>Farkas Sára</td><td>2016-10-11</td><td>2016-10-14</td><td>3</td><td>9</td></tr>",
                            "<tr><td>sara</td><td>Farkas Sára</td><td>2016-10-28</td><td>2016-11-03</td><td>2</td><td>9</td></tr>",
                            "<tr><td>sara</td><td>Farkas Sára</td><td>2016-11-18</td><td>2016-11-21</td><td>3</td><td>8</td></tr>",
                            "<tr><td>sara</td><td>Farkas Sára</td><td>2016-12-06</td><td>2016-12-10</td><td>1</td><td>8</td></tr>",
                            "<tr><td>sara</td><td>Farkas Sára</td><td>2016-12-25</td><td>2016-12-30</td><td>2</td><td>6</td></tr>",
                            "<tr><td>SEBASTIANF</td><td>Foltényi Sebastián</td><td>2016-04-06</td><td>2016-04-12</td><td>2</td><td>NULL</td></tr>",
                            "<tr><td>SEBASTIANF</td><td>Foltényi Sebastián</td><td>2016-07-17</td><td>2016-07-21</td><td>2</td><td>2</td></tr>",
                            "<tr><td>SEBASTIANF</td><td>Foltényi Sebastián</td><td>2016-07-30</td><td>2016-08-06</td><td>4</td><td>4</td></tr>",
                            "<tr><td>SEBASTIANF</td><td>Foltényi Sebastián</td><td>2016-09-14</td><td>2016-09-15</td><td>3</td><td>8</td></tr>",
                            "<tr><td>SEBASTIANF</td><td>Foltényi Sebastián</td><td>2016-09-17</td><td>2016-09-20</td><td>3</td><td>9</td></tr>",
                            "<tr><td>sebestyen</td><td>Rab Sebestyén</td><td>2016-04-07</td><td>2016-04-12</td><td>4</td><td>NULL</td></tr>",
                            "<tr><td>sebestyen</td><td>Rab Sebestyén</td><td>2016-04-26</td><td>2016-05-02</td><td>4</td><td>4</td></tr>",
                            "<tr><td>sebestyen</td><td>Rab Sebestyén</td><td>2016-06-09</td><td>2016-06-14</td><td>4</td><td>8</td></tr>",
                            "<tr><td>sebestyen</td><td>Rab Sebestyén</td><td>2016-10-26</td><td>2016-11-01</td><td>5</td><td>12</td></tr>",
                            "<tr><td>szabolcs</td><td>Bodor Szabolcs</td><td>2016-12-05</td><td>2016-12-07</td><td>2</td><td>NULL</td></tr>",
                            "<tr><td>SZABOLCSM</td><td>Miklós Szabolcs</td><td>2016-06-18</td><td>2016-06-21</td><td>3</td><td>NULL</td></tr>",
                            "<tr><td>SZABOLCSM</td><td>Miklós Szabolcs</td><td>2016-07-28</td><td>2016-08-03</td><td>2</td><td>3</td></tr>",
                            "<tr><td>SZABOLCSM</td><td>Miklós Szabolcs</td><td>2016-10-17</td><td>2016-10-19</td><td>2</td><td>5</td></tr>",
                            "<tr><td>SZABOLCSM</td><td>Miklós Szabolcs</td><td>2016-10-28</td><td>2016-11-03</td><td>3</td><td>7</td></tr>",
                            "<tr><td>SZABOLCSM</td><td>Miklós Szabolcs</td><td>2016-11-12</td><td>2016-11-13</td><td>2</td><td>7</td></tr>",
                            "<tr><td>SZABOLCSM</td><td>Miklós Szabolcs</td><td>2017-01-07</td><td>2017-01-08</td><td>2</td><td>7</td></tr>",
                            "<tr><td>SZABOLCSM</td><td>Miklós Szabolcs</td><td>2017-02-04</td><td>2017-02-05</td><td>3</td><td>7</td></tr>",
                            "<tr><td>SZILARDS</td><td>Szalai Szilárd</td><td>2016-04-23</td><td>2016-04-30</td><td>3</td><td>NULL</td></tr>",
                            "<tr><td>SZILARDS</td><td>Szalai Szilárd</td><td>2016-07-27</td><td>2016-08-03</td><td>5</td><td>3</td></tr>",
                            "<tr><td>SZILARDS</td><td>Szalai Szilárd</td><td>2016-08-28</td><td>2016-08-29</td><td>4</td><td>8</td></tr>",
                            "<tr><td>SZILARDS</td><td>Szalai Szilárd</td><td>2016-09-20</td><td>2016-09-24</td><td>3</td><td>12</td></tr>",
                            "<tr><td>SZILARDS</td><td>Szalai Szilárd</td><td>2016-10-01</td><td>2016-10-08</td><td>3</td><td>12</td></tr>",
                            "<tr><td>SZILARDS</td><td>Szalai Szilárd</td><td>2017-01-16</td><td>2017-01-19</td><td>3</td><td>10</td></tr>",
                            "<tr><td>SZILARDS</td><td>Szalai Szilárd</td><td>2017-02-08</td><td>2017-02-15</td><td>1</td><td>9</td></tr>",
                            "<tr><td>szilvia1</td><td>Tari Szilvia</td><td>2016-05-14</td><td>2016-05-21</td><td>2</td><td>NULL</td></tr>",
                            "<tr><td>szilvia1</td><td>Tari Szilvia</td><td>2016-05-28</td><td>2016-06-03</td><td>2</td><td>2</td></tr>",
                            "<tr><td>szilvia1</td><td>Tari Szilvia</td><td>2016-07-25</td><td>2016-07-28</td><td>2</td><td>4</td></tr>",
                            "<tr><td>szilvia1</td><td>Tari Szilvia</td><td>2016-10-09</td><td>2016-10-10</td><td>3</td><td>6</td></tr>",
                            "<tr><td>szilvia1</td><td>Tari Szilvia</td><td>2016-10-25</td><td>2016-10-31</td><td>3</td><td>7</td></tr>",
                            "<tr><td>szilvia1</td><td>Tari Szilvia</td><td>2016-10-27</td><td>2016-10-28</td><td>2</td><td>8</td></tr>",
                            "<tr><td>szilvia1</td><td>Tari Szilvia</td><td>2016-12-25</td><td>2016-12-29</td><td>5</td><td>8</td></tr>",
                            "<tr><td>szilvia1</td><td>Tari Szilvia</td><td>2016-12-27</td><td>2017-01-02</td><td>2</td><td>10</td></tr>",
                            "<tr><td>szilvia1</td><td>Tari Szilvia</td><td>2017-01-28</td><td>2017-02-03</td><td>2</td><td>9</td></tr>",
                            "<tr><td>tamara2</td><td>Miklós Tamara</td><td>2016-08-12</td><td>2016-08-15</td><td>3</td><td>NULL</td></tr>",
                            "<tr><td>tamara2</td><td>Miklós Tamara</td><td>2016-11-15</td><td>2016-11-18</td><td>2</td><td>3</td></tr>",
                            "<tr><td>tamas</td><td>Antal Tamás</td><td>2016-05-17</td><td>2016-05-22</td><td>2</td><td>NULL</td></tr>",
                            "<tr><td>tamas</td><td>Antal Tamás</td><td>2016-06-14</td><td>2016-06-21</td><td>2</td><td>2</td></tr>",
                            "<tr><td>tamas</td><td>Antal Tamás</td><td>2016-08-24</td><td>2016-08-27</td><td>3</td><td>4</td></tr>",
                            "<tr><td>tamas</td><td>Antal Tamás</td><td>2017-02-14</td><td>2017-02-19</td><td>3</td><td>7</td></tr>",
                            "<tr><td>TAMASF</td><td>Fényes Tamás</td><td>2016-05-03</td><td>2016-05-04</td><td>2</td><td>NULL</td></tr>",
                            "<tr><td>TAMASF</td><td>Fényes Tamás</td><td>2016-06-10</td><td>2016-06-13</td><td>3</td><td>2</td></tr>",
                            "<tr><td>TAMASF</td><td>Fényes Tamás</td><td>2016-06-28</td><td>2016-07-05</td><td>3</td><td>5</td></tr>",
                            "<tr><td>TAMASF</td><td>Fényes Tamás</td><td>2016-07-04</td><td>2016-07-10</td><td>2</td><td>8</td></tr>",
                            "<tr><td>TAMASF</td><td>Fényes Tamás</td><td>2016-09-12</td><td>2016-09-18</td><td>3</td><td>8</td></tr>",
                            "<tr><td>TAMASF</td><td>Fényes Tamás</td><td>2016-12-02</td><td>2016-12-04</td><td>1</td><td>8</td></tr>",
                            "<tr><td>TAMASF</td><td>Fényes Tamás</td><td>2016-12-10</td><td>2016-12-14</td><td>3</td><td>6</td></tr>",
                            "<tr><td>TAMASF</td><td>Fényes Tamás</td><td>2017-02-12</td><td>2017-02-17</td><td>2</td><td>7</td></tr>",
                            "<tr><td>TAMASF</td><td>Fényes Tamás</td><td>2017-02-16</td><td>2017-02-19</td><td>4</td><td>6</td></tr>",
                            "<tr><td>tibor</td><td>Gombos Tibor</td><td>2016-10-09</td><td>2016-10-13</td><td>2</td><td>NULL</td></tr>",
                            "<tr><td>tibor</td><td>Gombos Tibor</td><td>2016-11-05</td><td>2016-11-09</td><td>1</td><td>2</td></tr>",
                            "<tr><td>tibor2</td><td>Dániel Tibor</td><td>2016-10-20</td><td>2016-10-25</td><td>2</td><td>NULL</td></tr>",
                            "<tr><td>tihamer</td><td>Kazy Tihamér</td><td>2016-05-30</td><td>2016-06-05</td><td>1</td><td>NULL</td></tr>",
                            "<tr><td>tihamer</td><td>Kazy Tihamér</td><td>2016-06-03</td><td>2016-06-08</td><td>5</td><td>1</td></tr>",
                            "<tr><td>tihamer</td><td>Kazy Tihamér</td><td>2016-07-20</td><td>2016-07-24</td><td>3</td><td>6</td></tr>",
                            "<tr><td>tihamer</td><td>Kazy Tihamér</td><td>2016-08-18</td><td>2016-08-22</td><td>3</td><td>9</td></tr>",
                            "<tr><td>tihamer</td><td>Kazy Tihamér</td><td>2016-10-19</td><td>2016-10-23</td><td>2</td><td>11</td></tr>",
                            "<tr><td>tihamer</td><td>Kazy Tihamér</td><td>2016-12-25</td><td>2016-12-26</td><td>2</td><td>8</td></tr>",
                            "<tr><td>timea</td><td>Papós Tímea</td><td>2016-12-26</td><td>2016-12-27</td><td>2</td><td>NULL</td></tr>",
                            "<tr><td>timea2</td><td>Dusha Tímea</td><td>2016-06-06</td><td>2016-06-07</td><td>2</td><td>NULL</td></tr>",
                            "<tr><td>timea2</td><td>Dusha Tímea</td><td>2016-08-07</td><td>2016-08-10</td><td>3</td><td>2</td></tr>",
                            "<tr><td>timea2</td><td>Dusha Tímea</td><td>2016-10-26</td><td>2016-10-29</td><td>3</td><td>5</td></tr>",
                            "<tr><td>timea2</td><td>Dusha Tímea</td><td>2016-11-27</td><td>2016-12-01</td><td>4</td><td>8</td></tr>",
                            "<tr><td>timea2</td><td>Dusha Tímea</td><td>2016-12-14</td><td>2016-12-16</td><td>4</td><td>10</td></tr>",
                            "<tr><td>tunde</td><td>Turcsik Tünde</td><td>2016-06-03</td><td>2016-06-07</td><td>3</td><td>NULL</td></tr>",
                            "<tr><td>tunde</td><td>Turcsik Tünde</td><td>2016-06-06</td><td>2016-06-12</td><td>3</td><td>3</td></tr>",
                            "<tr><td>tunde</td><td>Turcsik Tünde</td><td>2016-07-14</td><td>2016-07-21</td><td>1</td><td>6</td></tr>",
                            "<tr><td>tunde</td><td>Turcsik Tünde</td><td>2016-09-05</td><td>2016-09-12</td><td>2</td><td>7</td></tr>",
                            "<tr><td>tunde</td><td>Turcsik Tünde</td><td>2016-10-24</td><td>2016-10-30</td><td>3</td><td>6</td></tr>",
                            "<tr><td>tunde</td><td>Turcsik Tünde</td><td>2016-11-19</td><td>2016-11-20</td><td>3</td><td>6</td></tr>",
                            "<tr><td>tunde</td><td>Turcsik Tünde</td><td>2016-12-15</td><td>2016-12-20</td><td>3</td><td>8</td></tr>",
                            "<tr><td>tunde</td><td>Turcsik Tünde</td><td>2017-01-03</td><td>2017-01-06</td><td>5</td><td>9</td></tr>",
                            "<tr><td>valentin</td><td>Feró Valentin</td><td>2016-05-24</td><td>2016-05-30</td><td>4</td><td>NULL</td></tr>",
                            "<tr><td>valentin</td><td>Feró Valentin</td><td>2016-07-24</td><td>2016-07-29</td><td>1</td><td>4</td></tr>",
                            "<tr><td>valentin</td><td>Feró Valentin</td><td>2016-10-26</td><td>2016-10-30</td><td>3</td><td>5</td></tr>",
                            "<tr><td>valentin</td><td>Feró Valentin</td><td>2016-11-11</td><td>2016-11-17</td><td>3</td><td>8</td></tr>",
                            "<tr><td>valentin</td><td>Feró Valentin</td><td>2016-12-01</td><td>2016-12-05</td><td>3</td><td>7</td></tr>",
                            "<tr><td>veronika4</td><td>Tankó Veronika</td><td>2016-05-30</td><td>2016-06-04</td><td>2</td><td>NULL</td></tr>",
                            "<tr><td>veronika4</td><td>Tankó Veronika</td><td>2016-07-20</td><td>2016-07-26</td><td>3</td><td>2</td></tr>",
                            "<tr><td>veronika4</td><td>Tankó Veronika</td><td>2016-08-16</td><td>2016-08-21</td><td>1</td><td>5</td></tr>",
                            "<tr><td>veronika4</td><td>Tankó Veronika</td><td>2016-09-26</td><td>2016-10-03</td><td>2</td><td>6</td></tr>",
                            "<tr><td>veronika4</td><td>Tankó Veronika</td><td>2017-01-19</td><td>2017-01-24</td><td>3</td><td>6</td></tr>",
                            "<tr><td>veronika4</td><td>Tankó Veronika</td><td>2017-02-03</td><td>2017-02-05</td><td>2</td><td>6</td></tr>",
                            "<tr><td>VIKTORIAU</td><td>Urbán Viktoria</td><td>2016-04-30</td><td>2016-05-03</td><td>1</td><td>NULL</td></tr>",
                            "<tr><td>VIKTORIAU</td><td>Urbán Viktoria</td><td>2016-08-03</td><td>2016-08-04</td><td>2</td><td>1</td></tr>",
                            "<tr><td>VIKTORIAU</td><td>Urbán Viktoria</td><td>2016-10-14</td><td>2016-10-15</td><td>3</td><td>3</td></tr>",
                            "<tr><td>VIKTORIAU</td><td>Urbán Viktoria</td><td>2016-10-26</td><td>2016-11-02</td><td>4</td><td>6</td></tr>",
                            "<tr><td>VIKTORK</td><td>Keresztúri Viktor</td><td>2016-05-30</td><td>2016-06-01</td><td>2</td><td>NULL</td></tr>",
                            "<tr><td>VIKTORK</td><td>Keresztúri Viktor</td><td>2016-06-06</td><td>2016-06-07</td><td>4</td><td>2</td></tr>",
                            "<tr><td>vivien3</td><td>Boros Vivien</td><td>2016-05-02</td><td>2016-05-05</td><td>3</td><td>NULL</td></tr>",
                            "<tr><td>vivien3</td><td>Boros Vivien</td><td>2016-08-13</td><td>2016-08-18</td><td>2</td><td>3</td></tr>",
                            "<tr><td>vivien3</td><td>Boros Vivien</td><td>2016-09-01</td><td>2016-09-05</td><td>2</td><td>5</td></tr>",
                            "<tr><td>vivien3</td><td>Boros Vivien</td><td>2016-10-01</td><td>2016-10-04</td><td>1</td><td>7</td></tr>",
                            "<tr><td>vivien3</td><td>Boros Vivien</td><td>2016-11-17</td><td>2016-11-20</td><td>2</td><td>5</td></tr>",
                            "<tr><td>vivien3</td><td>Boros Vivien</td><td>2016-12-17</td><td>2016-12-21</td><td>2</td><td>5</td></tr>",
                            "<tr><td>vivien3</td><td>Boros Vivien</td><td>2016-12-24</td><td>2016-12-26</td><td>3</td><td>5</td></tr>",
                            "<tr><td>zoltan</td><td>Fodor Zoltán</td><td>2016-08-24</td><td>2016-08-31</td><td>2</td><td>NULL</td></tr>",
                            "<tr><td>zoltan</td><td>Fodor Zoltán</td><td>2016-09-05</td><td>2016-09-09</td><td>3</td><td>2</td></tr>",
                            "<tr><td>zoltan4</td><td>Barna Zoltán</td><td>2016-05-12</td><td>2016-05-16</td><td>3</td><td>NULL</td></tr>",
                            "<tr><td>zoltan4</td><td>Barna Zoltán</td><td>2016-05-13</td><td>2016-05-16</td><td>3</td><td>3</td></tr>",
                            "<tr><td>zoltan4</td><td>Barna Zoltán</td><td>2016-06-03</td><td>2016-06-06</td><td>1</td><td>6</td></tr>",
                            "<tr><td>zoltan4</td><td>Barna Zoltán</td><td>2016-08-15</td><td>2016-08-21</td><td>1</td><td>7</td></tr>",
                            "<tr><td>zoltan4</td><td>Barna Zoltán</td><td>2016-08-16</td><td>2016-08-23</td><td>2</td><td>5</td></tr>",
                            "<tr><td>zoltan4</td><td>Barna Zoltán</td><td>2016-09-30</td><td>2016-10-07</td><td>3</td><td>4</td></tr>",
                            "<tr><td>zoltan4</td><td>Barna Zoltán</td><td>2016-10-21</td><td>2016-10-24</td><td>5</td><td>6</td></tr>",
                            "<tr><td>zoltan4</td><td>Barna Zoltán</td><td>2016-10-26</td><td>2016-10-30</td><td>2</td><td>10</td></tr>",
                            "<tr><td>zoltan4</td><td>Barna Zoltán</td><td>2016-10-30</td><td>2016-11-06</td><td>1</td><td>10</td></tr>",
                            "<tr><td>zoltan4</td><td>Barna Zoltán</td><td>2016-11-19</td><td>2016-11-21</td><td>2</td><td>8</td></tr>",
                            "<tr><td>zoltan4</td><td>Barna Zoltán</td><td>2016-12-29</td><td>2017-01-04</td><td>1</td><td>5</td></tr>",
                            "<tr><td>zoltan4</td><td>Barna Zoltán</td><td>2017-01-01</td><td>2017-01-02</td><td>3</td><td>4</td></tr>",
                            "<tr><td>ZOLTANP</td><td>Pintér Zoltán</td><td>2016-06-05</td><td>2016-06-08</td><td>2</td><td>NULL</td></tr>",
                            "<tr><td>ZOLTANP</td><td>Pintér Zoltán</td><td>2016-06-06</td><td>2016-06-08</td><td>2</td><td>2</td></tr>",
                            "<tr><td>ZOLTANP</td><td>Pintér Zoltán</td><td>2016-07-20</td><td>2016-07-25</td><td>3</td><td>4</td></tr>",
                            "<tr><td>ZOLTANP</td><td>Pintér Zoltán</td><td>2016-10-19</td><td>2016-10-25</td><td>2</td><td>7</td></tr>",
                            "<tr><td>ZOLTANP</td><td>Pintér Zoltán</td><td>2016-12-07</td><td>2016-12-10</td><td>3</td><td>7</td></tr>",
                            "<tr><td>ZOLTANT</td><td>Tóth Zoltán</td><td>2016-05-01</td><td>2016-05-04</td><td>3</td><td>NULL</td></tr>",
                            "<tr><td>ZOLTANT</td><td>Tóth Zoltán</td><td>2016-07-14</td><td>2016-07-15</td><td>3</td><td>3</td></tr>",
                            "<tr><td>ZOLTANT</td><td>Tóth Zoltán</td><td>2017-01-16</td><td>2017-01-20</td><td>2</td><td>6</td></tr>",
                            "<tr><td>zsofi1</td><td>Molnár Zsófi</td><td>2016-06-16</td><td>2016-06-17</td><td>2</td><td>NULL</td></tr>",
                            "<tr><td>zsofi1</td><td>Molnár Zsófi</td><td>2017-02-18</td><td>2017-02-19</td><td>3</td><td>2</td></tr>",
                            "<tr><td>zsolt1</td><td>Pulai Zsolt</td><td>2016-04-14</td><td>2016-04-17</td><td>2</td><td>NULL</td></tr>",
                            "<tr><td>zsolt1</td><td>Pulai Zsolt</td><td>2016-06-06</td><td>2016-06-08</td><td>2</td><td>2</td></tr>",
                            "<tr><td>zsolt1</td><td>Pulai Zsolt</td><td>2016-06-07</td><td>2016-06-10</td><td>4</td><td>4</td></tr>",
                            "<tr><td>zsolt1</td><td>Pulai Zsolt</td><td>2016-07-31</td><td>2016-08-02</td><td>2</td><td>8</td></tr>",
                            "<tr><td>ZSOLTJ</td><td>Józsa Zsolt</td><td>2016-04-24</td><td>2016-04-26</td><td>4</td><td>NULL</td></tr>",
                            "<tr><td>ZSOLTJ</td><td>Józsa Zsolt</td><td>2016-05-09</td><td>2016-05-11</td><td>2</td><td>4</td></tr>",
                            "<tr><td>ZSOLTJ</td><td>Józsa Zsolt</td><td>2016-05-28</td><td>2016-06-03</td><td>1</td><td>6</td></tr>",
                            "<tr><td>ZSOLTJ</td><td>Józsa Zsolt</td><td>2016-06-17</td><td>2016-06-19</td><td>2</td><td>7</td></tr>",
                            "<tr><td>ZSOLTJ</td><td>Józsa Zsolt</td><td>2016-07-18</td><td>2016-07-19</td><td>2</td><td>5</td></tr>",
                            "<tr><td>ZSOLTJ</td><td>Józsa Zsolt</td><td>2016-10-01</td><td>2016-10-06</td><td>2</td><td>5</td></tr>",
                            "<tr><td>zsuzsa</td><td>Pusztai Zsuzsanna</td><td>2016-07-24</td><td>2016-07-25</td><td>3</td><td>NULL</td></tr>",
                            "<tr><td>zsuzsa</td><td>Pusztai Zsuzsanna</td><td>2016-08-28</td><td>2016-08-30</td><td>2</td><td>3</td></tr>",
                            "<tr><td>zsuzsa</td><td>Pusztai Zsuzsanna</td><td>2016-11-28</td><td>2016-12-04</td><td>3</td><td>5</td></tr>",
                            "<tr><td>zsuzsa3</td><td>Varsányi Zsuzsa</td><td>2016-07-30</td><td>2016-08-02</td><td>2</td><td>NULL</td></tr>",
                            "<tr><td>zsuzsa3</td><td>Varsányi Zsuzsa</td><td>2016-09-09</td><td>2016-09-10</td><td>2</td><td>2</td></tr>",
                            "<tr><td>zsuzsa3</td><td>Varsányi Zsuzsa</td><td>2016-09-28</td><td>2016-10-03</td><td>2</td><td>4</td></tr>",
                            "<tr><td>zsuzsa3</td><td>Varsányi Zsuzsa</td><td>2016-10-27</td><td>2016-11-03</td><td>4</td><td>6</td></tr>",
                            "<tr><td>zsuzsanna</td><td>Barta Zsuzsanna</td><td>2016-05-17</td><td>2016-05-23</td><td>2</td><td>NULL</td></tr>",
                            "<tr><td>zsuzsanna</td><td>Barta Zsuzsanna</td><td>2016-07-12</td><td>2016-07-15</td><td>2</td><td>2</td></tr>",
                            "<tr><td>zsuzsanna</td><td>Barta Zsuzsanna</td><td>2017-01-09</td><td>2017-01-16</td><td>1</td><td>4</td></tr>",
                            "<tr><td>zsuzsanna</td><td>Barta Zsuzsanna</td><td>2017-01-16</td><td>2017-01-22</td><td>2</td><td>5</td></tr>",
                            "<tr><td>ZSUZSAV</td><td>Vajda Zsuzsa</td><td>2016-04-14</td><td>2016-04-16</td><td>2</td><td>NULL</td></tr>",
                            "<tr><td>ZSUZSAV</td><td>Vajda Zsuzsa</td><td>2016-05-28</td><td>2016-06-01</td><td>4</td><td>2</td></tr>",
                            "<tr><td>ZSUZSAV</td><td>Vajda Zsuzsa</td><td>2016-06-15</td><td>2016-06-21</td><td>3</td><td>6</td></tr>",
                            "<tr><td>ZSUZSAV</td><td>Vajda Zsuzsa</td><td>2016-09-18</td><td>2016-09-20</td><td>2</td><td>9</td></tr>",
                            "<tr><td>ZSUZSAV</td><td>Vajda Zsuzsa</td><td>2016-10-26</td><td>2016-10-28</td><td>1</td><td>9</td></tr>",
                            "<tr><td>ZSUZSAV</td><td>Vajda Zsuzsa</td><td>2016-11-21</td><td>2016-11-24</td><td>3</td><td>6</td></tr>",
                            "</table>"
                        ]
                    }
                }
            ],
            "execution_count": 1
        },
        {
            "cell_type": "markdown",
            "source": [
                "4. <span style=\"background-color: rgb(255, 255, 255); color: rgb(0, 0, 0); font-family: &quot;Open Sans&quot;, sans-serif; font-size: 14.44px;\">Készítsünk listát arról, hogy az egyes szálláshelyeken évente hány foglalás történt!&nbsp;</span> \n",
                "\n",
                "a. A lista jelenítse meg a szálláshely azonosítóját, nevét, az évet, és a foglalások számát!\n",
                "\n",
                "b. Egy új oszlopban jelenítsük meg a szálláshely eddigi éves foglalásainak számát is (az aktuálisat is beleértve). \n",
                "\n",
                "c. Az évnél a METTOL dátumot vegyük figyelembe! \n",
                "\n",
                "d. A lista ne tartalmazzon duplikált sorokat!"
            ],
            "metadata": {
                "azdata_cell_guid": "8e7fef82-8022-49a0-8255-fc2846c2134b"
            },
            "attachments": {}
        },
        {
            "cell_type": "code",
            "source": [
                ""
            ],
            "metadata": {
                "azdata_cell_guid": "36f7b396-4a1f-45e5-8720-2302537c91bc",
                "language": "sql"
            },
            "outputs": [],
            "execution_count": null
        },
        {
            "cell_type": "markdown",
            "source": [
                "5. <span style=\"background-color: rgb(255, 255, 255); color: rgb(0, 0, 0); font-family: &quot;Open Sans&quot;, sans-serif; font-size: 14.44px;\">Készítsük listát a szálláshelyekről! A lista tartalmazza a szálláshely azonosítóját, nevét, és a csillagok számát csillagszám szerint csökkenő, azon belül szállásnév szerint növekvő sorrendben!&nbsp;</span> \n",
                "\n",
                "a. Vegyünk fel két új oszlopot, amely a sorrend szerint előző szálláshely nevét, illetve azonosítóját is megjeleníti!"
            ],
            "metadata": {
                "azdata_cell_guid": "84239ca2-6b5e-49f5-9860-d44c11d6de32"
            },
            "attachments": {}
        },
        {
            "cell_type": "code",
            "source": [
                ""
            ],
            "metadata": {
                "azdata_cell_guid": "06d9a62b-9430-424b-a135-d80e675f0eb3",
                "language": "sql"
            },
            "outputs": [],
            "execution_count": null
        },
        {
            "cell_type": "markdown",
            "source": [
                "6. <span style=\"background-color: rgb(255, 255, 255); color: rgb(0, 0, 0); font-family: &quot;Open Sans&quot;, sans-serif; font-size: 14.44px;\">Listázzuk azon termékeket, amelyekből az átlagosnál kevesebb van raktáron!&nbsp;</span> \n",
                "\n",
                "a. Csak a termék kódja és megnevezése jelenjen meg!"
            ],
            "metadata": {
                "azdata_cell_guid": "b0d15045-3c43-4f3a-b8d4-76b4f24e5546"
            },
            "attachments": {}
        },
        {
            "cell_type": "code",
            "source": [
                "SELECT termekkod, megnevezes\r\n",
                "FROM Termek\r\n",
                "WHERE keszlet< (SELECT AVG(keszlet) FROM Termek)"
            ],
            "metadata": {
                "azdata_cell_guid": "f2b7400d-1255-40ac-9250-4d57f9da5357",
                "language": "sql"
            },
            "outputs": [
                {
                    "output_type": "display_data",
                    "data": {
                        "text/html": "(437 rows affected)"
                    },
                    "metadata": {}
                },
                {
                    "output_type": "display_data",
                    "data": {
                        "text/html": "Total execution time: 00:00:00.055"
                    },
                    "metadata": {}
                },
                {
                    "output_type": "execute_result",
                    "metadata": {},
                    "execution_count": 3,
                    "data": {
                        "application/vnd.dataresource+json": {
                            "schema": {
                                "fields": [
                                    {
                                        "name": "termekkod"
                                    },
                                    {
                                        "name": "megnevezes"
                                    }
                                ]
                            },
                            "data": [
                                {
                                    "termekkod": "01010110T",
                                    "megnevezes": "Fotópapír A/4 fényes"
                                },
                                {
                                    "termekkod": "01010304T",
                                    "megnevezes": "Öntapadós hologramos papír A/4"
                                },
                                {
                                    "termekkod": "01020300T",
                                    "megnevezes": "Oklevél A/4 színes"
                                },
                                {
                                    "termekkod": "01030091T",
                                    "megnevezes": "Emléklap A/5"
                                },
                                {
                                    "termekkod": "01030092T",
                                    "megnevezes": "Esküvői meghívó"
                                },
                                {
                                    "termekkod": "01040307T",
                                    "megnevezes": "Pausz papír A/4"
                                },
                                {
                                    "termekkod": "01040502T",
                                    "megnevezes": "Előlap spirálhoz"
                                },
                                {
                                    "termekkod": "01080093T",
                                    "megnevezes": "Fax papír 15 m"
                                },
                                {
                                    "termekkod": "01080512T",
                                    "megnevezes": "Öntapadó A/4"
                                },
                                {
                                    "termekkod": "01080513T",
                                    "megnevezes": "Selyemfényű karton A/4"
                                },
                                {
                                    "termekkod": "01090499T",
                                    "megnevezes": "Color Copy A/4 250 g"
                                },
                                {
                                    "termekkod": "01090500T",
                                    "megnevezes": "Color Copy A4 200 g"
                                },
                                {
                                    "termekkod": "01090501T",
                                    "megnevezes": "Kreatív A/4 300g "
                                },
                                {
                                    "termekkod": "01090515T",
                                    "megnevezes": "Színes A/3 160 gr IQ"
                                },
                                {
                                    "termekkod": "01090516T",
                                    "megnevezes": "Színes karton A4"
                                },
                                {
                                    "termekkod": "01090517T",
                                    "megnevezes": "Színes ofszet B/4"
                                },
                                {
                                    "termekkod": "01100070T",
                                    "megnevezes": "Dekorációs karton"
                                },
                                {
                                    "termekkod": "01100072T",
                                    "megnevezes": "Dipa A/4 keretezett"
                                },
                                {
                                    "termekkod": "01100094T",
                                    "megnevezes": "Fénymásoló papír DataCopy"
                                },
                                {
                                    "termekkod": "01100095T",
                                    "megnevezes": "Fénymásoló papír GetCopy"
                                },
                                {
                                    "termekkod": "01100096T",
                                    "megnevezes": "Fénymásoló papír Qconnect"
                                },
                                {
                                    "termekkod": "01100496T",
                                    "megnevezes": "Színes másoló a/4 80g"
                                },
                                {
                                    "termekkod": "01100497T",
                                    "megnevezes": "Color Copy 160 g-os "
                                },
                                {
                                    "termekkod": "01100503T",
                                    "megnevezes": "Color Copy A4 120 g"
                                },
                                {
                                    "termekkod": "01100504T",
                                    "megnevezes": "Fehér másoló A/3"
                                },
                                {
                                    "termekkod": "01100505T",
                                    "megnevezes": "Fehér másoló A/4"
                                },
                                {
                                    "termekkod": "01100509T",
                                    "megnevezes": "Márványos A/4"
                                },
                                {
                                    "termekkod": "01100510T",
                                    "megnevezes": "Kreatív A/4 120g "
                                },
                                {
                                    "termekkod": "02010028T",
                                    "megnevezes": "Árazószalag "
                                },
                                {
                                    "termekkod": "02020029T",
                                    "megnevezes": "Átírótömb A/6"
                                },
                                {
                                    "termekkod": "02020032T",
                                    "megnevezes": "Beírókönyv A5 "
                                },
                                {
                                    "termekkod": "02020033T",
                                    "megnevezes": "Beírókönyv A4"
                                },
                                {
                                    "termekkod": "02020037T",
                                    "megnevezes": "Bevételi pénztárbizonylat 3×25"
                                },
                                {
                                    "termekkod": "02020245T",
                                    "megnevezes": "Kiadási pénztárbizonylat 2×25"
                                },
                                {
                                    "termekkod": "02030040T",
                                    "megnevezes": "Boríték LA 4 francia"
                                },
                                {
                                    "termekkod": "02040025T",
                                    "megnevezes": "Álló irattartó karton"
                                },
                                {
                                    "termekkod": "02040145T",
                                    "megnevezes": "Gemkapocs 28 mm"
                                },
                                {
                                    "termekkod": "02040147T",
                                    "megnevezes": "Genotherm lefűzhető A/5"
                                },
                                {
                                    "termekkod": "02040148T",
                                    "megnevezes": "Genotherm lefűzhető A4 10db-os"
                                },
                                {
                                    "termekkod": "02040176T",
                                    "megnevezes": "Gyorsfűző dosszié fehér"
                                },
                                {
                                    "termekkod": "02040177T",
                                    "megnevezes": "Gyorsfűző műa."
                                },
                                {
                                    "termekkod": "02040178T",
                                    "megnevezes": "Gyorsfűző műa."
                                },
                                {
                                    "termekkod": "02040194T",
                                    "megnevezes": "Hibajav.roll.Pritt 4,2mm"
                                },
                                {
                                    "termekkod": "02040195T",
                                    "megnevezes": "Hibajavító ecsetes Aqua"
                                },
                                {
                                    "termekkod": "02040196T",
                                    "megnevezes": "Hibajavító készlet Blanco"
                                },
                                {
                                    "termekkod": "02040197T",
                                    "megnevezes": "Hibajavító lap "
                                },
                                {
                                    "termekkod": "02040198T",
                                    "megnevezes": "Hibajavító roller 5 mm"
                                },
                                {
                                    "termekkod": "02040199T",
                                    "megnevezes": "Hibajavító roller Pax"
                                },
                                {
                                    "termekkod": "02040200T",
                                    "megnevezes": "Hibajavító Kores mini pen"
                                },
                                {
                                    "termekkod": "02040206T",
                                    "megnevezes": "Írásvetítő fólia"
                                },
                                {
                                    "termekkod": "02040207T",
                                    "megnevezes": "Iratgyűjtő ESSELTE ablakos"
                                },
                                {
                                    "termekkod": "02040208T",
                                    "megnevezes": "Iratgyűjtő fehér"
                                },
                                {
                                    "termekkod": "02040209T",
                                    "megnevezes": "Iratsín fehér"
                                },
                                {
                                    "termekkod": "02040211T",
                                    "megnevezes": "Iratrendező ESSELTE"
                                },
                                {
                                    "termekkod": "02040214T",
                                    "megnevezes": "Iromány fedél feles"
                                },
                                {
                                    "termekkod": "02040290T",
                                    "megnevezes": "Naptár 24-es"
                                },
                                {
                                    "termekkod": "02040291T",
                                    "megnevezes": "Naptárhát kicsi"
                                },
                                {
                                    "termekkod": "02040294T",
                                    "megnevezes": "Notesz A/5 sima"
                                },
                                {
                                    "termekkod": "02040298T",
                                    "megnevezes": "Notesz mintás"
                                },
                                {
                                    "termekkod": "02040308T",
                                    "megnevezes": "Pénztárgépsz. 2 pl. nem öníró"
                                },
                                {
                                    "termekkod": "02040309T",
                                    "megnevezes": "Pénztárgépszalag 2pl SC 57.5/60"
                                },
                                {
                                    "termekkod": "02040401T",
                                    "megnevezes": "Tűzőgép Boxer 10"
                                },
                                {
                                    "termekkod": "02040402T",
                                    "megnevezes": "Tűzőgép Boxer "
                                },
                                {
                                    "termekkod": "02040403T",
                                    "megnevezes": "Tűzőgép SAX 239"
                                },
                                {
                                    "termekkod": "02040404T",
                                    "megnevezes": "Tűzőgép EAGLE"
                                },
                                {
                                    "termekkod": "02040405T",
                                    "megnevezes": "Tűzőkapocs 10-es"
                                },
                                {
                                    "termekkod": "02040506T",
                                    "megnevezes": "Fólia tasakos A4 125 mik."
                                },
                                {
                                    "termekkod": "02040507T",
                                    "megnevezes": "Fólia tasakos A4 80 mik."
                                },
                                {
                                    "termekkod": "02040508T",
                                    "megnevezes": "Fólia tasakos A4100 mik."
                                },
                                {
                                    "termekkod": "02050460T",
                                    "megnevezes": "Boríték C/4-es"
                                },
                                {
                                    "termekkod": "02050461T",
                                    "megnevezes": "Boríték B/4-es"
                                },
                                {
                                    "termekkod": "02060034T",
                                    "megnevezes": "Bélyegzőfesték "
                                },
                                {
                                    "termekkod": "02060038T",
                                    "megnevezes": "Bélyegző IDEAL 50"
                                },
                                {
                                    "termekkod": "02060039T",
                                    "megnevezes": "Bélyegző párna"
                                },
                                {
                                    "termekkod": "02060447T",
                                    "megnevezes": "Bélyegző pocket"
                                },
                                {
                                    "termekkod": "02060448T",
                                    "megnevezes": "Bélyegző RP 18-47"
                                },
                                {
                                    "termekkod": "02080069T",
                                    "megnevezes": "CD tartó tok"
                                },
                                {
                                    "termekkod": "02080081T",
                                    "megnevezes": "Dvd"
                                },
                                {
                                    "termekkod": "02080109T",
                                    "megnevezes": "Floppy lemez"
                                },
                                {
                                    "termekkod": "02080226T",
                                    "megnevezes": "Kapocskiszedő"
                                },
                                {
                                    "termekkod": "02080431T",
                                    "megnevezes": "Álló irattartó"
                                },
                                {
                                    "termekkod": "02080432T",
                                    "megnevezes": "Tokos iratrendező"
                                },
                                {
                                    "termekkod": "02080433T",
                                    "megnevezes": "Ragasztószalag 19 mm-es"
                                },
                                {
                                    "termekkod": "02080434T",
                                    "megnevezes": "Mappa müa A/4"
                                },
                                {
                                    "termekkod": "02080436T",
                                    "megnevezes": "Irattartó müa. boríték A/4"
                                },
                                {
                                    "termekkod": "02080449T",
                                    "megnevezes": "Térképtű színes"
                                },
                                {
                                    "termekkod": "02080450T",
                                    "megnevezes": "Gémkapocs 28-as színes"
                                },
                                {
                                    "termekkod": "02080451T",
                                    "megnevezes": "Gémkapocs 50-es"
                                },
                                {
                                    "termekkod": "02080452T",
                                    "megnevezes": "Tűzőgép mini"
                                },
                                {
                                    "termekkod": "02080453T",
                                    "megnevezes": "Lyukasztó EAGLE"
                                },
                                {
                                    "termekkod": "02080454T",
                                    "megnevezes": "Lyukasztó BOXER"
                                },
                                {
                                    "termekkod": "02080455T",
                                    "megnevezes": "Festékpatron BCI-3BK"
                                },
                                {
                                    "termekkod": "02080456T",
                                    "megnevezes": "Genoterm HERLITZ 10-es"
                                },
                                {
                                    "termekkod": "02080511T",
                                    "megnevezes": "Oki toner C"
                                },
                                {
                                    "termekkod": "02080514T",
                                    "megnevezes": "Spirál 1/4 "
                                },
                                {
                                    "termekkod": "03010342T",
                                    "megnevezes": "Ragasztószalag  TIXO"
                                },
                                {
                                    "termekkod": "03010344T",
                                    "megnevezes": "Ragasztószalag nagy 12 mm"
                                },
                                {
                                    "termekkod": "03010345T",
                                    "megnevezes": "Ragasztószalag széles barna"
                                },
                                {
                                    "termekkod": "03050076T",
                                    "megnevezes": "Díszkötöző szalag metál nagy"
                                },
                                {
                                    "termekkod": "03050077T",
                                    "megnevezes": "Diszkötöző szalag arany"
                                },
                                {
                                    "termekkod": "03050078T",
                                    "megnevezes": "Díszkötöző szalag metál kicsi"
                                },
                                {
                                    "termekkod": "03080003T",
                                    "megnevezes": "Ajándék cs. tasak italos"
                                },
                                {
                                    "termekkod": "03080004T",
                                    "megnevezes": "Ajándék cs. tasak italos, fólia"
                                },
                                {
                                    "termekkod": "03080006T",
                                    "megnevezes": "Ajándék cs. tasak mintás kicsi"
                                },
                                {
                                    "termekkod": "03080009T",
                                    "megnevezes": "Ajándék csom. 100x70 metál"
                                },
                                {
                                    "termekkod": "03080012T",
                                    "megnevezes": "Ajándék csom. 200x70"
                                },
                                {
                                    "termekkod": "03080013T",
                                    "megnevezes": "Ajándék csom. 50x70 húsvéti"
                                },
                                {
                                    "termekkod": "03080014T",
                                    "megnevezes": "Ajándék csom. 70x50 metál"
                                },
                                {
                                    "termekkod": "03080015T",
                                    "megnevezes": "Ajándék csom. gyűrt"
                                },
                                {
                                    "termekkod": "03080016T",
                                    "megnevezes": "házt.csom.  5 ív"
                                },
                                {
                                    "termekkod": "03080017T",
                                    "megnevezes": "iskolai csomagoló papír"
                                },
                                {
                                    "termekkod": "03080019T",
                                    "megnevezes": "Ajándék csom. Krepp"
                                },
                                {
                                    "termekkod": "03080020T",
                                    "megnevezes": "Ajándék csom. nagy  "
                                },
                                {
                                    "termekkod": "03080021T",
                                    "megnevezes": "Ajándék csom. vékony"
                                },
                                {
                                    "termekkod": "03080030T",
                                    "megnevezes": "Ajándék cs. húsvéti 200x70"
                                },
                                {
                                    "termekkod": "03080439T",
                                    "megnevezes": "Italtartó doboz"
                                },
                                {
                                    "termekkod": "04020445T",
                                    "megnevezes": "Határidő napló 2010-s"
                                },
                                {
                                    "termekkod": "04030235T",
                                    "megnevezes": "Képeslap karácsonyi borítékos"
                                },
                                {
                                    "termekkod": "04030237T",
                                    "megnevezes": "Képeslap kerek"
                                },
                                {
                                    "termekkod": "04030238T",
                                    "megnevezes": "Képeslap stancolt"
                                },
                                {
                                    "termekkod": "04030239T",
                                    "megnevezes": "Képeslap stancolt szív"
                                },
                                {
                                    "termekkod": "04030243T",
                                    "megnevezes": "Képkirakó Dirib-darab"
                                },
                                {
                                    "termekkod": "04030261T",
                                    "megnevezes": "Levélpapír állatos"
                                },
                                {
                                    "termekkod": "04030262T",
                                    "megnevezes": "Levélpapír sima"
                                },
                                {
                                    "termekkod": "04030263T",
                                    "megnevezes": "Levélpapír szett"
                                },
                                {
                                    "termekkod": "04030264T",
                                    "megnevezes": "Levélpapír szett "
                                },
                                {
                                    "termekkod": "04030265T",
                                    "megnevezes": "Levélpapír szett natur, mintás"
                                },
                                {
                                    "termekkod": "04030266T",
                                    "megnevezes": "Levélpapír szett virágos"
                                },
                                {
                                    "termekkod": "04030285T",
                                    "megnevezes": "Mikulás zacskó"
                                },
                                {
                                    "termekkod": "04030286T",
                                    "megnevezes": "Műanyag állatok"
                                },
                                {
                                    "termekkod": "04030288T",
                                    "megnevezes": "Műanyag pohár 1 dl-es"
                                },
                                {
                                    "termekkod": "04040387T",
                                    "megnevezes": "Tenisz labda"
                                },
                                {
                                    "termekkod": "04050022T",
                                    "megnevezes": "Álarc"
                                },
                                {
                                    "termekkod": "04050023T",
                                    "megnevezes": "Álarc fejdísz"
                                },
                                {
                                    "termekkod": "04050024T",
                                    "megnevezes": "Álarc szemüveg"
                                },
                                {
                                    "termekkod": "04050035T",
                                    "megnevezes": "Bérlet tok"
                                },
                                {
                                    "termekkod": "04050073T",
                                    "megnevezes": "Díszdoboz kar."
                                },
                                {
                                    "termekkod": "04050074T",
                                    "megnevezes": "Díszdoboz tollnak 2 db-os"
                                },
                                {
                                    "termekkod": "04050075T",
                                    "megnevezes": "Díszdoboz tollnak 2 db-os keskeny"
                                },
                                {
                                    "termekkod": "04050171T",
                                    "megnevezes": "Gumilabda közepes"
                                },
                                {
                                    "termekkod": "04050187T",
                                    "megnevezes": "Hajgumi macis"
                                },
                                {
                                    "termekkod": "04050203T",
                                    "megnevezes": "Hűtőmágnes"
                                },
                                {
                                    "termekkod": "04050204T",
                                    "megnevezes": "Hűtőmágnes WD"
                                },
                                {
                                    "termekkod": "04050220T",
                                    "megnevezes": "Játék autó"
                                },
                                {
                                    "termekkod": "04050221T",
                                    "megnevezes": "Játékautó Blisteres"
                                },
                                {
                                    "termekkod": "04050222T",
                                    "megnevezes": "Játékautó elemes"
                                },
                                {
                                    "termekkod": "04050223T",
                                    "megnevezes": "Játékautó mini"
                                },
                                {
                                    "termekkod": "04050224T",
                                    "megnevezes": "Jelzőkréta"
                                },
                                {
                                    "termekkod": "04050252T",
                                    "megnevezes": "Kulcstartó Csőrikés"
                                },
                                {
                                    "termekkod": "04050253T",
                                    "megnevezes": "Kulcstartó figurás"
                                },
                                {
                                    "termekkod": "04050254T",
                                    "megnevezes": "Kulcstartó intarziás állatos"
                                },
                                {
                                    "termekkod": "04050269T",
                                    "megnevezes": "Lufi hullámos"
                                },
                                {
                                    "termekkod": "04050320T",
                                    "megnevezes": "Plüss  QX állatok"
                                },
                                {
                                    "termekkod": "04050322T",
                                    "megnevezes": "Plüss sárkány"
                                },
                                {
                                    "termekkod": "04050358T",
                                    "megnevezes": "Strandlabda "
                                },
                                {
                                    "termekkod": "04080270T",
                                    "megnevezes": "Mappa bőr A5"
                                },
                                {
                                    "termekkod": "04080271T",
                                    "megnevezes": "Mappa PVC villámzáras"
                                },
                                {
                                    "termekkod": "04080272T",
                                    "megnevezes": "Mappa PVC villámzáras  képes"
                                },
                                {
                                    "termekkod": "04080443T",
                                    "megnevezes": "Emlékkönyv lakatos"
                                },
                                {
                                    "termekkod": "04110066T",
                                    "megnevezes": "Címke 8 db-os"
                                },
                                {
                                    "termekkod": "04110067T",
                                    "megnevezes": "Címke WD. állat"
                                },
                                {
                                    "termekkod": "04110068T",
                                    "megnevezes": "Címke egyszínű"
                                },
                                {
                                    "termekkod": "04110227T",
                                    "megnevezes": "Képeslap  borítékos"
                                },
                                {
                                    "termekkod": "04110228T",
                                    "megnevezes": "Képeslap \"Nászajándék\""
                                },
                                {
                                    "termekkod": "04110229T",
                                    "megnevezes": "Képeslap \"Részvét\""
                                },
                                {
                                    "termekkod": "04110230T",
                                    "megnevezes": "Képeslap humoros "
                                },
                                {
                                    "termekkod": "04110231T",
                                    "megnevezes": "Képeslap humoros borítékos"
                                },
                                {
                                    "termekkod": "04110232T",
                                    "megnevezes": "Képeslap humoros kaparós"
                                },
                                {
                                    "termekkod": "04110233T",
                                    "megnevezes": "Képeslap humoros"
                                },
                                {
                                    "termekkod": "04110258T",
                                    "megnevezes": "Lampion"
                                },
                                {
                                    "termekkod": "04110274T",
                                    "megnevezes": "Matrica autóra H"
                                },
                                {
                                    "termekkod": "04110275T",
                                    "megnevezes": "Matrica motoros kicsi"
                                },
                                {
                                    "termekkod": "04110276T",
                                    "megnevezes": "Matrica Stickers nagy állatos"
                                },
                                {
                                    "termekkod": "04110277T",
                                    "megnevezes": "Matrica Stickers szíves"
                                },
                                {
                                    "termekkod": "04110278T",
                                    "megnevezes": "Matrica Test ékszer tattoo"
                                },
                                {
                                    "termekkod": "04110279T",
                                    "megnevezes": "Matrica tetoválás"
                                },
                                {
                                    "termekkod": "04110280T",
                                    "megnevezes": "Matrica tetoválós kicsi"
                                },
                                {
                                    "termekkod": "04110281T",
                                    "megnevezes": "Matrica világítós "
                                },
                                {
                                    "termekkod": "04110282T",
                                    "megnevezes": "Matrica WD kicsi"
                                },
                                {
                                    "termekkod": "04110283T",
                                    "megnevezes": "Meghívó állatos"
                                },
                                {
                                    "termekkod": "04110284T",
                                    "megnevezes": "Meghívó borítékos"
                                },
                                {
                                    "termekkod": "04110362T",
                                    "megnevezes": "Szalvéta gyűjtőknek"
                                },
                                {
                                    "termekkod": "05010026T",
                                    "megnevezes": "Alufólia 10 m-es"
                                },
                                {
                                    "termekkod": "05010369T",
                                    "megnevezes": "Szemetes zsák 60 literes"
                                },
                                {
                                    "termekkod": "05010370T",
                                    "megnevezes": "Szilvia csomagoló"
                                },
                                {
                                    "termekkod": "05040310T",
                                    "megnevezes": "Pill.ragasztó"
                                },
                                {
                                    "termekkod": "05040348T",
                                    "megnevezes": "Rajzszeg színes"
                                },
                                {
                                    "termekkod": "05040349T",
                                    "megnevezes": "Rajzszeg"
                                },
                                {
                                    "termekkod": "05050045T",
                                    "megnevezes": "Celofán"
                                },
                                {
                                    "termekkod": "05050046T",
                                    "megnevezes": "Celofán 50 db-os"
                                },
                                {
                                    "termekkod": "05050170T",
                                    "megnevezes": "Gumigyűrű"
                                },
                                {
                                    "termekkod": "05050346T",
                                    "megnevezes": "Rágógumi Orbit"
                                },
                                {
                                    "termekkod": "05080340T",
                                    "megnevezes": "Ragasztó, Technokol 35g kék"
                                },
                                {
                                    "termekkod": "05080341T",
                                    "megnevezes": "Ragasztó, Technokol 35g piros"
                                },
                                {
                                    "termekkod": "05110359T",
                                    "megnevezes": "Szalvéta "
                                },
                                {
                                    "termekkod": "05110360T",
                                    "megnevezes": "Szalvéta egyszínű"
                                },
                                {
                                    "termekkod": "05110361T",
                                    "megnevezes": "Szalvéta Goma húsvéti"
                                },
                                {
                                    "termekkod": "05110363T",
                                    "megnevezes": "Szalvéta dekor"
                                },
                                {
                                    "termekkod": "05110364T",
                                    "megnevezes": "Szalvéta kicsi virágos"
                                },
                                {
                                    "termekkod": "06010036T",
                                    "megnevezes": "Betűtartó sin"
                                },
                                {
                                    "termekkod": "06010082T",
                                    "megnevezes": "Ecset Centrum 10,11,12"
                                },
                                {
                                    "termekkod": "06010083T",
                                    "megnevezes": "Ecset Centrum 7,8,9"
                                },
                                {
                                    "termekkod": "06010084T",
                                    "megnevezes": "Ecset Deák 2-es"
                                },
                                {
                                    "termekkod": "06010085T",
                                    "megnevezes": "Ecset Lizzy 10-es"
                                },
                                {
                                    "termekkod": "06010111T",
                                    "megnevezes": "Füzet  A/4 "
                                },
                                {
                                    "termekkod": "06010112T",
                                    "megnevezes": "Füzet  A4 mintás"
                                },
                                {
                                    "termekkod": "06010114T",
                                    "megnevezes": "Füzet A/5 hangjegy 36/16"
                                },
                                {
                                    "termekkod": "06010115T",
                                    "megnevezes": "Füzet A/5, mintás"
                                },
                                {
                                    "termekkod": "06010201T",
                                    "megnevezes": "Hőmérő, műa."
                                },
                                {
                                    "termekkod": "06010202T",
                                    "megnevezes": "Hurkapálca 10 db-os"
                                },
                                {
                                    "termekkod": "06010305T",
                                    "megnevezes": "Papírcenti 100 cm-es"
                                },
                                {
                                    "termekkod": "06010365T",
                                    "megnevezes": "Számegyenes"
                                },
                                {
                                    "termekkod": "06010366T",
                                    "megnevezes": "Számológép Roxin"
                                },
                                {
                                    "termekkod": "06010367T",
                                    "megnevezes": "Számolókorong"
                                },
                                {
                                    "termekkod": "06010368T",
                                    "megnevezes": "Számolópálca"
                                },
                                {
                                    "termekkod": "06010375T",
                                    "megnevezes": "Szögmérő 180 fokos műa."
                                },
                                {
                                    "termekkod": "06010376T",
                                    "megnevezes": "Szögmérő papír"
                                },
                                {
                                    "termekkod": "06010377T",
                                    "megnevezes": "Szögmérő színes"
                                },
                                {
                                    "termekkod": "06040089T",
                                    "megnevezes": "Ellenőrzőborító"
                                },
                                {
                                    "termekkod": "06040175T",
                                    "megnevezes": "Gumis mappa Köbüki"
                                },
                                {
                                    "termekkod": "06040179T",
                                    "megnevezes": "Gyurma színes 200 g-os"
                                },
                                {
                                    "termekkod": "06040180T",
                                    "megnevezes": "Gyurma színes natúr"
                                },
                                {
                                    "termekkod": "06040183T",
                                    "megnevezes": "Gyűrűskönyv bet. A/5"
                                },
                                {
                                    "termekkod": "06040184T",
                                    "megnevezes": "Gyűrűskönyv betét A/5"
                                },
                                {
                                    "termekkod": "06040186T",
                                    "megnevezes": "Gyűrűskönyv színes"
                                },
                                {
                                    "termekkod": "06040205T",
                                    "megnevezes": "Indigó Pelikán"
                                },
                                {
                                    "termekkod": "06040206T",
                                    "megnevezes": "kék indigó"
                                },
                                {
                                    "termekkod": "06040212T",
                                    "megnevezes": "Írólap 10-50 ffam."
                                },
                                {
                                    "termekkod": "06040213T",
                                    "megnevezes": "Írólap 20-50 "
                                },
                                {
                                    "termekkod": "06040246T",
                                    "megnevezes": "Körző"
                                },
                                {
                                    "termekkod": "06040248T",
                                    "megnevezes": "Körző maped"
                                },
                                {
                                    "termekkod": "06040323T",
                                    "megnevezes": "Post-it 51×38 100 lapos"
                                },
                                {
                                    "termekkod": "06040324T",
                                    "megnevezes": "Post-it 75×75 100 lapos"
                                },
                                {
                                    "termekkod": "06040326T",
                                    "megnevezes": "Radír KOH-I-NOR 80"
                                },
                                {
                                    "termekkod": "06040330T",
                                    "megnevezes": "Radír Tikky 30 "
                                },
                                {
                                    "termekkod": "06040331T",
                                    "megnevezes": "Radír Tikky 40 "
                                },
                                {
                                    "termekkod": "06040347T",
                                    "megnevezes": "Rajzlap A/4 10db ffam."
                                },
                                {
                                    "termekkod": "06040350T",
                                    "megnevezes": "Regiszteres füzet A4"
                                },
                                {
                                    "termekkod": "06040351T",
                                    "megnevezes": "Regiszteres füzet A5 Hightech"
                                },
                                {
                                    "termekkod": "06040352T",
                                    "megnevezes": "Rovatolt papír 20 íves"
                                },
                                {
                                    "termekkod": "06040353T",
                                    "megnevezes": "Sorvezető"
                                },
                                {
                                    "termekkod": "06040354T",
                                    "megnevezes": "Sp.Füzet A/4  perforált, lyuk."
                                },
                                {
                                    "termekkod": "06040355T",
                                    "megnevezes": "Sp.Füzet A/4 70-as"
                                },
                                {
                                    "termekkod": "06040356T",
                                    "megnevezes": "Sp.Füzet A/4  70es"
                                },
                                {
                                    "termekkod": "06040378T",
                                    "megnevezes": "Szövegkiemelő vékony"
                                },
                                {
                                    "termekkod": "06040379T",
                                    "megnevezes": "Szövegkiemelő "
                                },
                                {
                                    "termekkod": "06040380T",
                                    "megnevezes": "Szövegkiemelő"
                                },
                                {
                                    "termekkod": "06040381T",
                                    "megnevezes": "Szövegkiemelő Videotip"
                                },
                                {
                                    "termekkod": "06040382T",
                                    "megnevezes": "Táblafilc"
                                },
                                {
                                    "termekkod": "06040383T",
                                    "megnevezes": "Taffet papír"
                                },
                                {
                                    "termekkod": "06040384T",
                                    "megnevezes": "Technika cs. I-II-III-IV"
                                },
                                {
                                    "termekkod": "06040385T",
                                    "megnevezes": "Tempera szóló ezüst"
                                },
                                {
                                    "termekkod": "06040386T",
                                    "megnevezes": "Tempera szóló színes"
                                },
                                {
                                    "termekkod": "06040392T",
                                    "megnevezes": "Tolltartó 1 zipzáros"
                                },
                                {
                                    "termekkod": "06040393T",
                                    "megnevezes": "Tolltartó 2 részes NG."
                                },
                                {
                                    "termekkod": "06040394T",
                                    "megnevezes": "Tolltartó zipzáras"
                                },
                                {
                                    "termekkod": "06040395T",
                                    "megnevezes": "Tolltartó 2 zipzáros töltött"
                                },
                                {
                                    "termekkod": "06040397T",
                                    "megnevezes": "Tolltartó asztali"
                                },
                                {
                                    "termekkod": "06040398T",
                                    "megnevezes": "Tolltartó hengeres "
                                },
                                {
                                    "termekkod": "06040399T",
                                    "megnevezes": "Tombola tömb"
                                },
                                {
                                    "termekkod": "06040400T",
                                    "megnevezes": "Tornazsák"
                                },
                                {
                                    "termekkod": "06040446T",
                                    "megnevezes": "Számológép tudományos"
                                },
                                {
                                    "termekkod": "06050249T",
                                    "megnevezes": "Krepp papír"
                                },
                                {
                                    "termekkod": "06050301T",
                                    "megnevezes": "Olló gyerek "
                                },
                                {
                                    "termekkod": "06050302T",
                                    "megnevezes": "Olló Tagit 18 cm-es"
                                },
                                {
                                    "termekkod": "06050303T",
                                    "megnevezes": "Olló, iskolai"
                                },
                                {
                                    "termekkod": "06080116T",
                                    "megnevezes": "Füzet A5 1-8 osz.-ig"
                                },
                                {
                                    "termekkod": "06080117T",
                                    "megnevezes": "Füzetborító A/4 átlátszó"
                                },
                                {
                                    "termekkod": "06080118T",
                                    "megnevezes": "Füzetborító átlátszó A5"
                                },
                                {
                                    "termekkod": "06080119T",
                                    "megnevezes": "Füzetborító mesefig."
                                },
                                {
                                    "termekkod": "06080120T",
                                    "megnevezes": "Füzetborító öntapadó kicsi"
                                },
                                {
                                    "termekkod": "06080121T",
                                    "megnevezes": "Füzetborító öntapadó tekercses"
                                },
                                {
                                    "termekkod": "06080122T",
                                    "megnevezes": "Füzetborító öntapadós nagy"
                                },
                                {
                                    "termekkod": "06080124T",
                                    "megnevezes": "Füzettartó A/4 keménytáblás"
                                },
                                {
                                    "termekkod": "06080125T",
                                    "megnevezes": "Füzettartó A/5 vastag"
                                },
                                {
                                    "termekkod": "06080126T",
                                    "megnevezes": "Füzettartó A/5  "
                                },
                                {
                                    "termekkod": "06080188T",
                                    "megnevezes": "Hegyező gép"
                                },
                                {
                                    "termekkod": "06080189T",
                                    "megnevezes": "Hegyező műanyag dupla"
                                },
                                {
                                    "termekkod": "06080190T",
                                    "megnevezes": "Hegyező műanyag egyes"
                                },
                                {
                                    "termekkod": "06080191T",
                                    "megnevezes": "Hegyező tartályos egyes"
                                },
                                {
                                    "termekkod": "06080192T",
                                    "megnevezes": "Hegyző fém 1 lyukú"
                                },
                                {
                                    "termekkod": "06080193T",
                                    "megnevezes": "Hegyző fém 2 lyukú"
                                },
                                {
                                    "termekkod": "06080259T",
                                    "megnevezes": "Leckefüzet"
                                },
                                {
                                    "termekkod": "06080332T",
                                    "megnevezes": "Radírtoll betét ER100"
                                },
                                {
                                    "termekkod": "06080333T",
                                    "megnevezes": "Radírtoll betét vastag"
                                },
                                {
                                    "termekkod": "06080335T",
                                    "megnevezes": "Ragasztó 9 g Pax"
                                },
                                {
                                    "termekkod": "06080337T",
                                    "megnevezes": "Ragasztó Gyurma"
                                },
                                {
                                    "termekkod": "06080339T",
                                    "megnevezes": "Ragasztó kores"
                                },
                                {
                                    "termekkod": "06080407T",
                                    "megnevezes": "Vízfesték  12 színű nagy"
                                },
                                {
                                    "termekkod": "06080408T",
                                    "megnevezes": "Vízfesték 12 db-os "
                                },
                                {
                                    "termekkod": "06080409T",
                                    "megnevezes": "Vízfesték 12 színű kerek"
                                },
                                {
                                    "termekkod": "06080410T",
                                    "megnevezes": "Vízfesték 12db-os kínai"
                                },
                                {
                                    "termekkod": "06080411T",
                                    "megnevezes": "Vonalzó 15 cm-es ESSELTE"
                                },
                                {
                                    "termekkod": "06080412T",
                                    "megnevezes": "Vonalzó 16 cm-es LIZZY"
                                },
                                {
                                    "termekkod": "06080413T",
                                    "megnevezes": "Vonalzó 30 cm"
                                },
                                {
                                    "termekkod": "06080415T",
                                    "megnevezes": "Vonalzó 45 fokos"
                                },
                                {
                                    "termekkod": "06080416T",
                                    "megnevezes": "Vonalzó 60 fokos"
                                },
                                {
                                    "termekkod": "06080417T",
                                    "megnevezes": "Zászló papír"
                                },
                                {
                                    "termekkod": "06080422T",
                                    "megnevezes": "Füzettartó A/4"
                                },
                                {
                                    "termekkod": "06080423T",
                                    "megnevezes": "Beíró A/5 kockás"
                                },
                                {
                                    "termekkod": "06080424T",
                                    "megnevezes": "Füzetborító A/4 mintás"
                                },
                                {
                                    "termekkod": "06080425T",
                                    "megnevezes": "Miliméterpapír"
                                },
                                {
                                    "termekkod": "06080426T",
                                    "megnevezes": "Szótárfüzet Lizzy"
                                },
                                {
                                    "termekkod": "06080427T",
                                    "megnevezes": "Ablakkréta"
                                },
                                {
                                    "termekkod": "06080428T",
                                    "megnevezes": "Ecsetkészlet"
                                },
                                {
                                    "termekkod": "06080429T",
                                    "megnevezes": "Meghívó ballagási"
                                },
                                {
                                    "termekkod": "06080430T",
                                    "megnevezes": "Öntapadős betűk"
                                },
                                {
                                    "termekkod": "06080441T",
                                    "megnevezes": "Gyurmakés"
                                },
                                {
                                    "termekkod": "07010137T",
                                    "megnevezes": "G.toll betét PAX tip."
                                },
                                {
                                    "termekkod": "07010139T",
                                    "megnevezes": "G.toll betét S7L "
                                },
                                {
                                    "termekkod": "07010140T",
                                    "megnevezes": "G.toll betét Stabilo"
                                },
                                {
                                    "termekkod": "07010141T",
                                    "megnevezes": "G.toll betét X20"
                                },
                                {
                                    "termekkod": "07010142T",
                                    "megnevezes": "G.toll betét Zebra F-0.7"
                                },
                                {
                                    "termekkod": "07010143T",
                                    "megnevezes": "G.toll betét Zebra H-0,7"
                                },
                                {
                                    "termekkod": "07010144T",
                                    "megnevezes": "G.toll betét Zebra K-0,7"
                                },
                                {
                                    "termekkod": "07010244T",
                                    "megnevezes": "Kerámiatoll"
                                },
                                {
                                    "termekkod": "07030103T",
                                    "megnevezes": "Filctoll TINTEN PEN"
                                },
                                {
                                    "termekkod": "07030104T",
                                    "megnevezes": "Filctoll vastag ARTIP"
                                },
                                {
                                    "termekkod": "07030105T",
                                    "megnevezes": "Filctoll, alkoholos Centropen"
                                },
                                {
                                    "termekkod": "07030106T",
                                    "megnevezes": "Filctoll, alkoholosOHP F-M-C"
                                },
                                {
                                    "termekkod": "07030107T",
                                    "megnevezes": "Filctoll, textil Edding 4500"
                                },
                                {
                                    "termekkod": "07030108T",
                                    "megnevezes": "Filctoll CD író"
                                },
                                {
                                    "termekkod": "07040047T",
                                    "megnevezes": "Ceruza 2H-4B"
                                },
                                {
                                    "termekkod": "07040049T",
                                    "megnevezes": "Ceruza Conté zöld"
                                },
                                {
                                    "termekkod": "07040050T",
                                    "megnevezes": "Ceruza Cseh"
                                },
                                {
                                    "termekkod": "07040051T",
                                    "megnevezes": "Ceruza háromszög "
                                },
                                {
                                    "termekkod": "07040052T",
                                    "megnevezes": "Ceruza 2H-3B Koh-i-nor"
                                },
                                {
                                    "termekkod": "07040053T",
                                    "megnevezes": "Ceruza HB radiros"
                                },
                                {
                                    "termekkod": "07040054T",
                                    "megnevezes": "Ceruza kártyás"
                                },
                                {
                                    "termekkod": "07040055T",
                                    "megnevezes": "Ceruza piros-kék"
                                },
                                {
                                    "termekkod": "07040056T",
                                    "megnevezes": "Ceruza piros-kék vékony"
                                },
                                {
                                    "termekkod": "07040057T",
                                    "megnevezes": "Ceruza Progresso"
                                },
                                {
                                    "termekkod": "07040058T",
                                    "megnevezes": "Ceruza radíros kínai"
                                },
                                {
                                    "termekkod": "07040059T",
                                    "megnevezes": "Ceruza smaragd"
                                },
                                {
                                    "termekkod": "07040060T",
                                    "megnevezes": "Ceruza stabilo swano"
                                },
                                {
                                    "termekkod": "07040061T",
                                    "megnevezes": "Ceruza stabilo opera"
                                },
                                {
                                    "termekkod": "07040097T",
                                    "megnevezes": "Filctoll "
                                },
                                {
                                    "termekkod": "07040098T",
                                    "megnevezes": "Filctoll document pen"
                                },
                                {
                                    "termekkod": "07040099T",
                                    "megnevezes": "Filctoll Edding 750"
                                },
                                {
                                    "termekkod": "07040100T",
                                    "megnevezes": "Filctoll Marvy alkoholos"
                                },
                                {
                                    "termekkod": "07040101T",
                                    "megnevezes": "Filctoll permanent vastag"
                                },
                                {
                                    "termekkod": "07040102T",
                                    "megnevezes": "Filctoll supra fine"
                                },
                                {
                                    "termekkod": "07040127T",
                                    "megnevezes": "G. toll betét mini"
                                },
                                {
                                    "termekkod": "07040128T",
                                    "megnevezes": "G. toll betét mini fém"
                                },
                                {
                                    "termekkod": "07040129T",
                                    "megnevezes": "G. toll betét réz"
                                },
                                {
                                    "termekkod": "07040130T",
                                    "megnevezes": "G. toll betét S7S"
                                },
                                {
                                    "termekkod": "07040132T",
                                    "megnevezes": "G.toll betét csavaros"
                                },
                                {
                                    "termekkod": "07040133T",
                                    "megnevezes": "G.toll betét görbe hegyű"
                                },
                                {
                                    "termekkod": "07040165T",
                                    "megnevezes": "Golyóstoll UNI laknock"
                                },
                                {
                                    "termekkod": "07040166T",
                                    "megnevezes": "Golyóstoll Zebra 301"
                                },
                                {
                                    "termekkod": "07040167T",
                                    "megnevezes": "Golyóstoll Zebra mini"
                                },
                                {
                                    "termekkod": "07040168T",
                                    "megnevezes": "Golyóstoll Zebra new hard"
                                },
                                {
                                    "termekkod": "07040169T",
                                    "megnevezes": "Golyóstoll Zodiák"
                                },
                                {
                                    "termekkod": "07040215T",
                                    "megnevezes": "Ironbél  2B ICO"
                                },
                                {
                                    "termekkod": "07040216T",
                                    "megnevezes": "Ironbél B 0,5"
                                },
                                {
                                    "termekkod": "07040217T",
                                    "megnevezes": "Ironbél H 0,5"
                                },
                                {
                                    "termekkod": "07040218T",
                                    "megnevezes": "Ironbél HB 0,5"
                                },
                                {
                                    "termekkod": "07040219T",
                                    "megnevezes": "Ironbél HI-POLIMER HB 0,7"
                                },
                                {
                                    "termekkod": "07040257T",
                                    "megnevezes": "Lakk filc Edding 750"
                                },
                                {
                                    "termekkod": "07040388T",
                                    "megnevezes": "Tintapatron /kék/"
                                },
                                {
                                    "termekkod": "07040389T",
                                    "megnevezes": "Tintapatron 30 db-os kék"
                                },
                                {
                                    "termekkod": "07040390T",
                                    "megnevezes": "Tintapatron színes"
                                },
                                {
                                    "termekkod": "07040391T",
                                    "megnevezes": "Toll Centropen roller"
                                },
                                {
                                    "termekkod": "07050462T",
                                    "megnevezes": "Töltőtoll tinta "
                                },
                                {
                                    "termekkod": "07050463T",
                                    "megnevezes": "Ceruzafogó"
                                },
                                {
                                    "termekkod": "07050464T",
                                    "megnevezes": "Szövegkiemelő Staedtler"
                                },
                                {
                                    "termekkod": "07080062T",
                                    "megnevezes": "Ceruza szén"
                                },
                                {
                                    "termekkod": "07080063T",
                                    "megnevezes": "Ceruza szorzótáblás"
                                },
                                {
                                    "termekkod": "07080064T",
                                    "megnevezes": "Ceruza zöld színű"
                                },
                                {
                                    "termekkod": "07080065T",
                                    "megnevezes": "Ceruza kínai"
                                },
                                {
                                    "termekkod": "07080150T",
                                    "megnevezes": "Golyóstoll"
                                },
                                {
                                    "termekkod": "07080151T",
                                    "megnevezes": "Golyóstoll + ceruza Twister 2in1"
                                },
                                {
                                    "termekkod": "07080152T",
                                    "megnevezes": "Golyóstoll 3 funkciós "
                                },
                                {
                                    "termekkod": "07080153T",
                                    "megnevezes": "Golyóstoll illatos ICO"
                                },
                                {
                                    "termekkod": "07080154T",
                                    "megnevezes": "Golyóstoll INOXCROM"
                                },
                                {
                                    "termekkod": "07080155T",
                                    "megnevezes": "Golyóstoll"
                                },
                                {
                                    "termekkod": "07080156T",
                                    "megnevezes": "Golyóstoll kupakos piros"
                                },
                                {
                                    "termekkod": "07080157T",
                                    "megnevezes": "Golyóstoll Montex Hytone"
                                },
                                {
                                    "termekkod": "07080159T",
                                    "megnevezes": "Golyóstoll Pax tip."
                                },
                                {
                                    "termekkod": "07080160T",
                                    "megnevezes": "Golyóstoll penac"
                                },
                                {
                                    "termekkod": "07080161T",
                                    "megnevezes": "Golyóstoll kétszínű"
                                },
                                {
                                    "termekkod": "07080162T",
                                    "megnevezes": "Golyóstoll Stabilo piros"
                                },
                                {
                                    "termekkod": "07080316T",
                                    "megnevezes": "Pixiron KOH-I-NOOR"
                                },
                                {
                                    "termekkod": "07080421T",
                                    "megnevezes": "Zseléstoll Lizzy Card"
                                },
                                {
                                    "termekkod": "07080466T",
                                    "megnevezes": "Golyóstoll Stabiló 308"
                                },
                                {
                                    "termekkod": "08070472T",
                                    "megnevezes": "A föld amelyen élünk - Európa földrajza"
                                },
                                {
                                    "termekkod": "08070473T",
                                    "megnevezes": "A föld amelyen élünk - Távoli földrészek"
                                },
                                {
                                    "termekkod": "08070474T",
                                    "megnevezes": "A föld amelyen élünk - Hazánk földrajza"
                                },
                                {
                                    "termekkod": "08070477T",
                                    "megnevezes": "Anyanyelvi gyakorló 3"
                                },
                                {
                                    "termekkod": "08070478T",
                                    "megnevezes": "Összefoglaló feladatgyüjtemény számtech."
                                },
                                {
                                    "termekkod": "08070479T",
                                    "megnevezes": "Fizika"
                                },
                                {
                                    "termekkod": "08070481T",
                                    "megnevezes": "Fizika munkafüzet 13 év."
                                },
                                {
                                    "termekkod": "08070482T",
                                    "megnevezes": "Fizika munkafüzet 14 év."
                                },
                                {
                                    "termekkod": "08070483T",
                                    "megnevezes": "Fizikai feladatok és tévedések"
                                },
                                {
                                    "termekkod": "08070484T",
                                    "megnevezes": "Fogalmazás lépésről lépésre"
                                },
                                {
                                    "termekkod": "08070485T",
                                    "megnevezes": "Jól felkészültem-e - Fizika"
                                },
                                {
                                    "termekkod": "08070486T",
                                    "megnevezes": "Matematika gyakorló 2"
                                },
                                {
                                    "termekkod": "08070487T",
                                    "megnevezes": "Matematika gyakorló 3"
                                },
                                {
                                    "termekkod": "08070490T",
                                    "megnevezes": "Szövegszerkesztés"
                                },
                                {
                                    "termekkod": "08070491T",
                                    "megnevezes": "Szám.tech. kicsiknek"
                                },
                                {
                                    "termekkod": "08070492T",
                                    "megnevezes": "Informatika"
                                },
                                {
                                    "termekkod": "08070493T",
                                    "megnevezes": "Érettségi felv. fel. Matematika"
                                },
                                {
                                    "termekkod": "08070494T",
                                    "megnevezes": "Érettségi felv. fel. Fizika"
                                },
                                {
                                    "termekkod": "08070495T",
                                    "megnevezes": "Érettségi felv. fel. Biológia"
                                },
                                {
                                    "termekkod": "F001-KB101",
                                    "megnevezes": "férfi szövet kabát"
                                },
                                {
                                    "termekkod": "F007-NA201",
                                    "megnevezes": "férfi farmer nadrág"
                                },
                                {
                                    "termekkod": "F013-NA207",
                                    "megnevezes": "férfi szövet nadrág"
                                },
                                {
                                    "termekkod": "F021-IN215",
                                    "megnevezes": "férfi ing"
                                },
                                {
                                    "termekkod": "G001-KB101",
                                    "megnevezes": "gyermek kabát (fiú)"
                                },
                                {
                                    "termekkod": "G013-NA201",
                                    "megnevezes": "gyermek farmer nadrág (fiú)"
                                },
                                {
                                    "termekkod": "G019-NA207",
                                    "megnevezes": "gyermek pamut nadrág (fiú)"
                                },
                                {
                                    "termekkod": "G023-FE301",
                                    "megnevezes": "fiú alsó"
                                },
                                {
                                    "termekkod": "G029-FE307",
                                    "megnevezes": "fiú zokni"
                                },
                                {
                                    "termekkod": "G038-FE316",
                                    "megnevezes": "fiú harisnya"
                                },
                                {
                                    "termekkod": "G041-AL211",
                                    "megnevezes": "fiú ünneplős ruha"
                                },
                                {
                                    "termekkod": "G048-PO218",
                                    "megnevezes": "gyermek póló (fiú)"
                                },
                                {
                                    "termekkod": "G064-CI401",
                                    "megnevezes": "gyermek szandál (fiú)"
                                },
                                {
                                    "termekkod": "G073-CI410",
                                    "megnevezes": "gyermek cipő (fiú)"
                                },
                                {
                                    "termekkod": "G082-CI419",
                                    "megnevezes": "gyermek csizma (fiú)"
                                },
                                {
                                    "termekkod": "L001-KB101",
                                    "megnevezes": "gyermek kabát (lány)"
                                },
                                {
                                    "termekkod": "L013-NA201",
                                    "megnevezes": "gyermek farmer nadrág (lány)"
                                },
                                {
                                    "termekkod": "L019-NA207",
                                    "megnevezes": "gyermek pamut nadrág (lány)"
                                },
                                {
                                    "termekkod": "L023-FE301",
                                    "megnevezes": "lány alsó"
                                },
                                {
                                    "termekkod": "L029-FE307",
                                    "megnevezes": "lány zokni"
                                },
                                {
                                    "termekkod": "L033-FE311",
                                    "megnevezes": "lány harisnya"
                                },
                                {
                                    "termekkod": "L041-AL211",
                                    "megnevezes": "lány ünneplős ruha"
                                },
                                {
                                    "termekkod": "L048-PO218",
                                    "megnevezes": "gyermek póló (lány)"
                                },
                                {
                                    "termekkod": "L064-CI401",
                                    "megnevezes": "gyermek szandál (lány)"
                                },
                                {
                                    "termekkod": "L073-CI410",
                                    "megnevezes": "gyermek cipő (lány)"
                                },
                                {
                                    "termekkod": "L082-CI419",
                                    "megnevezes": "gyermek csizma (lány)"
                                },
                                {
                                    "termekkod": "N001-KB101",
                                    "megnevezes": "női szövet kabát"
                                },
                                {
                                    "termekkod": "N008-NA201",
                                    "megnevezes": "női farmer nadrág"
                                },
                                {
                                    "termekkod": "N019-FE301",
                                    "megnevezes": "női alsó"
                                },
                                {
                                    "termekkod": "N029-AL212",
                                    "megnevezes": "női koktélruha"
                                },
                                {
                                    "termekkod": "N035-AL218",
                                    "megnevezes": "kosztüm (rövid)"
                                },
                                {
                                    "termekkod": "N039-AL222",
                                    "megnevezes": "kosztüm (hosszú)"
                                },
                                {
                                    "termekkod": "U001-KI501",
                                    "megnevezes": "sál"
                                }
                            ]
                        },
                        "text/html": [
                            "<table>",
                            "<tr><th>termekkod</th><th>megnevezes</th></tr>",
                            "<tr><td>01010110T</td><td>Fotópapír A/4 fényes</td></tr>",
                            "<tr><td>01010304T</td><td>Öntapadós hologramos papír A/4</td></tr>",
                            "<tr><td>01020300T</td><td>Oklevél A/4 színes</td></tr>",
                            "<tr><td>01030091T</td><td>Emléklap A/5</td></tr>",
                            "<tr><td>01030092T</td><td>Esküvői meghívó</td></tr>",
                            "<tr><td>01040307T</td><td>Pausz papír A/4</td></tr>",
                            "<tr><td>01040502T</td><td>Előlap spirálhoz</td></tr>",
                            "<tr><td>01080093T</td><td>Fax papír 15 m</td></tr>",
                            "<tr><td>01080512T</td><td>Öntapadó A/4</td></tr>",
                            "<tr><td>01080513T</td><td>Selyemfényű karton A/4</td></tr>",
                            "<tr><td>01090499T</td><td>Color Copy A/4 250 g</td></tr>",
                            "<tr><td>01090500T</td><td>Color Copy A4 200 g</td></tr>",
                            "<tr><td>01090501T</td><td>Kreatív A/4 300g </td></tr>",
                            "<tr><td>01090515T</td><td>Színes A/3 160 gr IQ</td></tr>",
                            "<tr><td>01090516T</td><td>Színes karton A4</td></tr>",
                            "<tr><td>01090517T</td><td>Színes ofszet B/4</td></tr>",
                            "<tr><td>01100070T</td><td>Dekorációs karton</td></tr>",
                            "<tr><td>01100072T</td><td>Dipa A/4 keretezett</td></tr>",
                            "<tr><td>01100094T</td><td>Fénymásoló papír DataCopy</td></tr>",
                            "<tr><td>01100095T</td><td>Fénymásoló papír GetCopy</td></tr>",
                            "<tr><td>01100096T</td><td>Fénymásoló papír Qconnect</td></tr>",
                            "<tr><td>01100496T</td><td>Színes másoló a/4 80g</td></tr>",
                            "<tr><td>01100497T</td><td>Color Copy 160 g-os </td></tr>",
                            "<tr><td>01100503T</td><td>Color Copy A4 120 g</td></tr>",
                            "<tr><td>01100504T</td><td>Fehér másoló A/3</td></tr>",
                            "<tr><td>01100505T</td><td>Fehér másoló A/4</td></tr>",
                            "<tr><td>01100509T</td><td>Márványos A/4</td></tr>",
                            "<tr><td>01100510T</td><td>Kreatív A/4 120g </td></tr>",
                            "<tr><td>02010028T</td><td>Árazószalag </td></tr>",
                            "<tr><td>02020029T</td><td>Átírótömb A/6</td></tr>",
                            "<tr><td>02020032T</td><td>Beírókönyv A5 </td></tr>",
                            "<tr><td>02020033T</td><td>Beírókönyv A4</td></tr>",
                            "<tr><td>02020037T</td><td>Bevételi pénztárbizonylat 3×25</td></tr>",
                            "<tr><td>02020245T</td><td>Kiadási pénztárbizonylat 2×25</td></tr>",
                            "<tr><td>02030040T</td><td>Boríték LA 4 francia</td></tr>",
                            "<tr><td>02040025T</td><td>Álló irattartó karton</td></tr>",
                            "<tr><td>02040145T</td><td>Gemkapocs 28 mm</td></tr>",
                            "<tr><td>02040147T</td><td>Genotherm lefűzhető A/5</td></tr>",
                            "<tr><td>02040148T</td><td>Genotherm lefűzhető A4 10db-os</td></tr>",
                            "<tr><td>02040176T</td><td>Gyorsfűző dosszié fehér</td></tr>",
                            "<tr><td>02040177T</td><td>Gyorsfűző műa.</td></tr>",
                            "<tr><td>02040178T</td><td>Gyorsfűző műa.</td></tr>",
                            "<tr><td>02040194T</td><td>Hibajav.roll.Pritt 4,2mm</td></tr>",
                            "<tr><td>02040195T</td><td>Hibajavító ecsetes Aqua</td></tr>",
                            "<tr><td>02040196T</td><td>Hibajavító készlet Blanco</td></tr>",
                            "<tr><td>02040197T</td><td>Hibajavító lap </td></tr>",
                            "<tr><td>02040198T</td><td>Hibajavító roller 5 mm</td></tr>",
                            "<tr><td>02040199T</td><td>Hibajavító roller Pax</td></tr>",
                            "<tr><td>02040200T</td><td>Hibajavító Kores mini pen</td></tr>",
                            "<tr><td>02040206T</td><td>Írásvetítő fólia</td></tr>",
                            "<tr><td>02040207T</td><td>Iratgyűjtő ESSELTE ablakos</td></tr>",
                            "<tr><td>02040208T</td><td>Iratgyűjtő fehér</td></tr>",
                            "<tr><td>02040209T</td><td>Iratsín fehér</td></tr>",
                            "<tr><td>02040211T</td><td>Iratrendező ESSELTE</td></tr>",
                            "<tr><td>02040214T</td><td>Iromány fedél feles</td></tr>",
                            "<tr><td>02040290T</td><td>Naptár 24-es</td></tr>",
                            "<tr><td>02040291T</td><td>Naptárhát kicsi</td></tr>",
                            "<tr><td>02040294T</td><td>Notesz A/5 sima</td></tr>",
                            "<tr><td>02040298T</td><td>Notesz mintás</td></tr>",
                            "<tr><td>02040308T</td><td>Pénztárgépsz. 2 pl. nem öníró</td></tr>",
                            "<tr><td>02040309T</td><td>Pénztárgépszalag 2pl SC 57.5/60</td></tr>",
                            "<tr><td>02040401T</td><td>Tűzőgép Boxer 10</td></tr>",
                            "<tr><td>02040402T</td><td>Tűzőgép Boxer </td></tr>",
                            "<tr><td>02040403T</td><td>Tűzőgép SAX 239</td></tr>",
                            "<tr><td>02040404T</td><td>Tűzőgép EAGLE</td></tr>",
                            "<tr><td>02040405T</td><td>Tűzőkapocs 10-es</td></tr>",
                            "<tr><td>02040506T</td><td>Fólia tasakos A4 125 mik.</td></tr>",
                            "<tr><td>02040507T</td><td>Fólia tasakos A4 80 mik.</td></tr>",
                            "<tr><td>02040508T</td><td>Fólia tasakos A4100 mik.</td></tr>",
                            "<tr><td>02050460T</td><td>Boríték C/4-es</td></tr>",
                            "<tr><td>02050461T</td><td>Boríték B/4-es</td></tr>",
                            "<tr><td>02060034T</td><td>Bélyegzőfesték </td></tr>",
                            "<tr><td>02060038T</td><td>Bélyegző IDEAL 50</td></tr>",
                            "<tr><td>02060039T</td><td>Bélyegző párna</td></tr>",
                            "<tr><td>02060447T</td><td>Bélyegző pocket</td></tr>",
                            "<tr><td>02060448T</td><td>Bélyegző RP 18-47</td></tr>",
                            "<tr><td>02080069T</td><td>CD tartó tok</td></tr>",
                            "<tr><td>02080081T</td><td>Dvd</td></tr>",
                            "<tr><td>02080109T</td><td>Floppy lemez</td></tr>",
                            "<tr><td>02080226T</td><td>Kapocskiszedő</td></tr>",
                            "<tr><td>02080431T</td><td>Álló irattartó</td></tr>",
                            "<tr><td>02080432T</td><td>Tokos iratrendező</td></tr>",
                            "<tr><td>02080433T</td><td>Ragasztószalag 19 mm-es</td></tr>",
                            "<tr><td>02080434T</td><td>Mappa müa A/4</td></tr>",
                            "<tr><td>02080436T</td><td>Irattartó müa. boríték A/4</td></tr>",
                            "<tr><td>02080449T</td><td>Térképtű színes</td></tr>",
                            "<tr><td>02080450T</td><td>Gémkapocs 28-as színes</td></tr>",
                            "<tr><td>02080451T</td><td>Gémkapocs 50-es</td></tr>",
                            "<tr><td>02080452T</td><td>Tűzőgép mini</td></tr>",
                            "<tr><td>02080453T</td><td>Lyukasztó EAGLE</td></tr>",
                            "<tr><td>02080454T</td><td>Lyukasztó BOXER</td></tr>",
                            "<tr><td>02080455T</td><td>Festékpatron BCI-3BK</td></tr>",
                            "<tr><td>02080456T</td><td>Genoterm HERLITZ 10-es</td></tr>",
                            "<tr><td>02080511T</td><td>Oki toner C</td></tr>",
                            "<tr><td>02080514T</td><td>Spirál 1/4 </td></tr>",
                            "<tr><td>03010342T</td><td>Ragasztószalag  TIXO</td></tr>",
                            "<tr><td>03010344T</td><td>Ragasztószalag nagy 12 mm</td></tr>",
                            "<tr><td>03010345T</td><td>Ragasztószalag széles barna</td></tr>",
                            "<tr><td>03050076T</td><td>Díszkötöző szalag metál nagy</td></tr>",
                            "<tr><td>03050077T</td><td>Diszkötöző szalag arany</td></tr>",
                            "<tr><td>03050078T</td><td>Díszkötöző szalag metál kicsi</td></tr>",
                            "<tr><td>03080003T</td><td>Ajándék cs. tasak italos</td></tr>",
                            "<tr><td>03080004T</td><td>Ajándék cs. tasak italos, fólia</td></tr>",
                            "<tr><td>03080006T</td><td>Ajándék cs. tasak mintás kicsi</td></tr>",
                            "<tr><td>03080009T</td><td>Ajándék csom. 100x70 metál</td></tr>",
                            "<tr><td>03080012T</td><td>Ajándék csom. 200x70</td></tr>",
                            "<tr><td>03080013T</td><td>Ajándék csom. 50x70 húsvéti</td></tr>",
                            "<tr><td>03080014T</td><td>Ajándék csom. 70x50 metál</td></tr>",
                            "<tr><td>03080015T</td><td>Ajándék csom. gyűrt</td></tr>",
                            "<tr><td>03080016T</td><td>házt.csom.  5 ív</td></tr>",
                            "<tr><td>03080017T</td><td>iskolai csomagoló papír</td></tr>",
                            "<tr><td>03080019T</td><td>Ajándék csom. Krepp</td></tr>",
                            "<tr><td>03080020T</td><td>Ajándék csom. nagy  </td></tr>",
                            "<tr><td>03080021T</td><td>Ajándék csom. vékony</td></tr>",
                            "<tr><td>03080030T</td><td>Ajándék cs. húsvéti 200x70</td></tr>",
                            "<tr><td>03080439T</td><td>Italtartó doboz</td></tr>",
                            "<tr><td>04020445T</td><td>Határidő napló 2010-s</td></tr>",
                            "<tr><td>04030235T</td><td>Képeslap karácsonyi borítékos</td></tr>",
                            "<tr><td>04030237T</td><td>Képeslap kerek</td></tr>",
                            "<tr><td>04030238T</td><td>Képeslap stancolt</td></tr>",
                            "<tr><td>04030239T</td><td>Képeslap stancolt szív</td></tr>",
                            "<tr><td>04030243T</td><td>Képkirakó Dirib-darab</td></tr>",
                            "<tr><td>04030261T</td><td>Levélpapír állatos</td></tr>",
                            "<tr><td>04030262T</td><td>Levélpapír sima</td></tr>",
                            "<tr><td>04030263T</td><td>Levélpapír szett</td></tr>",
                            "<tr><td>04030264T</td><td>Levélpapír szett </td></tr>",
                            "<tr><td>04030265T</td><td>Levélpapír szett natur, mintás</td></tr>",
                            "<tr><td>04030266T</td><td>Levélpapír szett virágos</td></tr>",
                            "<tr><td>04030285T</td><td>Mikulás zacskó</td></tr>",
                            "<tr><td>04030286T</td><td>Műanyag állatok</td></tr>",
                            "<tr><td>04030288T</td><td>Műanyag pohár 1 dl-es</td></tr>",
                            "<tr><td>04040387T</td><td>Tenisz labda</td></tr>",
                            "<tr><td>04050022T</td><td>Álarc</td></tr>",
                            "<tr><td>04050023T</td><td>Álarc fejdísz</td></tr>",
                            "<tr><td>04050024T</td><td>Álarc szemüveg</td></tr>",
                            "<tr><td>04050035T</td><td>Bérlet tok</td></tr>",
                            "<tr><td>04050073T</td><td>Díszdoboz kar.</td></tr>",
                            "<tr><td>04050074T</td><td>Díszdoboz tollnak 2 db-os</td></tr>",
                            "<tr><td>04050075T</td><td>Díszdoboz tollnak 2 db-os keskeny</td></tr>",
                            "<tr><td>04050171T</td><td>Gumilabda közepes</td></tr>",
                            "<tr><td>04050187T</td><td>Hajgumi macis</td></tr>",
                            "<tr><td>04050203T</td><td>Hűtőmágnes</td></tr>",
                            "<tr><td>04050204T</td><td>Hűtőmágnes WD</td></tr>",
                            "<tr><td>04050220T</td><td>Játék autó</td></tr>",
                            "<tr><td>04050221T</td><td>Játékautó Blisteres</td></tr>",
                            "<tr><td>04050222T</td><td>Játékautó elemes</td></tr>",
                            "<tr><td>04050223T</td><td>Játékautó mini</td></tr>",
                            "<tr><td>04050224T</td><td>Jelzőkréta</td></tr>",
                            "<tr><td>04050252T</td><td>Kulcstartó Csőrikés</td></tr>",
                            "<tr><td>04050253T</td><td>Kulcstartó figurás</td></tr>",
                            "<tr><td>04050254T</td><td>Kulcstartó intarziás állatos</td></tr>",
                            "<tr><td>04050269T</td><td>Lufi hullámos</td></tr>",
                            "<tr><td>04050320T</td><td>Plüss  QX állatok</td></tr>",
                            "<tr><td>04050322T</td><td>Plüss sárkány</td></tr>",
                            "<tr><td>04050358T</td><td>Strandlabda </td></tr>",
                            "<tr><td>04080270T</td><td>Mappa bőr A5</td></tr>",
                            "<tr><td>04080271T</td><td>Mappa PVC villámzáras</td></tr>",
                            "<tr><td>04080272T</td><td>Mappa PVC villámzáras  képes</td></tr>",
                            "<tr><td>04080443T</td><td>Emlékkönyv lakatos</td></tr>",
                            "<tr><td>04110066T</td><td>Címke 8 db-os</td></tr>",
                            "<tr><td>04110067T</td><td>Címke WD. állat</td></tr>",
                            "<tr><td>04110068T</td><td>Címke egyszínű</td></tr>",
                            "<tr><td>04110227T</td><td>Képeslap  borítékos</td></tr>",
                            "<tr><td>04110228T</td><td>Képeslap &quot;Nászajándék&quot;</td></tr>",
                            "<tr><td>04110229T</td><td>Képeslap &quot;Részvét&quot;</td></tr>",
                            "<tr><td>04110230T</td><td>Képeslap humoros </td></tr>",
                            "<tr><td>04110231T</td><td>Képeslap humoros borítékos</td></tr>",
                            "<tr><td>04110232T</td><td>Képeslap humoros kaparós</td></tr>",
                            "<tr><td>04110233T</td><td>Képeslap humoros</td></tr>",
                            "<tr><td>04110258T</td><td>Lampion</td></tr>",
                            "<tr><td>04110274T</td><td>Matrica autóra H</td></tr>",
                            "<tr><td>04110275T</td><td>Matrica motoros kicsi</td></tr>",
                            "<tr><td>04110276T</td><td>Matrica Stickers nagy állatos</td></tr>",
                            "<tr><td>04110277T</td><td>Matrica Stickers szíves</td></tr>",
                            "<tr><td>04110278T</td><td>Matrica Test ékszer tattoo</td></tr>",
                            "<tr><td>04110279T</td><td>Matrica tetoválás</td></tr>",
                            "<tr><td>04110280T</td><td>Matrica tetoválós kicsi</td></tr>",
                            "<tr><td>04110281T</td><td>Matrica világítós </td></tr>",
                            "<tr><td>04110282T</td><td>Matrica WD kicsi</td></tr>",
                            "<tr><td>04110283T</td><td>Meghívó állatos</td></tr>",
                            "<tr><td>04110284T</td><td>Meghívó borítékos</td></tr>",
                            "<tr><td>04110362T</td><td>Szalvéta gyűjtőknek</td></tr>",
                            "<tr><td>05010026T</td><td>Alufólia 10 m-es</td></tr>",
                            "<tr><td>05010369T</td><td>Szemetes zsák 60 literes</td></tr>",
                            "<tr><td>05010370T</td><td>Szilvia csomagoló</td></tr>",
                            "<tr><td>05040310T</td><td>Pill.ragasztó</td></tr>",
                            "<tr><td>05040348T</td><td>Rajzszeg színes</td></tr>",
                            "<tr><td>05040349T</td><td>Rajzszeg</td></tr>",
                            "<tr><td>05050045T</td><td>Celofán</td></tr>",
                            "<tr><td>05050046T</td><td>Celofán 50 db-os</td></tr>",
                            "<tr><td>05050170T</td><td>Gumigyűrű</td></tr>",
                            "<tr><td>05050346T</td><td>Rágógumi Orbit</td></tr>",
                            "<tr><td>05080340T</td><td>Ragasztó, Technokol 35g kék</td></tr>",
                            "<tr><td>05080341T</td><td>Ragasztó, Technokol 35g piros</td></tr>",
                            "<tr><td>05110359T</td><td>Szalvéta </td></tr>",
                            "<tr><td>05110360T</td><td>Szalvéta egyszínű</td></tr>",
                            "<tr><td>05110361T</td><td>Szalvéta Goma húsvéti</td></tr>",
                            "<tr><td>05110363T</td><td>Szalvéta dekor</td></tr>",
                            "<tr><td>05110364T</td><td>Szalvéta kicsi virágos</td></tr>",
                            "<tr><td>06010036T</td><td>Betűtartó sin</td></tr>",
                            "<tr><td>06010082T</td><td>Ecset Centrum 10,11,12</td></tr>",
                            "<tr><td>06010083T</td><td>Ecset Centrum 7,8,9</td></tr>",
                            "<tr><td>06010084T</td><td>Ecset Deák 2-es</td></tr>",
                            "<tr><td>06010085T</td><td>Ecset Lizzy 10-es</td></tr>",
                            "<tr><td>06010111T</td><td>Füzet  A/4 </td></tr>",
                            "<tr><td>06010112T</td><td>Füzet  A4 mintás</td></tr>",
                            "<tr><td>06010114T</td><td>Füzet A/5 hangjegy 36/16</td></tr>",
                            "<tr><td>06010115T</td><td>Füzet A/5, mintás</td></tr>",
                            "<tr><td>06010201T</td><td>Hőmérő, műa.</td></tr>",
                            "<tr><td>06010202T</td><td>Hurkapálca 10 db-os</td></tr>",
                            "<tr><td>06010305T</td><td>Papírcenti 100 cm-es</td></tr>",
                            "<tr><td>06010365T</td><td>Számegyenes</td></tr>",
                            "<tr><td>06010366T</td><td>Számológép Roxin</td></tr>",
                            "<tr><td>06010367T</td><td>Számolókorong</td></tr>",
                            "<tr><td>06010368T</td><td>Számolópálca</td></tr>",
                            "<tr><td>06010375T</td><td>Szögmérő 180 fokos műa.</td></tr>",
                            "<tr><td>06010376T</td><td>Szögmérő papír</td></tr>",
                            "<tr><td>06010377T</td><td>Szögmérő színes</td></tr>",
                            "<tr><td>06040089T</td><td>Ellenőrzőborító</td></tr>",
                            "<tr><td>06040175T</td><td>Gumis mappa Köbüki</td></tr>",
                            "<tr><td>06040179T</td><td>Gyurma színes 200 g-os</td></tr>",
                            "<tr><td>06040180T</td><td>Gyurma színes natúr</td></tr>",
                            "<tr><td>06040183T</td><td>Gyűrűskönyv bet. A/5</td></tr>",
                            "<tr><td>06040184T</td><td>Gyűrűskönyv betét A/5</td></tr>",
                            "<tr><td>06040186T</td><td>Gyűrűskönyv színes</td></tr>",
                            "<tr><td>06040205T</td><td>Indigó Pelikán</td></tr>",
                            "<tr><td>06040206T</td><td>kék indigó</td></tr>",
                            "<tr><td>06040212T</td><td>Írólap 10-50 ffam.</td></tr>",
                            "<tr><td>06040213T</td><td>Írólap 20-50 </td></tr>",
                            "<tr><td>06040246T</td><td>Körző</td></tr>",
                            "<tr><td>06040248T</td><td>Körző maped</td></tr>",
                            "<tr><td>06040323T</td><td>Post-it 51×38 100 lapos</td></tr>",
                            "<tr><td>06040324T</td><td>Post-it 75×75 100 lapos</td></tr>",
                            "<tr><td>06040326T</td><td>Radír KOH-I-NOR 80</td></tr>",
                            "<tr><td>06040330T</td><td>Radír Tikky 30 </td></tr>",
                            "<tr><td>06040331T</td><td>Radír Tikky 40 </td></tr>",
                            "<tr><td>06040347T</td><td>Rajzlap A/4 10db ffam.</td></tr>",
                            "<tr><td>06040350T</td><td>Regiszteres füzet A4</td></tr>",
                            "<tr><td>06040351T</td><td>Regiszteres füzet A5 Hightech</td></tr>",
                            "<tr><td>06040352T</td><td>Rovatolt papír 20 íves</td></tr>",
                            "<tr><td>06040353T</td><td>Sorvezető</td></tr>",
                            "<tr><td>06040354T</td><td>Sp.Füzet A/4  perforált, lyuk.</td></tr>",
                            "<tr><td>06040355T</td><td>Sp.Füzet A/4 70-as</td></tr>",
                            "<tr><td>06040356T</td><td>Sp.Füzet A/4  70es</td></tr>",
                            "<tr><td>06040378T</td><td>Szövegkiemelő vékony</td></tr>",
                            "<tr><td>06040379T</td><td>Szövegkiemelő </td></tr>",
                            "<tr><td>06040380T</td><td>Szövegkiemelő</td></tr>",
                            "<tr><td>06040381T</td><td>Szövegkiemelő Videotip</td></tr>",
                            "<tr><td>06040382T</td><td>Táblafilc</td></tr>",
                            "<tr><td>06040383T</td><td>Taffet papír</td></tr>",
                            "<tr><td>06040384T</td><td>Technika cs. I-II-III-IV</td></tr>",
                            "<tr><td>06040385T</td><td>Tempera szóló ezüst</td></tr>",
                            "<tr><td>06040386T</td><td>Tempera szóló színes</td></tr>",
                            "<tr><td>06040392T</td><td>Tolltartó 1 zipzáros</td></tr>",
                            "<tr><td>06040393T</td><td>Tolltartó 2 részes NG.</td></tr>",
                            "<tr><td>06040394T</td><td>Tolltartó zipzáras</td></tr>",
                            "<tr><td>06040395T</td><td>Tolltartó 2 zipzáros töltött</td></tr>",
                            "<tr><td>06040397T</td><td>Tolltartó asztali</td></tr>",
                            "<tr><td>06040398T</td><td>Tolltartó hengeres </td></tr>",
                            "<tr><td>06040399T</td><td>Tombola tömb</td></tr>",
                            "<tr><td>06040400T</td><td>Tornazsák</td></tr>",
                            "<tr><td>06040446T</td><td>Számológép tudományos</td></tr>",
                            "<tr><td>06050249T</td><td>Krepp papír</td></tr>",
                            "<tr><td>06050301T</td><td>Olló gyerek </td></tr>",
                            "<tr><td>06050302T</td><td>Olló Tagit 18 cm-es</td></tr>",
                            "<tr><td>06050303T</td><td>Olló, iskolai</td></tr>",
                            "<tr><td>06080116T</td><td>Füzet A5 1-8 osz.-ig</td></tr>",
                            "<tr><td>06080117T</td><td>Füzetborító A/4 átlátszó</td></tr>",
                            "<tr><td>06080118T</td><td>Füzetborító átlátszó A5</td></tr>",
                            "<tr><td>06080119T</td><td>Füzetborító mesefig.</td></tr>",
                            "<tr><td>06080120T</td><td>Füzetborító öntapadó kicsi</td></tr>",
                            "<tr><td>06080121T</td><td>Füzetborító öntapadó tekercses</td></tr>",
                            "<tr><td>06080122T</td><td>Füzetborító öntapadós nagy</td></tr>",
                            "<tr><td>06080124T</td><td>Füzettartó A/4 keménytáblás</td></tr>",
                            "<tr><td>06080125T</td><td>Füzettartó A/5 vastag</td></tr>",
                            "<tr><td>06080126T</td><td>Füzettartó A/5  </td></tr>",
                            "<tr><td>06080188T</td><td>Hegyező gép</td></tr>",
                            "<tr><td>06080189T</td><td>Hegyező műanyag dupla</td></tr>",
                            "<tr><td>06080190T</td><td>Hegyező műanyag egyes</td></tr>",
                            "<tr><td>06080191T</td><td>Hegyező tartályos egyes</td></tr>",
                            "<tr><td>06080192T</td><td>Hegyző fém 1 lyukú</td></tr>",
                            "<tr><td>06080193T</td><td>Hegyző fém 2 lyukú</td></tr>",
                            "<tr><td>06080259T</td><td>Leckefüzet</td></tr>",
                            "<tr><td>06080332T</td><td>Radírtoll betét ER100</td></tr>",
                            "<tr><td>06080333T</td><td>Radírtoll betét vastag</td></tr>",
                            "<tr><td>06080335T</td><td>Ragasztó 9 g Pax</td></tr>",
                            "<tr><td>06080337T</td><td>Ragasztó Gyurma</td></tr>",
                            "<tr><td>06080339T</td><td>Ragasztó kores</td></tr>",
                            "<tr><td>06080407T</td><td>Vízfesték  12 színű nagy</td></tr>",
                            "<tr><td>06080408T</td><td>Vízfesték 12 db-os </td></tr>",
                            "<tr><td>06080409T</td><td>Vízfesték 12 színű kerek</td></tr>",
                            "<tr><td>06080410T</td><td>Vízfesték 12db-os kínai</td></tr>",
                            "<tr><td>06080411T</td><td>Vonalzó 15 cm-es ESSELTE</td></tr>",
                            "<tr><td>06080412T</td><td>Vonalzó 16 cm-es LIZZY</td></tr>",
                            "<tr><td>06080413T</td><td>Vonalzó 30 cm</td></tr>",
                            "<tr><td>06080415T</td><td>Vonalzó 45 fokos</td></tr>",
                            "<tr><td>06080416T</td><td>Vonalzó 60 fokos</td></tr>",
                            "<tr><td>06080417T</td><td>Zászló papír</td></tr>",
                            "<tr><td>06080422T</td><td>Füzettartó A/4</td></tr>",
                            "<tr><td>06080423T</td><td>Beíró A/5 kockás</td></tr>",
                            "<tr><td>06080424T</td><td>Füzetborító A/4 mintás</td></tr>",
                            "<tr><td>06080425T</td><td>Miliméterpapír</td></tr>",
                            "<tr><td>06080426T</td><td>Szótárfüzet Lizzy</td></tr>",
                            "<tr><td>06080427T</td><td>Ablakkréta</td></tr>",
                            "<tr><td>06080428T</td><td>Ecsetkészlet</td></tr>",
                            "<tr><td>06080429T</td><td>Meghívó ballagási</td></tr>",
                            "<tr><td>06080430T</td><td>Öntapadős betűk</td></tr>",
                            "<tr><td>06080441T</td><td>Gyurmakés</td></tr>",
                            "<tr><td>07010137T</td><td>G.toll betét PAX tip.</td></tr>",
                            "<tr><td>07010139T</td><td>G.toll betét S7L </td></tr>",
                            "<tr><td>07010140T</td><td>G.toll betét Stabilo</td></tr>",
                            "<tr><td>07010141T</td><td>G.toll betét X20</td></tr>",
                            "<tr><td>07010142T</td><td>G.toll betét Zebra F-0.7</td></tr>",
                            "<tr><td>07010143T</td><td>G.toll betét Zebra H-0,7</td></tr>",
                            "<tr><td>07010144T</td><td>G.toll betét Zebra K-0,7</td></tr>",
                            "<tr><td>07010244T</td><td>Kerámiatoll</td></tr>",
                            "<tr><td>07030103T</td><td>Filctoll TINTEN PEN</td></tr>",
                            "<tr><td>07030104T</td><td>Filctoll vastag ARTIP</td></tr>",
                            "<tr><td>07030105T</td><td>Filctoll, alkoholos Centropen</td></tr>",
                            "<tr><td>07030106T</td><td>Filctoll, alkoholosOHP F-M-C</td></tr>",
                            "<tr><td>07030107T</td><td>Filctoll, textil Edding 4500</td></tr>",
                            "<tr><td>07030108T</td><td>Filctoll CD író</td></tr>",
                            "<tr><td>07040047T</td><td>Ceruza 2H-4B</td></tr>",
                            "<tr><td>07040049T</td><td>Ceruza Conté zöld</td></tr>",
                            "<tr><td>07040050T</td><td>Ceruza Cseh</td></tr>",
                            "<tr><td>07040051T</td><td>Ceruza háromszög </td></tr>",
                            "<tr><td>07040052T</td><td>Ceruza 2H-3B Koh-i-nor</td></tr>",
                            "<tr><td>07040053T</td><td>Ceruza HB radiros</td></tr>",
                            "<tr><td>07040054T</td><td>Ceruza kártyás</td></tr>",
                            "<tr><td>07040055T</td><td>Ceruza piros-kék</td></tr>",
                            "<tr><td>07040056T</td><td>Ceruza piros-kék vékony</td></tr>",
                            "<tr><td>07040057T</td><td>Ceruza Progresso</td></tr>",
                            "<tr><td>07040058T</td><td>Ceruza radíros kínai</td></tr>",
                            "<tr><td>07040059T</td><td>Ceruza smaragd</td></tr>",
                            "<tr><td>07040060T</td><td>Ceruza stabilo swano</td></tr>",
                            "<tr><td>07040061T</td><td>Ceruza stabilo opera</td></tr>",
                            "<tr><td>07040097T</td><td>Filctoll </td></tr>",
                            "<tr><td>07040098T</td><td>Filctoll document pen</td></tr>",
                            "<tr><td>07040099T</td><td>Filctoll Edding 750</td></tr>",
                            "<tr><td>07040100T</td><td>Filctoll Marvy alkoholos</td></tr>",
                            "<tr><td>07040101T</td><td>Filctoll permanent vastag</td></tr>",
                            "<tr><td>07040102T</td><td>Filctoll supra fine</td></tr>",
                            "<tr><td>07040127T</td><td>G. toll betét mini</td></tr>",
                            "<tr><td>07040128T</td><td>G. toll betét mini fém</td></tr>",
                            "<tr><td>07040129T</td><td>G. toll betét réz</td></tr>",
                            "<tr><td>07040130T</td><td>G. toll betét S7S</td></tr>",
                            "<tr><td>07040132T</td><td>G.toll betét csavaros</td></tr>",
                            "<tr><td>07040133T</td><td>G.toll betét görbe hegyű</td></tr>",
                            "<tr><td>07040165T</td><td>Golyóstoll UNI laknock</td></tr>",
                            "<tr><td>07040166T</td><td>Golyóstoll Zebra 301</td></tr>",
                            "<tr><td>07040167T</td><td>Golyóstoll Zebra mini</td></tr>",
                            "<tr><td>07040168T</td><td>Golyóstoll Zebra new hard</td></tr>",
                            "<tr><td>07040169T</td><td>Golyóstoll Zodiák</td></tr>",
                            "<tr><td>07040215T</td><td>Ironbél  2B ICO</td></tr>",
                            "<tr><td>07040216T</td><td>Ironbél B 0,5</td></tr>",
                            "<tr><td>07040217T</td><td>Ironbél H 0,5</td></tr>",
                            "<tr><td>07040218T</td><td>Ironbél HB 0,5</td></tr>",
                            "<tr><td>07040219T</td><td>Ironbél HI-POLIMER HB 0,7</td></tr>",
                            "<tr><td>07040257T</td><td>Lakk filc Edding 750</td></tr>",
                            "<tr><td>07040388T</td><td>Tintapatron /kék/</td></tr>",
                            "<tr><td>07040389T</td><td>Tintapatron 30 db-os kék</td></tr>",
                            "<tr><td>07040390T</td><td>Tintapatron színes</td></tr>",
                            "<tr><td>07040391T</td><td>Toll Centropen roller</td></tr>",
                            "<tr><td>07050462T</td><td>Töltőtoll tinta </td></tr>",
                            "<tr><td>07050463T</td><td>Ceruzafogó</td></tr>",
                            "<tr><td>07050464T</td><td>Szövegkiemelő Staedtler</td></tr>",
                            "<tr><td>07080062T</td><td>Ceruza szén</td></tr>",
                            "<tr><td>07080063T</td><td>Ceruza szorzótáblás</td></tr>",
                            "<tr><td>07080064T</td><td>Ceruza zöld színű</td></tr>",
                            "<tr><td>07080065T</td><td>Ceruza kínai</td></tr>",
                            "<tr><td>07080150T</td><td>Golyóstoll</td></tr>",
                            "<tr><td>07080151T</td><td>Golyóstoll + ceruza Twister 2in1</td></tr>",
                            "<tr><td>07080152T</td><td>Golyóstoll 3 funkciós </td></tr>",
                            "<tr><td>07080153T</td><td>Golyóstoll illatos ICO</td></tr>",
                            "<tr><td>07080154T</td><td>Golyóstoll INOXCROM</td></tr>",
                            "<tr><td>07080155T</td><td>Golyóstoll</td></tr>",
                            "<tr><td>07080156T</td><td>Golyóstoll kupakos piros</td></tr>",
                            "<tr><td>07080157T</td><td>Golyóstoll Montex Hytone</td></tr>",
                            "<tr><td>07080159T</td><td>Golyóstoll Pax tip.</td></tr>",
                            "<tr><td>07080160T</td><td>Golyóstoll penac</td></tr>",
                            "<tr><td>07080161T</td><td>Golyóstoll kétszínű</td></tr>",
                            "<tr><td>07080162T</td><td>Golyóstoll Stabilo piros</td></tr>",
                            "<tr><td>07080316T</td><td>Pixiron KOH-I-NOOR</td></tr>",
                            "<tr><td>07080421T</td><td>Zseléstoll Lizzy Card</td></tr>",
                            "<tr><td>07080466T</td><td>Golyóstoll Stabiló 308</td></tr>",
                            "<tr><td>08070472T</td><td>A föld amelyen élünk - Európa földrajza</td></tr>",
                            "<tr><td>08070473T</td><td>A föld amelyen élünk - Távoli földrészek</td></tr>",
                            "<tr><td>08070474T</td><td>A föld amelyen élünk - Hazánk földrajza</td></tr>",
                            "<tr><td>08070477T</td><td>Anyanyelvi gyakorló 3</td></tr>",
                            "<tr><td>08070478T</td><td>Összefoglaló feladatgyüjtemény számtech.</td></tr>",
                            "<tr><td>08070479T</td><td>Fizika</td></tr>",
                            "<tr><td>08070481T</td><td>Fizika munkafüzet 13 év.</td></tr>",
                            "<tr><td>08070482T</td><td>Fizika munkafüzet 14 év.</td></tr>",
                            "<tr><td>08070483T</td><td>Fizikai feladatok és tévedések</td></tr>",
                            "<tr><td>08070484T</td><td>Fogalmazás lépésről lépésre</td></tr>",
                            "<tr><td>08070485T</td><td>Jól felkészültem-e - Fizika</td></tr>",
                            "<tr><td>08070486T</td><td>Matematika gyakorló 2</td></tr>",
                            "<tr><td>08070487T</td><td>Matematika gyakorló 3</td></tr>",
                            "<tr><td>08070490T</td><td>Szövegszerkesztés</td></tr>",
                            "<tr><td>08070491T</td><td>Szám.tech. kicsiknek</td></tr>",
                            "<tr><td>08070492T</td><td>Informatika</td></tr>",
                            "<tr><td>08070493T</td><td>Érettségi felv. fel. Matematika</td></tr>",
                            "<tr><td>08070494T</td><td>Érettségi felv. fel. Fizika</td></tr>",
                            "<tr><td>08070495T</td><td>Érettségi felv. fel. Biológia</td></tr>",
                            "<tr><td>F001-KB101</td><td>férfi szövet kabát</td></tr>",
                            "<tr><td>F007-NA201</td><td>férfi farmer nadrág</td></tr>",
                            "<tr><td>F013-NA207</td><td>férfi szövet nadrág</td></tr>",
                            "<tr><td>F021-IN215</td><td>férfi ing</td></tr>",
                            "<tr><td>G001-KB101</td><td>gyermek kabát (fiú)</td></tr>",
                            "<tr><td>G013-NA201</td><td>gyermek farmer nadrág (fiú)</td></tr>",
                            "<tr><td>G019-NA207</td><td>gyermek pamut nadrág (fiú)</td></tr>",
                            "<tr><td>G023-FE301</td><td>fiú alsó</td></tr>",
                            "<tr><td>G029-FE307</td><td>fiú zokni</td></tr>",
                            "<tr><td>G038-FE316</td><td>fiú harisnya</td></tr>",
                            "<tr><td>G041-AL211</td><td>fiú ünneplős ruha</td></tr>",
                            "<tr><td>G048-PO218</td><td>gyermek póló (fiú)</td></tr>",
                            "<tr><td>G064-CI401</td><td>gyermek szandál (fiú)</td></tr>",
                            "<tr><td>G073-CI410</td><td>gyermek cipő (fiú)</td></tr>",
                            "<tr><td>G082-CI419</td><td>gyermek csizma (fiú)</td></tr>",
                            "<tr><td>L001-KB101</td><td>gyermek kabát (lány)</td></tr>",
                            "<tr><td>L013-NA201</td><td>gyermek farmer nadrág (lány)</td></tr>",
                            "<tr><td>L019-NA207</td><td>gyermek pamut nadrág (lány)</td></tr>",
                            "<tr><td>L023-FE301</td><td>lány alsó</td></tr>",
                            "<tr><td>L029-FE307</td><td>lány zokni</td></tr>",
                            "<tr><td>L033-FE311</td><td>lány harisnya</td></tr>",
                            "<tr><td>L041-AL211</td><td>lány ünneplős ruha</td></tr>",
                            "<tr><td>L048-PO218</td><td>gyermek póló (lány)</td></tr>",
                            "<tr><td>L064-CI401</td><td>gyermek szandál (lány)</td></tr>",
                            "<tr><td>L073-CI410</td><td>gyermek cipő (lány)</td></tr>",
                            "<tr><td>L082-CI419</td><td>gyermek csizma (lány)</td></tr>",
                            "<tr><td>N001-KB101</td><td>női szövet kabát</td></tr>",
                            "<tr><td>N008-NA201</td><td>női farmer nadrág</td></tr>",
                            "<tr><td>N019-FE301</td><td>női alsó</td></tr>",
                            "<tr><td>N029-AL212</td><td>női koktélruha</td></tr>",
                            "<tr><td>N035-AL218</td><td>kosztüm (rövid)</td></tr>",
                            "<tr><td>N039-AL222</td><td>kosztüm (hosszú)</td></tr>",
                            "<tr><td>U001-KI501</td><td>sál</td></tr>",
                            "</table>"
                        ]
                    }
                }
            ],
            "execution_count": 3
        },
        {
            "cell_type": "markdown",
            "source": [
                "7. <span style=\"background-color: rgb(255, 255, 255); color: rgb(0, 0, 0); font-family: &quot;Open Sans&quot;, sans-serif; font-size: 14.44px;\">Listázzuk azon ügyfeleket, akik még nem fizettek bankkártyával!&nbsp;</span> \n",
                "\n",
                "a. Csak az ügyfelek neve jelenjen meg!"
            ],
            "metadata": {
                "azdata_cell_guid": "7ebf7ddd-1bd2-4246-815a-be8ae37e3b5b"
            },
            "attachments": {}
        },
        {
            "cell_type": "code",
            "source": [
                "SELECT nev\r\n",
                "FROM ugyfel\r\n",
                "WHERE [login] NOT IN (SELECT [login] FROM Rendeles WHERE FIZ_MOD ='bankkártya')"
            ],
            "metadata": {
                "azdata_cell_guid": "84b7e896-f36e-4985-88f5-e0f706494fef",
                "language": "sql",
                "tags": []
            },
            "outputs": [
                {
                    "output_type": "display_data",
                    "data": {
                        "text/html": "(9 rows affected)"
                    },
                    "metadata": {}
                },
                {
                    "output_type": "display_data",
                    "data": {
                        "text/html": "Total execution time: 00:00:00.050"
                    },
                    "metadata": {}
                },
                {
                    "output_type": "execute_result",
                    "metadata": {},
                    "execution_count": 4,
                    "data": {
                        "application/vnd.dataresource+json": {
                            "schema": {
                                "fields": [
                                    {
                                        "name": "nev"
                                    }
                                ]
                            },
                            "data": [
                                {
                                    "nev": "Biró Alexander"
                                },
                                {
                                    "nev": "Csóti Attila"
                                },
                                {
                                    "nev": "Bagi Beáta"
                                },
                                {
                                    "nev": "Mór Ottó"
                                },
                                {
                                    "nev": "Molnár Eszter"
                                },
                                {
                                    "nev": "Kiss Anita"
                                },
                                {
                                    "nev": "Kispál Márk"
                                },
                                {
                                    "nev": "Nagy Péter"
                                },
                                {
                                    "nev": "Szűcs Norbert"
                                }
                            ]
                        },
                        "text/html": [
                            "<table>",
                            "<tr><th>nev</th></tr>",
                            "<tr><td>Biró Alexander</td></tr>",
                            "<tr><td>Csóti Attila</td></tr>",
                            "<tr><td>Bagi Beáta</td></tr>",
                            "<tr><td>Mór Ottó</td></tr>",
                            "<tr><td>Molnár Eszter</td></tr>",
                            "<tr><td>Kiss Anita</td></tr>",
                            "<tr><td>Kispál Márk</td></tr>",
                            "<tr><td>Nagy Péter</td></tr>",
                            "<tr><td>Szűcs Norbert</td></tr>",
                            "</table>"
                        ]
                    }
                }
            ],
            "execution_count": 4
        },
        {
            "cell_type": "markdown",
            "source": [
                "8. <span style=\"background-color: rgb(255, 255, 255); color: rgb(0, 0, 0); font-family: &quot;Open Sans&quot;, sans-serif; font-size: 14.44px;\">Mennyibe kerül a második legnagyobb listaárú termék?</span>"
            ],
            "metadata": {
                "azdata_cell_guid": "27a3d3dc-eafb-4a5e-b103-9f465b9eda8f"
            },
            "attachments": {}
        },
        {
            "cell_type": "code",
            "source": [
                ""
            ],
            "metadata": {
                "azdata_cell_guid": "f09edb3f-649b-4a96-958e-9e12774ae8b7",
                "language": "sql"
            },
            "outputs": [],
            "execution_count": null
        },
        {
            "cell_type": "markdown",
            "source": [
                "9. <span style=\"background-color: rgb(255, 255, 255); color: rgb(0, 0, 0); font-family: &quot;Open Sans&quot;, sans-serif; font-size: 14.44px;\">Melyik raktár(ak)ban van az a termék, amelyből a legnagyobb készlet van?&nbsp;</span> \n",
                "\n",
                "a. Csak a raktár(ak) neve jelenjen meg!"
            ],
            "metadata": {
                "azdata_cell_guid": "f12a331a-0e26-4d3d-9c68-812316286577"
            },
            "attachments": {}
        },
        {
            "cell_type": "code",
            "source": [
                "SELECT RAKTAR_NEV\r\n",
                "FROM Termek t join raktar r on r.RAKTAR_KOD=t.RAKTAR_KOD\r\n",
                "WHERE t.keszlet = (SELECT max(keszlet) FROM Termek )"
            ],
            "metadata": {
                "azdata_cell_guid": "10a77fc9-e61a-46fc-a401-59720d82bc50",
                "language": "sql"
            },
            "outputs": [
                {
                    "output_type": "display_data",
                    "data": {
                        "text/html": "(2 rows affected)"
                    },
                    "metadata": {}
                },
                {
                    "output_type": "display_data",
                    "data": {
                        "text/html": "Total execution time: 00:00:00.011"
                    },
                    "metadata": {}
                },
                {
                    "output_type": "execute_result",
                    "metadata": {},
                    "execution_count": 5,
                    "data": {
                        "application/vnd.dataresource+json": {
                            "schema": {
                                "fields": [
                                    {
                                        "name": "RAKTAR_NEV"
                                    }
                                ]
                            },
                            "data": [
                                {
                                    "RAKTAR_NEV": "Veresegyházi"
                                },
                                {
                                    "RAKTAR_NEV": "Báthory"
                                }
                            ]
                        },
                        "text/html": [
                            "<table>",
                            "<tr><th>RAKTAR_NEV</th></tr>",
                            "<tr><td>Veresegyházi</td></tr>",
                            "<tr><td>Báthory</td></tr>",
                            "</table>"
                        ]
                    }
                }
            ],
            "execution_count": 5
        },
        {
            "cell_type": "markdown",
            "source": [
                "10. <span style=\"background-color: rgb(255, 255, 255); color: rgb(0, 0, 0); font-family: &quot;Open Sans&quot;, sans-serif; font-size: 14.44px;\">Melyek azok a termékek, amelyek listaára nagyobb, mint bármelyik olyan terméké, amelynek nevében az Ajándék szó szerepel?&nbsp;</span> \n",
                "\n",
                "a. A termékek kódját és nevét is jelenítsük meg!"
            ],
            "metadata": {
                "azdata_cell_guid": "9229e2b6-e200-4499-b95b-2d0222149831"
            },
            "attachments": {}
        },
        {
            "cell_type": "code",
            "source": [
                ""
            ],
            "metadata": {
                "azdata_cell_guid": "8b49ed67-28c6-4880-82a8-cd369e5bba99",
                "language": "sql"
            },
            "outputs": [],
            "execution_count": null
        },
        {
            "cell_type": "markdown",
            "source": [
                "11. <span style=\"background-color: rgb(255, 255, 255); color: rgb(0, 0, 0); font-family: &quot;Open Sans&quot;, sans-serif; font-size: 14.44px;\">Melyik hónapokban adtak le az ügyfelek több rendelést, mint januárban?&nbsp;</span> \n",
                "\n",
                "a. Elég a hónapok sorszámait megjeleníteni. \n",
                "\n",
                "b. A listát rendezzük a hónapok száma szerint növekvő sorrendbe!"
            ],
            "metadata": {
                "azdata_cell_guid": "7f5fc7a7-3b6a-4d89-b292-490830afb0c6"
            },
            "attachments": {}
        },
        {
            "cell_type": "code",
            "source": [
                ""
            ],
            "metadata": {
                "azdata_cell_guid": "4a9ece40-f782-4c0d-92cd-9c21969067ed",
                "language": "sql"
            },
            "outputs": [],
            "execution_count": null
        },
        {
            "cell_type": "markdown",
            "source": [
                "12. <span style=\"background-color: rgb(255, 255, 255); color: rgb(0, 0, 0); font-family: &quot;Open Sans&quot;, sans-serif; font-size: 14.44px;\">Melyek azok a termékek, amelyek listaára az átlagostól max. 20%-kal tér el?&nbsp;</span> \n",
                "\n",
                "a. A termék kódját és nevét is jelenítsük meg!"
            ],
            "metadata": {
                "azdata_cell_guid": "5a483c52-bb98-44bb-bd03-1146d4b0abfa"
            },
            "attachments": {}
        },
        {
            "cell_type": "code",
            "source": [
                ""
            ],
            "metadata": {
                "azdata_cell_guid": "dd6e89bd-08f9-4b18-8460-03c45b503df0",
                "language": "sql"
            },
            "outputs": [],
            "execution_count": null
        },
        {
            "cell_type": "markdown",
            "source": [
                "13. <span style=\"background-color: rgb(255, 255, 255); color: rgb(0, 0, 0); font-family: &quot;Open Sans&quot;, sans-serif; font-size: 14.44px;\">Készítsünk listát (sorszámonként) az egyes rendelések teljes összegéről!&nbsp;</span> \n",
                "\n",
                "a. Szűrjünk azon tételekre, ahol ez az érték nagyobb, mint Viktor Éva rendeléseinek teljes összege! \n",
                "\n",
                "b. A teljes összeg oszlopot nevezzük el értelemszerűen!"
            ],
            "metadata": {
                "azdata_cell_guid": "85d5cb66-96c6-42de-99cf-85ab22d08548"
            },
            "attachments": {}
        },
        {
            "cell_type": "code",
            "source": [
                ""
            ],
            "metadata": {
                "azdata_cell_guid": "cb07d64b-0eaa-498b-b4d2-0b46971e95ce",
                "language": "sql"
            },
            "outputs": [],
            "execution_count": null
        },
        {
            "cell_type": "markdown",
            "source": [
                "14. <span style=\"background-color: rgb(255, 255, 255); color: rgb(0, 0, 0); font-family: &quot;Open Sans&quot;, sans-serif; font-size: 14.44px;\">Listázzuk azokat a termékkategóriákat, amelyből 2017 januárban nem történt rendelés!&nbsp;</span> \n",
                "\n",
                "a. Elég a kategóriák nevét megjeleníteni!"
            ],
            "metadata": {
                "azdata_cell_guid": "f95ad665-a807-4099-bf06-64ed974f866f"
            },
            "attachments": {}
        },
        {
            "cell_type": "code",
            "source": [
                ""
            ],
            "metadata": {
                "azdata_cell_guid": "74c7ec8a-ae4a-4d03-b1c4-e8f6bb1be12c",
                "language": "sql"
            },
            "outputs": [],
            "execution_count": null
        },
        {
            "cell_type": "markdown",
            "source": [
                "15. <span style=\"background-color: rgb(255, 255, 255); color: rgb(0, 0, 0); font-family: &quot;Open Sans&quot;, sans-serif; font-size: 14.44px;\">Listázzuk azon rendelési tételeket, amelynek értéke nagyobb, mint a legdrágább termék listaára azon termékek közül, amelyek szülő kategóriája a ruha!</span>"
            ],
            "metadata": {
                "azdata_cell_guid": "93552388-ffec-49ff-99e5-ae8dc8072601"
            },
            "attachments": {}
        },
        {
            "cell_type": "code",
            "source": [
                ""
            ],
            "metadata": {
                "azdata_cell_guid": "0e7f547f-7d96-4611-b1c2-0fa84a581e79",
                "language": "sql"
            },
            "outputs": [],
            "execution_count": null
        },
        {
            "cell_type": "markdown",
            "source": [
                "Kérdezzük le, hogy melyik ügyfél (USERNEV) hány különböző szálláshelyen foglalt!\n",
                "\n",
                "a. A listában azok az ügyfelek is jelenjenek meg, akiknek még nem volt foglalásuk\n",
                "\n",
                "b. Megfelelően jelölve jelenjen meg a végösszeg is!"
            ],
            "metadata": {
                "language": "sql",
                "azdata_cell_guid": "c2262c10-e63b-43ff-bab9-5f450bd5354b"
            },
            "attachments": {}
        },
        {
            "cell_type": "code",
            "source": [
                "-- Mintazh\r\n",
                "\r\n",
                "SELECT IIF(GROUPING_ID(USERNEV)=1,'Végösszeg', v.usernev),\r\n",
                "       COUNT( DISTINCT szh.SZALLAS_ID )\r\n",
                "FROM vendeg v left join foglalas f ON v.USERNEV=f.UGYFEL_FK\r\n",
                "                join szoba sz on sz.SZOBA_ID=f.SZOBA_FK\r\n",
                "                join szallashely szh ON sz.SZALLAS_FK=szh.SZALLAS_ID\r\n",
                "GROUP BY ROLLUP (v.USERNEV)"
            ],
            "metadata": {
                "azdata_cell_guid": "f3f18d56-a4c7-4bd3-b68a-7ba702b2068a",
                "language": "sql"
            },
            "outputs": [
                {
                    "output_type": "display_data",
                    "data": {
                        "text/html": "(196 rows affected)"
                    },
                    "metadata": {}
                },
                {
                    "output_type": "display_data",
                    "data": {
                        "text/html": "Total execution time: 00:00:00.031"
                    },
                    "metadata": {}
                },
                {
                    "output_type": "execute_result",
                    "metadata": {},
                    "execution_count": 11,
                    "data": {
                        "application/vnd.dataresource+json": {
                            "schema": {
                                "fields": [
                                    {
                                        "name": "(No column name)"
                                    },
                                    {
                                        "name": "(No column name)"
                                    }
                                ]
                            },
                            "data": [
                                {
                                    "(No column name)": "3"
                                },
                                {
                                    "(No column name)": "2"
                                },
                                {
                                    "(No column name)": "5"
                                },
                                {
                                    "(No column name)": "4"
                                },
                                {
                                    "(No column name)": "3"
                                },
                                {
                                    "(No column name)": "5"
                                },
                                {
                                    "(No column name)": "3"
                                },
                                {
                                    "(No column name)": "9"
                                },
                                {
                                    "(No column name)": "4"
                                },
                                {
                                    "(No column name)": "7"
                                },
                                {
                                    "(No column name)": "4"
                                },
                                {
                                    "(No column name)": "6"
                                },
                                {
                                    "(No column name)": "7"
                                },
                                {
                                    "(No column name)": "5"
                                },
                                {
                                    "(No column name)": "2"
                                },
                                {
                                    "(No column name)": "5"
                                },
                                {
                                    "(No column name)": "3"
                                },
                                {
                                    "(No column name)": "2"
                                },
                                {
                                    "(No column name)": "5"
                                },
                                {
                                    "(No column name)": "2"
                                },
                                {
                                    "(No column name)": "2"
                                },
                                {
                                    "(No column name)": "2"
                                },
                                {
                                    "(No column name)": "6"
                                },
                                {
                                    "(No column name)": "3"
                                },
                                {
                                    "(No column name)": "3"
                                },
                                {
                                    "(No column name)": "6"
                                },
                                {
                                    "(No column name)": "4"
                                },
                                {
                                    "(No column name)": "1"
                                },
                                {
                                    "(No column name)": "5"
                                },
                                {
                                    "(No column name)": "5"
                                },
                                {
                                    "(No column name)": "8"
                                },
                                {
                                    "(No column name)": "4"
                                },
                                {
                                    "(No column name)": "3"
                                },
                                {
                                    "(No column name)": "5"
                                },
                                {
                                    "(No column name)": "3"
                                },
                                {
                                    "(No column name)": "5"
                                },
                                {
                                    "(No column name)": "3"
                                },
                                {
                                    "(No column name)": "2"
                                },
                                {
                                    "(No column name)": "6"
                                },
                                {
                                    "(No column name)": "8"
                                },
                                {
                                    "(No column name)": "5"
                                },
                                {
                                    "(No column name)": "3"
                                },
                                {
                                    "(No column name)": "9"
                                },
                                {
                                    "(No column name)": "1"
                                },
                                {
                                    "(No column name)": "2"
                                },
                                {
                                    "(No column name)": "4"
                                },
                                {
                                    "(No column name)": "7"
                                },
                                {
                                    "(No column name)": "5"
                                },
                                {
                                    "(No column name)": "3"
                                },
                                {
                                    "(No column name)": "6"
                                },
                                {
                                    "(No column name)": "4"
                                },
                                {
                                    "(No column name)": "5"
                                },
                                {
                                    "(No column name)": "5"
                                },
                                {
                                    "(No column name)": "6"
                                },
                                {
                                    "(No column name)": "4"
                                },
                                {
                                    "(No column name)": "4"
                                },
                                {
                                    "(No column name)": "4"
                                },
                                {
                                    "(No column name)": "6"
                                },
                                {
                                    "(No column name)": "6"
                                },
                                {
                                    "(No column name)": "5"
                                },
                                {
                                    "(No column name)": "5"
                                },
                                {
                                    "(No column name)": "6"
                                },
                                {
                                    "(No column name)": "5"
                                },
                                {
                                    "(No column name)": "1"
                                },
                                {
                                    "(No column name)": "4"
                                },
                                {
                                    "(No column name)": "3"
                                },
                                {
                                    "(No column name)": "4"
                                },
                                {
                                    "(No column name)": "5"
                                },
                                {
                                    "(No column name)": "3"
                                },
                                {
                                    "(No column name)": "4"
                                },
                                {
                                    "(No column name)": "5"
                                },
                                {
                                    "(No column name)": "3"
                                },
                                {
                                    "(No column name)": "3"
                                },
                                {
                                    "(No column name)": "2"
                                },
                                {
                                    "(No column name)": "3"
                                },
                                {
                                    "(No column name)": "4"
                                },
                                {
                                    "(No column name)": "4"
                                },
                                {
                                    "(No column name)": "5"
                                },
                                {
                                    "(No column name)": "5"
                                },
                                {
                                    "(No column name)": "4"
                                },
                                {
                                    "(No column name)": "4"
                                },
                                {
                                    "(No column name)": "1"
                                },
                                {
                                    "(No column name)": "4"
                                },
                                {
                                    "(No column name)": "5"
                                },
                                {
                                    "(No column name)": "7"
                                },
                                {
                                    "(No column name)": "3"
                                },
                                {
                                    "(No column name)": "3"
                                },
                                {
                                    "(No column name)": "2"
                                },
                                {
                                    "(No column name)": "2"
                                },
                                {
                                    "(No column name)": "2"
                                },
                                {
                                    "(No column name)": "4"
                                },
                                {
                                    "(No column name)": "3"
                                },
                                {
                                    "(No column name)": "4"
                                },
                                {
                                    "(No column name)": "2"
                                },
                                {
                                    "(No column name)": "5"
                                },
                                {
                                    "(No column name)": "3"
                                },
                                {
                                    "(No column name)": "3"
                                },
                                {
                                    "(No column name)": "3"
                                },
                                {
                                    "(No column name)": "3"
                                },
                                {
                                    "(No column name)": "5"
                                },
                                {
                                    "(No column name)": "3"
                                },
                                {
                                    "(No column name)": "2"
                                },
                                {
                                    "(No column name)": "2"
                                },
                                {
                                    "(No column name)": "4"
                                },
                                {
                                    "(No column name)": "5"
                                },
                                {
                                    "(No column name)": "6"
                                },
                                {
                                    "(No column name)": "3"
                                },
                                {
                                    "(No column name)": "4"
                                },
                                {
                                    "(No column name)": "4"
                                },
                                {
                                    "(No column name)": "3"
                                },
                                {
                                    "(No column name)": "3"
                                },
                                {
                                    "(No column name)": "2"
                                },
                                {
                                    "(No column name)": "6"
                                },
                                {
                                    "(No column name)": "6"
                                },
                                {
                                    "(No column name)": "6"
                                },
                                {
                                    "(No column name)": "5"
                                },
                                {
                                    "(No column name)": "4"
                                },
                                {
                                    "(No column name)": "5"
                                },
                                {
                                    "(No column name)": "3"
                                },
                                {
                                    "(No column name)": "5"
                                },
                                {
                                    "(No column name)": "1"
                                },
                                {
                                    "(No column name)": "5"
                                },
                                {
                                    "(No column name)": "3"
                                },
                                {
                                    "(No column name)": "5"
                                },
                                {
                                    "(No column name)": "6"
                                },
                                {
                                    "(No column name)": "3"
                                },
                                {
                                    "(No column name)": "2"
                                },
                                {
                                    "(No column name)": "6"
                                },
                                {
                                    "(No column name)": "3"
                                },
                                {
                                    "(No column name)": "2"
                                },
                                {
                                    "(No column name)": "5"
                                },
                                {
                                    "(No column name)": "4"
                                },
                                {
                                    "(No column name)": "3"
                                },
                                {
                                    "(No column name)": "3"
                                },
                                {
                                    "(No column name)": "5"
                                },
                                {
                                    "(No column name)": "2"
                                },
                                {
                                    "(No column name)": "4"
                                },
                                {
                                    "(No column name)": "4"
                                },
                                {
                                    "(No column name)": "3"
                                },
                                {
                                    "(No column name)": "4"
                                },
                                {
                                    "(No column name)": "5"
                                },
                                {
                                    "(No column name)": "5"
                                },
                                {
                                    "(No column name)": "2"
                                },
                                {
                                    "(No column name)": "3"
                                },
                                {
                                    "(No column name)": "3"
                                },
                                {
                                    "(No column name)": "4"
                                },
                                {
                                    "(No column name)": "3"
                                },
                                {
                                    "(No column name)": "7"
                                },
                                {
                                    "(No column name)": "3"
                                },
                                {
                                    "(No column name)": "4"
                                },
                                {
                                    "(No column name)": "4"
                                },
                                {
                                    "(No column name)": "4"
                                },
                                {
                                    "(No column name)": "4"
                                },
                                {
                                    "(No column name)": "3"
                                },
                                {
                                    "(No column name)": "4"
                                },
                                {
                                    "(No column name)": "4"
                                },
                                {
                                    "(No column name)": "2"
                                },
                                {
                                    "(No column name)": "3"
                                },
                                {
                                    "(No column name)": "4"
                                },
                                {
                                    "(No column name)": "3"
                                },
                                {
                                    "(No column name)": "3"
                                },
                                {
                                    "(No column name)": "3"
                                },
                                {
                                    "(No column name)": "3"
                                },
                                {
                                    "(No column name)": "9"
                                },
                                {
                                    "(No column name)": "3"
                                },
                                {
                                    "(No column name)": "2"
                                },
                                {
                                    "(No column name)": "1"
                                },
                                {
                                    "(No column name)": "4"
                                },
                                {
                                    "(No column name)": "5"
                                },
                                {
                                    "(No column name)": "6"
                                },
                                {
                                    "(No column name)": "2"
                                },
                                {
                                    "(No column name)": "4"
                                },
                                {
                                    "(No column name)": "6"
                                },
                                {
                                    "(No column name)": "2"
                                },
                                {
                                    "(No column name)": "1"
                                },
                                {
                                    "(No column name)": "4"
                                },
                                {
                                    "(No column name)": "1"
                                },
                                {
                                    "(No column name)": "5"
                                },
                                {
                                    "(No column name)": "7"
                                },
                                {
                                    "(No column name)": "5"
                                },
                                {
                                    "(No column name)": "4"
                                },
                                {
                                    "(No column name)": "4"
                                },
                                {
                                    "(No column name)": "2"
                                },
                                {
                                    "(No column name)": "5"
                                },
                                {
                                    "(No column name)": "2"
                                },
                                {
                                    "(No column name)": "5"
                                },
                                {
                                    "(No column name)": "3"
                                },
                                {
                                    "(No column name)": "2"
                                },
                                {
                                    "(No column name)": "2"
                                },
                                {
                                    "(No column name)": "2"
                                },
                                {
                                    "(No column name)": "6"
                                },
                                {
                                    "(No column name)": "2"
                                },
                                {
                                    "(No column name)": "4"
                                },
                                {
                                    "(No column name)": "4"
                                },
                                {
                                    "(No column name)": "5"
                                },
                                {
                                    "(No column name)": "14"
                                }
                            ]
                        },
                        "text/html": [
                            "<table>",
                            "<tr><th>(No column name)</th><th>(No column name)</th></tr>",
                            "<tr><td>adam1</td><td>3</td></tr>",
                            "<tr><td>adam3</td><td>2</td></tr>",
                            "<tr><td>adam4</td><td>5</td></tr>",
                            "<tr><td>agnes</td><td>4</td></tr>",
                            "<tr><td>agnes3</td><td>3</td></tr>",
                            "<tr><td>AGNESH</td><td>5</td></tr>",
                            "<tr><td>AGNESK</td><td>3</td></tr>",
                            "<tr><td>akos</td><td>9</td></tr>",
                            "<tr><td>aladar</td><td>4</td></tr>",
                            "<tr><td>alexandra</td><td>7</td></tr>",
                            "<tr><td>andi</td><td>4</td></tr>",
                            "<tr><td>andras2</td><td>6</td></tr>",
                            "<tr><td>andras21</td><td>7</td></tr>",
                            "<tr><td>andras3</td><td>5</td></tr>",
                            "<tr><td>andras4</td><td>2</td></tr>",
                            "<tr><td>andras41</td><td>5</td></tr>",
                            "<tr><td>ANDRASE</td><td>3</td></tr>",
                            "<tr><td>ANDRASN</td><td>2</td></tr>",
                            "<tr><td>andrea</td><td>5</td></tr>",
                            "<tr><td>andrea3</td><td>2</td></tr>",
                            "<tr><td>andrea4</td><td>2</td></tr>",
                            "<tr><td>ANDREAT</td><td>2</td></tr>",
                            "<tr><td>anett3</td><td>6</td></tr>",
                            "<tr><td>aniko</td><td>3</td></tr>",
                            "<tr><td>aniko4</td><td>3</td></tr>",
                            "<tr><td>ANIKOS</td><td>6</td></tr>",
                            "<tr><td>anita</td><td>4</td></tr>",
                            "<tr><td>annamaria1</td><td>1</td></tr>",
                            "<tr><td>ANNAMARIAR</td><td>5</td></tr>",
                            "<tr><td>aron2</td><td>5</td></tr>",
                            "<tr><td>ARONK</td><td>8</td></tr>",
                            "<tr><td>arpad2</td><td>4</td></tr>",
                            "<tr><td>ARPADH</td><td>3</td></tr>",
                            "<tr><td>ARPADM</td><td>5</td></tr>",
                            "<tr><td>attila</td><td>3</td></tr>",
                            "<tr><td>attila1</td><td>5</td></tr>",
                            "<tr><td>attila4</td><td>3</td></tr>",
                            "<tr><td>ATTILAO</td><td>2</td></tr>",
                            "<tr><td>balazs1</td><td>6</td></tr>",
                            "<tr><td>balazs2</td><td>8</td></tr>",
                            "<tr><td>balazs3</td><td>5</td></tr>",
                            "<tr><td>balint</td><td>3</td></tr>",
                            "<tr><td>balint1</td><td>9</td></tr>",
                            "<tr><td>balint2</td><td>1</td></tr>",
                            "<tr><td>balu</td><td>2</td></tr>",
                            "<tr><td>beata4</td><td>4</td></tr>",
                            "<tr><td>BEATRIXK</td><td>7</td></tr>",
                            "<tr><td>BEATRIXS</td><td>5</td></tr>",
                            "<tr><td>BELAF</td><td>3</td></tr>",
                            "<tr><td>bence</td><td>6</td></tr>",
                            "<tr><td>BENCEB</td><td>4</td></tr>",
                            "<tr><td>bernadett1</td><td>5</td></tr>",
                            "<tr><td>bernadett2</td><td>5</td></tr>",
                            "<tr><td>BERNADETTO</td><td>6</td></tr>",
                            "<tr><td>bertalan</td><td>4</td></tr>",
                            "<tr><td>brigitta</td><td>4</td></tr>",
                            "<tr><td>brigitta3</td><td>4</td></tr>",
                            "<tr><td>csongor3</td><td>6</td></tr>",
                            "<tr><td>dani</td><td>6</td></tr>",
                            "<tr><td>daniel</td><td>5</td></tr>",
                            "<tr><td>daniel1</td><td>5</td></tr>",
                            "<tr><td>david</td><td>6</td></tr>",
                            "<tr><td>david1</td><td>5</td></tr>",
                            "<tr><td>david4</td><td>1</td></tr>",
                            "<tr><td>debora</td><td>4</td></tr>",
                            "<tr><td>denes</td><td>3</td></tr>",
                            "<tr><td>dora3</td><td>4</td></tr>",
                            "<tr><td>edit</td><td>5</td></tr>",
                            "<tr><td>emese</td><td>3</td></tr>",
                            "<tr><td>eszter</td><td>4</td></tr>",
                            "<tr><td>eszter2</td><td>5</td></tr>",
                            "<tr><td>eszter4</td><td>3</td></tr>",
                            "<tr><td>ESZTERE</td><td>3</td></tr>",
                            "<tr><td>eva</td><td>2</td></tr>",
                            "<tr><td>eva2</td><td>3</td></tr>",
                            "<tr><td>EVAV</td><td>4</td></tr>",
                            "<tr><td>ferenc1</td><td>4</td></tr>",
                            "<tr><td>fruzsina4</td><td>5</td></tr>",
                            "<tr><td>gabor1</td><td>5</td></tr>",
                            "<tr><td>gabor4</td><td>4</td></tr>",
                            "<tr><td>gabriella1</td><td>4</td></tr>",
                            "<tr><td>gabriella10</td><td>1</td></tr>",
                            "<tr><td>georgij</td><td>4</td></tr>",
                            "<tr><td>gusztav</td><td>5</td></tr>",
                            "<tr><td>GYONGYIK</td><td>7</td></tr>",
                            "<tr><td>GYORGYO</td><td>3</td></tr>",
                            "<tr><td>henrik3</td><td>3</td></tr>",
                            "<tr><td>IBOLYAA</td><td>2</td></tr>",
                            "<tr><td>ilona3</td><td>2</td></tr>",
                            "<tr><td>imre</td><td>2</td></tr>",
                            "<tr><td>imre1</td><td>4</td></tr>",
                            "<tr><td>istvan</td><td>3</td></tr>",
                            "<tr><td>istvan1</td><td>4</td></tr>",
                            "<tr><td>ISTVANV</td><td>2</td></tr>",
                            "<tr><td>janos3</td><td>5</td></tr>",
                            "<tr><td>JANOSG</td><td>3</td></tr>",
                            "<tr><td>JANOSP</td><td>3</td></tr>",
                            "<tr><td>jozsef</td><td>3</td></tr>",
                            "<tr><td>jozsef2</td><td>3</td></tr>",
                            "<tr><td>JOZSEFG</td><td>5</td></tr>",
                            "<tr><td>JUDITH</td><td>3</td></tr>",
                            "<tr><td>julia</td><td>2</td></tr>",
                            "<tr><td>julia4</td><td>2</td></tr>",
                            "<tr><td>julianna4</td><td>4</td></tr>",
                            "<tr><td>kata</td><td>5</td></tr>",
                            "<tr><td>katalin</td><td>6</td></tr>",
                            "<tr><td>katalin4</td><td>3</td></tr>",
                            "<tr><td>kati</td><td>4</td></tr>",
                            "<tr><td>katka</td><td>4</td></tr>",
                            "<tr><td>klaudia2</td><td>3</td></tr>",
                            "<tr><td>kornel4</td><td>3</td></tr>",
                            "<tr><td>kristof4</td><td>2</td></tr>",
                            "<tr><td>kriszti</td><td>6</td></tr>",
                            "<tr><td>krisztian4</td><td>6</td></tr>",
                            "<tr><td>KRISZTIANM</td><td>6</td></tr>",
                            "<tr><td>krisztina</td><td>5</td></tr>",
                            "<tr><td>krisztina1</td><td>4</td></tr>",
                            "<tr><td>KRISZTINAG</td><td>5</td></tr>",
                            "<tr><td>lajos</td><td>3</td></tr>",
                            "<tr><td>lala</td><td>5</td></tr>",
                            "<tr><td>laszlo1</td><td>1</td></tr>",
                            "<tr><td>laszlo2</td><td>5</td></tr>",
                            "<tr><td>LASZLOA</td><td>3</td></tr>",
                            "<tr><td>LASZLON</td><td>5</td></tr>",
                            "<tr><td>maria1</td><td>6</td></tr>",
                            "<tr><td>mark</td><td>3</td></tr>",
                            "<tr><td>MARKH</td><td>2</td></tr>",
                            "<tr><td>marton</td><td>6</td></tr>",
                            "<tr><td>MATEK</td><td>3</td></tr>",
                            "<tr><td>matyas2</td><td>2</td></tr>",
                            "<tr><td>MATYASS</td><td>5</td></tr>",
                            "<tr><td>MIHALYJ</td><td>4</td></tr>",
                            "<tr><td>miklos2</td><td>3</td></tr>",
                            "<tr><td>MIKLOSB</td><td>3</td></tr>",
                            "<tr><td>MONIKAM</td><td>5</td></tr>",
                            "<tr><td>NANDORF</td><td>2</td></tr>",
                            "<tr><td>nikolett3</td><td>4</td></tr>",
                            "<tr><td>nikoletta4</td><td>4</td></tr>",
                            "<tr><td>NIKOLETTAT</td><td>3</td></tr>",
                            "<tr><td>norbert</td><td>4</td></tr>",
                            "<tr><td>norbert2</td><td>5</td></tr>",
                            "<tr><td>norbert4</td><td>5</td></tr>",
                            "<tr><td>norbert5</td><td>2</td></tr>",
                            "<tr><td>pal</td><td>3</td></tr>",
                            "<tr><td>peter1</td><td>3</td></tr>",
                            "<tr><td>peter2</td><td>4</td></tr>",
                            "<tr><td>peter3</td><td>3</td></tr>",
                            "<tr><td>peter4</td><td>7</td></tr>",
                            "<tr><td>PETERB</td><td>3</td></tr>",
                            "<tr><td>polla</td><td>4</td></tr>",
                            "<tr><td>rajmond4</td><td>4</td></tr>",
                            "<tr><td>reka4</td><td>4</td></tr>",
                            "<tr><td>RENATAK</td><td>4</td></tr>",
                            "<tr><td>RENATAS</td><td>3</td></tr>",
                            "<tr><td>robert2</td><td>4</td></tr>",
                            "<tr><td>ROBERTI</td><td>4</td></tr>",
                            "<tr><td>ROBERTP</td><td>2</td></tr>",
                            "<tr><td>roland</td><td>3</td></tr>",
                            "<tr><td>roland1</td><td>4</td></tr>",
                            "<tr><td>roza2</td><td>3</td></tr>",
                            "<tr><td>sandor</td><td>3</td></tr>",
                            "<tr><td>sandor3</td><td>3</td></tr>",
                            "<tr><td>sandor4</td><td>3</td></tr>",
                            "<tr><td>sara</td><td>9</td></tr>",
                            "<tr><td>SEBASTIANF</td><td>3</td></tr>",
                            "<tr><td>sebestyen</td><td>2</td></tr>",
                            "<tr><td>szabolcs</td><td>1</td></tr>",
                            "<tr><td>SZABOLCSM</td><td>4</td></tr>",
                            "<tr><td>SZILARDS</td><td>5</td></tr>",
                            "<tr><td>szilvia1</td><td>6</td></tr>",
                            "<tr><td>tamara2</td><td>2</td></tr>",
                            "<tr><td>tamas</td><td>4</td></tr>",
                            "<tr><td>TAMASF</td><td>6</td></tr>",
                            "<tr><td>tibor</td><td>2</td></tr>",
                            "<tr><td>tibor2</td><td>1</td></tr>",
                            "<tr><td>tihamer</td><td>4</td></tr>",
                            "<tr><td>timea</td><td>1</td></tr>",
                            "<tr><td>timea2</td><td>5</td></tr>",
                            "<tr><td>tunde</td><td>7</td></tr>",
                            "<tr><td>valentin</td><td>5</td></tr>",
                            "<tr><td>veronika4</td><td>4</td></tr>",
                            "<tr><td>VIKTORIAU</td><td>4</td></tr>",
                            "<tr><td>VIKTORK</td><td>2</td></tr>",
                            "<tr><td>vivien3</td><td>5</td></tr>",
                            "<tr><td>zoltan</td><td>2</td></tr>",
                            "<tr><td>zoltan4</td><td>5</td></tr>",
                            "<tr><td>ZOLTANP</td><td>3</td></tr>",
                            "<tr><td>ZOLTANT</td><td>2</td></tr>",
                            "<tr><td>zsofi1</td><td>2</td></tr>",
                            "<tr><td>zsolt1</td><td>2</td></tr>",
                            "<tr><td>ZSOLTJ</td><td>6</td></tr>",
                            "<tr><td>zsuzsa</td><td>2</td></tr>",
                            "<tr><td>zsuzsa3</td><td>4</td></tr>",
                            "<tr><td>zsuzsanna</td><td>4</td></tr>",
                            "<tr><td>ZSUZSAV</td><td>5</td></tr>",
                            "<tr><td>Végösszeg</td><td>14</td></tr>",
                            "</table>"
                        ]
                    }
                }
            ],
            "execution_count": 11
        },
        {
            "cell_type": "markdown",
            "source": [
                "Készítsünk listát, amely megjeleníti a vendégek adatait!\n",
                "\n",
                "- Egy új oszlopban számoljuk ki a vendég életkorát (években)\n",
                "- Egy másik új oszlopban határozzuk meg, hogy születési dátum szerint növekvő rendezésnél mennyi az adott ügyfél. az előtte lévő 2 ügyfél és az utána lévő 2 ügyfél átlagos életkora! Az oszlopot nevezzük el értelemszerűen!"
            ],
            "metadata": {
                "language": "sql",
                "azdata_cell_guid": "915a8615-625a-49c3-8ce7-8a241afb02de"
            },
            "attachments": {}
        },
        {
            "cell_type": "code",
            "source": [
                "SELECT *,\r\n",
                "       DATEDIFF(year,SZUL_DAT, getdate()) As 'életkor',\r\n",
                "       -- over(partition by usernev order by SZUL_DAT rows between 2preceding and 2 following )\r\n",
                "FROM Vendeg"
            ],
            "metadata": {
                "language": "sql",
                "azdata_cell_guid": "66b0d118-5413-45be-b8cd-fa93e9ad8fe1"
            },
            "outputs": [
                {
                    "output_type": "display_data",
                    "data": {
                        "text/html": "Warning: Null value is eliminated by an aggregate or other SET operation."
                    },
                    "metadata": {}
                },
                {
                    "output_type": "display_data",
                    "data": {
                        "text/html": "(211 rows affected)"
                    },
                    "metadata": {}
                },
                {
                    "output_type": "display_data",
                    "data": {
                        "text/html": "Total execution time: 00:00:00.024"
                    },
                    "metadata": {}
                },
                {
                    "output_type": "execute_result",
                    "metadata": {},
                    "execution_count": 14,
                    "data": {
                        "application/vnd.dataresource+json": {
                            "schema": {
                                "fields": [
                                    {
                                        "name": "USERNEV"
                                    },
                                    {
                                        "name": "NEV"
                                    },
                                    {
                                        "name": "EMAIL"
                                    },
                                    {
                                        "name": "SZAML_CIM"
                                    },
                                    {
                                        "name": "SZUL_DAT"
                                    },
                                    {
                                        "name": "életkor"
                                    },
                                    {
                                        "name": "(No column name)"
                                    }
                                ]
                            },
                            "data": [
                                {
                                    "USERNEV": "",
                                    "NEV": "Kiss József",
                                    "EMAIL": "kissjozsef@vhol.com",
                                    "SZAML_CIM": "NULL",
                                    "SZUL_DAT": "NULL",
                                    "életkor": "NULL",
                                    "(No column name)": "NULL"
                                },
                                {
                                    "USERNEV": "adam1",
                                    "NEV": "Kiss Ádám",
                                    "EMAIL": "ádám.kiss@mail.hu",
                                    "SZAML_CIM": "5630 Békés Szolnoki út 8.",
                                    "SZUL_DAT": "1991-12-28",
                                    "életkor": "33",
                                    "(No column name)": "33"
                                },
                                {
                                    "USERNEV": "adam3",
                                    "NEV": "Barkóci Ádám",
                                    "EMAIL": "adam3@gmail.com",
                                    "SZAML_CIM": "3910 Tokaj Dózsa György utca 37.",
                                    "SZUL_DAT": "1970-06-07",
                                    "életkor": "54",
                                    "(No column name)": "54"
                                },
                                {
                                    "USERNEV": "adam4",
                                    "NEV": "Bieniek Ádám",
                                    "EMAIL": "ádám.bieniek@mail.hu",
                                    "SZAML_CIM": "8630 Balatonboglár Juhászföldi út 1.",
                                    "SZUL_DAT": "1976-08-01",
                                    "életkor": "48",
                                    "(No column name)": "48"
                                },
                                {
                                    "USERNEV": "agnes",
                                    "NEV": "Lengyel Ágnes",
                                    "EMAIL": "agnes@gmail.com",
                                    "SZAML_CIM": "5200 Törökszentmiklós Deák Ferenc út 5.",
                                    "SZUL_DAT": "1979-12-10",
                                    "életkor": "45",
                                    "(No column name)": "45"
                                },
                                {
                                    "USERNEV": "agnes3",
                                    "NEV": "Hartyánszky Ágnes",
                                    "EMAIL": "agnes3@gmail.com",
                                    "SZAML_CIM": "6430 Bácsalmás Posta köz 2.",
                                    "SZUL_DAT": "1967-04-11",
                                    "életkor": "57",
                                    "(No column name)": "57"
                                },
                                {
                                    "USERNEV": "AGNESH",
                                    "NEV": "Horváth Ágnes",
                                    "EMAIL": "AGNESH@gmail.com",
                                    "SZAML_CIM": "8200 Veszprém Rákóczi utca 21.",
                                    "SZUL_DAT": "1981-12-24",
                                    "életkor": "43",
                                    "(No column name)": "43"
                                },
                                {
                                    "USERNEV": "AGNESK",
                                    "NEV": "Kovács Ágnes",
                                    "EMAIL": "AGNESK@gmail.com",
                                    "SZAML_CIM": "1084 Budapest Endrődi Sándor utca 47.",
                                    "SZUL_DAT": "1988-10-02",
                                    "életkor": "36",
                                    "(No column name)": "36"
                                },
                                {
                                    "USERNEV": "akos",
                                    "NEV": "Bíró Ákos",
                                    "EMAIL": "ákos.bíró@mail.hu",
                                    "SZAML_CIM": "9023 Győr Kossuth Lajos utca 47/b.",
                                    "SZUL_DAT": "1982-04-24",
                                    "életkor": "42",
                                    "(No column name)": "42"
                                },
                                {
                                    "USERNEV": "aladar",
                                    "NEV": "Dunai Aladár",
                                    "EMAIL": "aladár.dunai@mail.hu",
                                    "SZAML_CIM": "5931 Nagyszénás Árpád utca 23.",
                                    "SZUL_DAT": "1980-11-01",
                                    "életkor": "44",
                                    "(No column name)": "44"
                                },
                                {
                                    "USERNEV": "alexandra",
                                    "NEV": "Bagóczki Alexandra",
                                    "EMAIL": "alexandra.bagóczki@mail.hu",
                                    "SZAML_CIM": "2381 Táborfalva Petőfi utca 1/2.",
                                    "SZUL_DAT": "1992-03-25",
                                    "életkor": "32",
                                    "(No column name)": "32"
                                },
                                {
                                    "USERNEV": "andi",
                                    "NEV": "Maródi Andrea",
                                    "EMAIL": "andrea.maródi@mail.hu",
                                    "SZAML_CIM": "5465 Cserkeszőlő Árpád utca 4.",
                                    "SZUL_DAT": "1968-05-07",
                                    "életkor": "56",
                                    "(No column name)": "56"
                                },
                                {
                                    "USERNEV": "andras2",
                                    "NEV": "Tóth András",
                                    "EMAIL": "andrás.tóth@mail.hu",
                                    "SZAML_CIM": "4071 Egyek Petőfi utca 30.",
                                    "SZUL_DAT": "1997-10-31",
                                    "életkor": "27",
                                    "(No column name)": "27"
                                },
                                {
                                    "USERNEV": "andras21",
                                    "NEV": "Molnár András",
                                    "EMAIL": "andrás.molnár@mail.hu",
                                    "SZAML_CIM": "7900 Szigetvár Rákóczi utca 67.",
                                    "SZUL_DAT": "1977-11-16",
                                    "életkor": "47",
                                    "(No column name)": "47"
                                },
                                {
                                    "USERNEV": "andras3",
                                    "NEV": "Vígh András",
                                    "EMAIL": "andrás.vígh@mail.hu",
                                    "SZAML_CIM": "1118 Budapest Arany János utca 1.",
                                    "SZUL_DAT": "1971-04-02",
                                    "életkor": "53",
                                    "(No column name)": "53"
                                },
                                {
                                    "USERNEV": "andras4",
                                    "NEV": "Back András",
                                    "EMAIL": "andras4@gmail.com",
                                    "SZAML_CIM": "3783 Edelény Fő út 169.",
                                    "SZUL_DAT": "1984-04-07",
                                    "életkor": "40",
                                    "(No column name)": "40"
                                },
                                {
                                    "USERNEV": "andras41",
                                    "NEV": "Komjáti András",
                                    "EMAIL": "andras41@gmail.com",
                                    "SZAML_CIM": "5065 Nagykörű Kossuth út 24.",
                                    "SZUL_DAT": "1997-10-25",
                                    "életkor": "27",
                                    "(No column name)": "27"
                                },
                                {
                                    "USERNEV": "ANDRASE",
                                    "NEV": "Erdei András",
                                    "EMAIL": "ANDRASE@gmail.com",
                                    "SZAML_CIM": "5071 Besenyszög Szolnoki út 8.",
                                    "SZUL_DAT": "1997-05-29",
                                    "életkor": "27",
                                    "(No column name)": "27"
                                },
                                {
                                    "USERNEV": "ANDRASN",
                                    "NEV": "Nagy András",
                                    "EMAIL": "andrás.nagy@mail.hu",
                                    "SZAML_CIM": "6500 Baja Fő út 169.",
                                    "SZUL_DAT": "1980-09-05",
                                    "életkor": "44",
                                    "(No column name)": "44"
                                },
                                {
                                    "USERNEV": "andrea",
                                    "NEV": "Kiss Andrea",
                                    "EMAIL": "andrea.kiss@mail.hu",
                                    "SZAML_CIM": "1113 Budapest Petőfi Sándor utca 87.",
                                    "SZUL_DAT": "1993-03-25",
                                    "életkor": "31",
                                    "(No column name)": "31"
                                },
                                {
                                    "USERNEV": "andrea3",
                                    "NEV": "Szomor Andrea",
                                    "EMAIL": "andrea3@gmail.com",
                                    "SZAML_CIM": "7960 Sellye Bécsi utca 82.",
                                    "SZUL_DAT": "1996-05-10",
                                    "életkor": "28",
                                    "(No column name)": "28"
                                },
                                {
                                    "USERNEV": "andrea4",
                                    "NEV": "Neizer Andrea",
                                    "EMAIL": "andrea4@gmail.com",
                                    "SZAML_CIM": "1124 Budapest Kiss u. 8.",
                                    "SZUL_DAT": "1981-05-17",
                                    "életkor": "43",
                                    "(No column name)": "43"
                                },
                                {
                                    "USERNEV": "ANDREAT",
                                    "NEV": "Tornyos Andrea",
                                    "EMAIL": "ANDREAT@gmail.com",
                                    "SZAML_CIM": "6131 Szank Bécsi utca 82.",
                                    "SZUL_DAT": "1986-11-14",
                                    "életkor": "38",
                                    "(No column name)": "38"
                                },
                                {
                                    "USERNEV": "anett3",
                                    "NEV": "Pivarcsi Anett",
                                    "EMAIL": "anett.pivarcsi@mail.hu",
                                    "SZAML_CIM": "1149 Budapest Fő út 60.",
                                    "SZUL_DAT": "1967-01-03",
                                    "életkor": "57",
                                    "(No column name)": "57"
                                },
                                {
                                    "USERNEV": "aniko",
                                    "NEV": "Tóth Anikó",
                                    "EMAIL": "aniko@gmail.com",
                                    "SZAML_CIM": "2085 Pilisvörösvár Deák Ferenc út 5.",
                                    "SZUL_DAT": "1973-06-03",
                                    "életkor": "51",
                                    "(No column name)": "51"
                                },
                                {
                                    "USERNEV": "aniko4",
                                    "NEV": "Böröcz Anikó",
                                    "EMAIL": "aniko4@gmail.com",
                                    "SZAML_CIM": "2484 Agárd Petőfi Sándor tér 1.",
                                    "SZUL_DAT": "1978-03-26",
                                    "életkor": "46",
                                    "(No column name)": "46"
                                },
                                {
                                    "USERNEV": "ANIKOS",
                                    "NEV": "Simon Anikó",
                                    "EMAIL": "ANIKOS@gmail.com",
                                    "SZAML_CIM": "5137 Jászkisér Bécsi utca 82.",
                                    "SZUL_DAT": "1988-12-14",
                                    "életkor": "36",
                                    "(No column name)": "36"
                                },
                                {
                                    "USERNEV": "anita",
                                    "NEV": "Hamvay-Kovács Anita",
                                    "EMAIL": "anita.hamvay-kovács@mail.hu",
                                    "SZAML_CIM": "7220 Sarkad Táncsics utca 19.",
                                    "SZUL_DAT": "1971-03-20",
                                    "életkor": "53",
                                    "(No column name)": "53"
                                },
                                {
                                    "USERNEV": "annamaria1",
                                    "NEV": "Szűcs Annamária",
                                    "EMAIL": "annamária.szűcs@mail.hu",
                                    "SZAML_CIM": "1191 Budapest Rendeki utca 21.",
                                    "SZUL_DAT": "1990-04-27",
                                    "életkor": "34",
                                    "(No column name)": "34"
                                },
                                {
                                    "USERNEV": "ANNAMARIAR",
                                    "NEV": "Regős Annamária",
                                    "EMAIL": "ANNAMARIAR@gmail.com",
                                    "SZAML_CIM": "8283 Káptalantóti Petőfi Sándor tér 1.",
                                    "SZUL_DAT": "1977-09-26",
                                    "életkor": "47",
                                    "(No column name)": "47"
                                },
                                {
                                    "USERNEV": "aron2",
                                    "NEV": "Jakab Áron",
                                    "EMAIL": "aron2@gmail.com",
                                    "SZAML_CIM": "7133 Fadd Bajcsy-Zsilinszky utca 4.",
                                    "SZUL_DAT": "1971-04-26",
                                    "életkor": "53",
                                    "(No column name)": "53"
                                },
                                {
                                    "USERNEV": "ARONK",
                                    "NEV": "Kelemen Áron",
                                    "EMAIL": "áron.kelemen@mail.hu",
                                    "SZAML_CIM": "8200 Veszprém Petőfi utca 8.",
                                    "SZUL_DAT": "1989-08-10",
                                    "életkor": "35",
                                    "(No column name)": "35"
                                },
                                {
                                    "USERNEV": "arpad2",
                                    "NEV": "Ötvös Árpád",
                                    "EMAIL": "árpád.ötvös@mail.hu",
                                    "SZAML_CIM": "2600 Vác Padragi út 158.",
                                    "SZUL_DAT": "1990-06-08",
                                    "életkor": "34",
                                    "(No column name)": "34"
                                },
                                {
                                    "USERNEV": "ARPADH",
                                    "NEV": "Horváth Árpád",
                                    "EMAIL": "árpád.horváth@mail.hu",
                                    "SZAML_CIM": "7349 Szászvár Dózsa György u. 1.",
                                    "SZUL_DAT": "1990-05-18",
                                    "életkor": "34",
                                    "(No column name)": "34"
                                },
                                {
                                    "USERNEV": "ARPADM",
                                    "NEV": "Móricz Árpád",
                                    "EMAIL": "árpád.móricz@mail.hu",
                                    "SZAML_CIM": "3910 Tokaj Rákóczi utca 67.",
                                    "SZUL_DAT": "1986-04-20",
                                    "életkor": "38",
                                    "(No column name)": "38"
                                },
                                {
                                    "USERNEV": "Atilla",
                                    "NEV": "Attila Gál",
                                    "EMAIL": "atika@aaa",
                                    "SZAML_CIM": "MIklósra",
                                    "SZUL_DAT": "2023-12-07",
                                    "életkor": "1",
                                    "(No column name)": "1"
                                },
                                {
                                    "USERNEV": "attila",
                                    "NEV": "Csóti Attila",
                                    "EMAIL": "attila@gmail.com",
                                    "SZAML_CIM": "3000 Hatvan Bajcsy-Zsilinszky utca 4.",
                                    "SZUL_DAT": "1979-12-25",
                                    "életkor": "45",
                                    "(No column name)": "45"
                                },
                                {
                                    "USERNEV": "attila1",
                                    "NEV": "Gulyás Attila",
                                    "EMAIL": "attila.gulyás@mail.hu",
                                    "SZAML_CIM": "3881 Abaújszántó Szolnoki út 8.",
                                    "SZUL_DAT": "1982-08-16",
                                    "életkor": "42",
                                    "(No column name)": "42"
                                },
                                {
                                    "USERNEV": "attila4",
                                    "NEV": "Baróti Attila",
                                    "EMAIL": "attila.baróti@mail.hu",
                                    "SZAML_CIM": "7149 Báta Arany János utca 3.",
                                    "SZUL_DAT": "1975-11-06",
                                    "életkor": "49",
                                    "(No column name)": "49"
                                },
                                {
                                    "USERNEV": "ATTILAO",
                                    "NEV": "Opra Attila",
                                    "EMAIL": "ATTILAO@gmail.com",
                                    "SZAML_CIM": "8283 Káptalantóti Rákóczi út 200.",
                                    "SZUL_DAT": "1995-05-08",
                                    "életkor": "29",
                                    "(No column name)": "29"
                                },
                                {
                                    "USERNEV": "balazs1",
                                    "NEV": "Bozsik Balázs",
                                    "EMAIL": "balázs.bozsik@mail.hu",
                                    "SZAML_CIM": "2300 Ráckeve Bécsi utca 82.",
                                    "SZUL_DAT": "1992-11-03",
                                    "életkor": "32",
                                    "(No column name)": "32"
                                },
                                {
                                    "USERNEV": "balazs2",
                                    "NEV": "Szűcs Balázs",
                                    "EMAIL": "balázs.szűcs@mail.hu",
                                    "SZAML_CIM": "3170 Szécsény Szabadság utca 95.",
                                    "SZUL_DAT": "1984-10-31",
                                    "életkor": "40",
                                    "(No column name)": "40"
                                },
                                {
                                    "USERNEV": "balazs3",
                                    "NEV": "Bakódy Balázs",
                                    "EMAIL": "balazs3@gmail.com",
                                    "SZAML_CIM": "2131 Göd Arany János utca 1.",
                                    "SZUL_DAT": "1986-09-09",
                                    "életkor": "38",
                                    "(No column name)": "38"
                                },
                                {
                                    "USERNEV": "balint",
                                    "NEV": "Horváth Bálint",
                                    "EMAIL": "balint@gmail.com",
                                    "SZAML_CIM": "6646 Tömörkény Endrődi Sándor utca 47.",
                                    "SZUL_DAT": "1996-03-17",
                                    "életkor": "28",
                                    "(No column name)": "28"
                                },
                                {
                                    "USERNEV": "balint1",
                                    "NEV": "Molnár Bálint",
                                    "EMAIL": "balint1@gmail.com",
                                    "SZAML_CIM": "9181 Kimle Fő út 169.",
                                    "SZUL_DAT": "1989-08-24",
                                    "életkor": "35",
                                    "(No column name)": "35"
                                },
                                {
                                    "USERNEV": "balint2",
                                    "NEV": "Vukasinovity Bálint",
                                    "EMAIL": "balint2@gmail.com",
                                    "SZAML_CIM": "2330 Dunaharaszti Béke utca 7.",
                                    "SZUL_DAT": "1997-09-03",
                                    "életkor": "27",
                                    "(No column name)": "27"
                                },
                                {
                                    "USERNEV": "balu",
                                    "NEV": "Endresz Bálint",
                                    "EMAIL": "bálint.endresz@mail.hu",
                                    "SZAML_CIM": "3973 Cigánd Fő út 169.",
                                    "SZUL_DAT": "1976-08-01",
                                    "életkor": "48",
                                    "(No column name)": "48"
                                },
                                {
                                    "USERNEV": "barna",
                                    "NEV": "ee",
                                    "EMAIL": "ee",
                                    "SZAML_CIM": "ee",
                                    "SZUL_DAT": "2023-12-30",
                                    "életkor": "1",
                                    "(No column name)": "1"
                                },
                                {
                                    "USERNEV": "Barnabsds",
                                    "NEV": "",
                                    "EMAIL": "",
                                    "SZAML_CIM": "",
                                    "SZUL_DAT": "2023-12-11",
                                    "életkor": "1",
                                    "(No column name)": "1"
                                },
                                {
                                    "USERNEV": "beata4",
                                    "NEV": "Bagi Beáta",
                                    "EMAIL": "beáta.bagi@mail.hu",
                                    "SZAML_CIM": "8477 Tüskevár Felszabadulás utca 32.",
                                    "SZUL_DAT": "1994-03-19",
                                    "életkor": "30",
                                    "(No column name)": "30"
                                },
                                {
                                    "USERNEV": "BEATRIXK",
                                    "NEV": "Kerényi Beatrix",
                                    "EMAIL": "beatrix.kerényi@mail.hu",
                                    "SZAML_CIM": "7396 Magyarszék Kossuth Lajos utca 47/b.",
                                    "SZUL_DAT": "1972-04-06",
                                    "életkor": "52",
                                    "(No column name)": "52"
                                },
                                {
                                    "USERNEV": "BEATRIXS",
                                    "NEV": "Szekendi Beatrix",
                                    "EMAIL": "beatrix.szekendi@mail.hu",
                                    "SZAML_CIM": "4060 Balmazújváros Jászai tér 21.",
                                    "SZUL_DAT": "1981-04-06",
                                    "életkor": "43",
                                    "(No column name)": "43"
                                },
                                {
                                    "USERNEV": "BELAF",
                                    "NEV": "Farkas Béla",
                                    "EMAIL": "BELAF@gmail.com",
                                    "SZAML_CIM": "5530 Vésztő Petőfi Sándor utca 3.",
                                    "SZUL_DAT": "1995-02-24",
                                    "életkor": "29",
                                    "(No column name)": "29"
                                },
                                {
                                    "USERNEV": "bence",
                                    "NEV": "Győrffy Bence",
                                    "EMAIL": "bence@gmail.com",
                                    "SZAML_CIM": "6900 Makó Árpád utca 23.",
                                    "SZUL_DAT": "1987-07-09",
                                    "életkor": "37",
                                    "(No column name)": "37"
                                },
                                {
                                    "USERNEV": "BENCEB",
                                    "NEV": "Bajusz Bence",
                                    "EMAIL": "bence.bajusz@mail.hu",
                                    "SZAML_CIM": "8391 Sármellék Fő utca 56.",
                                    "SZUL_DAT": "1973-06-21",
                                    "életkor": "51",
                                    "(No column name)": "51"
                                },
                                {
                                    "USERNEV": "bernadett1",
                                    "NEV": "Simon Bernadett",
                                    "EMAIL": "bernadett1@gmail.com",
                                    "SZAML_CIM": "2300 Ráckeve Fő utca 108.",
                                    "SZUL_DAT": "1984-10-13",
                                    "életkor": "40",
                                    "(No column name)": "40"
                                },
                                {
                                    "USERNEV": "bernadett2",
                                    "NEV": "Kovács Bernadett",
                                    "EMAIL": "bernadett.kovács@mail.hu",
                                    "SZAML_CIM": "4200 Hajdúszoboszló Fő út 122.",
                                    "SZUL_DAT": "1996-08-20",
                                    "életkor": "28",
                                    "(No column name)": "28"
                                },
                                {
                                    "USERNEV": "BERNADETTO",
                                    "NEV": "Orbán Bernadett",
                                    "EMAIL": "bernadett.orbán@mail.hu",
                                    "SZAML_CIM": "5085 Rákóczifalva Arany János utca 1.",
                                    "SZUL_DAT": "1987-12-07",
                                    "életkor": "37",
                                    "(No column name)": "37"
                                },
                                {
                                    "USERNEV": "bertalan",
                                    "NEV": "Csiger Bertalan",
                                    "EMAIL": "bertalan@gmail.com",
                                    "SZAML_CIM": "1192 Budapest Fő út 169.",
                                    "SZUL_DAT": "1977-10-15",
                                    "életkor": "47",
                                    "(No column name)": "47"
                                },
                                {
                                    "USERNEV": "brigitta",
                                    "NEV": "Székely Brigitta",
                                    "EMAIL": "brigitta.székely@mail.hu",
                                    "SZAML_CIM": "2462 Martonvásár Fő utca 47.",
                                    "SZUL_DAT": "1978-09-13",
                                    "életkor": "46",
                                    "(No column name)": "46"
                                },
                                {
                                    "USERNEV": "brigitta3",
                                    "NEV": "Pataki Brigitta",
                                    "EMAIL": "brigitta.pataki@mail.hu",
                                    "SZAML_CIM": "2730 Albertirsa Rendeki utca 21.",
                                    "SZUL_DAT": "1991-05-23",
                                    "életkor": "33",
                                    "(No column name)": "33"
                                },
                                {
                                    "USERNEV": "csongor3",
                                    "NEV": "Nagymihály Csongor",
                                    "EMAIL": "csongor.nagymihály@mail.hu",
                                    "SZAML_CIM": "9181 Kimle Deák Ferenc út 5.",
                                    "SZUL_DAT": "1984-03-05",
                                    "életkor": "40",
                                    "(No column name)": "40"
                                },
                                {
                                    "USERNEV": "d",
                                    "NEV": "",
                                    "EMAIL": "",
                                    "SZAML_CIM": "",
                                    "SZUL_DAT": "2023-12-13",
                                    "életkor": "1",
                                    "(No column name)": "1"
                                },
                                {
                                    "USERNEV": "dani",
                                    "NEV": "Vörös Dániel",
                                    "EMAIL": "daniel@gmail.com",
                                    "SZAML_CIM": "7150 Bonyhád Dózsa György u. 1.",
                                    "SZUL_DAT": "1986-10-14",
                                    "életkor": "38",
                                    "(No column name)": "38"
                                },
                                {
                                    "USERNEV": "daniel",
                                    "NEV": "Rácz Dániel",
                                    "EMAIL": "dániel.rácz@mail.hu",
                                    "SZAML_CIM": "9181 Kimle Szabadság tér 9.",
                                    "SZUL_DAT": "1978-11-28",
                                    "életkor": "46",
                                    "(No column name)": "46"
                                },
                                {
                                    "USERNEV": "daniel1",
                                    "NEV": "Keszler Dániel",
                                    "EMAIL": "dániel.keszler@mail.hu",
                                    "SZAML_CIM": "3580 Tiszaújváros Kossuth Lajos utca 6.",
                                    "SZUL_DAT": "1969-07-16",
                                    "életkor": "55",
                                    "(No column name)": "55"
                                },
                                {
                                    "USERNEV": "david",
                                    "NEV": "Ambrus Dávid",
                                    "EMAIL": "david@gmail.com",
                                    "SZAML_CIM": "1149 Budapest Fő út 18.",
                                    "SZUL_DAT": "1974-02-11",
                                    "életkor": "50",
                                    "(No column name)": "50"
                                },
                                {
                                    "USERNEV": "david1",
                                    "NEV": "Sobják Dávid",
                                    "EMAIL": "david1@gmail.com",
                                    "SZAML_CIM": "5083 Kengyel Arany János utca 3.",
                                    "SZUL_DAT": "1970-08-16",
                                    "életkor": "54",
                                    "(No column name)": "54"
                                },
                                {
                                    "USERNEV": "david4",
                                    "NEV": "Berta Dávid",
                                    "EMAIL": "david4@gmail.com",
                                    "SZAML_CIM": "3500 Miskolc Balatoni út 12.",
                                    "SZUL_DAT": "1990-10-08",
                                    "életkor": "34",
                                    "(No column name)": "34"
                                },
                                {
                                    "USERNEV": "debora",
                                    "NEV": "Barna Debóra",
                                    "EMAIL": "debóra.barna@mail.hu",
                                    "SZAML_CIM": "1155 Budapest Fő út 169.",
                                    "SZUL_DAT": "1976-10-14",
                                    "életkor": "48",
                                    "(No column name)": "48"
                                },
                                {
                                    "USERNEV": "denes",
                                    "NEV": "Tömböly Dénes",
                                    "EMAIL": "denes@gmail.com",
                                    "SZAML_CIM": "2400 Dunaújváros Kossuth út 39.",
                                    "SZUL_DAT": "1975-03-14",
                                    "életkor": "49",
                                    "(No column name)": "49"
                                },
                                {
                                    "USERNEV": "dfefs",
                                    "NEV": "",
                                    "EMAIL": "",
                                    "SZAML_CIM": "",
                                    "SZUL_DAT": "2023-12-12",
                                    "életkor": "1",
                                    "(No column name)": "1"
                                },
                                {
                                    "USERNEV": "dfwew",
                                    "NEV": "",
                                    "EMAIL": "",
                                    "SZAML_CIM": "",
                                    "SZUL_DAT": "2023-12-12",
                                    "életkor": "1",
                                    "(No column name)": "1"
                                },
                                {
                                    "USERNEV": "dora3",
                                    "NEV": "Sarodi Dóra",
                                    "EMAIL": "dóra.sarodi@mail.hu",
                                    "SZAML_CIM": "2855 Bokod Fő út 18.",
                                    "SZUL_DAT": "1995-05-18",
                                    "életkor": "29",
                                    "(No column name)": "29"
                                },
                                {
                                    "USERNEV": "edit",
                                    "NEV": "Bittmann Edit",
                                    "EMAIL": "edit.bittmann@mail.hu",
                                    "SZAML_CIM": "6077 Orgovány Fő utca 60.",
                                    "SZUL_DAT": "1984-04-20",
                                    "életkor": "40",
                                    "(No column name)": "40"
                                },
                                {
                                    "USERNEV": "emese",
                                    "NEV": "Kuruc Emese",
                                    "EMAIL": "emese.kuruc@mail.hu",
                                    "SZAML_CIM": "6700 Szeged Rákóczi utca 67.",
                                    "SZUL_DAT": "1989-08-10",
                                    "életkor": "35",
                                    "(No column name)": "35"
                                },
                                {
                                    "USERNEV": "eperke222",
                                    "NEV": "barnabás",
                                    "EMAIL": "ere",
                                    "SZAML_CIM": "re",
                                    "SZUL_DAT": "2023-12-11",
                                    "életkor": "1",
                                    "(No column name)": "1"
                                },
                                {
                                    "USERNEV": "eszter",
                                    "NEV": "Molnár Eszter",
                                    "EMAIL": "eszter.molnár@mail.hu",
                                    "SZAML_CIM": "6800 Hódmezővásárhely Fő út 77.",
                                    "SZUL_DAT": "1987-05-10",
                                    "életkor": "37",
                                    "(No column name)": "37"
                                },
                                {
                                    "USERNEV": "eszter2",
                                    "NEV": "Balogh Eszter",
                                    "EMAIL": "eszter.balogh@mail.hu",
                                    "SZAML_CIM": "6760 Kistelek Kossuth utca 11.",
                                    "SZUL_DAT": "1998-01-31",
                                    "életkor": "26",
                                    "(No column name)": "26"
                                },
                                {
                                    "USERNEV": "eszter4",
                                    "NEV": "Fülöp Eszter",
                                    "EMAIL": "eszter.fülöp@mail.hu",
                                    "SZAML_CIM": "3643 Dédestapolcsány Kossuth Lajos utca 47/b.",
                                    "SZUL_DAT": "1993-06-28",
                                    "életkor": "31",
                                    "(No column name)": "31"
                                },
                                {
                                    "USERNEV": "ESZTERE",
                                    "NEV": "Érsek Eszter",
                                    "EMAIL": "eszter.érsek@mail.hu",
                                    "SZAML_CIM": "6785 Pusztamérges Kossuth Lajos utca 6.",
                                    "SZUL_DAT": "1978-08-28",
                                    "életkor": "46",
                                    "(No column name)": "46"
                                },
                                {
                                    "USERNEV": "eva",
                                    "NEV": "Enyedi Éva",
                                    "EMAIL": "eva@gmail.com",
                                    "SZAML_CIM": "4231 Bököny Petőfi utca 8.",
                                    "SZUL_DAT": "1967-06-30",
                                    "életkor": "57",
                                    "(No column name)": "57"
                                },
                                {
                                    "USERNEV": "eva2",
                                    "NEV": "Perlinger Éva",
                                    "EMAIL": "eva2@gmail.com",
                                    "SZAML_CIM": "9653 Répcelak Bécsi utca 82.",
                                    "SZUL_DAT": "1971-08-19",
                                    "életkor": "53",
                                    "(No column name)": "53"
                                },
                                {
                                    "USERNEV": "EVAV",
                                    "NEV": "Viktor Éva",
                                    "EMAIL": "EVAV@gmail.com",
                                    "SZAML_CIM": "6913 Csanádpalota Arany János utca 3.",
                                    "SZUL_DAT": "1980-12-26",
                                    "életkor": "44",
                                    "(No column name)": "44"
                                },
                                {
                                    "USERNEV": "fdsfss",
                                    "NEV": "",
                                    "EMAIL": "",
                                    "SZAML_CIM": "",
                                    "SZUL_DAT": "2023-12-11",
                                    "életkor": "1",
                                    "(No column name)": "1"
                                },
                                {
                                    "USERNEV": "ferenc1",
                                    "NEV": "Orosz Ferenc",
                                    "EMAIL": "ferenc.orosz@mail.hu",
                                    "SZAML_CIM": "5061 Tiszasüly Arany János utca 3.",
                                    "SZUL_DAT": "1983-10-08",
                                    "életkor": "41",
                                    "(No column name)": "41"
                                },
                                {
                                    "USERNEV": "few",
                                    "NEV": "ewfew",
                                    "EMAIL": "ew",
                                    "SZAML_CIM": "few",
                                    "SZUL_DAT": "2023-12-11",
                                    "életkor": "1",
                                    "(No column name)": "1"
                                },
                                {
                                    "USERNEV": "fruzsina4",
                                    "NEV": "Frank Fruzsina",
                                    "EMAIL": "fruzsina4@gmail.com",
                                    "SZAML_CIM": "9700 Szombathely Szabadság utca 95.",
                                    "SZUL_DAT": "1996-08-16",
                                    "életkor": "28",
                                    "(No column name)": "28"
                                },
                                {
                                    "USERNEV": "gabor1",
                                    "NEV": "Köves Gábor",
                                    "EMAIL": "gabor1@gmail.com",
                                    "SZAML_CIM": "6762 Sándorfalva Árpád utca 23.",
                                    "SZUL_DAT": "1973-07-15",
                                    "életkor": "51",
                                    "(No column name)": "51"
                                },
                                {
                                    "USERNEV": "gabor4",
                                    "NEV": "Telek Gábor",
                                    "EMAIL": "gábor.telek@mail.hu",
                                    "SZAML_CIM": "9071 Görbeháza Fő út 169.",
                                    "SZUL_DAT": "1987-03-15",
                                    "életkor": "37",
                                    "(No column name)": "37"
                                },
                                {
                                    "USERNEV": "GABORS",
                                    "NEV": "Szöllősi Gábor",
                                    "EMAIL": "GABORS@gmail.com",
                                    "SZAML_CIM": "3630 Putnok Kossuth utca 27.",
                                    "SZUL_DAT": "1990-05-31",
                                    "életkor": "34",
                                    "(No column name)": "34"
                                },
                                {
                                    "USERNEV": "gabriella1",
                                    "NEV": "Nagy Gabriella",
                                    "EMAIL": "gabriella1@gmail.com",
                                    "SZAML_CIM": "1077 Budapest Dob utca 1",
                                    "SZUL_DAT": "1982-11-01",
                                    "életkor": "42",
                                    "(No column name)": "42"
                                },
                                {
                                    "USERNEV": "gabriella10",
                                    "NEV": "Vida Gabriella",
                                    "EMAIL": "gabriella10@gmail.com",
                                    "SZAML_CIM": "2484 Agárd Arany János utca 3.",
                                    "SZUL_DAT": "1969-06-18",
                                    "életkor": "55",
                                    "(No column name)": "55"
                                },
                                {
                                    "USERNEV": "georgij",
                                    "NEV": "Nyíri Georgij",
                                    "EMAIL": "georgij.nyíri@mail.hu",
                                    "SZAML_CIM": "8391 Sármellék Grassalkovich út 10.",
                                    "SZUL_DAT": "1983-02-23",
                                    "életkor": "41",
                                    "(No column name)": "41"
                                },
                                {
                                    "USERNEV": "gusztav",
                                    "NEV": "Bárci Gusztáv",
                                    "EMAIL": "gusztav@gmail.com",
                                    "SZAML_CIM": "3643 Dédestapolcsány Endrődi Sándor utca 47.",
                                    "SZUL_DAT": "1967-02-25",
                                    "életkor": "57",
                                    "(No column name)": "57"
                                },
                                {
                                    "USERNEV": "GYONGYIK",
                                    "NEV": "Kornseé Gyöngyi",
                                    "EMAIL": "gyöngyi.kornseé@mail.hu",
                                    "SZAML_CIM": "8800 Nagykanizsa Fő út 60.",
                                    "SZUL_DAT": "1974-06-07",
                                    "életkor": "50",
                                    "(No column name)": "50"
                                },
                                {
                                    "USERNEV": "GYORGYO",
                                    "NEV": "Oroszi György",
                                    "EMAIL": "GYORGYO@gmail.com",
                                    "SZAML_CIM": "7220 Sarkad Dózsa György u. 1.",
                                    "SZUL_DAT": "1980-03-23",
                                    "életkor": "44",
                                    "(No column name)": "44"
                                },
                                {
                                    "USERNEV": "haliho",
                                    "NEV": "Nagy Árpád",
                                    "EMAIL": "nagyarpi@gmail.com",
                                    "SZAML_CIM": "-",
                                    "SZUL_DAT": "NULL",
                                    "életkor": "NULL",
                                    "(No column name)": "NULL"
                                },
                                {
                                    "USERNEV": "halloka",
                                    "NEV": "Kiss Benedek",
                                    "EMAIL": "kisbeni@gmli.com",
                                    "SZAML_CIM": "",
                                    "SZUL_DAT": "NULL",
                                    "életkor": "NULL",
                                    "(No column name)": "NULL"
                                },
                                {
                                    "USERNEV": "henrik3",
                                    "NEV": "Nádudvari Henrik",
                                    "EMAIL": "henrik.nádudvari@mail.hu",
                                    "SZAML_CIM": "1077 Budapest Tanácsköztársaság tér 1.",
                                    "SZUL_DAT": "1986-12-05",
                                    "életkor": "38",
                                    "(No column name)": "38"
                                },
                                {
                                    "USERNEV": "IBOLYAA",
                                    "NEV": "Andor Ibolya",
                                    "EMAIL": "ibolya.andor@mail.hu",
                                    "SZAML_CIM": "9023 Győr Posta köz 2.",
                                    "SZUL_DAT": "1983-11-27",
                                    "életkor": "41",
                                    "(No column name)": "41"
                                },
                                {
                                    "USERNEV": "ilona3",
                                    "NEV": "Bosnyák Ilona",
                                    "EMAIL": "ilona3@gmail.com",
                                    "SZAML_CIM": "2483 Gárdony Posta köz 2.",
                                    "SZUL_DAT": "1990-08-06",
                                    "életkor": "34",
                                    "(No column name)": "34"
                                },
                                {
                                    "USERNEV": "imre",
                                    "NEV": "Búza Imre",
                                    "EMAIL": "imre.búza@mail.hu",
                                    "SZAML_CIM": "9181 Kimle Petőfi Sándor tér 1.",
                                    "SZUL_DAT": "1988-09-30",
                                    "életkor": "36",
                                    "(No column name)": "36"
                                },
                                {
                                    "USERNEV": "imre1",
                                    "NEV": "Papp Imre",
                                    "EMAIL": "imre.papp@mail.hu",
                                    "SZAML_CIM": "1077 Budapest Szolnoki út 8.",
                                    "SZUL_DAT": "1976-06-25",
                                    "életkor": "48",
                                    "(No column name)": "48"
                                },
                                {
                                    "USERNEV": "istvan",
                                    "NEV": "Soós István",
                                    "EMAIL": "istvan@gmail.com",
                                    "SZAML_CIM": "2370 Dabas Kossuth utca 27.",
                                    "SZUL_DAT": "1986-06-28",
                                    "életkor": "38",
                                    "(No column name)": "38"
                                },
                                {
                                    "USERNEV": "istvan1",
                                    "NEV": "Vizi István",
                                    "EMAIL": "istván.vizi@mail.hu",
                                    "SZAML_CIM": "7086 Ozora Rákóczi utca 1.",
                                    "SZUL_DAT": "1997-12-01",
                                    "életkor": "27",
                                    "(No column name)": "27"
                                },
                                {
                                    "USERNEV": "ISTVANV",
                                    "NEV": "Varga István",
                                    "EMAIL": "ISTVANV@gmail.com",
                                    "SZAML_CIM": "6320 Solt Hősök tere 11.",
                                    "SZUL_DAT": "1989-04-09",
                                    "életkor": "35",
                                    "(No column name)": "35"
                                },
                                {
                                    "USERNEV": "janos3",
                                    "NEV": "Harangozó János",
                                    "EMAIL": "janos3@gmail.com",
                                    "SZAML_CIM": "8700 Marcali Petőfi Sándor tér 1.",
                                    "SZUL_DAT": "1967-11-02",
                                    "életkor": "57",
                                    "(No column name)": "57"
                                },
                                {
                                    "USERNEV": "JANOSG",
                                    "NEV": "Giliga János",
                                    "EMAIL": "JANOSG@gmail.com",
                                    "SZAML_CIM": "3300 Eger Deák Ferenc út 5.",
                                    "SZUL_DAT": "1975-01-03",
                                    "életkor": "49",
                                    "(No column name)": "49"
                                },
                                {
                                    "USERNEV": "JANOSP",
                                    "NEV": "Pálinkás János",
                                    "EMAIL": "JANOSP@gmail.com",
                                    "SZAML_CIM": "5920 Csorvás Padragi út 158.",
                                    "SZUL_DAT": "1984-10-12",
                                    "életkor": "40",
                                    "(No column name)": "40"
                                },
                                {
                                    "USERNEV": "joskapista",
                                    "NEV": "Adrimanó",
                                    "EMAIL": "ee",
                                    "SZAML_CIM": "qee",
                                    "SZUL_DAT": "2023-12-11",
                                    "életkor": "1",
                                    "(No column name)": "1"
                                },
                                {
                                    "USERNEV": "jozsef",
                                    "NEV": "Gergely József",
                                    "EMAIL": "jozsef@gmail.com",
                                    "SZAML_CIM": "6050 Lajosmizse Fő út 18.",
                                    "SZUL_DAT": "1985-11-01",
                                    "életkor": "39",
                                    "(No column name)": "39"
                                },
                                {
                                    "USERNEV": "jozsef2",
                                    "NEV": "Vajda József",
                                    "EMAIL": "józsef.vajda@mail.hu",
                                    "SZAML_CIM": "6700 Szeged Baracsi László utca 14.",
                                    "SZUL_DAT": "1978-09-04",
                                    "életkor": "46",
                                    "(No column name)": "46"
                                },
                                {
                                    "USERNEV": "JOZSEFG",
                                    "NEV": "Gyuris József",
                                    "EMAIL": "józsef.gyuris@mail.hu",
                                    "SZAML_CIM": "2660 Balassagyarmat Petőfi utca 1/2.",
                                    "SZUL_DAT": "1975-05-26",
                                    "életkor": "49",
                                    "(No column name)": "49"
                                },
                                {
                                    "USERNEV": "JUDITH",
                                    "NEV": "Hídasi Judit",
                                    "EMAIL": "JUDITH@gmail.com",
                                    "SZAML_CIM": "2100 Gödöllő Fő út 169.",
                                    "SZUL_DAT": "1997-07-12",
                                    "életkor": "27",
                                    "(No column name)": "27"
                                },
                                {
                                    "USERNEV": "julia",
                                    "NEV": "Tóth Júlia",
                                    "EMAIL": "julia@gmail.com",
                                    "SZAML_CIM": "5310 Kisújszállás Árpád utca 4.",
                                    "SZUL_DAT": "1993-03-02",
                                    "életkor": "31",
                                    "(No column name)": "31"
                                },
                                {
                                    "USERNEV": "julia4",
                                    "NEV": "Nagy Júlia",
                                    "EMAIL": "julia4@gmail.com",
                                    "SZAML_CIM": "7000 Sárbogárd Jászai tér 21.",
                                    "SZUL_DAT": "1985-08-11",
                                    "életkor": "39",
                                    "(No column name)": "39"
                                },
                                {
                                    "USERNEV": "julianna4",
                                    "NEV": "Szabó Julianna",
                                    "EMAIL": "julianna4@gmail.com",
                                    "SZAML_CIM": "6700 Szeged Kossuth Lajos utca 6.",
                                    "SZUL_DAT": "1990-09-29",
                                    "életkor": "34",
                                    "(No column name)": "34"
                                },
                                {
                                    "USERNEV": "kata",
                                    "NEV": "Gondos Katalin",
                                    "EMAIL": "katalin.gondos@mail.hu",
                                    "SZAML_CIM": "8237 Tihany Kossuth Lajos utca 6.",
                                    "SZUL_DAT": "1968-06-22",
                                    "életkor": "56",
                                    "(No column name)": "56"
                                },
                                {
                                    "USERNEV": "katalin",
                                    "NEV": "Horváth Katalin",
                                    "EMAIL": "katalin.horváth@mail.hu",
                                    "SZAML_CIM": "2424 Előszállás Rákóczi út 200.",
                                    "SZUL_DAT": "1968-01-01",
                                    "életkor": "56",
                                    "(No column name)": "56"
                                },
                                {
                                    "USERNEV": "katalin4",
                                    "NEV": "Kertész Katalin",
                                    "EMAIL": "katalin4@gmail.com",
                                    "SZAML_CIM": "2800 Tatabánya Búvár utca 4.",
                                    "SZUL_DAT": "1986-04-13",
                                    "életkor": "38",
                                    "(No column name)": "38"
                                },
                                {
                                    "USERNEV": "kati",
                                    "NEV": "Zatykó Katalin",
                                    "EMAIL": "katalin.zatykó@mail.hu",
                                    "SZAML_CIM": "7511 Ötvöskónyi Kossuth Lajos utca 6.",
                                    "SZUL_DAT": "1995-05-01",
                                    "életkor": "29",
                                    "(No column name)": "29"
                                },
                                {
                                    "USERNEV": "katka",
                                    "NEV": "Kovács Katalin",
                                    "EMAIL": "katalin.kovács@mail.hu",
                                    "SZAML_CIM": "8254 Kővágóörs Petőfi utca 22.",
                                    "SZUL_DAT": "1975-03-31",
                                    "életkor": "49",
                                    "(No column name)": "49"
                                },
                                {
                                    "USERNEV": "klaudia2",
                                    "NEV": "Bakó Klaudia",
                                    "EMAIL": "klaudia.bakó@mail.hu",
                                    "SZAML_CIM": "8254 Kővágóörs Kossuth Lajos utca 6.",
                                    "SZUL_DAT": "1982-04-16",
                                    "életkor": "42",
                                    "(No column name)": "42"
                                },
                                {
                                    "USERNEV": "kornel4",
                                    "NEV": "Lukács Kornél",
                                    "EMAIL": "kornél.lukács@mail.hu",
                                    "SZAML_CIM": "2053 Herceghalom Bécsi utca 82.",
                                    "SZUL_DAT": "1975-09-30",
                                    "életkor": "49",
                                    "(No column name)": "49"
                                },
                                {
                                    "USERNEV": "kristof4",
                                    "NEV": "Poprádi Kristóf",
                                    "EMAIL": "kristof4@gmail.com",
                                    "SZAML_CIM": "8220 Balatonalmádi Mészáros utca 7.",
                                    "SZUL_DAT": "1984-01-15",
                                    "életkor": "40",
                                    "(No column name)": "40"
                                },
                                {
                                    "USERNEV": "kriszti",
                                    "NEV": "Horváth Krisztina",
                                    "EMAIL": "kriszti@gmail.com",
                                    "SZAML_CIM": "6060 Tiszakécske Árpád utca 4.",
                                    "SZUL_DAT": "1978-06-12",
                                    "életkor": "46",
                                    "(No column name)": "46"
                                },
                                {
                                    "USERNEV": "krisztian4",
                                    "NEV": "Czérna Krisztián",
                                    "EMAIL": "krisztián.czérna@mail.hu",
                                    "SZAML_CIM": "1107 Budapest Dózsa György utca 37.",
                                    "SZUL_DAT": "1970-08-01",
                                    "életkor": "54",
                                    "(No column name)": "54"
                                },
                                {
                                    "USERNEV": "KRISZTIANM",
                                    "NEV": "Mogyródi Krisztián",
                                    "EMAIL": "KRISZTIANM@gmail.com",
                                    "SZAML_CIM": "9155 Lébény Jászai tér 21.",
                                    "SZUL_DAT": "1968-05-27",
                                    "életkor": "56",
                                    "(No column name)": "56"
                                },
                                {
                                    "USERNEV": "krisztina",
                                    "NEV": "Szedlár Krisztina",
                                    "EMAIL": "krisztina@gmail.com",
                                    "SZAML_CIM": "6646 Tömörkény Arany János utca 1.",
                                    "SZUL_DAT": "1979-05-10",
                                    "életkor": "45",
                                    "(No column name)": "45"
                                },
                                {
                                    "USERNEV": "krisztina1",
                                    "NEV": "Bori Krisztina",
                                    "EMAIL": "krisztina.bori@mail.hu",
                                    "SZAML_CIM": "2115 Vácszentlászló Fő utca 47.",
                                    "SZUL_DAT": "1969-10-13",
                                    "életkor": "55",
                                    "(No column name)": "55"
                                },
                                {
                                    "USERNEV": "KRISZTINAG",
                                    "NEV": "Gyárfás Krisztina",
                                    "EMAIL": "KRISZTINAG@gmail.com",
                                    "SZAML_CIM": "6762 Sándorfalva Arany János utca 1.",
                                    "SZUL_DAT": "1987-09-19",
                                    "életkor": "37",
                                    "(No column name)": "37"
                                },
                                {
                                    "USERNEV": "lajos",
                                    "NEV": "Kiss Lajos",
                                    "EMAIL": "lajos.kiss@mail.hu",
                                    "SZAML_CIM": "1077 Budapest Dob utca 1",
                                    "SZUL_DAT": "1978-10-31",
                                    "életkor": "46",
                                    "(No column name)": "46"
                                },
                                {
                                    "USERNEV": "lala",
                                    "NEV": "Nagymihály Lajos",
                                    "EMAIL": "lajos.nagymihály@mail.hu",
                                    "SZAML_CIM": "8638 Balatonlelle Rákóczi út 200.",
                                    "SZUL_DAT": "1997-02-24",
                                    "életkor": "27",
                                    "(No column name)": "27"
                                },
                                {
                                    "USERNEV": "laszlo1",
                                    "NEV": "Farkas László",
                                    "EMAIL": "lászló.farkas@mail.hu",
                                    "SZAML_CIM": "5200 Törökszentmiklós Rendeki utca 21.",
                                    "SZUL_DAT": "1967-10-30",
                                    "életkor": "57",
                                    "(No column name)": "57"
                                },
                                {
                                    "USERNEV": "laszlo2",
                                    "NEV": "Móra László",
                                    "EMAIL": "lászló.móra@mail.hu",
                                    "SZAML_CIM": "9970 Szentgotthárd Petőfi utca 1/2.",
                                    "SZUL_DAT": "1975-02-19",
                                    "életkor": "49",
                                    "(No column name)": "49"
                                },
                                {
                                    "USERNEV": "LASZLOA",
                                    "NEV": "Antal László",
                                    "EMAIL": "lászló.antal@mail.hu",
                                    "SZAML_CIM": "2484 Agárd Bécsi utca 82.",
                                    "SZUL_DAT": "1969-06-29",
                                    "életkor": "55",
                                    "(No column name)": "55"
                                },
                                {
                                    "USERNEV": "LASZLON",
                                    "NEV": "Nagy László",
                                    "EMAIL": "lászló.nagy@mail.hu",
                                    "SZAML_CIM": "1173 Budapest Jászai tér 21.",
                                    "SZUL_DAT": "1969-04-12",
                                    "életkor": "55",
                                    "(No column name)": "55"
                                },
                                {
                                    "USERNEV": "Levente",
                                    "NEV": "XXX",
                                    "EMAIL": "XXX",
                                    "SZAML_CIM": "XXXX",
                                    "SZUL_DAT": "2023-12-11",
                                    "életkor": "1",
                                    "(No column name)": "1"
                                },
                                {
                                    "USERNEV": "maria1",
                                    "NEV": "Baráth Mária",
                                    "EMAIL": "mária.baráth@mail.hu",
                                    "SZAML_CIM": "1047 Budapest Posta köz 2.",
                                    "SZUL_DAT": "1995-11-19",
                                    "életkor": "29",
                                    "(No column name)": "29"
                                },
                                {
                                    "USERNEV": "mark",
                                    "NEV": "Kispál Márk",
                                    "EMAIL": "márk.kispál@mail.hu",
                                    "SZAML_CIM": "1086 Budapest Juhászföldi út 1.",
                                    "SZUL_DAT": "1996-01-23",
                                    "életkor": "28",
                                    "(No column name)": "28"
                                },
                                {
                                    "USERNEV": "MARKH",
                                    "NEV": "Horváth Márk",
                                    "EMAIL": "márk.horváth@mail.hu",
                                    "SZAML_CIM": "4400 Nyíregyháza Badacsonyi utca 12.",
                                    "SZUL_DAT": "1997-09-23",
                                    "életkor": "27",
                                    "(No column name)": "27"
                                },
                                {
                                    "USERNEV": "marton",
                                    "NEV": "Kalacsi Márton",
                                    "EMAIL": "marton@gmail.com",
                                    "SZAML_CIM": "5137 Jászkisér Fő út 169.",
                                    "SZUL_DAT": "1989-06-24",
                                    "életkor": "35",
                                    "(No column name)": "35"
                                },
                                {
                                    "USERNEV": "MATEK",
                                    "NEV": "Koza Máté",
                                    "EMAIL": "máté.koza@mail.hu",
                                    "SZAML_CIM": "1011 Budapest Központi telep 3.",
                                    "SZUL_DAT": "1997-02-28",
                                    "életkor": "27",
                                    "(No column name)": "27"
                                },
                                {
                                    "USERNEV": "matyas2",
                                    "NEV": "Botka Mátyás",
                                    "EMAIL": "matyas2@gmail.com",
                                    "SZAML_CIM": "2700 Cegléd Kossuth Lajos utca 6.",
                                    "SZUL_DAT": "1972-07-07",
                                    "életkor": "52",
                                    "(No column name)": "52"
                                },
                                {
                                    "USERNEV": "MATYASS",
                                    "NEV": "Szilágyi Mátyás",
                                    "EMAIL": "mátyás.szilágyi@mail.hu",
                                    "SZAML_CIM": "9023 Győr Kossuth Lajos utca 6.",
                                    "SZUL_DAT": "1975-03-22",
                                    "életkor": "49",
                                    "(No column name)": "49"
                                },
                                {
                                    "USERNEV": "MIHALYJ",
                                    "NEV": "Juhász Mihály",
                                    "EMAIL": "mihály.juhász@mail.hu",
                                    "SZAML_CIM": "6786 Ruzsa Rákóczi utca 1.",
                                    "SZUL_DAT": "1979-10-12",
                                    "életkor": "45",
                                    "(No column name)": "45"
                                },
                                {
                                    "USERNEV": "miklos2",
                                    "NEV": "Gondos Miklós",
                                    "EMAIL": "miklos2@gmail.com",
                                    "SZAML_CIM": "2100 Gödöllő Árpád utca 23.",
                                    "SZUL_DAT": "1995-10-07",
                                    "életkor": "29",
                                    "(No column name)": "29"
                                },
                                {
                                    "USERNEV": "MIKLOSB",
                                    "NEV": "Balla Miklós",
                                    "EMAIL": "miklós.balla@mail.hu",
                                    "SZAML_CIM": "4060 Balmazújváros Szent István utca 2.",
                                    "SZUL_DAT": "1979-02-16",
                                    "életkor": "45",
                                    "(No column name)": "45"
                                },
                                {
                                    "USERNEV": "MONIKAM",
                                    "NEV": "Mohos Mónika",
                                    "EMAIL": "mónika.mohos@mail.hu",
                                    "SZAML_CIM": "2241 Sülysáp Baracsi László utca 14.",
                                    "SZUL_DAT": "1974-10-01",
                                    "életkor": "50",
                                    "(No column name)": "50"
                                },
                                {
                                    "USERNEV": "NANDORF",
                                    "NEV": "Fő Nándor",
                                    "EMAIL": "nándor.fő@mail.hu",
                                    "SZAML_CIM": "5920 Csorvás Bécsi utca 82.",
                                    "SZUL_DAT": "1968-11-12",
                                    "életkor": "56",
                                    "(No column name)": "56"
                                },
                                {
                                    "USERNEV": "nikolett3",
                                    "NEV": "Horváth Nikolett",
                                    "EMAIL": "nikolett3@gmail.com",
                                    "SZAML_CIM": "1072 Budapest Arany János utca 1.",
                                    "SZUL_DAT": "1981-09-29",
                                    "életkor": "43",
                                    "(No column name)": "43"
                                },
                                {
                                    "USERNEV": "nikoletta4",
                                    "NEV": "Kő Nikoletta",
                                    "EMAIL": "nikoletta4@gmail.com",
                                    "SZAML_CIM": "5537 Zsadány Fő út 18.",
                                    "SZUL_DAT": "1972-01-10",
                                    "életkor": "52",
                                    "(No column name)": "52"
                                },
                                {
                                    "USERNEV": "NIKOLETTAT",
                                    "NEV": "Tatár Nikoletta",
                                    "EMAIL": "nikoletta.tatár@mail.hu",
                                    "SZAML_CIM": "1067 Budapest Győri utca 12.",
                                    "SZUL_DAT": "1997-10-19",
                                    "életkor": "27",
                                    "(No column name)": "27"
                                },
                                {
                                    "USERNEV": "norbert",
                                    "NEV": "Szűcs Norbert",
                                    "EMAIL": "norbert@gmail.com",
                                    "SZAML_CIM": "5071 Besenyszög Győri utca 12.",
                                    "SZUL_DAT": "1969-07-17",
                                    "életkor": "55",
                                    "(No column name)": "55"
                                },
                                {
                                    "USERNEV": "norbert2",
                                    "NEV": "Hegedűs Norbert",
                                    "EMAIL": "norbert.hegedűs@mail.hu",
                                    "SZAML_CIM": "2081 Piliscsaba Rendeki utca 21.",
                                    "SZUL_DAT": "1991-07-17",
                                    "életkor": "33",
                                    "(No column name)": "33"
                                },
                                {
                                    "USERNEV": "norbert4",
                                    "NEV": "Mile Norbert",
                                    "EMAIL": "norbert4@gmail.com",
                                    "SZAML_CIM": "3973 Cigánd Bajcsy-Zsilinszky utca 4.",
                                    "SZUL_DAT": "1983-06-15",
                                    "életkor": "41",
                                    "(No column name)": "41"
                                },
                                {
                                    "USERNEV": "norbert5",
                                    "NEV": "Béres Norbert",
                                    "EMAIL": "norbert5@gmail.com",
                                    "SZAML_CIM": "8640 Fonyód Bajcsy-Zsilinszky utca 4.",
                                    "SZUL_DAT": "1975-07-27",
                                    "életkor": "49",
                                    "(No column name)": "49"
                                },
                                {
                                    "USERNEV": "pal",
                                    "NEV": "Barabás Pál",
                                    "EMAIL": "pál.barabás@mail.hu",
                                    "SZAML_CIM": "1183 Budapest Szolnoki út 8.",
                                    "SZUL_DAT": "1968-02-06",
                                    "életkor": "56",
                                    "(No column name)": "56"
                                },
                                {
                                    "USERNEV": "peter1",
                                    "NEV": "Kozma Péter",
                                    "EMAIL": "peter1@gmail.com",
                                    "SZAML_CIM": "6913 Csanádpalota Központi telep 3.",
                                    "SZUL_DAT": "1976-03-18",
                                    "életkor": "48",
                                    "(No column name)": "48"
                                },
                                {
                                    "USERNEV": "peter2",
                                    "NEV": "Bozsó Péter",
                                    "EMAIL": "peter2@gmail.com",
                                    "SZAML_CIM": "4800 Vásárosnamény Zombori út 2/A",
                                    "SZUL_DAT": "1976-01-26",
                                    "életkor": "48",
                                    "(No column name)": "48"
                                },
                                {
                                    "USERNEV": "peter3",
                                    "NEV": "Szalai Péter",
                                    "EMAIL": "peter3@gmail.com",
                                    "SZAML_CIM": "1155 Budapest Arany János utca 3.",
                                    "SZUL_DAT": "1983-07-18",
                                    "életkor": "41",
                                    "(No column name)": "41"
                                },
                                {
                                    "USERNEV": "peter4",
                                    "NEV": "Bíró Péter",
                                    "EMAIL": "péter.bíró@mail.hu",
                                    "SZAML_CIM": "5137 Jászkisér Rákóczi utca 67.",
                                    "SZUL_DAT": "1985-09-01",
                                    "életkor": "39",
                                    "(No column name)": "39"
                                },
                                {
                                    "USERNEV": "PETERB",
                                    "NEV": "Berendi Péter",
                                    "EMAIL": "péter.berendi@mail.hu",
                                    "SZAML_CIM": "3980 Sátoraljaújhely Vasút utca 4/10.",
                                    "SZUL_DAT": "1969-01-01",
                                    "életkor": "55",
                                    "(No column name)": "55"
                                },
                                {
                                    "USERNEV": "polla",
                                    "NEV": "Palágyi Polla",
                                    "EMAIL": "polla@gmail.com",
                                    "SZAML_CIM": "2484 Agárd Fő út 18.",
                                    "SZUL_DAT": "1994-02-04",
                                    "életkor": "30",
                                    "(No column name)": "30"
                                },
                                {
                                    "USERNEV": "rajmond4",
                                    "NEV": "Rácz Rajmond",
                                    "EMAIL": "rajmond.rácz@mail.hu",
                                    "SZAML_CIM": "9155 Lébény Petőfi utca 1/2.",
                                    "SZUL_DAT": "1993-09-25",
                                    "életkor": "31",
                                    "(No column name)": "31"
                                },
                                {
                                    "USERNEV": "reka4",
                                    "NEV": "Szikszai Réka",
                                    "EMAIL": "réka.szikszai@mail.hu",
                                    "SZAML_CIM": "8254 Kővágóörs Templom utca 73.",
                                    "SZUL_DAT": "1969-11-27",
                                    "életkor": "55",
                                    "(No column name)": "55"
                                },
                                {
                                    "USERNEV": "RENATAK",
                                    "NEV": "Kardos Renáta",
                                    "EMAIL": "renáta.kardos@mail.hu",
                                    "SZAML_CIM": "7086 Ozora Bécsi utca 82.",
                                    "SZUL_DAT": "1988-05-17",
                                    "életkor": "36",
                                    "(No column name)": "36"
                                },
                                {
                                    "USERNEV": "RENATAS",
                                    "NEV": "Szirmai Renáta",
                                    "EMAIL": "RENATAS@gmail.com",
                                    "SZAML_CIM": "2053 Herceghalom Kossuth utca 27.",
                                    "SZUL_DAT": "1991-03-26",
                                    "életkor": "33",
                                    "(No column name)": "33"
                                },
                                {
                                    "USERNEV": "robert2",
                                    "NEV": "Patay Róbert",
                                    "EMAIL": "robert2@gmail.com",
                                    "SZAML_CIM": "2370 Dabas Rákóczi utca 21.",
                                    "SZUL_DAT": "1977-01-08",
                                    "életkor": "47",
                                    "(No column name)": "47"
                                },
                                {
                                    "USERNEV": "ROBERTI",
                                    "NEV": "Iván Róbert",
                                    "EMAIL": "róbert.iván@mail.hu",
                                    "SZAML_CIM": "2377 Örkény Petőfi Sándor utca 3.",
                                    "SZUL_DAT": "1967-07-02",
                                    "életkor": "57",
                                    "(No column name)": "57"
                                },
                                {
                                    "USERNEV": "ROBERTP",
                                    "NEV": "Pásztor Róbert",
                                    "EMAIL": "ROBERTP@gmail.com",
                                    "SZAML_CIM": "5137 Jászkisér Ady Endre út 27.",
                                    "SZUL_DAT": "1972-05-16",
                                    "életkor": "52",
                                    "(No column name)": "52"
                                },
                                {
                                    "USERNEV": "roland",
                                    "NEV": "Tóth Roland",
                                    "EMAIL": "roland@gmail.com",
                                    "SZAML_CIM": "2000 Szentendre Fő út 169.",
                                    "SZUL_DAT": "1968-03-21",
                                    "életkor": "56",
                                    "(No column name)": "56"
                                },
                                {
                                    "USERNEV": "roland1",
                                    "NEV": "Ferencz Roland",
                                    "EMAIL": "roland.ferencz@mail.hu",
                                    "SZAML_CIM": "2424 Előszállás Fő út 169.",
                                    "SZUL_DAT": "1985-12-31",
                                    "életkor": "39",
                                    "(No column name)": "39"
                                },
                                {
                                    "USERNEV": "roza2",
                                    "NEV": "Bucskó Róza",
                                    "EMAIL": "roza2@gmail.com",
                                    "SZAML_CIM": "5661 Újkígyós Arany János utca 3.",
                                    "SZUL_DAT": "1988-12-26",
                                    "életkor": "36",
                                    "(No column name)": "36"
                                },
                                {
                                    "USERNEV": "sandor",
                                    "NEV": "Karasz Sándor",
                                    "EMAIL": "sandor@gmail.com",
                                    "SZAML_CIM": "8283 Káptalantóti Kossuth Lajos utca 1/a.",
                                    "SZUL_DAT": "1970-01-27",
                                    "életkor": "54",
                                    "(No column name)": "54"
                                },
                                {
                                    "USERNEV": "sandor3",
                                    "NEV": "Farkas Sándor",
                                    "EMAIL": "sándor.farkas@mail.hu",
                                    "SZAML_CIM": "8640 Fonyód Tanácsköztársaság tér 1.",
                                    "SZUL_DAT": "1989-01-27",
                                    "életkor": "35",
                                    "(No column name)": "35"
                                },
                                {
                                    "USERNEV": "sandor4",
                                    "NEV": "Nagy Sándor",
                                    "EMAIL": "sandor4@gmail.com",
                                    "SZAML_CIM": "4600 Kisvárda Fő utca 47.",
                                    "SZUL_DAT": "1997-06-11",
                                    "életkor": "27",
                                    "(No column name)": "27"
                                },
                                {
                                    "USERNEV": "sara",
                                    "NEV": "Farkas Sára",
                                    "EMAIL": "sára.farkas@mail.hu",
                                    "SZAML_CIM": "5940 Tótkomlós Felszabadulás utca 32.",
                                    "SZUL_DAT": "1973-04-05",
                                    "életkor": "51",
                                    "(No column name)": "51"
                                },
                                {
                                    "USERNEV": "SEBASTIANF",
                                    "NEV": "Foltényi Sebastián",
                                    "EMAIL": "SEBASTIANF@gmail.com",
                                    "SZAML_CIM": "7960 Sellye Grassalkovich út 10.",
                                    "SZUL_DAT": "1992-09-09",
                                    "életkor": "32",
                                    "(No column name)": "32"
                                },
                                {
                                    "USERNEV": "sebestyen",
                                    "NEV": "Rab Sebestyén",
                                    "EMAIL": "sebestyen@gmail.com",
                                    "SZAML_CIM": "7130 Tolna Központi telep 3.",
                                    "SZUL_DAT": "1992-03-03",
                                    "életkor": "32",
                                    "(No column name)": "32"
                                },
                                {
                                    "USERNEV": "szabolcs",
                                    "NEV": "Bodor Szabolcs",
                                    "EMAIL": "szabolcs.bodor@mail.hu",
                                    "SZAML_CIM": "6786 Ruzsa Ady Endre út 27.",
                                    "SZUL_DAT": "1990-07-16",
                                    "életkor": "34",
                                    "(No column name)": "34"
                                },
                                {
                                    "USERNEV": "SZABOLCSM",
                                    "NEV": "Miklós Szabolcs",
                                    "EMAIL": "szabolcs.miklós@mail.hu",
                                    "SZAML_CIM": "1102 Budapest Fő út 169.",
                                    "SZUL_DAT": "1980-08-11",
                                    "életkor": "44",
                                    "(No column name)": "44"
                                },
                                {
                                    "USERNEV": "SZILARDS",
                                    "NEV": "Szalai Szilárd",
                                    "EMAIL": "szilárd.szalai@mail.hu",
                                    "SZAML_CIM": "1077 Budapest Fő út 18.",
                                    "SZUL_DAT": "1967-09-28",
                                    "életkor": "57",
                                    "(No column name)": "57"
                                },
                                {
                                    "USERNEV": "szilvia1",
                                    "NEV": "Tari Szilvia",
                                    "EMAIL": "szilvia.tari@mail.hu",
                                    "SZAML_CIM": "6080 Szabadszállás Bécsi utca 82.",
                                    "SZUL_DAT": "1971-03-09",
                                    "életkor": "53",
                                    "(No column name)": "53"
                                },
                                {
                                    "USERNEV": "tamara2",
                                    "NEV": "Miklós Tamara",
                                    "EMAIL": "tamara.miklós@mail.hu",
                                    "SZAML_CIM": "3910 Tokaj Kossuth út 39.",
                                    "SZUL_DAT": "1980-08-11",
                                    "életkor": "44",
                                    "(No column name)": "44"
                                },
                                {
                                    "USERNEV": "tamas",
                                    "NEV": "Antal Tamás",
                                    "EMAIL": "tamás.antal@mail.hu",
                                    "SZAML_CIM": "4440 Tiszavasvári Posta köz 2.",
                                    "SZUL_DAT": "1984-09-05",
                                    "életkor": "40",
                                    "(No column name)": "40"
                                },
                                {
                                    "USERNEV": "TAMASF",
                                    "NEV": "Fényes Tamás",
                                    "EMAIL": "TAMASF@gmail.com",
                                    "SZAML_CIM": "9023 Győr Arany János utca 1.",
                                    "SZUL_DAT": "1997-11-06",
                                    "életkor": "27",
                                    "(No column name)": "27"
                                },
                                {
                                    "USERNEV": "tesztelek",
                                    "NEV": "Teszt Elek",
                                    "EMAIL": "tesztelek@.com",
                                    "SZAML_CIM": "2360",
                                    "SZUL_DAT": "2002-09-30",
                                    "életkor": "22",
                                    "(No column name)": "22"
                                },
                                {
                                    "USERNEV": "tibor",
                                    "NEV": "Gombos Tibor",
                                    "EMAIL": "tibor.gombos@mail.hu",
                                    "SZAML_CIM": "7100 Szekszárd Kossuth utca 77.",
                                    "SZUL_DAT": "1993-11-28",
                                    "életkor": "31",
                                    "(No column name)": "31"
                                },
                                {
                                    "USERNEV": "tibor2",
                                    "NEV": "Dániel Tibor",
                                    "EMAIL": "tibor2@gmail.com",
                                    "SZAML_CIM": "6646 Tömörkény Árpád utca 23.",
                                    "SZUL_DAT": "1985-02-02",
                                    "életkor": "39",
                                    "(No column name)": "39"
                                },
                                {
                                    "USERNEV": "tihamer",
                                    "NEV": "Kazy Tihamér",
                                    "EMAIL": "tihamér.kazy@mail.hu",
                                    "SZAML_CIM": "2370 Dabas Fő utca 60.",
                                    "SZUL_DAT": "1991-07-05",
                                    "életkor": "33",
                                    "(No column name)": "33"
                                },
                                {
                                    "USERNEV": "timea",
                                    "NEV": "Papós Tímea",
                                    "EMAIL": "timea@gmail.com",
                                    "SZAML_CIM": "1035 Budapest  Kossuth út 77.",
                                    "SZUL_DAT": "1996-01-08",
                                    "életkor": "28",
                                    "(No column name)": "28"
                                },
                                {
                                    "USERNEV": "timea2",
                                    "NEV": "Dusha Tímea",
                                    "EMAIL": "tímea.dusha@mail.hu",
                                    "SZAML_CIM": "5920 Csorvás Kossuth utca 8.",
                                    "SZUL_DAT": "1975-08-22",
                                    "életkor": "49",
                                    "(No column name)": "49"
                                },
                                {
                                    "USERNEV": "tunde",
                                    "NEV": "Turcsik Tünde",
                                    "EMAIL": "tunde@gmail.com",
                                    "SZAML_CIM": "7130 Tolna Fő út 122.",
                                    "SZUL_DAT": "1974-02-12",
                                    "életkor": "50",
                                    "(No column name)": "50"
                                },
                                {
                                    "USERNEV": "valentin",
                                    "NEV": "Feró Valentin",
                                    "EMAIL": "valentin.feró@mail.hu",
                                    "SZAML_CIM": "3895 Gönc Búvár utca 4.",
                                    "SZUL_DAT": "1986-01-09",
                                    "életkor": "38",
                                    "(No column name)": "38"
                                },
                                {
                                    "USERNEV": "veronika4",
                                    "NEV": "Tankó Veronika",
                                    "EMAIL": "veronika4@gmail.com",
                                    "SZAML_CIM": "6412 Balotaszállás Rendeki utca 21.",
                                    "SZUL_DAT": "1983-08-28",
                                    "életkor": "41",
                                    "(No column name)": "41"
                                },
                                {
                                    "USERNEV": "VIKTORIAU",
                                    "NEV": "Urbán Viktoria",
                                    "EMAIL": "viktoria.urbán@mail.hu",
                                    "SZAML_CIM": "3860 Encs Népboltsor  2.",
                                    "SZUL_DAT": "1996-05-03",
                                    "életkor": "28",
                                    "(No column name)": "28"
                                },
                                {
                                    "USERNEV": "VIKTORK",
                                    "NEV": "Keresztúri Viktor",
                                    "EMAIL": "viktor.keresztúri@mail.hu",
                                    "SZAML_CIM": "2532 Tokodaltáró Nagy Lajos tér 4.",
                                    "SZUL_DAT": "1989-05-05",
                                    "életkor": "35",
                                    "(No column name)": "35"
                                },
                                {
                                    "USERNEV": "vivien3",
                                    "NEV": "Boros Vivien",
                                    "EMAIL": "vivien3@gmail.com",
                                    "SZAML_CIM": "2117 Isaszeg Fő út 122.",
                                    "SZUL_DAT": "1991-07-01",
                                    "életkor": "33",
                                    "(No column name)": "33"
                                },
                                {
                                    "USERNEV": "zoltan",
                                    "NEV": "Fodor Zoltán",
                                    "EMAIL": "zoltán.fodor@mail.hu",
                                    "SZAML_CIM": "3441 Mezőkeresztes Fő utca 23.",
                                    "SZUL_DAT": "1979-11-25",
                                    "életkor": "45",
                                    "(No column name)": "45"
                                },
                                {
                                    "USERNEV": "zoltan4",
                                    "NEV": "Barna Zoltán",
                                    "EMAIL": "zoltan4@gmail.com",
                                    "SZAML_CIM": "8313 Balatongyörök Jászai tér 21.",
                                    "SZUL_DAT": "1986-05-20",
                                    "életkor": "38",
                                    "(No column name)": "38"
                                },
                                {
                                    "USERNEV": "ZOLTANP",
                                    "NEV": "Pintér Zoltán",
                                    "EMAIL": "zoltán.pintér@mail.hu",
                                    "SZAML_CIM": "6050 Lajosmizse Fő út 18.",
                                    "SZUL_DAT": "1977-06-07",
                                    "életkor": "47",
                                    "(No column name)": "47"
                                },
                                {
                                    "USERNEV": "ZOLTANT",
                                    "NEV": "Tóth Zoltán",
                                    "EMAIL": "zoltán.tóth@mail.hu",
                                    "SZAML_CIM": "4244 Újfehértó Posta köz 2.",
                                    "SZUL_DAT": "1985-12-14",
                                    "életkor": "39",
                                    "(No column name)": "39"
                                },
                                {
                                    "USERNEV": "zsofi1",
                                    "NEV": "Molnár Zsófi",
                                    "EMAIL": "zsofi1@gmail.com",
                                    "SZAML_CIM": "2730 Albertirsa Árpád utca 23.",
                                    "SZUL_DAT": "1983-11-17",
                                    "életkor": "41",
                                    "(No column name)": "41"
                                },
                                {
                                    "USERNEV": "zsolt1",
                                    "NEV": "Pulai Zsolt",
                                    "EMAIL": "zsolt.pulai@mail.hu",
                                    "SZAML_CIM": "8391 Sármellék Fő utca 60.",
                                    "SZUL_DAT": "1988-05-27",
                                    "életkor": "36",
                                    "(No column name)": "36"
                                },
                                {
                                    "USERNEV": "ZSOLTJ",
                                    "NEV": "Józsa Zsolt",
                                    "EMAIL": "ZSOLTJ@gmail.com",
                                    "SZAML_CIM": "8315 Gyenesdiás Bajcsy-Zsilinszky utca 4.",
                                    "SZUL_DAT": "1983-09-29",
                                    "életkor": "41",
                                    "(No column name)": "41"
                                },
                                {
                                    "USERNEV": "zsuzsa",
                                    "NEV": "Pusztai Zsuzsanna",
                                    "EMAIL": "zsuzsanna@gmail.com",
                                    "SZAML_CIM": "6783 Ásotthalom Badacsonyi utca 12.",
                                    "SZUL_DAT": "1980-09-17",
                                    "életkor": "44",
                                    "(No column name)": "44"
                                },
                                {
                                    "USERNEV": "zsuzsa3",
                                    "NEV": "Varsányi Zsuzsa",
                                    "EMAIL": "zsuzsa.varsányi@mail.hu",
                                    "SZAML_CIM": "8600 Siófok Árpád utca 4.",
                                    "SZUL_DAT": "1979-03-06",
                                    "életkor": "45",
                                    "(No column name)": "45"
                                },
                                {
                                    "USERNEV": "zsuzsanna",
                                    "NEV": "Barta Zsuzsanna",
                                    "EMAIL": "zsuzsanna.barta@mail.hu",
                                    "SZAML_CIM": "4172 Biharnagybajom Dózsa György utca 37.",
                                    "SZUL_DAT": "1994-10-07",
                                    "életkor": "30",
                                    "(No column name)": "30"
                                },
                                {
                                    "USERNEV": "ZSUZSAV",
                                    "NEV": "Vajda Zsuzsa",
                                    "EMAIL": "zsuzsa.vajda@mail.hu",
                                    "SZAML_CIM": "6786 Ruzsa Kossuth utca 77.",
                                    "SZUL_DAT": "1976-12-11",
                                    "életkor": "48",
                                    "(No column name)": "48"
                                }
                            ]
                        },
                        "text/html": [
                            "<table>",
                            "<tr><th>USERNEV</th><th>NEV</th><th>EMAIL</th><th>SZAML_CIM</th><th>SZUL_DAT</th><th>életkor</th><th>(No column name)</th></tr>",
                            "<tr><td></td><td>Kiss József</td><td>kissjozsef@vhol.com</td><td>NULL</td><td>NULL</td><td>NULL</td><td>NULL</td></tr>",
                            "<tr><td>adam1</td><td>Kiss Ádám</td><td>ádám.kiss@mail.hu</td><td>5630 Békés Szolnoki út 8.</td><td>1991-12-28</td><td>33</td><td>33</td></tr>",
                            "<tr><td>adam3</td><td>Barkóci Ádám</td><td>adam3@gmail.com</td><td>3910 Tokaj Dózsa György utca 37.</td><td>1970-06-07</td><td>54</td><td>54</td></tr>",
                            "<tr><td>adam4</td><td>Bieniek Ádám</td><td>ádám.bieniek@mail.hu</td><td>8630 Balatonboglár Juhászföldi út 1.</td><td>1976-08-01</td><td>48</td><td>48</td></tr>",
                            "<tr><td>agnes</td><td>Lengyel Ágnes</td><td>agnes@gmail.com</td><td>5200 Törökszentmiklós Deák Ferenc út 5.</td><td>1979-12-10</td><td>45</td><td>45</td></tr>",
                            "<tr><td>agnes3</td><td>Hartyánszky Ágnes</td><td>agnes3@gmail.com</td><td>6430 Bácsalmás Posta köz 2.</td><td>1967-04-11</td><td>57</td><td>57</td></tr>",
                            "<tr><td>AGNESH</td><td>Horváth Ágnes</td><td>AGNESH@gmail.com</td><td>8200 Veszprém Rákóczi utca 21.</td><td>1981-12-24</td><td>43</td><td>43</td></tr>",
                            "<tr><td>AGNESK</td><td>Kovács Ágnes</td><td>AGNESK@gmail.com</td><td>1084 Budapest Endrődi Sándor utca 47.</td><td>1988-10-02</td><td>36</td><td>36</td></tr>",
                            "<tr><td>akos</td><td>Bíró Ákos</td><td>ákos.bíró@mail.hu</td><td>9023 Győr Kossuth Lajos utca 47/b.</td><td>1982-04-24</td><td>42</td><td>42</td></tr>",
                            "<tr><td>aladar</td><td>Dunai Aladár</td><td>aladár.dunai@mail.hu</td><td>5931 Nagyszénás Árpád utca 23.</td><td>1980-11-01</td><td>44</td><td>44</td></tr>",
                            "<tr><td>alexandra</td><td>Bagóczki Alexandra</td><td>alexandra.bagóczki@mail.hu</td><td>2381 Táborfalva Petőfi utca 1/2.</td><td>1992-03-25</td><td>32</td><td>32</td></tr>",
                            "<tr><td>andi</td><td>Maródi Andrea</td><td>andrea.maródi@mail.hu</td><td>5465 Cserkeszőlő Árpád utca 4.</td><td>1968-05-07</td><td>56</td><td>56</td></tr>",
                            "<tr><td>andras2</td><td>Tóth András</td><td>andrás.tóth@mail.hu</td><td>4071 Egyek Petőfi utca 30.</td><td>1997-10-31</td><td>27</td><td>27</td></tr>",
                            "<tr><td>andras21</td><td>Molnár András</td><td>andrás.molnár@mail.hu</td><td>7900 Szigetvár Rákóczi utca 67.</td><td>1977-11-16</td><td>47</td><td>47</td></tr>",
                            "<tr><td>andras3</td><td>Vígh András</td><td>andrás.vígh@mail.hu</td><td>1118 Budapest Arany János utca 1.</td><td>1971-04-02</td><td>53</td><td>53</td></tr>",
                            "<tr><td>andras4</td><td>Back András</td><td>andras4@gmail.com</td><td>3783 Edelény Fő út 169.</td><td>1984-04-07</td><td>40</td><td>40</td></tr>",
                            "<tr><td>andras41</td><td>Komjáti András</td><td>andras41@gmail.com</td><td>5065 Nagykörű Kossuth út 24.</td><td>1997-10-25</td><td>27</td><td>27</td></tr>",
                            "<tr><td>ANDRASE</td><td>Erdei András</td><td>ANDRASE@gmail.com</td><td>5071 Besenyszög Szolnoki út 8.</td><td>1997-05-29</td><td>27</td><td>27</td></tr>",
                            "<tr><td>ANDRASN</td><td>Nagy András</td><td>andrás.nagy@mail.hu</td><td>6500 Baja Fő út 169.</td><td>1980-09-05</td><td>44</td><td>44</td></tr>",
                            "<tr><td>andrea</td><td>Kiss Andrea</td><td>andrea.kiss@mail.hu</td><td>1113 Budapest Petőfi Sándor utca 87.</td><td>1993-03-25</td><td>31</td><td>31</td></tr>",
                            "<tr><td>andrea3</td><td>Szomor Andrea</td><td>andrea3@gmail.com</td><td>7960 Sellye Bécsi utca 82.</td><td>1996-05-10</td><td>28</td><td>28</td></tr>",
                            "<tr><td>andrea4</td><td>Neizer Andrea</td><td>andrea4@gmail.com</td><td>1124 Budapest Kiss u. 8.</td><td>1981-05-17</td><td>43</td><td>43</td></tr>",
                            "<tr><td>ANDREAT</td><td>Tornyos Andrea</td><td>ANDREAT@gmail.com</td><td>6131 Szank Bécsi utca 82.</td><td>1986-11-14</td><td>38</td><td>38</td></tr>",
                            "<tr><td>anett3</td><td>Pivarcsi Anett</td><td>anett.pivarcsi@mail.hu</td><td>1149 Budapest Fő út 60.</td><td>1967-01-03</td><td>57</td><td>57</td></tr>",
                            "<tr><td>aniko</td><td>Tóth Anikó</td><td>aniko@gmail.com</td><td>2085 Pilisvörösvár Deák Ferenc út 5.</td><td>1973-06-03</td><td>51</td><td>51</td></tr>",
                            "<tr><td>aniko4</td><td>Böröcz Anikó</td><td>aniko4@gmail.com</td><td>2484 Agárd Petőfi Sándor tér 1.</td><td>1978-03-26</td><td>46</td><td>46</td></tr>",
                            "<tr><td>ANIKOS</td><td>Simon Anikó</td><td>ANIKOS@gmail.com</td><td>5137 Jászkisér Bécsi utca 82.</td><td>1988-12-14</td><td>36</td><td>36</td></tr>",
                            "<tr><td>anita</td><td>Hamvay-Kovács Anita</td><td>anita.hamvay-kovács@mail.hu</td><td>7220 Sarkad Táncsics utca 19.</td><td>1971-03-20</td><td>53</td><td>53</td></tr>",
                            "<tr><td>annamaria1</td><td>Szűcs Annamária</td><td>annamária.szűcs@mail.hu</td><td>1191 Budapest Rendeki utca 21.</td><td>1990-04-27</td><td>34</td><td>34</td></tr>",
                            "<tr><td>ANNAMARIAR</td><td>Regős Annamária</td><td>ANNAMARIAR@gmail.com</td><td>8283 Káptalantóti Petőfi Sándor tér 1.</td><td>1977-09-26</td><td>47</td><td>47</td></tr>",
                            "<tr><td>aron2</td><td>Jakab Áron</td><td>aron2@gmail.com</td><td>7133 Fadd Bajcsy-Zsilinszky utca 4.</td><td>1971-04-26</td><td>53</td><td>53</td></tr>",
                            "<tr><td>ARONK</td><td>Kelemen Áron</td><td>áron.kelemen@mail.hu</td><td>8200 Veszprém Petőfi utca 8.</td><td>1989-08-10</td><td>35</td><td>35</td></tr>",
                            "<tr><td>arpad2</td><td>Ötvös Árpád</td><td>árpád.ötvös@mail.hu</td><td>2600 Vác Padragi út 158.</td><td>1990-06-08</td><td>34</td><td>34</td></tr>",
                            "<tr><td>ARPADH</td><td>Horváth Árpád</td><td>árpád.horváth@mail.hu</td><td>7349 Szászvár Dózsa György u. 1.</td><td>1990-05-18</td><td>34</td><td>34</td></tr>",
                            "<tr><td>ARPADM</td><td>Móricz Árpád</td><td>árpád.móricz@mail.hu</td><td>3910 Tokaj Rákóczi utca 67.</td><td>1986-04-20</td><td>38</td><td>38</td></tr>",
                            "<tr><td>Atilla</td><td>Attila Gál</td><td>atika@aaa</td><td>MIklósra</td><td>2023-12-07</td><td>1</td><td>1</td></tr>",
                            "<tr><td>attila</td><td>Csóti Attila</td><td>attila@gmail.com</td><td>3000 Hatvan Bajcsy-Zsilinszky utca 4.</td><td>1979-12-25</td><td>45</td><td>45</td></tr>",
                            "<tr><td>attila1</td><td>Gulyás Attila</td><td>attila.gulyás@mail.hu</td><td>3881 Abaújszántó Szolnoki út 8.</td><td>1982-08-16</td><td>42</td><td>42</td></tr>",
                            "<tr><td>attila4</td><td>Baróti Attila</td><td>attila.baróti@mail.hu</td><td>7149 Báta Arany János utca 3.</td><td>1975-11-06</td><td>49</td><td>49</td></tr>",
                            "<tr><td>ATTILAO</td><td>Opra Attila</td><td>ATTILAO@gmail.com</td><td>8283 Káptalantóti Rákóczi út 200.</td><td>1995-05-08</td><td>29</td><td>29</td></tr>",
                            "<tr><td>balazs1</td><td>Bozsik Balázs</td><td>balázs.bozsik@mail.hu</td><td>2300 Ráckeve Bécsi utca 82.</td><td>1992-11-03</td><td>32</td><td>32</td></tr>",
                            "<tr><td>balazs2</td><td>Szűcs Balázs</td><td>balázs.szűcs@mail.hu</td><td>3170 Szécsény Szabadság utca 95.</td><td>1984-10-31</td><td>40</td><td>40</td></tr>",
                            "<tr><td>balazs3</td><td>Bakódy Balázs</td><td>balazs3@gmail.com</td><td>2131 Göd Arany János utca 1.</td><td>1986-09-09</td><td>38</td><td>38</td></tr>",
                            "<tr><td>balint</td><td>Horváth Bálint</td><td>balint@gmail.com</td><td>6646 Tömörkény Endrődi Sándor utca 47.</td><td>1996-03-17</td><td>28</td><td>28</td></tr>",
                            "<tr><td>balint1</td><td>Molnár Bálint</td><td>balint1@gmail.com</td><td>9181 Kimle Fő út 169.</td><td>1989-08-24</td><td>35</td><td>35</td></tr>",
                            "<tr><td>balint2</td><td>Vukasinovity Bálint</td><td>balint2@gmail.com</td><td>2330 Dunaharaszti Béke utca 7.</td><td>1997-09-03</td><td>27</td><td>27</td></tr>",
                            "<tr><td>balu</td><td>Endresz Bálint</td><td>bálint.endresz@mail.hu</td><td>3973 Cigánd Fő út 169.</td><td>1976-08-01</td><td>48</td><td>48</td></tr>",
                            "<tr><td>barna</td><td>ee</td><td>ee</td><td>ee</td><td>2023-12-30</td><td>1</td><td>1</td></tr>",
                            "<tr><td>Barnabsds</td><td></td><td></td><td></td><td>2023-12-11</td><td>1</td><td>1</td></tr>",
                            "<tr><td>beata4</td><td>Bagi Beáta</td><td>beáta.bagi@mail.hu</td><td>8477 Tüskevár Felszabadulás utca 32.</td><td>1994-03-19</td><td>30</td><td>30</td></tr>",
                            "<tr><td>BEATRIXK</td><td>Kerényi Beatrix</td><td>beatrix.kerényi@mail.hu</td><td>7396 Magyarszék Kossuth Lajos utca 47/b.</td><td>1972-04-06</td><td>52</td><td>52</td></tr>",
                            "<tr><td>BEATRIXS</td><td>Szekendi Beatrix</td><td>beatrix.szekendi@mail.hu</td><td>4060 Balmazújváros Jászai tér 21.</td><td>1981-04-06</td><td>43</td><td>43</td></tr>",
                            "<tr><td>BELAF</td><td>Farkas Béla</td><td>BELAF@gmail.com</td><td>5530 Vésztő Petőfi Sándor utca 3.</td><td>1995-02-24</td><td>29</td><td>29</td></tr>",
                            "<tr><td>bence</td><td>Győrffy Bence</td><td>bence@gmail.com</td><td>6900 Makó Árpád utca 23.</td><td>1987-07-09</td><td>37</td><td>37</td></tr>",
                            "<tr><td>BENCEB</td><td>Bajusz Bence</td><td>bence.bajusz@mail.hu</td><td>8391 Sármellék Fő utca 56.</td><td>1973-06-21</td><td>51</td><td>51</td></tr>",
                            "<tr><td>bernadett1</td><td>Simon Bernadett</td><td>bernadett1@gmail.com</td><td>2300 Ráckeve Fő utca 108.</td><td>1984-10-13</td><td>40</td><td>40</td></tr>",
                            "<tr><td>bernadett2</td><td>Kovács Bernadett</td><td>bernadett.kovács@mail.hu</td><td>4200 Hajdúszoboszló Fő út 122.</td><td>1996-08-20</td><td>28</td><td>28</td></tr>",
                            "<tr><td>BERNADETTO</td><td>Orbán Bernadett</td><td>bernadett.orbán@mail.hu</td><td>5085 Rákóczifalva Arany János utca 1.</td><td>1987-12-07</td><td>37</td><td>37</td></tr>",
                            "<tr><td>bertalan</td><td>Csiger Bertalan</td><td>bertalan@gmail.com</td><td>1192 Budapest Fő út 169.</td><td>1977-10-15</td><td>47</td><td>47</td></tr>",
                            "<tr><td>brigitta</td><td>Székely Brigitta</td><td>brigitta.székely@mail.hu</td><td>2462 Martonvásár Fő utca 47.</td><td>1978-09-13</td><td>46</td><td>46</td></tr>",
                            "<tr><td>brigitta3</td><td>Pataki Brigitta</td><td>brigitta.pataki@mail.hu</td><td>2730 Albertirsa Rendeki utca 21.</td><td>1991-05-23</td><td>33</td><td>33</td></tr>",
                            "<tr><td>csongor3</td><td>Nagymihály Csongor</td><td>csongor.nagymihály@mail.hu</td><td>9181 Kimle Deák Ferenc út 5.</td><td>1984-03-05</td><td>40</td><td>40</td></tr>",
                            "<tr><td>d</td><td></td><td></td><td></td><td>2023-12-13</td><td>1</td><td>1</td></tr>",
                            "<tr><td>dani</td><td>Vörös Dániel</td><td>daniel@gmail.com</td><td>7150 Bonyhád Dózsa György u. 1.</td><td>1986-10-14</td><td>38</td><td>38</td></tr>",
                            "<tr><td>daniel</td><td>Rácz Dániel</td><td>dániel.rácz@mail.hu</td><td>9181 Kimle Szabadság tér 9.</td><td>1978-11-28</td><td>46</td><td>46</td></tr>",
                            "<tr><td>daniel1</td><td>Keszler Dániel</td><td>dániel.keszler@mail.hu</td><td>3580 Tiszaújváros Kossuth Lajos utca 6.</td><td>1969-07-16</td><td>55</td><td>55</td></tr>",
                            "<tr><td>david</td><td>Ambrus Dávid</td><td>david@gmail.com</td><td>1149 Budapest Fő út 18.</td><td>1974-02-11</td><td>50</td><td>50</td></tr>",
                            "<tr><td>david1</td><td>Sobják Dávid</td><td>david1@gmail.com</td><td>5083 Kengyel Arany János utca 3.</td><td>1970-08-16</td><td>54</td><td>54</td></tr>",
                            "<tr><td>david4</td><td>Berta Dávid</td><td>david4@gmail.com</td><td>3500 Miskolc Balatoni út 12.</td><td>1990-10-08</td><td>34</td><td>34</td></tr>",
                            "<tr><td>debora</td><td>Barna Debóra</td><td>debóra.barna@mail.hu</td><td>1155 Budapest Fő út 169.</td><td>1976-10-14</td><td>48</td><td>48</td></tr>",
                            "<tr><td>denes</td><td>Tömböly Dénes</td><td>denes@gmail.com</td><td>2400 Dunaújváros Kossuth út 39.</td><td>1975-03-14</td><td>49</td><td>49</td></tr>",
                            "<tr><td>dfefs</td><td></td><td></td><td></td><td>2023-12-12</td><td>1</td><td>1</td></tr>",
                            "<tr><td>dfwew</td><td></td><td></td><td></td><td>2023-12-12</td><td>1</td><td>1</td></tr>",
                            "<tr><td>dora3</td><td>Sarodi Dóra</td><td>dóra.sarodi@mail.hu</td><td>2855 Bokod Fő út 18.</td><td>1995-05-18</td><td>29</td><td>29</td></tr>",
                            "<tr><td>edit</td><td>Bittmann Edit</td><td>edit.bittmann@mail.hu</td><td>6077 Orgovány Fő utca 60.</td><td>1984-04-20</td><td>40</td><td>40</td></tr>",
                            "<tr><td>emese</td><td>Kuruc Emese</td><td>emese.kuruc@mail.hu</td><td>6700 Szeged Rákóczi utca 67.</td><td>1989-08-10</td><td>35</td><td>35</td></tr>",
                            "<tr><td>eperke222</td><td>barnabás</td><td>ere</td><td>re</td><td>2023-12-11</td><td>1</td><td>1</td></tr>",
                            "<tr><td>eszter</td><td>Molnár Eszter</td><td>eszter.molnár@mail.hu</td><td>6800 Hódmezővásárhely Fő út 77.</td><td>1987-05-10</td><td>37</td><td>37</td></tr>",
                            "<tr><td>eszter2</td><td>Balogh Eszter</td><td>eszter.balogh@mail.hu</td><td>6760 Kistelek Kossuth utca 11.</td><td>1998-01-31</td><td>26</td><td>26</td></tr>",
                            "<tr><td>eszter4</td><td>Fülöp Eszter</td><td>eszter.fülöp@mail.hu</td><td>3643 Dédestapolcsány Kossuth Lajos utca 47/b.</td><td>1993-06-28</td><td>31</td><td>31</td></tr>",
                            "<tr><td>ESZTERE</td><td>Érsek Eszter</td><td>eszter.érsek@mail.hu</td><td>6785 Pusztamérges Kossuth Lajos utca 6.</td><td>1978-08-28</td><td>46</td><td>46</td></tr>",
                            "<tr><td>eva</td><td>Enyedi Éva</td><td>eva@gmail.com</td><td>4231 Bököny Petőfi utca 8.</td><td>1967-06-30</td><td>57</td><td>57</td></tr>",
                            "<tr><td>eva2</td><td>Perlinger Éva</td><td>eva2@gmail.com</td><td>9653 Répcelak Bécsi utca 82.</td><td>1971-08-19</td><td>53</td><td>53</td></tr>",
                            "<tr><td>EVAV</td><td>Viktor Éva</td><td>EVAV@gmail.com</td><td>6913 Csanádpalota Arany János utca 3.</td><td>1980-12-26</td><td>44</td><td>44</td></tr>",
                            "<tr><td>fdsfss</td><td></td><td></td><td></td><td>2023-12-11</td><td>1</td><td>1</td></tr>",
                            "<tr><td>ferenc1</td><td>Orosz Ferenc</td><td>ferenc.orosz@mail.hu</td><td>5061 Tiszasüly Arany János utca 3.</td><td>1983-10-08</td><td>41</td><td>41</td></tr>",
                            "<tr><td>few</td><td>ewfew</td><td>ew</td><td>few</td><td>2023-12-11</td><td>1</td><td>1</td></tr>",
                            "<tr><td>fruzsina4</td><td>Frank Fruzsina</td><td>fruzsina4@gmail.com</td><td>9700 Szombathely Szabadság utca 95.</td><td>1996-08-16</td><td>28</td><td>28</td></tr>",
                            "<tr><td>gabor1</td><td>Köves Gábor</td><td>gabor1@gmail.com</td><td>6762 Sándorfalva Árpád utca 23.</td><td>1973-07-15</td><td>51</td><td>51</td></tr>",
                            "<tr><td>gabor4</td><td>Telek Gábor</td><td>gábor.telek@mail.hu</td><td>9071 Görbeháza Fő út 169.</td><td>1987-03-15</td><td>37</td><td>37</td></tr>",
                            "<tr><td>GABORS</td><td>Szöllősi Gábor</td><td>GABORS@gmail.com</td><td>3630 Putnok Kossuth utca 27.</td><td>1990-05-31</td><td>34</td><td>34</td></tr>",
                            "<tr><td>gabriella1</td><td>Nagy Gabriella</td><td>gabriella1@gmail.com</td><td>1077 Budapest Dob utca 1</td><td>1982-11-01</td><td>42</td><td>42</td></tr>",
                            "<tr><td>gabriella10</td><td>Vida Gabriella</td><td>gabriella10@gmail.com</td><td>2484 Agárd Arany János utca 3.</td><td>1969-06-18</td><td>55</td><td>55</td></tr>",
                            "<tr><td>georgij</td><td>Nyíri Georgij</td><td>georgij.nyíri@mail.hu</td><td>8391 Sármellék Grassalkovich út 10.</td><td>1983-02-23</td><td>41</td><td>41</td></tr>",
                            "<tr><td>gusztav</td><td>Bárci Gusztáv</td><td>gusztav@gmail.com</td><td>3643 Dédestapolcsány Endrődi Sándor utca 47.</td><td>1967-02-25</td><td>57</td><td>57</td></tr>",
                            "<tr><td>GYONGYIK</td><td>Kornseé Gyöngyi</td><td>gyöngyi.kornseé@mail.hu</td><td>8800 Nagykanizsa Fő út 60.</td><td>1974-06-07</td><td>50</td><td>50</td></tr>",
                            "<tr><td>GYORGYO</td><td>Oroszi György</td><td>GYORGYO@gmail.com</td><td>7220 Sarkad Dózsa György u. 1.</td><td>1980-03-23</td><td>44</td><td>44</td></tr>",
                            "<tr><td>haliho</td><td>Nagy Árpád</td><td>nagyarpi@gmail.com</td><td>-</td><td>NULL</td><td>NULL</td><td>NULL</td></tr>",
                            "<tr><td>halloka</td><td>Kiss Benedek</td><td>kisbeni@gmli.com</td><td></td><td>NULL</td><td>NULL</td><td>NULL</td></tr>",
                            "<tr><td>henrik3</td><td>Nádudvari Henrik</td><td>henrik.nádudvari@mail.hu</td><td>1077 Budapest Tanácsköztársaság tér 1.</td><td>1986-12-05</td><td>38</td><td>38</td></tr>",
                            "<tr><td>IBOLYAA</td><td>Andor Ibolya</td><td>ibolya.andor@mail.hu</td><td>9023 Győr Posta köz 2.</td><td>1983-11-27</td><td>41</td><td>41</td></tr>",
                            "<tr><td>ilona3</td><td>Bosnyák Ilona</td><td>ilona3@gmail.com</td><td>2483 Gárdony Posta köz 2.</td><td>1990-08-06</td><td>34</td><td>34</td></tr>",
                            "<tr><td>imre</td><td>Búza Imre</td><td>imre.búza@mail.hu</td><td>9181 Kimle Petőfi Sándor tér 1.</td><td>1988-09-30</td><td>36</td><td>36</td></tr>",
                            "<tr><td>imre1</td><td>Papp Imre</td><td>imre.papp@mail.hu</td><td>1077 Budapest Szolnoki út 8.</td><td>1976-06-25</td><td>48</td><td>48</td></tr>",
                            "<tr><td>istvan</td><td>Soós István</td><td>istvan@gmail.com</td><td>2370 Dabas Kossuth utca 27.</td><td>1986-06-28</td><td>38</td><td>38</td></tr>",
                            "<tr><td>istvan1</td><td>Vizi István</td><td>istván.vizi@mail.hu</td><td>7086 Ozora Rákóczi utca 1.</td><td>1997-12-01</td><td>27</td><td>27</td></tr>",
                            "<tr><td>ISTVANV</td><td>Varga István</td><td>ISTVANV@gmail.com</td><td>6320 Solt Hősök tere 11.</td><td>1989-04-09</td><td>35</td><td>35</td></tr>",
                            "<tr><td>janos3</td><td>Harangozó János</td><td>janos3@gmail.com</td><td>8700 Marcali Petőfi Sándor tér 1.</td><td>1967-11-02</td><td>57</td><td>57</td></tr>",
                            "<tr><td>JANOSG</td><td>Giliga János</td><td>JANOSG@gmail.com</td><td>3300 Eger Deák Ferenc út 5.</td><td>1975-01-03</td><td>49</td><td>49</td></tr>",
                            "<tr><td>JANOSP</td><td>Pálinkás János</td><td>JANOSP@gmail.com</td><td>5920 Csorvás Padragi út 158.</td><td>1984-10-12</td><td>40</td><td>40</td></tr>",
                            "<tr><td>joskapista</td><td>Adrimanó</td><td>ee</td><td>qee</td><td>2023-12-11</td><td>1</td><td>1</td></tr>",
                            "<tr><td>jozsef</td><td>Gergely József</td><td>jozsef@gmail.com</td><td>6050 Lajosmizse Fő út 18.</td><td>1985-11-01</td><td>39</td><td>39</td></tr>",
                            "<tr><td>jozsef2</td><td>Vajda József</td><td>józsef.vajda@mail.hu</td><td>6700 Szeged Baracsi László utca 14.</td><td>1978-09-04</td><td>46</td><td>46</td></tr>",
                            "<tr><td>JOZSEFG</td><td>Gyuris József</td><td>józsef.gyuris@mail.hu</td><td>2660 Balassagyarmat Petőfi utca 1/2.</td><td>1975-05-26</td><td>49</td><td>49</td></tr>",
                            "<tr><td>JUDITH</td><td>Hídasi Judit</td><td>JUDITH@gmail.com</td><td>2100 Gödöllő Fő út 169.</td><td>1997-07-12</td><td>27</td><td>27</td></tr>",
                            "<tr><td>julia</td><td>Tóth Júlia</td><td>julia@gmail.com</td><td>5310 Kisújszállás Árpád utca 4.</td><td>1993-03-02</td><td>31</td><td>31</td></tr>",
                            "<tr><td>julia4</td><td>Nagy Júlia</td><td>julia4@gmail.com</td><td>7000 Sárbogárd Jászai tér 21.</td><td>1985-08-11</td><td>39</td><td>39</td></tr>",
                            "<tr><td>julianna4</td><td>Szabó Julianna</td><td>julianna4@gmail.com</td><td>6700 Szeged Kossuth Lajos utca 6.</td><td>1990-09-29</td><td>34</td><td>34</td></tr>",
                            "<tr><td>kata</td><td>Gondos Katalin</td><td>katalin.gondos@mail.hu</td><td>8237 Tihany Kossuth Lajos utca 6.</td><td>1968-06-22</td><td>56</td><td>56</td></tr>",
                            "<tr><td>katalin</td><td>Horváth Katalin</td><td>katalin.horváth@mail.hu</td><td>2424 Előszállás Rákóczi út 200.</td><td>1968-01-01</td><td>56</td><td>56</td></tr>",
                            "<tr><td>katalin4</td><td>Kertész Katalin</td><td>katalin4@gmail.com</td><td>2800 Tatabánya Búvár utca 4.</td><td>1986-04-13</td><td>38</td><td>38</td></tr>",
                            "<tr><td>kati</td><td>Zatykó Katalin</td><td>katalin.zatykó@mail.hu</td><td>7511 Ötvöskónyi Kossuth Lajos utca 6.</td><td>1995-05-01</td><td>29</td><td>29</td></tr>",
                            "<tr><td>katka</td><td>Kovács Katalin</td><td>katalin.kovács@mail.hu</td><td>8254 Kővágóörs Petőfi utca 22.</td><td>1975-03-31</td><td>49</td><td>49</td></tr>",
                            "<tr><td>klaudia2</td><td>Bakó Klaudia</td><td>klaudia.bakó@mail.hu</td><td>8254 Kővágóörs Kossuth Lajos utca 6.</td><td>1982-04-16</td><td>42</td><td>42</td></tr>",
                            "<tr><td>kornel4</td><td>Lukács Kornél</td><td>kornél.lukács@mail.hu</td><td>2053 Herceghalom Bécsi utca 82.</td><td>1975-09-30</td><td>49</td><td>49</td></tr>",
                            "<tr><td>kristof4</td><td>Poprádi Kristóf</td><td>kristof4@gmail.com</td><td>8220 Balatonalmádi Mészáros utca 7.</td><td>1984-01-15</td><td>40</td><td>40</td></tr>",
                            "<tr><td>kriszti</td><td>Horváth Krisztina</td><td>kriszti@gmail.com</td><td>6060 Tiszakécske Árpád utca 4.</td><td>1978-06-12</td><td>46</td><td>46</td></tr>",
                            "<tr><td>krisztian4</td><td>Czérna Krisztián</td><td>krisztián.czérna@mail.hu</td><td>1107 Budapest Dózsa György utca 37.</td><td>1970-08-01</td><td>54</td><td>54</td></tr>",
                            "<tr><td>KRISZTIANM</td><td>Mogyródi Krisztián</td><td>KRISZTIANM@gmail.com</td><td>9155 Lébény Jászai tér 21.</td><td>1968-05-27</td><td>56</td><td>56</td></tr>",
                            "<tr><td>krisztina</td><td>Szedlár Krisztina</td><td>krisztina@gmail.com</td><td>6646 Tömörkény Arany János utca 1.</td><td>1979-05-10</td><td>45</td><td>45</td></tr>",
                            "<tr><td>krisztina1</td><td>Bori Krisztina</td><td>krisztina.bori@mail.hu</td><td>2115 Vácszentlászló Fő utca 47.</td><td>1969-10-13</td><td>55</td><td>55</td></tr>",
                            "<tr><td>KRISZTINAG</td><td>Gyárfás Krisztina</td><td>KRISZTINAG@gmail.com</td><td>6762 Sándorfalva Arany János utca 1.</td><td>1987-09-19</td><td>37</td><td>37</td></tr>",
                            "<tr><td>lajos</td><td>Kiss Lajos</td><td>lajos.kiss@mail.hu</td><td>1077 Budapest Dob utca 1</td><td>1978-10-31</td><td>46</td><td>46</td></tr>",
                            "<tr><td>lala</td><td>Nagymihály Lajos</td><td>lajos.nagymihály@mail.hu</td><td>8638 Balatonlelle Rákóczi út 200.</td><td>1997-02-24</td><td>27</td><td>27</td></tr>",
                            "<tr><td>laszlo1</td><td>Farkas László</td><td>lászló.farkas@mail.hu</td><td>5200 Törökszentmiklós Rendeki utca 21.</td><td>1967-10-30</td><td>57</td><td>57</td></tr>",
                            "<tr><td>laszlo2</td><td>Móra László</td><td>lászló.móra@mail.hu</td><td>9970 Szentgotthárd Petőfi utca 1/2.</td><td>1975-02-19</td><td>49</td><td>49</td></tr>",
                            "<tr><td>LASZLOA</td><td>Antal László</td><td>lászló.antal@mail.hu</td><td>2484 Agárd Bécsi utca 82.</td><td>1969-06-29</td><td>55</td><td>55</td></tr>",
                            "<tr><td>LASZLON</td><td>Nagy László</td><td>lászló.nagy@mail.hu</td><td>1173 Budapest Jászai tér 21.</td><td>1969-04-12</td><td>55</td><td>55</td></tr>",
                            "<tr><td>Levente</td><td>XXX</td><td>XXX</td><td>XXXX</td><td>2023-12-11</td><td>1</td><td>1</td></tr>",
                            "<tr><td>maria1</td><td>Baráth Mária</td><td>mária.baráth@mail.hu</td><td>1047 Budapest Posta köz 2.</td><td>1995-11-19</td><td>29</td><td>29</td></tr>",
                            "<tr><td>mark</td><td>Kispál Márk</td><td>márk.kispál@mail.hu</td><td>1086 Budapest Juhászföldi út 1.</td><td>1996-01-23</td><td>28</td><td>28</td></tr>",
                            "<tr><td>MARKH</td><td>Horváth Márk</td><td>márk.horváth@mail.hu</td><td>4400 Nyíregyháza Badacsonyi utca 12.</td><td>1997-09-23</td><td>27</td><td>27</td></tr>",
                            "<tr><td>marton</td><td>Kalacsi Márton</td><td>marton@gmail.com</td><td>5137 Jászkisér Fő út 169.</td><td>1989-06-24</td><td>35</td><td>35</td></tr>",
                            "<tr><td>MATEK</td><td>Koza Máté</td><td>máté.koza@mail.hu</td><td>1011 Budapest Központi telep 3.</td><td>1997-02-28</td><td>27</td><td>27</td></tr>",
                            "<tr><td>matyas2</td><td>Botka Mátyás</td><td>matyas2@gmail.com</td><td>2700 Cegléd Kossuth Lajos utca 6.</td><td>1972-07-07</td><td>52</td><td>52</td></tr>",
                            "<tr><td>MATYASS</td><td>Szilágyi Mátyás</td><td>mátyás.szilágyi@mail.hu</td><td>9023 Győr Kossuth Lajos utca 6.</td><td>1975-03-22</td><td>49</td><td>49</td></tr>",
                            "<tr><td>MIHALYJ</td><td>Juhász Mihály</td><td>mihály.juhász@mail.hu</td><td>6786 Ruzsa Rákóczi utca 1.</td><td>1979-10-12</td><td>45</td><td>45</td></tr>",
                            "<tr><td>miklos2</td><td>Gondos Miklós</td><td>miklos2@gmail.com</td><td>2100 Gödöllő Árpád utca 23.</td><td>1995-10-07</td><td>29</td><td>29</td></tr>",
                            "<tr><td>MIKLOSB</td><td>Balla Miklós</td><td>miklós.balla@mail.hu</td><td>4060 Balmazújváros Szent István utca 2.</td><td>1979-02-16</td><td>45</td><td>45</td></tr>",
                            "<tr><td>MONIKAM</td><td>Mohos Mónika</td><td>mónika.mohos@mail.hu</td><td>2241 Sülysáp Baracsi László utca 14.</td><td>1974-10-01</td><td>50</td><td>50</td></tr>",
                            "<tr><td>NANDORF</td><td>Fő Nándor</td><td>nándor.fő@mail.hu</td><td>5920 Csorvás Bécsi utca 82.</td><td>1968-11-12</td><td>56</td><td>56</td></tr>",
                            "<tr><td>nikolett3</td><td>Horváth Nikolett</td><td>nikolett3@gmail.com</td><td>1072 Budapest Arany János utca 1.</td><td>1981-09-29</td><td>43</td><td>43</td></tr>",
                            "<tr><td>nikoletta4</td><td>Kő Nikoletta</td><td>nikoletta4@gmail.com</td><td>5537 Zsadány Fő út 18.</td><td>1972-01-10</td><td>52</td><td>52</td></tr>",
                            "<tr><td>NIKOLETTAT</td><td>Tatár Nikoletta</td><td>nikoletta.tatár@mail.hu</td><td>1067 Budapest Győri utca 12.</td><td>1997-10-19</td><td>27</td><td>27</td></tr>",
                            "<tr><td>norbert</td><td>Szűcs Norbert</td><td>norbert@gmail.com</td><td>5071 Besenyszög Győri utca 12.</td><td>1969-07-17</td><td>55</td><td>55</td></tr>",
                            "<tr><td>norbert2</td><td>Hegedűs Norbert</td><td>norbert.hegedűs@mail.hu</td><td>2081 Piliscsaba Rendeki utca 21.</td><td>1991-07-17</td><td>33</td><td>33</td></tr>",
                            "<tr><td>norbert4</td><td>Mile Norbert</td><td>norbert4@gmail.com</td><td>3973 Cigánd Bajcsy-Zsilinszky utca 4.</td><td>1983-06-15</td><td>41</td><td>41</td></tr>",
                            "<tr><td>norbert5</td><td>Béres Norbert</td><td>norbert5@gmail.com</td><td>8640 Fonyód Bajcsy-Zsilinszky utca 4.</td><td>1975-07-27</td><td>49</td><td>49</td></tr>",
                            "<tr><td>pal</td><td>Barabás Pál</td><td>pál.barabás@mail.hu</td><td>1183 Budapest Szolnoki út 8.</td><td>1968-02-06</td><td>56</td><td>56</td></tr>",
                            "<tr><td>peter1</td><td>Kozma Péter</td><td>peter1@gmail.com</td><td>6913 Csanádpalota Központi telep 3.</td><td>1976-03-18</td><td>48</td><td>48</td></tr>",
                            "<tr><td>peter2</td><td>Bozsó Péter</td><td>peter2@gmail.com</td><td>4800 Vásárosnamény Zombori út 2/A</td><td>1976-01-26</td><td>48</td><td>48</td></tr>",
                            "<tr><td>peter3</td><td>Szalai Péter</td><td>peter3@gmail.com</td><td>1155 Budapest Arany János utca 3.</td><td>1983-07-18</td><td>41</td><td>41</td></tr>",
                            "<tr><td>peter4</td><td>Bíró Péter</td><td>péter.bíró@mail.hu</td><td>5137 Jászkisér Rákóczi utca 67.</td><td>1985-09-01</td><td>39</td><td>39</td></tr>",
                            "<tr><td>PETERB</td><td>Berendi Péter</td><td>péter.berendi@mail.hu</td><td>3980 Sátoraljaújhely Vasút utca 4/10.</td><td>1969-01-01</td><td>55</td><td>55</td></tr>",
                            "<tr><td>polla</td><td>Palágyi Polla</td><td>polla@gmail.com</td><td>2484 Agárd Fő út 18.</td><td>1994-02-04</td><td>30</td><td>30</td></tr>",
                            "<tr><td>rajmond4</td><td>Rácz Rajmond</td><td>rajmond.rácz@mail.hu</td><td>9155 Lébény Petőfi utca 1/2.</td><td>1993-09-25</td><td>31</td><td>31</td></tr>",
                            "<tr><td>reka4</td><td>Szikszai Réka</td><td>réka.szikszai@mail.hu</td><td>8254 Kővágóörs Templom utca 73.</td><td>1969-11-27</td><td>55</td><td>55</td></tr>",
                            "<tr><td>RENATAK</td><td>Kardos Renáta</td><td>renáta.kardos@mail.hu</td><td>7086 Ozora Bécsi utca 82.</td><td>1988-05-17</td><td>36</td><td>36</td></tr>",
                            "<tr><td>RENATAS</td><td>Szirmai Renáta</td><td>RENATAS@gmail.com</td><td>2053 Herceghalom Kossuth utca 27.</td><td>1991-03-26</td><td>33</td><td>33</td></tr>",
                            "<tr><td>robert2</td><td>Patay Róbert</td><td>robert2@gmail.com</td><td>2370 Dabas Rákóczi utca 21.</td><td>1977-01-08</td><td>47</td><td>47</td></tr>",
                            "<tr><td>ROBERTI</td><td>Iván Róbert</td><td>róbert.iván@mail.hu</td><td>2377 Örkény Petőfi Sándor utca 3.</td><td>1967-07-02</td><td>57</td><td>57</td></tr>",
                            "<tr><td>ROBERTP</td><td>Pásztor Róbert</td><td>ROBERTP@gmail.com</td><td>5137 Jászkisér Ady Endre út 27.</td><td>1972-05-16</td><td>52</td><td>52</td></tr>",
                            "<tr><td>roland</td><td>Tóth Roland</td><td>roland@gmail.com</td><td>2000 Szentendre Fő út 169.</td><td>1968-03-21</td><td>56</td><td>56</td></tr>",
                            "<tr><td>roland1</td><td>Ferencz Roland</td><td>roland.ferencz@mail.hu</td><td>2424 Előszállás Fő út 169.</td><td>1985-12-31</td><td>39</td><td>39</td></tr>",
                            "<tr><td>roza2</td><td>Bucskó Róza</td><td>roza2@gmail.com</td><td>5661 Újkígyós Arany János utca 3.</td><td>1988-12-26</td><td>36</td><td>36</td></tr>",
                            "<tr><td>sandor</td><td>Karasz Sándor</td><td>sandor@gmail.com</td><td>8283 Káptalantóti Kossuth Lajos utca 1/a.</td><td>1970-01-27</td><td>54</td><td>54</td></tr>",
                            "<tr><td>sandor3</td><td>Farkas Sándor</td><td>sándor.farkas@mail.hu</td><td>8640 Fonyód Tanácsköztársaság tér 1.</td><td>1989-01-27</td><td>35</td><td>35</td></tr>",
                            "<tr><td>sandor4</td><td>Nagy Sándor</td><td>sandor4@gmail.com</td><td>4600 Kisvárda Fő utca 47.</td><td>1997-06-11</td><td>27</td><td>27</td></tr>",
                            "<tr><td>sara</td><td>Farkas Sára</td><td>sára.farkas@mail.hu</td><td>5940 Tótkomlós Felszabadulás utca 32.</td><td>1973-04-05</td><td>51</td><td>51</td></tr>",
                            "<tr><td>SEBASTIANF</td><td>Foltényi Sebastián</td><td>SEBASTIANF@gmail.com</td><td>7960 Sellye Grassalkovich út 10.</td><td>1992-09-09</td><td>32</td><td>32</td></tr>",
                            "<tr><td>sebestyen</td><td>Rab Sebestyén</td><td>sebestyen@gmail.com</td><td>7130 Tolna Központi telep 3.</td><td>1992-03-03</td><td>32</td><td>32</td></tr>",
                            "<tr><td>szabolcs</td><td>Bodor Szabolcs</td><td>szabolcs.bodor@mail.hu</td><td>6786 Ruzsa Ady Endre út 27.</td><td>1990-07-16</td><td>34</td><td>34</td></tr>",
                            "<tr><td>SZABOLCSM</td><td>Miklós Szabolcs</td><td>szabolcs.miklós@mail.hu</td><td>1102 Budapest Fő út 169.</td><td>1980-08-11</td><td>44</td><td>44</td></tr>",
                            "<tr><td>SZILARDS</td><td>Szalai Szilárd</td><td>szilárd.szalai@mail.hu</td><td>1077 Budapest Fő út 18.</td><td>1967-09-28</td><td>57</td><td>57</td></tr>",
                            "<tr><td>szilvia1</td><td>Tari Szilvia</td><td>szilvia.tari@mail.hu</td><td>6080 Szabadszállás Bécsi utca 82.</td><td>1971-03-09</td><td>53</td><td>53</td></tr>",
                            "<tr><td>tamara2</td><td>Miklós Tamara</td><td>tamara.miklós@mail.hu</td><td>3910 Tokaj Kossuth út 39.</td><td>1980-08-11</td><td>44</td><td>44</td></tr>",
                            "<tr><td>tamas</td><td>Antal Tamás</td><td>tamás.antal@mail.hu</td><td>4440 Tiszavasvári Posta köz 2.</td><td>1984-09-05</td><td>40</td><td>40</td></tr>",
                            "<tr><td>TAMASF</td><td>Fényes Tamás</td><td>TAMASF@gmail.com</td><td>9023 Győr Arany János utca 1.</td><td>1997-11-06</td><td>27</td><td>27</td></tr>",
                            "<tr><td>tesztelek</td><td>Teszt Elek</td><td>tesztelek@.com</td><td>2360</td><td>2002-09-30</td><td>22</td><td>22</td></tr>",
                            "<tr><td>tibor</td><td>Gombos Tibor</td><td>tibor.gombos@mail.hu</td><td>7100 Szekszárd Kossuth utca 77.</td><td>1993-11-28</td><td>31</td><td>31</td></tr>",
                            "<tr><td>tibor2</td><td>Dániel Tibor</td><td>tibor2@gmail.com</td><td>6646 Tömörkény Árpád utca 23.</td><td>1985-02-02</td><td>39</td><td>39</td></tr>",
                            "<tr><td>tihamer</td><td>Kazy Tihamér</td><td>tihamér.kazy@mail.hu</td><td>2370 Dabas Fő utca 60.</td><td>1991-07-05</td><td>33</td><td>33</td></tr>",
                            "<tr><td>timea</td><td>Papós Tímea</td><td>timea@gmail.com</td><td>1035 Budapest  Kossuth út 77.</td><td>1996-01-08</td><td>28</td><td>28</td></tr>",
                            "<tr><td>timea2</td><td>Dusha Tímea</td><td>tímea.dusha@mail.hu</td><td>5920 Csorvás Kossuth utca 8.</td><td>1975-08-22</td><td>49</td><td>49</td></tr>",
                            "<tr><td>tunde</td><td>Turcsik Tünde</td><td>tunde@gmail.com</td><td>7130 Tolna Fő út 122.</td><td>1974-02-12</td><td>50</td><td>50</td></tr>",
                            "<tr><td>valentin</td><td>Feró Valentin</td><td>valentin.feró@mail.hu</td><td>3895 Gönc Búvár utca 4.</td><td>1986-01-09</td><td>38</td><td>38</td></tr>",
                            "<tr><td>veronika4</td><td>Tankó Veronika</td><td>veronika4@gmail.com</td><td>6412 Balotaszállás Rendeki utca 21.</td><td>1983-08-28</td><td>41</td><td>41</td></tr>",
                            "<tr><td>VIKTORIAU</td><td>Urbán Viktoria</td><td>viktoria.urbán@mail.hu</td><td>3860 Encs Népboltsor  2.</td><td>1996-05-03</td><td>28</td><td>28</td></tr>",
                            "<tr><td>VIKTORK</td><td>Keresztúri Viktor</td><td>viktor.keresztúri@mail.hu</td><td>2532 Tokodaltáró Nagy Lajos tér 4.</td><td>1989-05-05</td><td>35</td><td>35</td></tr>",
                            "<tr><td>vivien3</td><td>Boros Vivien</td><td>vivien3@gmail.com</td><td>2117 Isaszeg Fő út 122.</td><td>1991-07-01</td><td>33</td><td>33</td></tr>",
                            "<tr><td>zoltan</td><td>Fodor Zoltán</td><td>zoltán.fodor@mail.hu</td><td>3441 Mezőkeresztes Fő utca 23.</td><td>1979-11-25</td><td>45</td><td>45</td></tr>",
                            "<tr><td>zoltan4</td><td>Barna Zoltán</td><td>zoltan4@gmail.com</td><td>8313 Balatongyörök Jászai tér 21.</td><td>1986-05-20</td><td>38</td><td>38</td></tr>",
                            "<tr><td>ZOLTANP</td><td>Pintér Zoltán</td><td>zoltán.pintér@mail.hu</td><td>6050 Lajosmizse Fő út 18.</td><td>1977-06-07</td><td>47</td><td>47</td></tr>",
                            "<tr><td>ZOLTANT</td><td>Tóth Zoltán</td><td>zoltán.tóth@mail.hu</td><td>4244 Újfehértó Posta köz 2.</td><td>1985-12-14</td><td>39</td><td>39</td></tr>",
                            "<tr><td>zsofi1</td><td>Molnár Zsófi</td><td>zsofi1@gmail.com</td><td>2730 Albertirsa Árpád utca 23.</td><td>1983-11-17</td><td>41</td><td>41</td></tr>",
                            "<tr><td>zsolt1</td><td>Pulai Zsolt</td><td>zsolt.pulai@mail.hu</td><td>8391 Sármellék Fő utca 60.</td><td>1988-05-27</td><td>36</td><td>36</td></tr>",
                            "<tr><td>ZSOLTJ</td><td>Józsa Zsolt</td><td>ZSOLTJ@gmail.com</td><td>8315 Gyenesdiás Bajcsy-Zsilinszky utca 4.</td><td>1983-09-29</td><td>41</td><td>41</td></tr>",
                            "<tr><td>zsuzsa</td><td>Pusztai Zsuzsanna</td><td>zsuzsanna@gmail.com</td><td>6783 Ásotthalom Badacsonyi utca 12.</td><td>1980-09-17</td><td>44</td><td>44</td></tr>",
                            "<tr><td>zsuzsa3</td><td>Varsányi Zsuzsa</td><td>zsuzsa.varsányi@mail.hu</td><td>8600 Siófok Árpád utca 4.</td><td>1979-03-06</td><td>45</td><td>45</td></tr>",
                            "<tr><td>zsuzsanna</td><td>Barta Zsuzsanna</td><td>zsuzsanna.barta@mail.hu</td><td>4172 Biharnagybajom Dózsa György utca 37.</td><td>1994-10-07</td><td>30</td><td>30</td></tr>",
                            "<tr><td>ZSUZSAV</td><td>Vajda Zsuzsa</td><td>zsuzsa.vajda@mail.hu</td><td>6786 Ruzsa Kossuth utca 77.</td><td>1976-12-11</td><td>48</td><td>48</td></tr>",
                            "</table>"
                        ]
                    }
                }
            ],
            "execution_count": 14
        },
        {
            "cell_type": "code",
            "source": [
                "--Egészítsük ki a megkezdett lekérdezést, amely listázza azon vendégek azonosítóját és nevét, akik már legalább egyszer foglaltak, és MINDEN ESETBEN összesen két fő számára (felnőtt + gyermek szám összege)! \r\n",
                "\r\n",
                " --a. A lista ne tartalmazzon ismétlődő sorokat!\r\n",
                "\r\n",
                "SELECT DISTINCT v.USERNEV, v.nev\r\n",
                "\r\n",
                "FROM Vendeg v JOIN Foglalas f ON v.USERNEV = f.UGYFEL_FK \r\n",
                "\r\n",
                "WHERE NOT EXISTS\r\n",
                "\r\n",
                "( \r\n",
                "\r\n",
                "  SELECT *\r\n",
                "\r\n",
                "  FROM Foglalas f2 \r\n",
                "\r\n",
                "  WHERE f2.UGYFEL_FK=v.USERNEV\r\n",
                " AND \r\n",
                "\r\n",
                "               f2.FELNOTT_SZAM + f2.GYERMEK_SZAM <>2\r\n",
                "\r\n",
                " )"
            ],
            "metadata": {
                "language": "sql",
                "azdata_cell_guid": "27e1f85a-9166-4da1-a231-ed95082c445c"
            },
            "outputs": [
                {
                    "output_type": "display_data",
                    "data": {
                        "text/html": "(11 rows affected)"
                    },
                    "metadata": {}
                },
                {
                    "output_type": "display_data",
                    "data": {
                        "text/html": "Total execution time: 00:00:00.023"
                    },
                    "metadata": {}
                },
                {
                    "output_type": "execute_result",
                    "metadata": {},
                    "execution_count": 15,
                    "data": {
                        "application/vnd.dataresource+json": {
                            "schema": {
                                "fields": [
                                    {
                                        "name": "USERNEV"
                                    },
                                    {
                                        "name": "nev"
                                    }
                                ]
                            },
                            "data": [
                                {
                                    "USERNEV": "MIKLOSB",
                                    "nev": "Balla Miklós"
                                },
                                {
                                    "USERNEV": "sandor",
                                    "nev": "Karasz Sándor"
                                },
                                {
                                    "USERNEV": "andras4",
                                    "nev": "Back András"
                                },
                                {
                                    "USERNEV": "ANDRASN",
                                    "nev": "Nagy András"
                                },
                                {
                                    "USERNEV": "szabolcs",
                                    "nev": "Bodor Szabolcs"
                                },
                                {
                                    "USERNEV": "jozsef",
                                    "nev": "Gergely József"
                                },
                                {
                                    "USERNEV": "kristof4",
                                    "nev": "Poprádi Kristóf"
                                },
                                {
                                    "USERNEV": "tibor2",
                                    "nev": "Dániel Tibor"
                                },
                                {
                                    "USERNEV": "balu",
                                    "nev": "Endresz Bálint"
                                },
                                {
                                    "USERNEV": "timea",
                                    "nev": "Papós Tímea"
                                },
                                {
                                    "USERNEV": "ESZTERE",
                                    "nev": "Érsek Eszter"
                                }
                            ]
                        },
                        "text/html": [
                            "<table>",
                            "<tr><th>USERNEV</th><th>nev</th></tr>",
                            "<tr><td>MIKLOSB</td><td>Balla Miklós</td></tr>",
                            "<tr><td>sandor</td><td>Karasz Sándor</td></tr>",
                            "<tr><td>andras4</td><td>Back András</td></tr>",
                            "<tr><td>ANDRASN</td><td>Nagy András</td></tr>",
                            "<tr><td>szabolcs</td><td>Bodor Szabolcs</td></tr>",
                            "<tr><td>jozsef</td><td>Gergely József</td></tr>",
                            "<tr><td>kristof4</td><td>Poprádi Kristóf</td></tr>",
                            "<tr><td>tibor2</td><td>Dániel Tibor</td></tr>",
                            "<tr><td>balu</td><td>Endresz Bálint</td></tr>",
                            "<tr><td>timea</td><td>Papós Tímea</td></tr>",
                            "<tr><td>ESZTERE</td><td>Érsek Eszter</td></tr>",
                            "</table>"
                        ]
                    }
                }
            ],
            "execution_count": 15
        }
    ]
}