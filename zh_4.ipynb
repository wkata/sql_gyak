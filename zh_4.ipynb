{
    "metadata": {
        "kernelspec": {
            "name": "SQL",
            "display_name": "SQL",
            "language": "sql"
        },
        "language_info": {
            "name": "sql",
            "version": ""
        }
    },
    "nbformat_minor": 2,
    "nbformat": 4,
    "cells": [
        {
            "cell_type": "markdown",
            "source": [
                "Jelenítsük meg minden egyes szoba esetén, hogy hányszor foglalták le!\n",
                "\n",
                "- Csak a szoba azonosítója és a foglalások darabszáma jelenjen meg\n",
                "- Azok a szobák is jelenjenek meg, ahol nem történt foglalás"
            ],
            "metadata": {
                "language": "sql",
                "azdata_cell_guid": "883b84ba-dd1d-42c0-b218-4fce4f74146e"
            },
            "attachments": {}
        },
        {
            "cell_type": "code",
            "source": [
                "SELECT szoba_id, \r\n",
                "       count(*) As 'DB'\r\n",
                "FROM Szoba sz LEFT JOIN Foglalas f on sz.szoba_id=f.szoba_fk\r\n",
                "GROUP BY szoba_id"
            ],
            "metadata": {
                "azdata_cell_guid": "6e055db4-e580-42da-8a00-b6f960dc999e",
                "language": "sql",
                "tags": []
            },
            "outputs": [
                {
                    "output_type": "display_data",
                    "data": {
                        "text/html": "(294 rows affected)"
                    },
                    "metadata": {}
                },
                {
                    "output_type": "display_data",
                    "data": {
                        "text/html": "Total execution time: 00:00:00.042"
                    },
                    "metadata": {}
                },
                {
                    "output_type": "execute_result",
                    "metadata": {},
                    "execution_count": 6,
                    "data": {
                        "application/vnd.dataresource+json": {
                            "schema": {
                                "fields": [
                                    {
                                        "name": "szoba_id"
                                    },
                                    {
                                        "name": "DB"
                                    }
                                ]
                            },
                            "data": [
                                {
                                    "szoba_id": "1",
                                    "DB": "13"
                                },
                                {
                                    "szoba_id": "2",
                                    "DB": "2"
                                },
                                {
                                    "szoba_id": "3",
                                    "DB": "8"
                                },
                                {
                                    "szoba_id": "4",
                                    "DB": "6"
                                },
                                {
                                    "szoba_id": "5",
                                    "DB": "4"
                                },
                                {
                                    "szoba_id": "6",
                                    "DB": "6"
                                },
                                {
                                    "szoba_id": "7",
                                    "DB": "6"
                                },
                                {
                                    "szoba_id": "8",
                                    "DB": "5"
                                },
                                {
                                    "szoba_id": "9",
                                    "DB": "6"
                                },
                                {
                                    "szoba_id": "10",
                                    "DB": "4"
                                },
                                {
                                    "szoba_id": "11",
                                    "DB": "4"
                                },
                                {
                                    "szoba_id": "12",
                                    "DB": "9"
                                },
                                {
                                    "szoba_id": "13",
                                    "DB": "4"
                                },
                                {
                                    "szoba_id": "14",
                                    "DB": "4"
                                },
                                {
                                    "szoba_id": "15",
                                    "DB": "6"
                                },
                                {
                                    "szoba_id": "16",
                                    "DB": "5"
                                },
                                {
                                    "szoba_id": "17",
                                    "DB": "6"
                                },
                                {
                                    "szoba_id": "18",
                                    "DB": "6"
                                },
                                {
                                    "szoba_id": "19",
                                    "DB": "6"
                                },
                                {
                                    "szoba_id": "20",
                                    "DB": "5"
                                },
                                {
                                    "szoba_id": "21",
                                    "DB": "4"
                                },
                                {
                                    "szoba_id": "22",
                                    "DB": "6"
                                },
                                {
                                    "szoba_id": "23",
                                    "DB": "3"
                                },
                                {
                                    "szoba_id": "24",
                                    "DB": "3"
                                },
                                {
                                    "szoba_id": "25",
                                    "DB": "2"
                                },
                                {
                                    "szoba_id": "26",
                                    "DB": "2"
                                },
                                {
                                    "szoba_id": "27",
                                    "DB": "7"
                                },
                                {
                                    "szoba_id": "28",
                                    "DB": "6"
                                },
                                {
                                    "szoba_id": "29",
                                    "DB": "6"
                                },
                                {
                                    "szoba_id": "30",
                                    "DB": "3"
                                },
                                {
                                    "szoba_id": "31",
                                    "DB": "3"
                                },
                                {
                                    "szoba_id": "32",
                                    "DB": "1"
                                },
                                {
                                    "szoba_id": "33",
                                    "DB": "6"
                                },
                                {
                                    "szoba_id": "34",
                                    "DB": "4"
                                },
                                {
                                    "szoba_id": "35",
                                    "DB": "9"
                                },
                                {
                                    "szoba_id": "36",
                                    "DB": "6"
                                },
                                {
                                    "szoba_id": "37",
                                    "DB": "3"
                                },
                                {
                                    "szoba_id": "38",
                                    "DB": "8"
                                },
                                {
                                    "szoba_id": "39",
                                    "DB": "7"
                                },
                                {
                                    "szoba_id": "40",
                                    "DB": "4"
                                },
                                {
                                    "szoba_id": "41",
                                    "DB": "2"
                                },
                                {
                                    "szoba_id": "42",
                                    "DB": "6"
                                },
                                {
                                    "szoba_id": "43",
                                    "DB": "8"
                                },
                                {
                                    "szoba_id": "44",
                                    "DB": "6"
                                },
                                {
                                    "szoba_id": "45",
                                    "DB": "5"
                                },
                                {
                                    "szoba_id": "46",
                                    "DB": "4"
                                },
                                {
                                    "szoba_id": "47",
                                    "DB": "2"
                                },
                                {
                                    "szoba_id": "48",
                                    "DB": "9"
                                },
                                {
                                    "szoba_id": "49",
                                    "DB": "7"
                                },
                                {
                                    "szoba_id": "50",
                                    "DB": "4"
                                },
                                {
                                    "szoba_id": "51",
                                    "DB": "5"
                                },
                                {
                                    "szoba_id": "52",
                                    "DB": "5"
                                },
                                {
                                    "szoba_id": "53",
                                    "DB": "2"
                                },
                                {
                                    "szoba_id": "54",
                                    "DB": "6"
                                },
                                {
                                    "szoba_id": "55",
                                    "DB": "8"
                                },
                                {
                                    "szoba_id": "56",
                                    "DB": "2"
                                },
                                {
                                    "szoba_id": "57",
                                    "DB": "4"
                                },
                                {
                                    "szoba_id": "58",
                                    "DB": "13"
                                },
                                {
                                    "szoba_id": "59",
                                    "DB": "7"
                                },
                                {
                                    "szoba_id": "60",
                                    "DB": "1"
                                },
                                {
                                    "szoba_id": "61",
                                    "DB": "5"
                                },
                                {
                                    "szoba_id": "62",
                                    "DB": "5"
                                },
                                {
                                    "szoba_id": "63",
                                    "DB": "4"
                                },
                                {
                                    "szoba_id": "64",
                                    "DB": "6"
                                },
                                {
                                    "szoba_id": "65",
                                    "DB": "1"
                                },
                                {
                                    "szoba_id": "66",
                                    "DB": "4"
                                },
                                {
                                    "szoba_id": "67",
                                    "DB": "6"
                                },
                                {
                                    "szoba_id": "68",
                                    "DB": "3"
                                },
                                {
                                    "szoba_id": "69",
                                    "DB": "4"
                                },
                                {
                                    "szoba_id": "70",
                                    "DB": "11"
                                },
                                {
                                    "szoba_id": "71",
                                    "DB": "3"
                                },
                                {
                                    "szoba_id": "72",
                                    "DB": "4"
                                },
                                {
                                    "szoba_id": "73",
                                    "DB": "4"
                                },
                                {
                                    "szoba_id": "74",
                                    "DB": "9"
                                },
                                {
                                    "szoba_id": "75",
                                    "DB": "3"
                                },
                                {
                                    "szoba_id": "76",
                                    "DB": "3"
                                },
                                {
                                    "szoba_id": "77",
                                    "DB": "6"
                                },
                                {
                                    "szoba_id": "78",
                                    "DB": "6"
                                },
                                {
                                    "szoba_id": "79",
                                    "DB": "5"
                                },
                                {
                                    "szoba_id": "80",
                                    "DB": "7"
                                },
                                {
                                    "szoba_id": "81",
                                    "DB": "5"
                                },
                                {
                                    "szoba_id": "82",
                                    "DB": "6"
                                },
                                {
                                    "szoba_id": "83",
                                    "DB": "8"
                                },
                                {
                                    "szoba_id": "84",
                                    "DB": "4"
                                },
                                {
                                    "szoba_id": "85",
                                    "DB": "4"
                                },
                                {
                                    "szoba_id": "86",
                                    "DB": "5"
                                },
                                {
                                    "szoba_id": "87",
                                    "DB": "5"
                                },
                                {
                                    "szoba_id": "88",
                                    "DB": "8"
                                },
                                {
                                    "szoba_id": "89",
                                    "DB": "8"
                                },
                                {
                                    "szoba_id": "90",
                                    "DB": "4"
                                },
                                {
                                    "szoba_id": "91",
                                    "DB": "3"
                                },
                                {
                                    "szoba_id": "92",
                                    "DB": "6"
                                },
                                {
                                    "szoba_id": "93",
                                    "DB": "5"
                                },
                                {
                                    "szoba_id": "94",
                                    "DB": "10"
                                },
                                {
                                    "szoba_id": "95",
                                    "DB": "4"
                                },
                                {
                                    "szoba_id": "96",
                                    "DB": "7"
                                },
                                {
                                    "szoba_id": "97",
                                    "DB": "7"
                                },
                                {
                                    "szoba_id": "98",
                                    "DB": "4"
                                },
                                {
                                    "szoba_id": "99",
                                    "DB": "5"
                                },
                                {
                                    "szoba_id": "100",
                                    "DB": "4"
                                },
                                {
                                    "szoba_id": "101",
                                    "DB": "3"
                                },
                                {
                                    "szoba_id": "102",
                                    "DB": "2"
                                },
                                {
                                    "szoba_id": "103",
                                    "DB": "4"
                                },
                                {
                                    "szoba_id": "104",
                                    "DB": "4"
                                },
                                {
                                    "szoba_id": "105",
                                    "DB": "2"
                                },
                                {
                                    "szoba_id": "106",
                                    "DB": "6"
                                },
                                {
                                    "szoba_id": "107",
                                    "DB": "5"
                                },
                                {
                                    "szoba_id": "108",
                                    "DB": "2"
                                },
                                {
                                    "szoba_id": "109",
                                    "DB": "7"
                                },
                                {
                                    "szoba_id": "110",
                                    "DB": "8"
                                },
                                {
                                    "szoba_id": "111",
                                    "DB": "5"
                                },
                                {
                                    "szoba_id": "112",
                                    "DB": "5"
                                },
                                {
                                    "szoba_id": "113",
                                    "DB": "5"
                                },
                                {
                                    "szoba_id": "114",
                                    "DB": "4"
                                },
                                {
                                    "szoba_id": "115",
                                    "DB": "7"
                                },
                                {
                                    "szoba_id": "116",
                                    "DB": "2"
                                },
                                {
                                    "szoba_id": "117",
                                    "DB": "8"
                                },
                                {
                                    "szoba_id": "118",
                                    "DB": "7"
                                },
                                {
                                    "szoba_id": "119",
                                    "DB": "5"
                                },
                                {
                                    "szoba_id": "120",
                                    "DB": "6"
                                },
                                {
                                    "szoba_id": "121",
                                    "DB": "8"
                                },
                                {
                                    "szoba_id": "122",
                                    "DB": "9"
                                },
                                {
                                    "szoba_id": "123",
                                    "DB": "5"
                                },
                                {
                                    "szoba_id": "124",
                                    "DB": "6"
                                },
                                {
                                    "szoba_id": "125",
                                    "DB": "1"
                                },
                                {
                                    "szoba_id": "126",
                                    "DB": "6"
                                },
                                {
                                    "szoba_id": "127",
                                    "DB": "7"
                                },
                                {
                                    "szoba_id": "128",
                                    "DB": "5"
                                },
                                {
                                    "szoba_id": "129",
                                    "DB": "4"
                                },
                                {
                                    "szoba_id": "130",
                                    "DB": "6"
                                },
                                {
                                    "szoba_id": "131",
                                    "DB": "5"
                                },
                                {
                                    "szoba_id": "132",
                                    "DB": "6"
                                },
                                {
                                    "szoba_id": "133",
                                    "DB": "8"
                                },
                                {
                                    "szoba_id": "134",
                                    "DB": "6"
                                },
                                {
                                    "szoba_id": "135",
                                    "DB": "3"
                                },
                                {
                                    "szoba_id": "136",
                                    "DB": "3"
                                },
                                {
                                    "szoba_id": "137",
                                    "DB": "6"
                                },
                                {
                                    "szoba_id": "138",
                                    "DB": "7"
                                },
                                {
                                    "szoba_id": "139",
                                    "DB": "7"
                                },
                                {
                                    "szoba_id": "140",
                                    "DB": "9"
                                },
                                {
                                    "szoba_id": "141",
                                    "DB": "7"
                                },
                                {
                                    "szoba_id": "142",
                                    "DB": "2"
                                },
                                {
                                    "szoba_id": "143",
                                    "DB": "7"
                                },
                                {
                                    "szoba_id": "144",
                                    "DB": "5"
                                },
                                {
                                    "szoba_id": "145",
                                    "DB": "5"
                                },
                                {
                                    "szoba_id": "146",
                                    "DB": "6"
                                },
                                {
                                    "szoba_id": "147",
                                    "DB": "1"
                                },
                                {
                                    "szoba_id": "148",
                                    "DB": "6"
                                },
                                {
                                    "szoba_id": "149",
                                    "DB": "7"
                                },
                                {
                                    "szoba_id": "150",
                                    "DB": "6"
                                },
                                {
                                    "szoba_id": "151",
                                    "DB": "3"
                                },
                                {
                                    "szoba_id": "152",
                                    "DB": "4"
                                },
                                {
                                    "szoba_id": "153",
                                    "DB": "5"
                                },
                                {
                                    "szoba_id": "154",
                                    "DB": "5"
                                },
                                {
                                    "szoba_id": "155",
                                    "DB": "5"
                                },
                                {
                                    "szoba_id": "156",
                                    "DB": "7"
                                },
                                {
                                    "szoba_id": "157",
                                    "DB": "5"
                                },
                                {
                                    "szoba_id": "158",
                                    "DB": "3"
                                },
                                {
                                    "szoba_id": "159",
                                    "DB": "1"
                                },
                                {
                                    "szoba_id": "160",
                                    "DB": "5"
                                },
                                {
                                    "szoba_id": "161",
                                    "DB": "6"
                                },
                                {
                                    "szoba_id": "162",
                                    "DB": "5"
                                },
                                {
                                    "szoba_id": "163",
                                    "DB": "13"
                                },
                                {
                                    "szoba_id": "164",
                                    "DB": "5"
                                },
                                {
                                    "szoba_id": "165",
                                    "DB": "7"
                                },
                                {
                                    "szoba_id": "166",
                                    "DB": "3"
                                },
                                {
                                    "szoba_id": "167",
                                    "DB": "2"
                                },
                                {
                                    "szoba_id": "168",
                                    "DB": "5"
                                },
                                {
                                    "szoba_id": "169",
                                    "DB": "6"
                                },
                                {
                                    "szoba_id": "170",
                                    "DB": "5"
                                },
                                {
                                    "szoba_id": "171",
                                    "DB": "5"
                                },
                                {
                                    "szoba_id": "172",
                                    "DB": "9"
                                },
                                {
                                    "szoba_id": "173",
                                    "DB": "4"
                                },
                                {
                                    "szoba_id": "174",
                                    "DB": "4"
                                },
                                {
                                    "szoba_id": "175",
                                    "DB": "5"
                                },
                                {
                                    "szoba_id": "176",
                                    "DB": "6"
                                },
                                {
                                    "szoba_id": "177",
                                    "DB": "4"
                                },
                                {
                                    "szoba_id": "178",
                                    "DB": "4"
                                },
                                {
                                    "szoba_id": "179",
                                    "DB": "3"
                                },
                                {
                                    "szoba_id": "180",
                                    "DB": "3"
                                },
                                {
                                    "szoba_id": "181",
                                    "DB": "6"
                                },
                                {
                                    "szoba_id": "182",
                                    "DB": "12"
                                },
                                {
                                    "szoba_id": "183",
                                    "DB": "4"
                                },
                                {
                                    "szoba_id": "184",
                                    "DB": "4"
                                },
                                {
                                    "szoba_id": "185",
                                    "DB": "12"
                                },
                                {
                                    "szoba_id": "186",
                                    "DB": "4"
                                },
                                {
                                    "szoba_id": "187",
                                    "DB": "7"
                                },
                                {
                                    "szoba_id": "188",
                                    "DB": "6"
                                },
                                {
                                    "szoba_id": "189",
                                    "DB": "5"
                                },
                                {
                                    "szoba_id": "190",
                                    "DB": "5"
                                },
                                {
                                    "szoba_id": "191",
                                    "DB": "5"
                                },
                                {
                                    "szoba_id": "192",
                                    "DB": "2"
                                },
                                {
                                    "szoba_id": "193",
                                    "DB": "7"
                                },
                                {
                                    "szoba_id": "194",
                                    "DB": "1"
                                },
                                {
                                    "szoba_id": "195",
                                    "DB": "6"
                                },
                                {
                                    "szoba_id": "196",
                                    "DB": "4"
                                },
                                {
                                    "szoba_id": "197",
                                    "DB": "6"
                                },
                                {
                                    "szoba_id": "198",
                                    "DB": "8"
                                },
                                {
                                    "szoba_id": "199",
                                    "DB": "1"
                                },
                                {
                                    "szoba_id": "200",
                                    "DB": "1"
                                },
                                {
                                    "szoba_id": "201",
                                    "DB": "1"
                                },
                                {
                                    "szoba_id": "202",
                                    "DB": "1"
                                },
                                {
                                    "szoba_id": "203",
                                    "DB": "1"
                                },
                                {
                                    "szoba_id": "204",
                                    "DB": "1"
                                },
                                {
                                    "szoba_id": "205",
                                    "DB": "1"
                                },
                                {
                                    "szoba_id": "206",
                                    "DB": "1"
                                },
                                {
                                    "szoba_id": "207",
                                    "DB": "1"
                                },
                                {
                                    "szoba_id": "208",
                                    "DB": "1"
                                },
                                {
                                    "szoba_id": "209",
                                    "DB": "1"
                                },
                                {
                                    "szoba_id": "210",
                                    "DB": "1"
                                },
                                {
                                    "szoba_id": "211",
                                    "DB": "1"
                                },
                                {
                                    "szoba_id": "212",
                                    "DB": "1"
                                },
                                {
                                    "szoba_id": "213",
                                    "DB": "1"
                                },
                                {
                                    "szoba_id": "214",
                                    "DB": "1"
                                },
                                {
                                    "szoba_id": "215",
                                    "DB": "1"
                                },
                                {
                                    "szoba_id": "216",
                                    "DB": "1"
                                },
                                {
                                    "szoba_id": "217",
                                    "DB": "1"
                                },
                                {
                                    "szoba_id": "218",
                                    "DB": "1"
                                },
                                {
                                    "szoba_id": "219",
                                    "DB": "2"
                                },
                                {
                                    "szoba_id": "220",
                                    "DB": "1"
                                },
                                {
                                    "szoba_id": "221",
                                    "DB": "1"
                                },
                                {
                                    "szoba_id": "222",
                                    "DB": "1"
                                },
                                {
                                    "szoba_id": "223",
                                    "DB": "1"
                                },
                                {
                                    "szoba_id": "224",
                                    "DB": "1"
                                },
                                {
                                    "szoba_id": "225",
                                    "DB": "1"
                                },
                                {
                                    "szoba_id": "226",
                                    "DB": "1"
                                },
                                {
                                    "szoba_id": "227",
                                    "DB": "1"
                                },
                                {
                                    "szoba_id": "228",
                                    "DB": "1"
                                },
                                {
                                    "szoba_id": "229",
                                    "DB": "1"
                                },
                                {
                                    "szoba_id": "230",
                                    "DB": "1"
                                },
                                {
                                    "szoba_id": "231",
                                    "DB": "1"
                                },
                                {
                                    "szoba_id": "232",
                                    "DB": "1"
                                },
                                {
                                    "szoba_id": "233",
                                    "DB": "1"
                                },
                                {
                                    "szoba_id": "234",
                                    "DB": "1"
                                },
                                {
                                    "szoba_id": "235",
                                    "DB": "1"
                                },
                                {
                                    "szoba_id": "236",
                                    "DB": "1"
                                },
                                {
                                    "szoba_id": "237",
                                    "DB": "1"
                                },
                                {
                                    "szoba_id": "238",
                                    "DB": "1"
                                },
                                {
                                    "szoba_id": "239",
                                    "DB": "1"
                                },
                                {
                                    "szoba_id": "240",
                                    "DB": "1"
                                },
                                {
                                    "szoba_id": "241",
                                    "DB": "1"
                                },
                                {
                                    "szoba_id": "242",
                                    "DB": "1"
                                },
                                {
                                    "szoba_id": "243",
                                    "DB": "1"
                                },
                                {
                                    "szoba_id": "244",
                                    "DB": "1"
                                },
                                {
                                    "szoba_id": "245",
                                    "DB": "1"
                                },
                                {
                                    "szoba_id": "246",
                                    "DB": "1"
                                },
                                {
                                    "szoba_id": "247",
                                    "DB": "1"
                                },
                                {
                                    "szoba_id": "248",
                                    "DB": "1"
                                },
                                {
                                    "szoba_id": "249",
                                    "DB": "1"
                                },
                                {
                                    "szoba_id": "250",
                                    "DB": "1"
                                },
                                {
                                    "szoba_id": "251",
                                    "DB": "1"
                                },
                                {
                                    "szoba_id": "252",
                                    "DB": "1"
                                },
                                {
                                    "szoba_id": "253",
                                    "DB": "1"
                                },
                                {
                                    "szoba_id": "254",
                                    "DB": "1"
                                },
                                {
                                    "szoba_id": "255",
                                    "DB": "1"
                                },
                                {
                                    "szoba_id": "256",
                                    "DB": "1"
                                },
                                {
                                    "szoba_id": "257",
                                    "DB": "1"
                                },
                                {
                                    "szoba_id": "258",
                                    "DB": "1"
                                },
                                {
                                    "szoba_id": "259",
                                    "DB": "1"
                                },
                                {
                                    "szoba_id": "260",
                                    "DB": "1"
                                },
                                {
                                    "szoba_id": "261",
                                    "DB": "1"
                                },
                                {
                                    "szoba_id": "262",
                                    "DB": "1"
                                },
                                {
                                    "szoba_id": "263",
                                    "DB": "1"
                                },
                                {
                                    "szoba_id": "264",
                                    "DB": "1"
                                },
                                {
                                    "szoba_id": "265",
                                    "DB": "1"
                                },
                                {
                                    "szoba_id": "266",
                                    "DB": "1"
                                },
                                {
                                    "szoba_id": "267",
                                    "DB": "1"
                                },
                                {
                                    "szoba_id": "268",
                                    "DB": "1"
                                },
                                {
                                    "szoba_id": "269",
                                    "DB": "1"
                                },
                                {
                                    "szoba_id": "270",
                                    "DB": "1"
                                },
                                {
                                    "szoba_id": "271",
                                    "DB": "1"
                                },
                                {
                                    "szoba_id": "272",
                                    "DB": "1"
                                },
                                {
                                    "szoba_id": "273",
                                    "DB": "1"
                                },
                                {
                                    "szoba_id": "274",
                                    "DB": "1"
                                },
                                {
                                    "szoba_id": "275",
                                    "DB": "1"
                                },
                                {
                                    "szoba_id": "276",
                                    "DB": "1"
                                },
                                {
                                    "szoba_id": "277",
                                    "DB": "1"
                                },
                                {
                                    "szoba_id": "278",
                                    "DB": "1"
                                },
                                {
                                    "szoba_id": "279",
                                    "DB": "1"
                                },
                                {
                                    "szoba_id": "280",
                                    "DB": "1"
                                },
                                {
                                    "szoba_id": "281",
                                    "DB": "1"
                                },
                                {
                                    "szoba_id": "282",
                                    "DB": "1"
                                },
                                {
                                    "szoba_id": "283",
                                    "DB": "1"
                                },
                                {
                                    "szoba_id": "284",
                                    "DB": "1"
                                },
                                {
                                    "szoba_id": "285",
                                    "DB": "1"
                                },
                                {
                                    "szoba_id": "286",
                                    "DB": "1"
                                },
                                {
                                    "szoba_id": "287",
                                    "DB": "1"
                                },
                                {
                                    "szoba_id": "288",
                                    "DB": "1"
                                },
                                {
                                    "szoba_id": "289",
                                    "DB": "1"
                                },
                                {
                                    "szoba_id": "290",
                                    "DB": "1"
                                },
                                {
                                    "szoba_id": "291",
                                    "DB": "1"
                                },
                                {
                                    "szoba_id": "292",
                                    "DB": "1"
                                },
                                {
                                    "szoba_id": "293",
                                    "DB": "1"
                                },
                                {
                                    "szoba_id": "294",
                                    "DB": "1"
                                }
                            ]
                        },
                        "text/html": [
                            "<table>",
                            "<tr><th>szoba_id</th><th>DB</th></tr>",
                            "<tr><td>1</td><td>13</td></tr>",
                            "<tr><td>2</td><td>2</td></tr>",
                            "<tr><td>3</td><td>8</td></tr>",
                            "<tr><td>4</td><td>6</td></tr>",
                            "<tr><td>5</td><td>4</td></tr>",
                            "<tr><td>6</td><td>6</td></tr>",
                            "<tr><td>7</td><td>6</td></tr>",
                            "<tr><td>8</td><td>5</td></tr>",
                            "<tr><td>9</td><td>6</td></tr>",
                            "<tr><td>10</td><td>4</td></tr>",
                            "<tr><td>11</td><td>4</td></tr>",
                            "<tr><td>12</td><td>9</td></tr>",
                            "<tr><td>13</td><td>4</td></tr>",
                            "<tr><td>14</td><td>4</td></tr>",
                            "<tr><td>15</td><td>6</td></tr>",
                            "<tr><td>16</td><td>5</td></tr>",
                            "<tr><td>17</td><td>6</td></tr>",
                            "<tr><td>18</td><td>6</td></tr>",
                            "<tr><td>19</td><td>6</td></tr>",
                            "<tr><td>20</td><td>5</td></tr>",
                            "<tr><td>21</td><td>4</td></tr>",
                            "<tr><td>22</td><td>6</td></tr>",
                            "<tr><td>23</td><td>3</td></tr>",
                            "<tr><td>24</td><td>3</td></tr>",
                            "<tr><td>25</td><td>2</td></tr>",
                            "<tr><td>26</td><td>2</td></tr>",
                            "<tr><td>27</td><td>7</td></tr>",
                            "<tr><td>28</td><td>6</td></tr>",
                            "<tr><td>29</td><td>6</td></tr>",
                            "<tr><td>30</td><td>3</td></tr>",
                            "<tr><td>31</td><td>3</td></tr>",
                            "<tr><td>32</td><td>1</td></tr>",
                            "<tr><td>33</td><td>6</td></tr>",
                            "<tr><td>34</td><td>4</td></tr>",
                            "<tr><td>35</td><td>9</td></tr>",
                            "<tr><td>36</td><td>6</td></tr>",
                            "<tr><td>37</td><td>3</td></tr>",
                            "<tr><td>38</td><td>8</td></tr>",
                            "<tr><td>39</td><td>7</td></tr>",
                            "<tr><td>40</td><td>4</td></tr>",
                            "<tr><td>41</td><td>2</td></tr>",
                            "<tr><td>42</td><td>6</td></tr>",
                            "<tr><td>43</td><td>8</td></tr>",
                            "<tr><td>44</td><td>6</td></tr>",
                            "<tr><td>45</td><td>5</td></tr>",
                            "<tr><td>46</td><td>4</td></tr>",
                            "<tr><td>47</td><td>2</td></tr>",
                            "<tr><td>48</td><td>9</td></tr>",
                            "<tr><td>49</td><td>7</td></tr>",
                            "<tr><td>50</td><td>4</td></tr>",
                            "<tr><td>51</td><td>5</td></tr>",
                            "<tr><td>52</td><td>5</td></tr>",
                            "<tr><td>53</td><td>2</td></tr>",
                            "<tr><td>54</td><td>6</td></tr>",
                            "<tr><td>55</td><td>8</td></tr>",
                            "<tr><td>56</td><td>2</td></tr>",
                            "<tr><td>57</td><td>4</td></tr>",
                            "<tr><td>58</td><td>13</td></tr>",
                            "<tr><td>59</td><td>7</td></tr>",
                            "<tr><td>60</td><td>1</td></tr>",
                            "<tr><td>61</td><td>5</td></tr>",
                            "<tr><td>62</td><td>5</td></tr>",
                            "<tr><td>63</td><td>4</td></tr>",
                            "<tr><td>64</td><td>6</td></tr>",
                            "<tr><td>65</td><td>1</td></tr>",
                            "<tr><td>66</td><td>4</td></tr>",
                            "<tr><td>67</td><td>6</td></tr>",
                            "<tr><td>68</td><td>3</td></tr>",
                            "<tr><td>69</td><td>4</td></tr>",
                            "<tr><td>70</td><td>11</td></tr>",
                            "<tr><td>71</td><td>3</td></tr>",
                            "<tr><td>72</td><td>4</td></tr>",
                            "<tr><td>73</td><td>4</td></tr>",
                            "<tr><td>74</td><td>9</td></tr>",
                            "<tr><td>75</td><td>3</td></tr>",
                            "<tr><td>76</td><td>3</td></tr>",
                            "<tr><td>77</td><td>6</td></tr>",
                            "<tr><td>78</td><td>6</td></tr>",
                            "<tr><td>79</td><td>5</td></tr>",
                            "<tr><td>80</td><td>7</td></tr>",
                            "<tr><td>81</td><td>5</td></tr>",
                            "<tr><td>82</td><td>6</td></tr>",
                            "<tr><td>83</td><td>8</td></tr>",
                            "<tr><td>84</td><td>4</td></tr>",
                            "<tr><td>85</td><td>4</td></tr>",
                            "<tr><td>86</td><td>5</td></tr>",
                            "<tr><td>87</td><td>5</td></tr>",
                            "<tr><td>88</td><td>8</td></tr>",
                            "<tr><td>89</td><td>8</td></tr>",
                            "<tr><td>90</td><td>4</td></tr>",
                            "<tr><td>91</td><td>3</td></tr>",
                            "<tr><td>92</td><td>6</td></tr>",
                            "<tr><td>93</td><td>5</td></tr>",
                            "<tr><td>94</td><td>10</td></tr>",
                            "<tr><td>95</td><td>4</td></tr>",
                            "<tr><td>96</td><td>7</td></tr>",
                            "<tr><td>97</td><td>7</td></tr>",
                            "<tr><td>98</td><td>4</td></tr>",
                            "<tr><td>99</td><td>5</td></tr>",
                            "<tr><td>100</td><td>4</td></tr>",
                            "<tr><td>101</td><td>3</td></tr>",
                            "<tr><td>102</td><td>2</td></tr>",
                            "<tr><td>103</td><td>4</td></tr>",
                            "<tr><td>104</td><td>4</td></tr>",
                            "<tr><td>105</td><td>2</td></tr>",
                            "<tr><td>106</td><td>6</td></tr>",
                            "<tr><td>107</td><td>5</td></tr>",
                            "<tr><td>108</td><td>2</td></tr>",
                            "<tr><td>109</td><td>7</td></tr>",
                            "<tr><td>110</td><td>8</td></tr>",
                            "<tr><td>111</td><td>5</td></tr>",
                            "<tr><td>112</td><td>5</td></tr>",
                            "<tr><td>113</td><td>5</td></tr>",
                            "<tr><td>114</td><td>4</td></tr>",
                            "<tr><td>115</td><td>7</td></tr>",
                            "<tr><td>116</td><td>2</td></tr>",
                            "<tr><td>117</td><td>8</td></tr>",
                            "<tr><td>118</td><td>7</td></tr>",
                            "<tr><td>119</td><td>5</td></tr>",
                            "<tr><td>120</td><td>6</td></tr>",
                            "<tr><td>121</td><td>8</td></tr>",
                            "<tr><td>122</td><td>9</td></tr>",
                            "<tr><td>123</td><td>5</td></tr>",
                            "<tr><td>124</td><td>6</td></tr>",
                            "<tr><td>125</td><td>1</td></tr>",
                            "<tr><td>126</td><td>6</td></tr>",
                            "<tr><td>127</td><td>7</td></tr>",
                            "<tr><td>128</td><td>5</td></tr>",
                            "<tr><td>129</td><td>4</td></tr>",
                            "<tr><td>130</td><td>6</td></tr>",
                            "<tr><td>131</td><td>5</td></tr>",
                            "<tr><td>132</td><td>6</td></tr>",
                            "<tr><td>133</td><td>8</td></tr>",
                            "<tr><td>134</td><td>6</td></tr>",
                            "<tr><td>135</td><td>3</td></tr>",
                            "<tr><td>136</td><td>3</td></tr>",
                            "<tr><td>137</td><td>6</td></tr>",
                            "<tr><td>138</td><td>7</td></tr>",
                            "<tr><td>139</td><td>7</td></tr>",
                            "<tr><td>140</td><td>9</td></tr>",
                            "<tr><td>141</td><td>7</td></tr>",
                            "<tr><td>142</td><td>2</td></tr>",
                            "<tr><td>143</td><td>7</td></tr>",
                            "<tr><td>144</td><td>5</td></tr>",
                            "<tr><td>145</td><td>5</td></tr>",
                            "<tr><td>146</td><td>6</td></tr>",
                            "<tr><td>147</td><td>1</td></tr>",
                            "<tr><td>148</td><td>6</td></tr>",
                            "<tr><td>149</td><td>7</td></tr>",
                            "<tr><td>150</td><td>6</td></tr>",
                            "<tr><td>151</td><td>3</td></tr>",
                            "<tr><td>152</td><td>4</td></tr>",
                            "<tr><td>153</td><td>5</td></tr>",
                            "<tr><td>154</td><td>5</td></tr>",
                            "<tr><td>155</td><td>5</td></tr>",
                            "<tr><td>156</td><td>7</td></tr>",
                            "<tr><td>157</td><td>5</td></tr>",
                            "<tr><td>158</td><td>3</td></tr>",
                            "<tr><td>159</td><td>1</td></tr>",
                            "<tr><td>160</td><td>5</td></tr>",
                            "<tr><td>161</td><td>6</td></tr>",
                            "<tr><td>162</td><td>5</td></tr>",
                            "<tr><td>163</td><td>13</td></tr>",
                            "<tr><td>164</td><td>5</td></tr>",
                            "<tr><td>165</td><td>7</td></tr>",
                            "<tr><td>166</td><td>3</td></tr>",
                            "<tr><td>167</td><td>2</td></tr>",
                            "<tr><td>168</td><td>5</td></tr>",
                            "<tr><td>169</td><td>6</td></tr>",
                            "<tr><td>170</td><td>5</td></tr>",
                            "<tr><td>171</td><td>5</td></tr>",
                            "<tr><td>172</td><td>9</td></tr>",
                            "<tr><td>173</td><td>4</td></tr>",
                            "<tr><td>174</td><td>4</td></tr>",
                            "<tr><td>175</td><td>5</td></tr>",
                            "<tr><td>176</td><td>6</td></tr>",
                            "<tr><td>177</td><td>4</td></tr>",
                            "<tr><td>178</td><td>4</td></tr>",
                            "<tr><td>179</td><td>3</td></tr>",
                            "<tr><td>180</td><td>3</td></tr>",
                            "<tr><td>181</td><td>6</td></tr>",
                            "<tr><td>182</td><td>12</td></tr>",
                            "<tr><td>183</td><td>4</td></tr>",
                            "<tr><td>184</td><td>4</td></tr>",
                            "<tr><td>185</td><td>12</td></tr>",
                            "<tr><td>186</td><td>4</td></tr>",
                            "<tr><td>187</td><td>7</td></tr>",
                            "<tr><td>188</td><td>6</td></tr>",
                            "<tr><td>189</td><td>5</td></tr>",
                            "<tr><td>190</td><td>5</td></tr>",
                            "<tr><td>191</td><td>5</td></tr>",
                            "<tr><td>192</td><td>2</td></tr>",
                            "<tr><td>193</td><td>7</td></tr>",
                            "<tr><td>194</td><td>1</td></tr>",
                            "<tr><td>195</td><td>6</td></tr>",
                            "<tr><td>196</td><td>4</td></tr>",
                            "<tr><td>197</td><td>6</td></tr>",
                            "<tr><td>198</td><td>8</td></tr>",
                            "<tr><td>199</td><td>1</td></tr>",
                            "<tr><td>200</td><td>1</td></tr>",
                            "<tr><td>201</td><td>1</td></tr>",
                            "<tr><td>202</td><td>1</td></tr>",
                            "<tr><td>203</td><td>1</td></tr>",
                            "<tr><td>204</td><td>1</td></tr>",
                            "<tr><td>205</td><td>1</td></tr>",
                            "<tr><td>206</td><td>1</td></tr>",
                            "<tr><td>207</td><td>1</td></tr>",
                            "<tr><td>208</td><td>1</td></tr>",
                            "<tr><td>209</td><td>1</td></tr>",
                            "<tr><td>210</td><td>1</td></tr>",
                            "<tr><td>211</td><td>1</td></tr>",
                            "<tr><td>212</td><td>1</td></tr>",
                            "<tr><td>213</td><td>1</td></tr>",
                            "<tr><td>214</td><td>1</td></tr>",
                            "<tr><td>215</td><td>1</td></tr>",
                            "<tr><td>216</td><td>1</td></tr>",
                            "<tr><td>217</td><td>1</td></tr>",
                            "<tr><td>218</td><td>1</td></tr>",
                            "<tr><td>219</td><td>2</td></tr>",
                            "<tr><td>220</td><td>1</td></tr>",
                            "<tr><td>221</td><td>1</td></tr>",
                            "<tr><td>222</td><td>1</td></tr>",
                            "<tr><td>223</td><td>1</td></tr>",
                            "<tr><td>224</td><td>1</td></tr>",
                            "<tr><td>225</td><td>1</td></tr>",
                            "<tr><td>226</td><td>1</td></tr>",
                            "<tr><td>227</td><td>1</td></tr>",
                            "<tr><td>228</td><td>1</td></tr>",
                            "<tr><td>229</td><td>1</td></tr>",
                            "<tr><td>230</td><td>1</td></tr>",
                            "<tr><td>231</td><td>1</td></tr>",
                            "<tr><td>232</td><td>1</td></tr>",
                            "<tr><td>233</td><td>1</td></tr>",
                            "<tr><td>234</td><td>1</td></tr>",
                            "<tr><td>235</td><td>1</td></tr>",
                            "<tr><td>236</td><td>1</td></tr>",
                            "<tr><td>237</td><td>1</td></tr>",
                            "<tr><td>238</td><td>1</td></tr>",
                            "<tr><td>239</td><td>1</td></tr>",
                            "<tr><td>240</td><td>1</td></tr>",
                            "<tr><td>241</td><td>1</td></tr>",
                            "<tr><td>242</td><td>1</td></tr>",
                            "<tr><td>243</td><td>1</td></tr>",
                            "<tr><td>244</td><td>1</td></tr>",
                            "<tr><td>245</td><td>1</td></tr>",
                            "<tr><td>246</td><td>1</td></tr>",
                            "<tr><td>247</td><td>1</td></tr>",
                            "<tr><td>248</td><td>1</td></tr>",
                            "<tr><td>249</td><td>1</td></tr>",
                            "<tr><td>250</td><td>1</td></tr>",
                            "<tr><td>251</td><td>1</td></tr>",
                            "<tr><td>252</td><td>1</td></tr>",
                            "<tr><td>253</td><td>1</td></tr>",
                            "<tr><td>254</td><td>1</td></tr>",
                            "<tr><td>255</td><td>1</td></tr>",
                            "<tr><td>256</td><td>1</td></tr>",
                            "<tr><td>257</td><td>1</td></tr>",
                            "<tr><td>258</td><td>1</td></tr>",
                            "<tr><td>259</td><td>1</td></tr>",
                            "<tr><td>260</td><td>1</td></tr>",
                            "<tr><td>261</td><td>1</td></tr>",
                            "<tr><td>262</td><td>1</td></tr>",
                            "<tr><td>263</td><td>1</td></tr>",
                            "<tr><td>264</td><td>1</td></tr>",
                            "<tr><td>265</td><td>1</td></tr>",
                            "<tr><td>266</td><td>1</td></tr>",
                            "<tr><td>267</td><td>1</td></tr>",
                            "<tr><td>268</td><td>1</td></tr>",
                            "<tr><td>269</td><td>1</td></tr>",
                            "<tr><td>270</td><td>1</td></tr>",
                            "<tr><td>271</td><td>1</td></tr>",
                            "<tr><td>272</td><td>1</td></tr>",
                            "<tr><td>273</td><td>1</td></tr>",
                            "<tr><td>274</td><td>1</td></tr>",
                            "<tr><td>275</td><td>1</td></tr>",
                            "<tr><td>276</td><td>1</td></tr>",
                            "<tr><td>277</td><td>1</td></tr>",
                            "<tr><td>278</td><td>1</td></tr>",
                            "<tr><td>279</td><td>1</td></tr>",
                            "<tr><td>280</td><td>1</td></tr>",
                            "<tr><td>281</td><td>1</td></tr>",
                            "<tr><td>282</td><td>1</td></tr>",
                            "<tr><td>283</td><td>1</td></tr>",
                            "<tr><td>284</td><td>1</td></tr>",
                            "<tr><td>285</td><td>1</td></tr>",
                            "<tr><td>286</td><td>1</td></tr>",
                            "<tr><td>287</td><td>1</td></tr>",
                            "<tr><td>288</td><td>1</td></tr>",
                            "<tr><td>289</td><td>1</td></tr>",
                            "<tr><td>290</td><td>1</td></tr>",
                            "<tr><td>291</td><td>1</td></tr>",
                            "<tr><td>292</td><td>1</td></tr>",
                            "<tr><td>293</td><td>1</td></tr>",
                            "<tr><td>294</td><td>1</td></tr>",
                            "</table>"
                        ]
                    }
                }
            ],
            "execution_count": 6
        },
        {
            "cell_type": "markdown",
            "source": [
                "Listázzuk azon vendégek adatait, akik a legtöbb férőhelyes szobát (vagy szobákat) már lefoglalták!\n",
                "\n",
                "- Csak klímás szoba jöhet számításba"
            ],
            "metadata": {
                "azdata_cell_guid": "9315ee3a-9931-40c1-8381-bf90c4175560"
            },
            "attachments": {}
        },
        {
            "cell_type": "code",
            "source": [
                "SELECT *\r\n",
                "FROM Vendeg v join foglalas f on v.USERNEV=f.UGYFEL_FK\r\n",
                "     join szoba on szoba.SZOBA_ID=f.SZOBA_FK\r\n",
                "Where szoba.KLIMAS='i' and ferohely = (\r\n",
                "    SELECT max(ferohely)\r\n",
                "    FROM Szoba\r\n",
                ")"
            ],
            "metadata": {
                "azdata_cell_guid": "bf1bc89f-bd86-4c9e-b159-bd8d6541a852",
                "language": "sql"
            },
            "outputs": [
                {
                    "output_type": "display_data",
                    "data": {
                        "text/html": "(3 rows affected)"
                    },
                    "metadata": {}
                },
                {
                    "output_type": "display_data",
                    "data": {
                        "text/html": "Total execution time: 00:00:00.017"
                    },
                    "metadata": {}
                },
                {
                    "output_type": "execute_result",
                    "metadata": {},
                    "execution_count": 10,
                    "data": {
                        "application/vnd.dataresource+json": {
                            "schema": {
                                "fields": [
                                    {
                                        "name": "USERNEV"
                                    },
                                    {
                                        "name": "NEV"
                                    },
                                    {
                                        "name": "EMAIL"
                                    },
                                    {
                                        "name": "SZAML_CIM"
                                    },
                                    {
                                        "name": "SZUL_DAT"
                                    },
                                    {
                                        "name": "FOGLALAS_PK"
                                    },
                                    {
                                        "name": "UGYFEL_FK"
                                    },
                                    {
                                        "name": "SZOBA_FK"
                                    },
                                    {
                                        "name": "METTOL"
                                    },
                                    {
                                        "name": "MEDDIG"
                                    },
                                    {
                                        "name": "FELNOTT_SZAM"
                                    },
                                    {
                                        "name": "GYERMEK_SZAM"
                                    },
                                    {
                                        "name": "SZOBA_ID"
                                    },
                                    {
                                        "name": "SZOBA_SZAMA"
                                    },
                                    {
                                        "name": "FEROHELY"
                                    },
                                    {
                                        "name": "POTAGY"
                                    },
                                    {
                                        "name": "KLIMAS"
                                    },
                                    {
                                        "name": "SZALLAS_FK"
                                    },
                                    {
                                        "name": "KLIMAS"
                                    }
                                ]
                            },
                            "data": [
                                {
                                    "USERNEV": "JOZSEFG",
                                    "NEV": "Gyuris József",
                                    "EMAIL": "józsef.gyuris@mail.hu",
                                    "SZAML_CIM": "2660 Balassagyarmat Petőfi utca 1/2.",
                                    "SZUL_DAT": "1975-05-26",
                                    "FOGLALAS_PK": "852",
                                    "UGYFEL_FK": "JOZSEFG",
                                    "SZOBA_FK": "24",
                                    "METTOL": "2016-05-23",
                                    "MEDDIG": "2016-05-25",
                                    "FELNOTT_SZAM": "1",
                                    "GYERMEK_SZAM": "0",
                                    "SZOBA_ID": "24",
                                    "SZOBA_SZAMA": "8",
                                    "FEROHELY": "4",
                                    "POTAGY": "1",
                                    "KLIMAS": "i",
                                    "SZALLAS_FK": "3"
                                },
                                {
                                    "USERNEV": "PETERB",
                                    "NEV": "Berendi Péter",
                                    "EMAIL": "péter.berendi@mail.hu",
                                    "SZAML_CIM": "3980 Sátoraljaújhely Vasút utca 4/10.",
                                    "SZUL_DAT": "1969-01-01",
                                    "FOGLALAS_PK": "1167",
                                    "UGYFEL_FK": "PETERB",
                                    "SZOBA_FK": "24",
                                    "METTOL": "2016-10-19",
                                    "MEDDIG": "2016-10-20",
                                    "FELNOTT_SZAM": "3",
                                    "GYERMEK_SZAM": "1",
                                    "SZOBA_ID": "24",
                                    "SZOBA_SZAMA": "8",
                                    "FEROHELY": "4",
                                    "POTAGY": "1",
                                    "KLIMAS": "i",
                                    "SZALLAS_FK": "3"
                                },
                                {
                                    "USERNEV": "tunde",
                                    "NEV": "Turcsik Tünde",
                                    "EMAIL": "tunde@gmail.com",
                                    "SZAML_CIM": "7130 Tolna Fő út 122.",
                                    "SZUL_DAT": "1974-02-12",
                                    "FOGLALAS_PK": "1415",
                                    "UGYFEL_FK": "tunde",
                                    "SZOBA_FK": "24",
                                    "METTOL": "2017-01-03",
                                    "MEDDIG": "2017-01-06",
                                    "FELNOTT_SZAM": "4",
                                    "GYERMEK_SZAM": "1",
                                    "SZOBA_ID": "24",
                                    "SZOBA_SZAMA": "8",
                                    "FEROHELY": "4",
                                    "POTAGY": "1",
                                    "KLIMAS": "i",
                                    "SZALLAS_FK": "3"
                                }
                            ]
                        },
                        "text/html": [
                            "<table>",
                            "<tr><th>USERNEV</th><th>NEV</th><th>EMAIL</th><th>SZAML_CIM</th><th>SZUL_DAT</th><th>FOGLALAS_PK</th><th>UGYFEL_FK</th><th>SZOBA_FK</th><th>METTOL</th><th>MEDDIG</th><th>FELNOTT_SZAM</th><th>GYERMEK_SZAM</th><th>SZOBA_ID</th><th>SZOBA_SZAMA</th><th>FEROHELY</th><th>POTAGY</th><th>KLIMAS</th><th>SZALLAS_FK</th><th>KLIMAS</th></tr>",
                            "<tr><td>JOZSEFG</td><td>Gyuris József</td><td>józsef.gyuris@mail.hu</td><td>2660 Balassagyarmat Petőfi utca 1/2.</td><td>1975-05-26</td><td>852</td><td>JOZSEFG</td><td>24</td><td>2016-05-23</td><td>2016-05-25</td><td>1</td><td>0</td><td>24</td><td>8</td><td>4</td><td>1</td><td>i</td><td>3</td><td>i</td></tr>",
                            "<tr><td>PETERB</td><td>Berendi Péter</td><td>péter.berendi@mail.hu</td><td>3980 Sátoraljaújhely Vasút utca 4/10.</td><td>1969-01-01</td><td>1167</td><td>PETERB</td><td>24</td><td>2016-10-19</td><td>2016-10-20</td><td>3</td><td>1</td><td>24</td><td>8</td><td>4</td><td>1</td><td>i</td><td>3</td><td>i</td></tr>",
                            "<tr><td>tunde</td><td>Turcsik Tünde</td><td>tunde@gmail.com</td><td>7130 Tolna Fő út 122.</td><td>1974-02-12</td><td>1415</td><td>tunde</td><td>24</td><td>2017-01-03</td><td>2017-01-06</td><td>4</td><td>1</td><td>24</td><td>8</td><td>4</td><td>1</td><td>i</td><td>3</td><td>i</td></tr>",
                            "</table>"
                        ]
                    }
                }
            ],
            "execution_count": 10
        },
        {
            "cell_type": "markdown",
            "source": [
                "Jelenítsük meg, hogy az egyes szálláshelyek szobáit esetén a legutolsó 5 foglalás átlagosan hány főre történt!\n",
                "\n",
                "- A számításnál vegyük figyelembe a felnőtteket és a gyermekeket is\n",
                "- A foglalás dátumánál a METTOL mezőt használjuk"
            ],
            "metadata": {
                "language": "sql",
                "azdata_cell_guid": "e46588e5-2024-4177-9d4f-77ab383b6cc9"
            },
            "attachments": {}
        },
        {
            "cell_type": "code",
            "source": [
                "SELECT szoba_id,\r\n",
                "        avg(FELNOTT_SZAM+GYERMEK_SZAM) over(PARTITION by szoba_id order by mettol rows between 5 preceding and CURRENT row )\r\n",
                "FROM Szoba sz join Foglalas f on sz.SZOBA_ID=f.SZOBA_FK\r\n",
                ""
            ],
            "metadata": {
                "language": "sql",
                "azdata_cell_guid": "838f5ad9-7dd6-4ef8-8eba-b19da24529a4",
                "tags": [
                    "hide_input"
                ]
            },
            "outputs": [
                {
                    "output_type": "error",
                    "evalue": "Msg 8120, Level 16, State 1, Line 2\r\nColumn 'Foglalas.METTOL' is invalid in the select list because it is not contained in either an aggregate function or the GROUP BY clause.",
                    "ename": "",
                    "traceback": []
                },
                {
                    "output_type": "display_data",
                    "data": {
                        "text/html": "Total execution time: 00:00:00.002"
                    },
                    "metadata": {}
                }
            ],
            "execution_count": 18
        },
        {
            "cell_type": "markdown",
            "source": [
                "Készítsen lekérdezést, amely megjeleníti, hogy szálláshelyenként, azon belül a pótágyak száma szerint hány főre foglaltak összesen (felnőtt + gyermek)!\n",
                "\n",
                "- Jelenjenek meg a részösszegek és a végösszeg is!"
            ],
            "metadata": {
                "language": "sql",
                "azdata_cell_guid": "88fa7262-59b0-49ee-9acc-ad78839c52ab"
            },
            "attachments": {}
        },
        {
            "cell_type": "code",
            "source": [
                "SELECT iif(grouping_id(SZALLAS_ID)=1,'Végösszeg', cast(SZALLAS_ID as nvarchar(4))) ,\r\n",
                "Case When GROUPING_ID(SZALLAS_ID,POTAGY)=1 THEN 'Részösszeg'\r\n",
                "WHEN GROUPING_ID(SZALLAS_ID,POTAGY)=3 Then 'Végösszeg'\r\n",
                "ELSE cast(POTAGY as nvarchar(2)) \r\n",
                "END,\r\n",
                "sum(FELNOTT_SZAM+GYERMEK_SZAM)\r\n",
                "FROM Szallashely szh join szoba sz on szh.SZALLAS_ID=sz.SZALLAS_FK\r\n",
                "                    join foglalas f on sz.SZOBA_ID=f.SZOBA_FK\r\n",
                "GROUP BY ROLLUP(SZALLAS_ID, POTAGY)"
            ],
            "metadata": {
                "language": "sql",
                "azdata_cell_guid": "81dc313c-d454-4c4e-8f58-c313b0c41804",
                "tags": []
            },
            "outputs": [
                {
                    "output_type": "display_data",
                    "data": {
                        "text/html": "(49 rows affected)"
                    },
                    "metadata": {}
                },
                {
                    "output_type": "display_data",
                    "data": {
                        "text/html": "Total execution time: 00:00:00.017"
                    },
                    "metadata": {}
                },
                {
                    "output_type": "execute_result",
                    "metadata": {},
                    "execution_count": 13,
                    "data": {
                        "application/vnd.dataresource+json": {
                            "schema": {
                                "fields": [
                                    {
                                        "name": "(No column name)"
                                    },
                                    {
                                        "name": "(No column name)"
                                    },
                                    {
                                        "name": "(No column name)"
                                    }
                                ]
                            },
                            "data": [
                                {
                                    "(No column name)": "79"
                                },
                                {
                                    "(No column name)": "91"
                                },
                                {
                                    "(No column name)": "170"
                                },
                                {
                                    "(No column name)": "10"
                                },
                                {
                                    "(No column name)": "31"
                                },
                                {
                                    "(No column name)": "11"
                                },
                                {
                                    "(No column name)": "52"
                                },
                                {
                                    "(No column name)": "18"
                                },
                                {
                                    "(No column name)": "52"
                                },
                                {
                                    "(No column name)": "36"
                                },
                                {
                                    "(No column name)": "106"
                                },
                                {
                                    "(No column name)": "45"
                                },
                                {
                                    "(No column name)": "99"
                                },
                                {
                                    "(No column name)": "40"
                                },
                                {
                                    "(No column name)": "184"
                                },
                                {
                                    "(No column name)": "113"
                                },
                                {
                                    "(No column name)": "14"
                                },
                                {
                                    "(No column name)": "127"
                                },
                                {
                                    "(No column name)": "168"
                                },
                                {
                                    "(No column name)": "224"
                                },
                                {
                                    "(No column name)": "28"
                                },
                                {
                                    "(No column name)": "420"
                                },
                                {
                                    "(No column name)": "64"
                                },
                                {
                                    "(No column name)": "19"
                                },
                                {
                                    "(No column name)": "83"
                                },
                                {
                                    "(No column name)": "181"
                                },
                                {
                                    "(No column name)": "258"
                                },
                                {
                                    "(No column name)": "63"
                                },
                                {
                                    "(No column name)": "502"
                                },
                                {
                                    "(No column name)": "70"
                                },
                                {
                                    "(No column name)": "70"
                                },
                                {
                                    "(No column name)": "106"
                                },
                                {
                                    "(No column name)": "152"
                                },
                                {
                                    "(No column name)": "33"
                                },
                                {
                                    "(No column name)": "291"
                                },
                                {
                                    "(No column name)": "47"
                                },
                                {
                                    "(No column name)": "17"
                                },
                                {
                                    "(No column name)": "15"
                                },
                                {
                                    "(No column name)": "79"
                                },
                                {
                                    "(No column name)": "216"
                                },
                                {
                                    "(No column name)": "93"
                                },
                                {
                                    "(No column name)": "119"
                                },
                                {
                                    "(No column name)": "428"
                                },
                                {
                                    "(No column name)": "4"
                                },
                                {
                                    "(No column name)": "4"
                                },
                                {
                                    "(No column name)": "2"
                                },
                                {
                                    "(No column name)": "1"
                                },
                                {
                                    "(No column name)": "3"
                                },
                                {
                                    "(No column name)": "2519"
                                }
                            ]
                        },
                        "text/html": [
                            "<table>",
                            "<tr><th>(No column name)</th><th>(No column name)</th><th>(No column name)</th></tr>",
                            "<tr><td>1</td><td>0</td><td>79</td></tr>",
                            "<tr><td>1</td><td>1</td><td>91</td></tr>",
                            "<tr><td>1</td><td>Részösszeg</td><td>170</td></tr>",
                            "<tr><td>2</td><td>0</td><td>10</td></tr>",
                            "<tr><td>2</td><td>1</td><td>31</td></tr>",
                            "<tr><td>2</td><td>2</td><td>11</td></tr>",
                            "<tr><td>2</td><td>Részösszeg</td><td>52</td></tr>",
                            "<tr><td>3</td><td>0</td><td>18</td></tr>",
                            "<tr><td>3</td><td>1</td><td>52</td></tr>",
                            "<tr><td>3</td><td>2</td><td>36</td></tr>",
                            "<tr><td>3</td><td>Részösszeg</td><td>106</td></tr>",
                            "<tr><td>4</td><td>0</td><td>45</td></tr>",
                            "<tr><td>4</td><td>1</td><td>99</td></tr>",
                            "<tr><td>4</td><td>2</td><td>40</td></tr>",
                            "<tr><td>4</td><td>Részösszeg</td><td>184</td></tr>",
                            "<tr><td>5</td><td>0</td><td>113</td></tr>",
                            "<tr><td>5</td><td>1</td><td>14</td></tr>",
                            "<tr><td>5</td><td>Részösszeg</td><td>127</td></tr>",
                            "<tr><td>6</td><td>0</td><td>168</td></tr>",
                            "<tr><td>6</td><td>1</td><td>224</td></tr>",
                            "<tr><td>6</td><td>2</td><td>28</td></tr>",
                            "<tr><td>6</td><td>Részösszeg</td><td>420</td></tr>",
                            "<tr><td>7</td><td>0</td><td>64</td></tr>",
                            "<tr><td>7</td><td>1</td><td>19</td></tr>",
                            "<tr><td>7</td><td>Részösszeg</td><td>83</td></tr>",
                            "<tr><td>8</td><td>0</td><td>181</td></tr>",
                            "<tr><td>8</td><td>1</td><td>258</td></tr>",
                            "<tr><td>8</td><td>2</td><td>63</td></tr>",
                            "<tr><td>8</td><td>Részösszeg</td><td>502</td></tr>",
                            "<tr><td>9</td><td>0</td><td>70</td></tr>",
                            "<tr><td>9</td><td>Részösszeg</td><td>70</td></tr>",
                            "<tr><td>10</td><td>0</td><td>106</td></tr>",
                            "<tr><td>10</td><td>1</td><td>152</td></tr>",
                            "<tr><td>10</td><td>2</td><td>33</td></tr>",
                            "<tr><td>10</td><td>Részösszeg</td><td>291</td></tr>",
                            "<tr><td>11</td><td>0</td><td>47</td></tr>",
                            "<tr><td>11</td><td>1</td><td>17</td></tr>",
                            "<tr><td>11</td><td>2</td><td>15</td></tr>",
                            "<tr><td>11</td><td>Részösszeg</td><td>79</td></tr>",
                            "<tr><td>12</td><td>0</td><td>216</td></tr>",
                            "<tr><td>12</td><td>1</td><td>93</td></tr>",
                            "<tr><td>12</td><td>2</td><td>119</td></tr>",
                            "<tr><td>12</td><td>Részösszeg</td><td>428</td></tr>",
                            "<tr><td>13</td><td>0</td><td>4</td></tr>",
                            "<tr><td>13</td><td>Részösszeg</td><td>4</td></tr>",
                            "<tr><td>15</td><td>1</td><td>2</td></tr>",
                            "<tr><td>15</td><td>2</td><td>1</td></tr>",
                            "<tr><td>15</td><td>Részösszeg</td><td>3</td></tr>",
                            "<tr><td>Végösszeg</td><td>Végösszeg</td><td>2519</td></tr>",
                            "</table>"
                        ]
                    }
                }
            ],
            "execution_count": 13
        },
        {
            "cell_type": "markdown",
            "source": [
                "A Szoba tábla Ferohely oszlopára végezzük el a következő számításokat:\n",
                "\n",
                "- Különböző értékek száma\n",
                "- Minimum, maximum, átlag\n",
                "- Null és Not null értékek százalékos aránya"
            ],
            "metadata": {
                "language": "sql",
                "azdata_cell_guid": "5f744739-cc4f-41a3-85ce-241adbfc2251"
            },
            "attachments": {}
        },
        {
            "cell_type": "code",
            "source": [
                "SELECT count(Distinct FEROHELY) As 'különböző értékek száma',\r\n",
                "       min(FEROHELY) As 'Minimum',\r\n",
                "       max(FEROHELY) As 'Maximum',\r\n",
                "       avg(FEROHELY) As 'Átlagos'\r\n",
                "FROM Szoba"
            ],
            "metadata": {
                "language": "sql",
                "azdata_cell_guid": "aa032f89-a96b-49a6-9cb4-8a7da274947e"
            },
            "outputs": [
                {
                    "output_type": "error",
                    "evalue": "Msg 8117, Level 16, State 1, Line 5\r\nOperand data type NULL is invalid for count operator.",
                    "ename": "",
                    "traceback": []
                },
                {
                    "output_type": "display_data",
                    "data": {
                        "text/html": "Total execution time: 00:00:00.002"
                    },
                    "metadata": {}
                }
            ],
            "execution_count": 16
        },
        {
            "cell_type": "markdown",
            "source": [
                "Valósítsa meg REDIS-ben a következő táblákat:\n",
                "\n",
                "- <span style=\"box-sizing: border-box; font-size: 0.9375rem;\">IRO(ID, nev, nemzetiseg)</span>\n",
                "- KONYV(ID, cim, mufaj, IRO\\_ID)\n",
                "\n",
                "Vigyen fel táblánként legalább 2-2 sornyi adatot!"
            ],
            "metadata": {
                "language": "sql",
                "azdata_cell_guid": "8fd52621-ba06-4e89-8113-886bee47d404"
            },
            "attachments": {}
        },
        {
            "cell_type": "code",
            "source": [
                "hset irok:1 nev \"Kiss Béla\" nemzetiseg magyar\r\n",
                "hset irok:2 nev \"Nagy Otto\" nemzetiseg spanyol\r\n",
                "hset konyv:1:1 cim \"Varjú\" mufaj misztikus\r\n",
                "hset konyv:2:1 cim \"Sátán\" mufaj horror"
            ],
            "metadata": {
                "language": "sql",
                "azdata_cell_guid": "5d0f8f21-2530-4cd8-b187-15e6853b983d"
            },
            "outputs": [],
            "execution_count": null
        },
        {
            "cell_type": "markdown",
            "source": [
                "Cassandra CQL Shellben hozza létre a következő táblát:\n",
                "\n",
                "STUDENT(ID, Nev, Teljesitett\\_felevek, Eredmenyek, Nyelvtudas)\n",
                "\n",
                "- Az ID legyen az elsődleges kulcs\n",
                "- A Teljesitett félévek legyen LIST, tartalma egész számok, pl: 1, 2, 3\n",
                "- Az Eredmenyek legyen MAP, tartalma, hogy melyik félévben mennyi volt az átlag, pl: 1: 3,00, 2: 4.55, 3: 4,10\n",
                "- A Nyelvtudas legyen SET, tartalma a nyelvek megnevezése\n",
                "\n",
                "Vigyen fel legalább 2 rekordot!"
            ],
            "metadata": {
                "language": "sql",
                "azdata_cell_guid": "18c41cee-2a5e-484a-a5a5-98ab40fbb230"
            },
            "attachments": {}
        },
        {
            "cell_type": "code",
            "source": [
                ""
            ],
            "metadata": {
                "language": "sql",
                "azdata_cell_guid": "858825cb-ee22-43bd-894d-3d179e1d7cbe"
            },
            "outputs": [],
            "execution_count": null
        },
        {
            "cell_type": "markdown",
            "source": [
                "A Neo4j Sandbox-ban vagy a Desktopban jelenítsük meg azon személyeket, akik egy filmben szerepeltek Tom Hanks-sel.\n",
                "\n",
                "- Egy szereplő neve csak egyszer jelenjen meg\n",
                "- Tom Hanks ne legyen benne a listában"
            ],
            "metadata": {
                "language": "sql",
                "azdata_cell_guid": "09015456-8f01-464b-8b03-1d951ba8fcee"
            },
            "attachments": {}
        },
        {
            "cell_type": "code",
            "source": [
                "match(p:Person)-[:ACTED_IN]->(m:Movie)<-[:ACTED_IN]-(p2:Person)\r\n",
                "where p2.name='Tom Hanks' and p.name<>'Tom Hanks'\r\n",
                "return distinct p.name"
            ],
            "metadata": {
                "language": "sql",
                "azdata_cell_guid": "fb0af6f2-0a46-4c51-8804-c7226044100a"
            },
            "outputs": [],
            "execution_count": null
        }
    ]
}