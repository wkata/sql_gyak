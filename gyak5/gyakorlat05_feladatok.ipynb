{
    "metadata": {
        "kernelspec": {
            "name": "SQL",
            "display_name": "SQL",
            "language": "sql"
        },
        "language_info": {
            "name": "sql",
            "version": ""
        }
    },
    "nbformat_minor": 2,
    "nbformat": 4,
    "cells": [
        {
            "cell_type": "markdown",
            "source": [
                "1. <span style=\"color: rgb(36, 41, 47); font-family: -apple-system, BlinkMacSystemFont, &quot;Segoe UI&quot;, Helvetica, Arial, sans-serif, &quot;Apple Color Emoji&quot;, &quot;Segoe UI Emoji&quot;; font-size: 16px;\">Készítsünk listát éves bontásban norbert2 azonosítójú ügyfél rendeléseinek értékéről!</span>\n",
                "\n",
                "1. A lista megfelelően jelölve tartalmazza a végösszeget is!"
            ],
            "metadata": {
                "azdata_cell_guid": "363cd270-6577-449b-9c89-d4b7c7972d52"
            },
            "attachments": {}
        },
        {
            "cell_type": "code",
            "source": [
                "SELECT IIF(Grouping_id(YEAR(r.rend_datum))=1,'Összesen', CAST(YEAR(r.rend_datum) as nvarchar(4))),\r\n",
                "       SUM(rt.egysegar*rt.mennyiseg)\r\n",
                "       \r\n",
                "FROM RENDELES r JOIN Rendeles_tetel rt ON r.sorszam= rt.sorszam\r\n",
                "WHERE r.LOGIN='norbert2'\r\n",
                "GROUP BY Rollup (YEAR(r.rend_datum))\r\n",
                ""
            ],
            "metadata": {
                "azdata_cell_guid": "6ab9f633-a3b5-48c9-a1dc-4fb8235ae85b",
                "language": "sql"
            },
            "outputs": [
                {
                    "output_type": "display_data",
                    "data": {
                        "text/html": "(3 rows affected)"
                    },
                    "metadata": {}
                },
                {
                    "output_type": "display_data",
                    "data": {
                        "text/html": "Total execution time: 00:00:00.031"
                    },
                    "metadata": {}
                },
                {
                    "output_type": "execute_result",
                    "metadata": {},
                    "execution_count": 8,
                    "data": {
                        "application/vnd.dataresource+json": {
                            "schema": {
                                "fields": [
                                    {
                                        "name": "(No column name)"
                                    },
                                    {
                                        "name": "(No column name)"
                                    }
                                ]
                            },
                            "data": [
                                {
                                    "(No column name)": "483473"
                                },
                                {
                                    "(No column name)": "614340"
                                },
                                {
                                    "(No column name)": "1097813"
                                }
                            ]
                        },
                        "text/html": [
                            "<table>",
                            "<tr><th>(No column name)</th><th>(No column name)</th></tr>",
                            "<tr><td>2015</td><td>483473</td></tr>",
                            "<tr><td>2017</td><td>614340</td></tr>",
                            "<tr><td>Összesen</td><td>1097813</td></tr>",
                            "</table>"
                        ]
                    }
                }
            ],
            "execution_count": 8
        },
        {
            "cell_type": "markdown",
            "source": [
                "2. <span style=\"color: rgb(36, 41, 47); font-family: -apple-system, BlinkMacSystemFont, &quot;Segoe UI&quot;, Helvetica, Arial, sans-serif, &quot;Apple Color Emoji&quot;, &quot;Segoe UI Emoji&quot;; font-size: 16px;\">Készítsünk listát szállítási dátumonként, azon belül szállítási módonként az egyes rendelések összmennyiségéről!</span>\n",
                "\n",
                "1. Csak azokat a termékeket vegyük figyelembe, amelyek mennyiségi egysége db!\n",
                "2. A listát szűrjük úgy, hogy az csak a részösszeg sorokat és a végösszeget tartalmazza!"
            ],
            "metadata": {
                "azdata_cell_guid": "ea75c103-911f-41a3-a32c-3d40fb3e4e4a"
            },
            "attachments": {}
        },
        {
            "cell_type": "code",
            "source": [
                "SELECT szall_datum,\r\n",
                "       szall_mod,\r\n",
                "       Sum(mennyiseg)\r\n",
                "From Rendeles r join rendeles_tetel rt ON r.sorszam=rt.SORSZAM\r\n",
                "                join Termek t ON t.TERMEKKOD=rt.TERMEKKOD\r\n",
                "WHERE t.MEGYS='db'\r\n",
                "group BY Rollup (szall_datum, SZALL_MOD)\r\n",
                "HAVING GROUPING_ID(szall_datum, SZALL_MOD)<>0"
            ],
            "metadata": {
                "azdata_cell_guid": "222b9618-a8e8-42b4-a8e8-d002257122b7",
                "language": "sql"
            },
            "outputs": [
                {
                    "output_type": "display_data",
                    "data": {
                        "text/html": "(711 rows affected)"
                    },
                    "metadata": {}
                },
                {
                    "output_type": "display_data",
                    "data": {
                        "text/html": "Total execution time: 00:00:00.208"
                    },
                    "metadata": {}
                },
                {
                    "output_type": "execute_result",
                    "metadata": {},
                    "execution_count": 15,
                    "data": {
                        "application/vnd.dataresource+json": {
                            "schema": {
                                "fields": [
                                    {
                                        "name": "szall_datum"
                                    },
                                    {
                                        "name": "szall_mod"
                                    },
                                    {
                                        "name": "(No column name)"
                                    }
                                ]
                            },
                            "data": [
                                {
                                    "szall_datum": "2015-05-03",
                                    "szall_mod": "NULL",
                                    "(No column name)": "100"
                                },
                                {
                                    "szall_datum": "2015-05-04",
                                    "szall_mod": "NULL",
                                    "(No column name)": "996"
                                },
                                {
                                    "szall_datum": "2015-05-05",
                                    "szall_mod": "NULL",
                                    "(No column name)": "3152"
                                },
                                {
                                    "szall_datum": "2015-05-06",
                                    "szall_mod": "NULL",
                                    "(No column name)": "5030"
                                },
                                {
                                    "szall_datum": "2015-05-07",
                                    "szall_mod": "NULL",
                                    "(No column name)": "3828"
                                },
                                {
                                    "szall_datum": "2015-05-08",
                                    "szall_mod": "NULL",
                                    "(No column name)": "3213"
                                },
                                {
                                    "szall_datum": "2015-05-09",
                                    "szall_mod": "NULL",
                                    "(No column name)": "6665"
                                },
                                {
                                    "szall_datum": "2015-05-10",
                                    "szall_mod": "NULL",
                                    "(No column name)": "6909"
                                },
                                {
                                    "szall_datum": "2015-05-11",
                                    "szall_mod": "NULL",
                                    "(No column name)": "6224"
                                },
                                {
                                    "szall_datum": "2015-05-12",
                                    "szall_mod": "NULL",
                                    "(No column name)": "7568"
                                },
                                {
                                    "szall_datum": "2015-05-13",
                                    "szall_mod": "NULL",
                                    "(No column name)": "7985"
                                },
                                {
                                    "szall_datum": "2015-05-14",
                                    "szall_mod": "NULL",
                                    "(No column name)": "9706"
                                },
                                {
                                    "szall_datum": "2015-05-15",
                                    "szall_mod": "NULL",
                                    "(No column name)": "7400"
                                },
                                {
                                    "szall_datum": "2015-05-16",
                                    "szall_mod": "NULL",
                                    "(No column name)": "7897"
                                },
                                {
                                    "szall_datum": "2015-05-17",
                                    "szall_mod": "NULL",
                                    "(No column name)": "4572"
                                },
                                {
                                    "szall_datum": "2015-05-18",
                                    "szall_mod": "NULL",
                                    "(No column name)": "8190"
                                },
                                {
                                    "szall_datum": "2015-05-19",
                                    "szall_mod": "NULL",
                                    "(No column name)": "7248"
                                },
                                {
                                    "szall_datum": "2015-05-20",
                                    "szall_mod": "NULL",
                                    "(No column name)": "9859"
                                },
                                {
                                    "szall_datum": "2015-05-21",
                                    "szall_mod": "NULL",
                                    "(No column name)": "8041"
                                },
                                {
                                    "szall_datum": "2015-05-22",
                                    "szall_mod": "NULL",
                                    "(No column name)": "8338"
                                },
                                {
                                    "szall_datum": "2015-05-23",
                                    "szall_mod": "NULL",
                                    "(No column name)": "5616"
                                },
                                {
                                    "szall_datum": "2015-05-24",
                                    "szall_mod": "NULL",
                                    "(No column name)": "5001"
                                },
                                {
                                    "szall_datum": "2015-05-25",
                                    "szall_mod": "NULL",
                                    "(No column name)": "7611"
                                },
                                {
                                    "szall_datum": "2015-05-26",
                                    "szall_mod": "NULL",
                                    "(No column name)": "7153"
                                },
                                {
                                    "szall_datum": "2015-05-27",
                                    "szall_mod": "NULL",
                                    "(No column name)": "8300"
                                },
                                {
                                    "szall_datum": "2015-05-28",
                                    "szall_mod": "NULL",
                                    "(No column name)": "9340"
                                },
                                {
                                    "szall_datum": "2015-05-29",
                                    "szall_mod": "NULL",
                                    "(No column name)": "10784"
                                },
                                {
                                    "szall_datum": "2015-05-30",
                                    "szall_mod": "NULL",
                                    "(No column name)": "7763"
                                },
                                {
                                    "szall_datum": "2015-05-31",
                                    "szall_mod": "NULL",
                                    "(No column name)": "4364"
                                },
                                {
                                    "szall_datum": "2015-06-01",
                                    "szall_mod": "NULL",
                                    "(No column name)": "6947"
                                },
                                {
                                    "szall_datum": "2015-06-02",
                                    "szall_mod": "NULL",
                                    "(No column name)": "6241"
                                },
                                {
                                    "szall_datum": "2015-06-03",
                                    "szall_mod": "NULL",
                                    "(No column name)": "9359"
                                },
                                {
                                    "szall_datum": "2015-06-04",
                                    "szall_mod": "NULL",
                                    "(No column name)": "8474"
                                },
                                {
                                    "szall_datum": "2015-06-05",
                                    "szall_mod": "NULL",
                                    "(No column name)": "8961"
                                },
                                {
                                    "szall_datum": "2015-06-06",
                                    "szall_mod": "NULL",
                                    "(No column name)": "9510"
                                },
                                {
                                    "szall_datum": "2015-06-07",
                                    "szall_mod": "NULL",
                                    "(No column name)": "7956"
                                },
                                {
                                    "szall_datum": "2015-06-08",
                                    "szall_mod": "NULL",
                                    "(No column name)": "4277"
                                },
                                {
                                    "szall_datum": "2015-06-09",
                                    "szall_mod": "NULL",
                                    "(No column name)": "7132"
                                },
                                {
                                    "szall_datum": "2015-06-10",
                                    "szall_mod": "NULL",
                                    "(No column name)": "9346"
                                },
                                {
                                    "szall_datum": "2015-06-11",
                                    "szall_mod": "NULL",
                                    "(No column name)": "5191"
                                },
                                {
                                    "szall_datum": "2015-06-12",
                                    "szall_mod": "NULL",
                                    "(No column name)": "7336"
                                },
                                {
                                    "szall_datum": "2015-06-13",
                                    "szall_mod": "NULL",
                                    "(No column name)": "7818"
                                },
                                {
                                    "szall_datum": "2015-06-14",
                                    "szall_mod": "NULL",
                                    "(No column name)": "6484"
                                },
                                {
                                    "szall_datum": "2015-06-15",
                                    "szall_mod": "NULL",
                                    "(No column name)": "7796"
                                },
                                {
                                    "szall_datum": "2015-06-16",
                                    "szall_mod": "NULL",
                                    "(No column name)": "4307"
                                },
                                {
                                    "szall_datum": "2015-06-17",
                                    "szall_mod": "NULL",
                                    "(No column name)": "8645"
                                },
                                {
                                    "szall_datum": "2015-06-18",
                                    "szall_mod": "NULL",
                                    "(No column name)": "10077"
                                },
                                {
                                    "szall_datum": "2015-06-19",
                                    "szall_mod": "NULL",
                                    "(No column name)": "5675"
                                },
                                {
                                    "szall_datum": "2015-06-20",
                                    "szall_mod": "NULL",
                                    "(No column name)": "7859"
                                },
                                {
                                    "szall_datum": "2015-06-21",
                                    "szall_mod": "NULL",
                                    "(No column name)": "6627"
                                },
                                {
                                    "szall_datum": "2015-06-22",
                                    "szall_mod": "NULL",
                                    "(No column name)": "9084"
                                },
                                {
                                    "szall_datum": "2015-06-23",
                                    "szall_mod": "NULL",
                                    "(No column name)": "8869"
                                },
                                {
                                    "szall_datum": "2015-06-24",
                                    "szall_mod": "NULL",
                                    "(No column name)": "4993"
                                },
                                {
                                    "szall_datum": "2015-06-25",
                                    "szall_mod": "NULL",
                                    "(No column name)": "8165"
                                },
                                {
                                    "szall_datum": "2015-06-26",
                                    "szall_mod": "NULL",
                                    "(No column name)": "10834"
                                },
                                {
                                    "szall_datum": "2015-06-27",
                                    "szall_mod": "NULL",
                                    "(No column name)": "6396"
                                },
                                {
                                    "szall_datum": "2015-06-28",
                                    "szall_mod": "NULL",
                                    "(No column name)": "6803"
                                },
                                {
                                    "szall_datum": "2015-06-29",
                                    "szall_mod": "NULL",
                                    "(No column name)": "7435"
                                },
                                {
                                    "szall_datum": "2015-06-30",
                                    "szall_mod": "NULL",
                                    "(No column name)": "8526"
                                },
                                {
                                    "szall_datum": "2015-07-01",
                                    "szall_mod": "NULL",
                                    "(No column name)": "6032"
                                },
                                {
                                    "szall_datum": "2015-07-02",
                                    "szall_mod": "NULL",
                                    "(No column name)": "7066"
                                },
                                {
                                    "szall_datum": "2015-07-03",
                                    "szall_mod": "NULL",
                                    "(No column name)": "6359"
                                },
                                {
                                    "szall_datum": "2015-07-04",
                                    "szall_mod": "NULL",
                                    "(No column name)": "8739"
                                },
                                {
                                    "szall_datum": "2015-07-05",
                                    "szall_mod": "NULL",
                                    "(No column name)": "8558"
                                },
                                {
                                    "szall_datum": "2015-07-06",
                                    "szall_mod": "NULL",
                                    "(No column name)": "8389"
                                },
                                {
                                    "szall_datum": "2015-07-07",
                                    "szall_mod": "NULL",
                                    "(No column name)": "9522"
                                },
                                {
                                    "szall_datum": "2015-07-08",
                                    "szall_mod": "NULL",
                                    "(No column name)": "6395"
                                },
                                {
                                    "szall_datum": "2015-07-09",
                                    "szall_mod": "NULL",
                                    "(No column name)": "7375"
                                },
                                {
                                    "szall_datum": "2015-07-10",
                                    "szall_mod": "NULL",
                                    "(No column name)": "7676"
                                },
                                {
                                    "szall_datum": "2015-07-11",
                                    "szall_mod": "NULL",
                                    "(No column name)": "7366"
                                },
                                {
                                    "szall_datum": "2015-07-12",
                                    "szall_mod": "NULL",
                                    "(No column name)": "8638"
                                },
                                {
                                    "szall_datum": "2015-07-13",
                                    "szall_mod": "NULL",
                                    "(No column name)": "8300"
                                },
                                {
                                    "szall_datum": "2015-07-14",
                                    "szall_mod": "NULL",
                                    "(No column name)": "6340"
                                },
                                {
                                    "szall_datum": "2015-07-15",
                                    "szall_mod": "NULL",
                                    "(No column name)": "8615"
                                },
                                {
                                    "szall_datum": "2015-07-16",
                                    "szall_mod": "NULL",
                                    "(No column name)": "7041"
                                },
                                {
                                    "szall_datum": "2015-07-17",
                                    "szall_mod": "NULL",
                                    "(No column name)": "7327"
                                },
                                {
                                    "szall_datum": "2015-07-18",
                                    "szall_mod": "NULL",
                                    "(No column name)": "6762"
                                },
                                {
                                    "szall_datum": "2015-07-19",
                                    "szall_mod": "NULL",
                                    "(No column name)": "6776"
                                },
                                {
                                    "szall_datum": "2015-07-20",
                                    "szall_mod": "NULL",
                                    "(No column name)": "9748"
                                },
                                {
                                    "szall_datum": "2015-07-21",
                                    "szall_mod": "NULL",
                                    "(No column name)": "9805"
                                },
                                {
                                    "szall_datum": "2015-07-22",
                                    "szall_mod": "NULL",
                                    "(No column name)": "5140"
                                },
                                {
                                    "szall_datum": "2015-07-23",
                                    "szall_mod": "NULL",
                                    "(No column name)": "7258"
                                },
                                {
                                    "szall_datum": "2015-07-24",
                                    "szall_mod": "NULL",
                                    "(No column name)": "8697"
                                },
                                {
                                    "szall_datum": "2015-07-25",
                                    "szall_mod": "NULL",
                                    "(No column name)": "8180"
                                },
                                {
                                    "szall_datum": "2015-07-26",
                                    "szall_mod": "NULL",
                                    "(No column name)": "9323"
                                },
                                {
                                    "szall_datum": "2015-07-27",
                                    "szall_mod": "NULL",
                                    "(No column name)": "5417"
                                },
                                {
                                    "szall_datum": "2015-07-28",
                                    "szall_mod": "NULL",
                                    "(No column name)": "7825"
                                },
                                {
                                    "szall_datum": "2015-07-29",
                                    "szall_mod": "NULL",
                                    "(No column name)": "6405"
                                },
                                {
                                    "szall_datum": "2015-07-30",
                                    "szall_mod": "NULL",
                                    "(No column name)": "10029"
                                },
                                {
                                    "szall_datum": "2015-07-31",
                                    "szall_mod": "NULL",
                                    "(No column name)": "8673"
                                },
                                {
                                    "szall_datum": "2015-08-01",
                                    "szall_mod": "NULL",
                                    "(No column name)": "9957"
                                },
                                {
                                    "szall_datum": "2015-08-02",
                                    "szall_mod": "NULL",
                                    "(No column name)": "7599"
                                },
                                {
                                    "szall_datum": "2015-08-03",
                                    "szall_mod": "NULL",
                                    "(No column name)": "9208"
                                },
                                {
                                    "szall_datum": "2015-08-04",
                                    "szall_mod": "NULL",
                                    "(No column name)": "9353"
                                },
                                {
                                    "szall_datum": "2015-08-05",
                                    "szall_mod": "NULL",
                                    "(No column name)": "10342"
                                },
                                {
                                    "szall_datum": "2015-08-06",
                                    "szall_mod": "NULL",
                                    "(No column name)": "5124"
                                },
                                {
                                    "szall_datum": "2015-08-07",
                                    "szall_mod": "NULL",
                                    "(No column name)": "8960"
                                },
                                {
                                    "szall_datum": "2015-08-08",
                                    "szall_mod": "NULL",
                                    "(No column name)": "10296"
                                },
                                {
                                    "szall_datum": "2015-08-09",
                                    "szall_mod": "NULL",
                                    "(No column name)": "6026"
                                },
                                {
                                    "szall_datum": "2015-08-10",
                                    "szall_mod": "NULL",
                                    "(No column name)": "7896"
                                },
                                {
                                    "szall_datum": "2015-08-11",
                                    "szall_mod": "NULL",
                                    "(No column name)": "9008"
                                },
                                {
                                    "szall_datum": "2015-08-12",
                                    "szall_mod": "NULL",
                                    "(No column name)": "7605"
                                },
                                {
                                    "szall_datum": "2015-08-13",
                                    "szall_mod": "NULL",
                                    "(No column name)": "9380"
                                },
                                {
                                    "szall_datum": "2015-08-14",
                                    "szall_mod": "NULL",
                                    "(No column name)": "9780"
                                },
                                {
                                    "szall_datum": "2015-08-15",
                                    "szall_mod": "NULL",
                                    "(No column name)": "7514"
                                },
                                {
                                    "szall_datum": "2015-08-16",
                                    "szall_mod": "NULL",
                                    "(No column name)": "5341"
                                },
                                {
                                    "szall_datum": "2015-08-17",
                                    "szall_mod": "NULL",
                                    "(No column name)": "7162"
                                },
                                {
                                    "szall_datum": "2015-08-18",
                                    "szall_mod": "NULL",
                                    "(No column name)": "6271"
                                },
                                {
                                    "szall_datum": "2015-08-19",
                                    "szall_mod": "NULL",
                                    "(No column name)": "6650"
                                },
                                {
                                    "szall_datum": "2015-08-20",
                                    "szall_mod": "NULL",
                                    "(No column name)": "9005"
                                },
                                {
                                    "szall_datum": "2015-08-21",
                                    "szall_mod": "NULL",
                                    "(No column name)": "6874"
                                },
                                {
                                    "szall_datum": "2015-08-22",
                                    "szall_mod": "NULL",
                                    "(No column name)": "10138"
                                },
                                {
                                    "szall_datum": "2015-08-23",
                                    "szall_mod": "NULL",
                                    "(No column name)": "6734"
                                },
                                {
                                    "szall_datum": "2015-08-24",
                                    "szall_mod": "NULL",
                                    "(No column name)": "7767"
                                },
                                {
                                    "szall_datum": "2015-08-25",
                                    "szall_mod": "NULL",
                                    "(No column name)": "9206"
                                },
                                {
                                    "szall_datum": "2015-08-26",
                                    "szall_mod": "NULL",
                                    "(No column name)": "11006"
                                },
                                {
                                    "szall_datum": "2015-08-27",
                                    "szall_mod": "NULL",
                                    "(No column name)": "6244"
                                },
                                {
                                    "szall_datum": "2015-08-28",
                                    "szall_mod": "NULL",
                                    "(No column name)": "8145"
                                },
                                {
                                    "szall_datum": "2015-08-29",
                                    "szall_mod": "NULL",
                                    "(No column name)": "7380"
                                },
                                {
                                    "szall_datum": "2015-08-30",
                                    "szall_mod": "NULL",
                                    "(No column name)": "9727"
                                },
                                {
                                    "szall_datum": "2015-08-31",
                                    "szall_mod": "NULL",
                                    "(No column name)": "7226"
                                },
                                {
                                    "szall_datum": "2015-09-01",
                                    "szall_mod": "NULL",
                                    "(No column name)": "9466"
                                },
                                {
                                    "szall_datum": "2015-09-02",
                                    "szall_mod": "NULL",
                                    "(No column name)": "6179"
                                },
                                {
                                    "szall_datum": "2015-09-03",
                                    "szall_mod": "NULL",
                                    "(No column name)": "9949"
                                },
                                {
                                    "szall_datum": "2015-09-04",
                                    "szall_mod": "NULL",
                                    "(No column name)": "10432"
                                },
                                {
                                    "szall_datum": "2015-09-05",
                                    "szall_mod": "NULL",
                                    "(No column name)": "7083"
                                },
                                {
                                    "szall_datum": "2015-09-06",
                                    "szall_mod": "NULL",
                                    "(No column name)": "8378"
                                },
                                {
                                    "szall_datum": "2015-09-07",
                                    "szall_mod": "NULL",
                                    "(No column name)": "8303"
                                },
                                {
                                    "szall_datum": "2015-09-08",
                                    "szall_mod": "NULL",
                                    "(No column name)": "8349"
                                },
                                {
                                    "szall_datum": "2015-09-09",
                                    "szall_mod": "NULL",
                                    "(No column name)": "7985"
                                },
                                {
                                    "szall_datum": "2015-09-10",
                                    "szall_mod": "NULL",
                                    "(No column name)": "10353"
                                },
                                {
                                    "szall_datum": "2015-09-11",
                                    "szall_mod": "NULL",
                                    "(No column name)": "9284"
                                },
                                {
                                    "szall_datum": "2015-09-12",
                                    "szall_mod": "NULL",
                                    "(No column name)": "8553"
                                },
                                {
                                    "szall_datum": "2015-09-13",
                                    "szall_mod": "NULL",
                                    "(No column name)": "7435"
                                },
                                {
                                    "szall_datum": "2015-09-14",
                                    "szall_mod": "NULL",
                                    "(No column name)": "8232"
                                },
                                {
                                    "szall_datum": "2015-09-15",
                                    "szall_mod": "NULL",
                                    "(No column name)": "4776"
                                },
                                {
                                    "szall_datum": "2015-09-16",
                                    "szall_mod": "NULL",
                                    "(No column name)": "7416"
                                },
                                {
                                    "szall_datum": "2015-09-17",
                                    "szall_mod": "NULL",
                                    "(No column name)": "8358"
                                },
                                {
                                    "szall_datum": "2015-09-18",
                                    "szall_mod": "NULL",
                                    "(No column name)": "7210"
                                },
                                {
                                    "szall_datum": "2015-09-19",
                                    "szall_mod": "NULL",
                                    "(No column name)": "8267"
                                },
                                {
                                    "szall_datum": "2015-09-20",
                                    "szall_mod": "NULL",
                                    "(No column name)": "10001"
                                },
                                {
                                    "szall_datum": "2015-09-21",
                                    "szall_mod": "NULL",
                                    "(No column name)": "7086"
                                },
                                {
                                    "szall_datum": "2015-09-22",
                                    "szall_mod": "NULL",
                                    "(No column name)": "7424"
                                },
                                {
                                    "szall_datum": "2015-09-23",
                                    "szall_mod": "NULL",
                                    "(No column name)": "8183"
                                },
                                {
                                    "szall_datum": "2015-09-24",
                                    "szall_mod": "NULL",
                                    "(No column name)": "10252"
                                },
                                {
                                    "szall_datum": "2015-09-25",
                                    "szall_mod": "NULL",
                                    "(No column name)": "8106"
                                },
                                {
                                    "szall_datum": "2015-09-26",
                                    "szall_mod": "NULL",
                                    "(No column name)": "9451"
                                },
                                {
                                    "szall_datum": "2015-09-27",
                                    "szall_mod": "NULL",
                                    "(No column name)": "8692"
                                },
                                {
                                    "szall_datum": "2015-09-28",
                                    "szall_mod": "NULL",
                                    "(No column name)": "10281"
                                },
                                {
                                    "szall_datum": "2015-09-29",
                                    "szall_mod": "NULL",
                                    "(No column name)": "9481"
                                },
                                {
                                    "szall_datum": "2015-09-30",
                                    "szall_mod": "NULL",
                                    "(No column name)": "5900"
                                },
                                {
                                    "szall_datum": "2015-10-01",
                                    "szall_mod": "NULL",
                                    "(No column name)": "9384"
                                },
                                {
                                    "szall_datum": "2015-10-02",
                                    "szall_mod": "NULL",
                                    "(No column name)": "5674"
                                },
                                {
                                    "szall_datum": "2015-10-03",
                                    "szall_mod": "NULL",
                                    "(No column name)": "8509"
                                },
                                {
                                    "szall_datum": "2015-10-04",
                                    "szall_mod": "NULL",
                                    "(No column name)": "7645"
                                },
                                {
                                    "szall_datum": "2015-10-05",
                                    "szall_mod": "NULL",
                                    "(No column name)": "8535"
                                },
                                {
                                    "szall_datum": "2015-10-06",
                                    "szall_mod": "NULL",
                                    "(No column name)": "7529"
                                },
                                {
                                    "szall_datum": "2015-10-07",
                                    "szall_mod": "NULL",
                                    "(No column name)": "9435"
                                },
                                {
                                    "szall_datum": "2015-10-08",
                                    "szall_mod": "NULL",
                                    "(No column name)": "7319"
                                },
                                {
                                    "szall_datum": "2015-10-09",
                                    "szall_mod": "NULL",
                                    "(No column name)": "8931"
                                },
                                {
                                    "szall_datum": "2015-10-10",
                                    "szall_mod": "NULL",
                                    "(No column name)": "7928"
                                },
                                {
                                    "szall_datum": "2015-10-11",
                                    "szall_mod": "NULL",
                                    "(No column name)": "7516"
                                },
                                {
                                    "szall_datum": "2015-10-12",
                                    "szall_mod": "NULL",
                                    "(No column name)": "9355"
                                },
                                {
                                    "szall_datum": "2015-10-13",
                                    "szall_mod": "NULL",
                                    "(No column name)": "6564"
                                },
                                {
                                    "szall_datum": "2015-10-14",
                                    "szall_mod": "NULL",
                                    "(No column name)": "7035"
                                },
                                {
                                    "szall_datum": "2015-10-15",
                                    "szall_mod": "NULL",
                                    "(No column name)": "9269"
                                },
                                {
                                    "szall_datum": "2015-10-16",
                                    "szall_mod": "NULL",
                                    "(No column name)": "8427"
                                },
                                {
                                    "szall_datum": "2015-10-17",
                                    "szall_mod": "NULL",
                                    "(No column name)": "6936"
                                },
                                {
                                    "szall_datum": "2015-10-18",
                                    "szall_mod": "NULL",
                                    "(No column name)": "8671"
                                },
                                {
                                    "szall_datum": "2015-10-19",
                                    "szall_mod": "NULL",
                                    "(No column name)": "7207"
                                },
                                {
                                    "szall_datum": "2015-10-20",
                                    "szall_mod": "NULL",
                                    "(No column name)": "8613"
                                },
                                {
                                    "szall_datum": "2015-10-21",
                                    "szall_mod": "NULL",
                                    "(No column name)": "7366"
                                },
                                {
                                    "szall_datum": "2015-10-22",
                                    "szall_mod": "NULL",
                                    "(No column name)": "6678"
                                },
                                {
                                    "szall_datum": "2015-10-23",
                                    "szall_mod": "NULL",
                                    "(No column name)": "8056"
                                },
                                {
                                    "szall_datum": "2015-10-24",
                                    "szall_mod": "NULL",
                                    "(No column name)": "7233"
                                },
                                {
                                    "szall_datum": "2015-10-25",
                                    "szall_mod": "NULL",
                                    "(No column name)": "9107"
                                },
                                {
                                    "szall_datum": "2015-10-26",
                                    "szall_mod": "NULL",
                                    "(No column name)": "9776"
                                },
                                {
                                    "szall_datum": "2015-10-27",
                                    "szall_mod": "NULL",
                                    "(No column name)": "7669"
                                },
                                {
                                    "szall_datum": "2015-10-28",
                                    "szall_mod": "NULL",
                                    "(No column name)": "7522"
                                },
                                {
                                    "szall_datum": "2015-10-29",
                                    "szall_mod": "NULL",
                                    "(No column name)": "6971"
                                },
                                {
                                    "szall_datum": "2015-10-30",
                                    "szall_mod": "NULL",
                                    "(No column name)": "8999"
                                },
                                {
                                    "szall_datum": "2015-10-31",
                                    "szall_mod": "NULL",
                                    "(No column name)": "7046"
                                },
                                {
                                    "szall_datum": "2015-11-01",
                                    "szall_mod": "NULL",
                                    "(No column name)": "6171"
                                },
                                {
                                    "szall_datum": "2015-11-02",
                                    "szall_mod": "NULL",
                                    "(No column name)": "7612"
                                },
                                {
                                    "szall_datum": "2015-11-03",
                                    "szall_mod": "NULL",
                                    "(No column name)": "11533"
                                },
                                {
                                    "szall_datum": "2015-11-04",
                                    "szall_mod": "NULL",
                                    "(No column name)": "5352"
                                },
                                {
                                    "szall_datum": "2015-11-05",
                                    "szall_mod": "NULL",
                                    "(No column name)": "7183"
                                },
                                {
                                    "szall_datum": "2015-11-06",
                                    "szall_mod": "NULL",
                                    "(No column name)": "8606"
                                },
                                {
                                    "szall_datum": "2015-11-07",
                                    "szall_mod": "NULL",
                                    "(No column name)": "7260"
                                },
                                {
                                    "szall_datum": "2015-11-08",
                                    "szall_mod": "NULL",
                                    "(No column name)": "8177"
                                },
                                {
                                    "szall_datum": "2015-11-09",
                                    "szall_mod": "NULL",
                                    "(No column name)": "8431"
                                },
                                {
                                    "szall_datum": "2015-11-10",
                                    "szall_mod": "NULL",
                                    "(No column name)": "8329"
                                },
                                {
                                    "szall_datum": "2015-11-11",
                                    "szall_mod": "NULL",
                                    "(No column name)": "8191"
                                },
                                {
                                    "szall_datum": "2015-11-12",
                                    "szall_mod": "NULL",
                                    "(No column name)": "5884"
                                },
                                {
                                    "szall_datum": "2015-11-13",
                                    "szall_mod": "NULL",
                                    "(No column name)": "7359"
                                },
                                {
                                    "szall_datum": "2015-11-14",
                                    "szall_mod": "NULL",
                                    "(No column name)": "7730"
                                },
                                {
                                    "szall_datum": "2015-11-15",
                                    "szall_mod": "NULL",
                                    "(No column name)": "6881"
                                },
                                {
                                    "szall_datum": "2015-11-16",
                                    "szall_mod": "NULL",
                                    "(No column name)": "7721"
                                },
                                {
                                    "szall_datum": "2015-11-17",
                                    "szall_mod": "NULL",
                                    "(No column name)": "7234"
                                },
                                {
                                    "szall_datum": "2015-11-18",
                                    "szall_mod": "NULL",
                                    "(No column name)": "8321"
                                },
                                {
                                    "szall_datum": "2015-11-19",
                                    "szall_mod": "NULL",
                                    "(No column name)": "7582"
                                },
                                {
                                    "szall_datum": "2015-11-20",
                                    "szall_mod": "NULL",
                                    "(No column name)": "6288"
                                },
                                {
                                    "szall_datum": "2015-11-21",
                                    "szall_mod": "NULL",
                                    "(No column name)": "6657"
                                },
                                {
                                    "szall_datum": "2015-11-22",
                                    "szall_mod": "NULL",
                                    "(No column name)": "8640"
                                },
                                {
                                    "szall_datum": "2015-11-23",
                                    "szall_mod": "NULL",
                                    "(No column name)": "7363"
                                },
                                {
                                    "szall_datum": "2015-11-24",
                                    "szall_mod": "NULL",
                                    "(No column name)": "7556"
                                },
                                {
                                    "szall_datum": "2015-11-25",
                                    "szall_mod": "NULL",
                                    "(No column name)": "7103"
                                },
                                {
                                    "szall_datum": "2015-11-26",
                                    "szall_mod": "NULL",
                                    "(No column name)": "8368"
                                },
                                {
                                    "szall_datum": "2015-11-27",
                                    "szall_mod": "NULL",
                                    "(No column name)": "6865"
                                },
                                {
                                    "szall_datum": "2015-11-28",
                                    "szall_mod": "NULL",
                                    "(No column name)": "10098"
                                },
                                {
                                    "szall_datum": "2015-11-29",
                                    "szall_mod": "NULL",
                                    "(No column name)": "7636"
                                },
                                {
                                    "szall_datum": "2015-11-30",
                                    "szall_mod": "NULL",
                                    "(No column name)": "7182"
                                },
                                {
                                    "szall_datum": "2015-12-01",
                                    "szall_mod": "NULL",
                                    "(No column name)": "7314"
                                },
                                {
                                    "szall_datum": "2015-12-02",
                                    "szall_mod": "NULL",
                                    "(No column name)": "9592"
                                },
                                {
                                    "szall_datum": "2015-12-03",
                                    "szall_mod": "NULL",
                                    "(No column name)": "8829"
                                },
                                {
                                    "szall_datum": "2015-12-04",
                                    "szall_mod": "NULL",
                                    "(No column name)": "8013"
                                },
                                {
                                    "szall_datum": "2015-12-05",
                                    "szall_mod": "NULL",
                                    "(No column name)": "8887"
                                },
                                {
                                    "szall_datum": "2015-12-06",
                                    "szall_mod": "NULL",
                                    "(No column name)": "5596"
                                },
                                {
                                    "szall_datum": "2015-12-07",
                                    "szall_mod": "NULL",
                                    "(No column name)": "8825"
                                },
                                {
                                    "szall_datum": "2015-12-08",
                                    "szall_mod": "NULL",
                                    "(No column name)": "7819"
                                },
                                {
                                    "szall_datum": "2015-12-09",
                                    "szall_mod": "NULL",
                                    "(No column name)": "7897"
                                },
                                {
                                    "szall_datum": "2015-12-10",
                                    "szall_mod": "NULL",
                                    "(No column name)": "9644"
                                },
                                {
                                    "szall_datum": "2015-12-11",
                                    "szall_mod": "NULL",
                                    "(No column name)": "8093"
                                },
                                {
                                    "szall_datum": "2015-12-12",
                                    "szall_mod": "NULL",
                                    "(No column name)": "8957"
                                },
                                {
                                    "szall_datum": "2015-12-13",
                                    "szall_mod": "NULL",
                                    "(No column name)": "7399"
                                },
                                {
                                    "szall_datum": "2015-12-14",
                                    "szall_mod": "NULL",
                                    "(No column name)": "7676"
                                },
                                {
                                    "szall_datum": "2015-12-15",
                                    "szall_mod": "NULL",
                                    "(No column name)": "6863"
                                },
                                {
                                    "szall_datum": "2015-12-16",
                                    "szall_mod": "NULL",
                                    "(No column name)": "7886"
                                },
                                {
                                    "szall_datum": "2015-12-17",
                                    "szall_mod": "NULL",
                                    "(No column name)": "6894"
                                },
                                {
                                    "szall_datum": "2015-12-18",
                                    "szall_mod": "NULL",
                                    "(No column name)": "12260"
                                },
                                {
                                    "szall_datum": "2015-12-19",
                                    "szall_mod": "NULL",
                                    "(No column name)": "5788"
                                },
                                {
                                    "szall_datum": "2015-12-20",
                                    "szall_mod": "NULL",
                                    "(No column name)": "8699"
                                },
                                {
                                    "szall_datum": "2015-12-21",
                                    "szall_mod": "NULL",
                                    "(No column name)": "6630"
                                },
                                {
                                    "szall_datum": "2015-12-22",
                                    "szall_mod": "NULL",
                                    "(No column name)": "9212"
                                },
                                {
                                    "szall_datum": "2015-12-23",
                                    "szall_mod": "NULL",
                                    "(No column name)": "6676"
                                },
                                {
                                    "szall_datum": "2015-12-24",
                                    "szall_mod": "NULL",
                                    "(No column name)": "8869"
                                },
                                {
                                    "szall_datum": "2015-12-25",
                                    "szall_mod": "NULL",
                                    "(No column name)": "6944"
                                },
                                {
                                    "szall_datum": "2015-12-26",
                                    "szall_mod": "NULL",
                                    "(No column name)": "8921"
                                },
                                {
                                    "szall_datum": "2015-12-27",
                                    "szall_mod": "NULL",
                                    "(No column name)": "7648"
                                },
                                {
                                    "szall_datum": "2015-12-28",
                                    "szall_mod": "NULL",
                                    "(No column name)": "8042"
                                },
                                {
                                    "szall_datum": "2015-12-29",
                                    "szall_mod": "NULL",
                                    "(No column name)": "7923"
                                },
                                {
                                    "szall_datum": "2015-12-30",
                                    "szall_mod": "NULL",
                                    "(No column name)": "6562"
                                },
                                {
                                    "szall_datum": "2015-12-31",
                                    "szall_mod": "NULL",
                                    "(No column name)": "7021"
                                },
                                {
                                    "szall_datum": "2016-01-01",
                                    "szall_mod": "NULL",
                                    "(No column name)": "8837"
                                },
                                {
                                    "szall_datum": "2016-01-02",
                                    "szall_mod": "NULL",
                                    "(No column name)": "7518"
                                },
                                {
                                    "szall_datum": "2016-01-03",
                                    "szall_mod": "NULL",
                                    "(No column name)": "8422"
                                },
                                {
                                    "szall_datum": "2016-01-04",
                                    "szall_mod": "NULL",
                                    "(No column name)": "8813"
                                },
                                {
                                    "szall_datum": "2016-01-05",
                                    "szall_mod": "NULL",
                                    "(No column name)": "6895"
                                },
                                {
                                    "szall_datum": "2016-01-06",
                                    "szall_mod": "NULL",
                                    "(No column name)": "6716"
                                },
                                {
                                    "szall_datum": "2016-01-07",
                                    "szall_mod": "NULL",
                                    "(No column name)": "5593"
                                },
                                {
                                    "szall_datum": "2016-01-08",
                                    "szall_mod": "NULL",
                                    "(No column name)": "9534"
                                },
                                {
                                    "szall_datum": "2016-01-09",
                                    "szall_mod": "NULL",
                                    "(No column name)": "7056"
                                },
                                {
                                    "szall_datum": "2016-01-10",
                                    "szall_mod": "NULL",
                                    "(No column name)": "8057"
                                },
                                {
                                    "szall_datum": "2016-01-11",
                                    "szall_mod": "NULL",
                                    "(No column name)": "6734"
                                },
                                {
                                    "szall_datum": "2016-01-12",
                                    "szall_mod": "NULL",
                                    "(No column name)": "6949"
                                },
                                {
                                    "szall_datum": "2016-01-13",
                                    "szall_mod": "NULL",
                                    "(No column name)": "7487"
                                },
                                {
                                    "szall_datum": "2016-01-14",
                                    "szall_mod": "NULL",
                                    "(No column name)": "8998"
                                },
                                {
                                    "szall_datum": "2016-01-15",
                                    "szall_mod": "NULL",
                                    "(No column name)": "9345"
                                },
                                {
                                    "szall_datum": "2016-01-16",
                                    "szall_mod": "NULL",
                                    "(No column name)": "8068"
                                },
                                {
                                    "szall_datum": "2016-01-17",
                                    "szall_mod": "NULL",
                                    "(No column name)": "6954"
                                },
                                {
                                    "szall_datum": "2016-01-18",
                                    "szall_mod": "NULL",
                                    "(No column name)": "4416"
                                },
                                {
                                    "szall_datum": "2016-01-19",
                                    "szall_mod": "NULL",
                                    "(No column name)": "7124"
                                },
                                {
                                    "szall_datum": "2016-01-20",
                                    "szall_mod": "NULL",
                                    "(No column name)": "8568"
                                },
                                {
                                    "szall_datum": "2016-01-21",
                                    "szall_mod": "NULL",
                                    "(No column name)": "10953"
                                },
                                {
                                    "szall_datum": "2016-01-22",
                                    "szall_mod": "NULL",
                                    "(No column name)": "8588"
                                },
                                {
                                    "szall_datum": "2016-01-23",
                                    "szall_mod": "NULL",
                                    "(No column name)": "6512"
                                },
                                {
                                    "szall_datum": "2016-01-24",
                                    "szall_mod": "NULL",
                                    "(No column name)": "8898"
                                },
                                {
                                    "szall_datum": "2016-01-25",
                                    "szall_mod": "NULL",
                                    "(No column name)": "5191"
                                },
                                {
                                    "szall_datum": "2016-01-26",
                                    "szall_mod": "NULL",
                                    "(No column name)": "5293"
                                },
                                {
                                    "szall_datum": "2016-01-27",
                                    "szall_mod": "NULL",
                                    "(No column name)": "6513"
                                },
                                {
                                    "szall_datum": "2016-01-28",
                                    "szall_mod": "NULL",
                                    "(No column name)": "8119"
                                },
                                {
                                    "szall_datum": "2016-01-29",
                                    "szall_mod": "NULL",
                                    "(No column name)": "6658"
                                },
                                {
                                    "szall_datum": "2016-01-30",
                                    "szall_mod": "NULL",
                                    "(No column name)": "8727"
                                },
                                {
                                    "szall_datum": "2016-01-31",
                                    "szall_mod": "NULL",
                                    "(No column name)": "7527"
                                },
                                {
                                    "szall_datum": "2016-02-01",
                                    "szall_mod": "NULL",
                                    "(No column name)": "9120"
                                },
                                {
                                    "szall_datum": "2016-02-02",
                                    "szall_mod": "NULL",
                                    "(No column name)": "8088"
                                },
                                {
                                    "szall_datum": "2016-02-03",
                                    "szall_mod": "NULL",
                                    "(No column name)": "9306"
                                },
                                {
                                    "szall_datum": "2016-02-04",
                                    "szall_mod": "NULL",
                                    "(No column name)": "7994"
                                },
                                {
                                    "szall_datum": "2016-02-05",
                                    "szall_mod": "NULL",
                                    "(No column name)": "9703"
                                },
                                {
                                    "szall_datum": "2016-02-06",
                                    "szall_mod": "NULL",
                                    "(No column name)": "9860"
                                },
                                {
                                    "szall_datum": "2016-02-07",
                                    "szall_mod": "NULL",
                                    "(No column name)": "6630"
                                },
                                {
                                    "szall_datum": "2016-02-08",
                                    "szall_mod": "NULL",
                                    "(No column name)": "10093"
                                },
                                {
                                    "szall_datum": "2016-02-09",
                                    "szall_mod": "NULL",
                                    "(No column name)": "9706"
                                },
                                {
                                    "szall_datum": "2016-02-10",
                                    "szall_mod": "NULL",
                                    "(No column name)": "8520"
                                },
                                {
                                    "szall_datum": "2016-02-11",
                                    "szall_mod": "NULL",
                                    "(No column name)": "7094"
                                },
                                {
                                    "szall_datum": "2016-02-12",
                                    "szall_mod": "NULL",
                                    "(No column name)": "7789"
                                },
                                {
                                    "szall_datum": "2016-02-13",
                                    "szall_mod": "NULL",
                                    "(No column name)": "7991"
                                },
                                {
                                    "szall_datum": "2016-02-14",
                                    "szall_mod": "NULL",
                                    "(No column name)": "8049"
                                },
                                {
                                    "szall_datum": "2016-02-15",
                                    "szall_mod": "NULL",
                                    "(No column name)": "10033"
                                },
                                {
                                    "szall_datum": "2016-02-16",
                                    "szall_mod": "NULL",
                                    "(No column name)": "8049"
                                },
                                {
                                    "szall_datum": "2016-02-17",
                                    "szall_mod": "NULL",
                                    "(No column name)": "9586"
                                },
                                {
                                    "szall_datum": "2016-02-18",
                                    "szall_mod": "NULL",
                                    "(No column name)": "5922"
                                },
                                {
                                    "szall_datum": "2016-02-19",
                                    "szall_mod": "NULL",
                                    "(No column name)": "8898"
                                },
                                {
                                    "szall_datum": "2016-02-20",
                                    "szall_mod": "NULL",
                                    "(No column name)": "7549"
                                },
                                {
                                    "szall_datum": "2016-02-21",
                                    "szall_mod": "NULL",
                                    "(No column name)": "6531"
                                },
                                {
                                    "szall_datum": "2016-02-22",
                                    "szall_mod": "NULL",
                                    "(No column name)": "8724"
                                },
                                {
                                    "szall_datum": "2016-02-23",
                                    "szall_mod": "NULL",
                                    "(No column name)": "6959"
                                },
                                {
                                    "szall_datum": "2016-02-24",
                                    "szall_mod": "NULL",
                                    "(No column name)": "6314"
                                },
                                {
                                    "szall_datum": "2016-02-25",
                                    "szall_mod": "NULL",
                                    "(No column name)": "7324"
                                },
                                {
                                    "szall_datum": "2016-02-26",
                                    "szall_mod": "NULL",
                                    "(No column name)": "8466"
                                },
                                {
                                    "szall_datum": "2016-02-27",
                                    "szall_mod": "NULL",
                                    "(No column name)": "7122"
                                },
                                {
                                    "szall_datum": "2016-02-28",
                                    "szall_mod": "NULL",
                                    "(No column name)": "8447"
                                },
                                {
                                    "szall_datum": "2016-02-29",
                                    "szall_mod": "NULL",
                                    "(No column name)": "8516"
                                },
                                {
                                    "szall_datum": "2016-03-01",
                                    "szall_mod": "NULL",
                                    "(No column name)": "9654"
                                },
                                {
                                    "szall_datum": "2016-03-02",
                                    "szall_mod": "NULL",
                                    "(No column name)": "7282"
                                },
                                {
                                    "szall_datum": "2016-03-03",
                                    "szall_mod": "NULL",
                                    "(No column name)": "8853"
                                },
                                {
                                    "szall_datum": "2016-03-04",
                                    "szall_mod": "NULL",
                                    "(No column name)": "8549"
                                },
                                {
                                    "szall_datum": "2016-03-05",
                                    "szall_mod": "NULL",
                                    "(No column name)": "9463"
                                },
                                {
                                    "szall_datum": "2016-03-06",
                                    "szall_mod": "NULL",
                                    "(No column name)": "7740"
                                },
                                {
                                    "szall_datum": "2016-03-07",
                                    "szall_mod": "NULL",
                                    "(No column name)": "7680"
                                },
                                {
                                    "szall_datum": "2016-03-08",
                                    "szall_mod": "NULL",
                                    "(No column name)": "5849"
                                },
                                {
                                    "szall_datum": "2016-03-09",
                                    "szall_mod": "NULL",
                                    "(No column name)": "9412"
                                },
                                {
                                    "szall_datum": "2016-03-10",
                                    "szall_mod": "NULL",
                                    "(No column name)": "8848"
                                },
                                {
                                    "szall_datum": "2016-03-11",
                                    "szall_mod": "NULL",
                                    "(No column name)": "6193"
                                },
                                {
                                    "szall_datum": "2016-03-12",
                                    "szall_mod": "NULL",
                                    "(No column name)": "10487"
                                },
                                {
                                    "szall_datum": "2016-03-13",
                                    "szall_mod": "NULL",
                                    "(No column name)": "5913"
                                },
                                {
                                    "szall_datum": "2016-03-14",
                                    "szall_mod": "NULL",
                                    "(No column name)": "9336"
                                },
                                {
                                    "szall_datum": "2016-03-15",
                                    "szall_mod": "NULL",
                                    "(No column name)": "8180"
                                },
                                {
                                    "szall_datum": "2016-03-16",
                                    "szall_mod": "NULL",
                                    "(No column name)": "7448"
                                },
                                {
                                    "szall_datum": "2016-03-17",
                                    "szall_mod": "NULL",
                                    "(No column name)": "7770"
                                },
                                {
                                    "szall_datum": "2016-03-18",
                                    "szall_mod": "NULL",
                                    "(No column name)": "6927"
                                },
                                {
                                    "szall_datum": "2016-03-19",
                                    "szall_mod": "NULL",
                                    "(No column name)": "7827"
                                },
                                {
                                    "szall_datum": "2016-03-20",
                                    "szall_mod": "NULL",
                                    "(No column name)": "12190"
                                },
                                {
                                    "szall_datum": "2016-03-21",
                                    "szall_mod": "NULL",
                                    "(No column name)": "11075"
                                },
                                {
                                    "szall_datum": "2016-03-22",
                                    "szall_mod": "NULL",
                                    "(No column name)": "7770"
                                },
                                {
                                    "szall_datum": "2016-03-23",
                                    "szall_mod": "NULL",
                                    "(No column name)": "6397"
                                },
                                {
                                    "szall_datum": "2016-03-24",
                                    "szall_mod": "NULL",
                                    "(No column name)": "7220"
                                },
                                {
                                    "szall_datum": "2016-03-25",
                                    "szall_mod": "NULL",
                                    "(No column name)": "8763"
                                },
                                {
                                    "szall_datum": "2016-03-26",
                                    "szall_mod": "NULL",
                                    "(No column name)": "9893"
                                },
                                {
                                    "szall_datum": "2016-03-27",
                                    "szall_mod": "NULL",
                                    "(No column name)": "8950"
                                },
                                {
                                    "szall_datum": "2016-03-28",
                                    "szall_mod": "NULL",
                                    "(No column name)": "7552"
                                },
                                {
                                    "szall_datum": "2016-03-29",
                                    "szall_mod": "NULL",
                                    "(No column name)": "7416"
                                },
                                {
                                    "szall_datum": "2016-03-30",
                                    "szall_mod": "NULL",
                                    "(No column name)": "8631"
                                },
                                {
                                    "szall_datum": "2016-03-31",
                                    "szall_mod": "NULL",
                                    "(No column name)": "6885"
                                },
                                {
                                    "szall_datum": "2016-04-01",
                                    "szall_mod": "NULL",
                                    "(No column name)": "8756"
                                },
                                {
                                    "szall_datum": "2016-04-02",
                                    "szall_mod": "NULL",
                                    "(No column name)": "8073"
                                },
                                {
                                    "szall_datum": "2016-04-03",
                                    "szall_mod": "NULL",
                                    "(No column name)": "5897"
                                },
                                {
                                    "szall_datum": "2016-04-04",
                                    "szall_mod": "NULL",
                                    "(No column name)": "7405"
                                },
                                {
                                    "szall_datum": "2016-04-05",
                                    "szall_mod": "NULL",
                                    "(No column name)": "8092"
                                },
                                {
                                    "szall_datum": "2016-04-06",
                                    "szall_mod": "NULL",
                                    "(No column name)": "7458"
                                },
                                {
                                    "szall_datum": "2016-04-07",
                                    "szall_mod": "NULL",
                                    "(No column name)": "9216"
                                },
                                {
                                    "szall_datum": "2016-04-08",
                                    "szall_mod": "NULL",
                                    "(No column name)": "10889"
                                },
                                {
                                    "szall_datum": "2016-04-09",
                                    "szall_mod": "NULL",
                                    "(No column name)": "9754"
                                },
                                {
                                    "szall_datum": "2016-04-10",
                                    "szall_mod": "NULL",
                                    "(No column name)": "9878"
                                },
                                {
                                    "szall_datum": "2016-04-11",
                                    "szall_mod": "NULL",
                                    "(No column name)": "8948"
                                },
                                {
                                    "szall_datum": "2016-04-12",
                                    "szall_mod": "NULL",
                                    "(No column name)": "7144"
                                },
                                {
                                    "szall_datum": "2016-04-13",
                                    "szall_mod": "NULL",
                                    "(No column name)": "7728"
                                },
                                {
                                    "szall_datum": "2016-04-14",
                                    "szall_mod": "NULL",
                                    "(No column name)": "8805"
                                },
                                {
                                    "szall_datum": "2016-04-15",
                                    "szall_mod": "NULL",
                                    "(No column name)": "8331"
                                },
                                {
                                    "szall_datum": "2016-04-16",
                                    "szall_mod": "NULL",
                                    "(No column name)": "8755"
                                },
                                {
                                    "szall_datum": "2016-04-17",
                                    "szall_mod": "NULL",
                                    "(No column name)": "10267"
                                },
                                {
                                    "szall_datum": "2016-04-18",
                                    "szall_mod": "NULL",
                                    "(No column name)": "7586"
                                },
                                {
                                    "szall_datum": "2016-04-19",
                                    "szall_mod": "NULL",
                                    "(No column name)": "9190"
                                },
                                {
                                    "szall_datum": "2016-04-20",
                                    "szall_mod": "NULL",
                                    "(No column name)": "6584"
                                },
                                {
                                    "szall_datum": "2016-04-21",
                                    "szall_mod": "NULL",
                                    "(No column name)": "6628"
                                },
                                {
                                    "szall_datum": "2016-04-22",
                                    "szall_mod": "NULL",
                                    "(No column name)": "6502"
                                },
                                {
                                    "szall_datum": "2016-04-23",
                                    "szall_mod": "NULL",
                                    "(No column name)": "6588"
                                },
                                {
                                    "szall_datum": "2016-04-24",
                                    "szall_mod": "NULL",
                                    "(No column name)": "9512"
                                },
                                {
                                    "szall_datum": "2016-04-25",
                                    "szall_mod": "NULL",
                                    "(No column name)": "10177"
                                },
                                {
                                    "szall_datum": "2016-04-26",
                                    "szall_mod": "NULL",
                                    "(No column name)": "7946"
                                },
                                {
                                    "szall_datum": "2016-04-27",
                                    "szall_mod": "NULL",
                                    "(No column name)": "8344"
                                },
                                {
                                    "szall_datum": "2016-04-28",
                                    "szall_mod": "NULL",
                                    "(No column name)": "7732"
                                },
                                {
                                    "szall_datum": "2016-04-29",
                                    "szall_mod": "NULL",
                                    "(No column name)": "7870"
                                },
                                {
                                    "szall_datum": "2016-04-30",
                                    "szall_mod": "NULL",
                                    "(No column name)": "7898"
                                },
                                {
                                    "szall_datum": "2016-05-01",
                                    "szall_mod": "NULL",
                                    "(No column name)": "6600"
                                },
                                {
                                    "szall_datum": "2016-05-02",
                                    "szall_mod": "NULL",
                                    "(No column name)": "8142"
                                },
                                {
                                    "szall_datum": "2016-05-03",
                                    "szall_mod": "NULL",
                                    "(No column name)": "5084"
                                },
                                {
                                    "szall_datum": "2016-05-04",
                                    "szall_mod": "NULL",
                                    "(No column name)": "9125"
                                },
                                {
                                    "szall_datum": "2016-05-05",
                                    "szall_mod": "NULL",
                                    "(No column name)": "7845"
                                },
                                {
                                    "szall_datum": "2016-05-06",
                                    "szall_mod": "NULL",
                                    "(No column name)": "7969"
                                },
                                {
                                    "szall_datum": "2016-05-07",
                                    "szall_mod": "NULL",
                                    "(No column name)": "8896"
                                },
                                {
                                    "szall_datum": "2016-05-08",
                                    "szall_mod": "NULL",
                                    "(No column name)": "7858"
                                },
                                {
                                    "szall_datum": "2016-05-09",
                                    "szall_mod": "NULL",
                                    "(No column name)": "11178"
                                },
                                {
                                    "szall_datum": "2016-05-10",
                                    "szall_mod": "NULL",
                                    "(No column name)": "8968"
                                },
                                {
                                    "szall_datum": "2016-05-11",
                                    "szall_mod": "NULL",
                                    "(No column name)": "8132"
                                },
                                {
                                    "szall_datum": "2016-05-12",
                                    "szall_mod": "NULL",
                                    "(No column name)": "8095"
                                },
                                {
                                    "szall_datum": "2016-05-13",
                                    "szall_mod": "NULL",
                                    "(No column name)": "8089"
                                },
                                {
                                    "szall_datum": "2016-05-14",
                                    "szall_mod": "NULL",
                                    "(No column name)": "7722"
                                },
                                {
                                    "szall_datum": "2016-05-15",
                                    "szall_mod": "NULL",
                                    "(No column name)": "5490"
                                },
                                {
                                    "szall_datum": "2016-05-16",
                                    "szall_mod": "NULL",
                                    "(No column name)": "7944"
                                },
                                {
                                    "szall_datum": "2016-05-17",
                                    "szall_mod": "NULL",
                                    "(No column name)": "8888"
                                },
                                {
                                    "szall_datum": "2016-05-18",
                                    "szall_mod": "NULL",
                                    "(No column name)": "5720"
                                },
                                {
                                    "szall_datum": "2016-05-19",
                                    "szall_mod": "NULL",
                                    "(No column name)": "7578"
                                },
                                {
                                    "szall_datum": "2016-05-20",
                                    "szall_mod": "NULL",
                                    "(No column name)": "8879"
                                },
                                {
                                    "szall_datum": "2016-05-21",
                                    "szall_mod": "NULL",
                                    "(No column name)": "9030"
                                },
                                {
                                    "szall_datum": "2016-05-22",
                                    "szall_mod": "NULL",
                                    "(No column name)": "4914"
                                },
                                {
                                    "szall_datum": "2016-05-23",
                                    "szall_mod": "NULL",
                                    "(No column name)": "8577"
                                },
                                {
                                    "szall_datum": "2016-05-24",
                                    "szall_mod": "NULL",
                                    "(No column name)": "8816"
                                },
                                {
                                    "szall_datum": "2016-05-25",
                                    "szall_mod": "NULL",
                                    "(No column name)": "9296"
                                },
                                {
                                    "szall_datum": "2016-05-26",
                                    "szall_mod": "NULL",
                                    "(No column name)": "5287"
                                },
                                {
                                    "szall_datum": "2016-05-27",
                                    "szall_mod": "NULL",
                                    "(No column name)": "9701"
                                },
                                {
                                    "szall_datum": "2016-05-28",
                                    "szall_mod": "NULL",
                                    "(No column name)": "6509"
                                },
                                {
                                    "szall_datum": "2016-05-29",
                                    "szall_mod": "NULL",
                                    "(No column name)": "9450"
                                },
                                {
                                    "szall_datum": "2016-05-30",
                                    "szall_mod": "NULL",
                                    "(No column name)": "6884"
                                },
                                {
                                    "szall_datum": "2016-05-31",
                                    "szall_mod": "NULL",
                                    "(No column name)": "10007"
                                },
                                {
                                    "szall_datum": "2016-06-01",
                                    "szall_mod": "NULL",
                                    "(No column name)": "8484"
                                },
                                {
                                    "szall_datum": "2016-06-02",
                                    "szall_mod": "NULL",
                                    "(No column name)": "6928"
                                },
                                {
                                    "szall_datum": "2016-06-03",
                                    "szall_mod": "NULL",
                                    "(No column name)": "6567"
                                },
                                {
                                    "szall_datum": "2016-06-04",
                                    "szall_mod": "NULL",
                                    "(No column name)": "7904"
                                },
                                {
                                    "szall_datum": "2016-06-05",
                                    "szall_mod": "NULL",
                                    "(No column name)": "5802"
                                },
                                {
                                    "szall_datum": "2016-06-06",
                                    "szall_mod": "NULL",
                                    "(No column name)": "9474"
                                },
                                {
                                    "szall_datum": "2016-06-07",
                                    "szall_mod": "NULL",
                                    "(No column name)": "8722"
                                },
                                {
                                    "szall_datum": "2016-06-08",
                                    "szall_mod": "NULL",
                                    "(No column name)": "7019"
                                },
                                {
                                    "szall_datum": "2016-06-09",
                                    "szall_mod": "NULL",
                                    "(No column name)": "7354"
                                },
                                {
                                    "szall_datum": "2016-06-10",
                                    "szall_mod": "NULL",
                                    "(No column name)": "8873"
                                },
                                {
                                    "szall_datum": "2016-06-11",
                                    "szall_mod": "NULL",
                                    "(No column name)": "9217"
                                },
                                {
                                    "szall_datum": "2016-06-12",
                                    "szall_mod": "NULL",
                                    "(No column name)": "9418"
                                },
                                {
                                    "szall_datum": "2016-06-13",
                                    "szall_mod": "NULL",
                                    "(No column name)": "6407"
                                },
                                {
                                    "szall_datum": "2016-06-14",
                                    "szall_mod": "NULL",
                                    "(No column name)": "7968"
                                },
                                {
                                    "szall_datum": "2016-06-15",
                                    "szall_mod": "NULL",
                                    "(No column name)": "8830"
                                },
                                {
                                    "szall_datum": "2016-06-16",
                                    "szall_mod": "NULL",
                                    "(No column name)": "6462"
                                },
                                {
                                    "szall_datum": "2016-06-17",
                                    "szall_mod": "NULL",
                                    "(No column name)": "9189"
                                },
                                {
                                    "szall_datum": "2016-06-18",
                                    "szall_mod": "NULL",
                                    "(No column name)": "6311"
                                },
                                {
                                    "szall_datum": "2016-06-19",
                                    "szall_mod": "NULL",
                                    "(No column name)": "8834"
                                },
                                {
                                    "szall_datum": "2016-06-20",
                                    "szall_mod": "NULL",
                                    "(No column name)": "8005"
                                },
                                {
                                    "szall_datum": "2016-06-21",
                                    "szall_mod": "NULL",
                                    "(No column name)": "6482"
                                },
                                {
                                    "szall_datum": "2016-06-22",
                                    "szall_mod": "NULL",
                                    "(No column name)": "6541"
                                },
                                {
                                    "szall_datum": "2016-06-23",
                                    "szall_mod": "NULL",
                                    "(No column name)": "6662"
                                },
                                {
                                    "szall_datum": "2016-06-24",
                                    "szall_mod": "NULL",
                                    "(No column name)": "8530"
                                },
                                {
                                    "szall_datum": "2016-06-25",
                                    "szall_mod": "NULL",
                                    "(No column name)": "8262"
                                },
                                {
                                    "szall_datum": "2016-06-26",
                                    "szall_mod": "NULL",
                                    "(No column name)": "10488"
                                },
                                {
                                    "szall_datum": "2016-06-27",
                                    "szall_mod": "NULL",
                                    "(No column name)": "5541"
                                },
                                {
                                    "szall_datum": "2016-06-28",
                                    "szall_mod": "NULL",
                                    "(No column name)": "10267"
                                },
                                {
                                    "szall_datum": "2016-06-29",
                                    "szall_mod": "NULL",
                                    "(No column name)": "9869"
                                },
                                {
                                    "szall_datum": "2016-06-30",
                                    "szall_mod": "NULL",
                                    "(No column name)": "9437"
                                },
                                {
                                    "szall_datum": "2016-07-01",
                                    "szall_mod": "NULL",
                                    "(No column name)": "5916"
                                },
                                {
                                    "szall_datum": "2016-07-02",
                                    "szall_mod": "NULL",
                                    "(No column name)": "6710"
                                },
                                {
                                    "szall_datum": "2016-07-03",
                                    "szall_mod": "NULL",
                                    "(No column name)": "9081"
                                },
                                {
                                    "szall_datum": "2016-07-04",
                                    "szall_mod": "NULL",
                                    "(No column name)": "10816"
                                },
                                {
                                    "szall_datum": "2016-07-05",
                                    "szall_mod": "NULL",
                                    "(No column name)": "8863"
                                },
                                {
                                    "szall_datum": "2016-07-06",
                                    "szall_mod": "NULL",
                                    "(No column name)": "7283"
                                },
                                {
                                    "szall_datum": "2016-07-07",
                                    "szall_mod": "NULL",
                                    "(No column name)": "5922"
                                },
                                {
                                    "szall_datum": "2016-07-08",
                                    "szall_mod": "NULL",
                                    "(No column name)": "7968"
                                },
                                {
                                    "szall_datum": "2016-07-09",
                                    "szall_mod": "NULL",
                                    "(No column name)": "9112"
                                },
                                {
                                    "szall_datum": "2016-07-10",
                                    "szall_mod": "NULL",
                                    "(No column name)": "7494"
                                },
                                {
                                    "szall_datum": "2016-07-11",
                                    "szall_mod": "NULL",
                                    "(No column name)": "10358"
                                },
                                {
                                    "szall_datum": "2016-07-12",
                                    "szall_mod": "NULL",
                                    "(No column name)": "8519"
                                },
                                {
                                    "szall_datum": "2016-07-13",
                                    "szall_mod": "NULL",
                                    "(No column name)": "8721"
                                },
                                {
                                    "szall_datum": "2016-07-14",
                                    "szall_mod": "NULL",
                                    "(No column name)": "7363"
                                },
                                {
                                    "szall_datum": "2016-07-15",
                                    "szall_mod": "NULL",
                                    "(No column name)": "7066"
                                },
                                {
                                    "szall_datum": "2016-07-16",
                                    "szall_mod": "NULL",
                                    "(No column name)": "8298"
                                },
                                {
                                    "szall_datum": "2016-07-17",
                                    "szall_mod": "NULL",
                                    "(No column name)": "6320"
                                },
                                {
                                    "szall_datum": "2016-07-18",
                                    "szall_mod": "NULL",
                                    "(No column name)": "8573"
                                },
                                {
                                    "szall_datum": "2016-07-19",
                                    "szall_mod": "NULL",
                                    "(No column name)": "9023"
                                },
                                {
                                    "szall_datum": "2016-07-20",
                                    "szall_mod": "NULL",
                                    "(No column name)": "7415"
                                },
                                {
                                    "szall_datum": "2016-07-21",
                                    "szall_mod": "NULL",
                                    "(No column name)": "7484"
                                },
                                {
                                    "szall_datum": "2016-07-22",
                                    "szall_mod": "NULL",
                                    "(No column name)": "7412"
                                },
                                {
                                    "szall_datum": "2016-07-23",
                                    "szall_mod": "NULL",
                                    "(No column name)": "6895"
                                },
                                {
                                    "szall_datum": "2016-07-24",
                                    "szall_mod": "NULL",
                                    "(No column name)": "6958"
                                },
                                {
                                    "szall_datum": "2016-07-25",
                                    "szall_mod": "NULL",
                                    "(No column name)": "7559"
                                },
                                {
                                    "szall_datum": "2016-07-26",
                                    "szall_mod": "NULL",
                                    "(No column name)": "7020"
                                },
                                {
                                    "szall_datum": "2016-07-27",
                                    "szall_mod": "NULL",
                                    "(No column name)": "9352"
                                },
                                {
                                    "szall_datum": "2016-07-28",
                                    "szall_mod": "NULL",
                                    "(No column name)": "7155"
                                },
                                {
                                    "szall_datum": "2016-07-29",
                                    "szall_mod": "NULL",
                                    "(No column name)": "9038"
                                },
                                {
                                    "szall_datum": "2016-07-30",
                                    "szall_mod": "NULL",
                                    "(No column name)": "6288"
                                },
                                {
                                    "szall_datum": "2016-07-31",
                                    "szall_mod": "NULL",
                                    "(No column name)": "9007"
                                },
                                {
                                    "szall_datum": "2016-08-01",
                                    "szall_mod": "NULL",
                                    "(No column name)": "7588"
                                },
                                {
                                    "szall_datum": "2016-08-02",
                                    "szall_mod": "NULL",
                                    "(No column name)": "6686"
                                },
                                {
                                    "szall_datum": "2016-08-03",
                                    "szall_mod": "NULL",
                                    "(No column name)": "7884"
                                },
                                {
                                    "szall_datum": "2016-08-04",
                                    "szall_mod": "NULL",
                                    "(No column name)": "6900"
                                },
                                {
                                    "szall_datum": "2016-08-05",
                                    "szall_mod": "NULL",
                                    "(No column name)": "7610"
                                },
                                {
                                    "szall_datum": "2016-08-06",
                                    "szall_mod": "NULL",
                                    "(No column name)": "8498"
                                },
                                {
                                    "szall_datum": "2016-08-07",
                                    "szall_mod": "NULL",
                                    "(No column name)": "5511"
                                },
                                {
                                    "szall_datum": "2016-08-08",
                                    "szall_mod": "NULL",
                                    "(No column name)": "5829"
                                },
                                {
                                    "szall_datum": "2016-08-09",
                                    "szall_mod": "NULL",
                                    "(No column name)": "10307"
                                },
                                {
                                    "szall_datum": "2016-08-10",
                                    "szall_mod": "NULL",
                                    "(No column name)": "8311"
                                },
                                {
                                    "szall_datum": "2016-08-11",
                                    "szall_mod": "NULL",
                                    "(No column name)": "8232"
                                },
                                {
                                    "szall_datum": "2016-08-12",
                                    "szall_mod": "NULL",
                                    "(No column name)": "8761"
                                },
                                {
                                    "szall_datum": "2016-08-13",
                                    "szall_mod": "NULL",
                                    "(No column name)": "9571"
                                },
                                {
                                    "szall_datum": "2016-08-14",
                                    "szall_mod": "NULL",
                                    "(No column name)": "8263"
                                },
                                {
                                    "szall_datum": "2016-08-15",
                                    "szall_mod": "NULL",
                                    "(No column name)": "10966"
                                },
                                {
                                    "szall_datum": "2016-08-16",
                                    "szall_mod": "NULL",
                                    "(No column name)": "7435"
                                },
                                {
                                    "szall_datum": "2016-08-17",
                                    "szall_mod": "NULL",
                                    "(No column name)": "7576"
                                },
                                {
                                    "szall_datum": "2016-08-18",
                                    "szall_mod": "NULL",
                                    "(No column name)": "7689"
                                },
                                {
                                    "szall_datum": "2016-08-19",
                                    "szall_mod": "NULL",
                                    "(No column name)": "6974"
                                },
                                {
                                    "szall_datum": "2016-08-20",
                                    "szall_mod": "NULL",
                                    "(No column name)": "9117"
                                },
                                {
                                    "szall_datum": "2016-08-21",
                                    "szall_mod": "NULL",
                                    "(No column name)": "5864"
                                },
                                {
                                    "szall_datum": "2016-08-22",
                                    "szall_mod": "NULL",
                                    "(No column name)": "7082"
                                },
                                {
                                    "szall_datum": "2016-08-23",
                                    "szall_mod": "NULL",
                                    "(No column name)": "6153"
                                },
                                {
                                    "szall_datum": "2016-08-24",
                                    "szall_mod": "NULL",
                                    "(No column name)": "8822"
                                },
                                {
                                    "szall_datum": "2016-08-25",
                                    "szall_mod": "NULL",
                                    "(No column name)": "9398"
                                },
                                {
                                    "szall_datum": "2016-08-26",
                                    "szall_mod": "NULL",
                                    "(No column name)": "8695"
                                },
                                {
                                    "szall_datum": "2016-08-27",
                                    "szall_mod": "NULL",
                                    "(No column name)": "8120"
                                },
                                {
                                    "szall_datum": "2016-08-28",
                                    "szall_mod": "NULL",
                                    "(No column name)": "8937"
                                },
                                {
                                    "szall_datum": "2016-08-29",
                                    "szall_mod": "NULL",
                                    "(No column name)": "7542"
                                },
                                {
                                    "szall_datum": "2016-08-30",
                                    "szall_mod": "NULL",
                                    "(No column name)": "5527"
                                },
                                {
                                    "szall_datum": "2016-08-31",
                                    "szall_mod": "NULL",
                                    "(No column name)": "6069"
                                },
                                {
                                    "szall_datum": "2016-09-01",
                                    "szall_mod": "NULL",
                                    "(No column name)": "6626"
                                },
                                {
                                    "szall_datum": "2016-09-02",
                                    "szall_mod": "NULL",
                                    "(No column name)": "7775"
                                },
                                {
                                    "szall_datum": "2016-09-03",
                                    "szall_mod": "NULL",
                                    "(No column name)": "11043"
                                },
                                {
                                    "szall_datum": "2016-09-04",
                                    "szall_mod": "NULL",
                                    "(No column name)": "11369"
                                },
                                {
                                    "szall_datum": "2016-09-05",
                                    "szall_mod": "NULL",
                                    "(No column name)": "6206"
                                },
                                {
                                    "szall_datum": "2016-09-06",
                                    "szall_mod": "NULL",
                                    "(No column name)": "8736"
                                },
                                {
                                    "szall_datum": "2016-09-07",
                                    "szall_mod": "NULL",
                                    "(No column name)": "8579"
                                },
                                {
                                    "szall_datum": "2016-09-08",
                                    "szall_mod": "NULL",
                                    "(No column name)": "8561"
                                },
                                {
                                    "szall_datum": "2016-09-09",
                                    "szall_mod": "NULL",
                                    "(No column name)": "8470"
                                },
                                {
                                    "szall_datum": "2016-09-10",
                                    "szall_mod": "NULL",
                                    "(No column name)": "9203"
                                },
                                {
                                    "szall_datum": "2016-09-11",
                                    "szall_mod": "NULL",
                                    "(No column name)": "8573"
                                },
                                {
                                    "szall_datum": "2016-09-12",
                                    "szall_mod": "NULL",
                                    "(No column name)": "6264"
                                },
                                {
                                    "szall_datum": "2016-09-13",
                                    "szall_mod": "NULL",
                                    "(No column name)": "8200"
                                },
                                {
                                    "szall_datum": "2016-09-14",
                                    "szall_mod": "NULL",
                                    "(No column name)": "10576"
                                },
                                {
                                    "szall_datum": "2016-09-15",
                                    "szall_mod": "NULL",
                                    "(No column name)": "10530"
                                },
                                {
                                    "szall_datum": "2016-09-16",
                                    "szall_mod": "NULL",
                                    "(No column name)": "5621"
                                },
                                {
                                    "szall_datum": "2016-09-17",
                                    "szall_mod": "NULL",
                                    "(No column name)": "7379"
                                },
                                {
                                    "szall_datum": "2016-09-18",
                                    "szall_mod": "NULL",
                                    "(No column name)": "10790"
                                },
                                {
                                    "szall_datum": "2016-09-19",
                                    "szall_mod": "NULL",
                                    "(No column name)": "7019"
                                },
                                {
                                    "szall_datum": "2016-09-20",
                                    "szall_mod": "NULL",
                                    "(No column name)": "8544"
                                },
                                {
                                    "szall_datum": "2016-09-21",
                                    "szall_mod": "NULL",
                                    "(No column name)": "5504"
                                },
                                {
                                    "szall_datum": "2016-09-22",
                                    "szall_mod": "NULL",
                                    "(No column name)": "6691"
                                },
                                {
                                    "szall_datum": "2016-09-23",
                                    "szall_mod": "NULL",
                                    "(No column name)": "6574"
                                },
                                {
                                    "szall_datum": "2016-09-24",
                                    "szall_mod": "NULL",
                                    "(No column name)": "6220"
                                },
                                {
                                    "szall_datum": "2016-09-25",
                                    "szall_mod": "NULL",
                                    "(No column name)": "6759"
                                },
                                {
                                    "szall_datum": "2016-09-26",
                                    "szall_mod": "NULL",
                                    "(No column name)": "7073"
                                },
                                {
                                    "szall_datum": "2016-09-27",
                                    "szall_mod": "NULL",
                                    "(No column name)": "9214"
                                },
                                {
                                    "szall_datum": "2016-09-28",
                                    "szall_mod": "NULL",
                                    "(No column name)": "7948"
                                },
                                {
                                    "szall_datum": "2016-09-29",
                                    "szall_mod": "NULL",
                                    "(No column name)": "5840"
                                },
                                {
                                    "szall_datum": "2016-09-30",
                                    "szall_mod": "NULL",
                                    "(No column name)": "8410"
                                },
                                {
                                    "szall_datum": "2016-10-01",
                                    "szall_mod": "NULL",
                                    "(No column name)": "8122"
                                },
                                {
                                    "szall_datum": "2016-10-02",
                                    "szall_mod": "NULL",
                                    "(No column name)": "7206"
                                },
                                {
                                    "szall_datum": "2016-10-03",
                                    "szall_mod": "NULL",
                                    "(No column name)": "6357"
                                },
                                {
                                    "szall_datum": "2016-10-04",
                                    "szall_mod": "NULL",
                                    "(No column name)": "7203"
                                },
                                {
                                    "szall_datum": "2016-10-05",
                                    "szall_mod": "NULL",
                                    "(No column name)": "7856"
                                },
                                {
                                    "szall_datum": "2016-10-06",
                                    "szall_mod": "NULL",
                                    "(No column name)": "6682"
                                },
                                {
                                    "szall_datum": "2016-10-07",
                                    "szall_mod": "NULL",
                                    "(No column name)": "6607"
                                },
                                {
                                    "szall_datum": "2016-10-08",
                                    "szall_mod": "NULL",
                                    "(No column name)": "8515"
                                },
                                {
                                    "szall_datum": "2016-10-09",
                                    "szall_mod": "NULL",
                                    "(No column name)": "10396"
                                },
                                {
                                    "szall_datum": "2016-10-10",
                                    "szall_mod": "NULL",
                                    "(No column name)": "7117"
                                },
                                {
                                    "szall_datum": "2016-10-11",
                                    "szall_mod": "NULL",
                                    "(No column name)": "9192"
                                },
                                {
                                    "szall_datum": "2016-10-12",
                                    "szall_mod": "NULL",
                                    "(No column name)": "10889"
                                },
                                {
                                    "szall_datum": "2016-10-13",
                                    "szall_mod": "NULL",
                                    "(No column name)": "10192"
                                },
                                {
                                    "szall_datum": "2016-10-14",
                                    "szall_mod": "NULL",
                                    "(No column name)": "7397"
                                },
                                {
                                    "szall_datum": "2016-10-15",
                                    "szall_mod": "NULL",
                                    "(No column name)": "7459"
                                },
                                {
                                    "szall_datum": "2016-10-16",
                                    "szall_mod": "NULL",
                                    "(No column name)": "7198"
                                },
                                {
                                    "szall_datum": "2016-10-17",
                                    "szall_mod": "NULL",
                                    "(No column name)": "11045"
                                },
                                {
                                    "szall_datum": "2016-10-18",
                                    "szall_mod": "NULL",
                                    "(No column name)": "7033"
                                },
                                {
                                    "szall_datum": "2016-10-19",
                                    "szall_mod": "NULL",
                                    "(No column name)": "9307"
                                },
                                {
                                    "szall_datum": "2016-10-20",
                                    "szall_mod": "NULL",
                                    "(No column name)": "6856"
                                },
                                {
                                    "szall_datum": "2016-10-21",
                                    "szall_mod": "NULL",
                                    "(No column name)": "9403"
                                },
                                {
                                    "szall_datum": "2016-10-22",
                                    "szall_mod": "NULL",
                                    "(No column name)": "8356"
                                },
                                {
                                    "szall_datum": "2016-10-23",
                                    "szall_mod": "NULL",
                                    "(No column name)": "9634"
                                },
                                {
                                    "szall_datum": "2016-10-24",
                                    "szall_mod": "NULL",
                                    "(No column name)": "4888"
                                },
                                {
                                    "szall_datum": "2016-10-25",
                                    "szall_mod": "NULL",
                                    "(No column name)": "11978"
                                },
                                {
                                    "szall_datum": "2016-10-26",
                                    "szall_mod": "NULL",
                                    "(No column name)": "8070"
                                },
                                {
                                    "szall_datum": "2016-10-27",
                                    "szall_mod": "NULL",
                                    "(No column name)": "7617"
                                },
                                {
                                    "szall_datum": "2016-10-28",
                                    "szall_mod": "NULL",
                                    "(No column name)": "7766"
                                },
                                {
                                    "szall_datum": "2016-10-29",
                                    "szall_mod": "NULL",
                                    "(No column name)": "6854"
                                },
                                {
                                    "szall_datum": "2016-10-30",
                                    "szall_mod": "NULL",
                                    "(No column name)": "11718"
                                },
                                {
                                    "szall_datum": "2016-10-31",
                                    "szall_mod": "NULL",
                                    "(No column name)": "8714"
                                },
                                {
                                    "szall_datum": "2016-11-01",
                                    "szall_mod": "NULL",
                                    "(No column name)": "7238"
                                },
                                {
                                    "szall_datum": "2016-11-02",
                                    "szall_mod": "NULL",
                                    "(No column name)": "5472"
                                },
                                {
                                    "szall_datum": "2016-11-03",
                                    "szall_mod": "NULL",
                                    "(No column name)": "7739"
                                },
                                {
                                    "szall_datum": "2016-11-04",
                                    "szall_mod": "NULL",
                                    "(No column name)": "6667"
                                },
                                {
                                    "szall_datum": "2016-11-05",
                                    "szall_mod": "NULL",
                                    "(No column name)": "9157"
                                },
                                {
                                    "szall_datum": "2016-11-06",
                                    "szall_mod": "NULL",
                                    "(No column name)": "8517"
                                },
                                {
                                    "szall_datum": "2016-11-07",
                                    "szall_mod": "NULL",
                                    "(No column name)": "6691"
                                },
                                {
                                    "szall_datum": "2016-11-08",
                                    "szall_mod": "NULL",
                                    "(No column name)": "8431"
                                },
                                {
                                    "szall_datum": "2016-11-09",
                                    "szall_mod": "NULL",
                                    "(No column name)": "5911"
                                },
                                {
                                    "szall_datum": "2016-11-10",
                                    "szall_mod": "NULL",
                                    "(No column name)": "6795"
                                },
                                {
                                    "szall_datum": "2016-11-11",
                                    "szall_mod": "NULL",
                                    "(No column name)": "6940"
                                },
                                {
                                    "szall_datum": "2016-11-12",
                                    "szall_mod": "NULL",
                                    "(No column name)": "10959"
                                },
                                {
                                    "szall_datum": "2016-11-13",
                                    "szall_mod": "NULL",
                                    "(No column name)": "10751"
                                },
                                {
                                    "szall_datum": "2016-11-14",
                                    "szall_mod": "NULL",
                                    "(No column name)": "11881"
                                },
                                {
                                    "szall_datum": "2016-11-15",
                                    "szall_mod": "NULL",
                                    "(No column name)": "6736"
                                },
                                {
                                    "szall_datum": "2016-11-16",
                                    "szall_mod": "NULL",
                                    "(No column name)": "8969"
                                },
                                {
                                    "szall_datum": "2016-11-17",
                                    "szall_mod": "NULL",
                                    "(No column name)": "6852"
                                },
                                {
                                    "szall_datum": "2016-11-18",
                                    "szall_mod": "NULL",
                                    "(No column name)": "6770"
                                },
                                {
                                    "szall_datum": "2016-11-19",
                                    "szall_mod": "NULL",
                                    "(No column name)": "7451"
                                },
                                {
                                    "szall_datum": "2016-11-20",
                                    "szall_mod": "NULL",
                                    "(No column name)": "7946"
                                },
                                {
                                    "szall_datum": "2016-11-21",
                                    "szall_mod": "NULL",
                                    "(No column name)": "6727"
                                },
                                {
                                    "szall_datum": "2016-11-22",
                                    "szall_mod": "NULL",
                                    "(No column name)": "7801"
                                },
                                {
                                    "szall_datum": "2016-11-23",
                                    "szall_mod": "NULL",
                                    "(No column name)": "7435"
                                },
                                {
                                    "szall_datum": "2016-11-24",
                                    "szall_mod": "NULL",
                                    "(No column name)": "5981"
                                },
                                {
                                    "szall_datum": "2016-11-25",
                                    "szall_mod": "NULL",
                                    "(No column name)": "6915"
                                },
                                {
                                    "szall_datum": "2016-11-26",
                                    "szall_mod": "NULL",
                                    "(No column name)": "9216"
                                },
                                {
                                    "szall_datum": "2016-11-27",
                                    "szall_mod": "NULL",
                                    "(No column name)": "9893"
                                },
                                {
                                    "szall_datum": "2016-11-28",
                                    "szall_mod": "NULL",
                                    "(No column name)": "9770"
                                },
                                {
                                    "szall_datum": "2016-11-29",
                                    "szall_mod": "NULL",
                                    "(No column name)": "8722"
                                },
                                {
                                    "szall_datum": "2016-11-30",
                                    "szall_mod": "NULL",
                                    "(No column name)": "6419"
                                },
                                {
                                    "szall_datum": "2016-12-01",
                                    "szall_mod": "NULL",
                                    "(No column name)": "9940"
                                },
                                {
                                    "szall_datum": "2016-12-02",
                                    "szall_mod": "NULL",
                                    "(No column name)": "4748"
                                },
                                {
                                    "szall_datum": "2016-12-03",
                                    "szall_mod": "NULL",
                                    "(No column name)": "6745"
                                },
                                {
                                    "szall_datum": "2016-12-04",
                                    "szall_mod": "NULL",
                                    "(No column name)": "9959"
                                },
                                {
                                    "szall_datum": "2016-12-05",
                                    "szall_mod": "NULL",
                                    "(No column name)": "8225"
                                },
                                {
                                    "szall_datum": "2016-12-06",
                                    "szall_mod": "NULL",
                                    "(No column name)": "7762"
                                },
                                {
                                    "szall_datum": "2016-12-07",
                                    "szall_mod": "NULL",
                                    "(No column name)": "7380"
                                },
                                {
                                    "szall_datum": "2016-12-08",
                                    "szall_mod": "NULL",
                                    "(No column name)": "7200"
                                },
                                {
                                    "szall_datum": "2016-12-09",
                                    "szall_mod": "NULL",
                                    "(No column name)": "9724"
                                },
                                {
                                    "szall_datum": "2016-12-10",
                                    "szall_mod": "NULL",
                                    "(No column name)": "7083"
                                },
                                {
                                    "szall_datum": "2016-12-11",
                                    "szall_mod": "NULL",
                                    "(No column name)": "7576"
                                },
                                {
                                    "szall_datum": "2016-12-12",
                                    "szall_mod": "NULL",
                                    "(No column name)": "8580"
                                },
                                {
                                    "szall_datum": "2016-12-13",
                                    "szall_mod": "NULL",
                                    "(No column name)": "8233"
                                },
                                {
                                    "szall_datum": "2016-12-14",
                                    "szall_mod": "NULL",
                                    "(No column name)": "6268"
                                },
                                {
                                    "szall_datum": "2016-12-15",
                                    "szall_mod": "NULL",
                                    "(No column name)": "7392"
                                },
                                {
                                    "szall_datum": "2016-12-16",
                                    "szall_mod": "NULL",
                                    "(No column name)": "6407"
                                },
                                {
                                    "szall_datum": "2016-12-17",
                                    "szall_mod": "NULL",
                                    "(No column name)": "7555"
                                },
                                {
                                    "szall_datum": "2016-12-18",
                                    "szall_mod": "NULL",
                                    "(No column name)": "6070"
                                },
                                {
                                    "szall_datum": "2016-12-19",
                                    "szall_mod": "NULL",
                                    "(No column name)": "5390"
                                },
                                {
                                    "szall_datum": "2016-12-20",
                                    "szall_mod": "NULL",
                                    "(No column name)": "7735"
                                },
                                {
                                    "szall_datum": "2016-12-21",
                                    "szall_mod": "NULL",
                                    "(No column name)": "10434"
                                },
                                {
                                    "szall_datum": "2016-12-22",
                                    "szall_mod": "NULL",
                                    "(No column name)": "5465"
                                },
                                {
                                    "szall_datum": "2016-12-23",
                                    "szall_mod": "NULL",
                                    "(No column name)": "8338"
                                },
                                {
                                    "szall_datum": "2016-12-24",
                                    "szall_mod": "NULL",
                                    "(No column name)": "5916"
                                },
                                {
                                    "szall_datum": "2016-12-25",
                                    "szall_mod": "NULL",
                                    "(No column name)": "7345"
                                },
                                {
                                    "szall_datum": "2016-12-26",
                                    "szall_mod": "NULL",
                                    "(No column name)": "9875"
                                },
                                {
                                    "szall_datum": "2016-12-27",
                                    "szall_mod": "NULL",
                                    "(No column name)": "10216"
                                },
                                {
                                    "szall_datum": "2016-12-28",
                                    "szall_mod": "NULL",
                                    "(No column name)": "6222"
                                },
                                {
                                    "szall_datum": "2016-12-29",
                                    "szall_mod": "NULL",
                                    "(No column name)": "10046"
                                },
                                {
                                    "szall_datum": "2016-12-30",
                                    "szall_mod": "NULL",
                                    "(No column name)": "7113"
                                },
                                {
                                    "szall_datum": "2016-12-31",
                                    "szall_mod": "NULL",
                                    "(No column name)": "7188"
                                },
                                {
                                    "szall_datum": "2017-01-01",
                                    "szall_mod": "NULL",
                                    "(No column name)": "7200"
                                },
                                {
                                    "szall_datum": "2017-01-02",
                                    "szall_mod": "NULL",
                                    "(No column name)": "7425"
                                },
                                {
                                    "szall_datum": "2017-01-03",
                                    "szall_mod": "NULL",
                                    "(No column name)": "6783"
                                },
                                {
                                    "szall_datum": "2017-01-04",
                                    "szall_mod": "NULL",
                                    "(No column name)": "7465"
                                },
                                {
                                    "szall_datum": "2017-01-05",
                                    "szall_mod": "NULL",
                                    "(No column name)": "7591"
                                },
                                {
                                    "szall_datum": "2017-01-06",
                                    "szall_mod": "NULL",
                                    "(No column name)": "8298"
                                },
                                {
                                    "szall_datum": "2017-01-07",
                                    "szall_mod": "NULL",
                                    "(No column name)": "8976"
                                },
                                {
                                    "szall_datum": "2017-01-08",
                                    "szall_mod": "NULL",
                                    "(No column name)": "7179"
                                },
                                {
                                    "szall_datum": "2017-01-09",
                                    "szall_mod": "NULL",
                                    "(No column name)": "9465"
                                },
                                {
                                    "szall_datum": "2017-01-10",
                                    "szall_mod": "NULL",
                                    "(No column name)": "8667"
                                },
                                {
                                    "szall_datum": "2017-01-11",
                                    "szall_mod": "NULL",
                                    "(No column name)": "9472"
                                },
                                {
                                    "szall_datum": "2017-01-12",
                                    "szall_mod": "NULL",
                                    "(No column name)": "7636"
                                },
                                {
                                    "szall_datum": "2017-01-13",
                                    "szall_mod": "NULL",
                                    "(No column name)": "7538"
                                },
                                {
                                    "szall_datum": "2017-01-14",
                                    "szall_mod": "NULL",
                                    "(No column name)": "8920"
                                },
                                {
                                    "szall_datum": "2017-01-15",
                                    "szall_mod": "NULL",
                                    "(No column name)": "7611"
                                },
                                {
                                    "szall_datum": "2017-01-16",
                                    "szall_mod": "NULL",
                                    "(No column name)": "7369"
                                },
                                {
                                    "szall_datum": "2017-01-17",
                                    "szall_mod": "NULL",
                                    "(No column name)": "8658"
                                },
                                {
                                    "szall_datum": "2017-01-18",
                                    "szall_mod": "NULL",
                                    "(No column name)": "6558"
                                },
                                {
                                    "szall_datum": "2017-01-19",
                                    "szall_mod": "NULL",
                                    "(No column name)": "6422"
                                },
                                {
                                    "szall_datum": "2017-01-20",
                                    "szall_mod": "NULL",
                                    "(No column name)": "6450"
                                },
                                {
                                    "szall_datum": "2017-01-21",
                                    "szall_mod": "NULL",
                                    "(No column name)": "7150"
                                },
                                {
                                    "szall_datum": "2017-01-22",
                                    "szall_mod": "NULL",
                                    "(No column name)": "8199"
                                },
                                {
                                    "szall_datum": "2017-01-23",
                                    "szall_mod": "NULL",
                                    "(No column name)": "8394"
                                },
                                {
                                    "szall_datum": "2017-01-24",
                                    "szall_mod": "NULL",
                                    "(No column name)": "8615"
                                },
                                {
                                    "szall_datum": "2017-01-25",
                                    "szall_mod": "NULL",
                                    "(No column name)": "6484"
                                },
                                {
                                    "szall_datum": "2017-01-26",
                                    "szall_mod": "NULL",
                                    "(No column name)": "9426"
                                },
                                {
                                    "szall_datum": "2017-01-27",
                                    "szall_mod": "NULL",
                                    "(No column name)": "5418"
                                },
                                {
                                    "szall_datum": "2017-01-28",
                                    "szall_mod": "NULL",
                                    "(No column name)": "8401"
                                },
                                {
                                    "szall_datum": "2017-01-29",
                                    "szall_mod": "NULL",
                                    "(No column name)": "8997"
                                },
                                {
                                    "szall_datum": "2017-01-30",
                                    "szall_mod": "NULL",
                                    "(No column name)": "9661"
                                },
                                {
                                    "szall_datum": "2017-01-31",
                                    "szall_mod": "NULL",
                                    "(No column name)": "6253"
                                },
                                {
                                    "szall_datum": "2017-02-01",
                                    "szall_mod": "NULL",
                                    "(No column name)": "5703"
                                },
                                {
                                    "szall_datum": "2017-02-02",
                                    "szall_mod": "NULL",
                                    "(No column name)": "8746"
                                },
                                {
                                    "szall_datum": "2017-02-03",
                                    "szall_mod": "NULL",
                                    "(No column name)": "7840"
                                },
                                {
                                    "szall_datum": "2017-02-04",
                                    "szall_mod": "NULL",
                                    "(No column name)": "6220"
                                },
                                {
                                    "szall_datum": "2017-02-05",
                                    "szall_mod": "NULL",
                                    "(No column name)": "5138"
                                },
                                {
                                    "szall_datum": "2017-02-06",
                                    "szall_mod": "NULL",
                                    "(No column name)": "8206"
                                },
                                {
                                    "szall_datum": "2017-02-07",
                                    "szall_mod": "NULL",
                                    "(No column name)": "6846"
                                },
                                {
                                    "szall_datum": "2017-02-08",
                                    "szall_mod": "NULL",
                                    "(No column name)": "10057"
                                },
                                {
                                    "szall_datum": "2017-02-09",
                                    "szall_mod": "NULL",
                                    "(No column name)": "8302"
                                },
                                {
                                    "szall_datum": "2017-02-10",
                                    "szall_mod": "NULL",
                                    "(No column name)": "8964"
                                },
                                {
                                    "szall_datum": "2017-02-11",
                                    "szall_mod": "NULL",
                                    "(No column name)": "8790"
                                },
                                {
                                    "szall_datum": "2017-02-12",
                                    "szall_mod": "NULL",
                                    "(No column name)": "6268"
                                },
                                {
                                    "szall_datum": "2017-02-13",
                                    "szall_mod": "NULL",
                                    "(No column name)": "8176"
                                },
                                {
                                    "szall_datum": "2017-02-14",
                                    "szall_mod": "NULL",
                                    "(No column name)": "10029"
                                },
                                {
                                    "szall_datum": "2017-02-15",
                                    "szall_mod": "NULL",
                                    "(No column name)": "6443"
                                },
                                {
                                    "szall_datum": "2017-02-16",
                                    "szall_mod": "NULL",
                                    "(No column name)": "8794"
                                },
                                {
                                    "szall_datum": "2017-02-17",
                                    "szall_mod": "NULL",
                                    "(No column name)": "9808"
                                },
                                {
                                    "szall_datum": "2017-02-18",
                                    "szall_mod": "NULL",
                                    "(No column name)": "10757"
                                },
                                {
                                    "szall_datum": "2017-02-19",
                                    "szall_mod": "NULL",
                                    "(No column name)": "8284"
                                },
                                {
                                    "szall_datum": "2017-02-20",
                                    "szall_mod": "NULL",
                                    "(No column name)": "5660"
                                },
                                {
                                    "szall_datum": "2017-02-21",
                                    "szall_mod": "NULL",
                                    "(No column name)": "8878"
                                },
                                {
                                    "szall_datum": "2017-02-22",
                                    "szall_mod": "NULL",
                                    "(No column name)": "9034"
                                },
                                {
                                    "szall_datum": "2017-02-23",
                                    "szall_mod": "NULL",
                                    "(No column name)": "7574"
                                },
                                {
                                    "szall_datum": "2017-02-24",
                                    "szall_mod": "NULL",
                                    "(No column name)": "6814"
                                },
                                {
                                    "szall_datum": "2017-02-25",
                                    "szall_mod": "NULL",
                                    "(No column name)": "6820"
                                },
                                {
                                    "szall_datum": "2017-02-26",
                                    "szall_mod": "NULL",
                                    "(No column name)": "8578"
                                },
                                {
                                    "szall_datum": "2017-02-27",
                                    "szall_mod": "NULL",
                                    "(No column name)": "9185"
                                },
                                {
                                    "szall_datum": "2017-02-28",
                                    "szall_mod": "NULL",
                                    "(No column name)": "11649"
                                },
                                {
                                    "szall_datum": "2017-03-01",
                                    "szall_mod": "NULL",
                                    "(No column name)": "5037"
                                },
                                {
                                    "szall_datum": "2017-03-02",
                                    "szall_mod": "NULL",
                                    "(No column name)": "4861"
                                },
                                {
                                    "szall_datum": "2017-03-03",
                                    "szall_mod": "NULL",
                                    "(No column name)": "7585"
                                },
                                {
                                    "szall_datum": "2017-03-04",
                                    "szall_mod": "NULL",
                                    "(No column name)": "5977"
                                },
                                {
                                    "szall_datum": "2017-03-05",
                                    "szall_mod": "NULL",
                                    "(No column name)": "10338"
                                },
                                {
                                    "szall_datum": "2017-03-06",
                                    "szall_mod": "NULL",
                                    "(No column name)": "10916"
                                },
                                {
                                    "szall_datum": "2017-03-07",
                                    "szall_mod": "NULL",
                                    "(No column name)": "8747"
                                },
                                {
                                    "szall_datum": "2017-03-08",
                                    "szall_mod": "NULL",
                                    "(No column name)": "6837"
                                },
                                {
                                    "szall_datum": "2017-03-09",
                                    "szall_mod": "NULL",
                                    "(No column name)": "6964"
                                },
                                {
                                    "szall_datum": "2017-03-10",
                                    "szall_mod": "NULL",
                                    "(No column name)": "6846"
                                },
                                {
                                    "szall_datum": "2017-03-11",
                                    "szall_mod": "NULL",
                                    "(No column name)": "6885"
                                },
                                {
                                    "szall_datum": "2017-03-12",
                                    "szall_mod": "NULL",
                                    "(No column name)": "5941"
                                },
                                {
                                    "szall_datum": "2017-03-13",
                                    "szall_mod": "NULL",
                                    "(No column name)": "6950"
                                },
                                {
                                    "szall_datum": "2017-03-14",
                                    "szall_mod": "NULL",
                                    "(No column name)": "7224"
                                },
                                {
                                    "szall_datum": "2017-03-15",
                                    "szall_mod": "NULL",
                                    "(No column name)": "9718"
                                },
                                {
                                    "szall_datum": "2017-03-16",
                                    "szall_mod": "NULL",
                                    "(No column name)": "9763"
                                },
                                {
                                    "szall_datum": "2017-03-17",
                                    "szall_mod": "NULL",
                                    "(No column name)": "8908"
                                },
                                {
                                    "szall_datum": "2017-03-18",
                                    "szall_mod": "NULL",
                                    "(No column name)": "9344"
                                },
                                {
                                    "szall_datum": "2017-03-19",
                                    "szall_mod": "NULL",
                                    "(No column name)": "9937"
                                },
                                {
                                    "szall_datum": "2017-03-20",
                                    "szall_mod": "NULL",
                                    "(No column name)": "7683"
                                },
                                {
                                    "szall_datum": "2017-03-21",
                                    "szall_mod": "NULL",
                                    "(No column name)": "8639"
                                },
                                {
                                    "szall_datum": "2017-03-22",
                                    "szall_mod": "NULL",
                                    "(No column name)": "6526"
                                },
                                {
                                    "szall_datum": "2017-03-23",
                                    "szall_mod": "NULL",
                                    "(No column name)": "8799"
                                },
                                {
                                    "szall_datum": "2017-03-24",
                                    "szall_mod": "NULL",
                                    "(No column name)": "7416"
                                },
                                {
                                    "szall_datum": "2017-03-25",
                                    "szall_mod": "NULL",
                                    "(No column name)": "6272"
                                },
                                {
                                    "szall_datum": "2017-03-26",
                                    "szall_mod": "NULL",
                                    "(No column name)": "7786"
                                },
                                {
                                    "szall_datum": "2017-03-27",
                                    "szall_mod": "NULL",
                                    "(No column name)": "7715"
                                },
                                {
                                    "szall_datum": "2017-03-28",
                                    "szall_mod": "NULL",
                                    "(No column name)": "8568"
                                },
                                {
                                    "szall_datum": "2017-03-29",
                                    "szall_mod": "NULL",
                                    "(No column name)": "8346"
                                },
                                {
                                    "szall_datum": "2017-03-30",
                                    "szall_mod": "NULL",
                                    "(No column name)": "8513"
                                },
                                {
                                    "szall_datum": "2017-03-31",
                                    "szall_mod": "NULL",
                                    "(No column name)": "8598"
                                },
                                {
                                    "szall_datum": "2017-04-01",
                                    "szall_mod": "NULL",
                                    "(No column name)": "7307"
                                },
                                {
                                    "szall_datum": "2017-04-02",
                                    "szall_mod": "NULL",
                                    "(No column name)": "9477"
                                },
                                {
                                    "szall_datum": "2017-04-03",
                                    "szall_mod": "NULL",
                                    "(No column name)": "6042"
                                },
                                {
                                    "szall_datum": "2017-04-04",
                                    "szall_mod": "NULL",
                                    "(No column name)": "7493"
                                },
                                {
                                    "szall_datum": "2017-04-05",
                                    "szall_mod": "NULL",
                                    "(No column name)": "7562"
                                },
                                {
                                    "szall_datum": "2017-04-06",
                                    "szall_mod": "NULL",
                                    "(No column name)": "4646"
                                },
                                {
                                    "szall_datum": "2017-04-07",
                                    "szall_mod": "NULL",
                                    "(No column name)": "5197"
                                },
                                {
                                    "szall_datum": "2017-04-08",
                                    "szall_mod": "NULL",
                                    "(No column name)": "3057"
                                },
                                {
                                    "szall_datum": "2017-04-09",
                                    "szall_mod": "NULL",
                                    "(No column name)": "3870"
                                },
                                {
                                    "szall_datum": "2017-04-10",
                                    "szall_mod": "NULL",
                                    "(No column name)": "1640"
                                },
                                {
                                    "szall_datum": "2017-04-11",
                                    "szall_mod": "NULL",
                                    "(No column name)": "1220"
                                },
                                {
                                    "szall_datum": "NULL",
                                    "szall_mod": "NULL",
                                    "(No column name)": "5578316"
                                }
                            ]
                        },
                        "text/html": [
                            "<table>",
                            "<tr><th>szall_datum</th><th>szall_mod</th><th>(No column name)</th></tr>",
                            "<tr><td>2015-05-03</td><td>NULL</td><td>100</td></tr>",
                            "<tr><td>2015-05-04</td><td>NULL</td><td>996</td></tr>",
                            "<tr><td>2015-05-05</td><td>NULL</td><td>3152</td></tr>",
                            "<tr><td>2015-05-06</td><td>NULL</td><td>5030</td></tr>",
                            "<tr><td>2015-05-07</td><td>NULL</td><td>3828</td></tr>",
                            "<tr><td>2015-05-08</td><td>NULL</td><td>3213</td></tr>",
                            "<tr><td>2015-05-09</td><td>NULL</td><td>6665</td></tr>",
                            "<tr><td>2015-05-10</td><td>NULL</td><td>6909</td></tr>",
                            "<tr><td>2015-05-11</td><td>NULL</td><td>6224</td></tr>",
                            "<tr><td>2015-05-12</td><td>NULL</td><td>7568</td></tr>",
                            "<tr><td>2015-05-13</td><td>NULL</td><td>7985</td></tr>",
                            "<tr><td>2015-05-14</td><td>NULL</td><td>9706</td></tr>",
                            "<tr><td>2015-05-15</td><td>NULL</td><td>7400</td></tr>",
                            "<tr><td>2015-05-16</td><td>NULL</td><td>7897</td></tr>",
                            "<tr><td>2015-05-17</td><td>NULL</td><td>4572</td></tr>",
                            "<tr><td>2015-05-18</td><td>NULL</td><td>8190</td></tr>",
                            "<tr><td>2015-05-19</td><td>NULL</td><td>7248</td></tr>",
                            "<tr><td>2015-05-20</td><td>NULL</td><td>9859</td></tr>",
                            "<tr><td>2015-05-21</td><td>NULL</td><td>8041</td></tr>",
                            "<tr><td>2015-05-22</td><td>NULL</td><td>8338</td></tr>",
                            "<tr><td>2015-05-23</td><td>NULL</td><td>5616</td></tr>",
                            "<tr><td>2015-05-24</td><td>NULL</td><td>5001</td></tr>",
                            "<tr><td>2015-05-25</td><td>NULL</td><td>7611</td></tr>",
                            "<tr><td>2015-05-26</td><td>NULL</td><td>7153</td></tr>",
                            "<tr><td>2015-05-27</td><td>NULL</td><td>8300</td></tr>",
                            "<tr><td>2015-05-28</td><td>NULL</td><td>9340</td></tr>",
                            "<tr><td>2015-05-29</td><td>NULL</td><td>10784</td></tr>",
                            "<tr><td>2015-05-30</td><td>NULL</td><td>7763</td></tr>",
                            "<tr><td>2015-05-31</td><td>NULL</td><td>4364</td></tr>",
                            "<tr><td>2015-06-01</td><td>NULL</td><td>6947</td></tr>",
                            "<tr><td>2015-06-02</td><td>NULL</td><td>6241</td></tr>",
                            "<tr><td>2015-06-03</td><td>NULL</td><td>9359</td></tr>",
                            "<tr><td>2015-06-04</td><td>NULL</td><td>8474</td></tr>",
                            "<tr><td>2015-06-05</td><td>NULL</td><td>8961</td></tr>",
                            "<tr><td>2015-06-06</td><td>NULL</td><td>9510</td></tr>",
                            "<tr><td>2015-06-07</td><td>NULL</td><td>7956</td></tr>",
                            "<tr><td>2015-06-08</td><td>NULL</td><td>4277</td></tr>",
                            "<tr><td>2015-06-09</td><td>NULL</td><td>7132</td></tr>",
                            "<tr><td>2015-06-10</td><td>NULL</td><td>9346</td></tr>",
                            "<tr><td>2015-06-11</td><td>NULL</td><td>5191</td></tr>",
                            "<tr><td>2015-06-12</td><td>NULL</td><td>7336</td></tr>",
                            "<tr><td>2015-06-13</td><td>NULL</td><td>7818</td></tr>",
                            "<tr><td>2015-06-14</td><td>NULL</td><td>6484</td></tr>",
                            "<tr><td>2015-06-15</td><td>NULL</td><td>7796</td></tr>",
                            "<tr><td>2015-06-16</td><td>NULL</td><td>4307</td></tr>",
                            "<tr><td>2015-06-17</td><td>NULL</td><td>8645</td></tr>",
                            "<tr><td>2015-06-18</td><td>NULL</td><td>10077</td></tr>",
                            "<tr><td>2015-06-19</td><td>NULL</td><td>5675</td></tr>",
                            "<tr><td>2015-06-20</td><td>NULL</td><td>7859</td></tr>",
                            "<tr><td>2015-06-21</td><td>NULL</td><td>6627</td></tr>",
                            "<tr><td>2015-06-22</td><td>NULL</td><td>9084</td></tr>",
                            "<tr><td>2015-06-23</td><td>NULL</td><td>8869</td></tr>",
                            "<tr><td>2015-06-24</td><td>NULL</td><td>4993</td></tr>",
                            "<tr><td>2015-06-25</td><td>NULL</td><td>8165</td></tr>",
                            "<tr><td>2015-06-26</td><td>NULL</td><td>10834</td></tr>",
                            "<tr><td>2015-06-27</td><td>NULL</td><td>6396</td></tr>",
                            "<tr><td>2015-06-28</td><td>NULL</td><td>6803</td></tr>",
                            "<tr><td>2015-06-29</td><td>NULL</td><td>7435</td></tr>",
                            "<tr><td>2015-06-30</td><td>NULL</td><td>8526</td></tr>",
                            "<tr><td>2015-07-01</td><td>NULL</td><td>6032</td></tr>",
                            "<tr><td>2015-07-02</td><td>NULL</td><td>7066</td></tr>",
                            "<tr><td>2015-07-03</td><td>NULL</td><td>6359</td></tr>",
                            "<tr><td>2015-07-04</td><td>NULL</td><td>8739</td></tr>",
                            "<tr><td>2015-07-05</td><td>NULL</td><td>8558</td></tr>",
                            "<tr><td>2015-07-06</td><td>NULL</td><td>8389</td></tr>",
                            "<tr><td>2015-07-07</td><td>NULL</td><td>9522</td></tr>",
                            "<tr><td>2015-07-08</td><td>NULL</td><td>6395</td></tr>",
                            "<tr><td>2015-07-09</td><td>NULL</td><td>7375</td></tr>",
                            "<tr><td>2015-07-10</td><td>NULL</td><td>7676</td></tr>",
                            "<tr><td>2015-07-11</td><td>NULL</td><td>7366</td></tr>",
                            "<tr><td>2015-07-12</td><td>NULL</td><td>8638</td></tr>",
                            "<tr><td>2015-07-13</td><td>NULL</td><td>8300</td></tr>",
                            "<tr><td>2015-07-14</td><td>NULL</td><td>6340</td></tr>",
                            "<tr><td>2015-07-15</td><td>NULL</td><td>8615</td></tr>",
                            "<tr><td>2015-07-16</td><td>NULL</td><td>7041</td></tr>",
                            "<tr><td>2015-07-17</td><td>NULL</td><td>7327</td></tr>",
                            "<tr><td>2015-07-18</td><td>NULL</td><td>6762</td></tr>",
                            "<tr><td>2015-07-19</td><td>NULL</td><td>6776</td></tr>",
                            "<tr><td>2015-07-20</td><td>NULL</td><td>9748</td></tr>",
                            "<tr><td>2015-07-21</td><td>NULL</td><td>9805</td></tr>",
                            "<tr><td>2015-07-22</td><td>NULL</td><td>5140</td></tr>",
                            "<tr><td>2015-07-23</td><td>NULL</td><td>7258</td></tr>",
                            "<tr><td>2015-07-24</td><td>NULL</td><td>8697</td></tr>",
                            "<tr><td>2015-07-25</td><td>NULL</td><td>8180</td></tr>",
                            "<tr><td>2015-07-26</td><td>NULL</td><td>9323</td></tr>",
                            "<tr><td>2015-07-27</td><td>NULL</td><td>5417</td></tr>",
                            "<tr><td>2015-07-28</td><td>NULL</td><td>7825</td></tr>",
                            "<tr><td>2015-07-29</td><td>NULL</td><td>6405</td></tr>",
                            "<tr><td>2015-07-30</td><td>NULL</td><td>10029</td></tr>",
                            "<tr><td>2015-07-31</td><td>NULL</td><td>8673</td></tr>",
                            "<tr><td>2015-08-01</td><td>NULL</td><td>9957</td></tr>",
                            "<tr><td>2015-08-02</td><td>NULL</td><td>7599</td></tr>",
                            "<tr><td>2015-08-03</td><td>NULL</td><td>9208</td></tr>",
                            "<tr><td>2015-08-04</td><td>NULL</td><td>9353</td></tr>",
                            "<tr><td>2015-08-05</td><td>NULL</td><td>10342</td></tr>",
                            "<tr><td>2015-08-06</td><td>NULL</td><td>5124</td></tr>",
                            "<tr><td>2015-08-07</td><td>NULL</td><td>8960</td></tr>",
                            "<tr><td>2015-08-08</td><td>NULL</td><td>10296</td></tr>",
                            "<tr><td>2015-08-09</td><td>NULL</td><td>6026</td></tr>",
                            "<tr><td>2015-08-10</td><td>NULL</td><td>7896</td></tr>",
                            "<tr><td>2015-08-11</td><td>NULL</td><td>9008</td></tr>",
                            "<tr><td>2015-08-12</td><td>NULL</td><td>7605</td></tr>",
                            "<tr><td>2015-08-13</td><td>NULL</td><td>9380</td></tr>",
                            "<tr><td>2015-08-14</td><td>NULL</td><td>9780</td></tr>",
                            "<tr><td>2015-08-15</td><td>NULL</td><td>7514</td></tr>",
                            "<tr><td>2015-08-16</td><td>NULL</td><td>5341</td></tr>",
                            "<tr><td>2015-08-17</td><td>NULL</td><td>7162</td></tr>",
                            "<tr><td>2015-08-18</td><td>NULL</td><td>6271</td></tr>",
                            "<tr><td>2015-08-19</td><td>NULL</td><td>6650</td></tr>",
                            "<tr><td>2015-08-20</td><td>NULL</td><td>9005</td></tr>",
                            "<tr><td>2015-08-21</td><td>NULL</td><td>6874</td></tr>",
                            "<tr><td>2015-08-22</td><td>NULL</td><td>10138</td></tr>",
                            "<tr><td>2015-08-23</td><td>NULL</td><td>6734</td></tr>",
                            "<tr><td>2015-08-24</td><td>NULL</td><td>7767</td></tr>",
                            "<tr><td>2015-08-25</td><td>NULL</td><td>9206</td></tr>",
                            "<tr><td>2015-08-26</td><td>NULL</td><td>11006</td></tr>",
                            "<tr><td>2015-08-27</td><td>NULL</td><td>6244</td></tr>",
                            "<tr><td>2015-08-28</td><td>NULL</td><td>8145</td></tr>",
                            "<tr><td>2015-08-29</td><td>NULL</td><td>7380</td></tr>",
                            "<tr><td>2015-08-30</td><td>NULL</td><td>9727</td></tr>",
                            "<tr><td>2015-08-31</td><td>NULL</td><td>7226</td></tr>",
                            "<tr><td>2015-09-01</td><td>NULL</td><td>9466</td></tr>",
                            "<tr><td>2015-09-02</td><td>NULL</td><td>6179</td></tr>",
                            "<tr><td>2015-09-03</td><td>NULL</td><td>9949</td></tr>",
                            "<tr><td>2015-09-04</td><td>NULL</td><td>10432</td></tr>",
                            "<tr><td>2015-09-05</td><td>NULL</td><td>7083</td></tr>",
                            "<tr><td>2015-09-06</td><td>NULL</td><td>8378</td></tr>",
                            "<tr><td>2015-09-07</td><td>NULL</td><td>8303</td></tr>",
                            "<tr><td>2015-09-08</td><td>NULL</td><td>8349</td></tr>",
                            "<tr><td>2015-09-09</td><td>NULL</td><td>7985</td></tr>",
                            "<tr><td>2015-09-10</td><td>NULL</td><td>10353</td></tr>",
                            "<tr><td>2015-09-11</td><td>NULL</td><td>9284</td></tr>",
                            "<tr><td>2015-09-12</td><td>NULL</td><td>8553</td></tr>",
                            "<tr><td>2015-09-13</td><td>NULL</td><td>7435</td></tr>",
                            "<tr><td>2015-09-14</td><td>NULL</td><td>8232</td></tr>",
                            "<tr><td>2015-09-15</td><td>NULL</td><td>4776</td></tr>",
                            "<tr><td>2015-09-16</td><td>NULL</td><td>7416</td></tr>",
                            "<tr><td>2015-09-17</td><td>NULL</td><td>8358</td></tr>",
                            "<tr><td>2015-09-18</td><td>NULL</td><td>7210</td></tr>",
                            "<tr><td>2015-09-19</td><td>NULL</td><td>8267</td></tr>",
                            "<tr><td>2015-09-20</td><td>NULL</td><td>10001</td></tr>",
                            "<tr><td>2015-09-21</td><td>NULL</td><td>7086</td></tr>",
                            "<tr><td>2015-09-22</td><td>NULL</td><td>7424</td></tr>",
                            "<tr><td>2015-09-23</td><td>NULL</td><td>8183</td></tr>",
                            "<tr><td>2015-09-24</td><td>NULL</td><td>10252</td></tr>",
                            "<tr><td>2015-09-25</td><td>NULL</td><td>8106</td></tr>",
                            "<tr><td>2015-09-26</td><td>NULL</td><td>9451</td></tr>",
                            "<tr><td>2015-09-27</td><td>NULL</td><td>8692</td></tr>",
                            "<tr><td>2015-09-28</td><td>NULL</td><td>10281</td></tr>",
                            "<tr><td>2015-09-29</td><td>NULL</td><td>9481</td></tr>",
                            "<tr><td>2015-09-30</td><td>NULL</td><td>5900</td></tr>",
                            "<tr><td>2015-10-01</td><td>NULL</td><td>9384</td></tr>",
                            "<tr><td>2015-10-02</td><td>NULL</td><td>5674</td></tr>",
                            "<tr><td>2015-10-03</td><td>NULL</td><td>8509</td></tr>",
                            "<tr><td>2015-10-04</td><td>NULL</td><td>7645</td></tr>",
                            "<tr><td>2015-10-05</td><td>NULL</td><td>8535</td></tr>",
                            "<tr><td>2015-10-06</td><td>NULL</td><td>7529</td></tr>",
                            "<tr><td>2015-10-07</td><td>NULL</td><td>9435</td></tr>",
                            "<tr><td>2015-10-08</td><td>NULL</td><td>7319</td></tr>",
                            "<tr><td>2015-10-09</td><td>NULL</td><td>8931</td></tr>",
                            "<tr><td>2015-10-10</td><td>NULL</td><td>7928</td></tr>",
                            "<tr><td>2015-10-11</td><td>NULL</td><td>7516</td></tr>",
                            "<tr><td>2015-10-12</td><td>NULL</td><td>9355</td></tr>",
                            "<tr><td>2015-10-13</td><td>NULL</td><td>6564</td></tr>",
                            "<tr><td>2015-10-14</td><td>NULL</td><td>7035</td></tr>",
                            "<tr><td>2015-10-15</td><td>NULL</td><td>9269</td></tr>",
                            "<tr><td>2015-10-16</td><td>NULL</td><td>8427</td></tr>",
                            "<tr><td>2015-10-17</td><td>NULL</td><td>6936</td></tr>",
                            "<tr><td>2015-10-18</td><td>NULL</td><td>8671</td></tr>",
                            "<tr><td>2015-10-19</td><td>NULL</td><td>7207</td></tr>",
                            "<tr><td>2015-10-20</td><td>NULL</td><td>8613</td></tr>",
                            "<tr><td>2015-10-21</td><td>NULL</td><td>7366</td></tr>",
                            "<tr><td>2015-10-22</td><td>NULL</td><td>6678</td></tr>",
                            "<tr><td>2015-10-23</td><td>NULL</td><td>8056</td></tr>",
                            "<tr><td>2015-10-24</td><td>NULL</td><td>7233</td></tr>",
                            "<tr><td>2015-10-25</td><td>NULL</td><td>9107</td></tr>",
                            "<tr><td>2015-10-26</td><td>NULL</td><td>9776</td></tr>",
                            "<tr><td>2015-10-27</td><td>NULL</td><td>7669</td></tr>",
                            "<tr><td>2015-10-28</td><td>NULL</td><td>7522</td></tr>",
                            "<tr><td>2015-10-29</td><td>NULL</td><td>6971</td></tr>",
                            "<tr><td>2015-10-30</td><td>NULL</td><td>8999</td></tr>",
                            "<tr><td>2015-10-31</td><td>NULL</td><td>7046</td></tr>",
                            "<tr><td>2015-11-01</td><td>NULL</td><td>6171</td></tr>",
                            "<tr><td>2015-11-02</td><td>NULL</td><td>7612</td></tr>",
                            "<tr><td>2015-11-03</td><td>NULL</td><td>11533</td></tr>",
                            "<tr><td>2015-11-04</td><td>NULL</td><td>5352</td></tr>",
                            "<tr><td>2015-11-05</td><td>NULL</td><td>7183</td></tr>",
                            "<tr><td>2015-11-06</td><td>NULL</td><td>8606</td></tr>",
                            "<tr><td>2015-11-07</td><td>NULL</td><td>7260</td></tr>",
                            "<tr><td>2015-11-08</td><td>NULL</td><td>8177</td></tr>",
                            "<tr><td>2015-11-09</td><td>NULL</td><td>8431</td></tr>",
                            "<tr><td>2015-11-10</td><td>NULL</td><td>8329</td></tr>",
                            "<tr><td>2015-11-11</td><td>NULL</td><td>8191</td></tr>",
                            "<tr><td>2015-11-12</td><td>NULL</td><td>5884</td></tr>",
                            "<tr><td>2015-11-13</td><td>NULL</td><td>7359</td></tr>",
                            "<tr><td>2015-11-14</td><td>NULL</td><td>7730</td></tr>",
                            "<tr><td>2015-11-15</td><td>NULL</td><td>6881</td></tr>",
                            "<tr><td>2015-11-16</td><td>NULL</td><td>7721</td></tr>",
                            "<tr><td>2015-11-17</td><td>NULL</td><td>7234</td></tr>",
                            "<tr><td>2015-11-18</td><td>NULL</td><td>8321</td></tr>",
                            "<tr><td>2015-11-19</td><td>NULL</td><td>7582</td></tr>",
                            "<tr><td>2015-11-20</td><td>NULL</td><td>6288</td></tr>",
                            "<tr><td>2015-11-21</td><td>NULL</td><td>6657</td></tr>",
                            "<tr><td>2015-11-22</td><td>NULL</td><td>8640</td></tr>",
                            "<tr><td>2015-11-23</td><td>NULL</td><td>7363</td></tr>",
                            "<tr><td>2015-11-24</td><td>NULL</td><td>7556</td></tr>",
                            "<tr><td>2015-11-25</td><td>NULL</td><td>7103</td></tr>",
                            "<tr><td>2015-11-26</td><td>NULL</td><td>8368</td></tr>",
                            "<tr><td>2015-11-27</td><td>NULL</td><td>6865</td></tr>",
                            "<tr><td>2015-11-28</td><td>NULL</td><td>10098</td></tr>",
                            "<tr><td>2015-11-29</td><td>NULL</td><td>7636</td></tr>",
                            "<tr><td>2015-11-30</td><td>NULL</td><td>7182</td></tr>",
                            "<tr><td>2015-12-01</td><td>NULL</td><td>7314</td></tr>",
                            "<tr><td>2015-12-02</td><td>NULL</td><td>9592</td></tr>",
                            "<tr><td>2015-12-03</td><td>NULL</td><td>8829</td></tr>",
                            "<tr><td>2015-12-04</td><td>NULL</td><td>8013</td></tr>",
                            "<tr><td>2015-12-05</td><td>NULL</td><td>8887</td></tr>",
                            "<tr><td>2015-12-06</td><td>NULL</td><td>5596</td></tr>",
                            "<tr><td>2015-12-07</td><td>NULL</td><td>8825</td></tr>",
                            "<tr><td>2015-12-08</td><td>NULL</td><td>7819</td></tr>",
                            "<tr><td>2015-12-09</td><td>NULL</td><td>7897</td></tr>",
                            "<tr><td>2015-12-10</td><td>NULL</td><td>9644</td></tr>",
                            "<tr><td>2015-12-11</td><td>NULL</td><td>8093</td></tr>",
                            "<tr><td>2015-12-12</td><td>NULL</td><td>8957</td></tr>",
                            "<tr><td>2015-12-13</td><td>NULL</td><td>7399</td></tr>",
                            "<tr><td>2015-12-14</td><td>NULL</td><td>7676</td></tr>",
                            "<tr><td>2015-12-15</td><td>NULL</td><td>6863</td></tr>",
                            "<tr><td>2015-12-16</td><td>NULL</td><td>7886</td></tr>",
                            "<tr><td>2015-12-17</td><td>NULL</td><td>6894</td></tr>",
                            "<tr><td>2015-12-18</td><td>NULL</td><td>12260</td></tr>",
                            "<tr><td>2015-12-19</td><td>NULL</td><td>5788</td></tr>",
                            "<tr><td>2015-12-20</td><td>NULL</td><td>8699</td></tr>",
                            "<tr><td>2015-12-21</td><td>NULL</td><td>6630</td></tr>",
                            "<tr><td>2015-12-22</td><td>NULL</td><td>9212</td></tr>",
                            "<tr><td>2015-12-23</td><td>NULL</td><td>6676</td></tr>",
                            "<tr><td>2015-12-24</td><td>NULL</td><td>8869</td></tr>",
                            "<tr><td>2015-12-25</td><td>NULL</td><td>6944</td></tr>",
                            "<tr><td>2015-12-26</td><td>NULL</td><td>8921</td></tr>",
                            "<tr><td>2015-12-27</td><td>NULL</td><td>7648</td></tr>",
                            "<tr><td>2015-12-28</td><td>NULL</td><td>8042</td></tr>",
                            "<tr><td>2015-12-29</td><td>NULL</td><td>7923</td></tr>",
                            "<tr><td>2015-12-30</td><td>NULL</td><td>6562</td></tr>",
                            "<tr><td>2015-12-31</td><td>NULL</td><td>7021</td></tr>",
                            "<tr><td>2016-01-01</td><td>NULL</td><td>8837</td></tr>",
                            "<tr><td>2016-01-02</td><td>NULL</td><td>7518</td></tr>",
                            "<tr><td>2016-01-03</td><td>NULL</td><td>8422</td></tr>",
                            "<tr><td>2016-01-04</td><td>NULL</td><td>8813</td></tr>",
                            "<tr><td>2016-01-05</td><td>NULL</td><td>6895</td></tr>",
                            "<tr><td>2016-01-06</td><td>NULL</td><td>6716</td></tr>",
                            "<tr><td>2016-01-07</td><td>NULL</td><td>5593</td></tr>",
                            "<tr><td>2016-01-08</td><td>NULL</td><td>9534</td></tr>",
                            "<tr><td>2016-01-09</td><td>NULL</td><td>7056</td></tr>",
                            "<tr><td>2016-01-10</td><td>NULL</td><td>8057</td></tr>",
                            "<tr><td>2016-01-11</td><td>NULL</td><td>6734</td></tr>",
                            "<tr><td>2016-01-12</td><td>NULL</td><td>6949</td></tr>",
                            "<tr><td>2016-01-13</td><td>NULL</td><td>7487</td></tr>",
                            "<tr><td>2016-01-14</td><td>NULL</td><td>8998</td></tr>",
                            "<tr><td>2016-01-15</td><td>NULL</td><td>9345</td></tr>",
                            "<tr><td>2016-01-16</td><td>NULL</td><td>8068</td></tr>",
                            "<tr><td>2016-01-17</td><td>NULL</td><td>6954</td></tr>",
                            "<tr><td>2016-01-18</td><td>NULL</td><td>4416</td></tr>",
                            "<tr><td>2016-01-19</td><td>NULL</td><td>7124</td></tr>",
                            "<tr><td>2016-01-20</td><td>NULL</td><td>8568</td></tr>",
                            "<tr><td>2016-01-21</td><td>NULL</td><td>10953</td></tr>",
                            "<tr><td>2016-01-22</td><td>NULL</td><td>8588</td></tr>",
                            "<tr><td>2016-01-23</td><td>NULL</td><td>6512</td></tr>",
                            "<tr><td>2016-01-24</td><td>NULL</td><td>8898</td></tr>",
                            "<tr><td>2016-01-25</td><td>NULL</td><td>5191</td></tr>",
                            "<tr><td>2016-01-26</td><td>NULL</td><td>5293</td></tr>",
                            "<tr><td>2016-01-27</td><td>NULL</td><td>6513</td></tr>",
                            "<tr><td>2016-01-28</td><td>NULL</td><td>8119</td></tr>",
                            "<tr><td>2016-01-29</td><td>NULL</td><td>6658</td></tr>",
                            "<tr><td>2016-01-30</td><td>NULL</td><td>8727</td></tr>",
                            "<tr><td>2016-01-31</td><td>NULL</td><td>7527</td></tr>",
                            "<tr><td>2016-02-01</td><td>NULL</td><td>9120</td></tr>",
                            "<tr><td>2016-02-02</td><td>NULL</td><td>8088</td></tr>",
                            "<tr><td>2016-02-03</td><td>NULL</td><td>9306</td></tr>",
                            "<tr><td>2016-02-04</td><td>NULL</td><td>7994</td></tr>",
                            "<tr><td>2016-02-05</td><td>NULL</td><td>9703</td></tr>",
                            "<tr><td>2016-02-06</td><td>NULL</td><td>9860</td></tr>",
                            "<tr><td>2016-02-07</td><td>NULL</td><td>6630</td></tr>",
                            "<tr><td>2016-02-08</td><td>NULL</td><td>10093</td></tr>",
                            "<tr><td>2016-02-09</td><td>NULL</td><td>9706</td></tr>",
                            "<tr><td>2016-02-10</td><td>NULL</td><td>8520</td></tr>",
                            "<tr><td>2016-02-11</td><td>NULL</td><td>7094</td></tr>",
                            "<tr><td>2016-02-12</td><td>NULL</td><td>7789</td></tr>",
                            "<tr><td>2016-02-13</td><td>NULL</td><td>7991</td></tr>",
                            "<tr><td>2016-02-14</td><td>NULL</td><td>8049</td></tr>",
                            "<tr><td>2016-02-15</td><td>NULL</td><td>10033</td></tr>",
                            "<tr><td>2016-02-16</td><td>NULL</td><td>8049</td></tr>",
                            "<tr><td>2016-02-17</td><td>NULL</td><td>9586</td></tr>",
                            "<tr><td>2016-02-18</td><td>NULL</td><td>5922</td></tr>",
                            "<tr><td>2016-02-19</td><td>NULL</td><td>8898</td></tr>",
                            "<tr><td>2016-02-20</td><td>NULL</td><td>7549</td></tr>",
                            "<tr><td>2016-02-21</td><td>NULL</td><td>6531</td></tr>",
                            "<tr><td>2016-02-22</td><td>NULL</td><td>8724</td></tr>",
                            "<tr><td>2016-02-23</td><td>NULL</td><td>6959</td></tr>",
                            "<tr><td>2016-02-24</td><td>NULL</td><td>6314</td></tr>",
                            "<tr><td>2016-02-25</td><td>NULL</td><td>7324</td></tr>",
                            "<tr><td>2016-02-26</td><td>NULL</td><td>8466</td></tr>",
                            "<tr><td>2016-02-27</td><td>NULL</td><td>7122</td></tr>",
                            "<tr><td>2016-02-28</td><td>NULL</td><td>8447</td></tr>",
                            "<tr><td>2016-02-29</td><td>NULL</td><td>8516</td></tr>",
                            "<tr><td>2016-03-01</td><td>NULL</td><td>9654</td></tr>",
                            "<tr><td>2016-03-02</td><td>NULL</td><td>7282</td></tr>",
                            "<tr><td>2016-03-03</td><td>NULL</td><td>8853</td></tr>",
                            "<tr><td>2016-03-04</td><td>NULL</td><td>8549</td></tr>",
                            "<tr><td>2016-03-05</td><td>NULL</td><td>9463</td></tr>",
                            "<tr><td>2016-03-06</td><td>NULL</td><td>7740</td></tr>",
                            "<tr><td>2016-03-07</td><td>NULL</td><td>7680</td></tr>",
                            "<tr><td>2016-03-08</td><td>NULL</td><td>5849</td></tr>",
                            "<tr><td>2016-03-09</td><td>NULL</td><td>9412</td></tr>",
                            "<tr><td>2016-03-10</td><td>NULL</td><td>8848</td></tr>",
                            "<tr><td>2016-03-11</td><td>NULL</td><td>6193</td></tr>",
                            "<tr><td>2016-03-12</td><td>NULL</td><td>10487</td></tr>",
                            "<tr><td>2016-03-13</td><td>NULL</td><td>5913</td></tr>",
                            "<tr><td>2016-03-14</td><td>NULL</td><td>9336</td></tr>",
                            "<tr><td>2016-03-15</td><td>NULL</td><td>8180</td></tr>",
                            "<tr><td>2016-03-16</td><td>NULL</td><td>7448</td></tr>",
                            "<tr><td>2016-03-17</td><td>NULL</td><td>7770</td></tr>",
                            "<tr><td>2016-03-18</td><td>NULL</td><td>6927</td></tr>",
                            "<tr><td>2016-03-19</td><td>NULL</td><td>7827</td></tr>",
                            "<tr><td>2016-03-20</td><td>NULL</td><td>12190</td></tr>",
                            "<tr><td>2016-03-21</td><td>NULL</td><td>11075</td></tr>",
                            "<tr><td>2016-03-22</td><td>NULL</td><td>7770</td></tr>",
                            "<tr><td>2016-03-23</td><td>NULL</td><td>6397</td></tr>",
                            "<tr><td>2016-03-24</td><td>NULL</td><td>7220</td></tr>",
                            "<tr><td>2016-03-25</td><td>NULL</td><td>8763</td></tr>",
                            "<tr><td>2016-03-26</td><td>NULL</td><td>9893</td></tr>",
                            "<tr><td>2016-03-27</td><td>NULL</td><td>8950</td></tr>",
                            "<tr><td>2016-03-28</td><td>NULL</td><td>7552</td></tr>",
                            "<tr><td>2016-03-29</td><td>NULL</td><td>7416</td></tr>",
                            "<tr><td>2016-03-30</td><td>NULL</td><td>8631</td></tr>",
                            "<tr><td>2016-03-31</td><td>NULL</td><td>6885</td></tr>",
                            "<tr><td>2016-04-01</td><td>NULL</td><td>8756</td></tr>",
                            "<tr><td>2016-04-02</td><td>NULL</td><td>8073</td></tr>",
                            "<tr><td>2016-04-03</td><td>NULL</td><td>5897</td></tr>",
                            "<tr><td>2016-04-04</td><td>NULL</td><td>7405</td></tr>",
                            "<tr><td>2016-04-05</td><td>NULL</td><td>8092</td></tr>",
                            "<tr><td>2016-04-06</td><td>NULL</td><td>7458</td></tr>",
                            "<tr><td>2016-04-07</td><td>NULL</td><td>9216</td></tr>",
                            "<tr><td>2016-04-08</td><td>NULL</td><td>10889</td></tr>",
                            "<tr><td>2016-04-09</td><td>NULL</td><td>9754</td></tr>",
                            "<tr><td>2016-04-10</td><td>NULL</td><td>9878</td></tr>",
                            "<tr><td>2016-04-11</td><td>NULL</td><td>8948</td></tr>",
                            "<tr><td>2016-04-12</td><td>NULL</td><td>7144</td></tr>",
                            "<tr><td>2016-04-13</td><td>NULL</td><td>7728</td></tr>",
                            "<tr><td>2016-04-14</td><td>NULL</td><td>8805</td></tr>",
                            "<tr><td>2016-04-15</td><td>NULL</td><td>8331</td></tr>",
                            "<tr><td>2016-04-16</td><td>NULL</td><td>8755</td></tr>",
                            "<tr><td>2016-04-17</td><td>NULL</td><td>10267</td></tr>",
                            "<tr><td>2016-04-18</td><td>NULL</td><td>7586</td></tr>",
                            "<tr><td>2016-04-19</td><td>NULL</td><td>9190</td></tr>",
                            "<tr><td>2016-04-20</td><td>NULL</td><td>6584</td></tr>",
                            "<tr><td>2016-04-21</td><td>NULL</td><td>6628</td></tr>",
                            "<tr><td>2016-04-22</td><td>NULL</td><td>6502</td></tr>",
                            "<tr><td>2016-04-23</td><td>NULL</td><td>6588</td></tr>",
                            "<tr><td>2016-04-24</td><td>NULL</td><td>9512</td></tr>",
                            "<tr><td>2016-04-25</td><td>NULL</td><td>10177</td></tr>",
                            "<tr><td>2016-04-26</td><td>NULL</td><td>7946</td></tr>",
                            "<tr><td>2016-04-27</td><td>NULL</td><td>8344</td></tr>",
                            "<tr><td>2016-04-28</td><td>NULL</td><td>7732</td></tr>",
                            "<tr><td>2016-04-29</td><td>NULL</td><td>7870</td></tr>",
                            "<tr><td>2016-04-30</td><td>NULL</td><td>7898</td></tr>",
                            "<tr><td>2016-05-01</td><td>NULL</td><td>6600</td></tr>",
                            "<tr><td>2016-05-02</td><td>NULL</td><td>8142</td></tr>",
                            "<tr><td>2016-05-03</td><td>NULL</td><td>5084</td></tr>",
                            "<tr><td>2016-05-04</td><td>NULL</td><td>9125</td></tr>",
                            "<tr><td>2016-05-05</td><td>NULL</td><td>7845</td></tr>",
                            "<tr><td>2016-05-06</td><td>NULL</td><td>7969</td></tr>",
                            "<tr><td>2016-05-07</td><td>NULL</td><td>8896</td></tr>",
                            "<tr><td>2016-05-08</td><td>NULL</td><td>7858</td></tr>",
                            "<tr><td>2016-05-09</td><td>NULL</td><td>11178</td></tr>",
                            "<tr><td>2016-05-10</td><td>NULL</td><td>8968</td></tr>",
                            "<tr><td>2016-05-11</td><td>NULL</td><td>8132</td></tr>",
                            "<tr><td>2016-05-12</td><td>NULL</td><td>8095</td></tr>",
                            "<tr><td>2016-05-13</td><td>NULL</td><td>8089</td></tr>",
                            "<tr><td>2016-05-14</td><td>NULL</td><td>7722</td></tr>",
                            "<tr><td>2016-05-15</td><td>NULL</td><td>5490</td></tr>",
                            "<tr><td>2016-05-16</td><td>NULL</td><td>7944</td></tr>",
                            "<tr><td>2016-05-17</td><td>NULL</td><td>8888</td></tr>",
                            "<tr><td>2016-05-18</td><td>NULL</td><td>5720</td></tr>",
                            "<tr><td>2016-05-19</td><td>NULL</td><td>7578</td></tr>",
                            "<tr><td>2016-05-20</td><td>NULL</td><td>8879</td></tr>",
                            "<tr><td>2016-05-21</td><td>NULL</td><td>9030</td></tr>",
                            "<tr><td>2016-05-22</td><td>NULL</td><td>4914</td></tr>",
                            "<tr><td>2016-05-23</td><td>NULL</td><td>8577</td></tr>",
                            "<tr><td>2016-05-24</td><td>NULL</td><td>8816</td></tr>",
                            "<tr><td>2016-05-25</td><td>NULL</td><td>9296</td></tr>",
                            "<tr><td>2016-05-26</td><td>NULL</td><td>5287</td></tr>",
                            "<tr><td>2016-05-27</td><td>NULL</td><td>9701</td></tr>",
                            "<tr><td>2016-05-28</td><td>NULL</td><td>6509</td></tr>",
                            "<tr><td>2016-05-29</td><td>NULL</td><td>9450</td></tr>",
                            "<tr><td>2016-05-30</td><td>NULL</td><td>6884</td></tr>",
                            "<tr><td>2016-05-31</td><td>NULL</td><td>10007</td></tr>",
                            "<tr><td>2016-06-01</td><td>NULL</td><td>8484</td></tr>",
                            "<tr><td>2016-06-02</td><td>NULL</td><td>6928</td></tr>",
                            "<tr><td>2016-06-03</td><td>NULL</td><td>6567</td></tr>",
                            "<tr><td>2016-06-04</td><td>NULL</td><td>7904</td></tr>",
                            "<tr><td>2016-06-05</td><td>NULL</td><td>5802</td></tr>",
                            "<tr><td>2016-06-06</td><td>NULL</td><td>9474</td></tr>",
                            "<tr><td>2016-06-07</td><td>NULL</td><td>8722</td></tr>",
                            "<tr><td>2016-06-08</td><td>NULL</td><td>7019</td></tr>",
                            "<tr><td>2016-06-09</td><td>NULL</td><td>7354</td></tr>",
                            "<tr><td>2016-06-10</td><td>NULL</td><td>8873</td></tr>",
                            "<tr><td>2016-06-11</td><td>NULL</td><td>9217</td></tr>",
                            "<tr><td>2016-06-12</td><td>NULL</td><td>9418</td></tr>",
                            "<tr><td>2016-06-13</td><td>NULL</td><td>6407</td></tr>",
                            "<tr><td>2016-06-14</td><td>NULL</td><td>7968</td></tr>",
                            "<tr><td>2016-06-15</td><td>NULL</td><td>8830</td></tr>",
                            "<tr><td>2016-06-16</td><td>NULL</td><td>6462</td></tr>",
                            "<tr><td>2016-06-17</td><td>NULL</td><td>9189</td></tr>",
                            "<tr><td>2016-06-18</td><td>NULL</td><td>6311</td></tr>",
                            "<tr><td>2016-06-19</td><td>NULL</td><td>8834</td></tr>",
                            "<tr><td>2016-06-20</td><td>NULL</td><td>8005</td></tr>",
                            "<tr><td>2016-06-21</td><td>NULL</td><td>6482</td></tr>",
                            "<tr><td>2016-06-22</td><td>NULL</td><td>6541</td></tr>",
                            "<tr><td>2016-06-23</td><td>NULL</td><td>6662</td></tr>",
                            "<tr><td>2016-06-24</td><td>NULL</td><td>8530</td></tr>",
                            "<tr><td>2016-06-25</td><td>NULL</td><td>8262</td></tr>",
                            "<tr><td>2016-06-26</td><td>NULL</td><td>10488</td></tr>",
                            "<tr><td>2016-06-27</td><td>NULL</td><td>5541</td></tr>",
                            "<tr><td>2016-06-28</td><td>NULL</td><td>10267</td></tr>",
                            "<tr><td>2016-06-29</td><td>NULL</td><td>9869</td></tr>",
                            "<tr><td>2016-06-30</td><td>NULL</td><td>9437</td></tr>",
                            "<tr><td>2016-07-01</td><td>NULL</td><td>5916</td></tr>",
                            "<tr><td>2016-07-02</td><td>NULL</td><td>6710</td></tr>",
                            "<tr><td>2016-07-03</td><td>NULL</td><td>9081</td></tr>",
                            "<tr><td>2016-07-04</td><td>NULL</td><td>10816</td></tr>",
                            "<tr><td>2016-07-05</td><td>NULL</td><td>8863</td></tr>",
                            "<tr><td>2016-07-06</td><td>NULL</td><td>7283</td></tr>",
                            "<tr><td>2016-07-07</td><td>NULL</td><td>5922</td></tr>",
                            "<tr><td>2016-07-08</td><td>NULL</td><td>7968</td></tr>",
                            "<tr><td>2016-07-09</td><td>NULL</td><td>9112</td></tr>",
                            "<tr><td>2016-07-10</td><td>NULL</td><td>7494</td></tr>",
                            "<tr><td>2016-07-11</td><td>NULL</td><td>10358</td></tr>",
                            "<tr><td>2016-07-12</td><td>NULL</td><td>8519</td></tr>",
                            "<tr><td>2016-07-13</td><td>NULL</td><td>8721</td></tr>",
                            "<tr><td>2016-07-14</td><td>NULL</td><td>7363</td></tr>",
                            "<tr><td>2016-07-15</td><td>NULL</td><td>7066</td></tr>",
                            "<tr><td>2016-07-16</td><td>NULL</td><td>8298</td></tr>",
                            "<tr><td>2016-07-17</td><td>NULL</td><td>6320</td></tr>",
                            "<tr><td>2016-07-18</td><td>NULL</td><td>8573</td></tr>",
                            "<tr><td>2016-07-19</td><td>NULL</td><td>9023</td></tr>",
                            "<tr><td>2016-07-20</td><td>NULL</td><td>7415</td></tr>",
                            "<tr><td>2016-07-21</td><td>NULL</td><td>7484</td></tr>",
                            "<tr><td>2016-07-22</td><td>NULL</td><td>7412</td></tr>",
                            "<tr><td>2016-07-23</td><td>NULL</td><td>6895</td></tr>",
                            "<tr><td>2016-07-24</td><td>NULL</td><td>6958</td></tr>",
                            "<tr><td>2016-07-25</td><td>NULL</td><td>7559</td></tr>",
                            "<tr><td>2016-07-26</td><td>NULL</td><td>7020</td></tr>",
                            "<tr><td>2016-07-27</td><td>NULL</td><td>9352</td></tr>",
                            "<tr><td>2016-07-28</td><td>NULL</td><td>7155</td></tr>",
                            "<tr><td>2016-07-29</td><td>NULL</td><td>9038</td></tr>",
                            "<tr><td>2016-07-30</td><td>NULL</td><td>6288</td></tr>",
                            "<tr><td>2016-07-31</td><td>NULL</td><td>9007</td></tr>",
                            "<tr><td>2016-08-01</td><td>NULL</td><td>7588</td></tr>",
                            "<tr><td>2016-08-02</td><td>NULL</td><td>6686</td></tr>",
                            "<tr><td>2016-08-03</td><td>NULL</td><td>7884</td></tr>",
                            "<tr><td>2016-08-04</td><td>NULL</td><td>6900</td></tr>",
                            "<tr><td>2016-08-05</td><td>NULL</td><td>7610</td></tr>",
                            "<tr><td>2016-08-06</td><td>NULL</td><td>8498</td></tr>",
                            "<tr><td>2016-08-07</td><td>NULL</td><td>5511</td></tr>",
                            "<tr><td>2016-08-08</td><td>NULL</td><td>5829</td></tr>",
                            "<tr><td>2016-08-09</td><td>NULL</td><td>10307</td></tr>",
                            "<tr><td>2016-08-10</td><td>NULL</td><td>8311</td></tr>",
                            "<tr><td>2016-08-11</td><td>NULL</td><td>8232</td></tr>",
                            "<tr><td>2016-08-12</td><td>NULL</td><td>8761</td></tr>",
                            "<tr><td>2016-08-13</td><td>NULL</td><td>9571</td></tr>",
                            "<tr><td>2016-08-14</td><td>NULL</td><td>8263</td></tr>",
                            "<tr><td>2016-08-15</td><td>NULL</td><td>10966</td></tr>",
                            "<tr><td>2016-08-16</td><td>NULL</td><td>7435</td></tr>",
                            "<tr><td>2016-08-17</td><td>NULL</td><td>7576</td></tr>",
                            "<tr><td>2016-08-18</td><td>NULL</td><td>7689</td></tr>",
                            "<tr><td>2016-08-19</td><td>NULL</td><td>6974</td></tr>",
                            "<tr><td>2016-08-20</td><td>NULL</td><td>9117</td></tr>",
                            "<tr><td>2016-08-21</td><td>NULL</td><td>5864</td></tr>",
                            "<tr><td>2016-08-22</td><td>NULL</td><td>7082</td></tr>",
                            "<tr><td>2016-08-23</td><td>NULL</td><td>6153</td></tr>",
                            "<tr><td>2016-08-24</td><td>NULL</td><td>8822</td></tr>",
                            "<tr><td>2016-08-25</td><td>NULL</td><td>9398</td></tr>",
                            "<tr><td>2016-08-26</td><td>NULL</td><td>8695</td></tr>",
                            "<tr><td>2016-08-27</td><td>NULL</td><td>8120</td></tr>",
                            "<tr><td>2016-08-28</td><td>NULL</td><td>8937</td></tr>",
                            "<tr><td>2016-08-29</td><td>NULL</td><td>7542</td></tr>",
                            "<tr><td>2016-08-30</td><td>NULL</td><td>5527</td></tr>",
                            "<tr><td>2016-08-31</td><td>NULL</td><td>6069</td></tr>",
                            "<tr><td>2016-09-01</td><td>NULL</td><td>6626</td></tr>",
                            "<tr><td>2016-09-02</td><td>NULL</td><td>7775</td></tr>",
                            "<tr><td>2016-09-03</td><td>NULL</td><td>11043</td></tr>",
                            "<tr><td>2016-09-04</td><td>NULL</td><td>11369</td></tr>",
                            "<tr><td>2016-09-05</td><td>NULL</td><td>6206</td></tr>",
                            "<tr><td>2016-09-06</td><td>NULL</td><td>8736</td></tr>",
                            "<tr><td>2016-09-07</td><td>NULL</td><td>8579</td></tr>",
                            "<tr><td>2016-09-08</td><td>NULL</td><td>8561</td></tr>",
                            "<tr><td>2016-09-09</td><td>NULL</td><td>8470</td></tr>",
                            "<tr><td>2016-09-10</td><td>NULL</td><td>9203</td></tr>",
                            "<tr><td>2016-09-11</td><td>NULL</td><td>8573</td></tr>",
                            "<tr><td>2016-09-12</td><td>NULL</td><td>6264</td></tr>",
                            "<tr><td>2016-09-13</td><td>NULL</td><td>8200</td></tr>",
                            "<tr><td>2016-09-14</td><td>NULL</td><td>10576</td></tr>",
                            "<tr><td>2016-09-15</td><td>NULL</td><td>10530</td></tr>",
                            "<tr><td>2016-09-16</td><td>NULL</td><td>5621</td></tr>",
                            "<tr><td>2016-09-17</td><td>NULL</td><td>7379</td></tr>",
                            "<tr><td>2016-09-18</td><td>NULL</td><td>10790</td></tr>",
                            "<tr><td>2016-09-19</td><td>NULL</td><td>7019</td></tr>",
                            "<tr><td>2016-09-20</td><td>NULL</td><td>8544</td></tr>",
                            "<tr><td>2016-09-21</td><td>NULL</td><td>5504</td></tr>",
                            "<tr><td>2016-09-22</td><td>NULL</td><td>6691</td></tr>",
                            "<tr><td>2016-09-23</td><td>NULL</td><td>6574</td></tr>",
                            "<tr><td>2016-09-24</td><td>NULL</td><td>6220</td></tr>",
                            "<tr><td>2016-09-25</td><td>NULL</td><td>6759</td></tr>",
                            "<tr><td>2016-09-26</td><td>NULL</td><td>7073</td></tr>",
                            "<tr><td>2016-09-27</td><td>NULL</td><td>9214</td></tr>",
                            "<tr><td>2016-09-28</td><td>NULL</td><td>7948</td></tr>",
                            "<tr><td>2016-09-29</td><td>NULL</td><td>5840</td></tr>",
                            "<tr><td>2016-09-30</td><td>NULL</td><td>8410</td></tr>",
                            "<tr><td>2016-10-01</td><td>NULL</td><td>8122</td></tr>",
                            "<tr><td>2016-10-02</td><td>NULL</td><td>7206</td></tr>",
                            "<tr><td>2016-10-03</td><td>NULL</td><td>6357</td></tr>",
                            "<tr><td>2016-10-04</td><td>NULL</td><td>7203</td></tr>",
                            "<tr><td>2016-10-05</td><td>NULL</td><td>7856</td></tr>",
                            "<tr><td>2016-10-06</td><td>NULL</td><td>6682</td></tr>",
                            "<tr><td>2016-10-07</td><td>NULL</td><td>6607</td></tr>",
                            "<tr><td>2016-10-08</td><td>NULL</td><td>8515</td></tr>",
                            "<tr><td>2016-10-09</td><td>NULL</td><td>10396</td></tr>",
                            "<tr><td>2016-10-10</td><td>NULL</td><td>7117</td></tr>",
                            "<tr><td>2016-10-11</td><td>NULL</td><td>9192</td></tr>",
                            "<tr><td>2016-10-12</td><td>NULL</td><td>10889</td></tr>",
                            "<tr><td>2016-10-13</td><td>NULL</td><td>10192</td></tr>",
                            "<tr><td>2016-10-14</td><td>NULL</td><td>7397</td></tr>",
                            "<tr><td>2016-10-15</td><td>NULL</td><td>7459</td></tr>",
                            "<tr><td>2016-10-16</td><td>NULL</td><td>7198</td></tr>",
                            "<tr><td>2016-10-17</td><td>NULL</td><td>11045</td></tr>",
                            "<tr><td>2016-10-18</td><td>NULL</td><td>7033</td></tr>",
                            "<tr><td>2016-10-19</td><td>NULL</td><td>9307</td></tr>",
                            "<tr><td>2016-10-20</td><td>NULL</td><td>6856</td></tr>",
                            "<tr><td>2016-10-21</td><td>NULL</td><td>9403</td></tr>",
                            "<tr><td>2016-10-22</td><td>NULL</td><td>8356</td></tr>",
                            "<tr><td>2016-10-23</td><td>NULL</td><td>9634</td></tr>",
                            "<tr><td>2016-10-24</td><td>NULL</td><td>4888</td></tr>",
                            "<tr><td>2016-10-25</td><td>NULL</td><td>11978</td></tr>",
                            "<tr><td>2016-10-26</td><td>NULL</td><td>8070</td></tr>",
                            "<tr><td>2016-10-27</td><td>NULL</td><td>7617</td></tr>",
                            "<tr><td>2016-10-28</td><td>NULL</td><td>7766</td></tr>",
                            "<tr><td>2016-10-29</td><td>NULL</td><td>6854</td></tr>",
                            "<tr><td>2016-10-30</td><td>NULL</td><td>11718</td></tr>",
                            "<tr><td>2016-10-31</td><td>NULL</td><td>8714</td></tr>",
                            "<tr><td>2016-11-01</td><td>NULL</td><td>7238</td></tr>",
                            "<tr><td>2016-11-02</td><td>NULL</td><td>5472</td></tr>",
                            "<tr><td>2016-11-03</td><td>NULL</td><td>7739</td></tr>",
                            "<tr><td>2016-11-04</td><td>NULL</td><td>6667</td></tr>",
                            "<tr><td>2016-11-05</td><td>NULL</td><td>9157</td></tr>",
                            "<tr><td>2016-11-06</td><td>NULL</td><td>8517</td></tr>",
                            "<tr><td>2016-11-07</td><td>NULL</td><td>6691</td></tr>",
                            "<tr><td>2016-11-08</td><td>NULL</td><td>8431</td></tr>",
                            "<tr><td>2016-11-09</td><td>NULL</td><td>5911</td></tr>",
                            "<tr><td>2016-11-10</td><td>NULL</td><td>6795</td></tr>",
                            "<tr><td>2016-11-11</td><td>NULL</td><td>6940</td></tr>",
                            "<tr><td>2016-11-12</td><td>NULL</td><td>10959</td></tr>",
                            "<tr><td>2016-11-13</td><td>NULL</td><td>10751</td></tr>",
                            "<tr><td>2016-11-14</td><td>NULL</td><td>11881</td></tr>",
                            "<tr><td>2016-11-15</td><td>NULL</td><td>6736</td></tr>",
                            "<tr><td>2016-11-16</td><td>NULL</td><td>8969</td></tr>",
                            "<tr><td>2016-11-17</td><td>NULL</td><td>6852</td></tr>",
                            "<tr><td>2016-11-18</td><td>NULL</td><td>6770</td></tr>",
                            "<tr><td>2016-11-19</td><td>NULL</td><td>7451</td></tr>",
                            "<tr><td>2016-11-20</td><td>NULL</td><td>7946</td></tr>",
                            "<tr><td>2016-11-21</td><td>NULL</td><td>6727</td></tr>",
                            "<tr><td>2016-11-22</td><td>NULL</td><td>7801</td></tr>",
                            "<tr><td>2016-11-23</td><td>NULL</td><td>7435</td></tr>",
                            "<tr><td>2016-11-24</td><td>NULL</td><td>5981</td></tr>",
                            "<tr><td>2016-11-25</td><td>NULL</td><td>6915</td></tr>",
                            "<tr><td>2016-11-26</td><td>NULL</td><td>9216</td></tr>",
                            "<tr><td>2016-11-27</td><td>NULL</td><td>9893</td></tr>",
                            "<tr><td>2016-11-28</td><td>NULL</td><td>9770</td></tr>",
                            "<tr><td>2016-11-29</td><td>NULL</td><td>8722</td></tr>",
                            "<tr><td>2016-11-30</td><td>NULL</td><td>6419</td></tr>",
                            "<tr><td>2016-12-01</td><td>NULL</td><td>9940</td></tr>",
                            "<tr><td>2016-12-02</td><td>NULL</td><td>4748</td></tr>",
                            "<tr><td>2016-12-03</td><td>NULL</td><td>6745</td></tr>",
                            "<tr><td>2016-12-04</td><td>NULL</td><td>9959</td></tr>",
                            "<tr><td>2016-12-05</td><td>NULL</td><td>8225</td></tr>",
                            "<tr><td>2016-12-06</td><td>NULL</td><td>7762</td></tr>",
                            "<tr><td>2016-12-07</td><td>NULL</td><td>7380</td></tr>",
                            "<tr><td>2016-12-08</td><td>NULL</td><td>7200</td></tr>",
                            "<tr><td>2016-12-09</td><td>NULL</td><td>9724</td></tr>",
                            "<tr><td>2016-12-10</td><td>NULL</td><td>7083</td></tr>",
                            "<tr><td>2016-12-11</td><td>NULL</td><td>7576</td></tr>",
                            "<tr><td>2016-12-12</td><td>NULL</td><td>8580</td></tr>",
                            "<tr><td>2016-12-13</td><td>NULL</td><td>8233</td></tr>",
                            "<tr><td>2016-12-14</td><td>NULL</td><td>6268</td></tr>",
                            "<tr><td>2016-12-15</td><td>NULL</td><td>7392</td></tr>",
                            "<tr><td>2016-12-16</td><td>NULL</td><td>6407</td></tr>",
                            "<tr><td>2016-12-17</td><td>NULL</td><td>7555</td></tr>",
                            "<tr><td>2016-12-18</td><td>NULL</td><td>6070</td></tr>",
                            "<tr><td>2016-12-19</td><td>NULL</td><td>5390</td></tr>",
                            "<tr><td>2016-12-20</td><td>NULL</td><td>7735</td></tr>",
                            "<tr><td>2016-12-21</td><td>NULL</td><td>10434</td></tr>",
                            "<tr><td>2016-12-22</td><td>NULL</td><td>5465</td></tr>",
                            "<tr><td>2016-12-23</td><td>NULL</td><td>8338</td></tr>",
                            "<tr><td>2016-12-24</td><td>NULL</td><td>5916</td></tr>",
                            "<tr><td>2016-12-25</td><td>NULL</td><td>7345</td></tr>",
                            "<tr><td>2016-12-26</td><td>NULL</td><td>9875</td></tr>",
                            "<tr><td>2016-12-27</td><td>NULL</td><td>10216</td></tr>",
                            "<tr><td>2016-12-28</td><td>NULL</td><td>6222</td></tr>",
                            "<tr><td>2016-12-29</td><td>NULL</td><td>10046</td></tr>",
                            "<tr><td>2016-12-30</td><td>NULL</td><td>7113</td></tr>",
                            "<tr><td>2016-12-31</td><td>NULL</td><td>7188</td></tr>",
                            "<tr><td>2017-01-01</td><td>NULL</td><td>7200</td></tr>",
                            "<tr><td>2017-01-02</td><td>NULL</td><td>7425</td></tr>",
                            "<tr><td>2017-01-03</td><td>NULL</td><td>6783</td></tr>",
                            "<tr><td>2017-01-04</td><td>NULL</td><td>7465</td></tr>",
                            "<tr><td>2017-01-05</td><td>NULL</td><td>7591</td></tr>",
                            "<tr><td>2017-01-06</td><td>NULL</td><td>8298</td></tr>",
                            "<tr><td>2017-01-07</td><td>NULL</td><td>8976</td></tr>",
                            "<tr><td>2017-01-08</td><td>NULL</td><td>7179</td></tr>",
                            "<tr><td>2017-01-09</td><td>NULL</td><td>9465</td></tr>",
                            "<tr><td>2017-01-10</td><td>NULL</td><td>8667</td></tr>",
                            "<tr><td>2017-01-11</td><td>NULL</td><td>9472</td></tr>",
                            "<tr><td>2017-01-12</td><td>NULL</td><td>7636</td></tr>",
                            "<tr><td>2017-01-13</td><td>NULL</td><td>7538</td></tr>",
                            "<tr><td>2017-01-14</td><td>NULL</td><td>8920</td></tr>",
                            "<tr><td>2017-01-15</td><td>NULL</td><td>7611</td></tr>",
                            "<tr><td>2017-01-16</td><td>NULL</td><td>7369</td></tr>",
                            "<tr><td>2017-01-17</td><td>NULL</td><td>8658</td></tr>",
                            "<tr><td>2017-01-18</td><td>NULL</td><td>6558</td></tr>",
                            "<tr><td>2017-01-19</td><td>NULL</td><td>6422</td></tr>",
                            "<tr><td>2017-01-20</td><td>NULL</td><td>6450</td></tr>",
                            "<tr><td>2017-01-21</td><td>NULL</td><td>7150</td></tr>",
                            "<tr><td>2017-01-22</td><td>NULL</td><td>8199</td></tr>",
                            "<tr><td>2017-01-23</td><td>NULL</td><td>8394</td></tr>",
                            "<tr><td>2017-01-24</td><td>NULL</td><td>8615</td></tr>",
                            "<tr><td>2017-01-25</td><td>NULL</td><td>6484</td></tr>",
                            "<tr><td>2017-01-26</td><td>NULL</td><td>9426</td></tr>",
                            "<tr><td>2017-01-27</td><td>NULL</td><td>5418</td></tr>",
                            "<tr><td>2017-01-28</td><td>NULL</td><td>8401</td></tr>",
                            "<tr><td>2017-01-29</td><td>NULL</td><td>8997</td></tr>",
                            "<tr><td>2017-01-30</td><td>NULL</td><td>9661</td></tr>",
                            "<tr><td>2017-01-31</td><td>NULL</td><td>6253</td></tr>",
                            "<tr><td>2017-02-01</td><td>NULL</td><td>5703</td></tr>",
                            "<tr><td>2017-02-02</td><td>NULL</td><td>8746</td></tr>",
                            "<tr><td>2017-02-03</td><td>NULL</td><td>7840</td></tr>",
                            "<tr><td>2017-02-04</td><td>NULL</td><td>6220</td></tr>",
                            "<tr><td>2017-02-05</td><td>NULL</td><td>5138</td></tr>",
                            "<tr><td>2017-02-06</td><td>NULL</td><td>8206</td></tr>",
                            "<tr><td>2017-02-07</td><td>NULL</td><td>6846</td></tr>",
                            "<tr><td>2017-02-08</td><td>NULL</td><td>10057</td></tr>",
                            "<tr><td>2017-02-09</td><td>NULL</td><td>8302</td></tr>",
                            "<tr><td>2017-02-10</td><td>NULL</td><td>8964</td></tr>",
                            "<tr><td>2017-02-11</td><td>NULL</td><td>8790</td></tr>",
                            "<tr><td>2017-02-12</td><td>NULL</td><td>6268</td></tr>",
                            "<tr><td>2017-02-13</td><td>NULL</td><td>8176</td></tr>",
                            "<tr><td>2017-02-14</td><td>NULL</td><td>10029</td></tr>",
                            "<tr><td>2017-02-15</td><td>NULL</td><td>6443</td></tr>",
                            "<tr><td>2017-02-16</td><td>NULL</td><td>8794</td></tr>",
                            "<tr><td>2017-02-17</td><td>NULL</td><td>9808</td></tr>",
                            "<tr><td>2017-02-18</td><td>NULL</td><td>10757</td></tr>",
                            "<tr><td>2017-02-19</td><td>NULL</td><td>8284</td></tr>",
                            "<tr><td>2017-02-20</td><td>NULL</td><td>5660</td></tr>",
                            "<tr><td>2017-02-21</td><td>NULL</td><td>8878</td></tr>",
                            "<tr><td>2017-02-22</td><td>NULL</td><td>9034</td></tr>",
                            "<tr><td>2017-02-23</td><td>NULL</td><td>7574</td></tr>",
                            "<tr><td>2017-02-24</td><td>NULL</td><td>6814</td></tr>",
                            "<tr><td>2017-02-25</td><td>NULL</td><td>6820</td></tr>",
                            "<tr><td>2017-02-26</td><td>NULL</td><td>8578</td></tr>",
                            "<tr><td>2017-02-27</td><td>NULL</td><td>9185</td></tr>",
                            "<tr><td>2017-02-28</td><td>NULL</td><td>11649</td></tr>",
                            "<tr><td>2017-03-01</td><td>NULL</td><td>5037</td></tr>",
                            "<tr><td>2017-03-02</td><td>NULL</td><td>4861</td></tr>",
                            "<tr><td>2017-03-03</td><td>NULL</td><td>7585</td></tr>",
                            "<tr><td>2017-03-04</td><td>NULL</td><td>5977</td></tr>",
                            "<tr><td>2017-03-05</td><td>NULL</td><td>10338</td></tr>",
                            "<tr><td>2017-03-06</td><td>NULL</td><td>10916</td></tr>",
                            "<tr><td>2017-03-07</td><td>NULL</td><td>8747</td></tr>",
                            "<tr><td>2017-03-08</td><td>NULL</td><td>6837</td></tr>",
                            "<tr><td>2017-03-09</td><td>NULL</td><td>6964</td></tr>",
                            "<tr><td>2017-03-10</td><td>NULL</td><td>6846</td></tr>",
                            "<tr><td>2017-03-11</td><td>NULL</td><td>6885</td></tr>",
                            "<tr><td>2017-03-12</td><td>NULL</td><td>5941</td></tr>",
                            "<tr><td>2017-03-13</td><td>NULL</td><td>6950</td></tr>",
                            "<tr><td>2017-03-14</td><td>NULL</td><td>7224</td></tr>",
                            "<tr><td>2017-03-15</td><td>NULL</td><td>9718</td></tr>",
                            "<tr><td>2017-03-16</td><td>NULL</td><td>9763</td></tr>",
                            "<tr><td>2017-03-17</td><td>NULL</td><td>8908</td></tr>",
                            "<tr><td>2017-03-18</td><td>NULL</td><td>9344</td></tr>",
                            "<tr><td>2017-03-19</td><td>NULL</td><td>9937</td></tr>",
                            "<tr><td>2017-03-20</td><td>NULL</td><td>7683</td></tr>",
                            "<tr><td>2017-03-21</td><td>NULL</td><td>8639</td></tr>",
                            "<tr><td>2017-03-22</td><td>NULL</td><td>6526</td></tr>",
                            "<tr><td>2017-03-23</td><td>NULL</td><td>8799</td></tr>",
                            "<tr><td>2017-03-24</td><td>NULL</td><td>7416</td></tr>",
                            "<tr><td>2017-03-25</td><td>NULL</td><td>6272</td></tr>",
                            "<tr><td>2017-03-26</td><td>NULL</td><td>7786</td></tr>",
                            "<tr><td>2017-03-27</td><td>NULL</td><td>7715</td></tr>",
                            "<tr><td>2017-03-28</td><td>NULL</td><td>8568</td></tr>",
                            "<tr><td>2017-03-29</td><td>NULL</td><td>8346</td></tr>",
                            "<tr><td>2017-03-30</td><td>NULL</td><td>8513</td></tr>",
                            "<tr><td>2017-03-31</td><td>NULL</td><td>8598</td></tr>",
                            "<tr><td>2017-04-01</td><td>NULL</td><td>7307</td></tr>",
                            "<tr><td>2017-04-02</td><td>NULL</td><td>9477</td></tr>",
                            "<tr><td>2017-04-03</td><td>NULL</td><td>6042</td></tr>",
                            "<tr><td>2017-04-04</td><td>NULL</td><td>7493</td></tr>",
                            "<tr><td>2017-04-05</td><td>NULL</td><td>7562</td></tr>",
                            "<tr><td>2017-04-06</td><td>NULL</td><td>4646</td></tr>",
                            "<tr><td>2017-04-07</td><td>NULL</td><td>5197</td></tr>",
                            "<tr><td>2017-04-08</td><td>NULL</td><td>3057</td></tr>",
                            "<tr><td>2017-04-09</td><td>NULL</td><td>3870</td></tr>",
                            "<tr><td>2017-04-10</td><td>NULL</td><td>1640</td></tr>",
                            "<tr><td>2017-04-11</td><td>NULL</td><td>1220</td></tr>",
                            "<tr><td>NULL</td><td>NULL</td><td>5578316</td></tr>",
                            "</table>"
                        ]
                    }
                }
            ],
            "execution_count": 15
        },
        {
            "cell_type": "markdown",
            "source": [
                "```\n",
                "3. Hány olyan ügyfél van, aki még nem rendelt semmit?\n",
                "```\n",
                "\n",
                "1. Csoportosítsuk őket nem szerint, azon belül életkor szerint!\n",
                "2. A lista tartalmazza a részösszegeket és a végösszeget is!\n",
                "\n",
                "![](https://moodle.uni-corvinus.hu/theme/image.php/adaptable/atto_h5p/1709548862/icon)"
            ],
            "metadata": {
                "azdata_cell_guid": "d7876bb9-76d0-4d07-baed-3cb17b2f96c3"
            },
            "attachments": {}
        },
        {
            "cell_type": "code",
            "source": [
                ""
            ],
            "metadata": {
                "azdata_cell_guid": "56ec19ce-e249-4551-b2a8-f17569765acc",
                "language": "sql"
            },
            "outputs": [],
            "execution_count": null
        },
        {
            "cell_type": "markdown",
            "source": [
                "4. <span style=\"color: rgb(36, 41, 47); font-family: -apple-system, BlinkMacSystemFont, &quot;Segoe UI&quot;, Helvetica, Arial, sans-serif, &quot;Apple Color Emoji&quot;, &quot;Segoe UI Emoji&quot;; font-size: 16px;\">Készítsünk listát a megrendelt termékek legkisebb és legnagyobb egységáráról szállítási dátum, azon belül szállítási mód szerinti bontásban!</span>\n",
                "\n",
                "1. A lista csak a 2015 májusi szállításokat tartalmazza!\n",
                "2. Jelenítsük meg a részösszegeket és a végösszeget is!"
            ],
            "metadata": {
                "azdata_cell_guid": "8e7fef82-8022-49a0-8255-fc2846c2134b"
            },
            "attachments": {}
        },
        {
            "cell_type": "code",
            "source": [
                ""
            ],
            "metadata": {
                "azdata_cell_guid": "36f7b396-4a1f-45e5-8720-2302537c91bc",
                "language": "sql"
            },
            "outputs": [],
            "execution_count": null
        },
        {
            "cell_type": "markdown",
            "source": [
                "5. <span style=\"color: rgb(36, 41, 47); font-family: -apple-system, BlinkMacSystemFont, &quot;Segoe UI&quot;, Helvetica, Arial, sans-serif, &quot;Apple Color Emoji&quot;, &quot;Segoe UI Emoji&quot;; font-size: 16px;\">Készítsünk csoportot a termékek listaára alapján a következők szerint:&nbsp;<br></span> <span style=\"color: rgb(36, 41, 47); font-family: -apple-system, BlinkMacSystemFont, &quot;Segoe UI&quot;, Helvetica, Arial, sans-serif, &quot;Apple Color Emoji&quot;, &quot;Segoe UI Emoji&quot;; font-size: 16px;\">Az \"olcsó\" termékek legyenek azok, amelyek listaára 3000 alatt van.<br>&nbsp;A \"drága\" termékek legyenek az 5000 felettiek, a többi legyen \"közepes\".</span>\n",
                "\n",
                "1. Listázzuk az egyes csoportokat, és a csoportokba tartozó termékek darabszámát!\n",
                "2. A lista jelenítse meg a végösszeget is!"
            ],
            "metadata": {
                "azdata_cell_guid": "84239ca2-6b5e-49f5-9860-d44c11d6de32"
            },
            "attachments": {}
        },
        {
            "cell_type": "code",
            "source": [
                ""
            ],
            "metadata": {
                "azdata_cell_guid": "06d9a62b-9430-424b-a135-d80e675f0eb3",
                "language": "sql"
            },
            "outputs": [],
            "execution_count": null
        },
        {
            "cell_type": "markdown",
            "source": [
                "6. <span style=\"font-weight: 600; color: rgb(36, 41, 47); font-family: -apple-system, BlinkMacSystemFont, &quot;Segoe UI&quot;, Helvetica, Arial, sans-serif, &quot;Apple Color Emoji&quot;, &quot;Segoe UI Emoji&quot;; font-size: 16px;\">Készítsünk listát az ügyfelek adatairól név szerinti sorrendben.</span>\n",
                "\n",
                "1. Minden sorban jelenjen meg a sorrend szerint előző, illetve következő ügyfél neve is.\n",
                "2. Ha nincs előző vagy következő ügyfél, akkor a 'Nincs' jelenjen meg!"
            ],
            "metadata": {
                "azdata_cell_guid": "b0d15045-3c43-4f3a-b8d4-76b4f24e5546"
            },
            "attachments": {}
        },
        {
            "cell_type": "code",
            "source": [
                ""
            ],
            "metadata": {
                "azdata_cell_guid": "f2b7400d-1255-40ac-9250-4d57f9da5357",
                "language": "sql"
            },
            "outputs": [],
            "execution_count": null
        },
        {
            "cell_type": "markdown",
            "source": [
                "7. <span style=\"font-weight: 600; color: rgb(36, 41, 47); font-family: -apple-system, BlinkMacSystemFont, &quot;Segoe UI&quot;, Helvetica, Arial, sans-serif, &quot;Apple Color Emoji&quot;, &quot;Segoe UI Emoji&quot;; font-size: 16px;\">Készítsünk lekérdezést, amely megmutatja, hogy melyik termékkategóriába hány termék tartozik. A lista a kategória nevét és a darabszámot jelenítse meg.</span>\n",
                "\n",
                "1. A lista ne tartalmazzon duplikált sorokat.\n",
                "2. A feladatot partíciók segítségével oldjuk meg!"
            ],
            "metadata": {
                "azdata_cell_guid": "7ebf7ddd-1bd2-4246-815a-be8ae37e3b5b"
            },
            "attachments": {}
        },
        {
            "cell_type": "code",
            "source": [
                "SELECT Distinct tk. KAT_NEV,\r\n",
                "       count(*) OVER(PARTITION BY tk.KAT_NEV)\r\n",
                "       --avg(listaar) OVER(PARTITION BY tk.KAT_NEV)\r\n",
                "FRom Termek t JOIN Termekkategoria tk on t.KAT_ID=tk.KAT_ID\r\n",
                ""
            ],
            "metadata": {
                "azdata_cell_guid": "84b7e896-f36e-4985-88f5-e0f706494fef",
                "language": "sql"
            },
            "outputs": [
                {
                    "output_type": "display_data",
                    "data": {
                        "text/html": "(143 rows affected)"
                    },
                    "metadata": {}
                },
                {
                    "output_type": "display_data",
                    "data": {
                        "text/html": "Total execution time: 00:00:00.018"
                    },
                    "metadata": {}
                },
                {
                    "output_type": "execute_result",
                    "metadata": {},
                    "execution_count": 18,
                    "data": {
                        "application/vnd.dataresource+json": {
                            "schema": {
                                "fields": [
                                    {
                                        "name": "KAT_NEV"
                                    },
                                    {
                                        "name": "(No column name)"
                                    },
                                    {
                                        "name": "(No column name)"
                                    }
                                ]
                            },
                            "data": [
                                {
                                    "KAT_NEV": "ajándék tárgy",
                                    "(No column name)": "75,33333333333333"
                                },
                                {
                                    "KAT_NEV": "ajándék tasak",
                                    "(No column name)": "125,4"
                                },
                                {
                                    "KAT_NEV": "álarc",
                                    "(No column name)": "125,66666666666667"
                                },
                                {
                                    "KAT_NEV": "alkalmi",
                                    "(No column name)": "21933,333333333332"
                                },
                                {
                                    "KAT_NEV": "alufólia",
                                    "(No column name)": "166"
                                },
                                {
                                    "KAT_NEV": "árazószalag",
                                    "(No column name)": "106"
                                },
                                {
                                    "KAT_NEV": "átírótömb",
                                    "(No column name)": "115"
                                },
                                {
                                    "KAT_NEV": "beíró",
                                    "(No column name)": "228"
                                },
                                {
                                    "KAT_NEV": "beírókönyv",
                                    "(No column name)": "230,5"
                                },
                                {
                                    "KAT_NEV": "bélyegző",
                                    "(No column name)": "988,5"
                                },
                                {
                                    "KAT_NEV": "bélyegzőfesték",
                                    "(No column name)": "297"
                                },
                                {
                                    "KAT_NEV": "boríték",
                                    "(No column name)": "14,571428571428571"
                                },
                                {
                                    "KAT_NEV": "cd tok",
                                    "(No column name)": "30"
                                },
                                {
                                    "KAT_NEV": "celofán",
                                    "(No column name)": "59,5"
                                },
                                {
                                    "KAT_NEV": "ceruza",
                                    "(No column name)": "48,421052631578945"
                                },
                                {
                                    "KAT_NEV": "címke",
                                    "(No column name)": "25,666666666666668"
                                },
                                {
                                    "KAT_NEV": "color copy",
                                    "(No column name)": "310,6"
                                },
                                {
                                    "KAT_NEV": "csomagoló",
                                    "(No column name)": "99,5"
                                },
                                {
                                    "KAT_NEV": "csomagoló papír",
                                    "(No column name)": "102,57142857142857"
                                },
                                {
                                    "KAT_NEV": "dekor",
                                    "(No column name)": "21,25"
                                },
                                {
                                    "KAT_NEV": "dipa",
                                    "(No column name)": "9"
                                },
                                {
                                    "KAT_NEV": "díszdoboz",
                                    "(No column name)": "57"
                                },
                                {
                                    "KAT_NEV": "díszkötöző",
                                    "(No column name)": "36,2"
                                },
                                {
                                    "KAT_NEV": "dvd",
                                    "(No column name)": "133"
                                },
                                {
                                    "KAT_NEV": "ecset",
                                    "(No column name)": "70,42857142857143"
                                },
                                {
                                    "KAT_NEV": "előlap",
                                    "(No column name)": "25"
                                },
                                {
                                    "KAT_NEV": "emlékkönyv",
                                    "(No column name)": "430,3333333333333"
                                },
                                {
                                    "KAT_NEV": "emléklap",
                                    "(No column name)": "26"
                                },
                                {
                                    "KAT_NEV": "fax papír",
                                    "(No column name)": "161"
                                },
                                {
                                    "KAT_NEV": "fehérnemű",
                                    "(No column name)": "561,4285714285714"
                                },
                                {
                                    "KAT_NEV": "fénymásoló papír",
                                    "(No column name)": "895"
                                },
                                {
                                    "KAT_NEV": "férfi ing",
                                    "(No column name)": "6490"
                                },
                                {
                                    "KAT_NEV": "férfi kabát",
                                    "(No column name)": "22000"
                                },
                                {
                                    "KAT_NEV": "férfi nadrág",
                                    "(No column name)": "9895"
                                },
                                {
                                    "KAT_NEV": "festékpatron",
                                    "(No column name)": "625"
                                },
                                {
                                    "KAT_NEV": "filctoll",
                                    "(No column name)": "182,30769230769232"
                                },
                                {
                                    "KAT_NEV": "floppy",
                                    "(No column name)": "51"
                                },
                                {
                                    "KAT_NEV": "fólia",
                                    "(No column name)": "42,666666666666664"
                                },
                                {
                                    "KAT_NEV": "fotópapír",
                                    "(No column name)": "30"
                                },
                                {
                                    "KAT_NEV": "füzet",
                                    "(No column name)": "95,18181818181819"
                                },
                                {
                                    "KAT_NEV": "füzetborító",
                                    "(No column name)": "42,57142857142857"
                                },
                                {
                                    "KAT_NEV": "füzettartó",
                                    "(No column name)": "418,25"
                                },
                                {
                                    "KAT_NEV": "gemkapocs",
                                    "(No column name)": "39"
                                },
                                {
                                    "KAT_NEV": "gémkapocs",
                                    "(No column name)": "73,5"
                                },
                                {
                                    "KAT_NEV": "genoterm",
                                    "(No column name)": "89"
                                },
                                {
                                    "KAT_NEV": "genotherm",
                                    "(No column name)": "60,333333333333336"
                                },
                                {
                                    "KAT_NEV": "golyóstoll",
                                    "(No column name)": "255,8846153846154"
                                },
                                {
                                    "KAT_NEV": "gumigyűrű",
                                    "(No column name)": "19"
                                },
                                {
                                    "KAT_NEV": "gyermek cipő",
                                    "(No column name)": "7600"
                                },
                                {
                                    "KAT_NEV": "gyermek kabát",
                                    "(No column name)": "8900"
                                },
                                {
                                    "KAT_NEV": "gyermek nadrág",
                                    "(No column name)": "3140"
                                },
                                {
                                    "KAT_NEV": "gyermek póló",
                                    "(No column name)": "3900"
                                },
                                {
                                    "KAT_NEV": "gyorsfűző",
                                    "(No column name)": "27,666666666666668"
                                },
                                {
                                    "KAT_NEV": "gyurma",
                                    "(No column name)": "172,5"
                                },
                                {
                                    "KAT_NEV": "gyűrűskönyv",
                                    "(No column name)": "355,4"
                                },
                                {
                                    "KAT_NEV": "hajgumi",
                                    "(No column name)": "66"
                                },
                                {
                                    "KAT_NEV": "határidő napló",
                                    "(No column name)": "596"
                                },
                                {
                                    "KAT_NEV": "hegyező",
                                    "(No column name)": "239,5"
                                },
                                {
                                    "KAT_NEV": "hegyző",
                                    "(No column name)": "125"
                                },
                                {
                                    "KAT_NEV": "hibajavító",
                                    "(No column name)": "290"
                                },
                                {
                                    "KAT_NEV": "hűtőmágnes",
                                    "(No column name)": "96,5"
                                },
                                {
                                    "KAT_NEV": "indigó",
                                    "(No column name)": "13,5"
                                },
                                {
                                    "KAT_NEV": "írásvetítő fólia",
                                    "(No column name)": "81"
                                },
                                {
                                    "KAT_NEV": "iratgyűjtő",
                                    "(No column name)": "57"
                                },
                                {
                                    "KAT_NEV": "iratrendező",
                                    "(No column name)": "251"
                                },
                                {
                                    "KAT_NEV": "iratsín",
                                    "(No column name)": "66,5"
                                },
                                {
                                    "KAT_NEV": "irattartó",
                                    "(No column name)": "140"
                                },
                                {
                                    "KAT_NEV": "irodaszer",
                                    "(No column name)": "59"
                                },
                                {
                                    "KAT_NEV": "írólap",
                                    "(No column name)": "31,5"
                                },
                                {
                                    "KAT_NEV": "ironbél",
                                    "(No column name)": "54"
                                },
                                {
                                    "KAT_NEV": "iskolaszer",
                                    "(No column name)": "84,91666666666667"
                                },
                                {
                                    "KAT_NEV": "játékautó",
                                    "(No column name)": "109"
                                },
                                {
                                    "KAT_NEV": "jelzőkréta",
                                    "(No column name)": "48"
                                },
                                {
                                    "KAT_NEV": "kapocskiszedő",
                                    "(No column name)": "106"
                                },
                                {
                                    "KAT_NEV": "karton",
                                    "(No column name)": "46"
                                },
                                {
                                    "KAT_NEV": "kártya",
                                    "(No column name)": "131"
                                },
                                {
                                    "KAT_NEV": "képeslap",
                                    "(No column name)": "60,1875"
                                },
                                {
                                    "KAT_NEV": "képkirakó",
                                    "(No column name)": "195"
                                },
                                {
                                    "KAT_NEV": "kosztüm",
                                    "(No column name)": "42500"
                                },
                                {
                                    "KAT_NEV": "könyv",
                                    "(No column name)": "621,1333333333333"
                                },
                                {
                                    "KAT_NEV": "körző",
                                    "(No column name)": "144,66666666666666"
                                },
                                {
                                    "KAT_NEV": "kreatív",
                                    "(No column name)": "8,5"
                                },
                                {
                                    "KAT_NEV": "kulcstartó",
                                    "(No column name)": "115,71428571428571"
                                },
                                {
                                    "KAT_NEV": "labda",
                                    "(No column name)": "95,5"
                                },
                                {
                                    "KAT_NEV": "levélpapír",
                                    "(No column name)": "92,28571428571429"
                                },
                                {
                                    "KAT_NEV": "lufi",
                                    "(No column name)": "13"
                                },
                                {
                                    "KAT_NEV": "lyukasztó",
                                    "(No column name)": "645,5"
                                },
                                {
                                    "KAT_NEV": "mappa",
                                    "(No column name)": "392"
                                },
                                {
                                    "KAT_NEV": "matrica",
                                    "(No column name)": "106,3"
                                },
                                {
                                    "KAT_NEV": "meghívó",
                                    "(No column name)": "111,5"
                                },
                                {
                                    "KAT_NEV": "miliméterpapír",
                                    "(No column name)": "8"
                                },
                                {
                                    "KAT_NEV": "munkafüzet",
                                    "(No column name)": "385,3333333333333"
                                },
                                {
                                    "KAT_NEV": "műnyomó",
                                    "(No column name)": "3"
                                },
                                {
                                    "KAT_NEV": "naptár",
                                    "(No column name)": "89"
                                },
                                {
                                    "KAT_NEV": "naptárhát",
                                    "(No column name)": "46,5"
                                },
                                {
                                    "KAT_NEV": "névjegytartó",
                                    "(No column name)": "310"
                                },
                                {
                                    "KAT_NEV": "notesz",
                                    "(No column name)": "79"
                                },
                                {
                                    "KAT_NEV": "női kabát",
                                    "(No column name)": "24000"
                                },
                                {
                                    "KAT_NEV": "női nadrág",
                                    "(No column name)": "8290"
                                },
                                {
                                    "KAT_NEV": "ofszet",
                                    "(No column name)": "4"
                                },
                                {
                                    "KAT_NEV": "oklevél",
                                    "(No column name)": "51,5"
                                },
                                {
                                    "KAT_NEV": "olló",
                                    "(No column name)": "156,66666666666666"
                                },
                                {
                                    "KAT_NEV": "öntapadó",
                                    "(No column name)": "2317"
                                },
                                {
                                    "KAT_NEV": "papízsebkendő",
                                    "(No column name)": "20"
                                },
                                {
                                    "KAT_NEV": "pausz",
                                    "(No column name)": "15"
                                },
                                {
                                    "KAT_NEV": "pénztárbizonylat",
                                    "(No column name)": "123,5"
                                },
                                {
                                    "KAT_NEV": "pénztárgépszalag",
                                    "(No column name)": "87"
                                },
                                {
                                    "KAT_NEV": "pixiron",
                                    "(No column name)": "194,22222222222223"
                                },
                                {
                                    "KAT_NEV": "plüss",
                                    "(No column name)": "216"
                                },
                                {
                                    "KAT_NEV": "post-it",
                                    "(No column name)": "62,5"
                                },
                                {
                                    "KAT_NEV": "radír",
                                    "(No column name)": "40,285714285714285"
                                },
                                {
                                    "KAT_NEV": "radírtoll",
                                    "(No column name)": "96,5"
                                },
                                {
                                    "KAT_NEV": "ragasztó",
                                    "(No column name)": "162,4"
                                },
                                {
                                    "KAT_NEV": "ragasztószalag",
                                    "(No column name)": "74,75"
                                },
                                {
                                    "KAT_NEV": "rágógumi",
                                    "(No column name)": "89"
                                },
                                {
                                    "KAT_NEV": "rajzlap",
                                    "(No column name)": "185"
                                },
                                {
                                    "KAT_NEV": "rajzszeg",
                                    "(No column name)": "84,5"
                                },
                                {
                                    "KAT_NEV": "regiszteres füzet",
                                    "(No column name)": "229,5"
                                },
                                {
                                    "KAT_NEV": "sál",
                                    "(No column name)": "1990"
                                },
                                {
                                    "KAT_NEV": "spirál",
                                    "(No column name)": "45"
                                },
                                {
                                    "KAT_NEV": "strandlabda",
                                    "(No column name)": "356"
                                },
                                {
                                    "KAT_NEV": "szalvéta",
                                    "(No column name)": "157,66666666666666"
                                },
                                {
                                    "KAT_NEV": "számológép",
                                    "(No column name)": "840,5"
                                },
                                {
                                    "KAT_NEV": "szemetes",
                                    "(No column name)": "129"
                                },
                                {
                                    "KAT_NEV": "színes",
                                    "(No column name)": "130"
                                },
                                {
                                    "KAT_NEV": "szögmérő",
                                    "(No column name)": "14,333333333333334"
                                },
                                {
                                    "KAT_NEV": "szövegkiemelő",
                                    "(No column name)": "100,6"
                                },
                                {
                                    "KAT_NEV": "táblafilc",
                                    "(No column name)": "633"
                                },
                                {
                                    "KAT_NEV": "tapétavágó",
                                    "(No column name)": "40"
                                },
                                {
                                    "KAT_NEV": "tempera",
                                    "(No column name)": "72"
                                },
                                {
                                    "KAT_NEV": "térképtű",
                                    "(No column name)": "103"
                                },
                                {
                                    "KAT_NEV": "tintapatron",
                                    "(No column name)": "126,66666666666667"
                                },
                                {
                                    "KAT_NEV": "toll",
                                    "(No column name)": "77"
                                },
                                {
                                    "KAT_NEV": "tollbetét",
                                    "(No column name)": "101,66666666666667"
                                },
                                {
                                    "KAT_NEV": "tolltartó",
                                    "(No column name)": "574,4285714285714"
                                },
                                {
                                    "KAT_NEV": "toner",
                                    "(No column name)": "14250"
                                },
                                {
                                    "KAT_NEV": "töltőtoll",
                                    "(No column name)": "493"
                                },
                                {
                                    "KAT_NEV": "tűzőgép",
                                    "(No column name)": "819,8333333333334"
                                },
                                {
                                    "KAT_NEV": "tűzőkapocs",
                                    "(No column name)": "39"
                                },
                                {
                                    "KAT_NEV": "vízfesték",
                                    "(No column name)": "203,75"
                                },
                                {
                                    "KAT_NEV": "vonalzó",
                                    "(No column name)": "35,166666666666664"
                                },
                                {
                                    "KAT_NEV": "zászló",
                                    "(No column name)": "20"
                                },
                                {
                                    "KAT_NEV": "zseléstoll",
                                    "(No column name)": "137,5"
                                }
                            ]
                        },
                        "text/html": [
                            "<table>",
                            "<tr><th>KAT_NEV</th><th>(No column name)</th><th>(No column name)</th></tr>",
                            "<tr><td>ajándék tárgy</td><td>3</td><td>75,33333333333333</td></tr>",
                            "<tr><td>ajándék tasak</td><td>20</td><td>125,4</td></tr>",
                            "<tr><td>álarc</td><td>3</td><td>125,66666666666667</td></tr>",
                            "<tr><td>alkalmi</td><td>3</td><td>21933,333333333332</td></tr>",
                            "<tr><td>alufólia</td><td>2</td><td>166</td></tr>",
                            "<tr><td>árazószalag</td><td>1</td><td>106</td></tr>",
                            "<tr><td>átírótömb</td><td>1</td><td>115</td></tr>",
                            "<tr><td>beíró</td><td>1</td><td>228</td></tr>",
                            "<tr><td>beírókönyv</td><td>2</td><td>230,5</td></tr>",
                            "<tr><td>bélyegző</td><td>4</td><td>988,5</td></tr>",
                            "<tr><td>bélyegzőfesték</td><td>1</td><td>297</td></tr>",
                            "<tr><td>boríték</td><td>7</td><td>14,571428571428571</td></tr>",
                            "<tr><td>cd tok</td><td>1</td><td>30</td></tr>",
                            "<tr><td>celofán</td><td>2</td><td>59,5</td></tr>",
                            "<tr><td>ceruza</td><td>19</td><td>48,421052631578945</td></tr>",
                            "<tr><td>címke</td><td>3</td><td>25,666666666666668</td></tr>",
                            "<tr><td>color copy</td><td>5</td><td>310,6</td></tr>",
                            "<tr><td>csomagoló</td><td>2</td><td>99,5</td></tr>",
                            "<tr><td>csomagoló papír</td><td>7</td><td>102,57142857142857</td></tr>",
                            "<tr><td>dekor</td><td>4</td><td>21,25</td></tr>",
                            "<tr><td>dipa</td><td>1</td><td>9</td></tr>",
                            "<tr><td>díszdoboz</td><td>3</td><td>57</td></tr>",
                            "<tr><td>díszkötöző</td><td>5</td><td>36,2</td></tr>",
                            "<tr><td>dvd</td><td>1</td><td>133</td></tr>",
                            "<tr><td>ecset</td><td>7</td><td>70,42857142857143</td></tr>",
                            "<tr><td>előlap</td><td>1</td><td>25</td></tr>",
                            "<tr><td>emlékkönyv</td><td>3</td><td>430,3333333333333</td></tr>",
                            "<tr><td>emléklap</td><td>1</td><td>26</td></tr>",
                            "<tr><td>fax papír</td><td>1</td><td>161</td></tr>",
                            "<tr><td>fehérnemű</td><td>7</td><td>561,4285714285714</td></tr>",
                            "<tr><td>fénymásoló papír</td><td>5</td><td>895</td></tr>",
                            "<tr><td>férfi ing</td><td>1</td><td>6490</td></tr>",
                            "<tr><td>férfi kabát</td><td>1</td><td>22000</td></tr>",
                            "<tr><td>férfi nadrág</td><td>2</td><td>9895</td></tr>",
                            "<tr><td>festékpatron</td><td>1</td><td>625</td></tr>",
                            "<tr><td>filctoll</td><td>13</td><td>182,30769230769232</td></tr>",
                            "<tr><td>floppy</td><td>1</td><td>51</td></tr>",
                            "<tr><td>fólia</td><td>3</td><td>42,666666666666664</td></tr>",
                            "<tr><td>fotópapír</td><td>1</td><td>30</td></tr>",
                            "<tr><td>füzet</td><td>11</td><td>95,18181818181819</td></tr>",
                            "<tr><td>füzetborító</td><td>7</td><td>42,57142857142857</td></tr>",
                            "<tr><td>füzettartó</td><td>4</td><td>418,25</td></tr>",
                            "<tr><td>gemkapocs</td><td>2</td><td>39</td></tr>",
                            "<tr><td>gémkapocs</td><td>2</td><td>73,5</td></tr>",
                            "<tr><td>genoterm</td><td>1</td><td>89</td></tr>",
                            "<tr><td>genotherm</td><td>3</td><td>60,333333333333336</td></tr>",
                            "<tr><td>golyóstoll</td><td>26</td><td>255,8846153846154</td></tr>",
                            "<tr><td>gumigyűrű</td><td>1</td><td>19</td></tr>",
                            "<tr><td>gyermek cipő</td><td>6</td><td>7600</td></tr>",
                            "<tr><td>gyermek kabát</td><td>2</td><td>8900</td></tr>",
                            "<tr><td>gyermek nadrág</td><td>4</td><td>3140</td></tr>",
                            "<tr><td>gyermek póló</td><td>2</td><td>3900</td></tr>",
                            "<tr><td>gyorsfűző</td><td>3</td><td>27,666666666666668</td></tr>",
                            "<tr><td>gyurma</td><td>4</td><td>172,5</td></tr>",
                            "<tr><td>gyűrűskönyv</td><td>5</td><td>355,4</td></tr>",
                            "<tr><td>hajgumi</td><td>1</td><td>66</td></tr>",
                            "<tr><td>határidő napló</td><td>2</td><td>596</td></tr>",
                            "<tr><td>hegyező</td><td>4</td><td>239,5</td></tr>",
                            "<tr><td>hegyző</td><td>2</td><td>125</td></tr>",
                            "<tr><td>hibajavító</td><td>7</td><td>290</td></tr>",
                            "<tr><td>hűtőmágnes</td><td>2</td><td>96,5</td></tr>",
                            "<tr><td>indigó</td><td>2</td><td>13,5</td></tr>",
                            "<tr><td>írásvetítő fólia</td><td>1</td><td>81</td></tr>",
                            "<tr><td>iratgyűjtő</td><td>3</td><td>57</td></tr>",
                            "<tr><td>iratrendező</td><td>2</td><td>251</td></tr>",
                            "<tr><td>iratsín</td><td>2</td><td>66,5</td></tr>",
                            "<tr><td>irattartó</td><td>2</td><td>140</td></tr>",
                            "<tr><td>irodaszer</td><td>1</td><td>59</td></tr>",
                            "<tr><td>írólap</td><td>2</td><td>31,5</td></tr>",
                            "<tr><td>ironbél</td><td>5</td><td>54</td></tr>",
                            "<tr><td>iskolaszer</td><td>24</td><td>84,91666666666667</td></tr>",
                            "<tr><td>játékautó</td><td>4</td><td>109</td></tr>",
                            "<tr><td>jelzőkréta</td><td>1</td><td>48</td></tr>",
                            "<tr><td>kapocskiszedő</td><td>1</td><td>106</td></tr>",
                            "<tr><td>karton</td><td>6</td><td>46</td></tr>",
                            "<tr><td>kártya</td><td>1</td><td>131</td></tr>",
                            "<tr><td>képeslap</td><td>16</td><td>60,1875</td></tr>",
                            "<tr><td>képkirakó</td><td>1</td><td>195</td></tr>",
                            "<tr><td>kosztüm</td><td>2</td><td>42500</td></tr>",
                            "<tr><td>könyv</td><td>15</td><td>621,1333333333333</td></tr>",
                            "<tr><td>körző</td><td>3</td><td>144,66666666666666</td></tr>",
                            "<tr><td>kreatív</td><td>2</td><td>8,5</td></tr>",
                            "<tr><td>kulcstartó</td><td>7</td><td>115,71428571428571</td></tr>",
                            "<tr><td>labda</td><td>2</td><td>95,5</td></tr>",
                            "<tr><td>levélpapír</td><td>7</td><td>92,28571428571429</td></tr>",
                            "<tr><td>lufi</td><td>2</td><td>13</td></tr>",
                            "<tr><td>lyukasztó</td><td>2</td><td>645,5</td></tr>",
                            "<tr><td>mappa</td><td>9</td><td>392</td></tr>",
                            "<tr><td>matrica</td><td>10</td><td>106,3</td></tr>",
                            "<tr><td>meghívó</td><td>4</td><td>111,5</td></tr>",
                            "<tr><td>miliméterpapír</td><td>1</td><td>8</td></tr>",
                            "<tr><td>munkafüzet</td><td>9</td><td>385,3333333333333</td></tr>",
                            "<tr><td>műnyomó</td><td>1</td><td>3</td></tr>",
                            "<tr><td>naptár</td><td>1</td><td>89</td></tr>",
                            "<tr><td>naptárhát</td><td>2</td><td>46,5</td></tr>",
                            "<tr><td>névjegytartó</td><td>1</td><td>310</td></tr>",
                            "<tr><td>notesz</td><td>5</td><td>79</td></tr>",
                            "<tr><td>női kabát</td><td>1</td><td>24000</td></tr>",
                            "<tr><td>női nadrág</td><td>1</td><td>8290</td></tr>",
                            "<tr><td>ofszet</td><td>1</td><td>4</td></tr>",
                            "<tr><td>oklevél</td><td>2</td><td>51,5</td></tr>",
                            "<tr><td>olló</td><td>3</td><td>156,66666666666666</td></tr>",
                            "<tr><td>öntapadó</td><td>2</td><td>2317</td></tr>",
                            "<tr><td>papízsebkendő</td><td>1</td><td>20</td></tr>",
                            "<tr><td>pausz</td><td>1</td><td>15</td></tr>",
                            "<tr><td>pénztárbizonylat</td><td>2</td><td>123,5</td></tr>",
                            "<tr><td>pénztárgépszalag</td><td>2</td><td>87</td></tr>",
                            "<tr><td>pixiron</td><td>9</td><td>194,22222222222223</td></tr>",
                            "<tr><td>plüss</td><td>3</td><td>216</td></tr>",
                            "<tr><td>post-it</td><td>2</td><td>62,5</td></tr>",
                            "<tr><td>radír</td><td>7</td><td>40,285714285714285</td></tr>",
                            "<tr><td>radírtoll</td><td>2</td><td>96,5</td></tr>",
                            "<tr><td>ragasztó</td><td>10</td><td>162,4</td></tr>",
                            "<tr><td>ragasztószalag</td><td>4</td><td>74,75</td></tr>",
                            "<tr><td>rágógumi</td><td>1</td><td>89</td></tr>",
                            "<tr><td>rajzlap</td><td>2</td><td>185</td></tr>",
                            "<tr><td>rajzszeg</td><td>2</td><td>84,5</td></tr>",
                            "<tr><td>regiszteres füzet</td><td>2</td><td>229,5</td></tr>",
                            "<tr><td>sál</td><td>1</td><td>1990</td></tr>",
                            "<tr><td>spirál</td><td>1</td><td>45</td></tr>",
                            "<tr><td>strandlabda</td><td>1</td><td>356</td></tr>",
                            "<tr><td>szalvéta</td><td>6</td><td>157,66666666666666</td></tr>",
                            "<tr><td>számológép</td><td>2</td><td>840,5</td></tr>",
                            "<tr><td>szemetes</td><td>1</td><td>129</td></tr>",
                            "<tr><td>színes</td><td>2</td><td>130</td></tr>",
                            "<tr><td>szögmérő</td><td>3</td><td>14,333333333333334</td></tr>",
                            "<tr><td>szövegkiemelő</td><td>5</td><td>100,6</td></tr>",
                            "<tr><td>táblafilc</td><td>1</td><td>633</td></tr>",
                            "<tr><td>tapétavágó</td><td>1</td><td>40</td></tr>",
                            "<tr><td>tempera</td><td>2</td><td>72</td></tr>",
                            "<tr><td>térképtű</td><td>1</td><td>103</td></tr>",
                            "<tr><td>tintapatron</td><td>3</td><td>126,66666666666667</td></tr>",
                            "<tr><td>toll</td><td>2</td><td>77</td></tr>",
                            "<tr><td>tollbetét</td><td>18</td><td>101,66666666666667</td></tr>",
                            "<tr><td>tolltartó</td><td>7</td><td>574,4285714285714</td></tr>",
                            "<tr><td>toner</td><td>1</td><td>14250</td></tr>",
                            "<tr><td>töltőtoll</td><td>1</td><td>493</td></tr>",
                            "<tr><td>tűzőgép</td><td>6</td><td>819,8333333333334</td></tr>",
                            "<tr><td>tűzőkapocs</td><td>2</td><td>39</td></tr>",
                            "<tr><td>vízfesték</td><td>4</td><td>203,75</td></tr>",
                            "<tr><td>vonalzó</td><td>6</td><td>35,166666666666664</td></tr>",
                            "<tr><td>zászló</td><td>1</td><td>20</td></tr>",
                            "<tr><td>zseléstoll</td><td>4</td><td>137,5</td></tr>",
                            "</table>"
                        ]
                    }
                }
            ],
            "execution_count": 18
        },
        {
            "cell_type": "markdown",
            "source": [
                "8. <span style=\"font-weight: 600; color: rgb(36, 41, 47); font-family: -apple-system, BlinkMacSystemFont, &quot;Segoe UI&quot;, Helvetica, Arial, sans-serif, &quot;Apple Color Emoji&quot;, &quot;Segoe UI Emoji&quot;; font-size: 16px;\">Készítsünk listát a rendelési tételekről. Az egyes rendelési tételeket termékenként soroljuk be 4 osztályba a rendelés mennyisége alapján. Jelenítsük meg ezt az információt is egy új oszlopban, az oszlop neve legyen 'Mennyiségi kategória'.</span>\n",
                "\n",
                "1. A lista csak a 100 Ft feletti egységárú rendelési tételeket vegye figyelembe!"
            ],
            "metadata": {
                "azdata_cell_guid": "27a3d3dc-eafb-4a5e-b103-9f465b9eda8f"
            },
            "attachments": {}
        },
        {
            "cell_type": "code",
            "source": [
                ""
            ],
            "metadata": {
                "azdata_cell_guid": "f09edb3f-649b-4a96-958e-9e12774ae8b7",
                "language": "sql"
            },
            "outputs": [],
            "execution_count": null
        },
        {
            "cell_type": "markdown",
            "source": [
                "9. <span style=\"font-weight: 600; color: rgb(36, 41, 47); font-family: -apple-system, BlinkMacSystemFont, &quot;Segoe UI&quot;, Helvetica, Arial, sans-serif, &quot;Apple Color Emoji&quot;, &quot;Segoe UI Emoji&quot;; font-size: 16px;\">Listázzuk a termékek kódját, megnevezését, kategóriájának nevét, és listaárát.</span>\n",
                "\n",
                "1. A listát egészítsük ki két új oszloppal, amelyek a kategória legolcsóbb, illetve legdrágább termékének árát tartalmazzák.\n",
                "2. A két új oszlop létrehozásánál partíciókkal dolgozzunk!"
            ],
            "metadata": {
                "azdata_cell_guid": "f12a331a-0e26-4d3d-9c68-812316286577"
            },
            "attachments": {}
        },
        {
            "cell_type": "code",
            "source": [
                ""
            ],
            "metadata": {
                "azdata_cell_guid": "10a77fc9-e61a-46fc-a401-59720d82bc50",
                "language": "sql"
            },
            "outputs": [],
            "execution_count": null
        },
        {
            "cell_type": "markdown",
            "source": [
                "10. <span style=\"font-weight: 600; color: rgb(36, 41, 47); font-family: -apple-system, BlinkMacSystemFont, &quot;Segoe UI&quot;, Helvetica, Arial, sans-serif, &quot;Apple Color Emoji&quot;, &quot;Segoe UI Emoji&quot;; font-size: 16px;\">Készítsünk listát a rendelésekről. A lista legyen rendezve ügyfelenként (LOGIN), azon belül a rendelés dátuma szerint. A listához készítsünk sorszámozást is. A sorszám a következő formában jelenjen meg: sorszám_év_login. Pl: 1_2015_adam1</span>\n",
                "\n",
                "1. A számozás login-onként, azon belül rendelési évenként kezdődjön újra.\n",
                "2. A sorszám oszlop neve legyen Azonosító"
            ],
            "metadata": {
                "azdata_cell_guid": "9229e2b6-e200-4499-b95b-2d0222149831"
            },
            "attachments": {}
        },
        {
            "cell_type": "code",
            "source": [
                ""
            ],
            "metadata": {
                "azdata_cell_guid": "8b49ed67-28c6-4880-82a8-cd369e5bba99",
                "language": "sql"
            },
            "outputs": [],
            "execution_count": null
        },
        {
            "cell_type": "markdown",
            "source": [
                "11. <span style=\"color: rgb(36, 41, 47); font-family: -apple-system, BlinkMacSystemFont, &quot;Segoe UI&quot;, Helvetica, Arial, sans-serif, &quot;Apple Color Emoji&quot;, &quot;Segoe UI Emoji&quot;; font-size: 16px;\">Készítsünk listát a termékek adatairól listaár szerint növekvő sorrendben! A lista jelenítse meg két új oszlopban a sorrend szerint előző, illetve következő termék listaárát is a termék saját kategóriájában és raktárában!</span>\n",
                "\n",
                "1. Ahol nincs előző vagy következő érték, ott 0 jelenjen meg!\n",
                "2. Az oszlopokat nevezzük el értelemszerűen!"
            ],
            "metadata": {
                "azdata_cell_guid": "7f5fc7a7-3b6a-4d89-b292-490830afb0c6"
            },
            "attachments": {}
        },
        {
            "cell_type": "code",
            "source": [
                ""
            ],
            "metadata": {
                "azdata_cell_guid": "4a9ece40-f782-4c0d-92cd-9c21969067ed",
                "language": "sql"
            },
            "outputs": [],
            "execution_count": null
        },
        {
            "cell_type": "markdown",
            "source": [
                "12. <span style=\"color: rgb(36, 41, 47); font-family: -apple-system, BlinkMacSystemFont, &quot;Segoe UI&quot;, Helvetica, Arial, sans-serif, &quot;Apple Color Emoji&quot;, &quot;Segoe UI Emoji&quot;; font-size: 16px;\">Listázzuk a termékek kódját, nevét és listaárát listaár szerinti sorrendben!</span>\n",
                "\n",
                "1. Vegyünk fel egy új oszlopot Mozgóátlag néven, amely minden esetben az aktuális termék, az előző, és a következő termék átlagárát tartalmazza!\n",
                "2. A mozgóátlagot kerekítsük két tizedesre!"
            ],
            "metadata": {
                "azdata_cell_guid": "5a483c52-bb98-44bb-bd03-1146d4b0abfa"
            },
            "attachments": {}
        },
        {
            "cell_type": "code",
            "source": [
                ""
            ],
            "metadata": {
                "azdata_cell_guid": "dd6e89bd-08f9-4b18-8460-03c45b503df0",
                "language": "sql"
            },
            "outputs": [],
            "execution_count": null
        },
        {
            "cell_type": "markdown",
            "source": [
                "13. <span style=\"color: rgb(36, 41, 47); font-family: -apple-system, BlinkMacSystemFont, &quot;Segoe UI&quot;, Helvetica, Arial, sans-serif, &quot;Apple Color Emoji&quot;, &quot;Segoe UI Emoji&quot;; font-size: 16px;\">Készítsünk listát, amely a rendelések sorszámát és a rendelés értékét tartalmazza. A listát egészítsük ki egy új oszloppal, amely minden rendelés esetén addigi rendelések összegét tartalmazza (az aktuálisat is beleértve)!</span>\n",
                "\n",
                "1. A listát rendezzük sorszám szerint növekvő sorrendbe.\n",
                "2. A lista ne tartalmazzon duplikált sorokat!"
            ],
            "metadata": {
                "azdata_cell_guid": "85d5cb66-96c6-42de-99cf-85ab22d08548"
            },
            "attachments": {}
        },
        {
            "cell_type": "code",
            "source": [
                ""
            ],
            "metadata": {
                "azdata_cell_guid": "cb07d64b-0eaa-498b-b4d2-0b46971e95ce",
                "language": "sql"
            },
            "outputs": [],
            "execution_count": null
        },
        {
            "cell_type": "markdown",
            "source": [
                "14. <span style=\"color: rgb(36, 41, 47); font-family: -apple-system, BlinkMacSystemFont, &quot;Segoe UI&quot;, Helvetica, Arial, sans-serif, &quot;Apple Color Emoji&quot;, &quot;Segoe UI Emoji&quot;; font-size: 16px;\">Készítsünk listát a termékek kódjáról, nevéről, kategória azonosítójáról, raktár azonosítójáról és listaáráról, valamint a termék adott szempontok szerinti rangsorokban elfoglalt helyezéseiről. (Szempontonként külön oszlopban, a helyezéseknél növekvő sorrendet feltételezve). A szempontok a következők legyenek: listaár, kategória szerinti listaár, és raktárkód szerinti listaár.</span>\n",
                "\n",
                "1. Az oszlopokat nevezzük el értelemszerűen.\n",
                "2. A helyezések egyenlőség esetén \"sűrűn\" kövessék egymást.\n",
                "3. A lista legyen rendezett kategória azonosító, azon belül listaár szerint!"
            ],
            "metadata": {
                "azdata_cell_guid": "f95ad665-a807-4099-bf06-64ed974f866f"
            },
            "attachments": {}
        },
        {
            "cell_type": "code",
            "source": [
                ""
            ],
            "metadata": {
                "azdata_cell_guid": "74c7ec8a-ae4a-4d03-b1c4-e8f6bb1be12c",
                "language": "sql"
            },
            "outputs": [],
            "execution_count": null
        },
        {
            "cell_type": "markdown",
            "source": [
                "15. <span style=\"color: rgb(36, 41, 47); font-family: -apple-system, BlinkMacSystemFont, &quot;Segoe UI&quot;, Helvetica, Arial, sans-serif, &quot;Apple Color Emoji&quot;, &quot;Segoe UI Emoji&quot;; font-size: 16px;\">Készítsünk listát a rendelési tételekről, amely minden sor esetén göngyölítve tartalmazza az ügyfél adott rendelési tételig meglévő rendelési tételeinek összértékét!</span>\n",
                "\n",
                "1. Az új oszlop neve legyen Eddigi rendelési tételek összértéke!\n",
                "2. Az ügyfél neve is jelenjen meg!"
            ],
            "metadata": {
                "azdata_cell_guid": "93552388-ffec-49ff-99e5-ae8dc8072601"
            },
            "attachments": {}
        },
        {
            "cell_type": "code",
            "source": [
                ""
            ],
            "metadata": {
                "azdata_cell_guid": "0e7f547f-7d96-4611-b1c2-0fa84a581e79",
                "language": "sql"
            },
            "outputs": [],
            "execution_count": null
        }
    ]
}